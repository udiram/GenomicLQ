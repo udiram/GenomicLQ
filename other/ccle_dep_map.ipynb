{
 "cells": [
  {
   "cell_type": "code",
   "execution_count": 1,
   "outputs": [],
   "source": [
    "import pandas as pd"
   ],
   "metadata": {
    "collapsed": false,
    "pycharm": {
     "name": "#%%\n"
    }
   }
  },
  {
   "cell_type": "code",
   "execution_count": 8,
   "outputs": [
    {
     "data": {
      "text/plain": "   Unnamed: 0  TSPAN6 (7105)  TNMD (64102)  DPM1 (8813)  SCYL3 (57147)  \\\n0  ACH-001113       4.331992      0.000000     7.364397       2.792855   \n1  ACH-001289       4.566815      0.584963     7.106537       2.543496   \n2  ACH-001339       3.150560      0.000000     7.379032       2.333424   \n3  ACH-001538       5.085340      0.000000     7.154109       2.545968   \n4  ACH-000242       6.729145      0.000000     6.537607       2.456806   \n\n   C1orf112 (55732)  FGR (2268)  CFH (3075)  FUCA2 (2519)  GCLC (2729)  ...  \\\n0          4.470537    0.028569    1.226509      3.042644     6.499686  ...   \n1          3.504620    0.000000    0.189034      3.813525     4.221104  ...   \n2          4.227279    0.056584    1.310340      6.687061     3.682573  ...   \n3          3.084064    0.000000    5.868143      6.165309     4.489928  ...   \n4          3.867896    0.799087    7.208381      5.569856     7.127014  ...   \n\n   H3C2 (8358)  H3C3 (8352)  AC098582.1 (8916)  DUS4L-BCAP29 (115253422)  \\\n0     2.689299     0.189034           0.201634                  2.130931   \n1     1.286881     1.049631           0.321928                  1.464668   \n2     0.594549     1.097611           0.831877                  2.946731   \n3     0.214125     0.632268           0.298658                  1.641546   \n4     1.117695     2.358959           0.084064                  1.910733   \n\n   C8orf44-SGK3 (100533105)  ELOA3B (728929)  NPBWR1 (2831)  \\\n0                  0.555816              0.0       0.275007   \n1                  0.632268              0.0       0.014355   \n2                  0.475085              0.0       0.084064   \n3                  0.443607              0.0       0.028569   \n4                  0.000000              0.0       0.464668   \n\n   ELOA3D (100506888)  ELOA3 (162699)  CDR1 (1038)  \n0                 0.0             0.0     0.000000  \n1                 0.0             0.0     0.000000  \n2                 0.0             0.0     0.042644  \n3                 0.0             0.0     0.000000  \n4                 0.0             0.0     0.000000  \n\n[5 rows x 19222 columns]",
      "text/html": "<div>\n<style scoped>\n    .dataframe tbody tr th:only-of-type {\n        vertical-align: middle;\n    }\n\n    .dataframe tbody tr th {\n        vertical-align: top;\n    }\n\n    .dataframe thead th {\n        text-align: right;\n    }\n</style>\n<table border=\"1\" class=\"dataframe\">\n  <thead>\n    <tr style=\"text-align: right;\">\n      <th></th>\n      <th>Unnamed: 0</th>\n      <th>TSPAN6 (7105)</th>\n      <th>TNMD (64102)</th>\n      <th>DPM1 (8813)</th>\n      <th>SCYL3 (57147)</th>\n      <th>C1orf112 (55732)</th>\n      <th>FGR (2268)</th>\n      <th>CFH (3075)</th>\n      <th>FUCA2 (2519)</th>\n      <th>GCLC (2729)</th>\n      <th>...</th>\n      <th>H3C2 (8358)</th>\n      <th>H3C3 (8352)</th>\n      <th>AC098582.1 (8916)</th>\n      <th>DUS4L-BCAP29 (115253422)</th>\n      <th>C8orf44-SGK3 (100533105)</th>\n      <th>ELOA3B (728929)</th>\n      <th>NPBWR1 (2831)</th>\n      <th>ELOA3D (100506888)</th>\n      <th>ELOA3 (162699)</th>\n      <th>CDR1 (1038)</th>\n    </tr>\n  </thead>\n  <tbody>\n    <tr>\n      <th>0</th>\n      <td>ACH-001113</td>\n      <td>4.331992</td>\n      <td>0.000000</td>\n      <td>7.364397</td>\n      <td>2.792855</td>\n      <td>4.470537</td>\n      <td>0.028569</td>\n      <td>1.226509</td>\n      <td>3.042644</td>\n      <td>6.499686</td>\n      <td>...</td>\n      <td>2.689299</td>\n      <td>0.189034</td>\n      <td>0.201634</td>\n      <td>2.130931</td>\n      <td>0.555816</td>\n      <td>0.0</td>\n      <td>0.275007</td>\n      <td>0.0</td>\n      <td>0.0</td>\n      <td>0.000000</td>\n    </tr>\n    <tr>\n      <th>1</th>\n      <td>ACH-001289</td>\n      <td>4.566815</td>\n      <td>0.584963</td>\n      <td>7.106537</td>\n      <td>2.543496</td>\n      <td>3.504620</td>\n      <td>0.000000</td>\n      <td>0.189034</td>\n      <td>3.813525</td>\n      <td>4.221104</td>\n      <td>...</td>\n      <td>1.286881</td>\n      <td>1.049631</td>\n      <td>0.321928</td>\n      <td>1.464668</td>\n      <td>0.632268</td>\n      <td>0.0</td>\n      <td>0.014355</td>\n      <td>0.0</td>\n      <td>0.0</td>\n      <td>0.000000</td>\n    </tr>\n    <tr>\n      <th>2</th>\n      <td>ACH-001339</td>\n      <td>3.150560</td>\n      <td>0.000000</td>\n      <td>7.379032</td>\n      <td>2.333424</td>\n      <td>4.227279</td>\n      <td>0.056584</td>\n      <td>1.310340</td>\n      <td>6.687061</td>\n      <td>3.682573</td>\n      <td>...</td>\n      <td>0.594549</td>\n      <td>1.097611</td>\n      <td>0.831877</td>\n      <td>2.946731</td>\n      <td>0.475085</td>\n      <td>0.0</td>\n      <td>0.084064</td>\n      <td>0.0</td>\n      <td>0.0</td>\n      <td>0.042644</td>\n    </tr>\n    <tr>\n      <th>3</th>\n      <td>ACH-001538</td>\n      <td>5.085340</td>\n      <td>0.000000</td>\n      <td>7.154109</td>\n      <td>2.545968</td>\n      <td>3.084064</td>\n      <td>0.000000</td>\n      <td>5.868143</td>\n      <td>6.165309</td>\n      <td>4.489928</td>\n      <td>...</td>\n      <td>0.214125</td>\n      <td>0.632268</td>\n      <td>0.298658</td>\n      <td>1.641546</td>\n      <td>0.443607</td>\n      <td>0.0</td>\n      <td>0.028569</td>\n      <td>0.0</td>\n      <td>0.0</td>\n      <td>0.000000</td>\n    </tr>\n    <tr>\n      <th>4</th>\n      <td>ACH-000242</td>\n      <td>6.729145</td>\n      <td>0.000000</td>\n      <td>6.537607</td>\n      <td>2.456806</td>\n      <td>3.867896</td>\n      <td>0.799087</td>\n      <td>7.208381</td>\n      <td>5.569856</td>\n      <td>7.127014</td>\n      <td>...</td>\n      <td>1.117695</td>\n      <td>2.358959</td>\n      <td>0.084064</td>\n      <td>1.910733</td>\n      <td>0.000000</td>\n      <td>0.0</td>\n      <td>0.464668</td>\n      <td>0.0</td>\n      <td>0.0</td>\n      <td>0.000000</td>\n    </tr>\n  </tbody>\n</table>\n<p>5 rows × 19222 columns</p>\n</div>"
     },
     "metadata": {},
     "output_type": "display_data"
    },
    {
     "data": {
      "text/plain": "     Broad_ID  TSPAN6 (7105)  TNMD (64102)  DPM1 (8813)  SCYL3 (57147)  \\\n0  ACH-001113       4.331992      0.000000     7.364397       2.792855   \n1  ACH-001289       4.566815      0.584963     7.106537       2.543496   \n2  ACH-001339       3.150560      0.000000     7.379032       2.333424   \n3  ACH-001538       5.085340      0.000000     7.154109       2.545968   \n4  ACH-000242       6.729145      0.000000     6.537607       2.456806   \n\n   C1orf112 (55732)  FGR (2268)  CFH (3075)  FUCA2 (2519)  GCLC (2729)  ...  \\\n0          4.470537    0.028569    1.226509      3.042644     6.499686  ...   \n1          3.504620    0.000000    0.189034      3.813525     4.221104  ...   \n2          4.227279    0.056584    1.310340      6.687061     3.682573  ...   \n3          3.084064    0.000000    5.868143      6.165309     4.489928  ...   \n4          3.867896    0.799087    7.208381      5.569856     7.127014  ...   \n\n   H3C2 (8358)  H3C3 (8352)  AC098582.1 (8916)  DUS4L-BCAP29 (115253422)  \\\n0     2.689299     0.189034           0.201634                  2.130931   \n1     1.286881     1.049631           0.321928                  1.464668   \n2     0.594549     1.097611           0.831877                  2.946731   \n3     0.214125     0.632268           0.298658                  1.641546   \n4     1.117695     2.358959           0.084064                  1.910733   \n\n   C8orf44-SGK3 (100533105)  ELOA3B (728929)  NPBWR1 (2831)  \\\n0                  0.555816              0.0       0.275007   \n1                  0.632268              0.0       0.014355   \n2                  0.475085              0.0       0.084064   \n3                  0.443607              0.0       0.028569   \n4                  0.000000              0.0       0.464668   \n\n   ELOA3D (100506888)  ELOA3 (162699)  CDR1 (1038)  \n0                 0.0             0.0     0.000000  \n1                 0.0             0.0     0.000000  \n2                 0.0             0.0     0.042644  \n3                 0.0             0.0     0.000000  \n4                 0.0             0.0     0.000000  \n\n[5 rows x 19222 columns]",
      "text/html": "<div>\n<style scoped>\n    .dataframe tbody tr th:only-of-type {\n        vertical-align: middle;\n    }\n\n    .dataframe tbody tr th {\n        vertical-align: top;\n    }\n\n    .dataframe thead th {\n        text-align: right;\n    }\n</style>\n<table border=\"1\" class=\"dataframe\">\n  <thead>\n    <tr style=\"text-align: right;\">\n      <th></th>\n      <th>Broad_ID</th>\n      <th>TSPAN6 (7105)</th>\n      <th>TNMD (64102)</th>\n      <th>DPM1 (8813)</th>\n      <th>SCYL3 (57147)</th>\n      <th>C1orf112 (55732)</th>\n      <th>FGR (2268)</th>\n      <th>CFH (3075)</th>\n      <th>FUCA2 (2519)</th>\n      <th>GCLC (2729)</th>\n      <th>...</th>\n      <th>H3C2 (8358)</th>\n      <th>H3C3 (8352)</th>\n      <th>AC098582.1 (8916)</th>\n      <th>DUS4L-BCAP29 (115253422)</th>\n      <th>C8orf44-SGK3 (100533105)</th>\n      <th>ELOA3B (728929)</th>\n      <th>NPBWR1 (2831)</th>\n      <th>ELOA3D (100506888)</th>\n      <th>ELOA3 (162699)</th>\n      <th>CDR1 (1038)</th>\n    </tr>\n  </thead>\n  <tbody>\n    <tr>\n      <th>0</th>\n      <td>ACH-001113</td>\n      <td>4.331992</td>\n      <td>0.000000</td>\n      <td>7.364397</td>\n      <td>2.792855</td>\n      <td>4.470537</td>\n      <td>0.028569</td>\n      <td>1.226509</td>\n      <td>3.042644</td>\n      <td>6.499686</td>\n      <td>...</td>\n      <td>2.689299</td>\n      <td>0.189034</td>\n      <td>0.201634</td>\n      <td>2.130931</td>\n      <td>0.555816</td>\n      <td>0.0</td>\n      <td>0.275007</td>\n      <td>0.0</td>\n      <td>0.0</td>\n      <td>0.000000</td>\n    </tr>\n    <tr>\n      <th>1</th>\n      <td>ACH-001289</td>\n      <td>4.566815</td>\n      <td>0.584963</td>\n      <td>7.106537</td>\n      <td>2.543496</td>\n      <td>3.504620</td>\n      <td>0.000000</td>\n      <td>0.189034</td>\n      <td>3.813525</td>\n      <td>4.221104</td>\n      <td>...</td>\n      <td>1.286881</td>\n      <td>1.049631</td>\n      <td>0.321928</td>\n      <td>1.464668</td>\n      <td>0.632268</td>\n      <td>0.0</td>\n      <td>0.014355</td>\n      <td>0.0</td>\n      <td>0.0</td>\n      <td>0.000000</td>\n    </tr>\n    <tr>\n      <th>2</th>\n      <td>ACH-001339</td>\n      <td>3.150560</td>\n      <td>0.000000</td>\n      <td>7.379032</td>\n      <td>2.333424</td>\n      <td>4.227279</td>\n      <td>0.056584</td>\n      <td>1.310340</td>\n      <td>6.687061</td>\n      <td>3.682573</td>\n      <td>...</td>\n      <td>0.594549</td>\n      <td>1.097611</td>\n      <td>0.831877</td>\n      <td>2.946731</td>\n      <td>0.475085</td>\n      <td>0.0</td>\n      <td>0.084064</td>\n      <td>0.0</td>\n      <td>0.0</td>\n      <td>0.042644</td>\n    </tr>\n    <tr>\n      <th>3</th>\n      <td>ACH-001538</td>\n      <td>5.085340</td>\n      <td>0.000000</td>\n      <td>7.154109</td>\n      <td>2.545968</td>\n      <td>3.084064</td>\n      <td>0.000000</td>\n      <td>5.868143</td>\n      <td>6.165309</td>\n      <td>4.489928</td>\n      <td>...</td>\n      <td>0.214125</td>\n      <td>0.632268</td>\n      <td>0.298658</td>\n      <td>1.641546</td>\n      <td>0.443607</td>\n      <td>0.0</td>\n      <td>0.028569</td>\n      <td>0.0</td>\n      <td>0.0</td>\n      <td>0.000000</td>\n    </tr>\n    <tr>\n      <th>4</th>\n      <td>ACH-000242</td>\n      <td>6.729145</td>\n      <td>0.000000</td>\n      <td>6.537607</td>\n      <td>2.456806</td>\n      <td>3.867896</td>\n      <td>0.799087</td>\n      <td>7.208381</td>\n      <td>5.569856</td>\n      <td>7.127014</td>\n      <td>...</td>\n      <td>1.117695</td>\n      <td>2.358959</td>\n      <td>0.084064</td>\n      <td>1.910733</td>\n      <td>0.000000</td>\n      <td>0.0</td>\n      <td>0.464668</td>\n      <td>0.0</td>\n      <td>0.0</td>\n      <td>0.000000</td>\n    </tr>\n  </tbody>\n</table>\n<p>5 rows × 19222 columns</p>\n</div>"
     },
     "metadata": {},
     "output_type": "display_data"
    }
   ],
   "source": [
    "df_ccle =pd.read_csv('data/CCLE_expressionEnsemble.csv')\n",
    "display(df_ccle.head())\n",
    "df_ccle.rename(columns={'Unnamed: 0':'Broad_ID'},inplace=True)\n",
    "display(df_ccle.head())"
   ],
   "metadata": {
    "collapsed": false,
    "pycharm": {
     "name": "#%%\n"
    }
   }
  },
  {
   "cell_type": "code",
   "execution_count": 10,
   "outputs": [
    {
     "data": {
      "text/plain": "     Broad_ID                                  CCLE_Name\n0  ACH-000557  AML193_HAEMATOPOIETIC_AND_LYMPHOID_TISSUE\n1  ACH-001000              1321N1_CENTRAL_NERVOUS_SYSTEM\n2  ACH-000198    EOL1_HAEMATOPOIETIC_AND_LYMPHOID_TISSUE\n3  ACH-000956                             22RV1_PROSTATE\n4  ACH-000948                            2313287_STOMACH",
      "text/html": "<div>\n<style scoped>\n    .dataframe tbody tr th:only-of-type {\n        vertical-align: middle;\n    }\n\n    .dataframe tbody tr th {\n        vertical-align: top;\n    }\n\n    .dataframe thead th {\n        text-align: right;\n    }\n</style>\n<table border=\"1\" class=\"dataframe\">\n  <thead>\n    <tr style=\"text-align: right;\">\n      <th></th>\n      <th>Broad_ID</th>\n      <th>CCLE_Name</th>\n    </tr>\n  </thead>\n  <tbody>\n    <tr>\n      <th>0</th>\n      <td>ACH-000557</td>\n      <td>AML193_HAEMATOPOIETIC_AND_LYMPHOID_TISSUE</td>\n    </tr>\n    <tr>\n      <th>1</th>\n      <td>ACH-001000</td>\n      <td>1321N1_CENTRAL_NERVOUS_SYSTEM</td>\n    </tr>\n    <tr>\n      <th>2</th>\n      <td>ACH-000198</td>\n      <td>EOL1_HAEMATOPOIETIC_AND_LYMPHOID_TISSUE</td>\n    </tr>\n    <tr>\n      <th>3</th>\n      <td>ACH-000956</td>\n      <td>22RV1_PROSTATE</td>\n    </tr>\n    <tr>\n      <th>4</th>\n      <td>ACH-000948</td>\n      <td>2313287_STOMACH</td>\n    </tr>\n  </tbody>\n</table>\n</div>"
     },
     "execution_count": 10,
     "metadata": {},
     "output_type": "execute_result"
    }
   ],
   "source": [
    "df_dep_map = pd.read_csv('data/DepMap-2018q3-celllines.csv')\n",
    "df_dep_map = df_dep_map[['Broad_ID','CCLE_Name']]\n",
    "df_dep_map.head()"
   ],
   "metadata": {
    "collapsed": false,
    "pycharm": {
     "name": "#%%\n"
    }
   }
  },
  {
   "cell_type": "code",
   "execution_count": 12,
   "outputs": [
    {
     "data": {
      "text/plain": "     Broad_ID  TSPAN6 (7105)  TNMD (64102)  DPM1 (8813)  SCYL3 (57147)  \\\n0  ACH-001113       4.331992      0.000000     7.364397       2.792855   \n1  ACH-001289       4.566815      0.584963     7.106537       2.543496   \n2  ACH-001339       3.150560      0.000000     7.379032       2.333424   \n3  ACH-000242       6.729145      0.000000     6.537607       2.456806   \n4  ACH-000708       4.272023      0.189034     7.022923       2.555816   \n\n   C1orf112 (55732)  FGR (2268)  CFH (3075)  FUCA2 (2519)  GCLC (2729)  ...  \\\n0          4.470537    0.028569    1.226509      3.042644     6.499686  ...   \n1          3.504620    0.000000    0.189034      3.813525     4.221104  ...   \n2          4.227279    0.056584    1.310340      6.687061     3.682573  ...   \n3          3.867896    0.799087    7.208381      5.569856     7.127014  ...   \n4          3.841973    0.000000    0.097611      4.888013     4.926474  ...   \n\n   H3C3 (8352)  AC098582.1 (8916)  DUS4L-BCAP29 (115253422)  \\\n0     0.189034           0.201634                  2.130931   \n1     1.049631           0.321928                  1.464668   \n2     1.097611           0.831877                  2.946731   \n3     2.358959           0.084064                  1.910733   \n4     1.480265           0.321928                  1.891419   \n\n   C8orf44-SGK3 (100533105)  ELOA3B (728929)  NPBWR1 (2831)  \\\n0                  0.555816              0.0       0.275007   \n1                  0.632268              0.0       0.014355   \n2                  0.475085              0.0       0.084064   \n3                  0.000000              0.0       0.464668   \n4                  0.201634              0.0       0.000000   \n\n   ELOA3D (100506888)  ELOA3 (162699)  CDR1 (1038)               CCLE_Name  \n0                 0.0             0.0     0.000000            LC1SQSF_LUNG  \n1                 0.0             0.0     0.000000    COGAR359_SOFT_TISSUE  \n2                 0.0             0.0     0.042644            COLO794_SKIN  \n3                 0.0             0.0     0.000000       RT4_URINARY_TRACT  \n4                 0.0             0.0     0.000000  SNU283_LARGE_INTESTINE  \n\n[5 rows x 19223 columns]",
      "text/html": "<div>\n<style scoped>\n    .dataframe tbody tr th:only-of-type {\n        vertical-align: middle;\n    }\n\n    .dataframe tbody tr th {\n        vertical-align: top;\n    }\n\n    .dataframe thead th {\n        text-align: right;\n    }\n</style>\n<table border=\"1\" class=\"dataframe\">\n  <thead>\n    <tr style=\"text-align: right;\">\n      <th></th>\n      <th>Broad_ID</th>\n      <th>TSPAN6 (7105)</th>\n      <th>TNMD (64102)</th>\n      <th>DPM1 (8813)</th>\n      <th>SCYL3 (57147)</th>\n      <th>C1orf112 (55732)</th>\n      <th>FGR (2268)</th>\n      <th>CFH (3075)</th>\n      <th>FUCA2 (2519)</th>\n      <th>GCLC (2729)</th>\n      <th>...</th>\n      <th>H3C3 (8352)</th>\n      <th>AC098582.1 (8916)</th>\n      <th>DUS4L-BCAP29 (115253422)</th>\n      <th>C8orf44-SGK3 (100533105)</th>\n      <th>ELOA3B (728929)</th>\n      <th>NPBWR1 (2831)</th>\n      <th>ELOA3D (100506888)</th>\n      <th>ELOA3 (162699)</th>\n      <th>CDR1 (1038)</th>\n      <th>CCLE_Name</th>\n    </tr>\n  </thead>\n  <tbody>\n    <tr>\n      <th>0</th>\n      <td>ACH-001113</td>\n      <td>4.331992</td>\n      <td>0.000000</td>\n      <td>7.364397</td>\n      <td>2.792855</td>\n      <td>4.470537</td>\n      <td>0.028569</td>\n      <td>1.226509</td>\n      <td>3.042644</td>\n      <td>6.499686</td>\n      <td>...</td>\n      <td>0.189034</td>\n      <td>0.201634</td>\n      <td>2.130931</td>\n      <td>0.555816</td>\n      <td>0.0</td>\n      <td>0.275007</td>\n      <td>0.0</td>\n      <td>0.0</td>\n      <td>0.000000</td>\n      <td>LC1SQSF_LUNG</td>\n    </tr>\n    <tr>\n      <th>1</th>\n      <td>ACH-001289</td>\n      <td>4.566815</td>\n      <td>0.584963</td>\n      <td>7.106537</td>\n      <td>2.543496</td>\n      <td>3.504620</td>\n      <td>0.000000</td>\n      <td>0.189034</td>\n      <td>3.813525</td>\n      <td>4.221104</td>\n      <td>...</td>\n      <td>1.049631</td>\n      <td>0.321928</td>\n      <td>1.464668</td>\n      <td>0.632268</td>\n      <td>0.0</td>\n      <td>0.014355</td>\n      <td>0.0</td>\n      <td>0.0</td>\n      <td>0.000000</td>\n      <td>COGAR359_SOFT_TISSUE</td>\n    </tr>\n    <tr>\n      <th>2</th>\n      <td>ACH-001339</td>\n      <td>3.150560</td>\n      <td>0.000000</td>\n      <td>7.379032</td>\n      <td>2.333424</td>\n      <td>4.227279</td>\n      <td>0.056584</td>\n      <td>1.310340</td>\n      <td>6.687061</td>\n      <td>3.682573</td>\n      <td>...</td>\n      <td>1.097611</td>\n      <td>0.831877</td>\n      <td>2.946731</td>\n      <td>0.475085</td>\n      <td>0.0</td>\n      <td>0.084064</td>\n      <td>0.0</td>\n      <td>0.0</td>\n      <td>0.042644</td>\n      <td>COLO794_SKIN</td>\n    </tr>\n    <tr>\n      <th>3</th>\n      <td>ACH-000242</td>\n      <td>6.729145</td>\n      <td>0.000000</td>\n      <td>6.537607</td>\n      <td>2.456806</td>\n      <td>3.867896</td>\n      <td>0.799087</td>\n      <td>7.208381</td>\n      <td>5.569856</td>\n      <td>7.127014</td>\n      <td>...</td>\n      <td>2.358959</td>\n      <td>0.084064</td>\n      <td>1.910733</td>\n      <td>0.000000</td>\n      <td>0.0</td>\n      <td>0.464668</td>\n      <td>0.0</td>\n      <td>0.0</td>\n      <td>0.000000</td>\n      <td>RT4_URINARY_TRACT</td>\n    </tr>\n    <tr>\n      <th>4</th>\n      <td>ACH-000708</td>\n      <td>4.272023</td>\n      <td>0.189034</td>\n      <td>7.022923</td>\n      <td>2.555816</td>\n      <td>3.841973</td>\n      <td>0.000000</td>\n      <td>0.097611</td>\n      <td>4.888013</td>\n      <td>4.926474</td>\n      <td>...</td>\n      <td>1.480265</td>\n      <td>0.321928</td>\n      <td>1.891419</td>\n      <td>0.201634</td>\n      <td>0.0</td>\n      <td>0.000000</td>\n      <td>0.0</td>\n      <td>0.0</td>\n      <td>0.000000</td>\n      <td>SNU283_LARGE_INTESTINE</td>\n    </tr>\n  </tbody>\n</table>\n<p>5 rows × 19223 columns</p>\n</div>"
     },
     "execution_count": 12,
     "metadata": {},
     "output_type": "execute_result"
    }
   ],
   "source": [
    "df_merged = pd.merge(df_ccle, df_dep_map, on='Broad_ID')\n",
    "df_merged.head()"
   ],
   "metadata": {
    "collapsed": false,
    "pycharm": {
     "name": "#%%\n"
    }
   }
  },
  {
   "cell_type": "code",
   "execution_count": 13,
   "outputs": [
    {
     "data": {
      "text/plain": "                CCLE_Name    Broad_ID  TSPAN6 (7105)  TNMD (64102)  \\\n0            LC1SQSF_LUNG  ACH-001113       4.331992      0.000000   \n1    COGAR359_SOFT_TISSUE  ACH-001289       4.566815      0.584963   \n2            COLO794_SKIN  ACH-001339       3.150560      0.000000   \n3       RT4_URINARY_TRACT  ACH-000242       6.729145      0.000000   \n4  SNU283_LARGE_INTESTINE  ACH-000708       4.272023      0.189034   \n\n   DPM1 (8813)  SCYL3 (57147)  C1orf112 (55732)  FGR (2268)  CFH (3075)  \\\n0     7.364397       2.792855          4.470537    0.028569    1.226509   \n1     7.106537       2.543496          3.504620    0.000000    0.189034   \n2     7.379032       2.333424          4.227279    0.056584    1.310340   \n3     6.537607       2.456806          3.867896    0.799087    7.208381   \n4     7.022923       2.555816          3.841973    0.000000    0.097611   \n\n   FUCA2 (2519)  ...  H3C2 (8358)  H3C3 (8352)  AC098582.1 (8916)  \\\n0      3.042644  ...     2.689299     0.189034           0.201634   \n1      3.813525  ...     1.286881     1.049631           0.321928   \n2      6.687061  ...     0.594549     1.097611           0.831877   \n3      5.569856  ...     1.117695     2.358959           0.084064   \n4      4.888013  ...     1.367371     1.480265           0.321928   \n\n   DUS4L-BCAP29 (115253422)  C8orf44-SGK3 (100533105)  ELOA3B (728929)  \\\n0                  2.130931                  0.555816              0.0   \n1                  1.464668                  0.632268              0.0   \n2                  2.946731                  0.475085              0.0   \n3                  1.910733                  0.000000              0.0   \n4                  1.891419                  0.201634              0.0   \n\n   NPBWR1 (2831)  ELOA3D (100506888)  ELOA3 (162699)  CDR1 (1038)  \n0       0.275007                 0.0             0.0     0.000000  \n1       0.014355                 0.0             0.0     0.000000  \n2       0.084064                 0.0             0.0     0.042644  \n3       0.464668                 0.0             0.0     0.000000  \n4       0.000000                 0.0             0.0     0.000000  \n\n[5 rows x 19223 columns]",
      "text/html": "<div>\n<style scoped>\n    .dataframe tbody tr th:only-of-type {\n        vertical-align: middle;\n    }\n\n    .dataframe tbody tr th {\n        vertical-align: top;\n    }\n\n    .dataframe thead th {\n        text-align: right;\n    }\n</style>\n<table border=\"1\" class=\"dataframe\">\n  <thead>\n    <tr style=\"text-align: right;\">\n      <th></th>\n      <th>CCLE_Name</th>\n      <th>Broad_ID</th>\n      <th>TSPAN6 (7105)</th>\n      <th>TNMD (64102)</th>\n      <th>DPM1 (8813)</th>\n      <th>SCYL3 (57147)</th>\n      <th>C1orf112 (55732)</th>\n      <th>FGR (2268)</th>\n      <th>CFH (3075)</th>\n      <th>FUCA2 (2519)</th>\n      <th>...</th>\n      <th>H3C2 (8358)</th>\n      <th>H3C3 (8352)</th>\n      <th>AC098582.1 (8916)</th>\n      <th>DUS4L-BCAP29 (115253422)</th>\n      <th>C8orf44-SGK3 (100533105)</th>\n      <th>ELOA3B (728929)</th>\n      <th>NPBWR1 (2831)</th>\n      <th>ELOA3D (100506888)</th>\n      <th>ELOA3 (162699)</th>\n      <th>CDR1 (1038)</th>\n    </tr>\n  </thead>\n  <tbody>\n    <tr>\n      <th>0</th>\n      <td>LC1SQSF_LUNG</td>\n      <td>ACH-001113</td>\n      <td>4.331992</td>\n      <td>0.000000</td>\n      <td>7.364397</td>\n      <td>2.792855</td>\n      <td>4.470537</td>\n      <td>0.028569</td>\n      <td>1.226509</td>\n      <td>3.042644</td>\n      <td>...</td>\n      <td>2.689299</td>\n      <td>0.189034</td>\n      <td>0.201634</td>\n      <td>2.130931</td>\n      <td>0.555816</td>\n      <td>0.0</td>\n      <td>0.275007</td>\n      <td>0.0</td>\n      <td>0.0</td>\n      <td>0.000000</td>\n    </tr>\n    <tr>\n      <th>1</th>\n      <td>COGAR359_SOFT_TISSUE</td>\n      <td>ACH-001289</td>\n      <td>4.566815</td>\n      <td>0.584963</td>\n      <td>7.106537</td>\n      <td>2.543496</td>\n      <td>3.504620</td>\n      <td>0.000000</td>\n      <td>0.189034</td>\n      <td>3.813525</td>\n      <td>...</td>\n      <td>1.286881</td>\n      <td>1.049631</td>\n      <td>0.321928</td>\n      <td>1.464668</td>\n      <td>0.632268</td>\n      <td>0.0</td>\n      <td>0.014355</td>\n      <td>0.0</td>\n      <td>0.0</td>\n      <td>0.000000</td>\n    </tr>\n    <tr>\n      <th>2</th>\n      <td>COLO794_SKIN</td>\n      <td>ACH-001339</td>\n      <td>3.150560</td>\n      <td>0.000000</td>\n      <td>7.379032</td>\n      <td>2.333424</td>\n      <td>4.227279</td>\n      <td>0.056584</td>\n      <td>1.310340</td>\n      <td>6.687061</td>\n      <td>...</td>\n      <td>0.594549</td>\n      <td>1.097611</td>\n      <td>0.831877</td>\n      <td>2.946731</td>\n      <td>0.475085</td>\n      <td>0.0</td>\n      <td>0.084064</td>\n      <td>0.0</td>\n      <td>0.0</td>\n      <td>0.042644</td>\n    </tr>\n    <tr>\n      <th>3</th>\n      <td>RT4_URINARY_TRACT</td>\n      <td>ACH-000242</td>\n      <td>6.729145</td>\n      <td>0.000000</td>\n      <td>6.537607</td>\n      <td>2.456806</td>\n      <td>3.867896</td>\n      <td>0.799087</td>\n      <td>7.208381</td>\n      <td>5.569856</td>\n      <td>...</td>\n      <td>1.117695</td>\n      <td>2.358959</td>\n      <td>0.084064</td>\n      <td>1.910733</td>\n      <td>0.000000</td>\n      <td>0.0</td>\n      <td>0.464668</td>\n      <td>0.0</td>\n      <td>0.0</td>\n      <td>0.000000</td>\n    </tr>\n    <tr>\n      <th>4</th>\n      <td>SNU283_LARGE_INTESTINE</td>\n      <td>ACH-000708</td>\n      <td>4.272023</td>\n      <td>0.189034</td>\n      <td>7.022923</td>\n      <td>2.555816</td>\n      <td>3.841973</td>\n      <td>0.000000</td>\n      <td>0.097611</td>\n      <td>4.888013</td>\n      <td>...</td>\n      <td>1.367371</td>\n      <td>1.480265</td>\n      <td>0.321928</td>\n      <td>1.891419</td>\n      <td>0.201634</td>\n      <td>0.0</td>\n      <td>0.000000</td>\n      <td>0.0</td>\n      <td>0.0</td>\n      <td>0.000000</td>\n    </tr>\n  </tbody>\n</table>\n<p>5 rows × 19223 columns</p>\n</div>"
     },
     "execution_count": 13,
     "metadata": {},
     "output_type": "execute_result"
    }
   ],
   "source": [
    "ccle_id = df_merged.pop('CCLE_Name')\n",
    "df_merged.insert(0,'CCLE_Name',ccle_id)\n",
    "df_merged.head()"
   ],
   "metadata": {
    "collapsed": false,
    "pycharm": {
     "name": "#%%\n"
    }
   }
  },
  {
   "cell_type": "code",
   "execution_count": 14,
   "outputs": [],
   "source": [
    "df_merged.to_csv('data/CCLE_expressionEnsemble_DepMap.csv')"
   ],
   "metadata": {
    "collapsed": false,
    "pycharm": {
     "name": "#%%\n"
    }
   }
  },
  {
   "cell_type": "code",
   "execution_count": null,
   "outputs": [],
   "source": [],
   "metadata": {
    "collapsed": false,
    "pycharm": {
     "name": "#%%\n"
    }
   }
  }
 ],
 "metadata": {
  "kernelspec": {
   "display_name": "Python 3",
   "language": "python",
   "name": "python3"
  },
  "language_info": {
   "codemirror_mode": {
    "name": "ipython",
    "version": 2
   },
   "file_extension": ".py",
   "mimetype": "text/x-python",
   "name": "python",
   "nbconvert_exporter": "python",
   "pygments_lexer": "ipython2",
   "version": "2.7.6"
  }
 },
 "nbformat": 4,
 "nbformat_minor": 0
}