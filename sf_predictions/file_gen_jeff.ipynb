{
 "cells": [
  {
   "cell_type": "code",
   "execution_count": 17,
   "outputs": [],
   "source": [
    "import pandas as pd"
   ],
   "metadata": {
    "collapsed": false,
    "pycharm": {
     "name": "#%%\n"
    }
   }
  },
  {
   "cell_type": "code",
   "execution_count": 18,
   "outputs": [
    {
     "data": {
      "text/plain": "  cell_line        SF\n0   KMRC2-2  0.436296\n1   KMRC2-3  0.364625\n2   KMRC2-4  0.364416\n3   KMRC2-5  0.347423\n4   KMRC2-6  0.369256",
      "text/html": "<div>\n<style scoped>\n    .dataframe tbody tr th:only-of-type {\n        vertical-align: middle;\n    }\n\n    .dataframe tbody tr th {\n        vertical-align: top;\n    }\n\n    .dataframe thead th {\n        text-align: right;\n    }\n</style>\n<table border=\"1\" class=\"dataframe\">\n  <thead>\n    <tr style=\"text-align: right;\">\n      <th></th>\n      <th>cell_line</th>\n      <th>SF</th>\n    </tr>\n  </thead>\n  <tbody>\n    <tr>\n      <th>0</th>\n      <td>KMRC2-2</td>\n      <td>0.436296</td>\n    </tr>\n    <tr>\n      <th>1</th>\n      <td>KMRC2-3</td>\n      <td>0.364625</td>\n    </tr>\n    <tr>\n      <th>2</th>\n      <td>KMRC2-4</td>\n      <td>0.364416</td>\n    </tr>\n    <tr>\n      <th>3</th>\n      <td>KMRC2-5</td>\n      <td>0.347423</td>\n    </tr>\n    <tr>\n      <th>4</th>\n      <td>KMRC2-6</td>\n      <td>0.369256</td>\n    </tr>\n  </tbody>\n</table>\n</div>"
     },
     "execution_count": 18,
     "metadata": {},
     "output_type": "execute_result"
    }
   ],
   "source": [
    "df = pd.read_csv('data/y_test_sf_234568.csv')\n",
    "df.head()"
   ],
   "metadata": {
    "collapsed": false,
    "pycharm": {
     "name": "#%%\n"
    }
   }
  },
  {
   "cell_type": "code",
   "execution_count": 19,
   "outputs": [
    {
     "data": {
      "text/plain": "                 SF\ncell_line          \nKMRC2-2    0.436296\nKMRC2-3    0.364625\nKMRC2-4    0.364416\nKMRC2-5    0.347423\nKMRC2-6    0.369256",
      "text/html": "<div>\n<style scoped>\n    .dataframe tbody tr th:only-of-type {\n        vertical-align: middle;\n    }\n\n    .dataframe tbody tr th {\n        vertical-align: top;\n    }\n\n    .dataframe thead th {\n        text-align: right;\n    }\n</style>\n<table border=\"1\" class=\"dataframe\">\n  <thead>\n    <tr style=\"text-align: right;\">\n      <th></th>\n      <th>SF</th>\n    </tr>\n    <tr>\n      <th>cell_line</th>\n      <th></th>\n    </tr>\n  </thead>\n  <tbody>\n    <tr>\n      <th>KMRC2-2</th>\n      <td>0.436296</td>\n    </tr>\n    <tr>\n      <th>KMRC2-3</th>\n      <td>0.364625</td>\n    </tr>\n    <tr>\n      <th>KMRC2-4</th>\n      <td>0.364416</td>\n    </tr>\n    <tr>\n      <th>KMRC2-5</th>\n      <td>0.347423</td>\n    </tr>\n    <tr>\n      <th>KMRC2-6</th>\n      <td>0.369256</td>\n    </tr>\n  </tbody>\n</table>\n</div>"
     },
     "execution_count": 19,
     "metadata": {},
     "output_type": "execute_result"
    }
   ],
   "source": [
    "df.set_index('cell_line', inplace=True)\n",
    "df.head()"
   ],
   "metadata": {
    "collapsed": false,
    "pycharm": {
     "name": "#%%\n"
    }
   }
  },
  {
   "cell_type": "code",
   "execution_count": 23,
   "outputs": [
    {
     "data": {
      "text/plain": "cell_line   KMRC2-2   KMRC2-3   KMRC2-4   KMRC2-5   KMRC2-6   KMRC2-8  \\\nSF         0.436296  0.364625  0.364416  0.347423  0.369256  0.348489   \n\ncell_line    A673-2    A673-3  A673-4  A673-5  ...  KYSE450-4  KYSE450-5  \\\nSF         0.349923  0.120299  0.0971   0.072  ...    0.73979   0.635183   \n\ncell_line  KYSE450-6  KYSE450-8  OVCAR5-2  OVCAR5-3  OVCAR5-4  OVCAR5-5  \\\nSF          0.445215   0.108089  0.607771  0.320905   0.20997  0.442143   \n\ncell_line  OVCAR5-6  OVCAR5-8  \nSF         0.142699    0.0462  \n\n[1 rows x 318 columns]",
      "text/html": "<div>\n<style scoped>\n    .dataframe tbody tr th:only-of-type {\n        vertical-align: middle;\n    }\n\n    .dataframe tbody tr th {\n        vertical-align: top;\n    }\n\n    .dataframe thead th {\n        text-align: right;\n    }\n</style>\n<table border=\"1\" class=\"dataframe\">\n  <thead>\n    <tr style=\"text-align: right;\">\n      <th>cell_line</th>\n      <th>KMRC2-2</th>\n      <th>KMRC2-3</th>\n      <th>KMRC2-4</th>\n      <th>KMRC2-5</th>\n      <th>KMRC2-6</th>\n      <th>KMRC2-8</th>\n      <th>A673-2</th>\n      <th>A673-3</th>\n      <th>A673-4</th>\n      <th>A673-5</th>\n      <th>...</th>\n      <th>KYSE450-4</th>\n      <th>KYSE450-5</th>\n      <th>KYSE450-6</th>\n      <th>KYSE450-8</th>\n      <th>OVCAR5-2</th>\n      <th>OVCAR5-3</th>\n      <th>OVCAR5-4</th>\n      <th>OVCAR5-5</th>\n      <th>OVCAR5-6</th>\n      <th>OVCAR5-8</th>\n    </tr>\n  </thead>\n  <tbody>\n    <tr>\n      <th>SF</th>\n      <td>0.436296</td>\n      <td>0.364625</td>\n      <td>0.364416</td>\n      <td>0.347423</td>\n      <td>0.369256</td>\n      <td>0.348489</td>\n      <td>0.349923</td>\n      <td>0.120299</td>\n      <td>0.0971</td>\n      <td>0.072</td>\n      <td>...</td>\n      <td>0.73979</td>\n      <td>0.635183</td>\n      <td>0.445215</td>\n      <td>0.108089</td>\n      <td>0.607771</td>\n      <td>0.320905</td>\n      <td>0.20997</td>\n      <td>0.442143</td>\n      <td>0.142699</td>\n      <td>0.0462</td>\n    </tr>\n  </tbody>\n</table>\n<p>1 rows × 318 columns</p>\n</div>"
     },
     "execution_count": 23,
     "metadata": {},
     "output_type": "execute_result"
    }
   ],
   "source": [
    "transpose_df = df.transpose()\n",
    "transpose_df.head()"
   ],
   "metadata": {
    "collapsed": false,
    "pycharm": {
     "name": "#%%\n"
    }
   }
  },
  {
   "cell_type": "code",
   "execution_count": 24,
   "outputs": [],
   "source": [
    "cell_line_list = transpose_df.columns.tolist()"
   ],
   "metadata": {
    "collapsed": false,
    "pycharm": {
     "name": "#%%\n"
    }
   }
  },
  {
   "cell_type": "code",
   "execution_count": 25,
   "outputs": [
    {
     "name": "stdout",
     "output_type": "stream",
     "text": [
      "['KMRC2-2', 'A673-2', 'L33-2', 'NCIH2030-2', 'SNU761-2', 'YD10B-2', 'SJSA1-2', 'SKMEL5-2', 'VCAP-2', 'GCT-2', 'NCIH1944-2', 'MFE319-2', 'DBTRG05MG-2', 'LMSU-2', 'HEC251-2', 'NCIH1048-2', 'HELA-2', 'RH18-2', 'MDAMB361-2', 'HT29-2', 'SNU475-2', 'SNU423-2', 'SNU81-2', 'NCIH358-2', 'CAKI1-2', 'NCIH23-2', 'NCIH211-2', 'SAOS2-2', 'KYSE410-2', 'ONS76-2', 'CAMA1-2', 'LUDLU1-2', 'TOV112D-2', 'PATU8988T-2', 'SW480-2', 'CW2-2', 'OVK18-2', 'LOVO-2', 'NCIH1355-2', 'PANC0813-2', 'TCCPAN2-2', 'ZR751-2', 'MCF7-2', 'TE4-2', 'HEPG2-2', 'WM1799-2', 'ASPC1-2', 'PECAPJ49-2', 'HSC3-2', 'LN18-2', 'HEC151-2', 'KYSE450-2', 'OVCAR5-2']\n"
     ]
    }
   ],
   "source": [
    "only_number_of_interest = []\n",
    "for cell_line in cell_line_list:\n",
    "    cell_line_number = cell_line.split('-')[1]\n",
    "    if cell_line_number == '2':\n",
    "        only_number_of_interest.append(cell_line)\n",
    "print(only_number_of_interest)"
   ],
   "metadata": {
    "collapsed": false,
    "pycharm": {
     "name": "#%%\n"
    }
   }
  },
  {
   "cell_type": "code",
   "execution_count": 27,
   "outputs": [
    {
     "data": {
      "text/plain": "                  SF\ncell_line           \nKMRC2-2     0.436296\nA673-2      0.349923\nL33-2       0.802621\nNCIH2030-2  0.542406\nSNU761-2    0.809869",
      "text/html": "<div>\n<style scoped>\n    .dataframe tbody tr th:only-of-type {\n        vertical-align: middle;\n    }\n\n    .dataframe tbody tr th {\n        vertical-align: top;\n    }\n\n    .dataframe thead th {\n        text-align: right;\n    }\n</style>\n<table border=\"1\" class=\"dataframe\">\n  <thead>\n    <tr style=\"text-align: right;\">\n      <th></th>\n      <th>SF</th>\n    </tr>\n    <tr>\n      <th>cell_line</th>\n      <th></th>\n    </tr>\n  </thead>\n  <tbody>\n    <tr>\n      <th>KMRC2-2</th>\n      <td>0.436296</td>\n    </tr>\n    <tr>\n      <th>A673-2</th>\n      <td>0.349923</td>\n    </tr>\n    <tr>\n      <th>L33-2</th>\n      <td>0.802621</td>\n    </tr>\n    <tr>\n      <th>NCIH2030-2</th>\n      <td>0.542406</td>\n    </tr>\n    <tr>\n      <th>SNU761-2</th>\n      <td>0.809869</td>\n    </tr>\n  </tbody>\n</table>\n</div>"
     },
     "execution_count": 27,
     "metadata": {},
     "output_type": "execute_result"
    }
   ],
   "source": [
    "df2 = transpose_df.loc[:, only_number_of_interest]\n",
    "df2 = df2.transpose()\n",
    "df2.to_csv('data/only_y_test_2.csv')\n",
    "df2.head()"
   ],
   "metadata": {
    "collapsed": false,
    "pycharm": {
     "name": "#%%\n"
    }
   }
  },
  {
   "cell_type": "code",
   "execution_count": null,
   "outputs": [],
   "source": [],
   "metadata": {
    "collapsed": false,
    "pycharm": {
     "name": "#%%\n"
    }
   }
  }
 ],
 "metadata": {
  "kernelspec": {
   "display_name": "Python 3",
   "language": "python",
   "name": "python3"
  },
  "language_info": {
   "codemirror_mode": {
    "name": "ipython",
    "version": 2
   },
   "file_extension": ".py",
   "mimetype": "text/x-python",
   "name": "python",
   "nbconvert_exporter": "python",
   "pygments_lexer": "ipython2",
   "version": "2.7.6"
  }
 },
 "nbformat": 4,
 "nbformat_minor": 0
}