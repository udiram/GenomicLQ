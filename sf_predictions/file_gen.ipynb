{
 "cells": [
  {
   "cell_type": "code",
   "execution_count": 1,
   "outputs": [],
   "source": [
    "import pandas as pd\n",
    "import numpy as np"
   ],
   "metadata": {
    "collapsed": false,
    "pycharm": {
     "name": "#%%\n"
    }
   }
  },
  {
   "cell_type": "code",
   "execution_count": 2,
   "outputs": [
    {
     "name": "stdout",
     "output_type": "stream",
     "text": [
      "<class 'pandas.core.frame.DataFrame'>\n",
      "RangeIndex: 2832 entries, 0 to 2831\n",
      "Columns: 15140 entries, cell_line to 6905\n",
      "dtypes: float64(15139), object(1)\n",
      "memory usage: 327.1+ MB\n",
      "None\n",
      "<class 'pandas.core.frame.DataFrame'>\n",
      "RangeIndex: 318 entries, 0 to 317\n",
      "Columns: 15140 entries, cell_line to 6905\n",
      "dtypes: float64(15139), object(1)\n",
      "memory usage: 36.7+ MB\n",
      "None\n",
      "<class 'pandas.core.frame.DataFrame'>\n",
      "Int64Index: 3150 entries, 0 to 317\n",
      "Columns: 15140 entries, cell_line to 6905\n",
      "dtypes: float64(15139), object(1)\n",
      "memory usage: 363.9+ MB\n",
      "None\n"
     ]
    }
   ],
   "source": [
    "df_train = pd.read_csv('data/x_train_234568.csv')\n",
    "df_test = pd.read_csv('data/x_test_234568.csv')\n",
    "big_df = pd.concat([df_train, df_test], axis=0)\n",
    "print(df_train.info())\n",
    "print(df_test.info())\n",
    "print(big_df.info())"
   ],
   "metadata": {
    "collapsed": false,
    "pycharm": {
     "name": "#%%\n"
    }
   }
  },
  {
   "cell_type": "code",
   "execution_count": 3,
   "outputs": [
    {
     "name": "stdout",
     "output_type": "stream",
     "text": [
      "<class 'pandas.core.frame.DataFrame'>\n",
      "RangeIndex: 2832 entries, 0 to 2831\n",
      "Data columns (total 2 columns):\n",
      " #   Column     Non-Null Count  Dtype  \n",
      "---  ------     --------------  -----  \n",
      " 0   cell_line  2832 non-null   object \n",
      " 1   SF         2832 non-null   float64\n",
      "dtypes: float64(1), object(1)\n",
      "memory usage: 44.4+ KB\n",
      "None\n",
      "<class 'pandas.core.frame.DataFrame'>\n",
      "RangeIndex: 318 entries, 0 to 317\n",
      "Data columns (total 2 columns):\n",
      " #   Column     Non-Null Count  Dtype  \n",
      "---  ------     --------------  -----  \n",
      " 0   cell_line  318 non-null    object \n",
      " 1   SF         318 non-null    float64\n",
      "dtypes: float64(1), object(1)\n",
      "memory usage: 5.1+ KB\n",
      "None\n",
      "<class 'pandas.core.frame.DataFrame'>\n",
      "Int64Index: 3150 entries, 0 to 317\n",
      "Data columns (total 2 columns):\n",
      " #   Column     Non-Null Count  Dtype  \n",
      "---  ------     --------------  -----  \n",
      " 0   cell_line  3150 non-null   object \n",
      " 1   SF         3150 non-null   float64\n",
      "dtypes: float64(1), object(1)\n",
      "memory usage: 73.8+ KB\n",
      "None\n"
     ]
    }
   ],
   "source": [
    "df_y_train = pd.read_csv('data/y_train_sf_234568.csv')\n",
    "df_y_test = pd.read_csv('data/y_test_sf_234568.csv')\n",
    "big_y_df = pd.concat([df_y_train, df_y_test], axis=0)\n",
    "print(df_y_train.info())\n",
    "print(df_y_test.info())\n",
    "print(big_y_df.info())"
   ],
   "metadata": {
    "collapsed": false,
    "pycharm": {
     "name": "#%%\n"
    }
   }
  },
  {
   "cell_type": "code",
   "execution_count": 4,
   "outputs": [],
   "source": [
    "big_df.to_csv('data/big_df.csv', index=None)\n",
    "big_y_df.to_csv('data/big_y_df.csv', index=None)"
   ],
   "metadata": {
    "collapsed": false,
    "pycharm": {
     "name": "#%%\n"
    }
   }
  },
  {
   "cell_type": "code",
   "execution_count": 5,
   "outputs": [],
   "source": [
    "big_df.set_index('cell_line', inplace=True)\n",
    "big_y_df.set_index('cell_line', inplace=True)"
   ],
   "metadata": {
    "collapsed": false,
    "pycharm": {
     "name": "#%%\n"
    }
   }
  },
  {
   "cell_type": "code",
   "execution_count": 6,
   "outputs": [
    {
     "data": {
      "text/plain": "                  SF\ncell_line           \nNCIH1568-2  0.607940\nNCIH1568-3  0.368697\nNCIH1568-4  0.333490\nNCIH1568-5  0.213180\nNCIH1568-6  0.191359",
      "text/html": "<div>\n<style scoped>\n    .dataframe tbody tr th:only-of-type {\n        vertical-align: middle;\n    }\n\n    .dataframe tbody tr th {\n        vertical-align: top;\n    }\n\n    .dataframe thead th {\n        text-align: right;\n    }\n</style>\n<table border=\"1\" class=\"dataframe\">\n  <thead>\n    <tr style=\"text-align: right;\">\n      <th></th>\n      <th>SF</th>\n    </tr>\n    <tr>\n      <th>cell_line</th>\n      <th></th>\n    </tr>\n  </thead>\n  <tbody>\n    <tr>\n      <th>NCIH1568-2</th>\n      <td>0.607940</td>\n    </tr>\n    <tr>\n      <th>NCIH1568-3</th>\n      <td>0.368697</td>\n    </tr>\n    <tr>\n      <th>NCIH1568-4</th>\n      <td>0.333490</td>\n    </tr>\n    <tr>\n      <th>NCIH1568-5</th>\n      <td>0.213180</td>\n    </tr>\n    <tr>\n      <th>NCIH1568-6</th>\n      <td>0.191359</td>\n    </tr>\n  </tbody>\n</table>\n</div>"
     },
     "execution_count": 6,
     "metadata": {},
     "output_type": "execute_result"
    }
   ],
   "source": [
    "big_y_df.head()"
   ],
   "metadata": {
    "collapsed": false,
    "pycharm": {
     "name": "#%%\n"
    }
   }
  },
  {
   "cell_type": "code",
   "execution_count": 7,
   "outputs": [
    {
     "data": {
      "text/plain": "cell_line  NCIH1568-2  NCIH1568-3  NCIH1568-4  NCIH1568-5  NCIH1568-6  \\\n7105         5.626439    5.626439    5.626439    5.626439    5.626439   \n8813         6.855242    6.855242    6.855242    6.855242    6.855242   \n57147        2.185867    2.185867    2.185867    2.185867    2.185867   \n55732        4.079805    4.079805    4.079805    4.079805    4.079805   \n2268         0.084064    0.084064    0.084064    0.084064    0.084064   \n\ncell_line  NCIH1568-8    SCC9-2    SCC9-3    SCC9-4    SCC9-5  ...  KYSE450-4  \\\n7105         5.626439  3.964399  3.964399  3.964399  3.964399  ...   3.572890   \n8813         6.855242  5.718088  5.718088  5.718088  5.718088  ...   7.267723   \n57147        2.185867  2.260026  2.260026  2.260026  2.260026  ...   2.416840   \n55732        4.079805  3.451541  3.451541  3.451541  3.451541  ...   3.543496   \n2268         0.084064  0.084064  0.084064  0.084064  0.084064  ...   0.042644   \n\ncell_line  KYSE450-5  KYSE450-6  KYSE450-8  OVCAR5-2  OVCAR5-3  OVCAR5-4  \\\n7105        3.572890   3.572890   3.572890  5.185074  5.185074  5.185074   \n8813        7.267723   7.267723   7.267723  6.916715  6.916715  6.916715   \n57147       2.416840   2.416840   2.416840  2.472488  2.472488  2.472488   \n55732       3.543496   3.543496   3.543496  3.793896  3.793896  3.793896   \n2268        0.042644   0.042644   0.042644  0.014355  0.014355  0.014355   \n\ncell_line  OVCAR5-5  OVCAR5-6  OVCAR5-8  \n7105       5.185074  5.185074  5.185074  \n8813       6.916715  6.916715  6.916715  \n57147      2.472488  2.472488  2.472488  \n55732      3.793896  3.793896  3.793896  \n2268       0.014355  0.014355  0.014355  \n\n[5 rows x 3150 columns]",
      "text/html": "<div>\n<style scoped>\n    .dataframe tbody tr th:only-of-type {\n        vertical-align: middle;\n    }\n\n    .dataframe tbody tr th {\n        vertical-align: top;\n    }\n\n    .dataframe thead th {\n        text-align: right;\n    }\n</style>\n<table border=\"1\" class=\"dataframe\">\n  <thead>\n    <tr style=\"text-align: right;\">\n      <th>cell_line</th>\n      <th>NCIH1568-2</th>\n      <th>NCIH1568-3</th>\n      <th>NCIH1568-4</th>\n      <th>NCIH1568-5</th>\n      <th>NCIH1568-6</th>\n      <th>NCIH1568-8</th>\n      <th>SCC9-2</th>\n      <th>SCC9-3</th>\n      <th>SCC9-4</th>\n      <th>SCC9-5</th>\n      <th>...</th>\n      <th>KYSE450-4</th>\n      <th>KYSE450-5</th>\n      <th>KYSE450-6</th>\n      <th>KYSE450-8</th>\n      <th>OVCAR5-2</th>\n      <th>OVCAR5-3</th>\n      <th>OVCAR5-4</th>\n      <th>OVCAR5-5</th>\n      <th>OVCAR5-6</th>\n      <th>OVCAR5-8</th>\n    </tr>\n  </thead>\n  <tbody>\n    <tr>\n      <th>7105</th>\n      <td>5.626439</td>\n      <td>5.626439</td>\n      <td>5.626439</td>\n      <td>5.626439</td>\n      <td>5.626439</td>\n      <td>5.626439</td>\n      <td>3.964399</td>\n      <td>3.964399</td>\n      <td>3.964399</td>\n      <td>3.964399</td>\n      <td>...</td>\n      <td>3.572890</td>\n      <td>3.572890</td>\n      <td>3.572890</td>\n      <td>3.572890</td>\n      <td>5.185074</td>\n      <td>5.185074</td>\n      <td>5.185074</td>\n      <td>5.185074</td>\n      <td>5.185074</td>\n      <td>5.185074</td>\n    </tr>\n    <tr>\n      <th>8813</th>\n      <td>6.855242</td>\n      <td>6.855242</td>\n      <td>6.855242</td>\n      <td>6.855242</td>\n      <td>6.855242</td>\n      <td>6.855242</td>\n      <td>5.718088</td>\n      <td>5.718088</td>\n      <td>5.718088</td>\n      <td>5.718088</td>\n      <td>...</td>\n      <td>7.267723</td>\n      <td>7.267723</td>\n      <td>7.267723</td>\n      <td>7.267723</td>\n      <td>6.916715</td>\n      <td>6.916715</td>\n      <td>6.916715</td>\n      <td>6.916715</td>\n      <td>6.916715</td>\n      <td>6.916715</td>\n    </tr>\n    <tr>\n      <th>57147</th>\n      <td>2.185867</td>\n      <td>2.185867</td>\n      <td>2.185867</td>\n      <td>2.185867</td>\n      <td>2.185867</td>\n      <td>2.185867</td>\n      <td>2.260026</td>\n      <td>2.260026</td>\n      <td>2.260026</td>\n      <td>2.260026</td>\n      <td>...</td>\n      <td>2.416840</td>\n      <td>2.416840</td>\n      <td>2.416840</td>\n      <td>2.416840</td>\n      <td>2.472488</td>\n      <td>2.472488</td>\n      <td>2.472488</td>\n      <td>2.472488</td>\n      <td>2.472488</td>\n      <td>2.472488</td>\n    </tr>\n    <tr>\n      <th>55732</th>\n      <td>4.079805</td>\n      <td>4.079805</td>\n      <td>4.079805</td>\n      <td>4.079805</td>\n      <td>4.079805</td>\n      <td>4.079805</td>\n      <td>3.451541</td>\n      <td>3.451541</td>\n      <td>3.451541</td>\n      <td>3.451541</td>\n      <td>...</td>\n      <td>3.543496</td>\n      <td>3.543496</td>\n      <td>3.543496</td>\n      <td>3.543496</td>\n      <td>3.793896</td>\n      <td>3.793896</td>\n      <td>3.793896</td>\n      <td>3.793896</td>\n      <td>3.793896</td>\n      <td>3.793896</td>\n    </tr>\n    <tr>\n      <th>2268</th>\n      <td>0.084064</td>\n      <td>0.084064</td>\n      <td>0.084064</td>\n      <td>0.084064</td>\n      <td>0.084064</td>\n      <td>0.084064</td>\n      <td>0.084064</td>\n      <td>0.084064</td>\n      <td>0.084064</td>\n      <td>0.084064</td>\n      <td>...</td>\n      <td>0.042644</td>\n      <td>0.042644</td>\n      <td>0.042644</td>\n      <td>0.042644</td>\n      <td>0.014355</td>\n      <td>0.014355</td>\n      <td>0.014355</td>\n      <td>0.014355</td>\n      <td>0.014355</td>\n      <td>0.014355</td>\n    </tr>\n  </tbody>\n</table>\n<p>5 rows × 3150 columns</p>\n</div>"
     },
     "execution_count": 7,
     "metadata": {},
     "output_type": "execute_result"
    }
   ],
   "source": [
    "transpose_df = big_df.transpose()\n",
    "transpose_df.head()"
   ],
   "metadata": {
    "collapsed": false,
    "pycharm": {
     "name": "#%%\n"
    }
   }
  },
  {
   "cell_type": "code",
   "execution_count": 8,
   "outputs": [
    {
     "data": {
      "text/plain": "cell_line  NCIH1568-2  NCIH1568-3  NCIH1568-4  NCIH1568-5  NCIH1568-6  \\\nSF            0.60794    0.368697     0.33349     0.21318    0.191359   \n\ncell_line  NCIH1568-8    SCC9-2    SCC9-3    SCC9-4   SCC9-5  ...  KYSE450-4  \\\nSF           0.128478  0.573035  0.225289  0.269735  0.19076  ...    0.73979   \n\ncell_line  KYSE450-5  KYSE450-6  KYSE450-8  OVCAR5-2  OVCAR5-3  OVCAR5-4  \\\nSF          0.635183   0.445215   0.108089  0.607771  0.320905   0.20997   \n\ncell_line  OVCAR5-5  OVCAR5-6  OVCAR5-8  \nSF         0.442143  0.142699    0.0462  \n\n[1 rows x 3150 columns]",
      "text/html": "<div>\n<style scoped>\n    .dataframe tbody tr th:only-of-type {\n        vertical-align: middle;\n    }\n\n    .dataframe tbody tr th {\n        vertical-align: top;\n    }\n\n    .dataframe thead th {\n        text-align: right;\n    }\n</style>\n<table border=\"1\" class=\"dataframe\">\n  <thead>\n    <tr style=\"text-align: right;\">\n      <th>cell_line</th>\n      <th>NCIH1568-2</th>\n      <th>NCIH1568-3</th>\n      <th>NCIH1568-4</th>\n      <th>NCIH1568-5</th>\n      <th>NCIH1568-6</th>\n      <th>NCIH1568-8</th>\n      <th>SCC9-2</th>\n      <th>SCC9-3</th>\n      <th>SCC9-4</th>\n      <th>SCC9-5</th>\n      <th>...</th>\n      <th>KYSE450-4</th>\n      <th>KYSE450-5</th>\n      <th>KYSE450-6</th>\n      <th>KYSE450-8</th>\n      <th>OVCAR5-2</th>\n      <th>OVCAR5-3</th>\n      <th>OVCAR5-4</th>\n      <th>OVCAR5-5</th>\n      <th>OVCAR5-6</th>\n      <th>OVCAR5-8</th>\n    </tr>\n  </thead>\n  <tbody>\n    <tr>\n      <th>SF</th>\n      <td>0.60794</td>\n      <td>0.368697</td>\n      <td>0.33349</td>\n      <td>0.21318</td>\n      <td>0.191359</td>\n      <td>0.128478</td>\n      <td>0.573035</td>\n      <td>0.225289</td>\n      <td>0.269735</td>\n      <td>0.19076</td>\n      <td>...</td>\n      <td>0.73979</td>\n      <td>0.635183</td>\n      <td>0.445215</td>\n      <td>0.108089</td>\n      <td>0.607771</td>\n      <td>0.320905</td>\n      <td>0.20997</td>\n      <td>0.442143</td>\n      <td>0.142699</td>\n      <td>0.0462</td>\n    </tr>\n  </tbody>\n</table>\n<p>1 rows × 3150 columns</p>\n</div>"
     },
     "execution_count": 8,
     "metadata": {},
     "output_type": "execute_result"
    }
   ],
   "source": [
    "transpose_y_df = big_y_df.transpose()\n",
    "transpose_y_df.head()"
   ],
   "metadata": {
    "collapsed": false,
    "pycharm": {
     "name": "#%%\n"
    }
   }
  },
  {
   "cell_type": "code",
   "execution_count": 9,
   "outputs": [],
   "source": [
    "cell_line_list = transpose_df.columns.tolist()"
   ],
   "metadata": {
    "collapsed": false,
    "pycharm": {
     "name": "#%%\n"
    }
   }
  },
  {
   "cell_type": "code",
   "execution_count": 10,
   "outputs": [
    {
     "name": "stdout",
     "output_type": "stream",
     "text": [
      "['NCIH1568-2', 'SCC9-2', 'HCC1428-2', 'U2OS-2', 'LU99-2', 'CALU3-2', 'SNU449-2', 'NCIH1623-2', 'SW1116-2', 'NCIH2291-2', 'JHH4-2', 'HCC1438-2', 'MDAMB415-2', 'NCIH69-2', 'DLD1-2', 'OVTOKO-2', 'OC314-2', 'FUOV1-2', 'SKMEL2-2', 'MHHNB11-2', 'WM115-2', 'HCC4006-2', '42MGBA-2', 'OVMANA-2', 'A253-2', 'SNU46-2', 'EPLC272H-2', 'NCIH522-2', 'HS729-2', 'DETROIT562-2', 'U251MG-2', 'HCT15-2', 'H4-2', 'HUPT3-2', 'SNUC4-2', 'SW1573-2', 'SKNSH-2', 'UBLC1-2', 'LS1034-2', 'A204-2', 'SW1710-2', 'TOV21G-2', 'IGROV1-2', 'GI1-2', 'HCC1937-2', 'COLO829-2', 'SKMEL30-2', 'PC3-2', 'ZR7530-2', 'RMUGS-2', 'NB1-2', 'SKUT1-2', 'HUH1-2', 'IGR37-2', 'YKG1-2', 'SNU1077-2', '8MGBA-2', 'OVCAR8-2', 'HS839T-2', 'OVCAR4-2', 'PSN1-2', 'NCIH1869-2', 'PECAPJ41CLONED2-2', 'SKCO1-2', 'SW1088-2', 'MDAMB157-2', 'G292CLONEA141B1-2', 'NCIH1975-2', 'SKBR3-2', 'CJM-2', 'BICR6-2', 'HS683-2', 'CAPAN2-2', 'HARA-2', 'GAMG-2', 'TE9-2', 'KNS42-2', 'NCIH1573-2', 'CL34-2', 'COLO679-2', '8505C-2', 'A101D-2', 'NCIH810-2', 'PANC0203-2', 'LC1SQSF-2', 'SNU387-2', 'HT55-2', 'SW948-2', 'HS294T-2', 'OAW42-2', 'SW1271-2', 'PANC0327-2', 'KNS81-2', 'HS766T-2', 'HCC366-2', 'NCIH650-2', 'COLO678-2', 'KNS60-2', 'SNU1214-2', 'SNU719-2', 'YD8-2', 'JHUEM1-2', 'HS934T-2', 'CL11-2', 'JHOM1-2', 'LOUNH91-2', 'JHH1-2', 'BXPC3-2', 'M059K-2', 'NCIH2342-2', 'NCIH446-2', 'KMBC2-2', 'CHAGOK1-2', 'DAOY-2', 'BICR16-2', 'LI7-2', 'LS180-2', '769P-2', 'OVISE-2', 'KLE-2', 'SKMEL24-2', '786O-2', 'HEC6-2', 'NCIH1395-2', 'HEC1A-2', 'LCLC103H-2', 'HCC2279-2', 'AU565-2', 'COV362-2', 'AN3CA-2', 'ML1-2', 'A498-2', 'HT144-2', 'NCIH2110-2', 'SKNMC-2', 'NCIH2052-2', 'COLO800-2', 'TE1-2', 'KYSE140-2', 'HCC202-2', 'DMS53-2', 'SKNFI-2', 'NIHOVCAR3-2', 'JMSU1-2', 'WM2664-2', 'TYKNU-2', 'HS888T-2', 'WM88-2', 'SF268-2', 'SNU398-2', 'SW837-2', 'PANC0403-2', 'SNU840-2', 'CFPAC1-2', 'JHOS2-2', 'JHH5-2', 'HCC1806-2', 'NCIH292-2', 'PC14-2', 'HSC2-2', 'GP2D-2', 'OV7-2', 'COLO783-2', 'RERFLCAD2-2', 'RCC10RGB-2', 'ISTMES1-2', 'SW403-2', 'MHHES1-2', 'TCCSUP-2', 'NCIH1650-2', 'KYM1-2', 'EKVX-2', 'SKMEL3-2', 'OSRC2-2', 'NCIH1781-2', 'FADU-2', 'SNU478-2', 'U87MG-2', 'OE21-2', 'NCIH2122-2', 'ESS1-2', 'AGS-2', 'SNU245-2', 'JHUEM3-2', 'HEYA8-2', 'HS819T-2', 'HOP92-2', 'SNU503-2', 'CAL12T-2', 'HT115-2', 'EFE184-2', 'SNU869-2', 'SNU899-2', 'CORL105-2', 'OE33-2', 'YH13-2', 'HEC59-2', 'GB1-2', 'SNU61-2', '5637-2', 'SNU601-2', 'KYSE150-2', 'ACHN-2', 'HLF-2', 'LS123-2', 'NUGC3-2', 'HCC15-2', 'UMUC3-2', 'HUPT4-2', 'HT1197-2', 'SCABER-2', 'OVSAHO-2', 'NCIH226-2', 'HEC1B-2', 'SHP77-2', 'MDAMB435S-2', 'SNU1196-2', 'T47D-2', 'RL952-2', 'MDAMB453-2', 'LCLC97TM1-2', 'HEC108-2', 'BT549-2', 'EFO27-2', 'CALU1-2', 'COLO680N-2', 'JL1-2', 'SKOV3-2', 'TM31-2', 'NCIH2405-2', 'KURAMOCHI-2', 'DANG-2', 'C2BBE1-2', 'NCIH2452-2', 'BICR56-2', 'SCC25-2', 'PLCPRF5-2', 'WM983B-2', 'KU1919-2', 'BICR22-2', 'PECAPJ15-2', 'NCIH520-2', 'HS746T-2', 'PECAPJ34CLONEC12-2', 'RCM1-2', 'HEC265-2', 'KNS62-2', 'GMS10-2', 'RERFLCMS-2', 'SW1463-2', 'RH30-2', 'KP3-2', 'SNU1041-2', 'JHH2-2', 'KP2-2', 'SU8686-2', 'KE39-2', 'LK2-2', 'MEWO-2', 'COV318-2', 'BCPAP-2', 'KPNSI9S-2', 'NCIH2087-2', 'KYSE30-2', 'HCC78-2', 'HCC1419-2', 'HSC4-2', 'SNUC2A-2', 'SNU216-2', 'CAL148-2', 'NCIH1339-2', 'SW48-2', 'DM3-2', 'SNU1272-2', 'OV90-2', 'NCIH841-2', 'A2780-2', 'NCIH1703-2', 'NCIH838-2', 'UO31-2', 'MDAMB231-2', 'KYSE70-2', 'HS895T-2', 'ECC12-2', 'HCC1833-2', 'BHT101-2', 'HCC1195-2', 'HOP62-2', 'HPAFII-2', 'ACCMESO1-2', 'SNB75-2', 'NUGC4-2', 'HCC1171-2', 'SKES1-2', 'HEC50B-2', 'LN229-2', 'MFE296-2', 'T24-2', 'NCIH508-2', 'NCIH727-2', 'SNU407-2', 'MCAS-2', 'TE11-2', 'TT2609C02-2', 'AM38-2', 'NCIN87-2', 'NCIH196-2', 'MORCPR-2', 'KYSE510-2', 'SNU1033-2', '647V-2', 'RERFLCAI-2', 'HCC38-2', 'NCIH1563-2', 'NCIH1666-2', 'DKMG-2', 'IPC298-2', 'SKNAS-2', 'WM793-2', 'NCIH1341-2', 'NCIH1915-2', 'T84-2', 'IM95-2', 'TE617T-2', 'DMS114-2', 'NCIH2286-2', 'MESSA-2', 'A2058-2', 'PATU8988S-2', 'SKHEP1-2', 'EFM192A-2', 'MKN7-2', 'C32-2', 'JHOC5-2', 'COLO668-2', 'CAL51-2', 'MPP89-2', 'CCFSTTG1-2', 'KMRC3-2', 'SNU308-2', 'SNU283-2', 'SNU886-2', 'HCC2935-2', 'KYSE180-2', 'COLO699-2', 'SKNBE2-2', 'RERFLCAD1-2', 'HCC827-2', 'J82-2', 'BC3C-2', 'SKMEL28-2', 'CAL78-2', 'TE10-2', 'SF126-2', '22RV1-2', 'RH41-2', 'K029AX-2', 'SKLMS1-2', 'PK1-2', 'SW1990-2', 'G401-2', 'RT112-2', 'OVKATE-2', 'NCIH2196-2', 'NCIH1838-2', 'IGR1-2', 'PK45H-2', 'MDAMB468-2', 'FTC133-2', 'VMRCRCW-2', 'FTC238-2', 'TE125T-2', 'HT1376-2', 'COV434-2', 'NCIH2228-2', 'CAPAN1-2', 'OV56-2', 'QGP1-2', 'SF539-2', 'KMRC1-2', 'NCIH1435-2', 'KYSE520-2', 'HMCB-2', 'HEP3B217-2', 'OCUM1-2', 'IGR39-2', 'PANC0504-2', 'HCC95-2', 'TE8-2', 'CAOV3-2', 'MG63-2', 'NCIH747-2', 'KATOIII-2', 'ECGI10-2', 'SNU119-2', 'HCC2108-2', 'YD15-2', 'T3M10-2', 'UMUC1-2', 'TUHR10TKB-2', 'RKO-2', 'ES2-2', 'EBC1-2', 'SNU175-2', 'MKN74-2', 'HCC1954-2', 'PANC1005-2', 'NCIH1793-2', 'COLO320-2', 'SNU1105-2', 'NCIH661-2', 'MELHO-2', 'RD-2', 'TE6-2', 'SNU466-2', 'CAL54-2', 'GOS3-2', 'RT4-2', 'VMCUB1-2', 'NCIH1299-2', 'TE15-2', 'CAKI2-2', 'RVH421-2', 'CHP212-2', 'SNGM-2', 'T98G-2', 'HCC56-2', 'NCIH1792-2', 'BICR31-2', 'IMR32-2', 'PK59-2', 'SNUC5-2', 'HS944T-2', 'HOS-2', 'LS513-2', 'KALS1-2', 'BT20-2', 'BT474-2', 'HCC44-2', 'ISHIKAWAHERAKLIO02ER-2', 'MKN45-2', 'SNU685-2', 'NCIH1755-2', 'SNU1066-2', 'SH10TC-2', 'U118MG-2', 'HMC18-2', 'NCIH1651-2', 'VMRCRCZ-2', 'IALM-2', 'YD38-2', 'G402-2', 'ONCODG1-2', 'SNU668-2', 'SNU182-2', 'OE19-2', 'JHUEM2-2', 'LS411N-2', 'SW1417-2', 'HCC1569-2', 'D283MED-2', 'HUH28-2', 'EFO21-2', 'TE14-2', 'NCIH322-2', 'SF295-2', 'SW579-2', 'COV644-2', 'NCIH1373-2', 'A172-2', 'PATU8902-2', 'JHH6-2', 'KMRC2-2', 'A673-2', 'L33-2', 'NCIH2030-2', 'SNU761-2', 'YD10B-2', 'SJSA1-2', 'SKMEL5-2', 'VCAP-2', 'GCT-2', 'NCIH1944-2', 'MFE319-2', 'DBTRG05MG-2', 'LMSU-2', 'HEC251-2', 'NCIH1048-2', 'HELA-2', 'RH18-2', 'MDAMB361-2', 'HT29-2', 'SNU475-2', 'SNU423-2', 'SNU81-2', 'NCIH358-2', 'CAKI1-2', 'NCIH23-2', 'NCIH211-2', 'SAOS2-2', 'KYSE410-2', 'ONS76-2', 'CAMA1-2', 'LUDLU1-2', 'TOV112D-2', 'PATU8988T-2', 'SW480-2', 'CW2-2', 'OVK18-2', 'LOVO-2', 'NCIH1355-2', 'PANC0813-2', 'TCCPAN2-2', 'ZR751-2', 'MCF7-2', 'TE4-2', 'HEPG2-2', 'WM1799-2', 'ASPC1-2', 'PECAPJ49-2', 'HSC3-2', 'LN18-2', 'HEC151-2', 'KYSE450-2', 'OVCAR5-2']\n"
     ]
    }
   ],
   "source": [
    "only_number_of_interest = []\n",
    "for cell_line in cell_line_list:\n",
    "    cell_line_number = cell_line.split('-')[1]\n",
    "    if cell_line_number == '2':\n",
    "        only_number_of_interest.append(cell_line)\n",
    "print(only_number_of_interest)"
   ],
   "metadata": {
    "collapsed": false,
    "pycharm": {
     "name": "#%%\n"
    }
   }
  },
  {
   "cell_type": "code",
   "execution_count": 38,
   "outputs": [
    {
     "data": {
      "text/plain": "                7105      8813     57147     55732      2268      3075  \\\ncell_line                                                                \nNCIH1568-2  5.626439  6.855242  2.185867  4.079805  0.084064  0.176323   \nSCC9-2      3.964399  5.718088  2.260026  3.451541  0.084064  0.782409   \nHCC1428-2   4.002703  5.870365  3.621759  3.861955  0.014355  0.485427   \nU2OS-2      5.098453  6.543496  2.117695  4.115200  0.014355  0.432959   \nLU99-2      3.665620  6.716717  2.100978  4.176323  0.000000  1.263034   \n\n                2519      2729      4800     90529  ...      8359      8336  \\\ncell_line                                           ...                       \nNCIH1568-2  6.824513  4.956521  3.766595  2.298658  ...  0.555816  0.622930   \nSCC9-2      6.039796  5.778734  4.903038  2.711495  ...  0.000000  1.536053   \nHCC1428-2   4.614121  5.286881  4.429616  3.442280  ...  0.464668  3.033863   \nU2OS-2      5.684258  4.847997  5.108524  2.189034  ...  2.307429  0.176323   \nLU99-2      6.124948  4.395063  5.070389  2.669027  ...  1.207893  1.321928   \n\n               84311    126661     79447    283521     29122      9997  \\\ncell_line                                                                \nNCIH1568-2  5.373996  1.956057  5.482203  0.422233  0.176323  0.918386   \nSCC9-2      5.042207  2.344828  3.937344  0.000000  0.042644  2.475085   \nHCC1428-2   4.539159  1.970854  5.895303  0.622930  0.014355  0.918386   \nU2OS-2      5.028569  2.967169  4.995937  0.111031  0.042644  2.010780   \nLU99-2      6.613679  1.438293  4.349082  0.000000  0.111031  1.111031   \n\n              388963      6905  \ncell_line                       \nNCIH1568-2  1.778209  4.050502  \nSCC9-2      1.176323  4.174726  \nHCC1428-2   2.244887  5.555816  \nU2OS-2      1.925999  4.635754  \nLU99-2      1.632268  5.197315  \n\n[5 rows x 15139 columns]",
      "text/html": "<div>\n<style scoped>\n    .dataframe tbody tr th:only-of-type {\n        vertical-align: middle;\n    }\n\n    .dataframe tbody tr th {\n        vertical-align: top;\n    }\n\n    .dataframe thead th {\n        text-align: right;\n    }\n</style>\n<table border=\"1\" class=\"dataframe\">\n  <thead>\n    <tr style=\"text-align: right;\">\n      <th></th>\n      <th>7105</th>\n      <th>8813</th>\n      <th>57147</th>\n      <th>55732</th>\n      <th>2268</th>\n      <th>3075</th>\n      <th>2519</th>\n      <th>2729</th>\n      <th>4800</th>\n      <th>90529</th>\n      <th>...</th>\n      <th>8359</th>\n      <th>8336</th>\n      <th>84311</th>\n      <th>126661</th>\n      <th>79447</th>\n      <th>283521</th>\n      <th>29122</th>\n      <th>9997</th>\n      <th>388963</th>\n      <th>6905</th>\n    </tr>\n    <tr>\n      <th>cell_line</th>\n      <th></th>\n      <th></th>\n      <th></th>\n      <th></th>\n      <th></th>\n      <th></th>\n      <th></th>\n      <th></th>\n      <th></th>\n      <th></th>\n      <th></th>\n      <th></th>\n      <th></th>\n      <th></th>\n      <th></th>\n      <th></th>\n      <th></th>\n      <th></th>\n      <th></th>\n      <th></th>\n      <th></th>\n    </tr>\n  </thead>\n  <tbody>\n    <tr>\n      <th>NCIH1568-2</th>\n      <td>5.626439</td>\n      <td>6.855242</td>\n      <td>2.185867</td>\n      <td>4.079805</td>\n      <td>0.084064</td>\n      <td>0.176323</td>\n      <td>6.824513</td>\n      <td>4.956521</td>\n      <td>3.766595</td>\n      <td>2.298658</td>\n      <td>...</td>\n      <td>0.555816</td>\n      <td>0.622930</td>\n      <td>5.373996</td>\n      <td>1.956057</td>\n      <td>5.482203</td>\n      <td>0.422233</td>\n      <td>0.176323</td>\n      <td>0.918386</td>\n      <td>1.778209</td>\n      <td>4.050502</td>\n    </tr>\n    <tr>\n      <th>SCC9-2</th>\n      <td>3.964399</td>\n      <td>5.718088</td>\n      <td>2.260026</td>\n      <td>3.451541</td>\n      <td>0.084064</td>\n      <td>0.782409</td>\n      <td>6.039796</td>\n      <td>5.778734</td>\n      <td>4.903038</td>\n      <td>2.711495</td>\n      <td>...</td>\n      <td>0.000000</td>\n      <td>1.536053</td>\n      <td>5.042207</td>\n      <td>2.344828</td>\n      <td>3.937344</td>\n      <td>0.000000</td>\n      <td>0.042644</td>\n      <td>2.475085</td>\n      <td>1.176323</td>\n      <td>4.174726</td>\n    </tr>\n    <tr>\n      <th>HCC1428-2</th>\n      <td>4.002703</td>\n      <td>5.870365</td>\n      <td>3.621759</td>\n      <td>3.861955</td>\n      <td>0.014355</td>\n      <td>0.485427</td>\n      <td>4.614121</td>\n      <td>5.286881</td>\n      <td>4.429616</td>\n      <td>3.442280</td>\n      <td>...</td>\n      <td>0.464668</td>\n      <td>3.033863</td>\n      <td>4.539159</td>\n      <td>1.970854</td>\n      <td>5.895303</td>\n      <td>0.622930</td>\n      <td>0.014355</td>\n      <td>0.918386</td>\n      <td>2.244887</td>\n      <td>5.555816</td>\n    </tr>\n    <tr>\n      <th>U2OS-2</th>\n      <td>5.098453</td>\n      <td>6.543496</td>\n      <td>2.117695</td>\n      <td>4.115200</td>\n      <td>0.014355</td>\n      <td>0.432959</td>\n      <td>5.684258</td>\n      <td>4.847997</td>\n      <td>5.108524</td>\n      <td>2.189034</td>\n      <td>...</td>\n      <td>2.307429</td>\n      <td>0.176323</td>\n      <td>5.028569</td>\n      <td>2.967169</td>\n      <td>4.995937</td>\n      <td>0.111031</td>\n      <td>0.042644</td>\n      <td>2.010780</td>\n      <td>1.925999</td>\n      <td>4.635754</td>\n    </tr>\n    <tr>\n      <th>LU99-2</th>\n      <td>3.665620</td>\n      <td>6.716717</td>\n      <td>2.100978</td>\n      <td>4.176323</td>\n      <td>0.000000</td>\n      <td>1.263034</td>\n      <td>6.124948</td>\n      <td>4.395063</td>\n      <td>5.070389</td>\n      <td>2.669027</td>\n      <td>...</td>\n      <td>1.207893</td>\n      <td>1.321928</td>\n      <td>6.613679</td>\n      <td>1.438293</td>\n      <td>4.349082</td>\n      <td>0.000000</td>\n      <td>0.111031</td>\n      <td>1.111031</td>\n      <td>1.632268</td>\n      <td>5.197315</td>\n    </tr>\n  </tbody>\n</table>\n<p>5 rows × 15139 columns</p>\n</div>"
     },
     "execution_count": 38,
     "metadata": {},
     "output_type": "execute_result"
    }
   ],
   "source": [
    "df2 = transpose_df.loc[:, only_number_of_interest]\n",
    "df2 = df2.transpose()\n",
    "df2.head()"
   ],
   "metadata": {
    "collapsed": false,
    "pycharm": {
     "name": "#%%\n"
    }
   }
  },
  {
   "cell_type": "code",
   "execution_count": 39,
   "outputs": [
    {
     "data": {
      "text/plain": "cell_line  NCIH1568-2    SCC9-2  HCC1428-2    U2OS-2    LU99-2   CALU3-2  \\\nSF            0.60794  0.573035   0.450188  0.526517  0.625161  0.288041   \n\ncell_line  SNU449-2  NCIH1623-2  SW1116-2  NCIH2291-2  ...     TE4-2  \\\nSF         0.680876    0.617709  0.773369    0.656893  ...  0.580681   \n\ncell_line   HEPG2-2  WM1799-2   ASPC1-2  PECAPJ49-2    HSC3-2    LN18-2  \\\nSF         0.888062  0.652288  0.587614     0.55456  0.378958  0.619917   \n\ncell_line  HEC151-2  KYSE450-2  OVCAR5-2  \nSF         0.346245   0.954214  0.607771  \n\n[1 rows x 525 columns]",
      "text/html": "<div>\n<style scoped>\n    .dataframe tbody tr th:only-of-type {\n        vertical-align: middle;\n    }\n\n    .dataframe tbody tr th {\n        vertical-align: top;\n    }\n\n    .dataframe thead th {\n        text-align: right;\n    }\n</style>\n<table border=\"1\" class=\"dataframe\">\n  <thead>\n    <tr style=\"text-align: right;\">\n      <th>cell_line</th>\n      <th>NCIH1568-2</th>\n      <th>SCC9-2</th>\n      <th>HCC1428-2</th>\n      <th>U2OS-2</th>\n      <th>LU99-2</th>\n      <th>CALU3-2</th>\n      <th>SNU449-2</th>\n      <th>NCIH1623-2</th>\n      <th>SW1116-2</th>\n      <th>NCIH2291-2</th>\n      <th>...</th>\n      <th>TE4-2</th>\n      <th>HEPG2-2</th>\n      <th>WM1799-2</th>\n      <th>ASPC1-2</th>\n      <th>PECAPJ49-2</th>\n      <th>HSC3-2</th>\n      <th>LN18-2</th>\n      <th>HEC151-2</th>\n      <th>KYSE450-2</th>\n      <th>OVCAR5-2</th>\n    </tr>\n  </thead>\n  <tbody>\n    <tr>\n      <th>SF</th>\n      <td>0.60794</td>\n      <td>0.573035</td>\n      <td>0.450188</td>\n      <td>0.526517</td>\n      <td>0.625161</td>\n      <td>0.288041</td>\n      <td>0.680876</td>\n      <td>0.617709</td>\n      <td>0.773369</td>\n      <td>0.656893</td>\n      <td>...</td>\n      <td>0.580681</td>\n      <td>0.888062</td>\n      <td>0.652288</td>\n      <td>0.587614</td>\n      <td>0.55456</td>\n      <td>0.378958</td>\n      <td>0.619917</td>\n      <td>0.346245</td>\n      <td>0.954214</td>\n      <td>0.607771</td>\n    </tr>\n  </tbody>\n</table>\n<p>1 rows × 525 columns</p>\n</div>"
     },
     "execution_count": 39,
     "metadata": {},
     "output_type": "execute_result"
    }
   ],
   "source": [
    "df2_y = transpose_y_df.loc[:, only_number_of_interest]\n",
    "df2.to_csv(\"data/only2_big.csv\")\n",
    "df2_y.head()"
   ],
   "metadata": {
    "collapsed": false,
    "pycharm": {
     "name": "#%%\n"
    }
   }
  },
  {
   "cell_type": "code",
   "execution_count": 40,
   "outputs": [
    {
     "data": {
      "text/plain": "                  SF\ncell_line           \nNCIH1568-2  0.607940\nSCC9-2      0.573035\nHCC1428-2   0.450188\nU2OS-2      0.526517\nLU99-2      0.625161",
      "text/html": "<div>\n<style scoped>\n    .dataframe tbody tr th:only-of-type {\n        vertical-align: middle;\n    }\n\n    .dataframe tbody tr th {\n        vertical-align: top;\n    }\n\n    .dataframe thead th {\n        text-align: right;\n    }\n</style>\n<table border=\"1\" class=\"dataframe\">\n  <thead>\n    <tr style=\"text-align: right;\">\n      <th></th>\n      <th>SF</th>\n    </tr>\n    <tr>\n      <th>cell_line</th>\n      <th></th>\n    </tr>\n  </thead>\n  <tbody>\n    <tr>\n      <th>NCIH1568-2</th>\n      <td>0.607940</td>\n    </tr>\n    <tr>\n      <th>SCC9-2</th>\n      <td>0.573035</td>\n    </tr>\n    <tr>\n      <th>HCC1428-2</th>\n      <td>0.450188</td>\n    </tr>\n    <tr>\n      <th>U2OS-2</th>\n      <td>0.526517</td>\n    </tr>\n    <tr>\n      <th>LU99-2</th>\n      <td>0.625161</td>\n    </tr>\n  </tbody>\n</table>\n</div>"
     },
     "execution_count": 40,
     "metadata": {},
     "output_type": "execute_result"
    }
   ],
   "source": [
    "df2_y.to_csv(\"data/only2_y_big.csv\")\n",
    "df2_y = df2_y.transpose()\n",
    "df2_y.head()"
   ],
   "metadata": {
    "collapsed": false,
    "pycharm": {
     "name": "#%%\n"
    }
   }
  },
  {
   "cell_type": "code",
   "execution_count": 41,
   "outputs": [
    {
     "name": "stdout",
     "output_type": "stream",
     "text": [
      "[0.607939586, 0.573034936, 0.450187541, 0.526517154, 0.62516102, 0.288041344, 0.680876225, 0.617709187, 0.773368828, 0.656893391, 0.684841851, 0.864685125, 0.625638466, 0.471094972, 0.514377604, 0.636503955, 0.487424971, 0.6445884, 0.293120491, 0.0652, 0.697243985, 0.657366049, 0.758304282, 0.705803231, 0.309656085, 0.654470794, 0.693458827, 0.523985386, 0.577927408, 0.765791783, 0.664208761, 0.163716934, 0.820865321, 0.622889732, 0.492937792, 0.762902244, 0.308686009, 0.624348944, 0.824810915, 0.381676649, 0.867291739, 0.133856517, 0.442439081, 0.492897041, 0.64302206, 0.748380533, 0.797011797, 0.550270209, 0.894529315, 0.849395534, 0.216938871, 0.356971744, 0.686707511, 0.894010607, 0.391514065, 0.710263861, 0.482677763, 0.66060661, 0.663339322, 0.392554631, 0.362271712, 0.851032207, 0.57526986, 0.274519283, 1.039376765, 0.579039601, 0.435398332, 0.45348309, 0.562613764, 0.802657129, 0.348698173, 1.152966439, 0.212502171, 0.646612081, 0.986785269, 0.434001563, 0.722236314, 0.782653991, 0.672590198, 0.684572589, 0.75963711, 0.953137632, 0.281526695, 0.679141946, 0.634533739, 0.71929035, 0.558856219, 0.757030694, 0.356444093, 0.600913601, 0.652899222, 0.647935474, 0.539204235, 0.874086688, 0.407007892, 0.845526156, 0.709745553, 0.709523376, 0.52680743, 0.619284653, 0.94428182, 0.341671745, 0.575338204, 0.47243655, 0.878895088, 0.695546342, 0.858320248, 0.46773508, 0.847921654, 0.634946962, 0.217731183, 0.720281645, 0.83018419, 0.447901117, 0.661657067, 0.64807485, 0.159367544, 0.599453291, 0.619015905, 0.430579413, 0.494396874, 0.855890857, 0.332193044, 0.797551529, 0.518870418, 0.850518732, 0.498682412, 0.7168325, 0.643404395, 0.587827529, 0.483783259, 0.627890469, 0.211335556, 0.728650147, 0.491351704, 0.607369763, 0.559849674, 0.453194965, 0.747648473, 0.801573629, 0.609860361, 0.618171311, 0.418506242, 0.645915768, 0.87883676, 0.884195257, 0.582008425, 0.408535624, 0.564047759, 0.619819943, 0.920793815, 0.488883014, 0.513344715, 0.528437516, 0.619934627, 0.515147509, 0.823472401, 1.053865373, 0.467367751, 0.887279462, 0.369003062, 0.589733901, 0.461886352, 0.672388211, 0.72016808, 0.451530942, 0.367308517, 0.391824342, 0.734160013, 0.305255951, 0.47676186, 1.086862943, 0.828358958, 0.66617326, 0.129320704, 0.799273757, 0.777281667, 0.458061081, 0.693997421, 0.359865081, 0.507200561, 0.192806909, 0.788554067, 0.793636411, 0.203395217, 0.192837921, 0.696237316, 1.042187376, 0.53542836, 0.499841196, 1.028839428, 0.734668684, 0.532212114, 0.681079803, 0.280098351, 0.783606638, 0.630661543, 0.349384225, 0.663654116, 0.556526425, 0.152679349, 0.559218922, 0.189876318, 0.395721909, 0.716174502, 0.401659167, 0.481943174, 0.783968346, 0.624046, 0.803979426, 0.471294655, 0.781102618, 0.657741388, 0.602698141, 0.623706088, 0.951247458, 0.466457036, 0.630833309, 0.242717894, 1.052045003, 0.447511853, 0.422385056, 0.612316563, 0.343897374, 0.690359526, 0.638753154, 0.901465383, 0.693449485, 0.651603354, 0.596301052, 0.868464838, 0.798942346, 0.476555125, 0.659841325, 0.696196423, 0.416804155, 0.839355755, 0.666437757, 0.689586048, 0.264567214, 0.6171094, 0.48479277, 0.738006553, 0.563549623, 0.658274899, 0.283541877, 0.721241667, 0.70882479, 0.772663567, 0.641719877, 0.460528199, 0.764194308, 0.487667695, 0.882102875, 0.462259371, 0.497908052, 0.79914847, 0.573259988, 0.692974084, 0.434143895, 0.601444874, 0.246911809, 0.68877564, 0.542050357, 0.432438039, 0.941156631, 0.921008859, 0.291814719, 0.552261728, 0.193417902, 0.727712433, 0.297809298, 0.385692572, 0.651252772, 0.603507795, 0.469953525, 0.12650071, 0.50975322, 0.922430048, 0.350567664, 0.667719065, 0.720274691, 0.505164574, 0.482730984, 0.590130564, 0.254316237, 0.52661219, 0.375116072, 0.55283986, 0.644172831, 0.72640496, 0.558499758, 0.53766849, 0.432605475, 0.364620574, 0.690638627, 0.417915721, 0.552626375, 0.469445359, 0.695361784, 0.363001356, 0.547937277, 0.737475267, 0.601016652, 0.875583419, 0.515792015, 0.673928717, 0.755662729, 1.007191535, 1.049636098, 0.694002257, 0.325516948, 0.538085165, 0.496804223, 0.803448349, 0.665972241, 0.58067803, 0.782712022, 0.497451537, 0.612680925, 0.509386273, 0.268482442, 0.497117808, 0.281790488, 0.564049721, 0.333704216, 0.315833033, 0.472046601, 0.712343623, 0.536735394, 0.881823615, 0.454959967, 0.667191429, 0.450450336, 0.289394023, 0.522475493, 0.697846477, 0.719373298, 0.551029139, 0.804735457, 0.650399629, 0.488869907, 0.607555122, 0.905305494, 0.511506129, 0.337872442, 0.744135922, 0.493884051, 0.564761823, 0.471985664, 1.023921177, 0.791998508, 0.685514502, 0.587958887, 0.424906293, 0.145884056, 0.729262726, 0.508215344, 0.894612839, 0.696883188, 0.261139355, 0.738795854, 0.22882182, 0.676136101, 0.480767607, 0.755260304, 0.870070487, 0.637174211, 0.566059768, 0.364927065, 1.038495106, 0.55543346, 0.865951793, 0.43424852, 0.536131961, 0.571200254, 0.589973814, 0.548140539, 0.754060794, 0.664205117, 0.716796418, 0.726547678, 0.515340658, 0.649489176, 0.677742798, 0.93142577, 0.731694395, 0.800965442, 0.56151022, 0.475515725, 0.464364273, 0.595729259, 0.666204947, 0.521723301, 0.372250688, 0.495303075, 0.805689648, 0.553413442, 0.777818698, 0.616413807, 0.802507538, 0.592908862, 0.756575446, 0.530689721, 0.472168475, 0.56312252, 0.714093113, 0.688530993, 0.466421724, 0.918922579, 0.860564486, 0.519269658, 0.529504908, 0.628535699, 0.795487338, 0.601835385, 0.682369195, 0.645208496, 0.830942264, 0.860062816, 0.5983176, 0.858132894, 0.734041684, 0.416033342, 0.186340022, 0.747601872, 0.678818337, 0.802175359, 0.602706552, 0.0824, 0.538310157, 0.325330628, 0.485103165, 0.565809961, 0.456905697, 0.675034507, 0.660647321, 0.863356967, 0.853311392, 0.357733755, 0.82819341, 0.609792492, 0.73825672, 0.52430302, 0.76067503, 0.67805242, 0.0791, 0.339500295, 0.664540768, 0.5074404, 0.819785544, 0.129346833, 0.584473386, 0.646517263, 0.750443041, 0.734463393, 0.190932299, 0.780455634, 0.715107014, 0.606137683, 0.318235154, 0.638212639, 0.724292871, 0.65358474, 0.912587167, 0.458665078, 0.746195513, 0.764133668, 0.623394928, 0.520399653, 0.858458957, 0.581602792, 0.436296288, 0.349923081, 0.802621029, 0.542406442, 0.80986881, 1.023660128, 0.523678002, 0.788908749, 0.802535115, 0.530216814, 0.399923065, 0.617697944, 0.42362097, 0.853853048, 0.188673611, 0.269053751, 0.814886204, 0.490878698, 0.844191997, 0.960257664, 1.107146296, 0.663808298, 0.587534627, 0.477741434, 0.52126212, 0.159221102, 0.132397352, 0.300797888, 0.88229153, 0.851263625, 0.723494441, 0.770763353, 0.869068095, 0.894802439, 1.22067414, 0.247608064, 0.269703051, 0.381802966, 0.797717553, 0.596688826, 0.619842251, 0.787360541, 0.578777988, 0.580681142, 0.888062345, 0.652288053, 0.587614264, 0.554559613, 0.37895822, 0.619916552, 0.346244655, 0.954213692, 0.607771055]\n",
      "525\n"
     ]
    }
   ],
   "source": [
    "sf_list = df2_y['SF'].tolist()\n",
    "print(sf_list)\n",
    "print(len(sf_list))"
   ],
   "metadata": {
    "collapsed": false,
    "pycharm": {
     "name": "#%%\n"
    }
   }
  },
  {
   "cell_type": "code",
   "execution_count": 42,
   "outputs": [
    {
     "data": {
      "text/plain": "                7105      8813     57147     55732      2268      3075  \\\ncell_line                                                                \nNCIH1568-2  5.626439  6.855242  2.185867  4.079805  0.084064  0.176323   \nSCC9-2      3.964399  5.718088  2.260026  3.451541  0.084064  0.782409   \nHCC1428-2   4.002703  5.870365  3.621759  3.861955  0.014355  0.485427   \nU2OS-2      5.098453  6.543496  2.117695  4.115200  0.014355  0.432959   \nLU99-2      3.665620  6.716717  2.100978  4.176323  0.000000  1.263034   \n\n                2519      2729      4800     90529  ...      8336     84311  \\\ncell_line                                           ...                       \nNCIH1568-2  6.824513  4.956521  3.766595  2.298658  ...  0.622930  5.373996   \nSCC9-2      6.039796  5.778734  4.903038  2.711495  ...  1.536053  5.042207   \nHCC1428-2   4.614121  5.286881  4.429616  3.442280  ...  3.033863  4.539159   \nU2OS-2      5.684258  4.847997  5.108524  2.189034  ...  0.176323  5.028569   \nLU99-2      6.124948  4.395063  5.070389  2.669027  ...  1.321928  6.613679   \n\n              126661     79447    283521     29122      9997    388963  \\\ncell_line                                                                \nNCIH1568-2  1.956057  5.482203  0.422233  0.176323  0.918386  1.778209   \nSCC9-2      2.344828  3.937344  0.000000  0.042644  2.475085  1.176323   \nHCC1428-2   1.970854  5.895303  0.622930  0.014355  0.918386  2.244887   \nU2OS-2      2.967169  4.995937  0.111031  0.042644  2.010780  1.925999   \nLU99-2      1.438293  4.349082  0.000000  0.111031  1.111031  1.632268   \n\n                6905        SF  \ncell_line                       \nNCIH1568-2  4.050502  0.607940  \nSCC9-2      4.174726  0.573035  \nHCC1428-2   5.555816  0.450188  \nU2OS-2      4.635754  0.526517  \nLU99-2      5.197315  0.625161  \n\n[5 rows x 15140 columns]",
      "text/html": "<div>\n<style scoped>\n    .dataframe tbody tr th:only-of-type {\n        vertical-align: middle;\n    }\n\n    .dataframe tbody tr th {\n        vertical-align: top;\n    }\n\n    .dataframe thead th {\n        text-align: right;\n    }\n</style>\n<table border=\"1\" class=\"dataframe\">\n  <thead>\n    <tr style=\"text-align: right;\">\n      <th></th>\n      <th>7105</th>\n      <th>8813</th>\n      <th>57147</th>\n      <th>55732</th>\n      <th>2268</th>\n      <th>3075</th>\n      <th>2519</th>\n      <th>2729</th>\n      <th>4800</th>\n      <th>90529</th>\n      <th>...</th>\n      <th>8336</th>\n      <th>84311</th>\n      <th>126661</th>\n      <th>79447</th>\n      <th>283521</th>\n      <th>29122</th>\n      <th>9997</th>\n      <th>388963</th>\n      <th>6905</th>\n      <th>SF</th>\n    </tr>\n    <tr>\n      <th>cell_line</th>\n      <th></th>\n      <th></th>\n      <th></th>\n      <th></th>\n      <th></th>\n      <th></th>\n      <th></th>\n      <th></th>\n      <th></th>\n      <th></th>\n      <th></th>\n      <th></th>\n      <th></th>\n      <th></th>\n      <th></th>\n      <th></th>\n      <th></th>\n      <th></th>\n      <th></th>\n      <th></th>\n      <th></th>\n    </tr>\n  </thead>\n  <tbody>\n    <tr>\n      <th>NCIH1568-2</th>\n      <td>5.626439</td>\n      <td>6.855242</td>\n      <td>2.185867</td>\n      <td>4.079805</td>\n      <td>0.084064</td>\n      <td>0.176323</td>\n      <td>6.824513</td>\n      <td>4.956521</td>\n      <td>3.766595</td>\n      <td>2.298658</td>\n      <td>...</td>\n      <td>0.622930</td>\n      <td>5.373996</td>\n      <td>1.956057</td>\n      <td>5.482203</td>\n      <td>0.422233</td>\n      <td>0.176323</td>\n      <td>0.918386</td>\n      <td>1.778209</td>\n      <td>4.050502</td>\n      <td>0.607940</td>\n    </tr>\n    <tr>\n      <th>SCC9-2</th>\n      <td>3.964399</td>\n      <td>5.718088</td>\n      <td>2.260026</td>\n      <td>3.451541</td>\n      <td>0.084064</td>\n      <td>0.782409</td>\n      <td>6.039796</td>\n      <td>5.778734</td>\n      <td>4.903038</td>\n      <td>2.711495</td>\n      <td>...</td>\n      <td>1.536053</td>\n      <td>5.042207</td>\n      <td>2.344828</td>\n      <td>3.937344</td>\n      <td>0.000000</td>\n      <td>0.042644</td>\n      <td>2.475085</td>\n      <td>1.176323</td>\n      <td>4.174726</td>\n      <td>0.573035</td>\n    </tr>\n    <tr>\n      <th>HCC1428-2</th>\n      <td>4.002703</td>\n      <td>5.870365</td>\n      <td>3.621759</td>\n      <td>3.861955</td>\n      <td>0.014355</td>\n      <td>0.485427</td>\n      <td>4.614121</td>\n      <td>5.286881</td>\n      <td>4.429616</td>\n      <td>3.442280</td>\n      <td>...</td>\n      <td>3.033863</td>\n      <td>4.539159</td>\n      <td>1.970854</td>\n      <td>5.895303</td>\n      <td>0.622930</td>\n      <td>0.014355</td>\n      <td>0.918386</td>\n      <td>2.244887</td>\n      <td>5.555816</td>\n      <td>0.450188</td>\n    </tr>\n    <tr>\n      <th>U2OS-2</th>\n      <td>5.098453</td>\n      <td>6.543496</td>\n      <td>2.117695</td>\n      <td>4.115200</td>\n      <td>0.014355</td>\n      <td>0.432959</td>\n      <td>5.684258</td>\n      <td>4.847997</td>\n      <td>5.108524</td>\n      <td>2.189034</td>\n      <td>...</td>\n      <td>0.176323</td>\n      <td>5.028569</td>\n      <td>2.967169</td>\n      <td>4.995937</td>\n      <td>0.111031</td>\n      <td>0.042644</td>\n      <td>2.010780</td>\n      <td>1.925999</td>\n      <td>4.635754</td>\n      <td>0.526517</td>\n    </tr>\n    <tr>\n      <th>LU99-2</th>\n      <td>3.665620</td>\n      <td>6.716717</td>\n      <td>2.100978</td>\n      <td>4.176323</td>\n      <td>0.000000</td>\n      <td>1.263034</td>\n      <td>6.124948</td>\n      <td>4.395063</td>\n      <td>5.070389</td>\n      <td>2.669027</td>\n      <td>...</td>\n      <td>1.321928</td>\n      <td>6.613679</td>\n      <td>1.438293</td>\n      <td>4.349082</td>\n      <td>0.000000</td>\n      <td>0.111031</td>\n      <td>1.111031</td>\n      <td>1.632268</td>\n      <td>5.197315</td>\n      <td>0.625161</td>\n    </tr>\n  </tbody>\n</table>\n<p>5 rows × 15140 columns</p>\n</div>"
     },
     "execution_count": 42,
     "metadata": {},
     "output_type": "execute_result"
    }
   ],
   "source": [
    "df2['SF'] = sf_list\n",
    "df2.head()"
   ],
   "metadata": {
    "collapsed": false,
    "pycharm": {
     "name": "#%%\n"
    }
   }
  },
  {
   "cell_type": "code",
   "execution_count": 43,
   "outputs": [],
   "source": [
    "df2.to_csv('data/only2_big_with_sf.csv')"
   ],
   "metadata": {
    "collapsed": false,
    "pycharm": {
     "name": "#%%\n"
    }
   }
  }
 ],
 "metadata": {
  "kernelspec": {
   "display_name": "Python 3",
   "language": "python",
   "name": "python3"
  },
  "language_info": {
   "codemirror_mode": {
    "name": "ipython",
    "version": 2
   },
   "file_extension": ".py",
   "mimetype": "text/x-python",
   "name": "python",
   "nbconvert_exporter": "python",
   "pygments_lexer": "ipython2",
   "version": "2.7.6"
  }
 },
 "nbformat": 4,
 "nbformat_minor": 0
}