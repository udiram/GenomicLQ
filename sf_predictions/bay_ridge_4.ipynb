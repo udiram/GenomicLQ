{
 "cells": [
  {
   "cell_type": "code",
   "execution_count": 79,
   "outputs": [],
   "source": [
    "from sklearn.linear_model import BayesianRidge\n",
    "from sklearn.datasets import load_boston\n",
    "from sklearn.model_selection import train_test_split\n",
    "from sklearn.metrics import mean_squared_error\n",
    "import matplotlib.pyplot as plt\n",
    "from numpy import sqrt\n",
    "import pandas as pd"
   ],
   "metadata": {
    "collapsed": false,
    "pycharm": {
     "name": "#%%\n"
    }
   }
  },
  {
   "cell_type": "code",
   "execution_count": 80,
   "outputs": [],
   "source": [
    "df_x_train = pd.read_csv('data/only_4/only_4_x_train.csv')\n",
    "df_x_train.set_index('cell_line', inplace=True)\n",
    "df_x_train = df_x_train[['1877', '4854', '2200', '89870', '121551', '29995', '29126', '57016', '4318', '2627', '6004', '25825', '10897', '348751', '221', '22993', '2335', '10211', '409', '133957', '221458', '5654', '130612', '85236', '28977', '55170', '55778', '84332', '8792', '6423', '23127', '79811', '3758', '51203', '8942', '10243', '4058', '9654', '3487', '57007', '932', '200916', '8313', '9543', '2908', '66035', '6695', '6632', '2990', '284459', '7975', '402160', '55094', '10101', '3292', '79817', '257019', '23198', '55316', '6389', '2550', '91875', '114769', '6484', '8764', '83987', '5360', '215', '113189', '92737', '89941', '54805', '253260', '9576', '284099', '27146', '22849', '51091', '162968', '54749', '55769', '1728', '6414', '5810', '7045', '11238', '11218', '54947', '4776', '134429', '257144', '7766', '8905', '6887', '165186', '196051', '3134', '9997', '4140', '6843', '116842', '970', '51141', '10449', '8661', '159371', '79083', '170463', '5920', '5137', '9133', '80319', '9196', '10016', '22843', '64062', '65010', '23363', '147746', '7277', '11151', '7128', '23424', '2354', '63027', '112495', '11236', '157769', '374393', '9950', '8673', '22847', '220', '5054', '976', '1152', '6373', '23029', '10554', '8857', '23743', '64850', '54959', '9669', '57804', '11145', '145508', '23371', '118611', '51237', '2188', '121642', '11138', '84986', '10011', '23234', '3783', '253650', '10794', '63875', '10265', '56131', '3299', '284612', '441151', '79847', '1280', '4643', '285598', '79705', '5071', '1791', '6835', '26261', '84513', '81844', '3108', '79132', '6482', '81502', '79000', '7070', '201161', '11259', '84458', '57162', '5098', '8355', '55249', '23176', '7145', '8424', '285521', '124842', '3702', '57585', '23025', '1944', '114823', '284359', '26022', '56243', '25803', '80119', '51562', '56925', '7436', '1307', '55351', '55920', '79943', '79979', '7556', '51026', '84527', '153657', '1294', '163071', '8487', '29108', '7036', '57821', '2045', '96764', '834', '90226', '1601', '3490', '285613', '116285', '8607', '221491', '91746', '91355', '80823', '3785', '7173', '54103', '79570', '7494', '199731', '10384', '55795', '4013', '54552', '23401', '2547', '51522', '79412', '54811', '4675', '81031', '7324', '55692', '27122', '5291', '55344', '10046', '54802', '8887', '65117', '8564', '11014', '6502', '26960', '131566', '64858', '92912', '55630', '3675', '51150', '57549', '11198', '10548', '23328', '7130', '2177', '528', '19', '196740', '8341', '116362', '6494', '51754', '5122', '6256', '5138', '3012', '3082', '1837', '9445', '2558', '9217', '116113', '81559', '4924', '5961', '54961', '3122', '10397', '9360', '54514', '283726', '23546', '150223', '55119', '89953', '4606', '6489', '55127', '5565', '145389', '79369', '22997', '81688', '80235', '84722', '2212', '8038', '6832', '54704', '6583', '23315', '6992', '1388']]"
   ],
   "metadata": {
    "collapsed": false,
    "pycharm": {
     "name": "#%%\n"
    }
   }
  },
  {
   "cell_type": "code",
   "execution_count": 81,
   "outputs": [],
   "source": [
    "\n",
    "df_x_test = pd.read_csv('data/only_4/only_4_x_test.csv')\n",
    "df_x_test.set_index('cell_line', inplace=True)\n",
    "df_x_test = df_x_test[['1877', '4854', '2200', '89870', '121551', '29995', '29126', '57016', '4318', '2627', '6004', '25825', '10897', '348751', '221', '22993', '2335', '10211', '409', '133957', '221458', '5654', '130612', '85236', '28977', '55170', '55778', '84332', '8792', '6423', '23127', '79811', '3758', '51203', '8942', '10243', '4058', '9654', '3487', '57007', '932', '200916', '8313', '9543', '2908', '66035', '6695', '6632', '2990', '284459', '7975', '402160', '55094', '10101', '3292', '79817', '257019', '23198', '55316', '6389', '2550', '91875', '114769', '6484', '8764', '83987', '5360', '215', '113189', '92737', '89941', '54805', '253260', '9576', '284099', '27146', '22849', '51091', '162968', '54749', '55769', '1728', '6414', '5810', '7045', '11238', '11218', '54947', '4776', '134429', '257144', '7766', '8905', '6887', '165186', '196051', '3134', '9997', '4140', '6843', '116842', '970', '51141', '10449', '8661', '159371', '79083', '170463', '5920', '5137', '9133', '80319', '9196', '10016', '22843', '64062', '65010', '23363', '147746', '7277', '11151', '7128', '23424', '2354', '63027', '112495', '11236', '157769', '374393', '9950', '8673', '22847', '220', '5054', '976', '1152', '6373', '23029', '10554', '8857', '23743', '64850', '54959', '9669', '57804', '11145', '145508', '23371', '118611', '51237', '2188', '121642', '11138', '84986', '10011', '23234', '3783', '253650', '10794', '63875', '10265', '56131', '3299', '284612', '441151', '79847', '1280', '4643', '285598', '79705', '5071', '1791', '6835', '26261', '84513', '81844', '3108', '79132', '6482', '81502', '79000', '7070', '201161', '11259', '84458', '57162', '5098', '8355', '55249', '23176', '7145', '8424', '285521', '124842', '3702', '57585', '23025', '1944', '114823', '284359', '26022', '56243', '25803', '80119', '51562', '56925', '7436', '1307', '55351', '55920', '79943', '79979', '7556', '51026', '84527', '153657', '1294', '163071', '8487', '29108', '7036', '57821', '2045', '96764', '834', '90226', '1601', '3490', '285613', '116285', '8607', '221491', '91746', '91355', '80823', '3785', '7173', '54103', '79570', '7494', '199731', '10384', '55795', '4013', '54552', '23401', '2547', '51522', '79412', '54811', '4675', '81031', '7324', '55692', '27122', '5291', '55344', '10046', '54802', '8887', '65117', '8564', '11014', '6502', '26960', '131566', '64858', '92912', '55630', '3675', '51150', '57549', '11198', '10548', '23328', '7130', '2177', '528', '19', '196740', '8341', '116362', '6494', '51754', '5122', '6256', '5138', '3012', '3082', '1837', '9445', '2558', '9217', '116113', '81559', '4924', '5961', '54961', '3122', '10397', '9360', '54514', '283726', '23546', '150223', '55119', '89953', '4606', '6489', '55127', '5565', '145389', '79369', '22997', '81688', '80235', '84722', '2212', '8038', '6832', '54704', '6583', '23315', '6992', '1388']]"
   ],
   "metadata": {
    "collapsed": false,
    "pycharm": {
     "name": "#%%\n"
    }
   }
  },
  {
   "cell_type": "code",
   "execution_count": 82,
   "outputs": [
    {
     "data": {
      "text/plain": "                  SF\ncell_line           \nNCIH1568-4  0.333490\nSCC9-4      0.269735\nHCC1428-4   0.395390\nU2OS-4      0.367179\nLU99-4      0.365677",
      "text/html": "<div>\n<style scoped>\n    .dataframe tbody tr th:only-of-type {\n        vertical-align: middle;\n    }\n\n    .dataframe tbody tr th {\n        vertical-align: top;\n    }\n\n    .dataframe thead th {\n        text-align: right;\n    }\n</style>\n<table border=\"1\" class=\"dataframe\">\n  <thead>\n    <tr style=\"text-align: right;\">\n      <th></th>\n      <th>SF</th>\n    </tr>\n    <tr>\n      <th>cell_line</th>\n      <th></th>\n    </tr>\n  </thead>\n  <tbody>\n    <tr>\n      <th>NCIH1568-4</th>\n      <td>0.333490</td>\n    </tr>\n    <tr>\n      <th>SCC9-4</th>\n      <td>0.269735</td>\n    </tr>\n    <tr>\n      <th>HCC1428-4</th>\n      <td>0.395390</td>\n    </tr>\n    <tr>\n      <th>U2OS-4</th>\n      <td>0.367179</td>\n    </tr>\n    <tr>\n      <th>LU99-4</th>\n      <td>0.365677</td>\n    </tr>\n  </tbody>\n</table>\n</div>"
     },
     "execution_count": 82,
     "metadata": {},
     "output_type": "execute_result"
    }
   ],
   "source": [
    "df_y_train = pd.read_csv('data/only_4/only_4_y_train.csv')\n",
    "df_y_train.set_index('cell_line', inplace=True)\n",
    "df_y_train.head()"
   ],
   "metadata": {
    "collapsed": false,
    "pycharm": {
     "name": "#%%\n"
    }
   }
  },
  {
   "cell_type": "code",
   "execution_count": 83,
   "outputs": [],
   "source": [
    "df_y_test = pd.read_csv('data/only_4/only_4_y_test.csv')\n",
    "df_y_test.set_index('cell_line', inplace=True)"
   ],
   "metadata": {
    "collapsed": false,
    "pycharm": {
     "name": "#%%\n"
    }
   }
  },
  {
   "cell_type": "code",
   "execution_count": 84,
   "outputs": [],
   "source": [
    "xtrain, x_val, ytrain, y_val = train_test_split(df_x_train, df_y_train, test_size=0.1, random_state=42)"
   ],
   "metadata": {
    "collapsed": false,
    "pycharm": {
     "name": "#%%\n"
    }
   }
  },
  {
   "cell_type": "code",
   "execution_count": 85,
   "outputs": [],
   "source": [
    "bay_ridge = BayesianRidge()"
   ],
   "metadata": {
    "collapsed": false,
    "pycharm": {
     "name": "#%%\n"
    }
   }
  },
  {
   "cell_type": "code",
   "execution_count": 86,
   "outputs": [
    {
     "name": "stderr",
     "output_type": "stream",
     "text": [
      "C:\\Users\\Udi\\Documents\\GitHub\\RadiationProject\\venv\\lib\\site-packages\\sklearn\\utils\\validation.py:1111: DataConversionWarning: A column-vector y was passed when a 1d array was expected. Please change the shape of y to (n_samples, ), for example using ravel().\n",
      "  y = column_or_1d(y, warn=True)\n"
     ]
    },
    {
     "data": {
      "text/plain": "BayesianRidge()",
      "text/html": "<style>#sk-container-id-8 {color: black;background-color: white;}#sk-container-id-8 pre{padding: 0;}#sk-container-id-8 div.sk-toggleable {background-color: white;}#sk-container-id-8 label.sk-toggleable__label {cursor: pointer;display: block;width: 100%;margin-bottom: 0;padding: 0.3em;box-sizing: border-box;text-align: center;}#sk-container-id-8 label.sk-toggleable__label-arrow:before {content: \"▸\";float: left;margin-right: 0.25em;color: #696969;}#sk-container-id-8 label.sk-toggleable__label-arrow:hover:before {color: black;}#sk-container-id-8 div.sk-estimator:hover label.sk-toggleable__label-arrow:before {color: black;}#sk-container-id-8 div.sk-toggleable__content {max-height: 0;max-width: 0;overflow: hidden;text-align: left;background-color: #f0f8ff;}#sk-container-id-8 div.sk-toggleable__content pre {margin: 0.2em;color: black;border-radius: 0.25em;background-color: #f0f8ff;}#sk-container-id-8 input.sk-toggleable__control:checked~div.sk-toggleable__content {max-height: 200px;max-width: 100%;overflow: auto;}#sk-container-id-8 input.sk-toggleable__control:checked~label.sk-toggleable__label-arrow:before {content: \"▾\";}#sk-container-id-8 div.sk-estimator input.sk-toggleable__control:checked~label.sk-toggleable__label {background-color: #d4ebff;}#sk-container-id-8 div.sk-label input.sk-toggleable__control:checked~label.sk-toggleable__label {background-color: #d4ebff;}#sk-container-id-8 input.sk-hidden--visually {border: 0;clip: rect(1px 1px 1px 1px);clip: rect(1px, 1px, 1px, 1px);height: 1px;margin: -1px;overflow: hidden;padding: 0;position: absolute;width: 1px;}#sk-container-id-8 div.sk-estimator {font-family: monospace;background-color: #f0f8ff;border: 1px dotted black;border-radius: 0.25em;box-sizing: border-box;margin-bottom: 0.5em;}#sk-container-id-8 div.sk-estimator:hover {background-color: #d4ebff;}#sk-container-id-8 div.sk-parallel-item::after {content: \"\";width: 100%;border-bottom: 1px solid gray;flex-grow: 1;}#sk-container-id-8 div.sk-label:hover label.sk-toggleable__label {background-color: #d4ebff;}#sk-container-id-8 div.sk-serial::before {content: \"\";position: absolute;border-left: 1px solid gray;box-sizing: border-box;top: 0;bottom: 0;left: 50%;z-index: 0;}#sk-container-id-8 div.sk-serial {display: flex;flex-direction: column;align-items: center;background-color: white;padding-right: 0.2em;padding-left: 0.2em;position: relative;}#sk-container-id-8 div.sk-item {position: relative;z-index: 1;}#sk-container-id-8 div.sk-parallel {display: flex;align-items: stretch;justify-content: center;background-color: white;position: relative;}#sk-container-id-8 div.sk-item::before, #sk-container-id-8 div.sk-parallel-item::before {content: \"\";position: absolute;border-left: 1px solid gray;box-sizing: border-box;top: 0;bottom: 0;left: 50%;z-index: -1;}#sk-container-id-8 div.sk-parallel-item {display: flex;flex-direction: column;z-index: 1;position: relative;background-color: white;}#sk-container-id-8 div.sk-parallel-item:first-child::after {align-self: flex-end;width: 50%;}#sk-container-id-8 div.sk-parallel-item:last-child::after {align-self: flex-start;width: 50%;}#sk-container-id-8 div.sk-parallel-item:only-child::after {width: 0;}#sk-container-id-8 div.sk-dashed-wrapped {border: 1px dashed gray;margin: 0 0.4em 0.5em 0.4em;box-sizing: border-box;padding-bottom: 0.4em;background-color: white;}#sk-container-id-8 div.sk-label label {font-family: monospace;font-weight: bold;display: inline-block;line-height: 1.2em;}#sk-container-id-8 div.sk-label-container {text-align: center;}#sk-container-id-8 div.sk-container {/* jupyter's `normalize.less` sets `[hidden] { display: none; }` but bootstrap.min.css set `[hidden] { display: none !important; }` so we also need the `!important` here to be able to override the default hidden behavior on the sphinx rendered scikit-learn.org. See: https://github.com/scikit-learn/scikit-learn/issues/21755 */display: inline-block !important;position: relative;}#sk-container-id-8 div.sk-text-repr-fallback {display: none;}</style><div id=\"sk-container-id-8\" class=\"sk-top-container\"><div class=\"sk-text-repr-fallback\"><pre>BayesianRidge()</pre><b>In a Jupyter environment, please rerun this cell to show the HTML representation or trust the notebook. <br />On GitHub, the HTML representation is unable to render, please try loading this page with nbviewer.org.</b></div><div class=\"sk-container\" hidden><div class=\"sk-item\"><div class=\"sk-estimator sk-toggleable\"><input class=\"sk-toggleable__control sk-hidden--visually\" id=\"sk-estimator-id-8\" type=\"checkbox\" checked><label for=\"sk-estimator-id-8\" class=\"sk-toggleable__label sk-toggleable__label-arrow\">BayesianRidge</label><div class=\"sk-toggleable__content\"><pre>BayesianRidge()</pre></div></div></div></div></div>"
     },
     "execution_count": 86,
     "metadata": {},
     "output_type": "execute_result"
    }
   ],
   "source": [
    "bay_ridge.fit(xtrain, ytrain)"
   ],
   "metadata": {
    "collapsed": false,
    "pycharm": {
     "name": "#%%\n"
    }
   }
  },
  {
   "cell_type": "code",
   "execution_count": 87,
   "outputs": [
    {
     "name": "stdout",
     "output_type": "stream",
     "text": [
      "Model score (R-squared): 0.15\n"
     ]
    }
   ],
   "source": [
    "score=bay_ridge.score(df_x_test, df_y_test)\n",
    "print(\"Model score (R-squared): %.2f\" % score)"
   ],
   "metadata": {
    "collapsed": false,
    "pycharm": {
     "name": "#%%\n"
    }
   }
  },
  {
   "cell_type": "code",
   "execution_count": 88,
   "outputs": [
    {
     "name": "stdout",
     "output_type": "stream",
     "text": [
      "MSE: 0.05\n"
     ]
    }
   ],
   "source": [
    "ypred = bay_ridge.predict(df_x_test)\n",
    "mse = mean_squared_error(df_y_test, ypred)\n",
    "print(\"MSE: %.2f\" % mse)"
   ],
   "metadata": {
    "collapsed": false,
    "pycharm": {
     "name": "#%%\n"
    }
   }
  },
  {
   "cell_type": "code",
   "execution_count": 89,
   "outputs": [
    {
     "name": "stdout",
     "output_type": "stream",
     "text": [
      "RMSE: 0.23\n"
     ]
    }
   ],
   "source": [
    "print(\"RMSE: %.2f\" % sqrt(mse))"
   ],
   "metadata": {
    "collapsed": false,
    "pycharm": {
     "name": "#%%\n"
    }
   }
  },
  {
   "cell_type": "code",
   "execution_count": 90,
   "outputs": [
    {
     "data": {
      "text/plain": "<Figure size 432x288 with 1 Axes>",
      "image/png": "[encoded data removed]"
     },
     "metadata": {
      "needs_background": "light"
     },
     "output_type": "display_data"
    }
   ],
   "source": [
    "x_ax = range(len(df_y_test))\n",
    "plt.scatter(x_ax, df_y_test, s=5, color=\"blue\", label=\"original\")\n",
    "plt.plot(x_ax, ypred, lw=0.8, color=\"red\", label=\"predicted\")\n",
    "plt.legend()\n",
    "plt.show()"
   ],
   "metadata": {
    "collapsed": false,
    "pycharm": {
     "name": "#%%\n"
    }
   }
  },
  {
   "cell_type": "code",
   "execution_count": 90,
   "outputs": [],
   "source": [],
   "metadata": {
    "collapsed": false,
    "pycharm": {
     "name": "#%%\n"
    }
   }
  }
 ],
 "metadata": {
  "kernelspec": {
   "display_name": "Python 3",
   "language": "python",
   "name": "python3"
  },
  "language_info": {
   "codemirror_mode": {
    "name": "ipython",
    "version": 2
   },
   "file_extension": ".py",
   "mimetype": "text/x-python",
   "name": "python",
   "nbconvert_exporter": "python",
   "pygments_lexer": "ipython2",
   "version": "2.7.6"
  }
 },
 "nbformat": 4,
 "nbformat_minor": 0
}