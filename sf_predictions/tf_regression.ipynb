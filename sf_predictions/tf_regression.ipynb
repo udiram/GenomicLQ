{
 "cells": [
  {
   "cell_type": "code",
   "execution_count": 122,
   "outputs": [
    {
     "name": "stdout",
     "output_type": "stream",
     "text": [
      "The tensorboard extension is already loaded. To reload it, use:\n",
      "  %reload_ext tensorboard\n"
     ]
    }
   ],
   "source": [
    "import pandas as pd\n",
    "import matplotlib.pyplot as plt\n",
    "import tensorflow as tf\n",
    "from tensorflow import keras\n",
    "from tensorflow.keras import layers\n",
    "from tensorflow.keras import Sequential\n",
    "from tensorflow.keras import optimizers"
   ],
   "metadata": {
    "collapsed": false,
    "pycharm": {
     "name": "#%%\n"
    }
   }
  },
  {
   "cell_type": "code",
   "execution_count": 123,
   "outputs": [
    {
     "data": {
      "text/plain": "                7105      8813     57147     55732      2268      3075  \\\ncell_line                                                                \nNCIH1568-2  5.626439  6.855242  2.185867  4.079805  0.084064  0.176323   \nSCC9-2      3.964399  5.718088  2.260026  3.451541  0.084064  0.782409   \nHCC1428-2   4.002703  5.870365  3.621759  3.861955  0.014355  0.485427   \nU2OS-2      5.098453  6.543496  2.117695  4.115200  0.014355  0.432959   \nLU99-2      3.665620  6.716717  2.100978  4.176323  0.000000  1.263034   \n\n                2519      2729      4800     90529  ...      8336     84311  \\\ncell_line                                           ...                       \nNCIH1568-2  6.824513  4.956521  3.766595  2.298658  ...  0.622930  5.373996   \nSCC9-2      6.039796  5.778734  4.903038  2.711495  ...  1.536053  5.042207   \nHCC1428-2   4.614121  5.286881  4.429616  3.442280  ...  3.033863  4.539159   \nU2OS-2      5.684258  4.847997  5.108524  2.189034  ...  0.176323  5.028569   \nLU99-2      6.124948  4.395063  5.070389  2.669027  ...  1.321928  6.613679   \n\n              126661     79447    283521     29122      9997    388963  \\\ncell_line                                                                \nNCIH1568-2  1.956057  5.482203  0.422233  0.176323  0.918386  1.778209   \nSCC9-2      2.344828  3.937344  0.000000  0.042644  2.475085  1.176323   \nHCC1428-2   1.970854  5.895303  0.622930  0.014355  0.918386  2.244887   \nU2OS-2      2.967169  4.995937  0.111031  0.042644  2.010780  1.925999   \nLU99-2      1.438293  4.349082  0.000000  0.111031  1.111031  1.632268   \n\n                6905        SF  \ncell_line                       \nNCIH1568-2  4.050502  0.607940  \nSCC9-2      4.174726  0.573035  \nHCC1428-2   5.555816  0.450188  \nU2OS-2      4.635754  0.526517  \nLU99-2      5.197315  0.625161  \n\n[5 rows x 15140 columns]",
      "text/html": "<div>\n<style scoped>\n    .dataframe tbody tr th:only-of-type {\n        vertical-align: middle;\n    }\n\n    .dataframe tbody tr th {\n        vertical-align: top;\n    }\n\n    .dataframe thead th {\n        text-align: right;\n    }\n</style>\n<table border=\"1\" class=\"dataframe\">\n  <thead>\n    <tr style=\"text-align: right;\">\n      <th></th>\n      <th>7105</th>\n      <th>8813</th>\n      <th>57147</th>\n      <th>55732</th>\n      <th>2268</th>\n      <th>3075</th>\n      <th>2519</th>\n      <th>2729</th>\n      <th>4800</th>\n      <th>90529</th>\n      <th>...</th>\n      <th>8336</th>\n      <th>84311</th>\n      <th>126661</th>\n      <th>79447</th>\n      <th>283521</th>\n      <th>29122</th>\n      <th>9997</th>\n      <th>388963</th>\n      <th>6905</th>\n      <th>SF</th>\n    </tr>\n    <tr>\n      <th>cell_line</th>\n      <th></th>\n      <th></th>\n      <th></th>\n      <th></th>\n      <th></th>\n      <th></th>\n      <th></th>\n      <th></th>\n      <th></th>\n      <th></th>\n      <th></th>\n      <th></th>\n      <th></th>\n      <th></th>\n      <th></th>\n      <th></th>\n      <th></th>\n      <th></th>\n      <th></th>\n      <th></th>\n      <th></th>\n    </tr>\n  </thead>\n  <tbody>\n    <tr>\n      <th>NCIH1568-2</th>\n      <td>5.626439</td>\n      <td>6.855242</td>\n      <td>2.185867</td>\n      <td>4.079805</td>\n      <td>0.084064</td>\n      <td>0.176323</td>\n      <td>6.824513</td>\n      <td>4.956521</td>\n      <td>3.766595</td>\n      <td>2.298658</td>\n      <td>...</td>\n      <td>0.622930</td>\n      <td>5.373996</td>\n      <td>1.956057</td>\n      <td>5.482203</td>\n      <td>0.422233</td>\n      <td>0.176323</td>\n      <td>0.918386</td>\n      <td>1.778209</td>\n      <td>4.050502</td>\n      <td>0.607940</td>\n    </tr>\n    <tr>\n      <th>SCC9-2</th>\n      <td>3.964399</td>\n      <td>5.718088</td>\n      <td>2.260026</td>\n      <td>3.451541</td>\n      <td>0.084064</td>\n      <td>0.782409</td>\n      <td>6.039796</td>\n      <td>5.778734</td>\n      <td>4.903038</td>\n      <td>2.711495</td>\n      <td>...</td>\n      <td>1.536053</td>\n      <td>5.042207</td>\n      <td>2.344828</td>\n      <td>3.937344</td>\n      <td>0.000000</td>\n      <td>0.042644</td>\n      <td>2.475085</td>\n      <td>1.176323</td>\n      <td>4.174726</td>\n      <td>0.573035</td>\n    </tr>\n    <tr>\n      <th>HCC1428-2</th>\n      <td>4.002703</td>\n      <td>5.870365</td>\n      <td>3.621759</td>\n      <td>3.861955</td>\n      <td>0.014355</td>\n      <td>0.485427</td>\n      <td>4.614121</td>\n      <td>5.286881</td>\n      <td>4.429616</td>\n      <td>3.442280</td>\n      <td>...</td>\n      <td>3.033863</td>\n      <td>4.539159</td>\n      <td>1.970854</td>\n      <td>5.895303</td>\n      <td>0.622930</td>\n      <td>0.014355</td>\n      <td>0.918386</td>\n      <td>2.244887</td>\n      <td>5.555816</td>\n      <td>0.450188</td>\n    </tr>\n    <tr>\n      <th>U2OS-2</th>\n      <td>5.098453</td>\n      <td>6.543496</td>\n      <td>2.117695</td>\n      <td>4.115200</td>\n      <td>0.014355</td>\n      <td>0.432959</td>\n      <td>5.684258</td>\n      <td>4.847997</td>\n      <td>5.108524</td>\n      <td>2.189034</td>\n      <td>...</td>\n      <td>0.176323</td>\n      <td>5.028569</td>\n      <td>2.967169</td>\n      <td>4.995937</td>\n      <td>0.111031</td>\n      <td>0.042644</td>\n      <td>2.010780</td>\n      <td>1.925999</td>\n      <td>4.635754</td>\n      <td>0.526517</td>\n    </tr>\n    <tr>\n      <th>LU99-2</th>\n      <td>3.665620</td>\n      <td>6.716717</td>\n      <td>2.100978</td>\n      <td>4.176323</td>\n      <td>0.000000</td>\n      <td>1.263034</td>\n      <td>6.124948</td>\n      <td>4.395063</td>\n      <td>5.070389</td>\n      <td>2.669027</td>\n      <td>...</td>\n      <td>1.321928</td>\n      <td>6.613679</td>\n      <td>1.438293</td>\n      <td>4.349082</td>\n      <td>0.000000</td>\n      <td>0.111031</td>\n      <td>1.111031</td>\n      <td>1.632268</td>\n      <td>5.197315</td>\n      <td>0.625161</td>\n    </tr>\n  </tbody>\n</table>\n<p>5 rows × 15140 columns</p>\n</div>"
     },
     "execution_count": 123,
     "metadata": {},
     "output_type": "execute_result"
    }
   ],
   "source": [
    "df = pd.read_csv('data/only2_big_with_sf.csv')\n",
    "df.set_index('cell_line', inplace=True)\n",
    "df.head()"
   ],
   "metadata": {
    "collapsed": false,
    "pycharm": {
     "name": "#%%\n"
    }
   }
  },
  {
   "cell_type": "code",
   "execution_count": 87,
   "outputs": [
    {
     "name": "stdout",
     "output_type": "stream",
     "text": [
      "525\n"
     ]
    }
   ],
   "source": [
    "# Create a copy for further processing\n",
    "dataset = df.copy()\n",
    "# Get some basic data about dataset\n",
    "print(len(dataset))"
   ],
   "metadata": {
    "collapsed": false,
    "pycharm": {
     "name": "#%%\n"
    }
   }
  },
  {
   "cell_type": "code",
   "execution_count": 88,
   "outputs": [],
   "source": [
    "# Split the Dataset and create train and test sets\n",
    "train_dataset = dataset.sample(frac=0.8, random_state=0)\n",
    "test_dataset = dataset.drop(train_dataset.index)\n",
    "########################################################\n",
    "# Separate labels and features\n",
    "train_features = train_dataset.drop([\"SF\"], axis=1)\n",
    "test_features = test_dataset.drop([\"SF\"], axis=1)\n",
    "train_labels = train_dataset[\"SF\"]\n",
    "test_labels = test_dataset[\"SF\"]"
   ],
   "metadata": {
    "collapsed": false,
    "pycharm": {
     "name": "#%%\n"
    }
   }
  },
  {
   "cell_type": "code",
   "execution_count": 89,
   "outputs": [],
   "source": [
    "# Let's check some basic data about dataset\n",
    "# train_dataset.describe().transpose()"
   ],
   "metadata": {
    "collapsed": false,
    "pycharm": {
     "name": "#%%\n"
    }
   }
  },
  {
   "cell_type": "code",
   "execution_count": 90,
   "outputs": [],
   "source": [
    "# But we can also apply normalization using sklearn.\n",
    "from sklearn.preprocessing import StandardScaler\n",
    "feature_scaler = StandardScaler()\n",
    "label_scaler = StandardScaler()\n",
    "########################################################\n",
    "# Fit on Training Data\n",
    "feature_scaler.fit(train_features.values)\n",
    "label_scaler.fit(train_labels.values.reshape(-1, 1))\n",
    "########################################################\n",
    "# Transform both training and testing data\n",
    "train_features = feature_scaler.transform(train_features.values)\n",
    "test_features = feature_scaler.transform(test_features.values)\n",
    "train_labels = label_scaler.transform(train_labels.values.reshape(-1, 1))\n",
    "test_labels = label_scaler.transform(test_labels.values.reshape(-1, 1))"
   ],
   "metadata": {
    "collapsed": false,
    "pycharm": {
     "name": "#%%\n"
    }
   }
  },
  {
   "cell_type": "code",
   "execution_count": 91,
   "outputs": [],
   "source": [
    "# Now let's create a Deep Neural Network to train a regression model on our data.\n",
    "model = Sequential([\n",
    "    layers.Dense(32, activation='relu'),\n",
    "    layers.Dense(64, activation='relu'),\n",
    "    layers.Dense(1)\n",
    "])"
   ],
   "metadata": {
    "collapsed": false,
    "pycharm": {
     "name": "#%%\n"
    }
   }
  },
  {
   "cell_type": "code",
   "execution_count": 92,
   "outputs": [],
   "source": [
    "# Compile the model\n",
    "model.compile(optimizer=\"Adam\",\n",
    "              loss=\"mean_absolute_error\")"
   ],
   "metadata": {
    "collapsed": false,
    "pycharm": {
     "name": "#%%\n"
    }
   }
  },
  {
   "cell_type": "code",
   "execution_count": 111,
   "outputs": [],
   "source": [
    "# Now let's train the model\n",
    "history = model.fit(epochs=200, x=train_features, y=train_labels,\n",
    "          validation_data=(test_features, test_labels), verbose=0)"
   ],
   "metadata": {
    "collapsed": false,
    "pycharm": {
     "name": "#%%\n"
    }
   }
  },
  {
   "cell_type": "code",
   "execution_count": 112,
   "outputs": [
    {
     "data": {
      "text/plain": "<Figure size 432x288 with 1 Axes>",
      "image/png": "[encoded data removed]"
     },
     "metadata": {
      "needs_background": "light"
     },
     "output_type": "display_data"
    }
   ],
   "source": [
    "# Function to plot loss\n",
    "def plot_loss(history):\n",
    "    plt.plot(history.history['loss'], label='loss')\n",
    "    plt.plot(history.history['val_loss'], label='val_loss')\n",
    "    plt.ylim([0,3])\n",
    "    plt.xlabel('Epoch')\n",
    "    plt.ylabel('Error (Loss)')\n",
    "    plt.legend()\n",
    "    plt.grid(True)\n",
    "########################################################\n",
    "plot_loss(history)"
   ],
   "metadata": {
    "collapsed": false,
    "pycharm": {
     "name": "#%%\n"
    }
   }
  },
  {
   "cell_type": "code",
   "execution_count": 113,
   "outputs": [
    {
     "name": "stdout",
     "output_type": "stream",
     "text": [
      "4/4 [==============================] - 0s 0s/step - loss: 0.7968\n"
     ]
    },
    {
     "data": {
      "text/plain": "0.7968010902404785"
     },
     "execution_count": 113,
     "metadata": {},
     "output_type": "execute_result"
    }
   ],
   "source": [
    "# Model evaluation on testing dataset\n",
    "model.evaluate(test_features, test_labels)"
   ],
   "metadata": {
    "collapsed": false,
    "pycharm": {
     "name": "#%%\n"
    }
   }
  },
  {
   "cell_type": "code",
   "execution_count": 114,
   "outputs": [],
   "source": [
    "# Save model\n",
    "model.save(\"data/trained_model_tf_regression.h5\")"
   ],
   "metadata": {
    "collapsed": false,
    "pycharm": {
     "name": "#%%\n"
    }
   }
  },
  {
   "cell_type": "code",
   "execution_count": 115,
   "outputs": [
    {
     "name": "stdout",
     "output_type": "stream",
     "text": [
      "4/4 [==============================] - 0s 3ms/step\n"
     ]
    }
   ],
   "source": [
    "# Load and perform predictions\n",
    "saved_model = tf.keras.models.load_model('data/trained_model_tf_regression.h5')\n",
    "results = saved_model.predict(test_features)\n",
    "########################################################\n",
    "# We can decode using the scikit-learn object to get the result\n",
    "decoded_result = label_scaler.inverse_transform(results.reshape(-1,1))\n",
    "# print(decoded_result)"
   ],
   "metadata": {
    "collapsed": false,
    "pycharm": {
     "name": "#%%\n"
    }
   }
  },
  {
   "cell_type": "code",
   "execution_count": 116,
   "outputs": [],
   "source": [
    "decoded_labels = label_scaler.inverse_transform(test_labels.reshape(-1,1))\n",
    "# print(decoded_labels.tolist())"
   ],
   "metadata": {
    "collapsed": false,
    "pycharm": {
     "name": "#%%\n"
    }
   }
  },
  {
   "cell_type": "code",
   "execution_count": 117,
   "outputs": [],
   "source": [
    "label_list = []\n",
    "pred_list = []\n",
    "for i in range(len(decoded_result)):\n",
    "    label_list.append(decoded_labels[i][0])\n",
    "    pred_list.append(decoded_result[i][0])\n",
    "    # print(\"Predicted: \", decoded_result[i], \" Actual: \", decoded_labels[i])"
   ],
   "metadata": {
    "collapsed": false,
    "pycharm": {
     "name": "#%%\n"
    }
   }
  },
  {
   "cell_type": "code",
   "execution_count": 118,
   "outputs": [],
   "source": [
    "# print(label_list)\n",
    "# print(pred_list)"
   ],
   "metadata": {
    "collapsed": false,
    "pycharm": {
     "name": "#%%\n"
    }
   }
  },
  {
   "cell_type": "code",
   "execution_count": 119,
   "outputs": [
    {
     "name": "stdout",
     "output_type": "stream",
     "text": [
      "Slope: 0.11994903093302135\n",
      "Intercept: 0.5311160685574741\n",
      "R-Squared: 0.09046735216088997\n",
      "P-Value: 0.001822745376608491\n",
      "Standard Error: 0.03747497380905567\n"
     ]
    },
    {
     "data": {
      "text/plain": "<Figure size 432x288 with 1 Axes>",
      "image/png": "[encoded data removed]"
     },
     "metadata": {
      "needs_background": "light"
     },
     "output_type": "display_data"
    }
   ],
   "source": [
    "import scipy.stats as stats\n",
    "X_var = label_list\n",
    "y_var = pred_list\n",
    "plt.plot(X_var, y_var, 'o')\n",
    "slope, intercept, r_value, p_value, std_err = stats.linregress(X_var, y_var)\n",
    "print(\"Slope:\", slope)\n",
    "print(\"Intercept:\", intercept)\n",
    "print(\"R-Squared:\", r_value**2)\n",
    "print(\"P-Value:\", p_value)\n",
    "print(\"Standard Error:\", std_err)\n",
    "plt.xlabel('Test Labels')\n",
    "plt.ylabel('Predictions')\n",
    "plt.title('Test Labels vs. Predictions')\n",
    "plt.show()"
   ],
   "metadata": {
    "collapsed": false,
    "pycharm": {
     "name": "#%%\n"
    }
   }
  }
 ],
 "metadata": {
  "kernelspec": {
   "display_name": "Python 3",
   "language": "python",
   "name": "python3"
  },
  "language_info": {
   "codemirror_mode": {
    "name": "ipython",
    "version": 2
   },
   "file_extension": ".py",
   "mimetype": "text/x-python",
   "name": "python",
   "nbconvert_exporter": "python",
   "pygments_lexer": "ipython2",
   "version": "2.7.6"
  }
 },
 "nbformat": 4,
 "nbformat_minor": 0
}