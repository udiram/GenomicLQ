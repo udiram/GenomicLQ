{
 "cells": [
  {
   "cell_type": "code",
   "execution_count": 79,
   "outputs": [],
   "source": [
    "import nvsmi\n",
    "from fastai.tabular.all import *\n",
    "import pandas as pd"
   ],
   "metadata": {
    "collapsed": false,
    "pycharm": {
     "name": "#%%\n"
    }
   }
  },
  {
   "cell_type": "code",
   "execution_count": 80,
   "outputs": [
    {
     "data": {
      "text/plain": "[pid: 15648 | gpu_id: 0 | gpu_uuid: GPU-214040b2-85f5-0241-5a6a-efd5171b81ee | gpu_name: NVIDIA GeForce RTX 3080 Ti Laptop GPU | used_memory:     nanMB,\n pid: 16632 | gpu_id: 0 | gpu_uuid: GPU-214040b2-85f5-0241-5a6a-efd5171b81ee | gpu_name: NVIDIA GeForce RTX 3080 Ti Laptop GPU | used_memory:     nanMB,\n pid: 19120 | gpu_id: 0 | gpu_uuid: GPU-214040b2-85f5-0241-5a6a-efd5171b81ee | gpu_name: NVIDIA GeForce RTX 3080 Ti Laptop GPU | used_memory:     nanMB,\n pid: 3064 | gpu_id: 0 | gpu_uuid: GPU-214040b2-85f5-0241-5a6a-efd5171b81ee | gpu_name: NVIDIA GeForce RTX 3080 Ti Laptop GPU | used_memory:     nanMB,\n pid: 1992 | gpu_id: 0 | gpu_uuid: GPU-214040b2-85f5-0241-5a6a-efd5171b81ee | gpu_name: NVIDIA GeForce RTX 3080 Ti Laptop GPU | used_memory:     nanMB,\n pid: 14552 | gpu_id: 0 | gpu_uuid: GPU-214040b2-85f5-0241-5a6a-efd5171b81ee | gpu_name: NVIDIA GeForce RTX 3080 Ti Laptop GPU | used_memory:     nanMB,\n pid: 15712 | gpu_id: 0 | gpu_uuid: GPU-214040b2-85f5-0241-5a6a-efd5171b81ee | gpu_name: NVIDIA GeForce RTX 3080 Ti Laptop GPU | used_memory:     nanMB]"
     },
     "execution_count": 80,
     "metadata": {},
     "output_type": "execute_result"
    }
   ],
   "source": [
    "nvsmi.get_gpus()\n",
    "nvsmi.get_available_gpus()\n",
    "nvsmi.get_gpu_processes()"
   ],
   "metadata": {
    "collapsed": false,
    "pycharm": {
     "name": "#%%\n"
    }
   }
  },
  {
   "cell_type": "code",
   "execution_count": null,
   "outputs": [],
   "source": [
    "train_df = pd.read_csv(\"data/x_train_234568.csv\")\n",
    "train_df.head()\n",
    "train_df.set_index('cell_line', inplace=True)"
   ],
   "metadata": {
    "collapsed": false,
    "pycharm": {
     "name": "#%%\n"
    }
   }
  },
  {
   "cell_type": "code",
   "execution_count": 82,
   "outputs": [
    {
     "data": {
      "text/plain": "cell_line  NCIH1568-2  NCIH1568-3  NCIH1568-4  NCIH1568-5  NCIH1568-6  \\\n7105         5.626439    5.626439    5.626439    5.626439    5.626439   \n8813         6.855242    6.855242    6.855242    6.855242    6.855242   \n57147        2.185867    2.185867    2.185867    2.185867    2.185867   \n55732        4.079805    4.079805    4.079805    4.079805    4.079805   \n2268         0.084064    0.084064    0.084064    0.084064    0.084064   \n\ncell_line  NCIH1568-8    SCC9-2    SCC9-3    SCC9-4    SCC9-5  ...  \\\n7105         5.626439  3.964399  3.964399  3.964399  3.964399  ...   \n8813         6.855242  5.718088  5.718088  5.718088  5.718088  ...   \n57147        2.185867  2.260026  2.260026  2.260026  2.260026  ...   \n55732        4.079805  3.451541  3.451541  3.451541  3.451541  ...   \n2268         0.084064  0.084064  0.084064  0.084064  0.084064  ...   \n\ncell_line  PATU8902-4  PATU8902-5  PATU8902-6  PATU8902-8    JHH6-2    JHH6-3  \\\n7105         5.287989    5.287989    5.287989    5.287989  3.866908  3.866908   \n8813         6.785943    6.785943    6.785943    6.785943  6.245838  6.245838   \n57147        1.687061    1.687061    1.687061    1.687061  2.217231  2.217231   \n55732        3.648465    3.648465    3.648465    3.648465  3.517276  3.517276   \n2268         0.014355    0.014355    0.014355    0.014355  0.042644  0.042644   \n\ncell_line    JHH6-4    JHH6-5    JHH6-6    JHH6-8  \n7105       3.866908  3.866908  3.866908  3.866908  \n8813       6.245838  6.245838  6.245838  6.245838  \n57147      2.217231  2.217231  2.217231  2.217231  \n55732      3.517276  3.517276  3.517276  3.517276  \n2268       0.042644  0.042644  0.042644  0.042644  \n\n[5 rows x 2832 columns]",
      "text/html": "<div>\n<style scoped>\n    .dataframe tbody tr th:only-of-type {\n        vertical-align: middle;\n    }\n\n    .dataframe tbody tr th {\n        vertical-align: top;\n    }\n\n    .dataframe thead th {\n        text-align: right;\n    }\n</style>\n<table border=\"1\" class=\"dataframe\">\n  <thead>\n    <tr style=\"text-align: right;\">\n      <th>cell_line</th>\n      <th>NCIH1568-2</th>\n      <th>NCIH1568-3</th>\n      <th>NCIH1568-4</th>\n      <th>NCIH1568-5</th>\n      <th>NCIH1568-6</th>\n      <th>NCIH1568-8</th>\n      <th>SCC9-2</th>\n      <th>SCC9-3</th>\n      <th>SCC9-4</th>\n      <th>SCC9-5</th>\n      <th>...</th>\n      <th>PATU8902-4</th>\n      <th>PATU8902-5</th>\n      <th>PATU8902-6</th>\n      <th>PATU8902-8</th>\n      <th>JHH6-2</th>\n      <th>JHH6-3</th>\n      <th>JHH6-4</th>\n      <th>JHH6-5</th>\n      <th>JHH6-6</th>\n      <th>JHH6-8</th>\n    </tr>\n  </thead>\n  <tbody>\n    <tr>\n      <th>7105</th>\n      <td>5.626439</td>\n      <td>5.626439</td>\n      <td>5.626439</td>\n      <td>5.626439</td>\n      <td>5.626439</td>\n      <td>5.626439</td>\n      <td>3.964399</td>\n      <td>3.964399</td>\n      <td>3.964399</td>\n      <td>3.964399</td>\n      <td>...</td>\n      <td>5.287989</td>\n      <td>5.287989</td>\n      <td>5.287989</td>\n      <td>5.287989</td>\n      <td>3.866908</td>\n      <td>3.866908</td>\n      <td>3.866908</td>\n      <td>3.866908</td>\n      <td>3.866908</td>\n      <td>3.866908</td>\n    </tr>\n    <tr>\n      <th>8813</th>\n      <td>6.855242</td>\n      <td>6.855242</td>\n      <td>6.855242</td>\n      <td>6.855242</td>\n      <td>6.855242</td>\n      <td>6.855242</td>\n      <td>5.718088</td>\n      <td>5.718088</td>\n      <td>5.718088</td>\n      <td>5.718088</td>\n      <td>...</td>\n      <td>6.785943</td>\n      <td>6.785943</td>\n      <td>6.785943</td>\n      <td>6.785943</td>\n      <td>6.245838</td>\n      <td>6.245838</td>\n      <td>6.245838</td>\n      <td>6.245838</td>\n      <td>6.245838</td>\n      <td>6.245838</td>\n    </tr>\n    <tr>\n      <th>57147</th>\n      <td>2.185867</td>\n      <td>2.185867</td>\n      <td>2.185867</td>\n      <td>2.185867</td>\n      <td>2.185867</td>\n      <td>2.185867</td>\n      <td>2.260026</td>\n      <td>2.260026</td>\n      <td>2.260026</td>\n      <td>2.260026</td>\n      <td>...</td>\n      <td>1.687061</td>\n      <td>1.687061</td>\n      <td>1.687061</td>\n      <td>1.687061</td>\n      <td>2.217231</td>\n      <td>2.217231</td>\n      <td>2.217231</td>\n      <td>2.217231</td>\n      <td>2.217231</td>\n      <td>2.217231</td>\n    </tr>\n    <tr>\n      <th>55732</th>\n      <td>4.079805</td>\n      <td>4.079805</td>\n      <td>4.079805</td>\n      <td>4.079805</td>\n      <td>4.079805</td>\n      <td>4.079805</td>\n      <td>3.451541</td>\n      <td>3.451541</td>\n      <td>3.451541</td>\n      <td>3.451541</td>\n      <td>...</td>\n      <td>3.648465</td>\n      <td>3.648465</td>\n      <td>3.648465</td>\n      <td>3.648465</td>\n      <td>3.517276</td>\n      <td>3.517276</td>\n      <td>3.517276</td>\n      <td>3.517276</td>\n      <td>3.517276</td>\n      <td>3.517276</td>\n    </tr>\n    <tr>\n      <th>2268</th>\n      <td>0.084064</td>\n      <td>0.084064</td>\n      <td>0.084064</td>\n      <td>0.084064</td>\n      <td>0.084064</td>\n      <td>0.084064</td>\n      <td>0.084064</td>\n      <td>0.084064</td>\n      <td>0.084064</td>\n      <td>0.084064</td>\n      <td>...</td>\n      <td>0.014355</td>\n      <td>0.014355</td>\n      <td>0.014355</td>\n      <td>0.014355</td>\n      <td>0.042644</td>\n      <td>0.042644</td>\n      <td>0.042644</td>\n      <td>0.042644</td>\n      <td>0.042644</td>\n      <td>0.042644</td>\n    </tr>\n  </tbody>\n</table>\n<p>5 rows × 2832 columns</p>\n</div>"
     },
     "execution_count": 82,
     "metadata": {},
     "output_type": "execute_result"
    }
   ],
   "source": [
    "transpose_df = train_df.transpose()\n",
    "transpose_df.head()"
   ],
   "metadata": {
    "collapsed": false,
    "pycharm": {
     "name": "#%%\n"
    }
   }
  },
  {
   "cell_type": "code",
   "execution_count": 83,
   "outputs": [],
   "source": [
    "cell_line_list = transpose_df.columns.tolist()"
   ],
   "metadata": {
    "collapsed": false,
    "pycharm": {
     "name": "#%%\n"
    }
   }
  },
  {
   "cell_type": "code",
   "execution_count": 84,
   "outputs": [
    {
     "name": "stdout",
     "output_type": "stream",
     "text": [
      "['NCIH1568-8', 'SCC9-8', 'HCC1428-8', 'U2OS-8', 'LU99-8', 'CALU3-8', 'SNU449-8', 'NCIH1623-8', 'SW1116-8', 'NCIH2291-8', 'JHH4-8', 'HCC1438-8', 'MDAMB415-8', 'NCIH69-8', 'DLD1-8', 'OVTOKO-8', 'OC314-8', 'FUOV1-8', 'SKMEL2-8', 'MHHNB11-8', 'WM115-8', 'HCC4006-8', '42MGBA-8', 'OVMANA-8', 'A253-8', 'SNU46-8', 'EPLC272H-8', 'NCIH522-8', 'HS729-8', 'DETROIT562-8', 'U251MG-8', 'HCT15-8', 'H4-8', 'HUPT3-8', 'SNUC4-8', 'SW1573-8', 'SKNSH-8', 'UBLC1-8', 'LS1034-8', 'A204-8', 'SW1710-8', 'TOV21G-8', 'IGROV1-8', 'GI1-8', 'HCC1937-8', 'COLO829-8', 'SKMEL30-8', 'PC3-8', 'ZR7530-8', 'RMUGS-8', 'NB1-8', 'SKUT1-8', 'HUH1-8', 'IGR37-8', 'YKG1-8', 'SNU1077-8', '8MGBA-8', 'OVCAR8-8', 'HS839T-8', 'OVCAR4-8', 'PSN1-8', 'NCIH1869-8', 'PECAPJ41CLONED2-8', 'SKCO1-8', 'SW1088-8', 'MDAMB157-8', 'G292CLONEA141B1-8', 'NCIH1975-8', 'SKBR3-8', 'CJM-8', 'BICR6-8', 'HS683-8', 'CAPAN2-8', 'HARA-8', 'GAMG-8', 'TE9-8', 'KNS42-8', 'NCIH1573-8', 'CL34-8', 'COLO679-8', '8505C-8', 'A101D-8', 'NCIH810-8', 'PANC0203-8', 'LC1SQSF-8', 'SNU387-8', 'HT55-8', 'SW948-8', 'HS294T-8', 'OAW42-8', 'SW1271-8', 'PANC0327-8', 'KNS81-8', 'HS766T-8', 'HCC366-8', 'NCIH650-8', 'COLO678-8', 'KNS60-8', 'SNU1214-8', 'SNU719-8', 'YD8-8', 'JHUEM1-8', 'HS934T-8', 'CL11-8', 'JHOM1-8', 'LOUNH91-8', 'JHH1-8', 'BXPC3-8', 'M059K-8', 'NCIH2342-8', 'NCIH446-8', 'KMBC2-8', 'CHAGOK1-8', 'DAOY-8', 'BICR16-8', 'LI7-8', 'LS180-8', '769P-8', 'OVISE-8', 'KLE-8', 'SKMEL24-8', '786O-8', 'HEC6-8', 'NCIH1395-8', 'HEC1A-8', 'LCLC103H-8', 'HCC2279-8', 'AU565-8', 'COV362-8', 'AN3CA-8', 'ML1-8', 'A498-8', 'HT144-8', 'NCIH2110-8', 'SKNMC-8', 'NCIH2052-8', 'COLO800-8', 'TE1-8', 'KYSE140-8', 'HCC202-8', 'DMS53-8', 'SKNFI-8', 'NIHOVCAR3-8', 'JMSU1-8', 'WM2664-8', 'TYKNU-8', 'HS888T-8', 'WM88-8', 'SF268-8', 'SNU398-8', 'SW837-8', 'PANC0403-8', 'SNU840-8', 'CFPAC1-8', 'JHOS2-8', 'JHH5-8', 'HCC1806-8', 'NCIH292-8', 'PC14-8', 'HSC2-8', 'GP2D-8', 'OV7-8', 'COLO783-8', 'RERFLCAD2-8', 'RCC10RGB-8', 'ISTMES1-8', 'SW403-8', 'MHHES1-8', 'TCCSUP-8', 'NCIH1650-8', 'KYM1-8', 'EKVX-8', 'SKMEL3-8', 'OSRC2-8', 'NCIH1781-8', 'FADU-8', 'SNU478-8', 'U87MG-8', 'OE21-8', 'NCIH2122-8', 'ESS1-8', 'AGS-8', 'SNU245-8', 'JHUEM3-8', 'HEYA8-8', 'HS819T-8', 'HOP92-8', 'SNU503-8', 'CAL12T-8', 'HT115-8', 'EFE184-8', 'SNU869-8', 'SNU899-8', 'CORL105-8', 'OE33-8', 'YH13-8', 'HEC59-8', 'GB1-8', 'SNU61-8', '5637-8', 'SNU601-8', 'KYSE150-8', 'ACHN-8', 'HLF-8', 'LS123-8', 'NUGC3-8', 'HCC15-8', 'UMUC3-8', 'HUPT4-8', 'HT1197-8', 'SCABER-8', 'OVSAHO-8', 'NCIH226-8', 'HEC1B-8', 'SHP77-8', 'MDAMB435S-8', 'SNU1196-8', 'T47D-8', 'RL952-8', 'MDAMB453-8', 'LCLC97TM1-8', 'HEC108-8', 'BT549-8', 'EFO27-8', 'CALU1-8', 'COLO680N-8', 'JL1-8', 'SKOV3-8', 'TM31-8', 'NCIH2405-8', 'KURAMOCHI-8', 'DANG-8', 'C2BBE1-8', 'NCIH2452-8', 'BICR56-8', 'SCC25-8', 'PLCPRF5-8', 'WM983B-8', 'KU1919-8', 'BICR22-8', 'PECAPJ15-8', 'NCIH520-8', 'HS746T-8', 'PECAPJ34CLONEC12-8', 'RCM1-8', 'HEC265-8', 'KNS62-8', 'GMS10-8', 'RERFLCMS-8', 'SW1463-8', 'RH30-8', 'KP3-8', 'SNU1041-8', 'JHH2-8', 'KP2-8', 'SU8686-8', 'KE39-8', 'LK2-8', 'MEWO-8', 'COV318-8', 'BCPAP-8', 'KPNSI9S-8', 'NCIH2087-8', 'KYSE30-8', 'HCC78-8', 'HCC1419-8', 'HSC4-8', 'SNUC2A-8', 'SNU216-8', 'CAL148-8', 'NCIH1339-8', 'SW48-8', 'DM3-8', 'SNU1272-8', 'OV90-8', 'NCIH841-8', 'A2780-8', 'NCIH1703-8', 'NCIH838-8', 'UO31-8', 'MDAMB231-8', 'KYSE70-8', 'HS895T-8', 'ECC12-8', 'HCC1833-8', 'BHT101-8', 'HCC1195-8', 'HOP62-8', 'HPAFII-8', 'ACCMESO1-8', 'SNB75-8', 'NUGC4-8', 'HCC1171-8', 'SKES1-8', 'HEC50B-8', 'LN229-8', 'MFE296-8', 'T24-8', 'NCIH508-8', 'NCIH727-8', 'SNU407-8', 'MCAS-8', 'TE11-8', 'TT2609C02-8', 'AM38-8', 'NCIN87-8', 'NCIH196-8', 'MORCPR-8', 'KYSE510-8', 'SNU1033-8', '647V-8', 'RERFLCAI-8', 'HCC38-8', 'NCIH1563-8', 'NCIH1666-8', 'DKMG-8', 'IPC298-8', 'SKNAS-8', 'WM793-8', 'NCIH1341-8', 'NCIH1915-8', 'T84-8', 'IM95-8', 'TE617T-8', 'DMS114-8', 'NCIH2286-8', 'MESSA-8', 'A2058-8', 'PATU8988S-8', 'SKHEP1-8', 'EFM192A-8', 'MKN7-8', 'C32-8', 'JHOC5-8', 'COLO668-8', 'CAL51-8', 'MPP89-8', 'CCFSTTG1-8', 'KMRC3-8', 'SNU308-8', 'SNU283-8', 'SNU886-8', 'HCC2935-8', 'KYSE180-8', 'COLO699-8', 'SKNBE2-8', 'RERFLCAD1-8', 'HCC827-8', 'J82-8', 'BC3C-8', 'SKMEL28-8', 'CAL78-8', 'TE10-8', 'SF126-8', '22RV1-8', 'RH41-8', 'K029AX-8', 'SKLMS1-8', 'PK1-8', 'SW1990-8', 'G401-8', 'RT112-8', 'OVKATE-8', 'NCIH2196-8', 'NCIH1838-8', 'IGR1-8', 'PK45H-8', 'MDAMB468-8', 'FTC133-8', 'VMRCRCW-8', 'FTC238-8', 'TE125T-8', 'HT1376-8', 'COV434-8', 'NCIH2228-8', 'CAPAN1-8', 'OV56-8', 'QGP1-8', 'SF539-8', 'KMRC1-8', 'NCIH1435-8', 'KYSE520-8', 'HMCB-8', 'HEP3B217-8', 'OCUM1-8', 'IGR39-8', 'PANC0504-8', 'HCC95-8', 'TE8-8', 'CAOV3-8', 'MG63-8', 'NCIH747-8', 'KATOIII-8', 'ECGI10-8', 'SNU119-8', 'HCC2108-8', 'YD15-8', 'T3M10-8', 'UMUC1-8', 'TUHR10TKB-8', 'RKO-8', 'ES2-8', 'EBC1-8', 'SNU175-8', 'MKN74-8', 'HCC1954-8', 'PANC1005-8', 'NCIH1793-8', 'COLO320-8', 'SNU1105-8', 'NCIH661-8', 'MELHO-8', 'RD-8', 'TE6-8', 'SNU466-8', 'CAL54-8', 'GOS3-8', 'RT4-8', 'VMCUB1-8', 'NCIH1299-8', 'TE15-8', 'CAKI2-8', 'RVH421-8', 'CHP212-8', 'SNGM-8', 'T98G-8', 'HCC56-8', 'NCIH1792-8', 'BICR31-8', 'IMR32-8', 'PK59-8', 'SNUC5-8', 'HS944T-8', 'HOS-8', 'LS513-8', 'KALS1-8', 'BT20-8', 'BT474-8', 'HCC44-8', 'ISHIKAWAHERAKLIO02ER-8', 'MKN45-8', 'SNU685-8', 'NCIH1755-8', 'SNU1066-8', 'SH10TC-8', 'U118MG-8', 'HMC18-8', 'NCIH1651-8', 'VMRCRCZ-8', 'IALM-8', 'YD38-8', 'G402-8', 'ONCODG1-8', 'SNU668-8', 'SNU182-8', 'OE19-8', 'JHUEM2-8', 'LS411N-8', 'SW1417-8', 'HCC1569-8', 'D283MED-8', 'HUH28-8', 'EFO21-8', 'TE14-8', 'NCIH322-8', 'SF295-8', 'SW579-8', 'COV644-8', 'NCIH1373-8', 'A172-8', 'PATU8902-8', 'JHH6-8']\n"
     ]
    }
   ],
   "source": [
    "only_number_of_interest = []\n",
    "for cell_line in cell_line_list:\n",
    "    cell_line_number = cell_line.split('-')[1]\n",
    "    if cell_line_number == '8':\n",
    "        only_number_of_interest.append(cell_line)\n",
    "print(only_number_of_interest)"
   ],
   "metadata": {
    "collapsed": false,
    "pycharm": {
     "name": "#%%\n"
    }
   }
  },
  {
   "cell_type": "code",
   "execution_count": 93,
   "outputs": [],
   "source": [
    "df2 = transpose_df.loc[:, only_number_of_interest]\n",
    "df2.head()\n",
    "df2.to_csv(\"data/only8.csv\")"
   ],
   "metadata": {
    "collapsed": false,
    "pycharm": {
     "name": "#%%\n"
    }
   }
  },
  {
   "cell_type": "code",
   "execution_count": 104,
   "outputs": [],
   "source": [
    "train_y_df = pd.read_csv('data/y_train_sf_234568.csv')\n",
    "train_y_df.head()\n",
    "train_y_df.set_index('cell_line', inplace=True)"
   ],
   "metadata": {
    "collapsed": false,
    "pycharm": {
     "name": "#%%\n"
    }
   }
  },
  {
   "cell_type": "code",
   "execution_count": 105,
   "outputs": [
    {
     "data": {
      "text/plain": "cell_line  NCIH1568-2  NCIH1568-3  NCIH1568-4  NCIH1568-5  NCIH1568-6  \\\nSF            0.60794    0.368697     0.33349     0.21318    0.191359   \n\ncell_line  NCIH1568-8    SCC9-2    SCC9-3    SCC9-4   SCC9-5  ...  PATU8902-4  \\\nSF           0.128478  0.573035  0.225289  0.269735  0.19076  ...     0.30932   \n\ncell_line  PATU8902-5  PATU8902-6  PATU8902-8    JHH6-2   JHH6-3    JHH6-4  \\\nSF           0.154159      0.0868      0.0397  0.581603  0.51621  0.466863   \n\ncell_line    JHH6-5    JHH6-6  JHH6-8  \nSF         0.350451  0.172116  0.0976  \n\n[1 rows x 2832 columns]",
      "text/html": "<div>\n<style scoped>\n    .dataframe tbody tr th:only-of-type {\n        vertical-align: middle;\n    }\n\n    .dataframe tbody tr th {\n        vertical-align: top;\n    }\n\n    .dataframe thead th {\n        text-align: right;\n    }\n</style>\n<table border=\"1\" class=\"dataframe\">\n  <thead>\n    <tr style=\"text-align: right;\">\n      <th>cell_line</th>\n      <th>NCIH1568-2</th>\n      <th>NCIH1568-3</th>\n      <th>NCIH1568-4</th>\n      <th>NCIH1568-5</th>\n      <th>NCIH1568-6</th>\n      <th>NCIH1568-8</th>\n      <th>SCC9-2</th>\n      <th>SCC9-3</th>\n      <th>SCC9-4</th>\n      <th>SCC9-5</th>\n      <th>...</th>\n      <th>PATU8902-4</th>\n      <th>PATU8902-5</th>\n      <th>PATU8902-6</th>\n      <th>PATU8902-8</th>\n      <th>JHH6-2</th>\n      <th>JHH6-3</th>\n      <th>JHH6-4</th>\n      <th>JHH6-5</th>\n      <th>JHH6-6</th>\n      <th>JHH6-8</th>\n    </tr>\n  </thead>\n  <tbody>\n    <tr>\n      <th>SF</th>\n      <td>0.60794</td>\n      <td>0.368697</td>\n      <td>0.33349</td>\n      <td>0.21318</td>\n      <td>0.191359</td>\n      <td>0.128478</td>\n      <td>0.573035</td>\n      <td>0.225289</td>\n      <td>0.269735</td>\n      <td>0.19076</td>\n      <td>...</td>\n      <td>0.30932</td>\n      <td>0.154159</td>\n      <td>0.0868</td>\n      <td>0.0397</td>\n      <td>0.581603</td>\n      <td>0.51621</td>\n      <td>0.466863</td>\n      <td>0.350451</td>\n      <td>0.172116</td>\n      <td>0.0976</td>\n    </tr>\n  </tbody>\n</table>\n<p>1 rows × 2832 columns</p>\n</div>"
     },
     "execution_count": 105,
     "metadata": {},
     "output_type": "execute_result"
    }
   ],
   "source": [
    "train_y_transpose = train_y_df.transpose()\n",
    "train_y_transpose.head()"
   ],
   "metadata": {
    "collapsed": false,
    "pycharm": {
     "name": "#%%\n"
    }
   }
  },
  {
   "cell_type": "code",
   "execution_count": 120,
   "outputs": [
    {
     "name": "stdout",
     "output_type": "stream",
     "text": [
      "['NCIH1568-8', 'SCC9-8', 'HCC1428-8', 'U2OS-8', 'LU99-8', 'CALU3-8', 'SNU449-8', 'NCIH1623-8', 'SW1116-8', 'NCIH2291-8', 'JHH4-8', 'HCC1438-8', 'MDAMB415-8', 'NCIH69-8', 'DLD1-8', 'OVTOKO-8', 'OC314-8', 'FUOV1-8', 'SKMEL2-8', 'MHHNB11-8', 'WM115-8', 'HCC4006-8', '42MGBA-8', 'OVMANA-8', 'A253-8', 'SNU46-8', 'EPLC272H-8', 'NCIH522-8', 'HS729-8', 'DETROIT562-8', 'U251MG-8', 'HCT15-8', 'H4-8', 'HUPT3-8', 'SNUC4-8', 'SW1573-8', 'SKNSH-8', 'UBLC1-8', 'LS1034-8', 'A204-8', 'SW1710-8', 'TOV21G-8', 'IGROV1-8', 'GI1-8', 'HCC1937-8', 'COLO829-8', 'SKMEL30-8', 'PC3-8', 'ZR7530-8', 'RMUGS-8', 'NB1-8', 'SKUT1-8', 'HUH1-8', 'IGR37-8', 'YKG1-8', 'SNU1077-8', '8MGBA-8', 'OVCAR8-8', 'HS839T-8', 'OVCAR4-8', 'PSN1-8', 'NCIH1869-8', 'PECAPJ41CLONED2-8', 'SKCO1-8', 'SW1088-8', 'MDAMB157-8', 'G292CLONEA141B1-8', 'NCIH1975-8', 'SKBR3-8', 'CJM-8', 'BICR6-8', 'HS683-8', 'CAPAN2-8', 'HARA-8', 'GAMG-8', 'TE9-8', 'KNS42-8', 'NCIH1573-8', 'CL34-8', 'COLO679-8', '8505C-8', 'A101D-8', 'NCIH810-8', 'PANC0203-8', 'LC1SQSF-8', 'SNU387-8', 'HT55-8', 'SW948-8', 'HS294T-8', 'OAW42-8', 'SW1271-8', 'PANC0327-8', 'KNS81-8', 'HS766T-8', 'HCC366-8', 'NCIH650-8', 'COLO678-8', 'KNS60-8', 'SNU1214-8', 'SNU719-8', 'YD8-8', 'JHUEM1-8', 'HS934T-8', 'CL11-8', 'JHOM1-8', 'LOUNH91-8', 'JHH1-8', 'BXPC3-8', 'M059K-8', 'NCIH2342-8', 'NCIH446-8', 'KMBC2-8', 'CHAGOK1-8', 'DAOY-8', 'BICR16-8', 'LI7-8', 'LS180-8', '769P-8', 'OVISE-8', 'KLE-8', 'SKMEL24-8', '786O-8', 'HEC6-8', 'NCIH1395-8', 'HEC1A-8', 'LCLC103H-8', 'HCC2279-8', 'AU565-8', 'COV362-8', 'AN3CA-8', 'ML1-8', 'A498-8', 'HT144-8', 'NCIH2110-8', 'SKNMC-8', 'NCIH2052-8', 'COLO800-8', 'TE1-8', 'KYSE140-8', 'HCC202-8', 'DMS53-8', 'SKNFI-8', 'NIHOVCAR3-8', 'JMSU1-8', 'WM2664-8', 'TYKNU-8', 'HS888T-8', 'WM88-8', 'SF268-8', 'SNU398-8', 'SW837-8', 'PANC0403-8', 'SNU840-8', 'CFPAC1-8', 'JHOS2-8', 'JHH5-8', 'HCC1806-8', 'NCIH292-8', 'PC14-8', 'HSC2-8', 'GP2D-8', 'OV7-8', 'COLO783-8', 'RERFLCAD2-8', 'RCC10RGB-8', 'ISTMES1-8', 'SW403-8', 'MHHES1-8', 'TCCSUP-8', 'NCIH1650-8', 'KYM1-8', 'EKVX-8', 'SKMEL3-8', 'OSRC2-8', 'NCIH1781-8', 'FADU-8', 'SNU478-8', 'U87MG-8', 'OE21-8', 'NCIH2122-8', 'ESS1-8', 'AGS-8', 'SNU245-8', 'JHUEM3-8', 'HEYA8-8', 'HS819T-8', 'HOP92-8', 'SNU503-8', 'CAL12T-8', 'HT115-8', 'EFE184-8', 'SNU869-8', 'SNU899-8', 'CORL105-8', 'OE33-8', 'YH13-8', 'HEC59-8', 'GB1-8', 'SNU61-8', '5637-8', 'SNU601-8', 'KYSE150-8', 'ACHN-8', 'HLF-8', 'LS123-8', 'NUGC3-8', 'HCC15-8', 'UMUC3-8', 'HUPT4-8', 'HT1197-8', 'SCABER-8', 'OVSAHO-8', 'NCIH226-8', 'HEC1B-8', 'SHP77-8', 'MDAMB435S-8', 'SNU1196-8', 'T47D-8', 'RL952-8', 'MDAMB453-8', 'LCLC97TM1-8', 'HEC108-8', 'BT549-8', 'EFO27-8', 'CALU1-8', 'COLO680N-8', 'JL1-8', 'SKOV3-8', 'TM31-8', 'NCIH2405-8', 'KURAMOCHI-8', 'DANG-8', 'C2BBE1-8', 'NCIH2452-8', 'BICR56-8', 'SCC25-8', 'PLCPRF5-8', 'WM983B-8', 'KU1919-8', 'BICR22-8', 'PECAPJ15-8', 'NCIH520-8', 'HS746T-8', 'PECAPJ34CLONEC12-8', 'RCM1-8', 'HEC265-8', 'KNS62-8', 'GMS10-8', 'RERFLCMS-8', 'SW1463-8', 'RH30-8', 'KP3-8', 'SNU1041-8', 'JHH2-8', 'KP2-8', 'SU8686-8', 'KE39-8', 'LK2-8', 'MEWO-8', 'COV318-8', 'BCPAP-8', 'KPNSI9S-8', 'NCIH2087-8', 'KYSE30-8', 'HCC78-8', 'HCC1419-8', 'HSC4-8', 'SNUC2A-8', 'SNU216-8', 'CAL148-8', 'NCIH1339-8', 'SW48-8', 'DM3-8', 'SNU1272-8', 'OV90-8', 'NCIH841-8', 'A2780-8', 'NCIH1703-8', 'NCIH838-8', 'UO31-8', 'MDAMB231-8', 'KYSE70-8', 'HS895T-8', 'ECC12-8', 'HCC1833-8', 'BHT101-8', 'HCC1195-8', 'HOP62-8', 'HPAFII-8', 'ACCMESO1-8', 'SNB75-8', 'NUGC4-8', 'HCC1171-8', 'SKES1-8', 'HEC50B-8', 'LN229-8', 'MFE296-8', 'T24-8', 'NCIH508-8', 'NCIH727-8', 'SNU407-8', 'MCAS-8', 'TE11-8', 'TT2609C02-8', 'AM38-8', 'NCIN87-8', 'NCIH196-8', 'MORCPR-8', 'KYSE510-8', 'SNU1033-8', '647V-8', 'RERFLCAI-8', 'HCC38-8', 'NCIH1563-8', 'NCIH1666-8', 'DKMG-8', 'IPC298-8', 'SKNAS-8', 'WM793-8', 'NCIH1341-8', 'NCIH1915-8', 'T84-8', 'IM95-8', 'TE617T-8', 'DMS114-8', 'NCIH2286-8', 'MESSA-8', 'A2058-8', 'PATU8988S-8', 'SKHEP1-8', 'EFM192A-8', 'MKN7-8', 'C32-8', 'JHOC5-8', 'COLO668-8', 'CAL51-8', 'MPP89-8', 'CCFSTTG1-8', 'KMRC3-8', 'SNU308-8', 'SNU283-8', 'SNU886-8', 'HCC2935-8', 'KYSE180-8', 'COLO699-8', 'SKNBE2-8', 'RERFLCAD1-8', 'HCC827-8', 'J82-8', 'BC3C-8', 'SKMEL28-8', 'CAL78-8', 'TE10-8', 'SF126-8', '22RV1-8', 'RH41-8', 'K029AX-8', 'SKLMS1-8', 'PK1-8', 'SW1990-8', 'G401-8', 'RT112-8', 'OVKATE-8', 'NCIH2196-8', 'NCIH1838-8', 'IGR1-8', 'PK45H-8', 'MDAMB468-8', 'FTC133-8', 'VMRCRCW-8', 'FTC238-8', 'TE125T-8', 'HT1376-8', 'COV434-8', 'NCIH2228-8', 'CAPAN1-8', 'OV56-8', 'QGP1-8', 'SF539-8', 'KMRC1-8', 'NCIH1435-8', 'KYSE520-8', 'HMCB-8', 'HEP3B217-8', 'OCUM1-8', 'IGR39-8', 'PANC0504-8', 'HCC95-8', 'TE8-8', 'CAOV3-8', 'MG63-8', 'NCIH747-8', 'KATOIII-8', 'ECGI10-8', 'SNU119-8', 'HCC2108-8', 'YD15-8', 'T3M10-8', 'UMUC1-8', 'TUHR10TKB-8', 'RKO-8', 'ES2-8', 'EBC1-8', 'SNU175-8', 'MKN74-8', 'HCC1954-8', 'PANC1005-8', 'NCIH1793-8', 'COLO320-8', 'SNU1105-8', 'NCIH661-8', 'MELHO-8', 'RD-8', 'TE6-8', 'SNU466-8', 'CAL54-8', 'GOS3-8', 'RT4-8', 'VMCUB1-8', 'NCIH1299-8', 'TE15-8', 'CAKI2-8', 'RVH421-8', 'CHP212-8', 'SNGM-8', 'T98G-8', 'HCC56-8', 'NCIH1792-8', 'BICR31-8', 'IMR32-8', 'PK59-8', 'SNUC5-8', 'HS944T-8', 'HOS-8', 'LS513-8', 'KALS1-8', 'BT20-8', 'BT474-8', 'HCC44-8', 'ISHIKAWAHERAKLIO02ER-8', 'MKN45-8', 'SNU685-8', 'NCIH1755-8', 'SNU1066-8', 'SH10TC-8', 'U118MG-8', 'HMC18-8', 'NCIH1651-8', 'VMRCRCZ-8', 'IALM-8', 'YD38-8', 'G402-8', 'ONCODG1-8', 'SNU668-8', 'SNU182-8', 'OE19-8', 'JHUEM2-8', 'LS411N-8', 'SW1417-8', 'HCC1569-8', 'D283MED-8', 'HUH28-8', 'EFO21-8', 'TE14-8', 'NCIH322-8', 'SF295-8', 'SW579-8', 'COV644-8', 'NCIH1373-8', 'A172-8', 'PATU8902-8', 'JHH6-8']\n"
     ]
    }
   ],
   "source": [
    "cell_line_list = train_y_transpose.columns.tolist()\n",
    "only_number_of_interest = []\n",
    "for cell_line in cell_line_list:\n",
    "    cell_line_number = cell_line.split('-')[1]\n",
    "    if cell_line_number == '8':\n",
    "        only_number_of_interest.append(cell_line)\n",
    "print(only_number_of_interest)"
   ],
   "metadata": {
    "collapsed": false,
    "pycharm": {
     "name": "#%%\n"
    }
   }
  },
  {
   "cell_type": "code",
   "execution_count": 121,
   "outputs": [],
   "source": [
    "df2_y = train_y_transpose.loc[:, only_number_of_interest]\n",
    "df2_y.head()\n",
    "df2_y.to_csv(\"data/only8_y.csv\")"
   ],
   "metadata": {
    "collapsed": false,
    "pycharm": {
     "name": "#%%\n"
    }
   }
  }
 ],
 "metadata": {
  "kernelspec": {
   "display_name": "Python 3",
   "language": "python",
   "name": "python3"
  },
  "language_info": {
   "codemirror_mode": {
    "name": "ipython",
    "version": 2
   },
   "file_extension": ".py",
   "mimetype": "text/x-python",
   "name": "python",
   "nbconvert_exporter": "python",
   "pygments_lexer": "ipython2",
   "version": "2.7.6"
  }
 },
 "nbformat": 4,
 "nbformat_minor": 0
}