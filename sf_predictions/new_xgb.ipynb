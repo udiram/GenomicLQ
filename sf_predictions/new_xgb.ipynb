{
 "cells": [
  {
   "cell_type": "code",
   "execution_count": 62,
   "outputs": [],
   "source": [
    "# Necessary imports\n",
    "import numpy as np\n",
    "import pandas as pd\n",
    "import xgboost as xg\n",
    "from sklearn.model_selection import train_test_split\n",
    "from sklearn.metrics import mean_squared_error as MSE\n"
   ],
   "metadata": {
    "collapsed": false,
    "pycharm": {
     "name": "#%%\n"
    }
   }
  },
  {
   "cell_type": "code",
   "execution_count": 63,
   "outputs": [
    {
     "data": {
      "text/plain": "                7105      8813     57147     55732      2268      3075  \\\ncell_line                                                                \nNCIH1568-2  5.626439  6.855242  2.185867  4.079805  0.084064  0.176323   \nSCC9-2      3.964399  5.718088  2.260026  3.451541  0.084064  0.782409   \nHCC1428-2   4.002703  5.870365  3.621759  3.861955  0.014355  0.485427   \nU2OS-2      5.098453  6.543496  2.117695  4.115200  0.014355  0.432959   \nLU99-2      3.665620  6.716717  2.100978  4.176323  0.000000  1.263034   \n\n                2519      2729      4800     90529  ...      8336     84311  \\\ncell_line                                           ...                       \nNCIH1568-2  6.824513  4.956521  3.766595  2.298658  ...  0.622930  5.373996   \nSCC9-2      6.039796  5.778734  4.903038  2.711495  ...  1.536053  5.042207   \nHCC1428-2   4.614121  5.286881  4.429616  3.442280  ...  3.033863  4.539159   \nU2OS-2      5.684258  4.847997  5.108524  2.189034  ...  0.176323  5.028569   \nLU99-2      6.124948  4.395063  5.070389  2.669027  ...  1.321928  6.613679   \n\n              126661     79447    283521     29122      9997    388963  \\\ncell_line                                                                \nNCIH1568-2  1.956057  5.482203  0.422233  0.176323  0.918386  1.778209   \nSCC9-2      2.344828  3.937344  0.000000  0.042644  2.475085  1.176323   \nHCC1428-2   1.970854  5.895303  0.622930  0.014355  0.918386  2.244887   \nU2OS-2      2.967169  4.995937  0.111031  0.042644  2.010780  1.925999   \nLU99-2      1.438293  4.349082  0.000000  0.111031  1.111031  1.632268   \n\n                6905        SF  \ncell_line                       \nNCIH1568-2  4.050502  0.607940  \nSCC9-2      4.174726  0.573035  \nHCC1428-2   5.555816  0.450188  \nU2OS-2      4.635754  0.526517  \nLU99-2      5.197315  0.625161  \n\n[5 rows x 15140 columns]",
      "text/html": "<div>\n<style scoped>\n    .dataframe tbody tr th:only-of-type {\n        vertical-align: middle;\n    }\n\n    .dataframe tbody tr th {\n        vertical-align: top;\n    }\n\n    .dataframe thead th {\n        text-align: right;\n    }\n</style>\n<table border=\"1\" class=\"dataframe\">\n  <thead>\n    <tr style=\"text-align: right;\">\n      <th></th>\n      <th>7105</th>\n      <th>8813</th>\n      <th>57147</th>\n      <th>55732</th>\n      <th>2268</th>\n      <th>3075</th>\n      <th>2519</th>\n      <th>2729</th>\n      <th>4800</th>\n      <th>90529</th>\n      <th>...</th>\n      <th>8336</th>\n      <th>84311</th>\n      <th>126661</th>\n      <th>79447</th>\n      <th>283521</th>\n      <th>29122</th>\n      <th>9997</th>\n      <th>388963</th>\n      <th>6905</th>\n      <th>SF</th>\n    </tr>\n    <tr>\n      <th>cell_line</th>\n      <th></th>\n      <th></th>\n      <th></th>\n      <th></th>\n      <th></th>\n      <th></th>\n      <th></th>\n      <th></th>\n      <th></th>\n      <th></th>\n      <th></th>\n      <th></th>\n      <th></th>\n      <th></th>\n      <th></th>\n      <th></th>\n      <th></th>\n      <th></th>\n      <th></th>\n      <th></th>\n      <th></th>\n    </tr>\n  </thead>\n  <tbody>\n    <tr>\n      <th>NCIH1568-2</th>\n      <td>5.626439</td>\n      <td>6.855242</td>\n      <td>2.185867</td>\n      <td>4.079805</td>\n      <td>0.084064</td>\n      <td>0.176323</td>\n      <td>6.824513</td>\n      <td>4.956521</td>\n      <td>3.766595</td>\n      <td>2.298658</td>\n      <td>...</td>\n      <td>0.622930</td>\n      <td>5.373996</td>\n      <td>1.956057</td>\n      <td>5.482203</td>\n      <td>0.422233</td>\n      <td>0.176323</td>\n      <td>0.918386</td>\n      <td>1.778209</td>\n      <td>4.050502</td>\n      <td>0.607940</td>\n    </tr>\n    <tr>\n      <th>SCC9-2</th>\n      <td>3.964399</td>\n      <td>5.718088</td>\n      <td>2.260026</td>\n      <td>3.451541</td>\n      <td>0.084064</td>\n      <td>0.782409</td>\n      <td>6.039796</td>\n      <td>5.778734</td>\n      <td>4.903038</td>\n      <td>2.711495</td>\n      <td>...</td>\n      <td>1.536053</td>\n      <td>5.042207</td>\n      <td>2.344828</td>\n      <td>3.937344</td>\n      <td>0.000000</td>\n      <td>0.042644</td>\n      <td>2.475085</td>\n      <td>1.176323</td>\n      <td>4.174726</td>\n      <td>0.573035</td>\n    </tr>\n    <tr>\n      <th>HCC1428-2</th>\n      <td>4.002703</td>\n      <td>5.870365</td>\n      <td>3.621759</td>\n      <td>3.861955</td>\n      <td>0.014355</td>\n      <td>0.485427</td>\n      <td>4.614121</td>\n      <td>5.286881</td>\n      <td>4.429616</td>\n      <td>3.442280</td>\n      <td>...</td>\n      <td>3.033863</td>\n      <td>4.539159</td>\n      <td>1.970854</td>\n      <td>5.895303</td>\n      <td>0.622930</td>\n      <td>0.014355</td>\n      <td>0.918386</td>\n      <td>2.244887</td>\n      <td>5.555816</td>\n      <td>0.450188</td>\n    </tr>\n    <tr>\n      <th>U2OS-2</th>\n      <td>5.098453</td>\n      <td>6.543496</td>\n      <td>2.117695</td>\n      <td>4.115200</td>\n      <td>0.014355</td>\n      <td>0.432959</td>\n      <td>5.684258</td>\n      <td>4.847997</td>\n      <td>5.108524</td>\n      <td>2.189034</td>\n      <td>...</td>\n      <td>0.176323</td>\n      <td>5.028569</td>\n      <td>2.967169</td>\n      <td>4.995937</td>\n      <td>0.111031</td>\n      <td>0.042644</td>\n      <td>2.010780</td>\n      <td>1.925999</td>\n      <td>4.635754</td>\n      <td>0.526517</td>\n    </tr>\n    <tr>\n      <th>LU99-2</th>\n      <td>3.665620</td>\n      <td>6.716717</td>\n      <td>2.100978</td>\n      <td>4.176323</td>\n      <td>0.000000</td>\n      <td>1.263034</td>\n      <td>6.124948</td>\n      <td>4.395063</td>\n      <td>5.070389</td>\n      <td>2.669027</td>\n      <td>...</td>\n      <td>1.321928</td>\n      <td>6.613679</td>\n      <td>1.438293</td>\n      <td>4.349082</td>\n      <td>0.000000</td>\n      <td>0.111031</td>\n      <td>1.111031</td>\n      <td>1.632268</td>\n      <td>5.197315</td>\n      <td>0.625161</td>\n    </tr>\n  </tbody>\n</table>\n<p>5 rows × 15140 columns</p>\n</div>"
     },
     "metadata": {},
     "output_type": "display_data"
    }
   ],
   "source": [
    "# Load the data\n",
    "df = pd.read_csv('data/only2_big_with_sf.csv')\n",
    "# df = df.transpose()\n",
    "df.set_index('cell_line', inplace=True)\n",
    "# df = df.transpose()\n",
    "display(df.head())"
   ],
   "metadata": {
    "collapsed": false,
    "pycharm": {
     "name": "#%%\n"
    }
   }
  },
  {
   "cell_type": "code",
   "execution_count": 64,
   "outputs": [],
   "source": [
    "# from sklearn.preprocessing import MinMaxScaler\n",
    "# scaler = MinMaxScaler()\n",
    "# df_scaled_x = scaler.fit_transform(df[['653140', '30010', '90580', '4837', '1002', '89887', '54863', '57655', '7277', '199745', '6664', '27201', '64065', '10498', '51151', '4086', '57228', '9427', '257144', '85236', '1522', '2555', '129807', '63910', '3487', '126299', '10121', '11098', '136', '342918', '57787', '85416', '83439', '9507', '112770', '90861', '84627', '51115', '225', '3764', '3077', '23127', '51764', '120114', '1107', '51477', '799', '23170', '7755', '29941', '283869', '487', '84561', '4171', '53831', '192286', '84891', '79705', '2322', '5300', '91369', '1870', '440193', '1687', '57834', '83638', '54511', '22871', '83461', '84881', '64708', '160851', '81608', '1591', '132671', '126661', '57168', '90075', '960', '5609', '7329', '79669', '29855', '115761', '200916', '120379', '7049', '10054', '83983', '25959', '1893', '4858', '10135', '9411', '59335', '3425', '301', '22924', '23295', '23389', '54507', '57478', '9783', '547', '90853', '25822', '26135', '6695', '59271', '2850', '153657', '23259', '79134', '6383', '28316', '23316', '26353', '11264', '4233', '5653', '65993', '4986', '29126', '151887', '29998', '63035', '54926', '374875', '57414', '29948', '54014', '6136', '84443', '23181', '57689', '55074', '79841', '5340', '286205', '54921', '2876', '84662', '57451', '150684', '79690', '221336', '245972', '65249', '10672', '196', '90378', '9869', '79805', '389', '57216', '170261', '7262', '27324', '8645', '387885', '29105', '199731', '79664', '2124', '653857', '5207', '6619', '51773', '90416', '91801', '8288', '65217', '55486.1', '116412', '55138', '50839', '51222', '157313', '10189', '63897', '29965', '2256', '147138', '121340', '84197', '27239', '8228', '27286', '10397', '64168', '80312', '163126', '84206', '4771', '26065', '55166', '55214', '57472', '58480', '170685', '404550', '171484', '80790', '222553', '90121', '138162', '84275', '10343', '64241', '55857', '10023', '23348', '342977', '23354', '793', '339488', '8894', '57799', '4199', '10951', '324', '57007', '283464', '3104', '57585', '2512', '23331', '9873', '79169', '7846', '93550', '284358', '80164', '6925', '84986', '55766', '6689', '8277', '374739', '64073', '253980', '3029', '23179', '57158', '90826', '3575', '5734', '146923', '1608', '3646', '1337', '8165', '51496', '57552', '64859', '165', '2152', '91107', '84332', '134353', '2902', '885', '4257', '246175', '5451', '26022', '8829', '84269', '9169', '10413', '56034', '79813', '7045', '9200', '3222', '6330', '51364', '55623', '54665', '3241', '58512', '860', '92797', '79948', '84641', '284', '57465', '374946', '54704', '283248', '126295', '9242', '8347', '6899', '54708']])\n",
    "# y_non_scaled = df['SF']"
   ],
   "metadata": {
    "collapsed": false,
    "pycharm": {
     "name": "#%%\n"
    }
   }
  },
  {
   "cell_type": "code",
   "execution_count": 65,
   "outputs": [
    {
     "data": {
      "text/plain": "cell_line\nNCIH1568-2    0.607940\nSCC9-2        0.573035\nHCC1428-2     0.450188\nU2OS-2        0.526517\nLU99-2        0.625161\nName: SF, dtype: float64"
     },
     "metadata": {},
     "output_type": "display_data"
    }
   ],
   "source": [
    "# df_scaled_x = pd.DataFrame(df_scaled_x, columns=['653140', '30010', '90580', '4837', '1002', '89887', '54863', '57655', '7277', '199745', '6664', '27201', '64065', '10498', '51151', '4086', '57228', '9427', '257144', '85236', '1522', '2555', '129807', '63910', '3487', '126299', '10121', '11098', '136', '342918', '57787', '85416', '83439', '9507', '112770', '90861', '84627', '51115', '225', '3764', '3077', '23127', '51764', '120114', '1107', '51477', '799', '23170', '7755', '29941', '283869', '487', '84561', '4171', '53831', '192286', '84891', '79705', '2322', '5300', '91369', '1870', '440193', '1687', '57834', '83638', '54511', '22871', '83461', '84881', '64708', '160851', '81608', '1591', '132671', '126661', '57168', '90075', '960', '5609', '7329', '79669', '29855', '115761', '200916', '120379', '7049', '10054', '83983', '25959', '1893', '4858', '10135', '9411', '59335', '3425', '301', '22924', '23295', '23389', '54507', '57478', '9783', '547', '90853', '25822', '26135', '6695', '59271', '2850', '153657', '23259', '79134', '6383', '28316', '23316', '26353', '11264', '4233', '5653', '65993', '4986', '29126', '151887', '29998', '63035', '54926', '374875', '57414', '29948', '54014', '6136', '84443', '23181', '57689', '55074', '79841', '5340', '286205', '54921', '2876', '84662', '57451', '150684', '79690', '221336', '245972', '65249', '10672', '196', '90378', '9869', '79805', '389', '57216', '170261', '7262', '27324', '8645', '387885', '29105', '199731', '79664', '2124', '653857', '5207', '6619', '51773', '90416', '91801', '8288', '65217', '55486.1', '116412', '55138', '50839', '51222', '157313', '10189', '63897', '29965', '2256', '147138', '121340', '84197', '27239', '8228', '27286', '10397', '64168', '80312', '163126', '84206', '4771', '26065', '55166', '55214', '57472', '58480', '170685', '404550', '171484', '80790', '222553', '90121', '138162', '84275', '10343', '64241', '55857', '10023', '23348', '342977', '23354', '793', '339488', '8894', '57799', '4199', '10951', '324', '57007', '283464', '3104', '57585', '2512', '23331', '9873', '79169', '7846', '93550', '284358', '80164', '6925', '84986', '55766', '6689', '8277', '374739', '64073', '253980', '3029', '23179', '57158', '90826', '3575', '5734', '146923', '1608', '3646', '1337', '8165', '51496', '57552', '64859', '165', '2152', '91107', '84332', '134353', '2902', '885', '4257', '246175', '5451', '26022', '8829', '84269', '9169', '10413', '56034', '79813', '7045', '9200', '3222', '6330', '51364', '55623', '54665', '3241', '58512', '860', '92797', '79948', '84641', '284', '57465', '374946', '54704', '283248', '126295', '9242', '8347', '6899', '54708'])\n",
    "display(y_non_scaled.head())"
   ],
   "metadata": {
    "collapsed": false,
    "pycharm": {
     "name": "#%%\n"
    }
   }
  },
  {
   "cell_type": "code",
   "execution_count": 66,
   "outputs": [
    {
     "data": {
      "text/plain": "              653140     30010     90580      4837      1002     89887  \\\ncell_line                                                                \nNCIH1568-2  0.000000  0.014355  3.565597  6.705978  0.815575  2.432959   \nSCC9-2      0.070389  0.000000  3.504620  7.943921  2.392317  1.618239   \nHCC1428-2   0.070389  0.097611  3.854993  0.298658  0.189034  2.636915   \nU2OS-2      0.000000  0.097611  3.539779  7.319130  3.838952  1.906891   \nLU99-2      0.111031  0.000000  3.582556  1.744161  3.204767  2.972693   \n\n               54863     57655      7277    199745  ...       284     57465  \\\ncell_line                                           ...                       \nNCIH1568-2  2.746313  4.860466  6.981967  1.996389  ...  2.419539  2.427606   \nSCC9-2      1.378512  4.681449  7.965092  1.646163  ...  3.976364  2.419539   \nHCC1428-2   1.687061  4.897724  5.009437  3.317594  ...  0.863938  3.640390   \nU2OS-2      3.778209  5.103498  4.709842  2.831877  ...  0.124328  3.708187   \nLU99-2      5.134632  5.094658  2.687061  0.895303  ...  0.250962  2.620586   \n\n              374946     54704    283248    126295      9242      8347  \\\ncell_line                                                                \nNCIH1568-2  0.014355  2.956057  0.464668  2.157044  0.014355  2.032101   \nSCC9-2      0.000000  4.510329  0.565597  2.266037  2.742006  3.465974   \nHCC1428-2   0.137504  3.828835  2.632268  2.543496  0.014355  5.305241   \nU2OS-2      1.321928  3.758090  2.195348  1.669027  0.286881  6.401733   \nLU99-2      0.014355  4.500802  0.765535  1.748461  0.111031  1.843984   \n\n                6899     54708  \ncell_line                       \nNCIH1568-2  0.454176  4.500802  \nSCC9-2      3.204767  4.682011  \nHCC1428-2   3.012569  5.545968  \nU2OS-2      0.111031  4.827311  \nLU99-2      0.163499  4.993674  \n\n[5 rows x 295 columns]",
      "text/html": "<div>\n<style scoped>\n    .dataframe tbody tr th:only-of-type {\n        vertical-align: middle;\n    }\n\n    .dataframe tbody tr th {\n        vertical-align: top;\n    }\n\n    .dataframe thead th {\n        text-align: right;\n    }\n</style>\n<table border=\"1\" class=\"dataframe\">\n  <thead>\n    <tr style=\"text-align: right;\">\n      <th></th>\n      <th>653140</th>\n      <th>30010</th>\n      <th>90580</th>\n      <th>4837</th>\n      <th>1002</th>\n      <th>89887</th>\n      <th>54863</th>\n      <th>57655</th>\n      <th>7277</th>\n      <th>199745</th>\n      <th>...</th>\n      <th>284</th>\n      <th>57465</th>\n      <th>374946</th>\n      <th>54704</th>\n      <th>283248</th>\n      <th>126295</th>\n      <th>9242</th>\n      <th>8347</th>\n      <th>6899</th>\n      <th>54708</th>\n    </tr>\n    <tr>\n      <th>cell_line</th>\n      <th></th>\n      <th></th>\n      <th></th>\n      <th></th>\n      <th></th>\n      <th></th>\n      <th></th>\n      <th></th>\n      <th></th>\n      <th></th>\n      <th></th>\n      <th></th>\n      <th></th>\n      <th></th>\n      <th></th>\n      <th></th>\n      <th></th>\n      <th></th>\n      <th></th>\n      <th></th>\n      <th></th>\n    </tr>\n  </thead>\n  <tbody>\n    <tr>\n      <th>NCIH1568-2</th>\n      <td>0.000000</td>\n      <td>0.014355</td>\n      <td>3.565597</td>\n      <td>6.705978</td>\n      <td>0.815575</td>\n      <td>2.432959</td>\n      <td>2.746313</td>\n      <td>4.860466</td>\n      <td>6.981967</td>\n      <td>1.996389</td>\n      <td>...</td>\n      <td>2.419539</td>\n      <td>2.427606</td>\n      <td>0.014355</td>\n      <td>2.956057</td>\n      <td>0.464668</td>\n      <td>2.157044</td>\n      <td>0.014355</td>\n      <td>2.032101</td>\n      <td>0.454176</td>\n      <td>4.500802</td>\n    </tr>\n    <tr>\n      <th>SCC9-2</th>\n      <td>0.070389</td>\n      <td>0.000000</td>\n      <td>3.504620</td>\n      <td>7.943921</td>\n      <td>2.392317</td>\n      <td>1.618239</td>\n      <td>1.378512</td>\n      <td>4.681449</td>\n      <td>7.965092</td>\n      <td>1.646163</td>\n      <td>...</td>\n      <td>3.976364</td>\n      <td>2.419539</td>\n      <td>0.000000</td>\n      <td>4.510329</td>\n      <td>0.565597</td>\n      <td>2.266037</td>\n      <td>2.742006</td>\n      <td>3.465974</td>\n      <td>3.204767</td>\n      <td>4.682011</td>\n    </tr>\n    <tr>\n      <th>HCC1428-2</th>\n      <td>0.070389</td>\n      <td>0.097611</td>\n      <td>3.854993</td>\n      <td>0.298658</td>\n      <td>0.189034</td>\n      <td>2.636915</td>\n      <td>1.687061</td>\n      <td>4.897724</td>\n      <td>5.009437</td>\n      <td>3.317594</td>\n      <td>...</td>\n      <td>0.863938</td>\n      <td>3.640390</td>\n      <td>0.137504</td>\n      <td>3.828835</td>\n      <td>2.632268</td>\n      <td>2.543496</td>\n      <td>0.014355</td>\n      <td>5.305241</td>\n      <td>3.012569</td>\n      <td>5.545968</td>\n    </tr>\n    <tr>\n      <th>U2OS-2</th>\n      <td>0.000000</td>\n      <td>0.097611</td>\n      <td>3.539779</td>\n      <td>7.319130</td>\n      <td>3.838952</td>\n      <td>1.906891</td>\n      <td>3.778209</td>\n      <td>5.103498</td>\n      <td>4.709842</td>\n      <td>2.831877</td>\n      <td>...</td>\n      <td>0.124328</td>\n      <td>3.708187</td>\n      <td>1.321928</td>\n      <td>3.758090</td>\n      <td>2.195348</td>\n      <td>1.669027</td>\n      <td>0.286881</td>\n      <td>6.401733</td>\n      <td>0.111031</td>\n      <td>4.827311</td>\n    </tr>\n    <tr>\n      <th>LU99-2</th>\n      <td>0.111031</td>\n      <td>0.000000</td>\n      <td>3.582556</td>\n      <td>1.744161</td>\n      <td>3.204767</td>\n      <td>2.972693</td>\n      <td>5.134632</td>\n      <td>5.094658</td>\n      <td>2.687061</td>\n      <td>0.895303</td>\n      <td>...</td>\n      <td>0.250962</td>\n      <td>2.620586</td>\n      <td>0.014355</td>\n      <td>4.500802</td>\n      <td>0.765535</td>\n      <td>1.748461</td>\n      <td>0.111031</td>\n      <td>1.843984</td>\n      <td>0.163499</td>\n      <td>4.993674</td>\n    </tr>\n  </tbody>\n</table>\n<p>5 rows × 295 columns</p>\n</div>"
     },
     "execution_count": 66,
     "metadata": {},
     "output_type": "execute_result"
    }
   ],
   "source": [
    "X, y = df[['653140', '30010', '90580', '4837', '1002', '89887', '54863', '57655', '7277', '199745', '6664', '27201', '64065', '10498', '51151', '4086', '57228', '9427', '257144', '85236', '1522', '2555', '129807', '63910', '3487', '126299', '10121', '11098', '136', '342918', '57787', '85416', '83439', '9507', '112770', '90861', '84627', '51115', '225', '3764', '3077', '23127', '51764', '120114', '1107', '51477', '799', '23170', '7755', '29941', '283869', '487', '84561', '4171', '53831', '192286', '84891', '79705', '2322', '5300', '91369', '1870', '440193', '1687', '57834', '83638', '54511', '22871', '83461', '84881', '64708', '160851', '81608', '1591', '132671', '126661', '57168', '90075', '960', '5609', '7329', '79669', '29855', '115761', '200916', '120379', '7049', '10054', '83983', '25959', '1893', '4858', '10135', '9411', '59335', '3425', '301', '22924', '23295', '23389', '54507', '57478', '9783', '547', '90853', '25822', '26135', '6695', '59271', '2850', '153657', '23259', '79134', '6383', '28316', '23316', '26353', '11264', '4233', '5653', '65993', '4986', '29126', '151887', '29998', '63035', '54926', '374875', '57414', '29948', '54014', '6136', '84443', '23181', '57689', '55074', '79841', '5340', '286205', '54921', '2876', '84662', '57451', '150684', '79690', '221336', '245972', '65249', '10672', '196', '90378', '9869', '79805', '389', '57216', '170261', '7262', '27324', '8645', '387885', '29105', '199731', '79664', '2124', '653857', '5207', '6619', '51773', '90416', '91801', '8288', '65217', '55486.1', '116412', '55138', '50839', '51222', '157313', '10189', '63897', '29965', '2256', '147138', '121340', '84197', '27239', '8228', '27286', '10397', '64168', '80312', '163126', '84206', '4771', '26065', '55166', '55214', '57472', '58480', '170685', '404550', '171484', '80790', '222553', '90121', '138162', '84275', '10343', '64241', '55857', '10023', '23348', '342977', '23354', '793', '339488', '8894', '57799', '4199', '10951', '324', '57007', '283464', '3104', '57585', '2512', '23331', '9873', '79169', '7846', '93550', '284358', '80164', '6925', '84986', '55766', '6689', '8277', '374739', '64073', '253980', '3029', '23179', '57158', '90826', '3575', '5734', '146923', '1608', '3646', '1337', '8165', '51496', '57552', '64859', '165', '2152', '91107', '84332', '134353', '2902', '885', '4257', '246175', '5451', '26022', '8829', '84269', '9169', '10413', '56034', '79813', '7045', '9200', '3222', '6330', '51364', '55623', '54665', '3241', '58512', '860', '92797', '79948', '84641', '284', '57465', '374946', '54704', '283248', '126295', '9242', '8347', '6899', '54708']], df['SF']\n",
    "X.head()"
   ],
   "metadata": {
    "collapsed": false,
    "pycharm": {
     "name": "#%%\n"
    }
   }
  },
  {
   "cell_type": "code",
   "execution_count": 67,
   "outputs": [],
   "source": [
    "# Splitting\n",
    "train_X, test_X, train_y, test_y = train_test_split(X, y,\n",
    "                      test_size = 0.1, random_state = 123)\n"
   ],
   "metadata": {
    "collapsed": false,
    "pycharm": {
     "name": "#%%\n"
    }
   }
  },
  {
   "cell_type": "code",
   "execution_count": 68,
   "outputs": [],
   "source": [
    "# Train and test set are converted to DMatrix objects,\n",
    "# as it is required by learning API.\n",
    "train_dmatrix = xg.DMatrix(data = train_X, label = train_y)\n",
    "test_dmatrix = xg.DMatrix(data = test_X, label = test_y)\n"
   ],
   "metadata": {
    "collapsed": false,
    "pycharm": {
     "name": "#%%\n"
    }
   }
  },
  {
   "cell_type": "code",
   "execution_count": 69,
   "outputs": [],
   "source": [
    "# Parameter dictionary specifying base learner\n",
    "param = {'colsample_bytree': 0.3, 'learning_rate': 0.05, 'max_depth': 5, 'n_estimators': 100}\n"
   ],
   "metadata": {
    "collapsed": false,
    "pycharm": {
     "name": "#%%\n"
    }
   }
  },
  {
   "cell_type": "code",
   "execution_count": 70,
   "outputs": [
    {
     "name": "stdout",
     "output_type": "stream",
     "text": [
      "[14:50:32] WARNING: C:/Users/Administrator/workspace/xgboost-win64_release_1.6.0/src/learner.cc:627: \n",
      "Parameters: { \"n_estimators\" } might not be used.\n",
      "\n",
      "  This could be a false alarm, with some parameters getting used by language bindings but\n",
      "  then being mistakenly passed down to XGBoost core, or some parameter actually being used\n",
      "  but getting flagged wrongly here. Please open an issue if you find any such cases.\n",
      "\n",
      "\n",
      "CPU times: total: 266 ms\n",
      "Wall time: 15.6 ms\n"
     ]
    }
   ],
   "source": [
    "%%time\n",
    "xgb_r = xg.train(params = param, dtrain = train_dmatrix, num_boost_round = 10)\n",
    "pred = xgb_r.predict(test_dmatrix)\n"
   ],
   "metadata": {
    "collapsed": false,
    "pycharm": {
     "name": "#%%\n"
    }
   }
  },
  {
   "cell_type": "code",
   "execution_count": 71,
   "outputs": [
    {
     "name": "stdout",
     "output_type": "stream",
     "text": [
      "RMSE :  0.196472\n"
     ]
    }
   ],
   "source": [
    "# RMSE Computation\n",
    "rmse = np.sqrt(MSE(test_y, pred))\n",
    "print(\"RMSE : % f\" %(rmse))"
   ],
   "metadata": {
    "collapsed": false,
    "pycharm": {
     "name": "#%%\n"
    }
   }
  },
  {
   "cell_type": "code",
   "execution_count": 72,
   "outputs": [
    {
     "data": {
      "text/plain": "<Figure size 432x288 with 1 Axes>",
      "image/png": "[encoded data removed]"
     },
     "metadata": {
      "needs_background": "light"
     },
     "output_type": "display_data"
    }
   ],
   "source": [
    "# Plotting the results\n",
    "import matplotlib.pyplot as plt\n",
    "plt.plot(test_y, pred, 'o')\n",
    "plt.xlabel('Actual')\n",
    "plt.ylabel('Predicted')\n",
    "plt.title('Predicted vs Actual')\n",
    "plt.show()"
   ],
   "metadata": {
    "collapsed": false,
    "pycharm": {
     "name": "#%%\n"
    }
   }
  },
  {
   "cell_type": "code",
   "execution_count": 73,
   "outputs": [
    {
     "name": "stdout",
     "output_type": "stream",
     "text": [
      "Slope: 0.06602306690078256\n",
      "Intercept: 0.5037656796270665\n",
      "R-Squared: 0.17011816572257393\n",
      "P-Value: 0.0021477868554252927\n",
      "Standard Error: 0.020419419416317013\n"
     ]
    },
    {
     "data": {
      "text/plain": "<Figure size 432x288 with 1 Axes>",
      "image/png": "[encoded data removed]"
     },
     "metadata": {
      "needs_background": "light"
     },
     "output_type": "display_data"
    }
   ],
   "source": [
    "import scipy.stats as stats\n",
    "import matplotlib.pyplot as plt\n",
    "import numpy as np\n",
    "# print(y_test.tolist())\n",
    "# print(y_pred_list)\n",
    "plt.plot(test_y.tolist(), pred, 'o')\n",
    "\n",
    "a, b = np.polyfit(test_y.tolist(), pred, 1)\n",
    "plt.plot(test_y, a*test_y+b, color='steelblue', linestyle='--', linewidth=2)\n",
    "slope, intercept, r_value, p_value, std_err = stats.linregress(test_y, pred)\n",
    "print(\"Slope:\", slope)\n",
    "print(\"Intercept:\", intercept)\n",
    "print(\"R-Squared:\", r_value**2)\n",
    "print(\"P-Value:\", p_value)\n",
    "print(\"Standard Error:\", std_err)\n",
    "plt.xlabel('Test Labels')\n",
    "plt.ylabel('Predictions')\n",
    "plt.title('Test Labels vs. Predictions')\n",
    "plt.show()"
   ],
   "metadata": {
    "collapsed": false,
    "pycharm": {
     "name": "#%%\n"
    }
   }
  },
  {
   "cell_type": "code",
   "execution_count": 73,
   "outputs": [],
   "source": [],
   "metadata": {
    "collapsed": false,
    "pycharm": {
     "name": "#%%\n"
    }
   }
  }
 ],
 "metadata": {
  "kernelspec": {
   "display_name": "Python 3",
   "language": "python",
   "name": "python3"
  },
  "language_info": {
   "codemirror_mode": {
    "name": "ipython",
    "version": 2
   },
   "file_extension": ".py",
   "mimetype": "text/x-python",
   "name": "python",
   "nbconvert_exporter": "python",
   "pygments_lexer": "ipython2",
   "version": "2.7.6"
  }
 },
 "nbformat": 4,
 "nbformat_minor": 0
}