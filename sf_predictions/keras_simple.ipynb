{
 "cells": [
  {
   "cell_type": "code",
   "execution_count": 2,
   "outputs": [
    {
     "data": {
      "text/plain": "Ellipsis"
     },
     "execution_count": 2,
     "metadata": {},
     "output_type": "execute_result"
    }
   ],
   "source": [
    "import pandas\n",
    "from keras.models import Sequential\n",
    "from keras.layers import Dense\n",
    "from keras.wrappers.scikit_learn import KerasRegressor\n",
    "from sklearn.model_selection import cross_val_score\n",
    "from sklearn.model_selection import KFold\n",
    "from sklearn.preprocessing import StandardScaler\n",
    "from sklearn.pipeline import Pipeline\n",
    "import pandas as pd\n",
    "..."
   ],
   "metadata": {
    "collapsed": false,
    "pycharm": {
     "name": "#%%\n"
    }
   }
  },
  {
   "cell_type": "code",
   "execution_count": 3,
   "outputs": [
    {
     "data": {
      "text/plain": "                7105      8813     57147     55732      2268      3075  \\\ncell_line                                                                \nNCIH1568-2  5.626439  6.855242  2.185867  4.079805  0.084064  0.176323   \nSCC9-2      3.964399  5.718088  2.260026  3.451541  0.084064  0.782409   \nHCC1428-2   4.002703  5.870365  3.621759  3.861955  0.014355  0.485427   \nU2OS-2      5.098453  6.543496  2.117695  4.115200  0.014355  0.432959   \nLU99-2      3.665620  6.716717  2.100978  4.176323  0.000000  1.263034   \n\n                2519      2729      4800     90529  ...      8336     84311  \\\ncell_line                                           ...                       \nNCIH1568-2  6.824513  4.956521  3.766595  2.298658  ...  0.622930  5.373996   \nSCC9-2      6.039796  5.778734  4.903038  2.711495  ...  1.536053  5.042207   \nHCC1428-2   4.614121  5.286881  4.429616  3.442280  ...  3.033863  4.539159   \nU2OS-2      5.684258  4.847997  5.108524  2.189034  ...  0.176323  5.028569   \nLU99-2      6.124948  4.395063  5.070389  2.669027  ...  1.321928  6.613679   \n\n              126661     79447    283521     29122      9997    388963  \\\ncell_line                                                                \nNCIH1568-2  1.956057  5.482203  0.422233  0.176323  0.918386  1.778209   \nSCC9-2      2.344828  3.937344  0.000000  0.042644  2.475085  1.176323   \nHCC1428-2   1.970854  5.895303  0.622930  0.014355  0.918386  2.244887   \nU2OS-2      2.967169  4.995937  0.111031  0.042644  2.010780  1.925999   \nLU99-2      1.438293  4.349082  0.000000  0.111031  1.111031  1.632268   \n\n                6905        SF  \ncell_line                       \nNCIH1568-2  4.050502  0.607940  \nSCC9-2      4.174726  0.573035  \nHCC1428-2   5.555816  0.450188  \nU2OS-2      4.635754  0.526517  \nLU99-2      5.197315  0.625161  \n\n[5 rows x 15140 columns]",
      "text/html": "<div>\n<style scoped>\n    .dataframe tbody tr th:only-of-type {\n        vertical-align: middle;\n    }\n\n    .dataframe tbody tr th {\n        vertical-align: top;\n    }\n\n    .dataframe thead th {\n        text-align: right;\n    }\n</style>\n<table border=\"1\" class=\"dataframe\">\n  <thead>\n    <tr style=\"text-align: right;\">\n      <th></th>\n      <th>7105</th>\n      <th>8813</th>\n      <th>57147</th>\n      <th>55732</th>\n      <th>2268</th>\n      <th>3075</th>\n      <th>2519</th>\n      <th>2729</th>\n      <th>4800</th>\n      <th>90529</th>\n      <th>...</th>\n      <th>8336</th>\n      <th>84311</th>\n      <th>126661</th>\n      <th>79447</th>\n      <th>283521</th>\n      <th>29122</th>\n      <th>9997</th>\n      <th>388963</th>\n      <th>6905</th>\n      <th>SF</th>\n    </tr>\n    <tr>\n      <th>cell_line</th>\n      <th></th>\n      <th></th>\n      <th></th>\n      <th></th>\n      <th></th>\n      <th></th>\n      <th></th>\n      <th></th>\n      <th></th>\n      <th></th>\n      <th></th>\n      <th></th>\n      <th></th>\n      <th></th>\n      <th></th>\n      <th></th>\n      <th></th>\n      <th></th>\n      <th></th>\n      <th></th>\n      <th></th>\n    </tr>\n  </thead>\n  <tbody>\n    <tr>\n      <th>NCIH1568-2</th>\n      <td>5.626439</td>\n      <td>6.855242</td>\n      <td>2.185867</td>\n      <td>4.079805</td>\n      <td>0.084064</td>\n      <td>0.176323</td>\n      <td>6.824513</td>\n      <td>4.956521</td>\n      <td>3.766595</td>\n      <td>2.298658</td>\n      <td>...</td>\n      <td>0.622930</td>\n      <td>5.373996</td>\n      <td>1.956057</td>\n      <td>5.482203</td>\n      <td>0.422233</td>\n      <td>0.176323</td>\n      <td>0.918386</td>\n      <td>1.778209</td>\n      <td>4.050502</td>\n      <td>0.607940</td>\n    </tr>\n    <tr>\n      <th>SCC9-2</th>\n      <td>3.964399</td>\n      <td>5.718088</td>\n      <td>2.260026</td>\n      <td>3.451541</td>\n      <td>0.084064</td>\n      <td>0.782409</td>\n      <td>6.039796</td>\n      <td>5.778734</td>\n      <td>4.903038</td>\n      <td>2.711495</td>\n      <td>...</td>\n      <td>1.536053</td>\n      <td>5.042207</td>\n      <td>2.344828</td>\n      <td>3.937344</td>\n      <td>0.000000</td>\n      <td>0.042644</td>\n      <td>2.475085</td>\n      <td>1.176323</td>\n      <td>4.174726</td>\n      <td>0.573035</td>\n    </tr>\n    <tr>\n      <th>HCC1428-2</th>\n      <td>4.002703</td>\n      <td>5.870365</td>\n      <td>3.621759</td>\n      <td>3.861955</td>\n      <td>0.014355</td>\n      <td>0.485427</td>\n      <td>4.614121</td>\n      <td>5.286881</td>\n      <td>4.429616</td>\n      <td>3.442280</td>\n      <td>...</td>\n      <td>3.033863</td>\n      <td>4.539159</td>\n      <td>1.970854</td>\n      <td>5.895303</td>\n      <td>0.622930</td>\n      <td>0.014355</td>\n      <td>0.918386</td>\n      <td>2.244887</td>\n      <td>5.555816</td>\n      <td>0.450188</td>\n    </tr>\n    <tr>\n      <th>U2OS-2</th>\n      <td>5.098453</td>\n      <td>6.543496</td>\n      <td>2.117695</td>\n      <td>4.115200</td>\n      <td>0.014355</td>\n      <td>0.432959</td>\n      <td>5.684258</td>\n      <td>4.847997</td>\n      <td>5.108524</td>\n      <td>2.189034</td>\n      <td>...</td>\n      <td>0.176323</td>\n      <td>5.028569</td>\n      <td>2.967169</td>\n      <td>4.995937</td>\n      <td>0.111031</td>\n      <td>0.042644</td>\n      <td>2.010780</td>\n      <td>1.925999</td>\n      <td>4.635754</td>\n      <td>0.526517</td>\n    </tr>\n    <tr>\n      <th>LU99-2</th>\n      <td>3.665620</td>\n      <td>6.716717</td>\n      <td>2.100978</td>\n      <td>4.176323</td>\n      <td>0.000000</td>\n      <td>1.263034</td>\n      <td>6.124948</td>\n      <td>4.395063</td>\n      <td>5.070389</td>\n      <td>2.669027</td>\n      <td>...</td>\n      <td>1.321928</td>\n      <td>6.613679</td>\n      <td>1.438293</td>\n      <td>4.349082</td>\n      <td>0.000000</td>\n      <td>0.111031</td>\n      <td>1.111031</td>\n      <td>1.632268</td>\n      <td>5.197315</td>\n      <td>0.625161</td>\n    </tr>\n  </tbody>\n</table>\n<p>5 rows × 15140 columns</p>\n</div>"
     },
     "execution_count": 3,
     "metadata": {},
     "output_type": "execute_result"
    }
   ],
   "source": [
    "dataset = pd.read_csv('data/only2_big_with_sf.csv')\n",
    "dataset.set_index('cell_line', inplace=True)\n",
    "dataset.head()"
   ],
   "metadata": {
    "collapsed": false,
    "pycharm": {
     "name": "#%%\n"
    }
   }
  },
  {
   "cell_type": "code",
   "execution_count": 37,
   "outputs": [
    {
     "data": {
      "text/plain": "(472, 15140)"
     },
     "metadata": {},
     "output_type": "display_data"
    },
    {
     "data": {
      "text/plain": "(53, 15140)"
     },
     "metadata": {},
     "output_type": "display_data"
    }
   ],
   "source": [
    "train_dataset = dataset.sample(frac=0.9, random_state=0)\n",
    "test_dataset = dataset.drop(train_dataset.index)\n",
    "display(train_dataset.shape)\n",
    "display(test_dataset.shape)"
   ],
   "metadata": {
    "collapsed": false,
    "pycharm": {
     "name": "#%%\n"
    }
   }
  },
  {
   "cell_type": "code",
   "execution_count": 38,
   "outputs": [
    {
     "data": {
      "text/plain": "                7105      8813     57147     55732      2268      3075  \\\ncell_line                                                                \nHUPT4-2     5.239169  6.868884  1.941106  2.883621  0.042644  3.612352   \nOVTOKO-2    4.779785  6.009661  1.286881  2.833902  0.014355  0.443607   \nNCIH2405-2  4.615299  6.637060  2.289834  3.370164  0.070389  2.516015   \nNCIH508-2   5.509696  6.197708  2.313246  2.169925  0.028569  0.056584   \nG402-2      3.502076  6.103498  2.531069  3.269033  0.000000  0.704872   \n\n                2519      2729      4800     90529  ...      8336     84311  \\\ncell_line                                           ...                       \nHUPT4-2     6.034084  4.738768  3.223423  2.763412  ...  1.448901  5.836682   \nOVTOKO-2    6.091488  4.277241  3.211012  0.042644  ...  0.584963  5.258519   \nNCIH2405-2  5.957218  6.305059  4.483493  2.839960  ...  1.695994  5.763943   \nNCIH508-2   5.911931  5.073820  3.666757  1.989139  ...  0.659925  5.916954   \nG402-2      3.745237  3.224966  4.690417  2.739848  ...  1.117695  5.705978   \n\n              126661     79447    283521     29122      9997    388963  \\\ncell_line                                                                \nHUPT4-2     1.056584  4.478972  0.000000  0.000000  1.859970  0.464668   \nOVTOKO-2    0.400538  4.659925  0.000000  0.189034  1.560715  1.807355   \nNCIH2405-2  2.160275  4.914565  0.111031  0.150560  1.321928  2.829850   \nNCIH508-2   1.111031  3.897240  0.084064  0.000000  1.000000  1.941106   \nG402-2      1.709291  4.469235  0.014355  0.000000  1.700440  2.386811   \n\n                6905        SF  \ncell_line                       \nHUPT4-2     3.266037  0.624046  \nOVTOKO-2    5.482203  0.636504  \nNCIH2405-2  5.126395  0.596301  \nNCIH508-2   3.939227  0.469445  \nG402-2      4.929791  0.129347  \n\n[5 rows x 15140 columns]",
      "text/html": "<div>\n<style scoped>\n    .dataframe tbody tr th:only-of-type {\n        vertical-align: middle;\n    }\n\n    .dataframe tbody tr th {\n        vertical-align: top;\n    }\n\n    .dataframe thead th {\n        text-align: right;\n    }\n</style>\n<table border=\"1\" class=\"dataframe\">\n  <thead>\n    <tr style=\"text-align: right;\">\n      <th></th>\n      <th>7105</th>\n      <th>8813</th>\n      <th>57147</th>\n      <th>55732</th>\n      <th>2268</th>\n      <th>3075</th>\n      <th>2519</th>\n      <th>2729</th>\n      <th>4800</th>\n      <th>90529</th>\n      <th>...</th>\n      <th>8336</th>\n      <th>84311</th>\n      <th>126661</th>\n      <th>79447</th>\n      <th>283521</th>\n      <th>29122</th>\n      <th>9997</th>\n      <th>388963</th>\n      <th>6905</th>\n      <th>SF</th>\n    </tr>\n    <tr>\n      <th>cell_line</th>\n      <th></th>\n      <th></th>\n      <th></th>\n      <th></th>\n      <th></th>\n      <th></th>\n      <th></th>\n      <th></th>\n      <th></th>\n      <th></th>\n      <th></th>\n      <th></th>\n      <th></th>\n      <th></th>\n      <th></th>\n      <th></th>\n      <th></th>\n      <th></th>\n      <th></th>\n      <th></th>\n      <th></th>\n    </tr>\n  </thead>\n  <tbody>\n    <tr>\n      <th>HUPT4-2</th>\n      <td>5.239169</td>\n      <td>6.868884</td>\n      <td>1.941106</td>\n      <td>2.883621</td>\n      <td>0.042644</td>\n      <td>3.612352</td>\n      <td>6.034084</td>\n      <td>4.738768</td>\n      <td>3.223423</td>\n      <td>2.763412</td>\n      <td>...</td>\n      <td>1.448901</td>\n      <td>5.836682</td>\n      <td>1.056584</td>\n      <td>4.478972</td>\n      <td>0.000000</td>\n      <td>0.000000</td>\n      <td>1.859970</td>\n      <td>0.464668</td>\n      <td>3.266037</td>\n      <td>0.624046</td>\n    </tr>\n    <tr>\n      <th>OVTOKO-2</th>\n      <td>4.779785</td>\n      <td>6.009661</td>\n      <td>1.286881</td>\n      <td>2.833902</td>\n      <td>0.014355</td>\n      <td>0.443607</td>\n      <td>6.091488</td>\n      <td>4.277241</td>\n      <td>3.211012</td>\n      <td>0.042644</td>\n      <td>...</td>\n      <td>0.584963</td>\n      <td>5.258519</td>\n      <td>0.400538</td>\n      <td>4.659925</td>\n      <td>0.000000</td>\n      <td>0.189034</td>\n      <td>1.560715</td>\n      <td>1.807355</td>\n      <td>5.482203</td>\n      <td>0.636504</td>\n    </tr>\n    <tr>\n      <th>NCIH2405-2</th>\n      <td>4.615299</td>\n      <td>6.637060</td>\n      <td>2.289834</td>\n      <td>3.370164</td>\n      <td>0.070389</td>\n      <td>2.516015</td>\n      <td>5.957218</td>\n      <td>6.305059</td>\n      <td>4.483493</td>\n      <td>2.839960</td>\n      <td>...</td>\n      <td>1.695994</td>\n      <td>5.763943</td>\n      <td>2.160275</td>\n      <td>4.914565</td>\n      <td>0.111031</td>\n      <td>0.150560</td>\n      <td>1.321928</td>\n      <td>2.829850</td>\n      <td>5.126395</td>\n      <td>0.596301</td>\n    </tr>\n    <tr>\n      <th>NCIH508-2</th>\n      <td>5.509696</td>\n      <td>6.197708</td>\n      <td>2.313246</td>\n      <td>2.169925</td>\n      <td>0.028569</td>\n      <td>0.056584</td>\n      <td>5.911931</td>\n      <td>5.073820</td>\n      <td>3.666757</td>\n      <td>1.989139</td>\n      <td>...</td>\n      <td>0.659925</td>\n      <td>5.916954</td>\n      <td>1.111031</td>\n      <td>3.897240</td>\n      <td>0.084064</td>\n      <td>0.000000</td>\n      <td>1.000000</td>\n      <td>1.941106</td>\n      <td>3.939227</td>\n      <td>0.469445</td>\n    </tr>\n    <tr>\n      <th>G402-2</th>\n      <td>3.502076</td>\n      <td>6.103498</td>\n      <td>2.531069</td>\n      <td>3.269033</td>\n      <td>0.000000</td>\n      <td>0.704872</td>\n      <td>3.745237</td>\n      <td>3.224966</td>\n      <td>4.690417</td>\n      <td>2.739848</td>\n      <td>...</td>\n      <td>1.117695</td>\n      <td>5.705978</td>\n      <td>1.709291</td>\n      <td>4.469235</td>\n      <td>0.014355</td>\n      <td>0.000000</td>\n      <td>1.700440</td>\n      <td>2.386811</td>\n      <td>4.929791</td>\n      <td>0.129347</td>\n    </tr>\n  </tbody>\n</table>\n<p>5 rows × 15140 columns</p>\n</div>"
     },
     "metadata": {},
     "output_type": "display_data"
    },
    {
     "data": {
      "text/plain": "                7105      8813     57147     55732      2268      3075  \\\ncell_line                                                                \nNCIH2291-2  5.512543  5.722739  1.879706  3.578939  0.014355  3.945795   \nHS729-2     4.762349  7.167418  2.424922  4.009885  0.356144  4.110196   \nHCT15-2     4.627023  6.756623  2.280956  4.581954  0.000000  0.084064   \nH4-2        3.817623  5.553668  2.250962  3.166715  0.042644  5.409391   \nLS1034-2    5.606146  6.679339  2.931683  3.014355  0.084064  0.056584   \n\n                2519      2729      4800     90529  ...      8336     84311  \\\ncell_line                                           ...                       \nNCIH2291-2  6.265849  5.033863  4.439623  3.452859  ...  1.182692  5.211791   \nHS729-2     6.672142  3.921246  4.685380  2.799087  ...  2.117695  5.861459   \nHCT15-2     7.279286  4.693766  4.776104  3.073820  ...  1.521051  6.054631   \nH4-2        5.865919  6.546740  5.150966  2.217231  ...  1.622930  5.106013   \nLS1034-2    6.132988  5.304511  4.558268  2.883621  ...  1.599318  5.502712   \n\n              126661     79447    283521     29122      9997    388963  \\\ncell_line                                                                \nNCIH2291-2  1.226509  4.577731  0.000000  0.855990  2.257011  1.978196   \nHS729-2     2.528571  5.499846  0.014355  0.000000  1.464668  2.169925   \nHCT15-2     2.767655  5.919340  0.014355  0.028569  1.416840  0.669027   \nH4-2        2.505891  5.008989  0.014355  0.084064  1.608809  1.594549   \nLS1034-2    0.731183  5.089583  0.070389  0.000000  1.739848  1.695994   \n\n                6905        SF  \ncell_line                       \nNCIH2291-2  4.122673  0.656893  \nHS729-2     4.474436  0.577927  \nHCT15-2     4.754353  0.163717  \nH4-2        4.650190  0.820865  \nLS1034-2    4.878235  0.824811  \n\n[5 rows x 15140 columns]",
      "text/html": "<div>\n<style scoped>\n    .dataframe tbody tr th:only-of-type {\n        vertical-align: middle;\n    }\n\n    .dataframe tbody tr th {\n        vertical-align: top;\n    }\n\n    .dataframe thead th {\n        text-align: right;\n    }\n</style>\n<table border=\"1\" class=\"dataframe\">\n  <thead>\n    <tr style=\"text-align: right;\">\n      <th></th>\n      <th>7105</th>\n      <th>8813</th>\n      <th>57147</th>\n      <th>55732</th>\n      <th>2268</th>\n      <th>3075</th>\n      <th>2519</th>\n      <th>2729</th>\n      <th>4800</th>\n      <th>90529</th>\n      <th>...</th>\n      <th>8336</th>\n      <th>84311</th>\n      <th>126661</th>\n      <th>79447</th>\n      <th>283521</th>\n      <th>29122</th>\n      <th>9997</th>\n      <th>388963</th>\n      <th>6905</th>\n      <th>SF</th>\n    </tr>\n    <tr>\n      <th>cell_line</th>\n      <th></th>\n      <th></th>\n      <th></th>\n      <th></th>\n      <th></th>\n      <th></th>\n      <th></th>\n      <th></th>\n      <th></th>\n      <th></th>\n      <th></th>\n      <th></th>\n      <th></th>\n      <th></th>\n      <th></th>\n      <th></th>\n      <th></th>\n      <th></th>\n      <th></th>\n      <th></th>\n      <th></th>\n    </tr>\n  </thead>\n  <tbody>\n    <tr>\n      <th>NCIH2291-2</th>\n      <td>5.512543</td>\n      <td>5.722739</td>\n      <td>1.879706</td>\n      <td>3.578939</td>\n      <td>0.014355</td>\n      <td>3.945795</td>\n      <td>6.265849</td>\n      <td>5.033863</td>\n      <td>4.439623</td>\n      <td>3.452859</td>\n      <td>...</td>\n      <td>1.182692</td>\n      <td>5.211791</td>\n      <td>1.226509</td>\n      <td>4.577731</td>\n      <td>0.000000</td>\n      <td>0.855990</td>\n      <td>2.257011</td>\n      <td>1.978196</td>\n      <td>4.122673</td>\n      <td>0.656893</td>\n    </tr>\n    <tr>\n      <th>HS729-2</th>\n      <td>4.762349</td>\n      <td>7.167418</td>\n      <td>2.424922</td>\n      <td>4.009885</td>\n      <td>0.356144</td>\n      <td>4.110196</td>\n      <td>6.672142</td>\n      <td>3.921246</td>\n      <td>4.685380</td>\n      <td>2.799087</td>\n      <td>...</td>\n      <td>2.117695</td>\n      <td>5.861459</td>\n      <td>2.528571</td>\n      <td>5.499846</td>\n      <td>0.014355</td>\n      <td>0.000000</td>\n      <td>1.464668</td>\n      <td>2.169925</td>\n      <td>4.474436</td>\n      <td>0.577927</td>\n    </tr>\n    <tr>\n      <th>HCT15-2</th>\n      <td>4.627023</td>\n      <td>6.756623</td>\n      <td>2.280956</td>\n      <td>4.581954</td>\n      <td>0.000000</td>\n      <td>0.084064</td>\n      <td>7.279286</td>\n      <td>4.693766</td>\n      <td>4.776104</td>\n      <td>3.073820</td>\n      <td>...</td>\n      <td>1.521051</td>\n      <td>6.054631</td>\n      <td>2.767655</td>\n      <td>5.919340</td>\n      <td>0.014355</td>\n      <td>0.028569</td>\n      <td>1.416840</td>\n      <td>0.669027</td>\n      <td>4.754353</td>\n      <td>0.163717</td>\n    </tr>\n    <tr>\n      <th>H4-2</th>\n      <td>3.817623</td>\n      <td>5.553668</td>\n      <td>2.250962</td>\n      <td>3.166715</td>\n      <td>0.042644</td>\n      <td>5.409391</td>\n      <td>5.865919</td>\n      <td>6.546740</td>\n      <td>5.150966</td>\n      <td>2.217231</td>\n      <td>...</td>\n      <td>1.622930</td>\n      <td>5.106013</td>\n      <td>2.505891</td>\n      <td>5.008989</td>\n      <td>0.014355</td>\n      <td>0.084064</td>\n      <td>1.608809</td>\n      <td>1.594549</td>\n      <td>4.650190</td>\n      <td>0.820865</td>\n    </tr>\n    <tr>\n      <th>LS1034-2</th>\n      <td>5.606146</td>\n      <td>6.679339</td>\n      <td>2.931683</td>\n      <td>3.014355</td>\n      <td>0.084064</td>\n      <td>0.056584</td>\n      <td>6.132988</td>\n      <td>5.304511</td>\n      <td>4.558268</td>\n      <td>2.883621</td>\n      <td>...</td>\n      <td>1.599318</td>\n      <td>5.502712</td>\n      <td>0.731183</td>\n      <td>5.089583</td>\n      <td>0.070389</td>\n      <td>0.000000</td>\n      <td>1.739848</td>\n      <td>1.695994</td>\n      <td>4.878235</td>\n      <td>0.824811</td>\n    </tr>\n  </tbody>\n</table>\n<p>5 rows × 15140 columns</p>\n</div>"
     },
     "metadata": {},
     "output_type": "display_data"
    }
   ],
   "source": [
    "display(train_dataset.head())\n",
    "display(test_dataset.head())"
   ],
   "metadata": {
    "collapsed": false,
    "pycharm": {
     "name": "#%%\n"
    }
   }
  },
  {
   "cell_type": "code",
   "execution_count": 10,
   "outputs": [
    {
     "name": "stdout",
     "output_type": "stream",
     "text": [
      "cell_line\n",
      "HUPT4-2       0.624046\n",
      "OVTOKO-2      0.636504\n",
      "NCIH2405-2    0.596301\n",
      "NCIH508-2     0.469445\n",
      "G402-2        0.129347\n",
      "                ...   \n",
      "NCIH1755-2    0.738257\n",
      "IGROV1-2      0.442439\n",
      "LOUNH91-2     0.695546\n",
      "TE8-2         0.561510\n",
      "OVK18-2       0.269703\n",
      "Name: SF, Length: 472, dtype: float64\n"
     ]
    }
   ],
   "source": [
    "X = train_dataset[['1462', '200916', '254158', '54442', '54851', '1876', '55175', '2826', '64714', '1995', '132946',\n",
    "                   '10921', '9294']]\n",
    "y = train_dataset['SF']\n",
    "print(y)"
   ],
   "metadata": {
    "collapsed": false,
    "pycharm": {
     "name": "#%%\n"
    }
   }
  },
  {
   "cell_type": "code",
   "execution_count": 27,
   "outputs": [],
   "source": [
    "# define base model\n",
    "def baseline_model():\n",
    "\t# create model\n",
    "\tmodel = Sequential()\n",
    "\tmodel.add(Dense(13, input_dim=13, kernel_initializer='normal', activation='relu'))\n",
    "\tmodel.add(Dense(1, kernel_initializer='normal'))\n",
    "\t# Compile model\n",
    "\tmodel.compile(loss='mean_squared_error', optimizer='adam')\n",
    "\treturn model\n",
    "\n",
    "# define the model\n",
    "def larger_model():\n",
    "\t# create model\n",
    "\tmodel = Sequential()\n",
    "\tmodel.add(Dense(13, input_dim=13, kernel_initializer='normal', activation='relu'))\n",
    "\tmodel.add(Dense(6, kernel_initializer='normal', activation='relu'))\n",
    "\tmodel.add(Dense(1, kernel_initializer='normal'))\n",
    "\t# Compile model\n",
    "\tmodel.compile(loss='mean_squared_error', optimizer='adam')\n",
    "\treturn model\n",
    "\n",
    "# define wider model\n",
    "def wider_model():\n",
    "\t# create model\n",
    "\tmodel = Sequential()\n",
    "\tmodel.add(Dense(20, input_dim=13, kernel_initializer='normal', activation='relu'))\n",
    "\tmodel.add(Dense(1, kernel_initializer='normal'))\n",
    "\t# Compile model\n",
    "\tmodel.compile(loss='mean_squared_error', optimizer='adam')\n",
    "\treturn model"
   ],
   "metadata": {
    "collapsed": false,
    "pycharm": {
     "name": "#%%\n"
    }
   }
  },
  {
   "cell_type": "code",
   "execution_count": 40,
   "outputs": [
    {
     "name": "stderr",
     "output_type": "stream",
     "text": [
      "<timed exec>:4: DeprecationWarning: KerasRegressor is deprecated, use Sci-Keras (https://github.com/adriangb/scikeras) instead. See https://www.adriangb.com/scikeras/stable/migration.html for help migrating.\n"
     ]
    },
    {
     "name": "stdout",
     "output_type": "stream",
     "text": [
      "Model metrics: -0.04 (0.01) MSE\n",
      "CPU times: total: 51.3 s\n",
      "Wall time: 36.9 s\n"
     ]
    }
   ],
   "source": [
    "%%time\n",
    "# evaluate model with standardized dataset\n",
    "estimators = []\n",
    "estimators.append(('standardize', StandardScaler()))\n",
    "estimators.append(('mlp', KerasRegressor(build_fn=wider_model, epochs=50, batch_size=5, verbose=0)))\n",
    "pipeline = Pipeline(estimators)\n",
    "kfold = KFold(n_splits=10)\n",
    "results = cross_val_score(pipeline, X, y, cv=kfold)\n",
    "print(\"Model metrics: %.2f (%.2f) MSE\" % (results.mean(), results.std()))"
   ],
   "metadata": {
    "collapsed": false,
    "pycharm": {
     "name": "#%%\n"
    }
   }
  },
  {
   "cell_type": "code",
   "execution_count": 48,
   "outputs": [
    {
     "name": "stdout",
     "output_type": "stream",
     "text": [
      "2/2 [==============================] - 0s 0s/step\n"
     ]
    }
   ],
   "source": [
    "model = wider_model()\n",
    "X_test = test_dataset[['1462', '200916', '254158', '54442', '54851', '1876', '55175', '2826', '64714', '1995', '132946',\n",
    "                   '10921', '9294']]\n",
    "\n",
    "y_test = model.predict(X_test)"
   ],
   "metadata": {
    "collapsed": false,
    "pycharm": {
     "name": "#%%\n"
    }
   }
  }
 ],
 "metadata": {
  "kernelspec": {
   "display_name": "Python 3",
   "language": "python",
   "name": "python3"
  },
  "language_info": {
   "codemirror_mode": {
    "name": "ipython",
    "version": 2
   },
   "file_extension": ".py",
   "mimetype": "text/x-python",
   "name": "python",
   "nbconvert_exporter": "python",
   "pygments_lexer": "ipython2",
   "version": "2.7.6"
  }
 },
 "nbformat": 4,
 "nbformat_minor": 0
}