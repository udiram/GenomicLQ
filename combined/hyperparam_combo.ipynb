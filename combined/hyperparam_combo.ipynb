{
 "cells": [
  {
   "cell_type": "code",
   "execution_count": 41,
   "outputs": [
    {
     "name": "stdout",
     "output_type": "stream",
     "text": [
      "Fri Jul  8 16:19:09 2022       \n",
      "+-----------------------------------------------------------------------------+\n",
      "| NVIDIA-SMI 496.49       Driver Version: 496.49       CUDA Version: 11.5     |\n",
      "|-------------------------------+----------------------+----------------------+\n",
      "| GPU  Name            TCC/WDDM | Bus-Id        Disp.A | Volatile Uncorr. ECC |\n",
      "| Fan  Temp  Perf  Pwr:Usage/Cap|         Memory-Usage | GPU-Util  Compute M. |\n",
      "|                               |                      |               MIG M. |\n",
      "|===============================+======================+======================|\n",
      "|   0  NVIDIA GeForce ... WDDM  | 00000000:09:00.0  On |                  N/A |\n",
      "| 25%   33C    P5    27W / 250W |   1176MiB / 11264MiB |      9%      Default |\n",
      "|                               |                      |                  N/A |\n",
      "+-------------------------------+----------------------+----------------------+\n",
      "                                                                               \n",
      "+-----------------------------------------------------------------------------+\n",
      "| Processes:                                                                  |\n",
      "|  GPU   GI   CI        PID   Type   Process name                  GPU Memory |\n",
      "|        ID   ID                                                   Usage      |\n",
      "|=============================================================================|\n",
      "|    0   N/A  N/A      2340    C+G   ...perience\\NVIDIA Share.exe    N/A      |\n",
      "|    0   N/A  N/A      4604    C+G   ...264.44\\msedgewebview2.exe    N/A      |\n",
      "|    0   N/A  N/A      5840    C+G   ...ekyb3d8bbwe\\YourPhone.exe    N/A      |\n",
      "|    0   N/A  N/A      7884    C+G   ...n1h2txyewy\\SearchHost.exe    N/A      |\n",
      "|    0   N/A  N/A     10600    C+G   C:\\Windows\\explorer.exe         N/A      |\n",
      "|    0   N/A  N/A     10944    C+G   ...3\\jbr\\bin\\jcef_helper.exe    N/A      |\n",
      "|    0   N/A  N/A     11204    C+G   ...perience\\NVIDIA Share.exe    N/A      |\n",
      "|    0   N/A  N/A     11228    C+G   Insufficient Permissions        N/A      |\n",
      "|    0   N/A  N/A     11520    C+G   ...lPanel\\SystemSettings.exe    N/A      |\n",
      "|    0   N/A  N/A     17172    C+G   ...y\\ShellExperienceHost.exe    N/A      |\n",
      "|    0   N/A  N/A     17656    C+G   ...wekyb3d8bbwe\\Video.UI.exe    N/A      |\n",
      "|    0   N/A  N/A     19264    C+G   ...2txyewy\\TextInputHost.exe    N/A      |\n",
      "|    0   N/A  N/A     20968    C+G   ...artMenuExperienceHost.exe    N/A      |\n",
      "|    0   N/A  N/A     21492    C+G   Insufficient Permissions        N/A      |\n",
      "|    0   N/A  N/A     22164    C+G   ...264.44\\msedgewebview2.exe    N/A      |\n",
      "|    0   N/A  N/A     23084    C+G   ...bbwe\\Microsoft.Photos.exe    N/A      |\n",
      "|    0   N/A  N/A     23812    C+G   ...ropbox\\Client\\Dropbox.exe    N/A      |\n",
      "|    0   N/A  N/A     24248    C+G   Insufficient Permissions        N/A      |\n",
      "+-----------------------------------------------------------------------------+\n"
     ]
    }
   ],
   "source": [
    "import sklearn\n",
    "from sklearn.model_selection import train_test_split\n",
    "import pandas as pd\n",
    "from sklearn.linear_model import BayesianRidge\n",
    "import os\n",
    "!nvidia-smi"
   ],
   "metadata": {
    "collapsed": false,
    "pycharm": {
     "name": "#%%\n"
    }
   }
  },
  {
   "cell_type": "code",
   "execution_count": 42,
   "outputs": [
    {
     "data": {
      "text/plain": "          Alpha         1         2          9        10        12        13  \\\n22rv1   0.28000  4.423446  4.134148  10.505010  4.180319  3.828985  3.416169   \n42mgba  0.15420  6.856747  3.792826   8.117941  4.300842  3.534361  3.465385   \n5637    0.32400  3.817624  3.769035   7.944338  4.000219  4.793569  4.246643   \n647v    0.06075  4.322558  3.730195   8.515086  4.421911  3.894124  3.649778   \n769p    0.16090  4.020103  3.846175   8.278318  4.400144  4.855821  3.731236   \n\n              14        15         16  ...  100630918  100631378  100642175  \\\n22rv1   8.924422  3.547737  10.489760  ...   5.662483   3.535540   5.441015   \n42mgba  8.689804  3.730495  10.063663  ...   4.894637   3.717672   4.600157   \n5637    9.218668  3.775753   8.843498  ...   5.375774   3.438822   5.457984   \n647v    8.962272  3.469970  10.341420  ...   5.286006   3.415911   4.769920   \n769p    9.109365  3.576632  10.172053  ...   5.318118   3.583233   4.643916   \n\n        100652770  100652791  100653022  100689073  100689074  100820829  \\\n22rv1    4.484159   3.272955   3.932815   3.518021   4.202408   4.675101   \n42mgba   3.986362   3.102421   4.577944   3.650426   3.155024   4.213095   \n5637     5.054120   3.542372   4.057933   3.664296   3.268805   7.120733   \n647v     4.744037   3.426386   4.216155   3.417696   3.374419   6.135024   \n769p     4.882646   3.490162   4.041154   3.375546   3.291270   4.529068   \n\n                Beta  \n22rv1   5.625000e-08  \n42mgba  2.409000e-02  \n5637    9.217000e-03  \n647v    6.135000e-02  \n769p    1.736000e-02  \n\n[5 rows x 18525 columns]",
      "text/html": "<div>\n<style scoped>\n    .dataframe tbody tr th:only-of-type {\n        vertical-align: middle;\n    }\n\n    .dataframe tbody tr th {\n        vertical-align: top;\n    }\n\n    .dataframe thead th {\n        text-align: right;\n    }\n</style>\n<table border=\"1\" class=\"dataframe\">\n  <thead>\n    <tr style=\"text-align: right;\">\n      <th></th>\n      <th>Alpha</th>\n      <th>1</th>\n      <th>2</th>\n      <th>9</th>\n      <th>10</th>\n      <th>12</th>\n      <th>13</th>\n      <th>14</th>\n      <th>15</th>\n      <th>16</th>\n      <th>...</th>\n      <th>100630918</th>\n      <th>100631378</th>\n      <th>100642175</th>\n      <th>100652770</th>\n      <th>100652791</th>\n      <th>100653022</th>\n      <th>100689073</th>\n      <th>100689074</th>\n      <th>100820829</th>\n      <th>Beta</th>\n    </tr>\n  </thead>\n  <tbody>\n    <tr>\n      <th>22rv1</th>\n      <td>0.28000</td>\n      <td>4.423446</td>\n      <td>4.134148</td>\n      <td>10.505010</td>\n      <td>4.180319</td>\n      <td>3.828985</td>\n      <td>3.416169</td>\n      <td>8.924422</td>\n      <td>3.547737</td>\n      <td>10.489760</td>\n      <td>...</td>\n      <td>5.662483</td>\n      <td>3.535540</td>\n      <td>5.441015</td>\n      <td>4.484159</td>\n      <td>3.272955</td>\n      <td>3.932815</td>\n      <td>3.518021</td>\n      <td>4.202408</td>\n      <td>4.675101</td>\n      <td>5.625000e-08</td>\n    </tr>\n    <tr>\n      <th>42mgba</th>\n      <td>0.15420</td>\n      <td>6.856747</td>\n      <td>3.792826</td>\n      <td>8.117941</td>\n      <td>4.300842</td>\n      <td>3.534361</td>\n      <td>3.465385</td>\n      <td>8.689804</td>\n      <td>3.730495</td>\n      <td>10.063663</td>\n      <td>...</td>\n      <td>4.894637</td>\n      <td>3.717672</td>\n      <td>4.600157</td>\n      <td>3.986362</td>\n      <td>3.102421</td>\n      <td>4.577944</td>\n      <td>3.650426</td>\n      <td>3.155024</td>\n      <td>4.213095</td>\n      <td>2.409000e-02</td>\n    </tr>\n    <tr>\n      <th>5637</th>\n      <td>0.32400</td>\n      <td>3.817624</td>\n      <td>3.769035</td>\n      <td>7.944338</td>\n      <td>4.000219</td>\n      <td>4.793569</td>\n      <td>4.246643</td>\n      <td>9.218668</td>\n      <td>3.775753</td>\n      <td>8.843498</td>\n      <td>...</td>\n      <td>5.375774</td>\n      <td>3.438822</td>\n      <td>5.457984</td>\n      <td>5.054120</td>\n      <td>3.542372</td>\n      <td>4.057933</td>\n      <td>3.664296</td>\n      <td>3.268805</td>\n      <td>7.120733</td>\n      <td>9.217000e-03</td>\n    </tr>\n    <tr>\n      <th>647v</th>\n      <td>0.06075</td>\n      <td>4.322558</td>\n      <td>3.730195</td>\n      <td>8.515086</td>\n      <td>4.421911</td>\n      <td>3.894124</td>\n      <td>3.649778</td>\n      <td>8.962272</td>\n      <td>3.469970</td>\n      <td>10.341420</td>\n      <td>...</td>\n      <td>5.286006</td>\n      <td>3.415911</td>\n      <td>4.769920</td>\n      <td>4.744037</td>\n      <td>3.426386</td>\n      <td>4.216155</td>\n      <td>3.417696</td>\n      <td>3.374419</td>\n      <td>6.135024</td>\n      <td>6.135000e-02</td>\n    </tr>\n    <tr>\n      <th>769p</th>\n      <td>0.16090</td>\n      <td>4.020103</td>\n      <td>3.846175</td>\n      <td>8.278318</td>\n      <td>4.400144</td>\n      <td>4.855821</td>\n      <td>3.731236</td>\n      <td>9.109365</td>\n      <td>3.576632</td>\n      <td>10.172053</td>\n      <td>...</td>\n      <td>5.318118</td>\n      <td>3.583233</td>\n      <td>4.643916</td>\n      <td>4.882646</td>\n      <td>3.490162</td>\n      <td>4.041154</td>\n      <td>3.375546</td>\n      <td>3.291270</td>\n      <td>4.529068</td>\n      <td>1.736000e-02</td>\n    </tr>\n  </tbody>\n</table>\n<p>5 rows × 18525 columns</p>\n</div>"
     },
     "metadata": {},
     "output_type": "display_data"
    },
    {
     "data": {
      "text/plain": "          Alpha      Beta\n22rv1   0.28000  0.000006\n42mgba  0.15420  2.409000\n5637    0.32400  0.921700\n647v    0.06075  6.135000\n769p    0.16090  1.736000",
      "text/html": "<div>\n<style scoped>\n    .dataframe tbody tr th:only-of-type {\n        vertical-align: middle;\n    }\n\n    .dataframe tbody tr th {\n        vertical-align: top;\n    }\n\n    .dataframe thead th {\n        text-align: right;\n    }\n</style>\n<table border=\"1\" class=\"dataframe\">\n  <thead>\n    <tr style=\"text-align: right;\">\n      <th></th>\n      <th>Alpha</th>\n      <th>Beta</th>\n    </tr>\n  </thead>\n  <tbody>\n    <tr>\n      <th>22rv1</th>\n      <td>0.28000</td>\n      <td>0.000006</td>\n    </tr>\n    <tr>\n      <th>42mgba</th>\n      <td>0.15420</td>\n      <td>2.409000</td>\n    </tr>\n    <tr>\n      <th>5637</th>\n      <td>0.32400</td>\n      <td>0.921700</td>\n    </tr>\n    <tr>\n      <th>647v</th>\n      <td>0.06075</td>\n      <td>6.135000</td>\n    </tr>\n    <tr>\n      <th>769p</th>\n      <td>0.16090</td>\n      <td>1.736000</td>\n    </tr>\n  </tbody>\n</table>\n</div>"
     },
     "metadata": {},
     "output_type": "display_data"
    },
    {
     "data": {
      "text/plain": "               1         2          9        10        12        13        14  \\\n22rv1   4.423446  4.134148  10.505010  4.180319  3.828985  3.416169  8.924422   \n42mgba  6.856747  3.792826   8.117941  4.300842  3.534361  3.465385  8.689804   \n5637    3.817624  3.769035   7.944338  4.000219  4.793569  4.246643  9.218668   \n647v    4.322558  3.730195   8.515086  4.421911  3.894124  3.649778  8.962272   \n769p    4.020103  3.846175   8.278318  4.400144  4.855821  3.731236  9.109365   \n\n              15         16        18  ...  100628307  100630918  100631378  \\\n22rv1   3.547737  10.489760  5.448634  ...   3.641889   5.662483   3.535540   \n42mgba  3.730495  10.063663  7.104628  ...   3.527367   4.894637   3.717672   \n5637    3.775753   8.843498  3.573155  ...   3.502305   5.375774   3.438822   \n647v    3.469970  10.341420  6.962116  ...   3.402495   5.286006   3.415911   \n769p    3.576632  10.172053  4.266400  ...   3.720749   5.318118   3.583233   \n\n        100642175  100652770  100652791  100653022  100689073  100689074  \\\n22rv1    5.441015   4.484159   3.272955   3.932815   3.518021   4.202408   \n42mgba   4.600157   3.986362   3.102421   4.577944   3.650426   3.155024   \n5637     5.457984   5.054120   3.542372   4.057933   3.664296   3.268805   \n647v     4.769920   4.744037   3.426386   4.216155   3.417696   3.374419   \n769p     4.643916   4.882646   3.490162   4.041154   3.375546   3.291270   \n\n        100820829  \n22rv1    4.675101  \n42mgba   4.213095  \n5637     7.120733  \n647v     6.135024  \n769p     4.529068  \n\n[5 rows x 18523 columns]",
      "text/html": "<div>\n<style scoped>\n    .dataframe tbody tr th:only-of-type {\n        vertical-align: middle;\n    }\n\n    .dataframe tbody tr th {\n        vertical-align: top;\n    }\n\n    .dataframe thead th {\n        text-align: right;\n    }\n</style>\n<table border=\"1\" class=\"dataframe\">\n  <thead>\n    <tr style=\"text-align: right;\">\n      <th></th>\n      <th>1</th>\n      <th>2</th>\n      <th>9</th>\n      <th>10</th>\n      <th>12</th>\n      <th>13</th>\n      <th>14</th>\n      <th>15</th>\n      <th>16</th>\n      <th>18</th>\n      <th>...</th>\n      <th>100628307</th>\n      <th>100630918</th>\n      <th>100631378</th>\n      <th>100642175</th>\n      <th>100652770</th>\n      <th>100652791</th>\n      <th>100653022</th>\n      <th>100689073</th>\n      <th>100689074</th>\n      <th>100820829</th>\n    </tr>\n  </thead>\n  <tbody>\n    <tr>\n      <th>22rv1</th>\n      <td>4.423446</td>\n      <td>4.134148</td>\n      <td>10.505010</td>\n      <td>4.180319</td>\n      <td>3.828985</td>\n      <td>3.416169</td>\n      <td>8.924422</td>\n      <td>3.547737</td>\n      <td>10.489760</td>\n      <td>5.448634</td>\n      <td>...</td>\n      <td>3.641889</td>\n      <td>5.662483</td>\n      <td>3.535540</td>\n      <td>5.441015</td>\n      <td>4.484159</td>\n      <td>3.272955</td>\n      <td>3.932815</td>\n      <td>3.518021</td>\n      <td>4.202408</td>\n      <td>4.675101</td>\n    </tr>\n    <tr>\n      <th>42mgba</th>\n      <td>6.856747</td>\n      <td>3.792826</td>\n      <td>8.117941</td>\n      <td>4.300842</td>\n      <td>3.534361</td>\n      <td>3.465385</td>\n      <td>8.689804</td>\n      <td>3.730495</td>\n      <td>10.063663</td>\n      <td>7.104628</td>\n      <td>...</td>\n      <td>3.527367</td>\n      <td>4.894637</td>\n      <td>3.717672</td>\n      <td>4.600157</td>\n      <td>3.986362</td>\n      <td>3.102421</td>\n      <td>4.577944</td>\n      <td>3.650426</td>\n      <td>3.155024</td>\n      <td>4.213095</td>\n    </tr>\n    <tr>\n      <th>5637</th>\n      <td>3.817624</td>\n      <td>3.769035</td>\n      <td>7.944338</td>\n      <td>4.000219</td>\n      <td>4.793569</td>\n      <td>4.246643</td>\n      <td>9.218668</td>\n      <td>3.775753</td>\n      <td>8.843498</td>\n      <td>3.573155</td>\n      <td>...</td>\n      <td>3.502305</td>\n      <td>5.375774</td>\n      <td>3.438822</td>\n      <td>5.457984</td>\n      <td>5.054120</td>\n      <td>3.542372</td>\n      <td>4.057933</td>\n      <td>3.664296</td>\n      <td>3.268805</td>\n      <td>7.120733</td>\n    </tr>\n    <tr>\n      <th>647v</th>\n      <td>4.322558</td>\n      <td>3.730195</td>\n      <td>8.515086</td>\n      <td>4.421911</td>\n      <td>3.894124</td>\n      <td>3.649778</td>\n      <td>8.962272</td>\n      <td>3.469970</td>\n      <td>10.341420</td>\n      <td>6.962116</td>\n      <td>...</td>\n      <td>3.402495</td>\n      <td>5.286006</td>\n      <td>3.415911</td>\n      <td>4.769920</td>\n      <td>4.744037</td>\n      <td>3.426386</td>\n      <td>4.216155</td>\n      <td>3.417696</td>\n      <td>3.374419</td>\n      <td>6.135024</td>\n    </tr>\n    <tr>\n      <th>769p</th>\n      <td>4.020103</td>\n      <td>3.846175</td>\n      <td>8.278318</td>\n      <td>4.400144</td>\n      <td>4.855821</td>\n      <td>3.731236</td>\n      <td>9.109365</td>\n      <td>3.576632</td>\n      <td>10.172053</td>\n      <td>4.266400</td>\n      <td>...</td>\n      <td>3.720749</td>\n      <td>5.318118</td>\n      <td>3.583233</td>\n      <td>4.643916</td>\n      <td>4.882646</td>\n      <td>3.490162</td>\n      <td>4.041154</td>\n      <td>3.375546</td>\n      <td>3.291270</td>\n      <td>4.529068</td>\n    </tr>\n  </tbody>\n</table>\n<p>5 rows × 18523 columns</p>\n</div>"
     },
     "metadata": {},
     "output_type": "display_data"
    }
   ],
   "source": [
    "df = pd.read_csv('data/ccle_alpha_and_beta.csv', index_col=0)\n",
    "display(df.head())\n",
    "\n",
    "y_aonly = df['Alpha']\n",
    "beta_col = df['Beta'].apply(lambda x:x*100)\n",
    "y_comb = pd.concat([y_aonly, beta_col], axis=1)\n",
    "display(y_comb.head())\n",
    "\n",
    "df.drop(['Alpha', 'Beta'], axis=1, inplace=True)\n",
    "X = df\n",
    "display(X.head())"
   ],
   "metadata": {
    "collapsed": false,
    "pycharm": {
     "name": "#%%\n"
    }
   }
  },
  {
   "cell_type": "code",
   "execution_count": 43,
   "outputs": [],
   "source": [
    "alpha_fs = ['10085', '8644', '5054', '84561', '157740', '857', '401387', '22943', '11245', '79083', '2123', '54732', '55692', '8508', '5613', '3487', '6236', '8315', '3298', '56937', '4600', '1645', '11046', '3176', '23657', '3066', '51526', '2621', '4071', '245911', '58472', '1728', '63893', '26022', '55728', '63898', '439927', '51071', '23032', '135228', '9793', '93058', '51133', '316', '84141', '55964', '1803', '100287896', '10911', '23240', '9124', '770', '7554', '23596', '5507', '25845', '57695', '100506328', '23167', '347252', '2131', '6281', '83987', '8715', '91137', '716', '4613', '28968', '10544', '6921', '146225', '51057', '128866', '9060', '8717', '1911', '3995', '1734', '201725', '5352', '10346', '10016', '83882', '1875', '226', '151258', '3575', '26167', '90317', '63874', '153241', '4907', '27035', '57214', '64859', '23173', '56916', '6900', '9637', '10397', '54149', '11331', '25776', '645', '10116', '26009', '92162', '5903', '1303', '51728', '8334', '5010', '6447', '3075', '4035', '304', '285547', '22849', '64223', '9987', '796', '115584', '261729', '1382', '285600', '390', '8495', '81858', '9582', '3800', '83452', '80311', '55920', '125476', '4149', '6645', '1600', '92737', '1491', '79585', '401', '151887', '81671', '89932', '3990', '5676', '11098', '55917', '11145', '53335', '56243', '55239', '7840', '84833', '3750', '9057', '23659', '22895', '1024', '23149', '55799', '7277', '11343', '22885', '80835', '83872', '8942', '4148', '282566', '3329', '7072', '80063', '140886', '4998', '3344', '9180', '5787', '388021', '222962', '374393', '83479', '9196', '10468', '57185', '653121', '11019', '5789', '63946', '913', '492311', '84969', '375704', '80067', '116372', '112616', '84319', '11010', '3958', '126731', '53838', '148189', '148066', '27244', '970', '1876', '79053', '9849', '55741', '284207', '22949', '51142', '169841', '417', '64283', '404201', '386618', '4233', '8347', '65095', '6875', '51606', '65983', '246176', '1749', '100506542', '10038', '79029', '55214', '283352', '6482', '60436', '5471', '23598', '1825', '25907', '80318', '27125', '6368', '51634', '3166', '10730', '9646', '202299', '7145', '151254', '79727', '6867', '55228', '56919', '54988', '393', '11202', '120935', '7011', '4248', '398', '220001', '57212', '83638', '414', '1747', '100292680', '117581', '7357', '23318', '11031', '2124', '3516', '284099', '7039', '286827', '6304', '2978', '53354', '54949', '5961', '79441', '3912', '27286', '91734', '283677', '9495', '51209', '6532', '49856', '84926', '144568', '644809', '207107', '23131', '221938', '5329', '9249', '4676', '3426', '8629', '57531', '60558', '100132074', '5137', '57150', '339290', '8936', '645566', '29991', '54822', '3673', '80224', '6201', '822', '339965', '5145', '84962', '4286', '285527', '4856', '53826', '3930', '5881', '9889', '6626', '667', '10137', '6133', '140578', '6664', '1180', '84189', '1057', '6619', '125150', '90321', '392617', '1543', '339834', '8365', '80155', '10981', '26065', '6426', '26354', '10650', '166378', '4082', '1601', '26471', '79712', '80206', '100287932', '653483', '129080', '56475', '3228', '160492', '150051', '284013', '57180', '3093', '169834', '197003', '403341', '11257', '23387', '3490', '64850', '84830', '55970', '6160', '2882', '79187', '3068', '54809', '136', '1390', '1789', '5031', '133957', '286451', '2876', '28986', '7057', '79642', '80308', '7249', '5806', '26751', '55211', '55018', '79096', '92595', '2', '11075', '9108', '273', '4820', '83903', '905', '55280', '9191', '22869', '9270', '1602', '646588', '64759', '136227', '147381', '11243', '4074', '221786', '158586', '84624', '25763', '114884', '148113', '8123', '54790', '3070', '100169989', '56652', '23361', '2035', '10577', '388695', '3005', '139596', '2317', '7597', '221322', '54947', '120379', '6303', '26999', '1327', '4752', '23467', '5917', '54103', '57708', '149345', '132660', '55080', '254295', '339803', '90459', '203430', '47', '8743', '1012', '8603', '23252', '51263', '221120', '2817', '4245', '7547', '29107', '51110', '57674', '100131067', '10554', '1908', '23077', '8614', '403', '55699', '84513', '27236', '11072', '493', '60673', '7976', '84970', '54853', '1407', '9801', '80176', '10001', '5100', '22936', '11267', '84366', '3948', '131405', '100506100', '2554', '115273', '646484', '22903', '23410', '339983', '928', '9214', '317662', '29071', '2677', '3133', '116442', '9229', '9925', '84896', '10921', '51444', '4052', '6347', '1000', '93973', '200539', '388531', '8601', '23133', '6903', '4281', '54849', '2335', '219738', '6277', '57001', '22836', '57493', '2635', '10654', '54870', '253639', '1046', '84253', '8816', '23524', '132851', '121441', '10512', '56112', '4750', '221092', '144809', '401172', '8871', '8549', '27341', '10966', '57478', '3739', '8841', '56901', '4595', '1737', '7571', '129530', '7755', '23244', '51187', '7182', '6885', '57117', '55294', '2027', '10949', '140690', '9755', '55139', '5098', '1305', '3781', '6941', '90102', '92400', '339230', '9368', '22993', '23315', '7009', '2995', '4061', '10438', '9739', '7403', '51023', '10973', '55342', '11151', '80007', '5993', '5412', '402778', '2091', '9421', '53827', '55802', '3675', '8820', '282679', '80196', '54463']\n",
    "\n",
    "beta_fs = ['1026', '4680', '83468', '23242', '56034', '84141', '1825', '8204', '91947', '27324', '5325', '81792', '195814', '23052', '26136', '26103', '11227', '1294', '9966', '169834', '100129196', '100128098', '200159', '163183', '56925', '146713', '10653', '26080', '355', '5816', '3883', '283352', '8518', '857', '56180', '339976', '8125', '3400', '255743', '54221', '90161', '100506606', '51706', '400940', '79836', '3625', '144406', '9014', '7739', '11254', '83450', '9607', '339535', '119395', '412', '256764', '3859', '140886', '92421', '84152', '124093', '11136', '79083', '1795', '261734', '57732', '6558', '132430', '650794', '643616', '388698', '7045', '162494', '399949', '79822', '57619', '9615', '1509', '57787', '1365', '118426', '84692', '767', '5720', '100653022', '84752', '7803', '65059', '160857', '55286', '7369', '55752', '8418', '9369', '79602', '286827', '54716', '128025', '114788', '6662', '2203', '10962', '6502', '79166', '27342', '6764', '400566', '222696', '26577', '64208', '286530', '6319', '26164', '57001', '54545', '7103', '7070', '54935', '222962', '5172', '29988', '151278', '23464', '9488', '5617', '132321', '7403', '776', '586', '30009', '29761', '573', '1734', '7032', '10170', '4100', '79838', '2312', '57459', '27020', '57480', '148109', '56659', '5217', '9961', '54751', '3713', '162966', '283576', '5519', '92292', '4885', '285386', '130940', '79400', '339803', '54520', '306', '65983', '65055', '282980', '112942', '4065', '389289', '6566', '5342', '389932', '118430', '135152', '65109', '732253', '8521', '100292680', '9692', '91646', '642636', '282775', '57169', '9768', '6338', '8504', '140686', '57710', '164684', '55217', '81853', '729967', '83887', '6275', '131616', '51806', '10866', '256227', '10473', '339988', '30010', '55283', '50840', '9696', '9099', '9093', '135932', '26999', '4126', '10548', '84766', '116123', '3934', '7844', '7766', '54842', '203414', '2067', '285313', '55268', '100506530', '9514', '6457', '126661', '55425', '378828', '80727', '3069', '10551', '339210', '9289', '55297', '65990', '640', '51450', '3615', '196993', '11068', '404201', '7031', '170712', '64425', '996', '3157', '79776', '5927', '3741', '4660', '280665', '3767', '64651', '85509', '9757', '563', '4781', '27236', '8365', '100133319', '2566', '123041', '10265', '128486', '9532', '64843', '10628', '10010', '51146', '91120', '8349', '54682', '151176', '54457', '284083', '60509', '10742', '341676', '84525', '369', '1284', '4938', '4250', '7515', '6549', '7341', '339366', '7832', '6091', '63933', '10875', '4633', '100507670', '3875', '6422', '1293', '202333', '399665', '8975', '51010', '1832', '7762', '4905', '80144', '493869', '729', '799', '57150', '86', '84830', '5573', '250', '80237', '84319', '27101', '2259', '9245', '55076', '1462', '130560', '8828', '2799', '340252', '51660', '9806', '5982', '1290', '85016', '57546', '597', '25996', '6947', '401588', '79027', '6820', '8707', '286046', '5118', '117531', '79183', '285855', '5054', '79152', '51060', '80853', '400748', '6368', '285957', '10463', '4151', '7345', '284361', '84318', '51351', '100131510', '1434', '119710', '27122', '9754', '100505696', '1289', '54915', '81696', '140606', '6160', '653238', '400793', '2644', '7913', '140738', '2706', '1545', '80032', '8480', '22903', '94081', '4199', '375484', '90139', '3817', '154214', '2321', '388564', '57758', '307', '26227', '51738', '3422', '115106', '1308', '2196', '55607', '150005', '64782']"
   ],
   "metadata": {
    "collapsed": false,
    "pycharm": {
     "name": "#%%\n"
    }
   }
  },
  {
   "cell_type": "code",
   "execution_count": 44,
   "outputs": [],
   "source": [
    "def intersection(lst1, lst2):\n",
    "    lst3 = [value for value in lst1 if value in lst2]\n",
    "    return lst3\n",
    "\n",
    "def union(lst1, lst2):\n",
    "    lst3 = lst1 + lst2\n",
    "    return lst3"
   ],
   "metadata": {
    "collapsed": false,
    "pycharm": {
     "name": "#%%\n"
    }
   }
  },
  {
   "cell_type": "code",
   "execution_count": 45,
   "outputs": [],
   "source": [
    "unioned_list = union(alpha_fs, beta_fs)\n",
    "unioned_list = set(unioned_list)"
   ],
   "metadata": {
    "collapsed": false,
    "pycharm": {
     "name": "#%%\n"
    }
   }
  },
  {
   "cell_type": "code",
   "execution_count": 46,
   "outputs": [
    {
     "name": "stderr",
     "output_type": "stream",
     "text": [
      "C:\\Users\\sathy\\AppData\\Local\\Temp\\ipykernel_16580\\145540745.py:1: FutureWarning: Passing a set as an indexer is deprecated and will raise in a future version. Use a list instead.\n",
      "  final_fs = df[unioned_list]\n"
     ]
    },
    {
     "data": {
      "text/plain": "          400748      4600     54988      4071       6281     79187    286451  \\\n22rv1   3.813985  5.008528  3.777203  3.897228   8.535782  4.518365  8.727142   \n42mgba  4.328209  9.476205  3.928789  5.742350  11.588230  7.415620  7.921369   \n5637    4.141468  6.335814  4.094715  7.676902  11.285445  8.582634  7.731071   \n647v    4.038306  5.741745  3.948516  7.328930   9.734039  5.744358  9.080232   \n769p    3.861108  4.708816  4.074503  8.404842  10.335485  4.982753  8.182004   \n\n             799      1012     80144  ...    203414       5352      3298  \\\n22rv1   4.072049  3.325283  5.149849  ...  7.252612   8.666747  7.185426   \n42mgba  4.054362  8.761545  4.646218  ...  4.693453  11.320201  6.845489   \n5637    4.180572  7.801752  4.931270  ...  4.627684   8.645010  6.389862   \n647v    3.917579  3.626812  5.160213  ...  6.128594  11.830689  6.566767   \n769p    4.033512  3.520864  4.089410  ...  5.247956   7.704082  7.013700   \n\n           10001     56659      11331      5961     81858    131405    388531  \n22rv1   7.900103  3.624549  13.337412  4.845065  7.608831  3.929159  4.161264  \n42mgba  8.922553  3.786835  11.794656  4.392278  7.916898  4.216149  3.532084  \n5637    8.019061  4.043976  12.707056  4.207139  7.877962  4.022467  3.703214  \n647v    7.371528  3.759028  12.825325  4.827554  7.694416  4.256933  3.786416  \n769p    7.350536  3.893542  12.722240  4.359105  8.137625  4.185678  3.426637  \n\n[5 rows x 953 columns]",
      "text/html": "<div>\n<style scoped>\n    .dataframe tbody tr th:only-of-type {\n        vertical-align: middle;\n    }\n\n    .dataframe tbody tr th {\n        vertical-align: top;\n    }\n\n    .dataframe thead th {\n        text-align: right;\n    }\n</style>\n<table border=\"1\" class=\"dataframe\">\n  <thead>\n    <tr style=\"text-align: right;\">\n      <th></th>\n      <th>400748</th>\n      <th>4600</th>\n      <th>54988</th>\n      <th>4071</th>\n      <th>6281</th>\n      <th>79187</th>\n      <th>286451</th>\n      <th>799</th>\n      <th>1012</th>\n      <th>80144</th>\n      <th>...</th>\n      <th>203414</th>\n      <th>5352</th>\n      <th>3298</th>\n      <th>10001</th>\n      <th>56659</th>\n      <th>11331</th>\n      <th>5961</th>\n      <th>81858</th>\n      <th>131405</th>\n      <th>388531</th>\n    </tr>\n  </thead>\n  <tbody>\n    <tr>\n      <th>22rv1</th>\n      <td>3.813985</td>\n      <td>5.008528</td>\n      <td>3.777203</td>\n      <td>3.897228</td>\n      <td>8.535782</td>\n      <td>4.518365</td>\n      <td>8.727142</td>\n      <td>4.072049</td>\n      <td>3.325283</td>\n      <td>5.149849</td>\n      <td>...</td>\n      <td>7.252612</td>\n      <td>8.666747</td>\n      <td>7.185426</td>\n      <td>7.900103</td>\n      <td>3.624549</td>\n      <td>13.337412</td>\n      <td>4.845065</td>\n      <td>7.608831</td>\n      <td>3.929159</td>\n      <td>4.161264</td>\n    </tr>\n    <tr>\n      <th>42mgba</th>\n      <td>4.328209</td>\n      <td>9.476205</td>\n      <td>3.928789</td>\n      <td>5.742350</td>\n      <td>11.588230</td>\n      <td>7.415620</td>\n      <td>7.921369</td>\n      <td>4.054362</td>\n      <td>8.761545</td>\n      <td>4.646218</td>\n      <td>...</td>\n      <td>4.693453</td>\n      <td>11.320201</td>\n      <td>6.845489</td>\n      <td>8.922553</td>\n      <td>3.786835</td>\n      <td>11.794656</td>\n      <td>4.392278</td>\n      <td>7.916898</td>\n      <td>4.216149</td>\n      <td>3.532084</td>\n    </tr>\n    <tr>\n      <th>5637</th>\n      <td>4.141468</td>\n      <td>6.335814</td>\n      <td>4.094715</td>\n      <td>7.676902</td>\n      <td>11.285445</td>\n      <td>8.582634</td>\n      <td>7.731071</td>\n      <td>4.180572</td>\n      <td>7.801752</td>\n      <td>4.931270</td>\n      <td>...</td>\n      <td>4.627684</td>\n      <td>8.645010</td>\n      <td>6.389862</td>\n      <td>8.019061</td>\n      <td>4.043976</td>\n      <td>12.707056</td>\n      <td>4.207139</td>\n      <td>7.877962</td>\n      <td>4.022467</td>\n      <td>3.703214</td>\n    </tr>\n    <tr>\n      <th>647v</th>\n      <td>4.038306</td>\n      <td>5.741745</td>\n      <td>3.948516</td>\n      <td>7.328930</td>\n      <td>9.734039</td>\n      <td>5.744358</td>\n      <td>9.080232</td>\n      <td>3.917579</td>\n      <td>3.626812</td>\n      <td>5.160213</td>\n      <td>...</td>\n      <td>6.128594</td>\n      <td>11.830689</td>\n      <td>6.566767</td>\n      <td>7.371528</td>\n      <td>3.759028</td>\n      <td>12.825325</td>\n      <td>4.827554</td>\n      <td>7.694416</td>\n      <td>4.256933</td>\n      <td>3.786416</td>\n    </tr>\n    <tr>\n      <th>769p</th>\n      <td>3.861108</td>\n      <td>4.708816</td>\n      <td>4.074503</td>\n      <td>8.404842</td>\n      <td>10.335485</td>\n      <td>4.982753</td>\n      <td>8.182004</td>\n      <td>4.033512</td>\n      <td>3.520864</td>\n      <td>4.089410</td>\n      <td>...</td>\n      <td>5.247956</td>\n      <td>7.704082</td>\n      <td>7.013700</td>\n      <td>7.350536</td>\n      <td>3.893542</td>\n      <td>12.722240</td>\n      <td>4.359105</td>\n      <td>8.137625</td>\n      <td>4.185678</td>\n      <td>3.426637</td>\n    </tr>\n  </tbody>\n</table>\n<p>5 rows × 953 columns</p>\n</div>"
     },
     "execution_count": 46,
     "metadata": {},
     "output_type": "execute_result"
    }
   ],
   "source": [
    "final_fs = df[unioned_list]\n",
    "final_fs.head()"
   ],
   "metadata": {
    "collapsed": false,
    "pycharm": {
     "name": "#%%\n"
    }
   }
  },
  {
   "cell_type": "code",
   "execution_count": 47,
   "outputs": [],
   "source": [
    "# A parameter grid for bayesian Ridge\n",
    "params = {\n",
    "        'alpha_1': [0.1, 0.2, 0.3, 0.4, 0.5, 0.6, 0.7, 0.8, 0.9],\n",
    "        'alpha_2': [0.1, 0.2, 0.3, 0.4, 0.5, 0.6, 0.7, 0.8, 0.9],\n",
    "        'alpha_init': [0.1, 0.2, 0.3, 0.4, 0.5, 0.6, 0.7, 0.8, 0.9],\n",
    "        'lambda_1': [0.1, 0.2, 0.3, 0.4, 0.5, 0.6, 0.7, 0.8, 0.9],\n",
    "        'lambda_2': [0.1, 0.2, 0.3, 0.4, 0.5, 0.6, 0.7, 0.8, 0.9],\n",
    "        }\n",
    "\n",
    "# ['alpha_1', 'alpha_2', 'alpha_init', 'compute_score', 'copy_X', 'fit_intercept', 'lambda_1', 'lambda_2', 'lambda_init', 'n_iter', 'normalize', 'tol', 'verbose']."
   ],
   "metadata": {
    "collapsed": false,
    "pycharm": {
     "name": "#%%\n"
    }
   }
  },
  {
   "cell_type": "code",
   "execution_count": 48,
   "outputs": [
    {
     "data": {
      "text/plain": "              Alpha      Beta\nvmcub1     0.000007  2.575000\nsw403      0.291500  0.000056\nrerflcad2  0.123300  0.000031\nrh30       0.402000  2.376000\nsnu886     0.224700  1.014000",
      "text/html": "<div>\n<style scoped>\n    .dataframe tbody tr th:only-of-type {\n        vertical-align: middle;\n    }\n\n    .dataframe tbody tr th {\n        vertical-align: top;\n    }\n\n    .dataframe thead th {\n        text-align: right;\n    }\n</style>\n<table border=\"1\" class=\"dataframe\">\n  <thead>\n    <tr style=\"text-align: right;\">\n      <th></th>\n      <th>Alpha</th>\n      <th>Beta</th>\n    </tr>\n  </thead>\n  <tbody>\n    <tr>\n      <th>vmcub1</th>\n      <td>0.000007</td>\n      <td>2.575000</td>\n    </tr>\n    <tr>\n      <th>sw403</th>\n      <td>0.291500</td>\n      <td>0.000056</td>\n    </tr>\n    <tr>\n      <th>rerflcad2</th>\n      <td>0.123300</td>\n      <td>0.000031</td>\n    </tr>\n    <tr>\n      <th>rh30</th>\n      <td>0.402000</td>\n      <td>2.376000</td>\n    </tr>\n    <tr>\n      <th>snu886</th>\n      <td>0.224700</td>\n      <td>1.014000</td>\n    </tr>\n  </tbody>\n</table>\n</div>"
     },
     "execution_count": 48,
     "metadata": {},
     "output_type": "execute_result"
    }
   ],
   "source": [
    "x_train, x_test, y_train, y_test = train_test_split(final_fs, y_comb, test_size=0.1, random_state=7)\n",
    "y_train.head()"
   ],
   "metadata": {
    "collapsed": false,
    "pycharm": {
     "name": "#%%\n"
    }
   }
  },
  {
   "cell_type": "code",
   "execution_count": 49,
   "outputs": [
    {
     "name": "stdout",
     "output_type": "stream",
     "text": [
      "Fitting 15 folds for each of 1 candidates, totalling 15 fits\n"
     ]
    },
    {
     "ename": "ValueError",
     "evalue": "\nAll the 15 fits failed.\nIt is very likely that your model is misconfigured.\nYou can try to debug the error by setting error_score='raise'.\n\nBelow are more details about the failures:\n--------------------------------------------------------------------------------\n9 fits failed with the following error:\nTraceback (most recent call last):\n  File \"C:\\Users\\sathy\\OneDrive\\Documents\\GitHub\\GenomicLQ\\venv\\lib\\site-packages\\sklearn\\model_selection\\_validation.py\", line 686, in _fit_and_score\n    estimator.fit(X_train, y_train, **fit_params)\n  File \"C:\\Users\\sathy\\OneDrive\\Documents\\GitHub\\GenomicLQ\\venv\\lib\\site-packages\\sklearn\\linear_model\\_bayes.py\", line 240, in fit\n    X, y = self._validate_data(X, y, dtype=[np.float64, np.float32], y_numeric=True)\n  File \"C:\\Users\\sathy\\OneDrive\\Documents\\GitHub\\GenomicLQ\\venv\\lib\\site-packages\\sklearn\\base.py\", line 596, in _validate_data\n    X, y = check_X_y(X, y, **check_params)\n  File \"C:\\Users\\sathy\\OneDrive\\Documents\\GitHub\\GenomicLQ\\venv\\lib\\site-packages\\sklearn\\utils\\validation.py\", line 1090, in check_X_y\n    y = _check_y(y, multi_output=multi_output, y_numeric=y_numeric, estimator=estimator)\n  File \"C:\\Users\\sathy\\OneDrive\\Documents\\GitHub\\GenomicLQ\\venv\\lib\\site-packages\\sklearn\\utils\\validation.py\", line 1111, in _check_y\n    y = column_or_1d(y, warn=True)\n  File \"C:\\Users\\sathy\\OneDrive\\Documents\\GitHub\\GenomicLQ\\venv\\lib\\site-packages\\sklearn\\utils\\validation.py\", line 1156, in column_or_1d\n    raise ValueError(\nValueError: y should be a 1d array, got an array of shape (414, 2) instead.\n\n--------------------------------------------------------------------------------\n6 fits failed with the following error:\nTraceback (most recent call last):\n  File \"C:\\Users\\sathy\\OneDrive\\Documents\\GitHub\\GenomicLQ\\venv\\lib\\site-packages\\sklearn\\model_selection\\_validation.py\", line 686, in _fit_and_score\n    estimator.fit(X_train, y_train, **fit_params)\n  File \"C:\\Users\\sathy\\OneDrive\\Documents\\GitHub\\GenomicLQ\\venv\\lib\\site-packages\\sklearn\\linear_model\\_bayes.py\", line 240, in fit\n    X, y = self._validate_data(X, y, dtype=[np.float64, np.float32], y_numeric=True)\n  File \"C:\\Users\\sathy\\OneDrive\\Documents\\GitHub\\GenomicLQ\\venv\\lib\\site-packages\\sklearn\\base.py\", line 596, in _validate_data\n    X, y = check_X_y(X, y, **check_params)\n  File \"C:\\Users\\sathy\\OneDrive\\Documents\\GitHub\\GenomicLQ\\venv\\lib\\site-packages\\sklearn\\utils\\validation.py\", line 1090, in check_X_y\n    y = _check_y(y, multi_output=multi_output, y_numeric=y_numeric, estimator=estimator)\n  File \"C:\\Users\\sathy\\OneDrive\\Documents\\GitHub\\GenomicLQ\\venv\\lib\\site-packages\\sklearn\\utils\\validation.py\", line 1111, in _check_y\n    y = column_or_1d(y, warn=True)\n  File \"C:\\Users\\sathy\\OneDrive\\Documents\\GitHub\\GenomicLQ\\venv\\lib\\site-packages\\sklearn\\utils\\validation.py\", line 1156, in column_or_1d\n    raise ValueError(\nValueError: y should be a 1d array, got an array of shape (415, 2) instead.\n",
     "output_type": "error",
     "traceback": [
      "\u001B[1;31m---------------------------------------------------------------------------\u001B[0m",
      "\u001B[1;31mValueError\u001B[0m                                Traceback (most recent call last)",
      "File \u001B[1;32m<timed exec>:12\u001B[0m, in \u001B[0;36m<module>\u001B[1;34m\u001B[0m\n",
      "File \u001B[1;32m~\\OneDrive\\Documents\\GitHub\\GenomicLQ\\venv\\lib\\site-packages\\sklearn\\model_selection\\_search.py:875\u001B[0m, in \u001B[0;36mBaseSearchCV.fit\u001B[1;34m(self, X, y, groups, **fit_params)\u001B[0m\n\u001B[0;32m    869\u001B[0m     results \u001B[38;5;241m=\u001B[39m \u001B[38;5;28mself\u001B[39m\u001B[38;5;241m.\u001B[39m_format_results(\n\u001B[0;32m    870\u001B[0m         all_candidate_params, n_splits, all_out, all_more_results\n\u001B[0;32m    871\u001B[0m     )\n\u001B[0;32m    873\u001B[0m     \u001B[38;5;28;01mreturn\u001B[39;00m results\n\u001B[1;32m--> 875\u001B[0m \u001B[38;5;28;43mself\u001B[39;49m\u001B[38;5;241;43m.\u001B[39;49m\u001B[43m_run_search\u001B[49m\u001B[43m(\u001B[49m\u001B[43mevaluate_candidates\u001B[49m\u001B[43m)\u001B[49m\n\u001B[0;32m    877\u001B[0m \u001B[38;5;66;03m# multimetric is determined here because in the case of a callable\u001B[39;00m\n\u001B[0;32m    878\u001B[0m \u001B[38;5;66;03m# self.scoring the return type is only known after calling\u001B[39;00m\n\u001B[0;32m    879\u001B[0m first_test_score \u001B[38;5;241m=\u001B[39m all_out[\u001B[38;5;241m0\u001B[39m][\u001B[38;5;124m\"\u001B[39m\u001B[38;5;124mtest_scores\u001B[39m\u001B[38;5;124m\"\u001B[39m]\n",
      "File \u001B[1;32m~\\OneDrive\\Documents\\GitHub\\GenomicLQ\\venv\\lib\\site-packages\\sklearn\\model_selection\\_search.py:1749\u001B[0m, in \u001B[0;36mRandomizedSearchCV._run_search\u001B[1;34m(self, evaluate_candidates)\u001B[0m\n\u001B[0;32m   1747\u001B[0m \u001B[38;5;28;01mdef\u001B[39;00m \u001B[38;5;21m_run_search\u001B[39m(\u001B[38;5;28mself\u001B[39m, evaluate_candidates):\n\u001B[0;32m   1748\u001B[0m     \u001B[38;5;124;03m\"\"\"Search n_iter candidates from param_distributions\"\"\"\u001B[39;00m\n\u001B[1;32m-> 1749\u001B[0m     \u001B[43mevaluate_candidates\u001B[49m\u001B[43m(\u001B[49m\n\u001B[0;32m   1750\u001B[0m \u001B[43m        \u001B[49m\u001B[43mParameterSampler\u001B[49m\u001B[43m(\u001B[49m\n\u001B[0;32m   1751\u001B[0m \u001B[43m            \u001B[49m\u001B[38;5;28;43mself\u001B[39;49m\u001B[38;5;241;43m.\u001B[39;49m\u001B[43mparam_distributions\u001B[49m\u001B[43m,\u001B[49m\u001B[43m \u001B[49m\u001B[38;5;28;43mself\u001B[39;49m\u001B[38;5;241;43m.\u001B[39;49m\u001B[43mn_iter\u001B[49m\u001B[43m,\u001B[49m\u001B[43m \u001B[49m\u001B[43mrandom_state\u001B[49m\u001B[38;5;241;43m=\u001B[39;49m\u001B[38;5;28;43mself\u001B[39;49m\u001B[38;5;241;43m.\u001B[39;49m\u001B[43mrandom_state\u001B[49m\n\u001B[0;32m   1752\u001B[0m \u001B[43m        \u001B[49m\u001B[43m)\u001B[49m\n\u001B[0;32m   1753\u001B[0m \u001B[43m    \u001B[49m\u001B[43m)\u001B[49m\n",
      "File \u001B[1;32m~\\OneDrive\\Documents\\GitHub\\GenomicLQ\\venv\\lib\\site-packages\\sklearn\\model_selection\\_search.py:852\u001B[0m, in \u001B[0;36mBaseSearchCV.fit.<locals>.evaluate_candidates\u001B[1;34m(candidate_params, cv, more_results)\u001B[0m\n\u001B[0;32m    845\u001B[0m \u001B[38;5;28;01melif\u001B[39;00m \u001B[38;5;28mlen\u001B[39m(out) \u001B[38;5;241m!=\u001B[39m n_candidates \u001B[38;5;241m*\u001B[39m n_splits:\n\u001B[0;32m    846\u001B[0m     \u001B[38;5;28;01mraise\u001B[39;00m \u001B[38;5;167;01mValueError\u001B[39;00m(\n\u001B[0;32m    847\u001B[0m         \u001B[38;5;124m\"\u001B[39m\u001B[38;5;124mcv.split and cv.get_n_splits returned \u001B[39m\u001B[38;5;124m\"\u001B[39m\n\u001B[0;32m    848\u001B[0m         \u001B[38;5;124m\"\u001B[39m\u001B[38;5;124minconsistent results. Expected \u001B[39m\u001B[38;5;132;01m{}\u001B[39;00m\u001B[38;5;124m \u001B[39m\u001B[38;5;124m\"\u001B[39m\n\u001B[0;32m    849\u001B[0m         \u001B[38;5;124m\"\u001B[39m\u001B[38;5;124msplits, got \u001B[39m\u001B[38;5;132;01m{}\u001B[39;00m\u001B[38;5;124m\"\u001B[39m\u001B[38;5;241m.\u001B[39mformat(n_splits, \u001B[38;5;28mlen\u001B[39m(out) \u001B[38;5;241m/\u001B[39m\u001B[38;5;241m/\u001B[39m n_candidates)\n\u001B[0;32m    850\u001B[0m     )\n\u001B[1;32m--> 852\u001B[0m \u001B[43m_warn_or_raise_about_fit_failures\u001B[49m\u001B[43m(\u001B[49m\u001B[43mout\u001B[49m\u001B[43m,\u001B[49m\u001B[43m \u001B[49m\u001B[38;5;28;43mself\u001B[39;49m\u001B[38;5;241;43m.\u001B[39;49m\u001B[43merror_score\u001B[49m\u001B[43m)\u001B[49m\n\u001B[0;32m    854\u001B[0m \u001B[38;5;66;03m# For callable self.scoring, the return type is only know after\u001B[39;00m\n\u001B[0;32m    855\u001B[0m \u001B[38;5;66;03m# calling. If the return type is a dictionary, the error scores\u001B[39;00m\n\u001B[0;32m    856\u001B[0m \u001B[38;5;66;03m# can now be inserted with the correct key. The type checking\u001B[39;00m\n\u001B[0;32m    857\u001B[0m \u001B[38;5;66;03m# of out will be done in `_insert_error_scores`.\u001B[39;00m\n\u001B[0;32m    858\u001B[0m \u001B[38;5;28;01mif\u001B[39;00m callable(\u001B[38;5;28mself\u001B[39m\u001B[38;5;241m.\u001B[39mscoring):\n",
      "File \u001B[1;32m~\\OneDrive\\Documents\\GitHub\\GenomicLQ\\venv\\lib\\site-packages\\sklearn\\model_selection\\_validation.py:367\u001B[0m, in \u001B[0;36m_warn_or_raise_about_fit_failures\u001B[1;34m(results, error_score)\u001B[0m\n\u001B[0;32m    360\u001B[0m \u001B[38;5;28;01mif\u001B[39;00m num_failed_fits \u001B[38;5;241m==\u001B[39m num_fits:\n\u001B[0;32m    361\u001B[0m     all_fits_failed_message \u001B[38;5;241m=\u001B[39m (\n\u001B[0;32m    362\u001B[0m         \u001B[38;5;124mf\u001B[39m\u001B[38;5;124m\"\u001B[39m\u001B[38;5;130;01m\\n\u001B[39;00m\u001B[38;5;124mAll the \u001B[39m\u001B[38;5;132;01m{\u001B[39;00mnum_fits\u001B[38;5;132;01m}\u001B[39;00m\u001B[38;5;124m fits failed.\u001B[39m\u001B[38;5;130;01m\\n\u001B[39;00m\u001B[38;5;124m\"\u001B[39m\n\u001B[0;32m    363\u001B[0m         \u001B[38;5;124m\"\u001B[39m\u001B[38;5;124mIt is very likely that your model is misconfigured.\u001B[39m\u001B[38;5;130;01m\\n\u001B[39;00m\u001B[38;5;124m\"\u001B[39m\n\u001B[0;32m    364\u001B[0m         \u001B[38;5;124m\"\u001B[39m\u001B[38;5;124mYou can try to debug the error by setting error_score=\u001B[39m\u001B[38;5;124m'\u001B[39m\u001B[38;5;124mraise\u001B[39m\u001B[38;5;124m'\u001B[39m\u001B[38;5;124m.\u001B[39m\u001B[38;5;130;01m\\n\u001B[39;00m\u001B[38;5;130;01m\\n\u001B[39;00m\u001B[38;5;124m\"\u001B[39m\n\u001B[0;32m    365\u001B[0m         \u001B[38;5;124mf\u001B[39m\u001B[38;5;124m\"\u001B[39m\u001B[38;5;124mBelow are more details about the failures:\u001B[39m\u001B[38;5;130;01m\\n\u001B[39;00m\u001B[38;5;132;01m{\u001B[39;00mfit_errors_summary\u001B[38;5;132;01m}\u001B[39;00m\u001B[38;5;124m\"\u001B[39m\n\u001B[0;32m    366\u001B[0m     )\n\u001B[1;32m--> 367\u001B[0m     \u001B[38;5;28;01mraise\u001B[39;00m \u001B[38;5;167;01mValueError\u001B[39;00m(all_fits_failed_message)\n\u001B[0;32m    369\u001B[0m \u001B[38;5;28;01melse\u001B[39;00m:\n\u001B[0;32m    370\u001B[0m     some_fits_failed_message \u001B[38;5;241m=\u001B[39m (\n\u001B[0;32m    371\u001B[0m         \u001B[38;5;124mf\u001B[39m\u001B[38;5;124m\"\u001B[39m\u001B[38;5;130;01m\\n\u001B[39;00m\u001B[38;5;132;01m{\u001B[39;00mnum_failed_fits\u001B[38;5;132;01m}\u001B[39;00m\u001B[38;5;124m fits failed out of a total of \u001B[39m\u001B[38;5;132;01m{\u001B[39;00mnum_fits\u001B[38;5;132;01m}\u001B[39;00m\u001B[38;5;124m.\u001B[39m\u001B[38;5;130;01m\\n\u001B[39;00m\u001B[38;5;124m\"\u001B[39m\n\u001B[0;32m    372\u001B[0m         \u001B[38;5;124m\"\u001B[39m\u001B[38;5;124mThe score on these train-test partitions for these parameters\u001B[39m\u001B[38;5;124m\"\u001B[39m\n\u001B[1;32m   (...)\u001B[0m\n\u001B[0;32m    376\u001B[0m         \u001B[38;5;124mf\u001B[39m\u001B[38;5;124m\"\u001B[39m\u001B[38;5;124mBelow are more details about the failures:\u001B[39m\u001B[38;5;130;01m\\n\u001B[39;00m\u001B[38;5;132;01m{\u001B[39;00mfit_errors_summary\u001B[38;5;132;01m}\u001B[39;00m\u001B[38;5;124m\"\u001B[39m\n\u001B[0;32m    377\u001B[0m     )\n",
      "\u001B[1;31mValueError\u001B[0m: \nAll the 15 fits failed.\nIt is very likely that your model is misconfigured.\nYou can try to debug the error by setting error_score='raise'.\n\nBelow are more details about the failures:\n--------------------------------------------------------------------------------\n9 fits failed with the following error:\nTraceback (most recent call last):\n  File \"C:\\Users\\sathy\\OneDrive\\Documents\\GitHub\\GenomicLQ\\venv\\lib\\site-packages\\sklearn\\model_selection\\_validation.py\", line 686, in _fit_and_score\n    estimator.fit(X_train, y_train, **fit_params)\n  File \"C:\\Users\\sathy\\OneDrive\\Documents\\GitHub\\GenomicLQ\\venv\\lib\\site-packages\\sklearn\\linear_model\\_bayes.py\", line 240, in fit\n    X, y = self._validate_data(X, y, dtype=[np.float64, np.float32], y_numeric=True)\n  File \"C:\\Users\\sathy\\OneDrive\\Documents\\GitHub\\GenomicLQ\\venv\\lib\\site-packages\\sklearn\\base.py\", line 596, in _validate_data\n    X, y = check_X_y(X, y, **check_params)\n  File \"C:\\Users\\sathy\\OneDrive\\Documents\\GitHub\\GenomicLQ\\venv\\lib\\site-packages\\sklearn\\utils\\validation.py\", line 1090, in check_X_y\n    y = _check_y(y, multi_output=multi_output, y_numeric=y_numeric, estimator=estimator)\n  File \"C:\\Users\\sathy\\OneDrive\\Documents\\GitHub\\GenomicLQ\\venv\\lib\\site-packages\\sklearn\\utils\\validation.py\", line 1111, in _check_y\n    y = column_or_1d(y, warn=True)\n  File \"C:\\Users\\sathy\\OneDrive\\Documents\\GitHub\\GenomicLQ\\venv\\lib\\site-packages\\sklearn\\utils\\validation.py\", line 1156, in column_or_1d\n    raise ValueError(\nValueError: y should be a 1d array, got an array of shape (414, 2) instead.\n\n--------------------------------------------------------------------------------\n6 fits failed with the following error:\nTraceback (most recent call last):\n  File \"C:\\Users\\sathy\\OneDrive\\Documents\\GitHub\\GenomicLQ\\venv\\lib\\site-packages\\sklearn\\model_selection\\_validation.py\", line 686, in _fit_and_score\n    estimator.fit(X_train, y_train, **fit_params)\n  File \"C:\\Users\\sathy\\OneDrive\\Documents\\GitHub\\GenomicLQ\\venv\\lib\\site-packages\\sklearn\\linear_model\\_bayes.py\", line 240, in fit\n    X, y = self._validate_data(X, y, dtype=[np.float64, np.float32], y_numeric=True)\n  File \"C:\\Users\\sathy\\OneDrive\\Documents\\GitHub\\GenomicLQ\\venv\\lib\\site-packages\\sklearn\\base.py\", line 596, in _validate_data\n    X, y = check_X_y(X, y, **check_params)\n  File \"C:\\Users\\sathy\\OneDrive\\Documents\\GitHub\\GenomicLQ\\venv\\lib\\site-packages\\sklearn\\utils\\validation.py\", line 1090, in check_X_y\n    y = _check_y(y, multi_output=multi_output, y_numeric=y_numeric, estimator=estimator)\n  File \"C:\\Users\\sathy\\OneDrive\\Documents\\GitHub\\GenomicLQ\\venv\\lib\\site-packages\\sklearn\\utils\\validation.py\", line 1111, in _check_y\n    y = column_or_1d(y, warn=True)\n  File \"C:\\Users\\sathy\\OneDrive\\Documents\\GitHub\\GenomicLQ\\venv\\lib\\site-packages\\sklearn\\utils\\validation.py\", line 1156, in column_or_1d\n    raise ValueError(\nValueError: y should be a 1d array, got an array of shape (415, 2) instead.\n"
     ]
    }
   ],
   "source": [
    "%%time\n",
    "import time\n",
    "from sklearn.model_selection import RandomizedSearchCV\n",
    "folds = 3\n",
    "param_comb = 1\n",
    "\n",
    "model = BayesianRidge()\n",
    "\n",
    "random_search = RandomizedSearchCV(model, param_distributions=params, n_iter=param_comb, scoring='roc_auc', n_jobs=4, cv=15, verbose=3, random_state=1001)\n",
    "\n",
    "# Here we go\n",
    "start_time = time.time() # timing starts from this point for \"start_time\" variable\n",
    "random_search.fit(x_train, y_train)\n",
    "end_time = time.time()# timing ends here for \"start_time\" variable\n",
    "print(\"Time taken for RandomizedSearchCV: {} minutes\".format((end_time - start_time)/60))\n",
    "print(random_search.best_params_)"
   ],
   "metadata": {
    "collapsed": false,
    "pycharm": {
     "name": "#%%\n"
    }
   }
  },
  {
   "cell_type": "code",
   "execution_count": 49,
   "outputs": [],
   "source": [],
   "metadata": {
    "collapsed": false,
    "pycharm": {
     "name": "#%%\n"
    }
   }
  }
 ],
 "metadata": {
  "kernelspec": {
   "display_name": "Python 3",
   "language": "python",
   "name": "python3"
  },
  "language_info": {
   "codemirror_mode": {
    "name": "ipython",
    "version": 2
   },
   "file_extension": ".py",
   "mimetype": "text/x-python",
   "name": "python",
   "nbconvert_exporter": "python",
   "pygments_lexer": "ipython2",
   "version": "2.7.6"
  }
 },
 "nbformat": 4,
 "nbformat_minor": 0
}