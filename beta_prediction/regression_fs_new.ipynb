{
 "cells": [
  {
   "cell_type": "code",
   "execution_count": 35,
   "outputs": [],
   "source": [
    "import pandas as pd\n",
    "from sklearn.model_selection import train_test_split"
   ],
   "metadata": {
    "collapsed": false,
    "pycharm": {
     "name": "#%%\n"
    }
   }
  },
  {
   "cell_type": "code",
   "execution_count": 36,
   "outputs": [],
   "source": [
    "X = pd.read_csv('data/train_X_beta.csv', index_col=0)\n",
    "y = pd.read_csv('data/train_y_beta.csv', index_col=0)"
   ],
   "metadata": {
    "collapsed": false,
    "pycharm": {
     "name": "#%%\n"
    }
   }
  },
  {
   "cell_type": "code",
   "execution_count": 37,
   "outputs": [
    {
     "data": {
      "text/plain": "                1         2         9        10        12        13        14  \\\nhct15    3.500325  3.756189  7.506203  4.122036  4.173129  3.503203  9.268220   \njhh4     3.966084  3.634253  5.373000  4.021875  4.188665  3.537557  8.987120   \nsnu1105  5.987927  3.735161  6.718164  4.358988  4.054809  3.826454  8.876455   \nj82      4.717745  3.816445  8.329890  4.542543  4.443213  3.834258  8.612918   \ndang     4.099564  3.677475  7.171958  3.949591  3.837196  8.140680  8.946058   \n\n               15         16        18  ...  100628307  100630918  100631378  \\\nhct15    3.811040   9.685387  5.303841  ...   4.092048   5.094173   3.838323   \njhh4     3.523175   9.438923  3.700196  ...   4.178850   5.462230   3.554032   \nsnu1105  3.604815   9.886685  4.002146  ...   3.304983   4.850331   3.608216   \nj82      3.683737  10.086658  5.139002  ...   3.627550   5.375150   3.474723   \ndang     3.357206   9.466033  3.623898  ...   3.736106   5.234944   3.462128   \n\n         100642175  100652770  100652791  100653022  100689073  100689074  \\\nhct15     5.096992   4.676327   3.679293   4.231130   3.556815   3.419656   \njhh4      5.974853   4.540040   3.465602   4.179827   3.654634   6.282016   \nsnu1105   5.427099   4.660967   3.282270   4.358016   3.747160   3.373917   \nj82       4.517609   4.268056   3.476972   3.994838   3.683059   3.375735   \ndang      6.323425   4.947185   3.177413   3.775169   3.672165   3.733566   \n\n         100820829  \nhct15     5.074979  \njhh4      4.772049  \nsnu1105   5.400448  \nj82       5.427906  \ndang      7.274285  \n\n[5 rows x 18523 columns]",
      "text/html": "<div>\n<style scoped>\n    .dataframe tbody tr th:only-of-type {\n        vertical-align: middle;\n    }\n\n    .dataframe tbody tr th {\n        vertical-align: top;\n    }\n\n    .dataframe thead th {\n        text-align: right;\n    }\n</style>\n<table border=\"1\" class=\"dataframe\">\n  <thead>\n    <tr style=\"text-align: right;\">\n      <th></th>\n      <th>1</th>\n      <th>2</th>\n      <th>9</th>\n      <th>10</th>\n      <th>12</th>\n      <th>13</th>\n      <th>14</th>\n      <th>15</th>\n      <th>16</th>\n      <th>18</th>\n      <th>...</th>\n      <th>100628307</th>\n      <th>100630918</th>\n      <th>100631378</th>\n      <th>100642175</th>\n      <th>100652770</th>\n      <th>100652791</th>\n      <th>100653022</th>\n      <th>100689073</th>\n      <th>100689074</th>\n      <th>100820829</th>\n    </tr>\n  </thead>\n  <tbody>\n    <tr>\n      <th>hct15</th>\n      <td>3.500325</td>\n      <td>3.756189</td>\n      <td>7.506203</td>\n      <td>4.122036</td>\n      <td>4.173129</td>\n      <td>3.503203</td>\n      <td>9.268220</td>\n      <td>3.811040</td>\n      <td>9.685387</td>\n      <td>5.303841</td>\n      <td>...</td>\n      <td>4.092048</td>\n      <td>5.094173</td>\n      <td>3.838323</td>\n      <td>5.096992</td>\n      <td>4.676327</td>\n      <td>3.679293</td>\n      <td>4.231130</td>\n      <td>3.556815</td>\n      <td>3.419656</td>\n      <td>5.074979</td>\n    </tr>\n    <tr>\n      <th>jhh4</th>\n      <td>3.966084</td>\n      <td>3.634253</td>\n      <td>5.373000</td>\n      <td>4.021875</td>\n      <td>4.188665</td>\n      <td>3.537557</td>\n      <td>8.987120</td>\n      <td>3.523175</td>\n      <td>9.438923</td>\n      <td>3.700196</td>\n      <td>...</td>\n      <td>4.178850</td>\n      <td>5.462230</td>\n      <td>3.554032</td>\n      <td>5.974853</td>\n      <td>4.540040</td>\n      <td>3.465602</td>\n      <td>4.179827</td>\n      <td>3.654634</td>\n      <td>6.282016</td>\n      <td>4.772049</td>\n    </tr>\n    <tr>\n      <th>snu1105</th>\n      <td>5.987927</td>\n      <td>3.735161</td>\n      <td>6.718164</td>\n      <td>4.358988</td>\n      <td>4.054809</td>\n      <td>3.826454</td>\n      <td>8.876455</td>\n      <td>3.604815</td>\n      <td>9.886685</td>\n      <td>4.002146</td>\n      <td>...</td>\n      <td>3.304983</td>\n      <td>4.850331</td>\n      <td>3.608216</td>\n      <td>5.427099</td>\n      <td>4.660967</td>\n      <td>3.282270</td>\n      <td>4.358016</td>\n      <td>3.747160</td>\n      <td>3.373917</td>\n      <td>5.400448</td>\n    </tr>\n    <tr>\n      <th>j82</th>\n      <td>4.717745</td>\n      <td>3.816445</td>\n      <td>8.329890</td>\n      <td>4.542543</td>\n      <td>4.443213</td>\n      <td>3.834258</td>\n      <td>8.612918</td>\n      <td>3.683737</td>\n      <td>10.086658</td>\n      <td>5.139002</td>\n      <td>...</td>\n      <td>3.627550</td>\n      <td>5.375150</td>\n      <td>3.474723</td>\n      <td>4.517609</td>\n      <td>4.268056</td>\n      <td>3.476972</td>\n      <td>3.994838</td>\n      <td>3.683059</td>\n      <td>3.375735</td>\n      <td>5.427906</td>\n    </tr>\n    <tr>\n      <th>dang</th>\n      <td>4.099564</td>\n      <td>3.677475</td>\n      <td>7.171958</td>\n      <td>3.949591</td>\n      <td>3.837196</td>\n      <td>8.140680</td>\n      <td>8.946058</td>\n      <td>3.357206</td>\n      <td>9.466033</td>\n      <td>3.623898</td>\n      <td>...</td>\n      <td>3.736106</td>\n      <td>5.234944</td>\n      <td>3.462128</td>\n      <td>6.323425</td>\n      <td>4.947185</td>\n      <td>3.177413</td>\n      <td>3.775169</td>\n      <td>3.672165</td>\n      <td>3.733566</td>\n      <td>7.274285</td>\n    </tr>\n  </tbody>\n</table>\n<p>5 rows × 18523 columns</p>\n</div>"
     },
     "metadata": {},
     "output_type": "display_data"
    },
    {
     "data": {
      "text/plain": "             Beta\nhct15    0.000259\njhh4     0.020200\nsnu1105  0.006825\nj82      0.013340\ndang     0.034240",
      "text/html": "<div>\n<style scoped>\n    .dataframe tbody tr th:only-of-type {\n        vertical-align: middle;\n    }\n\n    .dataframe tbody tr th {\n        vertical-align: top;\n    }\n\n    .dataframe thead th {\n        text-align: right;\n    }\n</style>\n<table border=\"1\" class=\"dataframe\">\n  <thead>\n    <tr style=\"text-align: right;\">\n      <th></th>\n      <th>Beta</th>\n    </tr>\n  </thead>\n  <tbody>\n    <tr>\n      <th>hct15</th>\n      <td>0.000259</td>\n    </tr>\n    <tr>\n      <th>jhh4</th>\n      <td>0.020200</td>\n    </tr>\n    <tr>\n      <th>snu1105</th>\n      <td>0.006825</td>\n    </tr>\n    <tr>\n      <th>j82</th>\n      <td>0.013340</td>\n    </tr>\n    <tr>\n      <th>dang</th>\n      <td>0.034240</td>\n    </tr>\n  </tbody>\n</table>\n</div>"
     },
     "metadata": {},
     "output_type": "display_data"
    }
   ],
   "source": [
    "display(X.head())\n",
    "display(y.head())"
   ],
   "metadata": {
    "collapsed": false,
    "pycharm": {
     "name": "#%%\n"
    }
   }
  },
  {
   "cell_type": "code",
   "execution_count": 38,
   "outputs": [],
   "source": [
    "X_train, X_test, y_train, y_test = train_test_split(X, y, test_size=0.1, random_state=1)"
   ],
   "metadata": {
    "collapsed": false,
    "pycharm": {
     "name": "#%%\n"
    }
   }
  },
  {
   "cell_type": "code",
   "execution_count": null,
   "outputs": [],
   "source": [
    "# compare different numbers of features selected using mutual information\n",
    "from sklearn.datasets import make_regression\n",
    "from sklearn.model_selection import RepeatedKFold\n",
    "from sklearn.feature_selection import SelectKBest\n",
    "from sklearn.feature_selection import mutual_info_regression\n",
    "from sklearn.linear_model import LinearRegression\n",
    "from sklearn.pipeline import Pipeline\n",
    "from sklearn.model_selection import GridSearchCV\n",
    "# define the evaluation method\n",
    "cv = RepeatedKFold(n_splits=10, n_repeats=3, random_state=1)\n",
    "# define the pipeline to evaluate\n",
    "model = LinearRegression()\n",
    "fs = SelectKBest(score_func=mutual_info_regression)\n",
    "pipeline = Pipeline(steps=[('sel',fs), ('lr', model)])\n",
    "# define the grid\n",
    "grid = dict()\n",
    "grid['sel__k'] = [i for i in range(X.shape[1]-20, X.shape[1]+1)]\n",
    "# define the grid search\n",
    "search = GridSearchCV(pipeline, grid, scoring='neg_mean_squared_error', n_jobs=-1, cv=cv, verbose=2)\n",
    "# perform the search\n",
    "results = search.fit(X, y)\n",
    "# summarize best\n",
    "print('Best MAE: %.3f' % results.best_score_)\n",
    "print('Best Config: %s' % results.best_params_)\n",
    "# summarize all\n",
    "means = results.cv_results_['mean_test_score']\n",
    "params = results.cv_results_['params']\n",
    "for mean, param in zip(means, params):\n",
    "    print(\">%.3f with: %r\" % (mean, param))"
   ],
   "metadata": {
    "collapsed": false,
    "pycharm": {
     "name": "#%%\n"
    }
   }
  },
  {
   "cell_type": "code",
   "execution_count": null,
   "outputs": [],
   "source": [],
   "metadata": {
    "collapsed": false,
    "pycharm": {
     "name": "#%%\n"
    }
   }
  }
 ],
 "metadata": {
  "kernelspec": {
   "display_name": "Python 3",
   "language": "python",
   "name": "python3"
  },
  "language_info": {
   "codemirror_mode": {
    "name": "ipython",
    "version": 2
   },
   "file_extension": ".py",
   "mimetype": "text/x-python",
   "name": "python",
   "nbconvert_exporter": "python",
   "pygments_lexer": "ipython2",
   "version": "2.7.6"
  }
 },
 "nbformat": 4,
 "nbformat_minor": 0
}