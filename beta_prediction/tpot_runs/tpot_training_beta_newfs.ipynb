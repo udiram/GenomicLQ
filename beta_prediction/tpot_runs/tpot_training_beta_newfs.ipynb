{
 "cells": [
  {
   "cell_type": "code",
   "execution_count": 8,
   "outputs": [],
   "source": [
    "from tpot import TPOTRegressor\n",
    "from sklearn.metrics import r2_score\n",
    "import pandas as pd"
   ],
   "metadata": {
    "collapsed": false,
    "pycharm": {
     "name": "#%%\n"
    }
   }
  },
  {
   "cell_type": "code",
   "execution_count": 9,
   "outputs": [],
   "source": [
    "df_x = pd.read_csv('data/train_X_beta.csv', index_col=0)\n",
    "df_y = pd.read_csv('data/train_y_beta.csv', index_col=0)\n",
    "df_x_test = pd.read_csv('data/test_X_beta.csv', index_col=0)\n",
    "df_y_test = pd.read_csv('data/test_y_beta.csv', index_col=0)"
   ],
   "metadata": {
    "collapsed": false,
    "pycharm": {
     "name": "#%%\n"
    }
   }
  },
  {
   "cell_type": "code",
   "execution_count": 10,
   "outputs": [
    {
     "name": "stdout",
     "output_type": "stream",
     "text": [
      "(444, 675)\n",
      "(444, 1)\n"
     ]
    }
   ],
   "source": [
    "df_x = df_x[['283352', '56034', '4065', '4680', '355', '1825', '1026', '23242', '3859', '136', '5172', '256227', '8204', '255743', '119395', '9615', '643616', '26103', '84141', '56180', '56925', '26996', '57480', '162966', '10962', '170622', '4145', '503693', '339290', '573', '3625', '81792', '169834', '59272', '90141', '79083', '3856', '23052', '5325', '250', '9757', '1010', '135932', '7369', '120224', '10551', '285386', '10170', '200159', '286530', '55630', '100507178', '5480', '79822', '128025', '148109', '7739', '114569', '2203', '22873', '1294', '50852', '55752', '5816', '51626', '646962', '8418', '23767', '23237', '54545', '195814', '10653', '3883', '164284', '80759', '164684', '55966', '89792', '2737', '23563', '2181', '11153', '83450', '4660', '8518', '54737', '9369', '65059', '171177', '11227', '163183', '282980', '286272', '222962', '9607', '147746', '404201', '6048', '389932', '27039', '100505679', '6457', '2067', '10866', '6678', '286122', '9750', '4111', '9966', '120114', '5342', '590', '4833', '154214', '4118', '7515', '9692', '26999', '9411', '339803', '65055', '100128285', '352954', '261734', '282775', '118426', '4781', '22852', '26577', '3875', '399949', '79969', '767', '57546', '30009', '400566', '9488', '8386', '4033', '7424', '8777', '100128098', '338324', '114788', '3437', '151176', '2312', '27342', '64208', '389289', '7031', '4126', '388698', '100129196', '2697', '400940', '54457', '339874', '10548', '132299', '140597', '2644', '83887', '642587', '118430', '158314', '55250', '730', '1278', '81', '948', '148898', '9240', '834', '306', '563', '84692', '26080', '26266', '140609', '203414', '84152', '10845', '100292680', '5720', '84752', '29760', '1687', '2018', '2590', '80210', '116123', '284083', '23232', '2015', '100127950', '140686', '285533', '729', '6619', '9014', '9961', '54510', '6338', '54544', '254863', '9015', '7844', '280665', '100133319', '1345', '132660', '389840', '100131510', '55425', '9851', '27032', '1015', '5217', '51181', '57459', '80144', '100129175', '6422', '85236', '283576', '10010', '9099', '165904', '5125', '4938', '132430', '9532', '1519', '55297', '4311', '3767', '25806', '6590', '63926', '339535', '63933', '1734', '10403', '119467', '3817', '79152', '26136', '10938', '51460', '57001', '5573', '2170', '340156', '1795', '100129361', '50840', '7345', '9768', '79027', '7103', '9627', '10287', '6502', '79838', '23555', '5349', '79400', '158234', '84342', '8521', '642636', '5617', '285855', '100506530', '222487', '114900', '162967', '6865', '51315', '732253', '55532', '23677', '389206', '960', '10256', '91543', '3120', '8837', '5875', '55776', '8562', '26297', '4092', '6041', '7766', '56914', '57561', '4628', '57530', '79689', '412', '22828', '54926', '375484', '284353', '650794', '9310', '100129387', '369', '1499', '1577', '6563', '3400', '146712', '79148', '27324', '10644', '8535', '57369', '6662', '51450', '160857', '1605', '6368', '5646', '92292', '57169', '100506639', '147920', '3977', '116159', '2321', '7032', '79836', '6193', '29999', '128817', '81696', '414194', '27020', '9013', '10875', '5777', '8445', '2290', '9518', '119710', '23245', '28990', '51230', '84900', '51705', '2559', '7341', '493869', '100129195', '8828', '7205', '29114', '389834', '85509', '400793', '91862', '22903', '286676', '7696', '7263', '53944', '9122', '54221', '80157', '84278', '5468', '79183', '7549', '57732', '5138', '8477', '3615', '115106', '202333', '9180', '51337', '100506606', '100653022', '84830', '378828', '8365', '4072', '54020', '79170', '307', '26082', '57697', '117531', '6160', '29761', '54751', '139322', '50848', '23351', '753', '3123', '219347', '57634', '6764', '158471', '53834', '64423', '115361', '4199', '9294', '10884', '734', '100506119', '58495', '54360', '150005', '57758', '122786', '4100', '27077', '126661', '84300', '100270679', '1109', '168507', '653308', '7832', '126823', '1803', '7525', '23116', '57379', '25801', '280664', '8125', '57619', '136895', '8292', '84626', '57475', '55283', '29988', '971', '399670', '10198', '10911', '100507362', '374860', '1284', '151647', '23040', '143689', '51053', '55536', '64782', '146713', '339976', '259236', '4633', '53405', '81539', '142684', '8877', '5675', '1747', '55707', '3790', '56992', '283871', '192111', '10499', '9093', '148170', '51060', '3741', '9414', '857', '57150', '51010', '90871', '26227', '6005', '3908', '55601', '9684', '54807', '170062', '162494', '23378', '84525', '196993', '2523', '64108', '1846', '10406', '1938', '84777', '5324', '10656', '54716', '4241', '8970', '140886', '285753', '55225', '338651', '9223', '1365', '5965', '642', '100128927', '284346', '643677', '4354', '55125', '79940', '11261', '100506049', '3781', '2196', '2571', '3590', '341676', '124222', '493861', '27122', '81930', '1075', '145173', '222696', '170712', '26154', '54332', '80014', '687', '5924', '1308', '65078', '3363', '8480', '51233', '340252', '996', '84302', '9754', '285957', '1238', '151278', '207063', '84102', '373156', '10459', '149773', '11068', '79602', '84959', '125972', '339327', '51351', '135152', '219790', '9808', '310', '60492', '9097', '28983', '84557', '1293', '339456', '694', '140461', '64759', '91612', '5118', '80024', '27165', '6664', '8882', '84319', '51660', '653238', '89765', '112942', '776', '51058', '113246', '1591', '79888', '7673', '51734', '115207', '283471', '57710', '113540', '91574', '50862', '27443', '676', '196996', '5592', '6558', '431707', '28234', '27101', '79830', '23308', '23464', '140807', '8668', '100507297', '83544', '100505938', '4316', '55704', '9631', '84864', '123722', '54682', '640', '221091', '1468', '2566', '51530', '146225', '8546', '27236', '93517', '374987', '9135', '11341', '348327', '7409', '55571', '158158', '6091', '7403', '2259', '10811', '8673', '84779', '10140', '1016', '8707', '6507', '64425', '54766', '79633', '2355', '3775', '9997', '127943', '114800', '23613', '144108', '283078', '6542', '8675', '165055', '283651', '401588', '84503', '150590', '64112', '81848', '83732', '55314', '84167', '9656', '2794', '4773', '388564', '887']]\n",
    "print(df_x.shape)\n",
    "print(df_y.shape)"
   ],
   "metadata": {
    "collapsed": false,
    "pycharm": {
     "name": "#%%\n"
    }
   }
  },
  {
   "cell_type": "code",
   "execution_count": 11,
   "outputs": [
    {
     "data": {
      "text/plain": "            Beta\nhct15    0.02588\njhh4     2.02000\nsnu1105  0.68250\nj82      1.33400\ndang     3.42400",
      "text/html": "<div>\n<style scoped>\n    .dataframe tbody tr th:only-of-type {\n        vertical-align: middle;\n    }\n\n    .dataframe tbody tr th {\n        vertical-align: top;\n    }\n\n    .dataframe thead th {\n        text-align: right;\n    }\n</style>\n<table border=\"1\" class=\"dataframe\">\n  <thead>\n    <tr style=\"text-align: right;\">\n      <th></th>\n      <th>Beta</th>\n    </tr>\n  </thead>\n  <tbody>\n    <tr>\n      <th>hct15</th>\n      <td>0.02588</td>\n    </tr>\n    <tr>\n      <th>jhh4</th>\n      <td>2.02000</td>\n    </tr>\n    <tr>\n      <th>snu1105</th>\n      <td>0.68250</td>\n    </tr>\n    <tr>\n      <th>j82</th>\n      <td>1.33400</td>\n    </tr>\n    <tr>\n      <th>dang</th>\n      <td>3.42400</td>\n    </tr>\n  </tbody>\n</table>\n</div>"
     },
     "execution_count": 11,
     "metadata": {},
     "output_type": "execute_result"
    }
   ],
   "source": [
    "df_y['Beta'] = df_y['Beta'].apply(lambda x: x*100)\n",
    "df_y.head()"
   ],
   "metadata": {
    "collapsed": false,
    "pycharm": {
     "name": "#%%\n"
    }
   }
  },
  {
   "cell_type": "code",
   "execution_count": 12,
   "outputs": [
    {
     "data": {
      "text/plain": "Optimization Progress:   0%|          | 0/600 [00:00<?, ?pipeline/s]",
      "application/vnd.jupyter.widget-view+json": {
       "version_major": 2,
       "version_minor": 0,
       "model_id": "4871f24110bc46c8855d59bab84869ea"
      }
     },
     "metadata": {},
     "output_type": "display_data"
    },
    {
     "name": "stdout",
     "output_type": "stream",
     "text": [
      "\n",
      "Generation 1 - Current best internal CV score: -0.4839148911462709\n",
      "\n",
      "Generation 2 - Current best internal CV score: -0.4775086660707946\n",
      "\n",
      "Generation 3 - Current best internal CV score: -0.4775086660707946\n",
      "\n",
      "Generation 4 - Current best internal CV score: -0.4775086660707946\n",
      "\n",
      "Generation 5 - Current best internal CV score: -0.4775086660707946\n",
      "\n",
      "Best pipeline: XGBRegressor(LinearSVR(input_matrix, C=0.01, dual=False, epsilon=0.0001, loss=squared_epsilon_insensitive, tol=0.001), learning_rate=0.1, max_depth=3, min_child_weight=2, n_estimators=100, n_jobs=1, objective=reg:squarederror, subsample=0.7500000000000001, verbosity=0)\n"
     ]
    },
    {
     "ename": "ValueError",
     "evalue": "could not convert string to float: 'snu466'",
     "output_type": "error",
     "traceback": [
      "\u001B[1;31m---------------------------------------------------------------------------\u001B[0m",
      "\u001B[1;31mValueError\u001B[0m                                Traceback (most recent call last)",
      "File \u001B[1;32m<timed exec>:17\u001B[0m, in \u001B[0;36m<module>\u001B[1;34m\u001B[0m\n",
      "File \u001B[1;32m~\\Documents\\GitHub\\RadiationProject\\venv\\lib\\site-packages\\tpot\\base.py:1041\u001B[0m, in \u001B[0;36mTPOTBase.predict\u001B[1;34m(self, features)\u001B[0m\n\u001B[0;32m   1035\u001B[0m     \u001B[38;5;28;01mraise\u001B[39;00m \u001B[38;5;167;01mRuntimeError\u001B[39;00m(\n\u001B[0;32m   1036\u001B[0m         \u001B[38;5;124m\"\u001B[39m\u001B[38;5;124mA pipeline has not yet been optimized. Please call fit() first.\u001B[39m\u001B[38;5;124m\"\u001B[39m\n\u001B[0;32m   1037\u001B[0m     )\n\u001B[0;32m   1039\u001B[0m features \u001B[38;5;241m=\u001B[39m \u001B[38;5;28mself\u001B[39m\u001B[38;5;241m.\u001B[39m_check_dataset(features, target\u001B[38;5;241m=\u001B[39m\u001B[38;5;28;01mNone\u001B[39;00m, sample_weight\u001B[38;5;241m=\u001B[39m\u001B[38;5;28;01mNone\u001B[39;00m)\n\u001B[1;32m-> 1041\u001B[0m \u001B[38;5;28;01mreturn\u001B[39;00m \u001B[38;5;28;43mself\u001B[39;49m\u001B[38;5;241;43m.\u001B[39;49m\u001B[43mfitted_pipeline_\u001B[49m\u001B[38;5;241;43m.\u001B[39;49m\u001B[43mpredict\u001B[49m\u001B[43m(\u001B[49m\u001B[43mfeatures\u001B[49m\u001B[43m)\u001B[49m\n",
      "File \u001B[1;32m~\\Documents\\GitHub\\RadiationProject\\venv\\lib\\site-packages\\sklearn\\utils\\metaestimators.py:120\u001B[0m, in \u001B[0;36m_IffHasAttrDescriptor.__get__.<locals>.<lambda>\u001B[1;34m(*args, **kwargs)\u001B[0m\n\u001B[0;32m    117\u001B[0m         attrgetter(\u001B[38;5;28mself\u001B[39m\u001B[38;5;241m.\u001B[39mdelegate_names[\u001B[38;5;241m-\u001B[39m\u001B[38;5;241m1\u001B[39m])(obj)\n\u001B[0;32m    119\u001B[0m \u001B[38;5;66;03m# lambda, but not partial, allows help() to work with update_wrapper\u001B[39;00m\n\u001B[1;32m--> 120\u001B[0m out \u001B[38;5;241m=\u001B[39m \u001B[38;5;28;01mlambda\u001B[39;00m \u001B[38;5;241m*\u001B[39margs, \u001B[38;5;241m*\u001B[39m\u001B[38;5;241m*\u001B[39mkwargs: \u001B[38;5;28;43mself\u001B[39;49m\u001B[38;5;241;43m.\u001B[39;49m\u001B[43mfn\u001B[49m\u001B[43m(\u001B[49m\u001B[43mobj\u001B[49m\u001B[43m,\u001B[49m\u001B[43m \u001B[49m\u001B[38;5;241;43m*\u001B[39;49m\u001B[43margs\u001B[49m\u001B[43m,\u001B[49m\u001B[43m \u001B[49m\u001B[38;5;241;43m*\u001B[39;49m\u001B[38;5;241;43m*\u001B[39;49m\u001B[43mkwargs\u001B[49m\u001B[43m)\u001B[49m\n\u001B[0;32m    121\u001B[0m \u001B[38;5;66;03m# update the docstring of the returned function\u001B[39;00m\n\u001B[0;32m    122\u001B[0m update_wrapper(out, \u001B[38;5;28mself\u001B[39m\u001B[38;5;241m.\u001B[39mfn)\n",
      "File \u001B[1;32m~\\Documents\\GitHub\\RadiationProject\\venv\\lib\\site-packages\\sklearn\\pipeline.py:418\u001B[0m, in \u001B[0;36mPipeline.predict\u001B[1;34m(self, X, **predict_params)\u001B[0m\n\u001B[0;32m    416\u001B[0m Xt \u001B[38;5;241m=\u001B[39m X\n\u001B[0;32m    417\u001B[0m \u001B[38;5;28;01mfor\u001B[39;00m _, name, transform \u001B[38;5;129;01min\u001B[39;00m \u001B[38;5;28mself\u001B[39m\u001B[38;5;241m.\u001B[39m_iter(with_final\u001B[38;5;241m=\u001B[39m\u001B[38;5;28;01mFalse\u001B[39;00m):\n\u001B[1;32m--> 418\u001B[0m     Xt \u001B[38;5;241m=\u001B[39m \u001B[43mtransform\u001B[49m\u001B[38;5;241;43m.\u001B[39;49m\u001B[43mtransform\u001B[49m\u001B[43m(\u001B[49m\u001B[43mXt\u001B[49m\u001B[43m)\u001B[49m\n\u001B[0;32m    419\u001B[0m \u001B[38;5;28;01mreturn\u001B[39;00m \u001B[38;5;28mself\u001B[39m\u001B[38;5;241m.\u001B[39msteps[\u001B[38;5;241m-\u001B[39m\u001B[38;5;241m1\u001B[39m][\u001B[38;5;241m-\u001B[39m\u001B[38;5;241m1\u001B[39m]\u001B[38;5;241m.\u001B[39mpredict(Xt, \u001B[38;5;241m*\u001B[39m\u001B[38;5;241m*\u001B[39mpredict_params)\n",
      "File \u001B[1;32m~\\Documents\\GitHub\\RadiationProject\\venv\\lib\\site-packages\\tpot\\builtins\\stacking_estimator.py:83\u001B[0m, in \u001B[0;36mStackingEstimator.transform\u001B[1;34m(self, X)\u001B[0m\n\u001B[0;32m     70\u001B[0m \u001B[38;5;28;01mdef\u001B[39;00m \u001B[38;5;21mtransform\u001B[39m(\u001B[38;5;28mself\u001B[39m, X):\n\u001B[0;32m     71\u001B[0m     \u001B[38;5;124;03m\"\"\"Transform data by adding two synthetic feature(s).\u001B[39;00m\n\u001B[0;32m     72\u001B[0m \n\u001B[0;32m     73\u001B[0m \u001B[38;5;124;03m    Parameters\u001B[39;00m\n\u001B[1;32m   (...)\u001B[0m\n\u001B[0;32m     81\u001B[0m \u001B[38;5;124;03m        The transformed feature set.\u001B[39;00m\n\u001B[0;32m     82\u001B[0m \u001B[38;5;124;03m    \"\"\"\u001B[39;00m\n\u001B[1;32m---> 83\u001B[0m     X \u001B[38;5;241m=\u001B[39m \u001B[43mcheck_array\u001B[49m\u001B[43m(\u001B[49m\u001B[43mX\u001B[49m\u001B[43m)\u001B[49m\n\u001B[0;32m     84\u001B[0m     X_transformed \u001B[38;5;241m=\u001B[39m np\u001B[38;5;241m.\u001B[39mcopy(X)\n\u001B[0;32m     85\u001B[0m     \u001B[38;5;66;03m# add class probabilities as a synthetic feature\u001B[39;00m\n",
      "File \u001B[1;32m~\\Documents\\GitHub\\RadiationProject\\venv\\lib\\site-packages\\sklearn\\utils\\validation.py:63\u001B[0m, in \u001B[0;36m_deprecate_positional_args.<locals>._inner_deprecate_positional_args.<locals>.inner_f\u001B[1;34m(*args, **kwargs)\u001B[0m\n\u001B[0;32m     61\u001B[0m extra_args \u001B[38;5;241m=\u001B[39m \u001B[38;5;28mlen\u001B[39m(args) \u001B[38;5;241m-\u001B[39m \u001B[38;5;28mlen\u001B[39m(all_args)\n\u001B[0;32m     62\u001B[0m \u001B[38;5;28;01mif\u001B[39;00m extra_args \u001B[38;5;241m<\u001B[39m\u001B[38;5;241m=\u001B[39m \u001B[38;5;241m0\u001B[39m:\n\u001B[1;32m---> 63\u001B[0m     \u001B[38;5;28;01mreturn\u001B[39;00m \u001B[43mf\u001B[49m\u001B[43m(\u001B[49m\u001B[38;5;241;43m*\u001B[39;49m\u001B[43margs\u001B[49m\u001B[43m,\u001B[49m\u001B[43m \u001B[49m\u001B[38;5;241;43m*\u001B[39;49m\u001B[38;5;241;43m*\u001B[39;49m\u001B[43mkwargs\u001B[49m\u001B[43m)\u001B[49m\n\u001B[0;32m     65\u001B[0m \u001B[38;5;66;03m# extra_args > 0\u001B[39;00m\n\u001B[0;32m     66\u001B[0m args_msg \u001B[38;5;241m=\u001B[39m [\u001B[38;5;124m'\u001B[39m\u001B[38;5;132;01m{}\u001B[39;00m\u001B[38;5;124m=\u001B[39m\u001B[38;5;132;01m{}\u001B[39;00m\u001B[38;5;124m'\u001B[39m\u001B[38;5;241m.\u001B[39mformat(name, arg)\n\u001B[0;32m     67\u001B[0m             \u001B[38;5;28;01mfor\u001B[39;00m name, arg \u001B[38;5;129;01min\u001B[39;00m \u001B[38;5;28mzip\u001B[39m(kwonly_args[:extra_args],\n\u001B[0;32m     68\u001B[0m                                  args[\u001B[38;5;241m-\u001B[39mextra_args:])]\n",
      "File \u001B[1;32m~\\Documents\\GitHub\\RadiationProject\\venv\\lib\\site-packages\\sklearn\\utils\\validation.py:673\u001B[0m, in \u001B[0;36mcheck_array\u001B[1;34m(array, accept_sparse, accept_large_sparse, dtype, order, copy, force_all_finite, ensure_2d, allow_nd, ensure_min_samples, ensure_min_features, estimator)\u001B[0m\n\u001B[0;32m    671\u001B[0m         array \u001B[38;5;241m=\u001B[39m array\u001B[38;5;241m.\u001B[39mastype(dtype, casting\u001B[38;5;241m=\u001B[39m\u001B[38;5;124m\"\u001B[39m\u001B[38;5;124munsafe\u001B[39m\u001B[38;5;124m\"\u001B[39m, copy\u001B[38;5;241m=\u001B[39m\u001B[38;5;28;01mFalse\u001B[39;00m)\n\u001B[0;32m    672\u001B[0m     \u001B[38;5;28;01melse\u001B[39;00m:\n\u001B[1;32m--> 673\u001B[0m         array \u001B[38;5;241m=\u001B[39m \u001B[43mnp\u001B[49m\u001B[38;5;241;43m.\u001B[39;49m\u001B[43masarray\u001B[49m\u001B[43m(\u001B[49m\u001B[43marray\u001B[49m\u001B[43m,\u001B[49m\u001B[43m \u001B[49m\u001B[43morder\u001B[49m\u001B[38;5;241;43m=\u001B[39;49m\u001B[43morder\u001B[49m\u001B[43m,\u001B[49m\u001B[43m \u001B[49m\u001B[43mdtype\u001B[49m\u001B[38;5;241;43m=\u001B[39;49m\u001B[43mdtype\u001B[49m\u001B[43m)\u001B[49m\n\u001B[0;32m    674\u001B[0m \u001B[38;5;28;01mexcept\u001B[39;00m ComplexWarning \u001B[38;5;28;01mas\u001B[39;00m complex_warning:\n\u001B[0;32m    675\u001B[0m     \u001B[38;5;28;01mraise\u001B[39;00m \u001B[38;5;167;01mValueError\u001B[39;00m(\u001B[38;5;124m\"\u001B[39m\u001B[38;5;124mComplex data not supported\u001B[39m\u001B[38;5;130;01m\\n\u001B[39;00m\u001B[38;5;124m\"\u001B[39m\n\u001B[0;32m    676\u001B[0m                      \u001B[38;5;124m\"\u001B[39m\u001B[38;5;132;01m{}\u001B[39;00m\u001B[38;5;130;01m\\n\u001B[39;00m\u001B[38;5;124m\"\u001B[39m\u001B[38;5;241m.\u001B[39mformat(array)) \u001B[38;5;28;01mfrom\u001B[39;00m \u001B[38;5;21;01mcomplex_warning\u001B[39;00m\n",
      "File \u001B[1;32m~\\Documents\\GitHub\\RadiationProject\\venv\\lib\\site-packages\\pandas\\core\\generic.py:1781\u001B[0m, in \u001B[0;36mNDFrame.__array__\u001B[1;34m(self, dtype)\u001B[0m\n\u001B[0;32m   1780\u001B[0m \u001B[38;5;28;01mdef\u001B[39;00m \u001B[38;5;21m__array__\u001B[39m(\u001B[38;5;28mself\u001B[39m, dtype\u001B[38;5;241m=\u001B[39m\u001B[38;5;28;01mNone\u001B[39;00m) \u001B[38;5;241m-\u001B[39m\u001B[38;5;241m>\u001B[39m np\u001B[38;5;241m.\u001B[39mndarray:\n\u001B[1;32m-> 1781\u001B[0m     \u001B[38;5;28;01mreturn\u001B[39;00m \u001B[43mnp\u001B[49m\u001B[38;5;241;43m.\u001B[39;49m\u001B[43masarray\u001B[49m\u001B[43m(\u001B[49m\u001B[38;5;28;43mself\u001B[39;49m\u001B[38;5;241;43m.\u001B[39;49m\u001B[43m_values\u001B[49m\u001B[43m,\u001B[49m\u001B[43m \u001B[49m\u001B[43mdtype\u001B[49m\u001B[38;5;241;43m=\u001B[39;49m\u001B[43mdtype\u001B[49m\u001B[43m)\u001B[49m\n",
      "\u001B[1;31mValueError\u001B[0m: could not convert string to float: 'snu466'"
     ]
    }
   ],
   "source": [
    "%%time\n",
    "# TPOT setup\n",
    "GENERATIONS = 5\n",
    "POP_SIZE = 100\n",
    "CV = 3\n",
    "\n",
    "tpot = TPOTRegressor(\n",
    "    generations=GENERATIONS,\n",
    "    population_size=POP_SIZE,\n",
    "    random_state=123,\n",
    "    n_jobs=1, # cuML requires n_jobs=1\n",
    "    cv=CV,\n",
    "    verbosity=2,\n",
    ")\n",
    "\n",
    "tpot.fit(df_x, df_y['Beta'])\n",
    "\n",
    "preds = tpot.predict(df_x_test)/100\n",
    "print(r2_score(df_y_test, preds))"
   ],
   "metadata": {
    "collapsed": false,
    "pycharm": {
     "name": "#%%\n"
    }
   }
  },
  {
   "cell_type": "code",
   "execution_count": 13,
   "outputs": [
    {
     "name": "stdout",
     "output_type": "stream",
     "text": [
      "import numpy as np\n",
      "import pandas as pd\n",
      "from sklearn.model_selection import train_test_split\n",
      "from sklearn.pipeline import make_pipeline, make_union\n",
      "from sklearn.svm import LinearSVR\n",
      "from tpot.builtins import StackingEstimator\n",
      "from xgboost import XGBRegressor\n",
      "from tpot.export_utils import set_param_recursive\n",
      "\n",
      "# NOTE: Make sure that the outcome column is labeled 'target' in the data file\n",
      "tpot_data = pd.read_csv('PATH/TO/DATA/FILE', sep='COLUMN_SEPARATOR', dtype=np.float64)\n",
      "features = tpot_data.drop('target', axis=1)\n",
      "training_features, testing_features, training_target, testing_target = \\\n",
      "            train_test_split(features, tpot_data['target'], random_state=123)\n",
      "\n",
      "# Average CV score on the training set was: -0.4775086660707946\n",
      "exported_pipeline = make_pipeline(\n",
      "    StackingEstimator(estimator=LinearSVR(C=0.01, dual=False, epsilon=0.0001, loss=\"squared_epsilon_insensitive\", tol=0.001)),\n",
      "    XGBRegressor(learning_rate=0.1, max_depth=3, min_child_weight=2, n_estimators=100, n_jobs=1, objective=\"reg:squarederror\", subsample=0.7500000000000001, verbosity=0)\n",
      ")\n",
      "# Fix random state for all the steps in exported pipeline\n",
      "set_param_recursive(exported_pipeline.steps, 'random_state', 123)\n",
      "\n",
      "exported_pipeline.fit(training_features, training_target)\n",
      "results = exported_pipeline.predict(testing_features)\n",
      "\n"
     ]
    }
   ],
   "source": [
    "tpot.export('tpot_pipeline_new_beta_fs.py')\n",
    "print(tpot.export())"
   ],
   "metadata": {
    "collapsed": false,
    "pycharm": {
     "name": "#%%\n"
    }
   }
  },
  {
   "cell_type": "code",
   "execution_count": null,
   "outputs": [],
   "source": [],
   "metadata": {
    "collapsed": false,
    "pycharm": {
     "name": "#%%\n"
    }
   }
  }
 ],
 "metadata": {
  "kernelspec": {
   "display_name": "Python 3",
   "language": "python",
   "name": "python3"
  },
  "language_info": {
   "codemirror_mode": {
    "name": "ipython",
    "version": 2
   },
   "file_extension": ".py",
   "mimetype": "text/x-python",
   "name": "python",
   "nbconvert_exporter": "python",
   "pygments_lexer": "ipython2",
   "version": "2.7.6"
  }
 },
 "nbformat": 4,
 "nbformat_minor": 0
}