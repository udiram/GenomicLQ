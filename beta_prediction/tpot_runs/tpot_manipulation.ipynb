{
 "cells": [
  {
   "cell_type": "code",
   "execution_count": 1,
   "outputs": [],
   "source": [
    "import np as np\n",
    "from sklearn import preprocessing\n",
    "import numpy as np\n",
    "import pandas as pd\n",
    "import scipy\n",
    "import tpot.export_utils\n",
    "from sklearn.metrics import mean_squared_error as MSE\n",
    "from sklearn.model_selection import train_test_split\n",
    "from sklearn.pipeline import make_pipeline, make_union\n",
    "from sklearn.svm import LinearSVR\n",
    "from tpot.builtins import StackingEstimator\n",
    "from xgboost import XGBRegressor\n",
    "from tpot.export_utils import set_param_recursive\n",
    "import matplotlib.pyplot as plt\n",
    "import pickle\n",
    "min_max_scaler = preprocessing.MinMaxScaler()\n",
    "import joblib"
   ],
   "metadata": {
    "collapsed": false,
    "pycharm": {
     "name": "#%%\n"
    }
   }
  },
  {
   "cell_type": "code",
   "execution_count": 2,
   "outputs": [],
   "source": [
    "# NOTE: Make sure that the outcome column is labeled 'target' in the data file\n",
    "tpot_data = pd.read_csv('../data/cclebeta.csv', index_col=0)\n",
    "features = tpot_data[['1026', '4680', '83468', '23242', '56034', '84141', '1825', '8204', '91947', '27324', '5325', '81792', '195814', '23052', '26136', '26103', '11227', '1294', '9966', '169834', '100129196', '100128098', '200159', '163183', '56925', '146713', '10653', '26080', '355', '5816', '3883', '283352', '8518', '857', '56180', '339976', '8125', '3400', '255743', '54221', '90161', '100506606', '51706', '400940', '79836', '3625', '144406', '9014', '7739', '11254', '83450', '9607', '339535', '119395', '412', '256764', '3859', '140886', '92421', '84152', '124093', '11136', '79083', '1795', '261734', '57732', '6558', '132430', '650794', '643616', '388698', '7045', '162494', '399949', '79822', '57619', '9615', '1509', '57787', '1365', '118426', '84692', '767', '5720', '100653022', '84752', '7803', '65059', '160857', '55286', '7369', '55752', '8418', '9369', '79602', '286827', '54716', '128025', '114788', '6662', '2203', '10962', '6502', '79166', '27342', '6764', '400566', '222696', '26577', '64208', '286530', '6319', '26164', '57001', '54545', '7103', '7070', '54935', '222962', '5172', '29988', '151278', '23464', '9488', '5617', '132321', '7403', '776', '586', '30009', '29761', '573', '1734', '7032', '10170', '4100', '79838', '2312', '57459', '27020', '57480', '148109', '56659', '5217', '9961', '54751', '3713', '162966', '283576', '5519', '92292', '4885', '285386', '130940', '79400', '339803', '54520', '306', '65983', '65055', '282980', '112942', '4065', '389289', '6566', '5342', '389932', '118430', '135152', '65109', '732253', '8521', '100292680', '9692', '91646', '642636', '282775', '57169', '9768', '6338', '8504', '140686', '57710', '164684', '55217', '81853', '729967', '83887', '6275', '131616', '51806', '10866', '256227', '10473', '339988', '30010', '55283', '50840', '9696', '9099', '9093', '135932', '26999', '4126', '10548', '84766', '116123', '3934', '7844', '7766', '54842', '203414', '2067', '285313', '55268', '100506530', '9514', '6457', '126661', '55425', '378828', '80727', '3069', '10551', '339210', '9289', '55297', '65990', '640', '51450', '3615', '196993', '11068', '404201', '7031', '170712', '64425', '996', '3157', '79776', '5927', '3741', '4660', '280665', '3767', '64651', '85509', '9757', '563', '4781', '27236', '8365', '100133319', '2566', '123041', '10265', '128486', '9532', '64843', '10628', '10010', '51146', '91120', '8349', '54682', '151176', '54457', '284083', '60509', '10742', '341676', '84525', '369', '1284', '4938', '4250', '7515', '6549', '7341', '339366', '7832', '6091', '63933', '10875', '4633', '100507670', '3875', '6422', '1293', '202333', '399665', '8975', '51010', '1832', '7762', '4905', '80144', '493869', '729', '799', '57150', '86', '84830', '5573', '250', '80237', '84319', '27101', '2259', '9245', '55076', '1462', '130560', '8828', '2799', '340252', '51660', '9806', '5982', '1290', '85016', '57546', '597', '25996', '6947', '401588', '79027', '6820', '8707', '286046', '5118', '117531', '79183', '285855', '5054', '79152', '51060', '80853', '400748', '6368', '285957', '10463', '4151', '7345', '284361', '84318', '51351', '100131510', '1434', '119710', '27122', '9754', '100505696', '1289', '54915', '81696', '140606', '6160', '653238', '400793', '2644', '7913', '140738', '2706', '1545', '80032', '8480', '22903', '94081', '4199', '375484', '90139', '3817', '154214', '2321', '388564', '57758', '307', '26227', '51738', '3422', '115106', '1308', '2196', '55607', '150005', '64782']]\n",
    "training_features, testing_features, training_target, testing_target = \\\n",
    "            train_test_split(features, tpot_data['Beta'], random_state=123)"
   ],
   "metadata": {
    "collapsed": false,
    "pycharm": {
     "name": "#%%\n"
    }
   }
  },
  {
   "cell_type": "code",
   "execution_count": 3,
   "outputs": [],
   "source": [
    "training_features_minmax = min_max_scaler.fit_transform(training_features)\n",
    "# testing_features_minmax = min_max_scaler.transform(testing_features)\n"
   ],
   "metadata": {
    "collapsed": false,
    "pycharm": {
     "name": "#%%\n"
    }
   }
  },
  {
   "cell_type": "code",
   "execution_count": 4,
   "outputs": [],
   "source": [
    "# Average CV score on the training set was: -0.4775086660707946\n",
    "exported_pipeline = make_pipeline(\n",
    "    StackingEstimator(estimator=LinearSVR(C=0.01, dual=False, epsilon=0.0001, loss=\"squared_epsilon_insensitive\", tol=0.001)),\n",
    "    XGBRegressor(learning_rate=0.1, max_depth=3, min_child_weight=2, n_estimators=100, n_jobs=1, objective=\"reg:squarederror\", subsample=0.7500000000000001, verbosity=0)\n",
    ")"
   ],
   "metadata": {
    "collapsed": false,
    "pycharm": {
     "name": "#%%\n"
    }
   }
  },
  {
   "cell_type": "code",
   "execution_count": 5,
   "outputs": [],
   "source": [
    "# Fix random state for all the steps in exported pipeline\n",
    "set_param_recursive(exported_pipeline.steps, 'random_state', 123)"
   ],
   "metadata": {
    "collapsed": false,
    "pycharm": {
     "name": "#%%\n"
    }
   }
  },
  {
   "cell_type": "code",
   "execution_count": 6,
   "outputs": [
    {
     "name": "stderr",
     "output_type": "stream",
     "text": [
      "C:\\Users\\Udi\\Documents\\GitHub\\RadiationProject\\venv\\lib\\site-packages\\sklearn\\base.py:450: UserWarning: X does not have valid feature names, but LinearSVR was fitted with feature names\n",
      "  warnings.warn(\n"
     ]
    },
    {
     "data": {
      "text/plain": "Pipeline(steps=[('stackingestimator',\n                 StackingEstimator(estimator=LinearSVR(C=0.01, dual=False,\n                                                       epsilon=0.0001,\n                                                       loss='squared_epsilon_insensitive',\n                                                       random_state=123,\n                                                       tol=0.001))),\n                ('xgbregressor',\n                 XGBRegressor(base_score=0.5, booster='gbtree', callbacks=None,\n                              colsample_bylevel=1, colsample_bynode=1,\n                              colsample_bytree=1, early_stopping_rounds=None,\n                              enable_categoric...\n                              gamma=0, gpu_id=-1, grow_policy='depthwise',\n                              importance_type=None, interaction_constraints='',\n                              learning_rate=0.1, max_bin=256,\n                              max_cat_to_onehot=4, max_delta_step=0,\n                              max_depth=3, max_leaves=0, min_child_weight=2,\n                              missing=nan, monotone_constraints='()',\n                              n_estimators=100, n_jobs=1, num_parallel_tree=1,\n                              predictor='auto', random_state=123, reg_alpha=0,\n                              reg_lambda=1, ...))])",
      "text/html": "<style>#sk-container-id-1 {color: black;background-color: white;}#sk-container-id-1 pre{padding: 0;}#sk-container-id-1 div.sk-toggleable {background-color: white;}#sk-container-id-1 label.sk-toggleable__label {cursor: pointer;display: block;width: 100%;margin-bottom: 0;padding: 0.3em;box-sizing: border-box;text-align: center;}#sk-container-id-1 label.sk-toggleable__label-arrow:before {content: \"▸\";float: left;margin-right: 0.25em;color: #696969;}#sk-container-id-1 label.sk-toggleable__label-arrow:hover:before {color: black;}#sk-container-id-1 div.sk-estimator:hover label.sk-toggleable__label-arrow:before {color: black;}#sk-container-id-1 div.sk-toggleable__content {max-height: 0;max-width: 0;overflow: hidden;text-align: left;background-color: #f0f8ff;}#sk-container-id-1 div.sk-toggleable__content pre {margin: 0.2em;color: black;border-radius: 0.25em;background-color: #f0f8ff;}#sk-container-id-1 input.sk-toggleable__control:checked~div.sk-toggleable__content {max-height: 200px;max-width: 100%;overflow: auto;}#sk-container-id-1 input.sk-toggleable__control:checked~label.sk-toggleable__label-arrow:before {content: \"▾\";}#sk-container-id-1 div.sk-estimator input.sk-toggleable__control:checked~label.sk-toggleable__label {background-color: #d4ebff;}#sk-container-id-1 div.sk-label input.sk-toggleable__control:checked~label.sk-toggleable__label {background-color: #d4ebff;}#sk-container-id-1 input.sk-hidden--visually {border: 0;clip: rect(1px 1px 1px 1px);clip: rect(1px, 1px, 1px, 1px);height: 1px;margin: -1px;overflow: hidden;padding: 0;position: absolute;width: 1px;}#sk-container-id-1 div.sk-estimator {font-family: monospace;background-color: #f0f8ff;border: 1px dotted black;border-radius: 0.25em;box-sizing: border-box;margin-bottom: 0.5em;}#sk-container-id-1 div.sk-estimator:hover {background-color: #d4ebff;}#sk-container-id-1 div.sk-parallel-item::after {content: \"\";width: 100%;border-bottom: 1px solid gray;flex-grow: 1;}#sk-container-id-1 div.sk-label:hover label.sk-toggleable__label {background-color: #d4ebff;}#sk-container-id-1 div.sk-serial::before {content: \"\";position: absolute;border-left: 1px solid gray;box-sizing: border-box;top: 0;bottom: 0;left: 50%;z-index: 0;}#sk-container-id-1 div.sk-serial {display: flex;flex-direction: column;align-items: center;background-color: white;padding-right: 0.2em;padding-left: 0.2em;position: relative;}#sk-container-id-1 div.sk-item {position: relative;z-index: 1;}#sk-container-id-1 div.sk-parallel {display: flex;align-items: stretch;justify-content: center;background-color: white;position: relative;}#sk-container-id-1 div.sk-item::before, #sk-container-id-1 div.sk-parallel-item::before {content: \"\";position: absolute;border-left: 1px solid gray;box-sizing: border-box;top: 0;bottom: 0;left: 50%;z-index: -1;}#sk-container-id-1 div.sk-parallel-item {display: flex;flex-direction: column;z-index: 1;position: relative;background-color: white;}#sk-container-id-1 div.sk-parallel-item:first-child::after {align-self: flex-end;width: 50%;}#sk-container-id-1 div.sk-parallel-item:last-child::after {align-self: flex-start;width: 50%;}#sk-container-id-1 div.sk-parallel-item:only-child::after {width: 0;}#sk-container-id-1 div.sk-dashed-wrapped {border: 1px dashed gray;margin: 0 0.4em 0.5em 0.4em;box-sizing: border-box;padding-bottom: 0.4em;background-color: white;}#sk-container-id-1 div.sk-label label {font-family: monospace;font-weight: bold;display: inline-block;line-height: 1.2em;}#sk-container-id-1 div.sk-label-container {text-align: center;}#sk-container-id-1 div.sk-container {/* jupyter's `normalize.less` sets `[hidden] { display: none; }` but bootstrap.min.css set `[hidden] { display: none !important; }` so we also need the `!important` here to be able to override the default hidden behavior on the sphinx rendered scikit-learn.org. See: https://github.com/scikit-learn/scikit-learn/issues/21755 */display: inline-block !important;position: relative;}#sk-container-id-1 div.sk-text-repr-fallback {display: none;}</style><div id=\"sk-container-id-1\" class=\"sk-top-container\"><div class=\"sk-text-repr-fallback\"><pre>Pipeline(steps=[(&#x27;stackingestimator&#x27;,\n                 StackingEstimator(estimator=LinearSVR(C=0.01, dual=False,\n                                                       epsilon=0.0001,\n                                                       loss=&#x27;squared_epsilon_insensitive&#x27;,\n                                                       random_state=123,\n                                                       tol=0.001))),\n                (&#x27;xgbregressor&#x27;,\n                 XGBRegressor(base_score=0.5, booster=&#x27;gbtree&#x27;, callbacks=None,\n                              colsample_bylevel=1, colsample_bynode=1,\n                              colsample_bytree=1, early_stopping_rounds=None,\n                              enable_categoric...\n                              gamma=0, gpu_id=-1, grow_policy=&#x27;depthwise&#x27;,\n                              importance_type=None, interaction_constraints=&#x27;&#x27;,\n                              learning_rate=0.1, max_bin=256,\n                              max_cat_to_onehot=4, max_delta_step=0,\n                              max_depth=3, max_leaves=0, min_child_weight=2,\n                              missing=nan, monotone_constraints=&#x27;()&#x27;,\n                              n_estimators=100, n_jobs=1, num_parallel_tree=1,\n                              predictor=&#x27;auto&#x27;, random_state=123, reg_alpha=0,\n                              reg_lambda=1, ...))])</pre><b>In a Jupyter environment, please rerun this cell to show the HTML representation or trust the notebook. <br />On GitHub, the HTML representation is unable to render, please try loading this page with nbviewer.org.</b></div><div class=\"sk-container\" hidden><div class=\"sk-item sk-dashed-wrapped\"><div class=\"sk-label-container\"><div class=\"sk-label sk-toggleable\"><input class=\"sk-toggleable__control sk-hidden--visually\" id=\"sk-estimator-id-1\" type=\"checkbox\" ><label for=\"sk-estimator-id-1\" class=\"sk-toggleable__label sk-toggleable__label-arrow\">Pipeline</label><div class=\"sk-toggleable__content\"><pre>Pipeline(steps=[(&#x27;stackingestimator&#x27;,\n                 StackingEstimator(estimator=LinearSVR(C=0.01, dual=False,\n                                                       epsilon=0.0001,\n                                                       loss=&#x27;squared_epsilon_insensitive&#x27;,\n                                                       random_state=123,\n                                                       tol=0.001))),\n                (&#x27;xgbregressor&#x27;,\n                 XGBRegressor(base_score=0.5, booster=&#x27;gbtree&#x27;, callbacks=None,\n                              colsample_bylevel=1, colsample_bynode=1,\n                              colsample_bytree=1, early_stopping_rounds=None,\n                              enable_categoric...\n                              gamma=0, gpu_id=-1, grow_policy=&#x27;depthwise&#x27;,\n                              importance_type=None, interaction_constraints=&#x27;&#x27;,\n                              learning_rate=0.1, max_bin=256,\n                              max_cat_to_onehot=4, max_delta_step=0,\n                              max_depth=3, max_leaves=0, min_child_weight=2,\n                              missing=nan, monotone_constraints=&#x27;()&#x27;,\n                              n_estimators=100, n_jobs=1, num_parallel_tree=1,\n                              predictor=&#x27;auto&#x27;, random_state=123, reg_alpha=0,\n                              reg_lambda=1, ...))])</pre></div></div></div><div class=\"sk-serial\"><div class=\"sk-item sk-dashed-wrapped\"><div class=\"sk-label-container\"><div class=\"sk-label sk-toggleable\"><input class=\"sk-toggleable__control sk-hidden--visually\" id=\"sk-estimator-id-2\" type=\"checkbox\" ><label for=\"sk-estimator-id-2\" class=\"sk-toggleable__label sk-toggleable__label-arrow\">stackingestimator: StackingEstimator</label><div class=\"sk-toggleable__content\"><pre>StackingEstimator(estimator=LinearSVR(C=0.01, dual=False, epsilon=0.0001,\n                                      loss=&#x27;squared_epsilon_insensitive&#x27;,\n                                      random_state=123, tol=0.001))</pre></div></div></div><div class=\"sk-parallel\"><div class=\"sk-parallel-item\"><div class=\"sk-item\"><div class=\"sk-label-container\"><div class=\"sk-label sk-toggleable\"><input class=\"sk-toggleable__control sk-hidden--visually\" id=\"sk-estimator-id-3\" type=\"checkbox\" ><label for=\"sk-estimator-id-3\" class=\"sk-toggleable__label sk-toggleable__label-arrow\">estimator: LinearSVR</label><div class=\"sk-toggleable__content\"><pre>LinearSVR(C=0.01, dual=False, epsilon=0.0001,\n          loss=&#x27;squared_epsilon_insensitive&#x27;, random_state=123, tol=0.001)</pre></div></div></div><div class=\"sk-serial\"><div class=\"sk-item\"><div class=\"sk-estimator sk-toggleable\"><input class=\"sk-toggleable__control sk-hidden--visually\" id=\"sk-estimator-id-4\" type=\"checkbox\" ><label for=\"sk-estimator-id-4\" class=\"sk-toggleable__label sk-toggleable__label-arrow\">LinearSVR</label><div class=\"sk-toggleable__content\"><pre>LinearSVR(C=0.01, dual=False, epsilon=0.0001,\n          loss=&#x27;squared_epsilon_insensitive&#x27;, random_state=123, tol=0.001)</pre></div></div></div></div></div></div></div></div><div class=\"sk-item\"><div class=\"sk-estimator sk-toggleable\"><input class=\"sk-toggleable__control sk-hidden--visually\" id=\"sk-estimator-id-5\" type=\"checkbox\" ><label for=\"sk-estimator-id-5\" class=\"sk-toggleable__label sk-toggleable__label-arrow\">XGBRegressor</label><div class=\"sk-toggleable__content\"><pre>XGBRegressor(base_score=0.5, booster=&#x27;gbtree&#x27;, callbacks=None,\n             colsample_bylevel=1, colsample_bynode=1, colsample_bytree=1,\n             early_stopping_rounds=None, enable_categorical=False,\n             eval_metric=None, gamma=0, gpu_id=-1, grow_policy=&#x27;depthwise&#x27;,\n             importance_type=None, interaction_constraints=&#x27;&#x27;,\n             learning_rate=0.1, max_bin=256, max_cat_to_onehot=4,\n             max_delta_step=0, max_depth=3, max_leaves=0, min_child_weight=2,\n             missing=nan, monotone_constraints=&#x27;()&#x27;, n_estimators=100, n_jobs=1,\n             num_parallel_tree=1, predictor=&#x27;auto&#x27;, random_state=123,\n             reg_alpha=0, reg_lambda=1, ...)</pre></div></div></div></div></div></div></div>"
     },
     "execution_count": 6,
     "metadata": {},
     "output_type": "execute_result"
    }
   ],
   "source": [
    "exported_pipeline.fit(training_features, training_target)"
   ],
   "metadata": {
    "collapsed": false,
    "pycharm": {
     "name": "#%%\n"
    }
   }
  },
  {
   "cell_type": "code",
   "execution_count": 7,
   "outputs": [
    {
     "name": "stdout",
     "output_type": "stream",
     "text": [
      "<class 'pandas.core.frame.DataFrame'>\n"
     ]
    },
    {
     "data": {
      "text/plain": "             1026       4680     83468     23242     56034      84141  \\\nsnu466  10.905571   4.557559  4.464759  7.625452  8.716644  10.336776   \ncov644   7.788872  10.479647  3.929805  9.058193  6.781435   3.552589   \nnb1      9.431411   4.716503  4.046382  4.307312  3.515094   3.781411   \nlk2      7.069748   9.643423  3.869814  5.487356  7.246310   3.824297   \nnugc3    7.801929   6.754689  3.781120  4.914291  7.237895   6.017430   \n\n            1825       8204      91947     27324  ...      26227     51738  \\\nsnu466  3.938341   7.737642  10.185589  3.758897  ...   7.739898  4.111759   \ncov644  3.669122   8.536770   9.653811  5.681910  ...   9.109744  4.089347   \nnb1     3.705866  10.078446   6.020789  3.673599  ...  10.924928  3.979720   \nlk2     6.095713   8.945462   7.045600  7.676919  ...  10.466793  4.099561   \nnugc3   3.849368  10.287647   7.625267  3.541558  ...   8.628049  4.243885   \n\n             3422     115106      1308      2196     55607    150005  \\\nsnu466   9.095239   9.078005  3.749954  3.918545  4.588412  3.458571   \ncov644  10.522300   8.721195  3.750699  3.931869  5.350536  3.436505   \nnb1      9.425908  10.248016  3.813228  3.850815  5.744069  3.377917   \nlk2      9.677686  10.530296  3.895151  3.915174  6.173705  3.286896   \nnugc3   10.085004  10.881296  3.965721  3.739505  6.377673  3.700046   \n\n           64782          Beta  \nsnu466  8.228588  4.671000e-07  \ncov644  7.811748  3.111000e-07  \nnb1     8.106103  8.682000e-08  \nlk2     8.195454  2.147000e-02  \nnugc3   7.273231  1.617000e-08  \n\n[5 rows x 388 columns]",
      "text/html": "<div>\n<style scoped>\n    .dataframe tbody tr th:only-of-type {\n        vertical-align: middle;\n    }\n\n    .dataframe tbody tr th {\n        vertical-align: top;\n    }\n\n    .dataframe thead th {\n        text-align: right;\n    }\n</style>\n<table border=\"1\" class=\"dataframe\">\n  <thead>\n    <tr style=\"text-align: right;\">\n      <th></th>\n      <th>1026</th>\n      <th>4680</th>\n      <th>83468</th>\n      <th>23242</th>\n      <th>56034</th>\n      <th>84141</th>\n      <th>1825</th>\n      <th>8204</th>\n      <th>91947</th>\n      <th>27324</th>\n      <th>...</th>\n      <th>26227</th>\n      <th>51738</th>\n      <th>3422</th>\n      <th>115106</th>\n      <th>1308</th>\n      <th>2196</th>\n      <th>55607</th>\n      <th>150005</th>\n      <th>64782</th>\n      <th>Beta</th>\n    </tr>\n  </thead>\n  <tbody>\n    <tr>\n      <th>snu466</th>\n      <td>10.905571</td>\n      <td>4.557559</td>\n      <td>4.464759</td>\n      <td>7.625452</td>\n      <td>8.716644</td>\n      <td>10.336776</td>\n      <td>3.938341</td>\n      <td>7.737642</td>\n      <td>10.185589</td>\n      <td>3.758897</td>\n      <td>...</td>\n      <td>7.739898</td>\n      <td>4.111759</td>\n      <td>9.095239</td>\n      <td>9.078005</td>\n      <td>3.749954</td>\n      <td>3.918545</td>\n      <td>4.588412</td>\n      <td>3.458571</td>\n      <td>8.228588</td>\n      <td>4.671000e-07</td>\n    </tr>\n    <tr>\n      <th>cov644</th>\n      <td>7.788872</td>\n      <td>10.479647</td>\n      <td>3.929805</td>\n      <td>9.058193</td>\n      <td>6.781435</td>\n      <td>3.552589</td>\n      <td>3.669122</td>\n      <td>8.536770</td>\n      <td>9.653811</td>\n      <td>5.681910</td>\n      <td>...</td>\n      <td>9.109744</td>\n      <td>4.089347</td>\n      <td>10.522300</td>\n      <td>8.721195</td>\n      <td>3.750699</td>\n      <td>3.931869</td>\n      <td>5.350536</td>\n      <td>3.436505</td>\n      <td>7.811748</td>\n      <td>3.111000e-07</td>\n    </tr>\n    <tr>\n      <th>nb1</th>\n      <td>9.431411</td>\n      <td>4.716503</td>\n      <td>4.046382</td>\n      <td>4.307312</td>\n      <td>3.515094</td>\n      <td>3.781411</td>\n      <td>3.705866</td>\n      <td>10.078446</td>\n      <td>6.020789</td>\n      <td>3.673599</td>\n      <td>...</td>\n      <td>10.924928</td>\n      <td>3.979720</td>\n      <td>9.425908</td>\n      <td>10.248016</td>\n      <td>3.813228</td>\n      <td>3.850815</td>\n      <td>5.744069</td>\n      <td>3.377917</td>\n      <td>8.106103</td>\n      <td>8.682000e-08</td>\n    </tr>\n    <tr>\n      <th>lk2</th>\n      <td>7.069748</td>\n      <td>9.643423</td>\n      <td>3.869814</td>\n      <td>5.487356</td>\n      <td>7.246310</td>\n      <td>3.824297</td>\n      <td>6.095713</td>\n      <td>8.945462</td>\n      <td>7.045600</td>\n      <td>7.676919</td>\n      <td>...</td>\n      <td>10.466793</td>\n      <td>4.099561</td>\n      <td>9.677686</td>\n      <td>10.530296</td>\n      <td>3.895151</td>\n      <td>3.915174</td>\n      <td>6.173705</td>\n      <td>3.286896</td>\n      <td>8.195454</td>\n      <td>2.147000e-02</td>\n    </tr>\n    <tr>\n      <th>nugc3</th>\n      <td>7.801929</td>\n      <td>6.754689</td>\n      <td>3.781120</td>\n      <td>4.914291</td>\n      <td>7.237895</td>\n      <td>6.017430</td>\n      <td>3.849368</td>\n      <td>10.287647</td>\n      <td>7.625267</td>\n      <td>3.541558</td>\n      <td>...</td>\n      <td>8.628049</td>\n      <td>4.243885</td>\n      <td>10.085004</td>\n      <td>10.881296</td>\n      <td>3.965721</td>\n      <td>3.739505</td>\n      <td>6.377673</td>\n      <td>3.700046</td>\n      <td>7.273231</td>\n      <td>1.617000e-08</td>\n    </tr>\n  </tbody>\n</table>\n<p>5 rows × 388 columns</p>\n</div>"
     },
     "execution_count": 7,
     "metadata": {},
     "output_type": "execute_result"
    }
   ],
   "source": [
    "# print(testing_target.to_list())\n",
    "# new_test_list = []\n",
    "# print(len(new_test_list))\n",
    "# for i in range(len(testing_target)):\n",
    "#     if testing_target[i] < 10e-5:\n",
    "#         pass\n",
    "#     else:\n",
    "#         new_test_list.append(testing_target[i])\n",
    "# print(len(new_test_list))\n",
    "#\n",
    "\n",
    "print(type(testing_features))\n",
    "df_good = pd.concat([testing_features, testing_target], axis=1)\n",
    "df_good.head()"
   ],
   "metadata": {
    "collapsed": false,
    "pycharm": {
     "name": "#%%\n"
    }
   }
  },
  {
   "cell_type": "code",
   "execution_count": 8,
   "outputs": [
    {
     "name": "stdout",
     "output_type": "stream",
     "text": [
      "[0, 0, 0, 0.02147, 0, 0.01292, 0.0006237, 0, 0.009423, 0.008762, 0, 0, 0, 0, 0, 0.027, 0.04113, 0.04781, 0, 0, 0, 0, 0.0002, 0.03141, 0.006454, 0.006197, 0, 0, 0.00848, 0.01881, 0.03786, 0, 0, 0, 0.02174, 0.001044, 0.02162, 0.003035, 0, 0.02534, 0, 0.02534, 0, 0.01309, 0, 0.0288, 0, 0, 0.01519, 0.03857, 0.0002588, 0.0202, 0.006825, 0.01334, 0.03424, 0, 0.01398, 0.03817, 0.02387, 0.04771, 0, 0.01529, 0, 0, 0.01414, 0.0174199999999999, 0, 0, 0, 0, 0, 0.02842, 0.02582, 0, 0.0301, 0, 0, 0.01531, 0, 0, 0, 0, 0, 0, 0, 0, 0.003377, 0.02041, 0.04226, 0.01182, 0, 0.02814, 0, 0, 0.007534, 0, 0, 0.002915, 0, 0.005219, 0, 0, 0.02018, 0, 0.006953, 0.0175099999999999, 0, 0, 0.001773, 0, 0.008589, 0, 0, 0, 0, 0.01522, 0, 0, 0, 0.03611, 0, 0, 0.03077, 0.004117]\n"
     ]
    }
   ],
   "source": [
    "listcheck = []\n",
    "threshold = 10e-5\n",
    "for i in range(len(df_good)):\n",
    "    if df_good.iloc[i]['Beta'] < threshold:\n",
    "        #df_good.iloc[i]['Beta'] = 0\n",
    "        listcheck.append(0)\n",
    "    else:\n",
    "        listcheck.append(df_good.iloc[i]['Beta'])\n",
    "print(listcheck)\n",
    "df_good['Beta'] = listcheck"
   ],
   "metadata": {
    "collapsed": false,
    "pycharm": {
     "name": "#%%\n"
    }
   }
  },
  {
   "cell_type": "code",
   "execution_count": 9,
   "outputs": [
    {
     "data": {
      "text/plain": "             1026       4680     83468     23242     56034      84141  \\\nsnu466  10.905571   4.557559  4.464759  7.625452  8.716644  10.336776   \ncov644   7.788872  10.479647  3.929805  9.058193  6.781435   3.552589   \nnb1      9.431411   4.716503  4.046382  4.307312  3.515094   3.781411   \nlk2      7.069748   9.643423  3.869814  5.487356  7.246310   3.824297   \nnugc3    7.801929   6.754689  3.781120  4.914291  7.237895   6.017430   \n\n            1825       8204      91947     27324  ...      26227     51738  \\\nsnu466  3.938341   7.737642  10.185589  3.758897  ...   7.739898  4.111759   \ncov644  3.669122   8.536770   9.653811  5.681910  ...   9.109744  4.089347   \nnb1     3.705866  10.078446   6.020789  3.673599  ...  10.924928  3.979720   \nlk2     6.095713   8.945462   7.045600  7.676919  ...  10.466793  4.099561   \nnugc3   3.849368  10.287647   7.625267  3.541558  ...   8.628049  4.243885   \n\n             3422     115106      1308      2196     55607    150005  \\\nsnu466   9.095239   9.078005  3.749954  3.918545  4.588412  3.458571   \ncov644  10.522300   8.721195  3.750699  3.931869  5.350536  3.436505   \nnb1      9.425908  10.248016  3.813228  3.850815  5.744069  3.377917   \nlk2      9.677686  10.530296  3.895151  3.915174  6.173705  3.286896   \nnugc3   10.085004  10.881296  3.965721  3.739505  6.377673  3.700046   \n\n           64782     Beta  \nsnu466  8.228588  0.00000  \ncov644  7.811748  0.00000  \nnb1     8.106103  0.00000  \nlk2     8.195454  0.02147  \nnugc3   7.273231  0.00000  \n\n[5 rows x 388 columns]",
      "text/html": "<div>\n<style scoped>\n    .dataframe tbody tr th:only-of-type {\n        vertical-align: middle;\n    }\n\n    .dataframe tbody tr th {\n        vertical-align: top;\n    }\n\n    .dataframe thead th {\n        text-align: right;\n    }\n</style>\n<table border=\"1\" class=\"dataframe\">\n  <thead>\n    <tr style=\"text-align: right;\">\n      <th></th>\n      <th>1026</th>\n      <th>4680</th>\n      <th>83468</th>\n      <th>23242</th>\n      <th>56034</th>\n      <th>84141</th>\n      <th>1825</th>\n      <th>8204</th>\n      <th>91947</th>\n      <th>27324</th>\n      <th>...</th>\n      <th>26227</th>\n      <th>51738</th>\n      <th>3422</th>\n      <th>115106</th>\n      <th>1308</th>\n      <th>2196</th>\n      <th>55607</th>\n      <th>150005</th>\n      <th>64782</th>\n      <th>Beta</th>\n    </tr>\n  </thead>\n  <tbody>\n    <tr>\n      <th>snu466</th>\n      <td>10.905571</td>\n      <td>4.557559</td>\n      <td>4.464759</td>\n      <td>7.625452</td>\n      <td>8.716644</td>\n      <td>10.336776</td>\n      <td>3.938341</td>\n      <td>7.737642</td>\n      <td>10.185589</td>\n      <td>3.758897</td>\n      <td>...</td>\n      <td>7.739898</td>\n      <td>4.111759</td>\n      <td>9.095239</td>\n      <td>9.078005</td>\n      <td>3.749954</td>\n      <td>3.918545</td>\n      <td>4.588412</td>\n      <td>3.458571</td>\n      <td>8.228588</td>\n      <td>0.00000</td>\n    </tr>\n    <tr>\n      <th>cov644</th>\n      <td>7.788872</td>\n      <td>10.479647</td>\n      <td>3.929805</td>\n      <td>9.058193</td>\n      <td>6.781435</td>\n      <td>3.552589</td>\n      <td>3.669122</td>\n      <td>8.536770</td>\n      <td>9.653811</td>\n      <td>5.681910</td>\n      <td>...</td>\n      <td>9.109744</td>\n      <td>4.089347</td>\n      <td>10.522300</td>\n      <td>8.721195</td>\n      <td>3.750699</td>\n      <td>3.931869</td>\n      <td>5.350536</td>\n      <td>3.436505</td>\n      <td>7.811748</td>\n      <td>0.00000</td>\n    </tr>\n    <tr>\n      <th>nb1</th>\n      <td>9.431411</td>\n      <td>4.716503</td>\n      <td>4.046382</td>\n      <td>4.307312</td>\n      <td>3.515094</td>\n      <td>3.781411</td>\n      <td>3.705866</td>\n      <td>10.078446</td>\n      <td>6.020789</td>\n      <td>3.673599</td>\n      <td>...</td>\n      <td>10.924928</td>\n      <td>3.979720</td>\n      <td>9.425908</td>\n      <td>10.248016</td>\n      <td>3.813228</td>\n      <td>3.850815</td>\n      <td>5.744069</td>\n      <td>3.377917</td>\n      <td>8.106103</td>\n      <td>0.00000</td>\n    </tr>\n    <tr>\n      <th>lk2</th>\n      <td>7.069748</td>\n      <td>9.643423</td>\n      <td>3.869814</td>\n      <td>5.487356</td>\n      <td>7.246310</td>\n      <td>3.824297</td>\n      <td>6.095713</td>\n      <td>8.945462</td>\n      <td>7.045600</td>\n      <td>7.676919</td>\n      <td>...</td>\n      <td>10.466793</td>\n      <td>4.099561</td>\n      <td>9.677686</td>\n      <td>10.530296</td>\n      <td>3.895151</td>\n      <td>3.915174</td>\n      <td>6.173705</td>\n      <td>3.286896</td>\n      <td>8.195454</td>\n      <td>0.02147</td>\n    </tr>\n    <tr>\n      <th>nugc3</th>\n      <td>7.801929</td>\n      <td>6.754689</td>\n      <td>3.781120</td>\n      <td>4.914291</td>\n      <td>7.237895</td>\n      <td>6.017430</td>\n      <td>3.849368</td>\n      <td>10.287647</td>\n      <td>7.625267</td>\n      <td>3.541558</td>\n      <td>...</td>\n      <td>8.628049</td>\n      <td>4.243885</td>\n      <td>10.085004</td>\n      <td>10.881296</td>\n      <td>3.965721</td>\n      <td>3.739505</td>\n      <td>6.377673</td>\n      <td>3.700046</td>\n      <td>7.273231</td>\n      <td>0.00000</td>\n    </tr>\n  </tbody>\n</table>\n<p>5 rows × 388 columns</p>\n</div>"
     },
     "execution_count": 9,
     "metadata": {},
     "output_type": "execute_result"
    }
   ],
   "source": [
    "df_good.head()"
   ],
   "metadata": {
    "collapsed": false,
    "pycharm": {
     "name": "#%%\n"
    }
   }
  },
  {
   "cell_type": "code",
   "execution_count": 10,
   "outputs": [
    {
     "name": "stderr",
     "output_type": "stream",
     "text": [
      "C:\\Users\\Udi\\Documents\\GitHub\\RadiationProject\\venv\\lib\\site-packages\\sklearn\\base.py:450: UserWarning: X does not have valid feature names, but LinearSVR was fitted with feature names\n",
      "  warnings.warn(\n"
     ]
    }
   ],
   "source": [
    "# df_good.to_csv('../data/df_with_zeroes.csv')\n",
    "test_with_zeroes = df_good['Beta'].to_list()\n",
    "# print(type(test_with_zeroes))\n",
    "# print(test_with_zeroes.shape)\n",
    "# print(testing_features.shape)test_with_zeroes\n",
    "results_zeroes = exported_pipeline.predict(testing_features)"
   ],
   "metadata": {
    "collapsed": false,
    "pycharm": {
     "name": "#%%\n"
    }
   }
  },
  {
   "cell_type": "code",
   "execution_count": 11,
   "outputs": [
    {
     "name": "stdout",
     "output_type": "stream",
     "text": [
      "RMSE :  0.015338\n",
      "Slope: 0.006123613201194722\n",
      "Intercept: 3.7604813653275616e-05\n",
      "R-Squared: 0.5292113320770115\n",
      "P-Value: 1.0848732069697468e-21\n",
      "Standard Error: 0.0005229091821581754\n"
     ]
    },
    {
     "data": {
      "text/plain": "<Figure size 432x288 with 1 Axes>",
      "image/png": "[encoded data removed]"
     },
     "metadata": {
      "needs_background": "light"
     },
     "output_type": "display_data"
    },
    {
     "data": {
      "text/plain": "<Figure size 432x288 with 1 Axes>",
      "image/png": "[encoded data removed]"
     },
     "metadata": {
      "needs_background": "light"
     },
     "output_type": "display_data"
    }
   ],
   "source": [
    "# # RMSE Computation\n",
    "# results_zeroes2 = []\n",
    "# for i in results_zeroes :\n",
    "#     if i < threshold:\n",
    "#\n",
    "#         results_zeroes2.append(0)\n",
    "#     else:\n",
    "#         results_zeroes2.append(i)\n",
    "# results_zeroes2 = np.array(results_zeroes2)\n",
    "# rmse = np.sqrt(MSE(test_with_zeroes, results_zeroes2/100))\n",
    "# print(\"RMSE : % f\" %(rmse))\n",
    "# # R2 Computation\n",
    "# import scipy.stats as stats\n",
    "# # print(y_test.tolist())\n",
    "# # print(y_pred_list)\n",
    "# plt.plot(test_with_zeroes, results_zeroes2, 'o')\n",
    "# plotting_df = pd.DataFrame()\n",
    "# plotting_df['Actual'] = test_with_zeroes\n",
    "# plotting_df['Predicted'] = results_zeroes2/100\n",
    "# plotting_df.to_csv('../data/plotting.csv')\n",
    "# plotting_df.plot(x='Actual', y='Predicted', kind='scatter')\n",
    "#\n",
    "# #a, b = np.polyfit(test_with_zeroes, results_zeroes2/100, 1)\n",
    "# #plt.plot(test_with_zeroes, a*test_with_zeroes+b, color='steelblue', linestyle='--', linewidth=2)\n",
    "# slope, intercept, r_value, p_value, std_err = stats.linregress(test_with_zeroes, results_zeroes2/100)\n",
    "# print(\"Slope:\", slope)\n",
    "# print(\"Intercept:\", intercept)\n",
    "# print(\"R-Squared:\", r_value**2)\n",
    "# print(\"P-Value:\", p_value)\n",
    "# print(\"Standard Error:\", std_err)\n",
    "# plt.xlabel('Test Labels')\n",
    "# plt.ylabel('Predictions')\n",
    "# plt.title('Test Labels vs. Predictions')\n",
    "# plt.show()"
   ],
   "metadata": {
    "collapsed": false,
    "pycharm": {
     "name": "#%%\n"
    }
   }
  },
  {
   "cell_type": "code",
   "execution_count": 14,
   "outputs": [
    {
     "name": "stdout",
     "output_type": "stream",
     "text": [
      "RMSE :  0.015338\n",
      "Slope: 0.006128799889895792\n",
      "Intercept: 3.7462564041874386e-05\n",
      "R-Squared: 0.5292679235796196\n",
      "P-Value: 1.0768910570174223e-21\n",
      "Standard Error: 0.0005232926507844118\n"
     ]
    },
    {
     "data": {
      "text/plain": "<Figure size 432x288 with 1 Axes>",
      "image/png": "[encoded data removed]"
     },
     "metadata": {
      "needs_background": "light"
     },
     "output_type": "display_data"
    },
    {
     "data": {
      "text/plain": "<Figure size 432x288 with 1 Axes>",
      "image/png": "[encoded data removed]"
     },
     "metadata": {
      "needs_background": "light"
     },
     "output_type": "display_data"
    }
   ],
   "source": [
    "import numpy as np\n",
    "# results_zeroes2 = np.array(results_zeroes)\n",
    "rmse = np.sqrt(MSE(testing_target, results_zeroes/100))\n",
    "print(\"RMSE : % f\" %(rmse))\n",
    "# R2 Computation\n",
    "import scipy.stats as stats\n",
    "# print(y_test.tolist())\n",
    "# print(y_pred_list)\n",
    "plt.plot(test_with_zeroes, results_zeroes, 'o')\n",
    "plotting_df = pd.DataFrame()\n",
    "plotting_df['Actual'] = testing_target\n",
    "plotting_df['Predicted'] = results_zeroes/100\n",
    "plotting_df.to_csv('../data/plotting.csv')\n",
    "plotting_df.plot(x='Actual', y='Predicted', kind='scatter')\n",
    "\n",
    "#a, b = np.polyfit(test_with_zeroes, results_zeroes2/100, 1)\n",
    "#plt.plot(test_with_zeroes, a*test_with_zeroes+b, color='steelblue', linestyle='--', linewidth=2)\n",
    "slope, intercept, r_value, p_value, std_err = stats.linregress(testing_target, results_zeroes/100)\n",
    "print(\"Slope:\", slope)\n",
    "print(\"Intercept:\", intercept)\n",
    "print(\"R-Squared:\", r_value**2)\n",
    "print(\"P-Value:\", p_value)\n",
    "print(\"Standard Error:\", std_err)\n",
    "plt.xlabel('Test Labels')\n",
    "plt.ylabel('Predictions')\n",
    "plt.title('Test Labels vs. Predictions')\n",
    "plt.show()"
   ],
   "metadata": {
    "collapsed": false,
    "pycharm": {
     "name": "#%%\n"
    }
   }
  },
  {
   "cell_type": "code",
   "execution_count": 12,
   "outputs": [
    {
     "data": {
      "text/plain": "['classifier.pkl']"
     },
     "execution_count": 12,
     "metadata": {},
     "output_type": "execute_result"
    }
   ],
   "source": [
    "joblib.dump(exported_pipeline, 'classifier.pkl')"
   ],
   "metadata": {
    "collapsed": false,
    "pycharm": {
     "name": "#%%\n"
    }
   }
  },
  {
   "cell_type": "code",
   "execution_count": 12,
   "outputs": [],
   "source": [],
   "metadata": {
    "collapsed": false,
    "pycharm": {
     "name": "#%%\n"
    }
   }
  }
 ],
 "metadata": {
  "kernelspec": {
   "display_name": "Python 3",
   "language": "python",
   "name": "python3"
  },
  "language_info": {
   "codemirror_mode": {
    "name": "ipython",
    "version": 2
   },
   "file_extension": ".py",
   "mimetype": "text/x-python",
   "name": "python",
   "nbconvert_exporter": "python",
   "pygments_lexer": "ipython2",
   "version": "2.7.6"
  }
 },
 "nbformat": 4,
 "nbformat_minor": 0
}