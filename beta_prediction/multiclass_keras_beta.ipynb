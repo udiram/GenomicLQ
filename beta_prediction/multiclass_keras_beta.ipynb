{
 "cells": [
  {
   "cell_type": "code",
   "execution_count": 54,
   "outputs": [],
   "source": [
    "import numpy as np\n",
    "import pandas as pd\n",
    "from keras.models import Sequential\n",
    "from keras.layers import Dense\n",
    "from keras.wrappers.scikit_learn import KerasClassifier\n",
    "from sklearn.model_selection import cross_val_score\n",
    "from sklearn.model_selection import KFold\n",
    "from sklearn.preprocessing import MinMaxScaler\n",
    "import matplotlib.pyplot as plt\n",
    "from sklearn.ensemble import RandomForestClassifier\n",
    "#from keras.utils import np_utils\n",
    "#from sklearn.preprocessing import LabelEncoder"
   ],
   "metadata": {
    "collapsed": false,
    "pycharm": {
     "name": "#%%\n"
    }
   }
  },
  {
   "cell_type": "code",
   "execution_count": 55,
   "outputs": [
    {
     "data": {
      "text/plain": "                  1         2         9        10        12        13  \\\ncell_line                                                               \nsw948      4.063884  3.594257  9.529689  6.740306  3.830637  3.751455   \nmkn45      3.795708  3.587633  7.474039  4.230111  4.136858  8.231481   \nj82        4.717745  3.816445  8.329890  4.542543  4.443213  3.834258   \nsknfi      4.338183  3.749382  8.297267  5.911274  3.915953  3.699066   \nte14       4.182824  3.627189  8.209574  3.672721  3.418317  5.969488   \n\n                 14        15         16        18  ...  100630918  100631378  \\\ncell_line                                           ...                         \nsw948      9.514933  3.385997   9.125257  6.499964  ...   5.681741   3.452094   \nmkn45      9.248871  3.343609  10.242179  4.155514  ...   5.471486   3.456001   \nj82        8.612918  3.683737  10.086658  5.139002  ...   5.375150   3.474723   \nsknfi      8.846982  3.763437   9.328351  7.383348  ...   5.570602   3.541147   \nte14       9.005162  3.404797  10.624380  4.212197  ...   4.442833   3.514525   \n\n           100642175  100652770  100652791  100653022  100689073  100689074  \\\ncell_line                                                                     \nsw948       5.541555   5.345914   3.306113   4.295348   3.260120   3.234298   \nmkn45       6.452955   4.510197   3.273790   4.282714   3.577665   3.363534   \nj82         4.517609   4.268056   3.476972   3.994838   3.683059   3.375735   \nsknfi       6.887191   4.065278   3.414457   3.906975   3.582676   3.187661   \nte14        4.820618   4.510451   3.118535   4.811349   3.593005   6.203332   \n\n           100820829  Beta  \ncell_line                   \nsw948       6.773936  10.0  \nmkn45       5.897890   7.0  \nj82         5.427906   3.0  \nsknfi       4.919210   3.0  \nte14        5.143104   6.0  \n\n[5 rows x 18524 columns]",
      "text/html": "<div>\n<style scoped>\n    .dataframe tbody tr th:only-of-type {\n        vertical-align: middle;\n    }\n\n    .dataframe tbody tr th {\n        vertical-align: top;\n    }\n\n    .dataframe thead th {\n        text-align: right;\n    }\n</style>\n<table border=\"1\" class=\"dataframe\">\n  <thead>\n    <tr style=\"text-align: right;\">\n      <th></th>\n      <th>1</th>\n      <th>2</th>\n      <th>9</th>\n      <th>10</th>\n      <th>12</th>\n      <th>13</th>\n      <th>14</th>\n      <th>15</th>\n      <th>16</th>\n      <th>18</th>\n      <th>...</th>\n      <th>100630918</th>\n      <th>100631378</th>\n      <th>100642175</th>\n      <th>100652770</th>\n      <th>100652791</th>\n      <th>100653022</th>\n      <th>100689073</th>\n      <th>100689074</th>\n      <th>100820829</th>\n      <th>Beta</th>\n    </tr>\n    <tr>\n      <th>cell_line</th>\n      <th></th>\n      <th></th>\n      <th></th>\n      <th></th>\n      <th></th>\n      <th></th>\n      <th></th>\n      <th></th>\n      <th></th>\n      <th></th>\n      <th></th>\n      <th></th>\n      <th></th>\n      <th></th>\n      <th></th>\n      <th></th>\n      <th></th>\n      <th></th>\n      <th></th>\n      <th></th>\n      <th></th>\n    </tr>\n  </thead>\n  <tbody>\n    <tr>\n      <th>sw948</th>\n      <td>4.063884</td>\n      <td>3.594257</td>\n      <td>9.529689</td>\n      <td>6.740306</td>\n      <td>3.830637</td>\n      <td>3.751455</td>\n      <td>9.514933</td>\n      <td>3.385997</td>\n      <td>9.125257</td>\n      <td>6.499964</td>\n      <td>...</td>\n      <td>5.681741</td>\n      <td>3.452094</td>\n      <td>5.541555</td>\n      <td>5.345914</td>\n      <td>3.306113</td>\n      <td>4.295348</td>\n      <td>3.260120</td>\n      <td>3.234298</td>\n      <td>6.773936</td>\n      <td>10.0</td>\n    </tr>\n    <tr>\n      <th>mkn45</th>\n      <td>3.795708</td>\n      <td>3.587633</td>\n      <td>7.474039</td>\n      <td>4.230111</td>\n      <td>4.136858</td>\n      <td>8.231481</td>\n      <td>9.248871</td>\n      <td>3.343609</td>\n      <td>10.242179</td>\n      <td>4.155514</td>\n      <td>...</td>\n      <td>5.471486</td>\n      <td>3.456001</td>\n      <td>6.452955</td>\n      <td>4.510197</td>\n      <td>3.273790</td>\n      <td>4.282714</td>\n      <td>3.577665</td>\n      <td>3.363534</td>\n      <td>5.897890</td>\n      <td>7.0</td>\n    </tr>\n    <tr>\n      <th>j82</th>\n      <td>4.717745</td>\n      <td>3.816445</td>\n      <td>8.329890</td>\n      <td>4.542543</td>\n      <td>4.443213</td>\n      <td>3.834258</td>\n      <td>8.612918</td>\n      <td>3.683737</td>\n      <td>10.086658</td>\n      <td>5.139002</td>\n      <td>...</td>\n      <td>5.375150</td>\n      <td>3.474723</td>\n      <td>4.517609</td>\n      <td>4.268056</td>\n      <td>3.476972</td>\n      <td>3.994838</td>\n      <td>3.683059</td>\n      <td>3.375735</td>\n      <td>5.427906</td>\n      <td>3.0</td>\n    </tr>\n    <tr>\n      <th>sknfi</th>\n      <td>4.338183</td>\n      <td>3.749382</td>\n      <td>8.297267</td>\n      <td>5.911274</td>\n      <td>3.915953</td>\n      <td>3.699066</td>\n      <td>8.846982</td>\n      <td>3.763437</td>\n      <td>9.328351</td>\n      <td>7.383348</td>\n      <td>...</td>\n      <td>5.570602</td>\n      <td>3.541147</td>\n      <td>6.887191</td>\n      <td>4.065278</td>\n      <td>3.414457</td>\n      <td>3.906975</td>\n      <td>3.582676</td>\n      <td>3.187661</td>\n      <td>4.919210</td>\n      <td>3.0</td>\n    </tr>\n    <tr>\n      <th>te14</th>\n      <td>4.182824</td>\n      <td>3.627189</td>\n      <td>8.209574</td>\n      <td>3.672721</td>\n      <td>3.418317</td>\n      <td>5.969488</td>\n      <td>9.005162</td>\n      <td>3.404797</td>\n      <td>10.624380</td>\n      <td>4.212197</td>\n      <td>...</td>\n      <td>4.442833</td>\n      <td>3.514525</td>\n      <td>4.820618</td>\n      <td>4.510451</td>\n      <td>3.118535</td>\n      <td>4.811349</td>\n      <td>3.593005</td>\n      <td>6.203332</td>\n      <td>5.143104</td>\n      <td>6.0</td>\n    </tr>\n  </tbody>\n</table>\n<p>5 rows × 18524 columns</p>\n</div>"
     },
     "execution_count": 55,
     "metadata": {},
     "output_type": "execute_result"
    }
   ],
   "source": [
    "# Random seed for reproducibility\n",
    "seed = 10\n",
    "np.random.seed(seed)\n",
    "# Import data\n",
    "df = pd.read_csv('data/full_df.csv', index_col=0)\n",
    "# Print first 10 samples\n",
    "df.head()"
   ],
   "metadata": {
    "collapsed": false,
    "pycharm": {
     "name": "#%%\n"
    }
   }
  },
  {
   "cell_type": "code",
   "execution_count": 56,
   "outputs": [
    {
     "data": {
      "text/plain": "1            0\n2            0\n9            0\n10           0\n12           0\n            ..\n100653022    0\n100689073    0\n100689074    0\n100820829    0\nBeta         0\nLength: 18524, dtype: int64"
     },
     "execution_count": 56,
     "metadata": {},
     "output_type": "execute_result"
    }
   ],
   "source": [
    "df.isna().sum()"
   ],
   "metadata": {
    "collapsed": false,
    "pycharm": {
     "name": "#%%\n"
    }
   }
  },
  {
   "cell_type": "code",
   "execution_count": 57,
   "outputs": [
    {
     "name": "stdout",
     "output_type": "stream",
     "text": [
      "(444, 18523)\n",
      "(444,)\n"
     ]
    }
   ],
   "source": [
    "X = df.iloc[:,0:-1]\n",
    "Y = df.iloc[:,-1]\n",
    "print(X.shape)\n",
    "print(Y.shape)"
   ],
   "metadata": {
    "collapsed": false,
    "pycharm": {
     "name": "#%%\n"
    }
   }
  },
  {
   "cell_type": "code",
   "execution_count": 58,
   "outputs": [
    {
     "data": {
      "text/plain": "                1           2           9          10          12          13  \\\ncount  444.000000  444.000000  444.000000  444.000000  444.000000  444.000000   \nmean     4.759224    3.974918    8.054020    4.478085    4.939212    4.405639   \nstd      0.904329    0.612940    1.122122    0.684921    2.042057    1.451931   \nmin      3.053338    3.367974    3.867514    3.659009    3.418317    3.270635   \n25%      4.058643    3.672148    7.506647    4.137744    3.895449    3.603258   \n50%      4.400225    3.796596    8.128669    4.299478    4.130140    3.774769   \n75%      5.413454    3.973454    8.699563    4.545972    4.688962    4.362575   \nmax      7.961095    6.995033   11.734768    9.941449   13.707150   11.435236   \n\n               14          15          16          18  ...   100628307  \\\ncount  444.000000  444.000000  444.000000  444.000000  ...  444.000000   \nmean     8.832032    3.530190   10.123108    5.350088  ...    3.615303   \nstd      0.454740    0.201927    0.681874    1.412162  ...    0.184301   \nmin      7.160466    3.136587    7.868967    3.371530  ...    3.077001   \n25%      8.551606    3.407559    9.709321    4.171260  ...    3.491003   \n50%      8.847587    3.510482   10.114555    5.084553  ...    3.609633   \n75%      9.146902    3.623534   10.549979    6.301704  ...    3.727752   \nmax     10.091407    6.050179   12.225875   10.513115  ...    4.531748   \n\n        100630918   100631378   100642175   100652770   100652791   100653022  \\\ncount  444.000000  444.000000  444.000000  444.000000  444.000000  444.000000   \nmean     5.459427    3.566817    6.021262    4.457533    3.379636    4.381993   \nstd      0.444793    0.178585    1.127011    0.382160    0.153203    0.432333   \nmin      3.989987    3.227344    4.315654    3.720730    3.001211    3.620250   \n25%      5.173390    3.461360    5.151294    4.136312    3.269775    4.108727   \n50%      5.426343    3.534150    5.762099    4.453499    3.369673    4.301737   \n75%      5.678455    3.631855    6.662327    4.733341    3.473608    4.538599   \nmax      7.258459    4.747194   10.495813    5.438839    3.820263    7.425968   \n\n        100689073   100689074   100820829  \ncount  444.000000  444.000000  444.000000  \nmean     3.572660    3.835297    5.383554  \nstd      0.123645    1.042324    1.099485  \nmin      3.257888    2.927277    3.886451  \n25%      3.494004    3.282901    4.565997  \n50%      3.565830    3.403113    5.022973  \n75%      3.655642    3.794921    6.024612  \nmax      3.982412    8.967523    9.434439  \n\n[8 rows x 18523 columns]",
      "text/html": "<div>\n<style scoped>\n    .dataframe tbody tr th:only-of-type {\n        vertical-align: middle;\n    }\n\n    .dataframe tbody tr th {\n        vertical-align: top;\n    }\n\n    .dataframe thead th {\n        text-align: right;\n    }\n</style>\n<table border=\"1\" class=\"dataframe\">\n  <thead>\n    <tr style=\"text-align: right;\">\n      <th></th>\n      <th>1</th>\n      <th>2</th>\n      <th>9</th>\n      <th>10</th>\n      <th>12</th>\n      <th>13</th>\n      <th>14</th>\n      <th>15</th>\n      <th>16</th>\n      <th>18</th>\n      <th>...</th>\n      <th>100628307</th>\n      <th>100630918</th>\n      <th>100631378</th>\n      <th>100642175</th>\n      <th>100652770</th>\n      <th>100652791</th>\n      <th>100653022</th>\n      <th>100689073</th>\n      <th>100689074</th>\n      <th>100820829</th>\n    </tr>\n  </thead>\n  <tbody>\n    <tr>\n      <th>count</th>\n      <td>444.000000</td>\n      <td>444.000000</td>\n      <td>444.000000</td>\n      <td>444.000000</td>\n      <td>444.000000</td>\n      <td>444.000000</td>\n      <td>444.000000</td>\n      <td>444.000000</td>\n      <td>444.000000</td>\n      <td>444.000000</td>\n      <td>...</td>\n      <td>444.000000</td>\n      <td>444.000000</td>\n      <td>444.000000</td>\n      <td>444.000000</td>\n      <td>444.000000</td>\n      <td>444.000000</td>\n      <td>444.000000</td>\n      <td>444.000000</td>\n      <td>444.000000</td>\n      <td>444.000000</td>\n    </tr>\n    <tr>\n      <th>mean</th>\n      <td>4.759224</td>\n      <td>3.974918</td>\n      <td>8.054020</td>\n      <td>4.478085</td>\n      <td>4.939212</td>\n      <td>4.405639</td>\n      <td>8.832032</td>\n      <td>3.530190</td>\n      <td>10.123108</td>\n      <td>5.350088</td>\n      <td>...</td>\n      <td>3.615303</td>\n      <td>5.459427</td>\n      <td>3.566817</td>\n      <td>6.021262</td>\n      <td>4.457533</td>\n      <td>3.379636</td>\n      <td>4.381993</td>\n      <td>3.572660</td>\n      <td>3.835297</td>\n      <td>5.383554</td>\n    </tr>\n    <tr>\n      <th>std</th>\n      <td>0.904329</td>\n      <td>0.612940</td>\n      <td>1.122122</td>\n      <td>0.684921</td>\n      <td>2.042057</td>\n      <td>1.451931</td>\n      <td>0.454740</td>\n      <td>0.201927</td>\n      <td>0.681874</td>\n      <td>1.412162</td>\n      <td>...</td>\n      <td>0.184301</td>\n      <td>0.444793</td>\n      <td>0.178585</td>\n      <td>1.127011</td>\n      <td>0.382160</td>\n      <td>0.153203</td>\n      <td>0.432333</td>\n      <td>0.123645</td>\n      <td>1.042324</td>\n      <td>1.099485</td>\n    </tr>\n    <tr>\n      <th>min</th>\n      <td>3.053338</td>\n      <td>3.367974</td>\n      <td>3.867514</td>\n      <td>3.659009</td>\n      <td>3.418317</td>\n      <td>3.270635</td>\n      <td>7.160466</td>\n      <td>3.136587</td>\n      <td>7.868967</td>\n      <td>3.371530</td>\n      <td>...</td>\n      <td>3.077001</td>\n      <td>3.989987</td>\n      <td>3.227344</td>\n      <td>4.315654</td>\n      <td>3.720730</td>\n      <td>3.001211</td>\n      <td>3.620250</td>\n      <td>3.257888</td>\n      <td>2.927277</td>\n      <td>3.886451</td>\n    </tr>\n    <tr>\n      <th>25%</th>\n      <td>4.058643</td>\n      <td>3.672148</td>\n      <td>7.506647</td>\n      <td>4.137744</td>\n      <td>3.895449</td>\n      <td>3.603258</td>\n      <td>8.551606</td>\n      <td>3.407559</td>\n      <td>9.709321</td>\n      <td>4.171260</td>\n      <td>...</td>\n      <td>3.491003</td>\n      <td>5.173390</td>\n      <td>3.461360</td>\n      <td>5.151294</td>\n      <td>4.136312</td>\n      <td>3.269775</td>\n      <td>4.108727</td>\n      <td>3.494004</td>\n      <td>3.282901</td>\n      <td>4.565997</td>\n    </tr>\n    <tr>\n      <th>50%</th>\n      <td>4.400225</td>\n      <td>3.796596</td>\n      <td>8.128669</td>\n      <td>4.299478</td>\n      <td>4.130140</td>\n      <td>3.774769</td>\n      <td>8.847587</td>\n      <td>3.510482</td>\n      <td>10.114555</td>\n      <td>5.084553</td>\n      <td>...</td>\n      <td>3.609633</td>\n      <td>5.426343</td>\n      <td>3.534150</td>\n      <td>5.762099</td>\n      <td>4.453499</td>\n      <td>3.369673</td>\n      <td>4.301737</td>\n      <td>3.565830</td>\n      <td>3.403113</td>\n      <td>5.022973</td>\n    </tr>\n    <tr>\n      <th>75%</th>\n      <td>5.413454</td>\n      <td>3.973454</td>\n      <td>8.699563</td>\n      <td>4.545972</td>\n      <td>4.688962</td>\n      <td>4.362575</td>\n      <td>9.146902</td>\n      <td>3.623534</td>\n      <td>10.549979</td>\n      <td>6.301704</td>\n      <td>...</td>\n      <td>3.727752</td>\n      <td>5.678455</td>\n      <td>3.631855</td>\n      <td>6.662327</td>\n      <td>4.733341</td>\n      <td>3.473608</td>\n      <td>4.538599</td>\n      <td>3.655642</td>\n      <td>3.794921</td>\n      <td>6.024612</td>\n    </tr>\n    <tr>\n      <th>max</th>\n      <td>7.961095</td>\n      <td>6.995033</td>\n      <td>11.734768</td>\n      <td>9.941449</td>\n      <td>13.707150</td>\n      <td>11.435236</td>\n      <td>10.091407</td>\n      <td>6.050179</td>\n      <td>12.225875</td>\n      <td>10.513115</td>\n      <td>...</td>\n      <td>4.531748</td>\n      <td>7.258459</td>\n      <td>4.747194</td>\n      <td>10.495813</td>\n      <td>5.438839</td>\n      <td>3.820263</td>\n      <td>7.425968</td>\n      <td>3.982412</td>\n      <td>8.967523</td>\n      <td>9.434439</td>\n    </tr>\n  </tbody>\n</table>\n<p>8 rows × 18523 columns</p>\n</div>"
     },
     "execution_count": 58,
     "metadata": {},
     "output_type": "execute_result"
    }
   ],
   "source": [
    "X.describe()"
   ],
   "metadata": {
    "collapsed": false,
    "pycharm": {
     "name": "#%%\n"
    }
   }
  },
  {
   "cell_type": "code",
   "execution_count": 59,
   "outputs": [
    {
     "name": "stdout",
     "output_type": "stream",
     "text": [
      "Beta\n",
      "0.0     266\n",
      "1.0      27\n",
      "2.0      16\n",
      "3.0      18\n",
      "4.0      18\n",
      "5.0      23\n",
      "6.0      22\n",
      "7.0      16\n",
      "8.0      10\n",
      "9.0       8\n",
      "10.0      7\n",
      "12.0     13\n",
      "dtype: int64\n"
     ]
    }
   ],
   "source": [
    "print(df.groupby(Y).size())"
   ],
   "metadata": {
    "collapsed": false,
    "pycharm": {
     "name": "#%%\n"
    }
   }
  },
  {
   "cell_type": "code",
   "execution_count": 60,
   "outputs": [],
   "source": [
    "# Normalize features within range 0 (minimum) and 1 (maximum)\n",
    "scaler = MinMaxScaler(feature_range=(0, 1))\n",
    "X = scaler.fit_transform(X)\n",
    "X = pd.DataFrame(X)"
   ],
   "metadata": {
    "collapsed": false,
    "pycharm": {
     "name": "#%%\n"
    }
   }
  },
  {
   "cell_type": "code",
   "execution_count": 61,
   "outputs": [],
   "source": [
    "Y = pd.get_dummies(Y)"
   ],
   "metadata": {
    "collapsed": false,
    "pycharm": {
     "name": "#%%\n"
    }
   }
  },
  {
   "cell_type": "code",
   "execution_count": 62,
   "outputs": [],
   "source": [
    "# For Keras, convert dataframe to array values (Inbuilt requirement of Keras)\n",
    "X = X.values\n",
    "Y = Y.values"
   ],
   "metadata": {
    "collapsed": false,
    "pycharm": {
     "name": "#%%\n"
    }
   }
  },
  {
   "cell_type": "code",
   "execution_count": 72,
   "outputs": [],
   "source": [
    "# First define baseline model. Then use it in Keras Classifier for the training\n",
    "def baseline_model():\n",
    "    # Create model here\n",
    "    model = Sequential()\n",
    "    model.add(Dense(15, input_dim = 48, activation = 'relu')) # Rectified Linear Unit Activation Function\n",
    "    model.add(Dense(15, activation = 'relu'))\n",
    "    model.add(Dense(13, activation = 'softmax')) # Softmax for multi-class classification\n",
    "    # Compile model here\n",
    "    model.compile(loss = 'categorical_crossentropy', optimizer = 'adam', metrics = ['accuracy'])\n",
    "    return model"
   ],
   "metadata": {
    "collapsed": false,
    "pycharm": {
     "name": "#%%\n"
    }
   }
  },
  {
   "cell_type": "code",
   "execution_count": 73,
   "outputs": [
    {
     "name": "stderr",
     "output_type": "stream",
     "text": [
      "C:\\Users\\Udi\\AppData\\Local\\Temp\\ipykernel_18956\\1373799701.py:1: DeprecationWarning: KerasClassifier is deprecated, use Sci-Keras (https://github.com/adriangb/scikeras) instead. See https://www.adriangb.com/scikeras/stable/migration.html for help migrating.\n",
      "  estimator = KerasClassifier(build_fn = baseline_model, epochs = 100, batch_size = 10, verbose = 0)\n"
     ]
    }
   ],
   "source": [
    "estimator = KerasClassifier(build_fn = baseline_model, epochs = 100, batch_size = 10, verbose = 0)"
   ],
   "metadata": {
    "collapsed": false,
    "pycharm": {
     "name": "#%%\n"
    }
   }
  },
  {
   "cell_type": "code",
   "execution_count": 74,
   "outputs": [],
   "source": [
    "kfold = KFold(n_splits = 5, shuffle = True, random_state = seed)"
   ],
   "metadata": {
    "collapsed": false,
    "pycharm": {
     "name": "#%%\n"
    }
   }
  },
  {
   "cell_type": "code",
   "execution_count": 75,
   "outputs": [
    {
     "name": "stderr",
     "output_type": "stream",
     "text": [
      "C:\\Users\\Udi\\Documents\\GitHub\\RadiationProject\\venv\\lib\\site-packages\\sklearn\\model_selection\\_validation.py:615: FitFailedWarning: Estimator fit failed. The score on this train-test partition for these parameters will be set to nan. Details: \n",
      "Traceback (most recent call last):\n",
      "  File \"C:\\Users\\Udi\\Documents\\GitHub\\RadiationProject\\venv\\lib\\site-packages\\sklearn\\model_selection\\_validation.py\", line 598, in _fit_and_score\n",
      "    estimator.fit(X_train, y_train, **fit_params)\n",
      "  File \"C:\\Users\\Udi\\Documents\\GitHub\\RadiationProject\\venv\\lib\\site-packages\\keras\\wrappers\\scikit_learn.py\", line 236, in fit\n",
      "    return super(KerasClassifier, self).fit(x, y, **kwargs)\n",
      "  File \"C:\\Users\\Udi\\Documents\\GitHub\\RadiationProject\\venv\\lib\\site-packages\\keras\\wrappers\\scikit_learn.py\", line 164, in fit\n",
      "    history = self.model.fit(x, y, **fit_args)\n",
      "  File \"C:\\Users\\Udi\\Documents\\GitHub\\RadiationProject\\venv\\lib\\site-packages\\keras\\utils\\traceback_utils.py\", line 67, in error_handler\n",
      "    raise e.with_traceback(filtered_tb) from None\n",
      "  File \"C:\\Users\\Udi\\AppData\\Local\\Temp\\__autograph_generated_fileff40ml2k.py\", line 15, in tf__train_function\n",
      "    retval_ = ag__.converted_call(ag__.ld(step_function), (ag__.ld(self), ag__.ld(iterator)), None, fscope)\n",
      "ValueError: in user code:\n",
      "\n",
      "    File \"C:\\Users\\Udi\\Documents\\GitHub\\RadiationProject\\venv\\lib\\site-packages\\keras\\engine\\training.py\", line 1051, in train_function  *\n",
      "        return step_function(self, iterator)\n",
      "    File \"C:\\Users\\Udi\\Documents\\GitHub\\RadiationProject\\venv\\lib\\site-packages\\keras\\engine\\training.py\", line 1040, in step_function  **\n",
      "        outputs = model.distribute_strategy.run(run_step, args=(data,))\n",
      "    File \"C:\\Users\\Udi\\Documents\\GitHub\\RadiationProject\\venv\\lib\\site-packages\\keras\\engine\\training.py\", line 1030, in run_step  **\n",
      "        outputs = model.train_step(data)\n",
      "    File \"C:\\Users\\Udi\\Documents\\GitHub\\RadiationProject\\venv\\lib\\site-packages\\keras\\engine\\training.py\", line 889, in train_step\n",
      "        y_pred = self(x, training=True)\n",
      "    File \"C:\\Users\\Udi\\Documents\\GitHub\\RadiationProject\\venv\\lib\\site-packages\\keras\\utils\\traceback_utils.py\", line 67, in error_handler\n",
      "        raise e.with_traceback(filtered_tb) from None\n",
      "    File \"C:\\Users\\Udi\\Documents\\GitHub\\RadiationProject\\venv\\lib\\site-packages\\keras\\engine\\input_spec.py\", line 264, in assert_input_compatibility\n",
      "        raise ValueError(f'Input {input_index} of layer \"{layer_name}\" is '\n",
      "\n",
      "    ValueError: Input 0 of layer \"sequential_80\" is incompatible with the layer: expected shape=(None, 48), found shape=(None, 18523)\n",
      "\n",
      "\n",
      "  warnings.warn(\"Estimator fit failed. The score on this train-test\"\n",
      "C:\\Users\\Udi\\Documents\\GitHub\\RadiationProject\\venv\\lib\\site-packages\\sklearn\\model_selection\\_validation.py:615: FitFailedWarning: Estimator fit failed. The score on this train-test partition for these parameters will be set to nan. Details: \n",
      "Traceback (most recent call last):\n",
      "  File \"C:\\Users\\Udi\\Documents\\GitHub\\RadiationProject\\venv\\lib\\site-packages\\sklearn\\model_selection\\_validation.py\", line 598, in _fit_and_score\n",
      "    estimator.fit(X_train, y_train, **fit_params)\n",
      "  File \"C:\\Users\\Udi\\Documents\\GitHub\\RadiationProject\\venv\\lib\\site-packages\\keras\\wrappers\\scikit_learn.py\", line 236, in fit\n",
      "    return super(KerasClassifier, self).fit(x, y, **kwargs)\n",
      "  File \"C:\\Users\\Udi\\Documents\\GitHub\\RadiationProject\\venv\\lib\\site-packages\\keras\\wrappers\\scikit_learn.py\", line 164, in fit\n",
      "    history = self.model.fit(x, y, **fit_args)\n",
      "  File \"C:\\Users\\Udi\\Documents\\GitHub\\RadiationProject\\venv\\lib\\site-packages\\keras\\utils\\traceback_utils.py\", line 67, in error_handler\n",
      "    raise e.with_traceback(filtered_tb) from None\n",
      "  File \"C:\\Users\\Udi\\AppData\\Local\\Temp\\__autograph_generated_fileff40ml2k.py\", line 15, in tf__train_function\n",
      "    retval_ = ag__.converted_call(ag__.ld(step_function), (ag__.ld(self), ag__.ld(iterator)), None, fscope)\n",
      "ValueError: in user code:\n",
      "\n",
      "    File \"C:\\Users\\Udi\\Documents\\GitHub\\RadiationProject\\venv\\lib\\site-packages\\keras\\engine\\training.py\", line 1051, in train_function  *\n",
      "        return step_function(self, iterator)\n",
      "    File \"C:\\Users\\Udi\\Documents\\GitHub\\RadiationProject\\venv\\lib\\site-packages\\keras\\engine\\training.py\", line 1040, in step_function  **\n",
      "        outputs = model.distribute_strategy.run(run_step, args=(data,))\n",
      "    File \"C:\\Users\\Udi\\Documents\\GitHub\\RadiationProject\\venv\\lib\\site-packages\\keras\\engine\\training.py\", line 1030, in run_step  **\n",
      "        outputs = model.train_step(data)\n",
      "    File \"C:\\Users\\Udi\\Documents\\GitHub\\RadiationProject\\venv\\lib\\site-packages\\keras\\engine\\training.py\", line 889, in train_step\n",
      "        y_pred = self(x, training=True)\n",
      "    File \"C:\\Users\\Udi\\Documents\\GitHub\\RadiationProject\\venv\\lib\\site-packages\\keras\\utils\\traceback_utils.py\", line 67, in error_handler\n",
      "        raise e.with_traceback(filtered_tb) from None\n",
      "    File \"C:\\Users\\Udi\\Documents\\GitHub\\RadiationProject\\venv\\lib\\site-packages\\keras\\engine\\input_spec.py\", line 264, in assert_input_compatibility\n",
      "        raise ValueError(f'Input {input_index} of layer \"{layer_name}\" is '\n",
      "\n",
      "    ValueError: Input 0 of layer \"sequential_81\" is incompatible with the layer: expected shape=(None, 48), found shape=(None, 18523)\n",
      "\n",
      "\n",
      "  warnings.warn(\"Estimator fit failed. The score on this train-test\"\n",
      "C:\\Users\\Udi\\Documents\\GitHub\\RadiationProject\\venv\\lib\\site-packages\\sklearn\\model_selection\\_validation.py:615: FitFailedWarning: Estimator fit failed. The score on this train-test partition for these parameters will be set to nan. Details: \n",
      "Traceback (most recent call last):\n",
      "  File \"C:\\Users\\Udi\\Documents\\GitHub\\RadiationProject\\venv\\lib\\site-packages\\sklearn\\model_selection\\_validation.py\", line 598, in _fit_and_score\n",
      "    estimator.fit(X_train, y_train, **fit_params)\n",
      "  File \"C:\\Users\\Udi\\Documents\\GitHub\\RadiationProject\\venv\\lib\\site-packages\\keras\\wrappers\\scikit_learn.py\", line 236, in fit\n",
      "    return super(KerasClassifier, self).fit(x, y, **kwargs)\n",
      "  File \"C:\\Users\\Udi\\Documents\\GitHub\\RadiationProject\\venv\\lib\\site-packages\\keras\\wrappers\\scikit_learn.py\", line 164, in fit\n",
      "    history = self.model.fit(x, y, **fit_args)\n",
      "  File \"C:\\Users\\Udi\\Documents\\GitHub\\RadiationProject\\venv\\lib\\site-packages\\keras\\utils\\traceback_utils.py\", line 67, in error_handler\n",
      "    raise e.with_traceback(filtered_tb) from None\n",
      "  File \"C:\\Users\\Udi\\AppData\\Local\\Temp\\__autograph_generated_fileff40ml2k.py\", line 15, in tf__train_function\n",
      "    retval_ = ag__.converted_call(ag__.ld(step_function), (ag__.ld(self), ag__.ld(iterator)), None, fscope)\n",
      "ValueError: in user code:\n",
      "\n",
      "    File \"C:\\Users\\Udi\\Documents\\GitHub\\RadiationProject\\venv\\lib\\site-packages\\keras\\engine\\training.py\", line 1051, in train_function  *\n",
      "        return step_function(self, iterator)\n",
      "    File \"C:\\Users\\Udi\\Documents\\GitHub\\RadiationProject\\venv\\lib\\site-packages\\keras\\engine\\training.py\", line 1040, in step_function  **\n",
      "        outputs = model.distribute_strategy.run(run_step, args=(data,))\n",
      "    File \"C:\\Users\\Udi\\Documents\\GitHub\\RadiationProject\\venv\\lib\\site-packages\\keras\\engine\\training.py\", line 1030, in run_step  **\n",
      "        outputs = model.train_step(data)\n",
      "    File \"C:\\Users\\Udi\\Documents\\GitHub\\RadiationProject\\venv\\lib\\site-packages\\keras\\engine\\training.py\", line 889, in train_step\n",
      "        y_pred = self(x, training=True)\n",
      "    File \"C:\\Users\\Udi\\Documents\\GitHub\\RadiationProject\\venv\\lib\\site-packages\\keras\\utils\\traceback_utils.py\", line 67, in error_handler\n",
      "        raise e.with_traceback(filtered_tb) from None\n",
      "    File \"C:\\Users\\Udi\\Documents\\GitHub\\RadiationProject\\venv\\lib\\site-packages\\keras\\engine\\input_spec.py\", line 264, in assert_input_compatibility\n",
      "        raise ValueError(f'Input {input_index} of layer \"{layer_name}\" is '\n",
      "\n",
      "    ValueError: Input 0 of layer \"sequential_82\" is incompatible with the layer: expected shape=(None, 48), found shape=(None, 18523)\n",
      "\n",
      "\n",
      "  warnings.warn(\"Estimator fit failed. The score on this train-test\"\n",
      "C:\\Users\\Udi\\Documents\\GitHub\\RadiationProject\\venv\\lib\\site-packages\\sklearn\\model_selection\\_validation.py:615: FitFailedWarning: Estimator fit failed. The score on this train-test partition for these parameters will be set to nan. Details: \n",
      "Traceback (most recent call last):\n",
      "  File \"C:\\Users\\Udi\\Documents\\GitHub\\RadiationProject\\venv\\lib\\site-packages\\sklearn\\model_selection\\_validation.py\", line 598, in _fit_and_score\n",
      "    estimator.fit(X_train, y_train, **fit_params)\n",
      "  File \"C:\\Users\\Udi\\Documents\\GitHub\\RadiationProject\\venv\\lib\\site-packages\\keras\\wrappers\\scikit_learn.py\", line 236, in fit\n",
      "    return super(KerasClassifier, self).fit(x, y, **kwargs)\n",
      "  File \"C:\\Users\\Udi\\Documents\\GitHub\\RadiationProject\\venv\\lib\\site-packages\\keras\\wrappers\\scikit_learn.py\", line 164, in fit\n",
      "    history = self.model.fit(x, y, **fit_args)\n",
      "  File \"C:\\Users\\Udi\\Documents\\GitHub\\RadiationProject\\venv\\lib\\site-packages\\keras\\utils\\traceback_utils.py\", line 67, in error_handler\n",
      "    raise e.with_traceback(filtered_tb) from None\n",
      "  File \"C:\\Users\\Udi\\AppData\\Local\\Temp\\__autograph_generated_fileff40ml2k.py\", line 15, in tf__train_function\n",
      "    retval_ = ag__.converted_call(ag__.ld(step_function), (ag__.ld(self), ag__.ld(iterator)), None, fscope)\n",
      "ValueError: in user code:\n",
      "\n",
      "    File \"C:\\Users\\Udi\\Documents\\GitHub\\RadiationProject\\venv\\lib\\site-packages\\keras\\engine\\training.py\", line 1051, in train_function  *\n",
      "        return step_function(self, iterator)\n",
      "    File \"C:\\Users\\Udi\\Documents\\GitHub\\RadiationProject\\venv\\lib\\site-packages\\keras\\engine\\training.py\", line 1040, in step_function  **\n",
      "        outputs = model.distribute_strategy.run(run_step, args=(data,))\n",
      "    File \"C:\\Users\\Udi\\Documents\\GitHub\\RadiationProject\\venv\\lib\\site-packages\\keras\\engine\\training.py\", line 1030, in run_step  **\n",
      "        outputs = model.train_step(data)\n",
      "    File \"C:\\Users\\Udi\\Documents\\GitHub\\RadiationProject\\venv\\lib\\site-packages\\keras\\engine\\training.py\", line 889, in train_step\n",
      "        y_pred = self(x, training=True)\n",
      "    File \"C:\\Users\\Udi\\Documents\\GitHub\\RadiationProject\\venv\\lib\\site-packages\\keras\\utils\\traceback_utils.py\", line 67, in error_handler\n",
      "        raise e.with_traceback(filtered_tb) from None\n",
      "    File \"C:\\Users\\Udi\\Documents\\GitHub\\RadiationProject\\venv\\lib\\site-packages\\keras\\engine\\input_spec.py\", line 264, in assert_input_compatibility\n",
      "        raise ValueError(f'Input {input_index} of layer \"{layer_name}\" is '\n",
      "\n",
      "    ValueError: Input 0 of layer \"sequential_83\" is incompatible with the layer: expected shape=(None, 48), found shape=(None, 18523)\n",
      "\n",
      "\n",
      "  warnings.warn(\"Estimator fit failed. The score on this train-test\"\n"
     ]
    },
    {
     "name": "stdout",
     "output_type": "stream",
     "text": [
      "Result: nan% (nan%)\n"
     ]
    },
    {
     "name": "stderr",
     "output_type": "stream",
     "text": [
      "C:\\Users\\Udi\\Documents\\GitHub\\RadiationProject\\venv\\lib\\site-packages\\sklearn\\model_selection\\_validation.py:615: FitFailedWarning: Estimator fit failed. The score on this train-test partition for these parameters will be set to nan. Details: \n",
      "Traceback (most recent call last):\n",
      "  File \"C:\\Users\\Udi\\Documents\\GitHub\\RadiationProject\\venv\\lib\\site-packages\\sklearn\\model_selection\\_validation.py\", line 598, in _fit_and_score\n",
      "    estimator.fit(X_train, y_train, **fit_params)\n",
      "  File \"C:\\Users\\Udi\\Documents\\GitHub\\RadiationProject\\venv\\lib\\site-packages\\keras\\wrappers\\scikit_learn.py\", line 236, in fit\n",
      "    return super(KerasClassifier, self).fit(x, y, **kwargs)\n",
      "  File \"C:\\Users\\Udi\\Documents\\GitHub\\RadiationProject\\venv\\lib\\site-packages\\keras\\wrappers\\scikit_learn.py\", line 164, in fit\n",
      "    history = self.model.fit(x, y, **fit_args)\n",
      "  File \"C:\\Users\\Udi\\Documents\\GitHub\\RadiationProject\\venv\\lib\\site-packages\\keras\\utils\\traceback_utils.py\", line 67, in error_handler\n",
      "    raise e.with_traceback(filtered_tb) from None\n",
      "  File \"C:\\Users\\Udi\\AppData\\Local\\Temp\\__autograph_generated_fileff40ml2k.py\", line 15, in tf__train_function\n",
      "    retval_ = ag__.converted_call(ag__.ld(step_function), (ag__.ld(self), ag__.ld(iterator)), None, fscope)\n",
      "ValueError: in user code:\n",
      "\n",
      "    File \"C:\\Users\\Udi\\Documents\\GitHub\\RadiationProject\\venv\\lib\\site-packages\\keras\\engine\\training.py\", line 1051, in train_function  *\n",
      "        return step_function(self, iterator)\n",
      "    File \"C:\\Users\\Udi\\Documents\\GitHub\\RadiationProject\\venv\\lib\\site-packages\\keras\\engine\\training.py\", line 1040, in step_function  **\n",
      "        outputs = model.distribute_strategy.run(run_step, args=(data,))\n",
      "    File \"C:\\Users\\Udi\\Documents\\GitHub\\RadiationProject\\venv\\lib\\site-packages\\keras\\engine\\training.py\", line 1030, in run_step  **\n",
      "        outputs = model.train_step(data)\n",
      "    File \"C:\\Users\\Udi\\Documents\\GitHub\\RadiationProject\\venv\\lib\\site-packages\\keras\\engine\\training.py\", line 889, in train_step\n",
      "        y_pred = self(x, training=True)\n",
      "    File \"C:\\Users\\Udi\\Documents\\GitHub\\RadiationProject\\venv\\lib\\site-packages\\keras\\utils\\traceback_utils.py\", line 67, in error_handler\n",
      "        raise e.with_traceback(filtered_tb) from None\n",
      "    File \"C:\\Users\\Udi\\Documents\\GitHub\\RadiationProject\\venv\\lib\\site-packages\\keras\\engine\\input_spec.py\", line 264, in assert_input_compatibility\n",
      "        raise ValueError(f'Input {input_index} of layer \"{layer_name}\" is '\n",
      "\n",
      "    ValueError: Input 0 of layer \"sequential_84\" is incompatible with the layer: expected shape=(None, 48), found shape=(None, 18523)\n",
      "\n",
      "\n",
      "  warnings.warn(\"Estimator fit failed. The score on this train-test\"\n"
     ]
    }
   ],
   "source": [
    "results = cross_val_score(estimator, X, Y, cv = kfold)\n",
    "print(\"Result: %.2f%% (%.2f%%)\" % (results.mean()*100, results.std()*100))"
   ],
   "metadata": {
    "collapsed": false,
    "pycharm": {
     "name": "#%%\n"
    }
   }
  },
  {
   "cell_type": "code",
   "execution_count": null,
   "outputs": [],
   "source": [],
   "metadata": {
    "collapsed": false,
    "pycharm": {
     "name": "#%%\n"
    }
   }
  }
 ],
 "metadata": {
  "kernelspec": {
   "display_name": "Python 3",
   "language": "python",
   "name": "python3"
  },
  "language_info": {
   "codemirror_mode": {
    "name": "ipython",
    "version": 2
   },
   "file_extension": ".py",
   "mimetype": "text/x-python",
   "name": "python",
   "nbconvert_exporter": "python",
   "pygments_lexer": "ipython2",
   "version": "2.7.6"
  }
 },
 "nbformat": 4,
 "nbformat_minor": 0
}