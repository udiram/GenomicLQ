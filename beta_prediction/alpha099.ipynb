{
 "cells": [
  {
   "cell_type": "code",
   "execution_count": 1,
   "outputs": [
    {
     "name": "stdout",
     "output_type": "stream",
     "text": [
      "C:\\Users\\Udi\\Documents\\GitHub\\RadiationProject\\beta_prediction\n"
     ]
    }
   ],
   "source": [
    "import joblib\n",
    "import pandas as pd\n",
    "import os\n",
    "print(os.getcwd())"
   ],
   "metadata": {
    "collapsed": false,
    "pycharm": {
     "name": "#%%\n"
    }
   }
  },
  {
   "cell_type": "code",
   "execution_count": 3,
   "outputs": [
    {
     "data": {
      "text/plain": "          Alpha         1         2          9        10        12        13  \\\n22rv1   0.28000  4.423446  4.134148  10.505010  4.180319  3.828985  3.416169   \n42mgba  0.15420  6.856747  3.792826   8.117941  4.300842  3.534361  3.465385   \n5637    0.32400  3.817624  3.769035   7.944338  4.000219  4.793569  4.246643   \n647v    0.06075  4.322558  3.730195   8.515086  4.421911  3.894124  3.649778   \n769p    0.16090  4.020103  3.846175   8.278318  4.400144  4.855821  3.731236   \n\n              14        15         16  ...  100630918  100631378  100642175  \\\n22rv1   8.924422  3.547737  10.489760  ...   5.662483   3.535540   5.441015   \n42mgba  8.689804  3.730495  10.063663  ...   4.894637   3.717672   4.600157   \n5637    9.218668  3.775753   8.843498  ...   5.375774   3.438822   5.457984   \n647v    8.962272  3.469970  10.341420  ...   5.286006   3.415911   4.769920   \n769p    9.109365  3.576632  10.172053  ...   5.318118   3.583233   4.643916   \n\n        100652770  100652791  100653022  100689073  100689074  100820829  \\\n22rv1    4.484159   3.272955   3.932815   3.518021   4.202408   4.675101   \n42mgba   3.986362   3.102421   4.577944   3.650426   3.155024   4.213095   \n5637     5.054120   3.542372   4.057933   3.664296   3.268805   7.120733   \n647v     4.744037   3.426386   4.216155   3.417696   3.374419   6.135024   \n769p     4.882646   3.490162   4.041154   3.375546   3.291270   4.529068   \n\n                Beta  \n22rv1   5.625000e-08  \n42mgba  2.409000e-02  \n5637    9.217000e-03  \n647v    6.135000e-02  \n769p    1.736000e-02  \n\n[5 rows x 18525 columns]",
      "text/html": "<div>\n<style scoped>\n    .dataframe tbody tr th:only-of-type {\n        vertical-align: middle;\n    }\n\n    .dataframe tbody tr th {\n        vertical-align: top;\n    }\n\n    .dataframe thead th {\n        text-align: right;\n    }\n</style>\n<table border=\"1\" class=\"dataframe\">\n  <thead>\n    <tr style=\"text-align: right;\">\n      <th></th>\n      <th>Alpha</th>\n      <th>1</th>\n      <th>2</th>\n      <th>9</th>\n      <th>10</th>\n      <th>12</th>\n      <th>13</th>\n      <th>14</th>\n      <th>15</th>\n      <th>16</th>\n      <th>...</th>\n      <th>100630918</th>\n      <th>100631378</th>\n      <th>100642175</th>\n      <th>100652770</th>\n      <th>100652791</th>\n      <th>100653022</th>\n      <th>100689073</th>\n      <th>100689074</th>\n      <th>100820829</th>\n      <th>Beta</th>\n    </tr>\n  </thead>\n  <tbody>\n    <tr>\n      <th>22rv1</th>\n      <td>0.28000</td>\n      <td>4.423446</td>\n      <td>4.134148</td>\n      <td>10.505010</td>\n      <td>4.180319</td>\n      <td>3.828985</td>\n      <td>3.416169</td>\n      <td>8.924422</td>\n      <td>3.547737</td>\n      <td>10.489760</td>\n      <td>...</td>\n      <td>5.662483</td>\n      <td>3.535540</td>\n      <td>5.441015</td>\n      <td>4.484159</td>\n      <td>3.272955</td>\n      <td>3.932815</td>\n      <td>3.518021</td>\n      <td>4.202408</td>\n      <td>4.675101</td>\n      <td>5.625000e-08</td>\n    </tr>\n    <tr>\n      <th>42mgba</th>\n      <td>0.15420</td>\n      <td>6.856747</td>\n      <td>3.792826</td>\n      <td>8.117941</td>\n      <td>4.300842</td>\n      <td>3.534361</td>\n      <td>3.465385</td>\n      <td>8.689804</td>\n      <td>3.730495</td>\n      <td>10.063663</td>\n      <td>...</td>\n      <td>4.894637</td>\n      <td>3.717672</td>\n      <td>4.600157</td>\n      <td>3.986362</td>\n      <td>3.102421</td>\n      <td>4.577944</td>\n      <td>3.650426</td>\n      <td>3.155024</td>\n      <td>4.213095</td>\n      <td>2.409000e-02</td>\n    </tr>\n    <tr>\n      <th>5637</th>\n      <td>0.32400</td>\n      <td>3.817624</td>\n      <td>3.769035</td>\n      <td>7.944338</td>\n      <td>4.000219</td>\n      <td>4.793569</td>\n      <td>4.246643</td>\n      <td>9.218668</td>\n      <td>3.775753</td>\n      <td>8.843498</td>\n      <td>...</td>\n      <td>5.375774</td>\n      <td>3.438822</td>\n      <td>5.457984</td>\n      <td>5.054120</td>\n      <td>3.542372</td>\n      <td>4.057933</td>\n      <td>3.664296</td>\n      <td>3.268805</td>\n      <td>7.120733</td>\n      <td>9.217000e-03</td>\n    </tr>\n    <tr>\n      <th>647v</th>\n      <td>0.06075</td>\n      <td>4.322558</td>\n      <td>3.730195</td>\n      <td>8.515086</td>\n      <td>4.421911</td>\n      <td>3.894124</td>\n      <td>3.649778</td>\n      <td>8.962272</td>\n      <td>3.469970</td>\n      <td>10.341420</td>\n      <td>...</td>\n      <td>5.286006</td>\n      <td>3.415911</td>\n      <td>4.769920</td>\n      <td>4.744037</td>\n      <td>3.426386</td>\n      <td>4.216155</td>\n      <td>3.417696</td>\n      <td>3.374419</td>\n      <td>6.135024</td>\n      <td>6.135000e-02</td>\n    </tr>\n    <tr>\n      <th>769p</th>\n      <td>0.16090</td>\n      <td>4.020103</td>\n      <td>3.846175</td>\n      <td>8.278318</td>\n      <td>4.400144</td>\n      <td>4.855821</td>\n      <td>3.731236</td>\n      <td>9.109365</td>\n      <td>3.576632</td>\n      <td>10.172053</td>\n      <td>...</td>\n      <td>5.318118</td>\n      <td>3.583233</td>\n      <td>4.643916</td>\n      <td>4.882646</td>\n      <td>3.490162</td>\n      <td>4.041154</td>\n      <td>3.375546</td>\n      <td>3.291270</td>\n      <td>4.529068</td>\n      <td>1.736000e-02</td>\n    </tr>\n  </tbody>\n</table>\n<p>5 rows × 18525 columns</p>\n</div>"
     },
     "execution_count": 3,
     "metadata": {},
     "output_type": "execute_result"
    }
   ],
   "source": [
    "alpha_df = pd.read_csv('data/ccle_alpha_and_beta.csv', index_col=0)\n",
    "alpha_df.head()"
   ],
   "metadata": {
    "collapsed": false,
    "pycharm": {
     "name": "#%%\n"
    }
   }
  },
  {
   "cell_type": "code",
   "execution_count": 6,
   "outputs": [],
   "source": [
    "alpha_x = alpha_df[['10085', '8644', '5054', '84561', '157740', '857', '401387', '22943', '11245', '79083', '2123', '54732', '55692', '8508', '5613', '3487', '6236', '8315', '3298', '56937', '4600', '1645', '11046', '3176', '23657', '3066', '51526', '2621', '4071', '245911', '58472', '1728', '63893', '26022', '55728', '63898', '439927', '51071', '23032', '135228', '9793', '93058', '51133', '316', '84141', '55964', '1803', '100287896', '10911', '23240', '9124', '770', '7554', '23596', '5507', '25845', '57695', '100506328', '23167', '347252', '2131', '6281', '83987', '8715', '91137', '716', '4613', '28968', '10544', '6921', '146225', '51057', '128866', '9060', '8717', '1911', '3995', '1734', '201725', '5352', '10346', '10016', '83882', '1875', '226', '151258', '3575', '26167', '90317', '63874', '153241', '4907', '27035', '57214', '64859', '23173', '56916', '6900', '9637', '10397', '54149', '11331', '25776', '645', '10116', '26009', '92162', '5903', '1303', '51728', '8334', '5010', '6447', '3075', '4035', '304', '285547', '22849', '64223', '9987', '796', '115584', '261729', '1382', '285600', '390', '8495', '81858', '9582', '3800', '83452', '80311', '55920', '125476', '4149', '6645', '1600', '92737', '1491', '79585', '401', '151887', '81671', '89932', '3990', '5676', '11098', '55917', '11145', '53335', '56243', '55239', '7840', '84833', '3750', '9057', '23659', '22895', '1024', '23149', '55799', '7277', '11343', '22885', '80835', '83872', '8942', '4148', '282566', '3329', '7072', '80063', '140886', '4998', '3344', '9180', '5787', '388021', '222962', '374393', '83479', '9196', '10468', '57185', '653121', '11019', '5789', '63946', '913', '492311', '84969', '375704', '80067', '116372', '112616', '84319', '11010', '3958', '126731', '53838', '148189', '148066', '27244', '970', '1876', '79053', '9849', '55741', '284207', '22949', '51142', '169841', '417', '64283', '404201', '386618', '4233', '8347', '65095', '6875', '51606', '65983', '246176', '1749', '100506542', '10038', '79029', '55214', '283352', '6482', '60436', '5471', '23598', '1825', '25907', '80318', '27125', '6368', '51634', '3166', '10730', '9646', '202299', '7145', '151254', '79727', '6867', '55228', '56919', '54988', '393', '11202', '120935', '7011', '4248', '398', '220001', '57212', '83638', '414', '1747', '100292680', '117581', '7357', '23318', '11031', '2124', '3516', '284099', '7039', '286827', '6304', '2978', '53354', '54949', '5961', '79441', '3912', '27286', '91734', '283677', '9495', '51209', '6532', '49856', '84926', '144568', '644809', '207107', '23131', '221938', '5329', '9249', '4676', '3426', '8629', '57531', '60558', '100132074', '5137', '57150', '339290', '8936', '645566', '29991', '54822', '3673', '80224', '6201', '822', '339965', '5145', '84962', '4286', '285527', '4856', '53826', '3930', '5881', '9889', '6626', '667', '10137', '6133', '140578', '6664', '1180', '84189', '1057', '6619', '125150', '90321', '392617', '1543', '339834', '8365', '80155', '10981', '26065', '6426', '26354', '10650', '166378', '4082', '1601', '26471', '79712', '80206', '100287932', '653483', '129080', '56475', '3228', '160492', '150051', '284013', '57180', '3093', '169834', '197003', '403341', '11257', '23387', '3490', '64850', '84830', '55970', '6160', '2882', '79187', '3068', '54809', '136', '1390', '1789', '5031', '133957', '286451', '2876', '28986', '7057', '79642', '80308', '7249', '5806', '26751', '55211', '55018', '79096', '92595', '2', '11075', '9108', '273', '4820', '83903', '905', '55280', '9191', '22869', '9270', '1602', '646588', '64759', '136227', '147381', '11243', '4074', '221786', '158586', '84624', '25763', '114884', '148113', '8123', '54790', '3070', '100169989', '56652', '23361', '2035', '10577', '388695', '3005', '139596', '2317', '7597', '221322', '54947', '120379', '6303', '26999', '1327', '4752', '23467', '5917', '54103', '57708', '149345', '132660', '55080', '254295', '339803', '90459', '203430', '47', '8743', '1012', '8603', '23252', '51263', '221120', '2817', '4245', '7547', '29107', '51110', '57674', '100131067', '10554', '1908', '23077', '8614', '403', '55699', '84513', '27236', '11072', '493', '60673', '7976', '84970', '54853', '1407', '9801', '80176', '10001', '5100', '22936', '11267', '84366', '3948', '131405', '100506100', '2554', '115273', '646484', '22903', '23410', '339983', '928', '9214', '317662', '29071', '2677', '3133', '116442', '9229', '9925', '84896', '10921', '51444', '4052', '6347', '1000', '93973', '200539', '388531', '8601', '23133', '6903', '4281', '54849', '2335', '219738', '6277', '57001', '22836', '57493', '2635', '10654', '54870', '253639', '1046', '84253', '8816', '23524', '132851', '121441', '10512', '56112', '4750', '221092', '144809', '401172', '8871', '8549', '27341', '10966', '57478', '3739', '8841', '56901', '4595', '1737', '7571', '129530', '7755', '23244', '51187', '7182', '6885', '57117', '55294', '2027', '10949', '140690', '9755', '55139', '5098', '1305', '3781', '6941', '90102', '92400', '339230', '9368', '22993', '23315', '7009', '2995', '4061', '10438', '9739', '7403', '51023', '10973', '55342', '11151', '80007', '5993', '5412', '402778', '2091', '9421', '53827', '55802', '3675', '8820', '282679', '80196', '54463']]"
   ],
   "metadata": {
    "collapsed": false,
    "pycharm": {
     "name": "#%%\n"
    }
   }
  },
  {
   "cell_type": "code",
   "execution_count": 9,
   "outputs": [
    {
     "ename": "XGBoostError",
     "evalue": "[18:46:41] C:/Users/Administrator/workspace/xgboost-win64_release_1.6.0/src/learner.cc:1059: Check failed: header == serialisation_header_: \n  If you are loading a serialized model (like pickle in Python, RDS in R) generated by\n  older XGBoost, please export the model by calling `Booster.save_model` from that version\n  first, then load it back in current version. See:\n\n    https://xgboost.readthedocs.io/en/latest/tutorials/saving_model.html\n\n  for more details about differences between saving model and serializing.\n",
     "output_type": "error",
     "traceback": [
      "\u001B[1;31m---------------------------------------------------------------------------\u001B[0m",
      "\u001B[1;31mXGBoostError\u001B[0m                              Traceback (most recent call last)",
      "Input \u001B[1;32mIn [9]\u001B[0m, in \u001B[0;36m<cell line: 1>\u001B[1;34m()\u001B[0m\n\u001B[1;32m----> 1\u001B[0m m_jlib \u001B[38;5;241m=\u001B[39m \u001B[43mjoblib\u001B[49m\u001B[38;5;241;43m.\u001B[39;49m\u001B[43mload\u001B[49m\u001B[43m(\u001B[49m\u001B[38;5;124;43m'\u001B[39;49m\u001B[38;5;124;43mdata/random.99alpha_u133ccle.pkl\u001B[39;49m\u001B[38;5;124;43m'\u001B[39;49m\u001B[43m)\u001B[49m\n",
      "File \u001B[1;32m~\\Documents\\GitHub\\RadiationProject\\venv\\lib\\site-packages\\joblib\\numpy_pickle.py:587\u001B[0m, in \u001B[0;36mload\u001B[1;34m(filename, mmap_mode)\u001B[0m\n\u001B[0;32m    581\u001B[0m             \u001B[38;5;28;01mif\u001B[39;00m \u001B[38;5;28misinstance\u001B[39m(fobj, \u001B[38;5;28mstr\u001B[39m):\n\u001B[0;32m    582\u001B[0m                 \u001B[38;5;66;03m# if the returned file object is a string, this means we\u001B[39;00m\n\u001B[0;32m    583\u001B[0m                 \u001B[38;5;66;03m# try to load a pickle file generated with an version of\u001B[39;00m\n\u001B[0;32m    584\u001B[0m                 \u001B[38;5;66;03m# Joblib so we load it with joblib compatibility function.\u001B[39;00m\n\u001B[0;32m    585\u001B[0m                 \u001B[38;5;28;01mreturn\u001B[39;00m load_compatibility(fobj)\n\u001B[1;32m--> 587\u001B[0m             obj \u001B[38;5;241m=\u001B[39m \u001B[43m_unpickle\u001B[49m\u001B[43m(\u001B[49m\u001B[43mfobj\u001B[49m\u001B[43m,\u001B[49m\u001B[43m \u001B[49m\u001B[43mfilename\u001B[49m\u001B[43m,\u001B[49m\u001B[43m \u001B[49m\u001B[43mmmap_mode\u001B[49m\u001B[43m)\u001B[49m\n\u001B[0;32m    588\u001B[0m \u001B[38;5;28;01mreturn\u001B[39;00m obj\n",
      "File \u001B[1;32m~\\Documents\\GitHub\\RadiationProject\\venv\\lib\\site-packages\\joblib\\numpy_pickle.py:506\u001B[0m, in \u001B[0;36m_unpickle\u001B[1;34m(fobj, filename, mmap_mode)\u001B[0m\n\u001B[0;32m    504\u001B[0m obj \u001B[38;5;241m=\u001B[39m \u001B[38;5;28;01mNone\u001B[39;00m\n\u001B[0;32m    505\u001B[0m \u001B[38;5;28;01mtry\u001B[39;00m:\n\u001B[1;32m--> 506\u001B[0m     obj \u001B[38;5;241m=\u001B[39m \u001B[43munpickler\u001B[49m\u001B[38;5;241;43m.\u001B[39;49m\u001B[43mload\u001B[49m\u001B[43m(\u001B[49m\u001B[43m)\u001B[49m\n\u001B[0;32m    507\u001B[0m     \u001B[38;5;28;01mif\u001B[39;00m unpickler\u001B[38;5;241m.\u001B[39mcompat_mode:\n\u001B[0;32m    508\u001B[0m         warnings\u001B[38;5;241m.\u001B[39mwarn(\u001B[38;5;124m\"\u001B[39m\u001B[38;5;124mThe file \u001B[39m\u001B[38;5;124m'\u001B[39m\u001B[38;5;132;01m%s\u001B[39;00m\u001B[38;5;124m'\u001B[39m\u001B[38;5;124m has been generated with a \u001B[39m\u001B[38;5;124m\"\u001B[39m\n\u001B[0;32m    509\u001B[0m                       \u001B[38;5;124m\"\u001B[39m\u001B[38;5;124mjoblib version less than 0.10. \u001B[39m\u001B[38;5;124m\"\u001B[39m\n\u001B[0;32m    510\u001B[0m                       \u001B[38;5;124m\"\u001B[39m\u001B[38;5;124mPlease regenerate this pickle file.\u001B[39m\u001B[38;5;124m\"\u001B[39m\n\u001B[0;32m    511\u001B[0m                       \u001B[38;5;241m%\u001B[39m filename,\n\u001B[0;32m    512\u001B[0m                       \u001B[38;5;167;01mDeprecationWarning\u001B[39;00m, stacklevel\u001B[38;5;241m=\u001B[39m\u001B[38;5;241m3\u001B[39m)\n",
      "File \u001B[1;32m~\\AppData\\Local\\Programs\\Python\\Python38\\lib\\pickle.py:1212\u001B[0m, in \u001B[0;36m_Unpickler.load\u001B[1;34m(self)\u001B[0m\n\u001B[0;32m   1210\u001B[0m             \u001B[38;5;28;01mraise\u001B[39;00m \u001B[38;5;167;01mEOFError\u001B[39;00m\n\u001B[0;32m   1211\u001B[0m         \u001B[38;5;28;01massert\u001B[39;00m \u001B[38;5;28misinstance\u001B[39m(key, bytes_types)\n\u001B[1;32m-> 1212\u001B[0m         \u001B[43mdispatch\u001B[49m\u001B[43m[\u001B[49m\u001B[43mkey\u001B[49m\u001B[43m[\u001B[49m\u001B[38;5;241;43m0\u001B[39;49m\u001B[43m]\u001B[49m\u001B[43m]\u001B[49m\u001B[43m(\u001B[49m\u001B[38;5;28;43mself\u001B[39;49m\u001B[43m)\u001B[49m\n\u001B[0;32m   1213\u001B[0m \u001B[38;5;28;01mexcept\u001B[39;00m _Stop \u001B[38;5;28;01mas\u001B[39;00m stopinst:\n\u001B[0;32m   1214\u001B[0m     \u001B[38;5;28;01mreturn\u001B[39;00m stopinst\u001B[38;5;241m.\u001B[39mvalue\n",
      "File \u001B[1;32m~\\Documents\\GitHub\\RadiationProject\\venv\\lib\\site-packages\\joblib\\numpy_pickle.py:331\u001B[0m, in \u001B[0;36mNumpyUnpickler.load_build\u001B[1;34m(self)\u001B[0m\n\u001B[0;32m    323\u001B[0m \u001B[38;5;28;01mdef\u001B[39;00m \u001B[38;5;21mload_build\u001B[39m(\u001B[38;5;28mself\u001B[39m):\n\u001B[0;32m    324\u001B[0m     \u001B[38;5;124;03m\"\"\"Called to set the state of a newly created object.\u001B[39;00m\n\u001B[0;32m    325\u001B[0m \n\u001B[0;32m    326\u001B[0m \u001B[38;5;124;03m    We capture it to replace our place-holder objects, NDArrayWrapper or\u001B[39;00m\n\u001B[1;32m   (...)\u001B[0m\n\u001B[0;32m    329\u001B[0m \u001B[38;5;124;03m    NDArrayWrapper is used for backward compatibility with joblib <= 0.9.\u001B[39;00m\n\u001B[0;32m    330\u001B[0m \u001B[38;5;124;03m    \"\"\"\u001B[39;00m\n\u001B[1;32m--> 331\u001B[0m     \u001B[43mUnpickler\u001B[49m\u001B[38;5;241;43m.\u001B[39;49m\u001B[43mload_build\u001B[49m\u001B[43m(\u001B[49m\u001B[38;5;28;43mself\u001B[39;49m\u001B[43m)\u001B[49m\n\u001B[0;32m    333\u001B[0m     \u001B[38;5;66;03m# For backward compatibility, we support NDArrayWrapper objects.\u001B[39;00m\n\u001B[0;32m    334\u001B[0m     \u001B[38;5;28;01mif\u001B[39;00m \u001B[38;5;28misinstance\u001B[39m(\u001B[38;5;28mself\u001B[39m\u001B[38;5;241m.\u001B[39mstack[\u001B[38;5;241m-\u001B[39m\u001B[38;5;241m1\u001B[39m], (NDArrayWrapper, NumpyArrayWrapper)):\n",
      "File \u001B[1;32m~\\AppData\\Local\\Programs\\Python\\Python38\\lib\\pickle.py:1705\u001B[0m, in \u001B[0;36m_Unpickler.load_build\u001B[1;34m(self)\u001B[0m\n\u001B[0;32m   1703\u001B[0m setstate \u001B[38;5;241m=\u001B[39m \u001B[38;5;28mgetattr\u001B[39m(inst, \u001B[38;5;124m\"\u001B[39m\u001B[38;5;124m__setstate__\u001B[39m\u001B[38;5;124m\"\u001B[39m, \u001B[38;5;28;01mNone\u001B[39;00m)\n\u001B[0;32m   1704\u001B[0m \u001B[38;5;28;01mif\u001B[39;00m setstate \u001B[38;5;129;01mis\u001B[39;00m \u001B[38;5;129;01mnot\u001B[39;00m \u001B[38;5;28;01mNone\u001B[39;00m:\n\u001B[1;32m-> 1705\u001B[0m     \u001B[43msetstate\u001B[49m\u001B[43m(\u001B[49m\u001B[43mstate\u001B[49m\u001B[43m)\u001B[49m\n\u001B[0;32m   1706\u001B[0m     \u001B[38;5;28;01mreturn\u001B[39;00m\n\u001B[0;32m   1707\u001B[0m slotstate \u001B[38;5;241m=\u001B[39m \u001B[38;5;28;01mNone\u001B[39;00m\n",
      "File \u001B[1;32m~\\Documents\\GitHub\\RadiationProject\\venv\\lib\\site-packages\\xgboost\\core.py:1496\u001B[0m, in \u001B[0;36mBooster.__setstate__\u001B[1;34m(self, state)\u001B[0m\n\u001B[0;32m   1494\u001B[0m     length \u001B[38;5;241m=\u001B[39m c_bst_ulong(\u001B[38;5;28mlen\u001B[39m(buf))\n\u001B[0;32m   1495\u001B[0m     ptr \u001B[38;5;241m=\u001B[39m (ctypes\u001B[38;5;241m.\u001B[39mc_char \u001B[38;5;241m*\u001B[39m \u001B[38;5;28mlen\u001B[39m(buf))\u001B[38;5;241m.\u001B[39mfrom_buffer(buf)\n\u001B[1;32m-> 1496\u001B[0m     \u001B[43m_check_call\u001B[49m\u001B[43m(\u001B[49m\n\u001B[0;32m   1497\u001B[0m \u001B[43m        \u001B[49m\u001B[43m_LIB\u001B[49m\u001B[38;5;241;43m.\u001B[39;49m\u001B[43mXGBoosterUnserializeFromBuffer\u001B[49m\u001B[43m(\u001B[49m\u001B[43mhandle\u001B[49m\u001B[43m,\u001B[49m\u001B[43m \u001B[49m\u001B[43mptr\u001B[49m\u001B[43m,\u001B[49m\u001B[43m \u001B[49m\u001B[43mlength\u001B[49m\u001B[43m)\u001B[49m\u001B[43m)\u001B[49m\n\u001B[0;32m   1498\u001B[0m     state[\u001B[38;5;124m'\u001B[39m\u001B[38;5;124mhandle\u001B[39m\u001B[38;5;124m'\u001B[39m] \u001B[38;5;241m=\u001B[39m handle\n\u001B[0;32m   1499\u001B[0m \u001B[38;5;28mself\u001B[39m\u001B[38;5;241m.\u001B[39m\u001B[38;5;18m__dict__\u001B[39m\u001B[38;5;241m.\u001B[39mupdate(state)\n",
      "File \u001B[1;32m~\\Documents\\GitHub\\RadiationProject\\venv\\lib\\site-packages\\xgboost\\core.py:203\u001B[0m, in \u001B[0;36m_check_call\u001B[1;34m(ret)\u001B[0m\n\u001B[0;32m    192\u001B[0m \u001B[38;5;124;03m\"\"\"Check the return value of C API call\u001B[39;00m\n\u001B[0;32m    193\u001B[0m \n\u001B[0;32m    194\u001B[0m \u001B[38;5;124;03mThis function will raise exception when error occurs.\u001B[39;00m\n\u001B[1;32m   (...)\u001B[0m\n\u001B[0;32m    200\u001B[0m \u001B[38;5;124;03m    return value from API calls\u001B[39;00m\n\u001B[0;32m    201\u001B[0m \u001B[38;5;124;03m\"\"\"\u001B[39;00m\n\u001B[0;32m    202\u001B[0m \u001B[38;5;28;01mif\u001B[39;00m ret \u001B[38;5;241m!=\u001B[39m \u001B[38;5;241m0\u001B[39m:\n\u001B[1;32m--> 203\u001B[0m     \u001B[38;5;28;01mraise\u001B[39;00m XGBoostError(py_str(_LIB\u001B[38;5;241m.\u001B[39mXGBGetLastError()))\n",
      "\u001B[1;31mXGBoostError\u001B[0m: [18:46:41] C:/Users/Administrator/workspace/xgboost-win64_release_1.6.0/src/learner.cc:1059: Check failed: header == serialisation_header_: \n  If you are loading a serialized model (like pickle in Python, RDS in R) generated by\n  older XGBoost, please export the model by calling `Booster.save_model` from that version\n  first, then load it back in current version. See:\n\n    https://xgboost.readthedocs.io/en/latest/tutorials/saving_model.html\n\n  for more details about differences between saving model and serializing.\n"
     ]
    }
   ],
   "source": [
    "m_jlib = joblib.load('data/random.99alpha_u133cc le.pkl')"
   ],
   "metadata": {
    "collapsed": false,
    "pycharm": {
     "name": "#%%\n"
    }
   }
  },
  {
   "cell_type": "code",
   "execution_count": 8,
   "outputs": [
    {
     "ename": "NameError",
     "evalue": "name 'm_jlib' is not defined",
     "output_type": "error",
     "traceback": [
      "\u001B[1;31m---------------------------------------------------------------------------\u001B[0m",
      "\u001B[1;31mNameError\u001B[0m                                 Traceback (most recent call last)",
      "Input \u001B[1;32mIn [8]\u001B[0m, in \u001B[0;36m<cell line: 1>\u001B[1;34m()\u001B[0m\n\u001B[1;32m----> 1\u001B[0m preds \u001B[38;5;241m=\u001B[39m \u001B[43mm_jlib\u001B[49m\u001B[38;5;241m.\u001B[39mpredict(alpha_x)\u001B[38;5;241m/\u001B[39m\u001B[38;5;241m100\u001B[39m\n",
      "\u001B[1;31mNameError\u001B[0m: name 'm_jlib' is not defined"
     ]
    }
   ],
   "source": [
    "preds = m_jlib.predict(alpha_x)/100"
   ],
   "metadata": {
    "collapsed": false,
    "pycharm": {
     "name": "#%%\n"
    }
   }
  }
 ],
 "metadata": {
  "kernelspec": {
   "display_name": "Python 3",
   "language": "python",
   "name": "python3"
  },
  "language_info": {
   "codemirror_mode": {
    "name": "ipython",
    "version": 2
   },
   "file_extension": ".py",
   "mimetype": "text/x-python",
   "name": "python",
   "nbconvert_exporter": "python",
   "pygments_lexer": "ipython2",
   "version": "2.7.6"
  }
 },
 "nbformat": 4,
 "nbformat_minor": 0
}