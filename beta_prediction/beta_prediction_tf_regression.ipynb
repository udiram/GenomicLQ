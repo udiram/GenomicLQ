{
 "cells": [
  {
   "cell_type": "code",
   "execution_count": 113,
   "outputs": [],
   "source": [
    "import pandas as pd\n",
    "import matplotlib.pyplot as plt\n",
    "import tensorflow as tf\n",
    "from tensorflow import keras\n",
    "from tensorflow.keras import layers\n",
    "from tensorflow.keras import Sequential\n",
    "from tensorflow.keras import optimizers"
   ],
   "metadata": {
    "collapsed": false,
    "pycharm": {
     "name": "#%%\n"
    }
   }
  },
  {
   "cell_type": "code",
   "execution_count": 114,
   "outputs": [
    {
     "data": {
      "text/plain": "                Beta         1         2          9        10        12  \\\n22rv1   5.625000e-08  4.423446  4.134148  10.505010  4.180319  3.828985   \n42mgba  2.409000e-02  6.856747  3.792826   8.117941  4.300842  3.534361   \n5637    9.217000e-03  3.817624  3.769035   7.944338  4.000219  4.793569   \n647v    6.135000e-02  4.322558  3.730195   8.515086  4.421911  3.894124   \n769p    1.736000e-02  4.020103  3.846175   8.278318  4.400144  4.855821   \n\n              13        14        15         16  ...  100628307  100630918  \\\n22rv1   3.416169  8.924422  3.547737  10.489760  ...   3.641889   5.662483   \n42mgba  3.465385  8.689804  3.730495  10.063663  ...   3.527367   4.894637   \n5637    4.246643  9.218668  3.775753   8.843498  ...   3.502305   5.375774   \n647v    3.649778  8.962272  3.469970  10.341420  ...   3.402495   5.286006   \n769p    3.731236  9.109365  3.576632  10.172053  ...   3.720749   5.318118   \n\n        100631378  100642175  100652770  100652791  100653022  100689073  \\\n22rv1    3.535540   5.441015   4.484159   3.272955   3.932815   3.518021   \n42mgba   3.717672   4.600157   3.986362   3.102421   4.577944   3.650426   \n5637     3.438822   5.457984   5.054120   3.542372   4.057933   3.664296   \n647v     3.415911   4.769920   4.744037   3.426386   4.216155   3.417696   \n769p     3.583233   4.643916   4.882646   3.490162   4.041154   3.375546   \n\n        100689074  100820829  \n22rv1    4.202408   4.675101  \n42mgba   3.155024   4.213095  \n5637     3.268805   7.120733  \n647v     3.374419   6.135024  \n769p     3.291270   4.529068  \n\n[5 rows x 18524 columns]",
      "text/html": "<div>\n<style scoped>\n    .dataframe tbody tr th:only-of-type {\n        vertical-align: middle;\n    }\n\n    .dataframe tbody tr th {\n        vertical-align: top;\n    }\n\n    .dataframe thead th {\n        text-align: right;\n    }\n</style>\n<table border=\"1\" class=\"dataframe\">\n  <thead>\n    <tr style=\"text-align: right;\">\n      <th></th>\n      <th>Beta</th>\n      <th>1</th>\n      <th>2</th>\n      <th>9</th>\n      <th>10</th>\n      <th>12</th>\n      <th>13</th>\n      <th>14</th>\n      <th>15</th>\n      <th>16</th>\n      <th>...</th>\n      <th>100628307</th>\n      <th>100630918</th>\n      <th>100631378</th>\n      <th>100642175</th>\n      <th>100652770</th>\n      <th>100652791</th>\n      <th>100653022</th>\n      <th>100689073</th>\n      <th>100689074</th>\n      <th>100820829</th>\n    </tr>\n  </thead>\n  <tbody>\n    <tr>\n      <th>22rv1</th>\n      <td>5.625000e-08</td>\n      <td>4.423446</td>\n      <td>4.134148</td>\n      <td>10.505010</td>\n      <td>4.180319</td>\n      <td>3.828985</td>\n      <td>3.416169</td>\n      <td>8.924422</td>\n      <td>3.547737</td>\n      <td>10.489760</td>\n      <td>...</td>\n      <td>3.641889</td>\n      <td>5.662483</td>\n      <td>3.535540</td>\n      <td>5.441015</td>\n      <td>4.484159</td>\n      <td>3.272955</td>\n      <td>3.932815</td>\n      <td>3.518021</td>\n      <td>4.202408</td>\n      <td>4.675101</td>\n    </tr>\n    <tr>\n      <th>42mgba</th>\n      <td>2.409000e-02</td>\n      <td>6.856747</td>\n      <td>3.792826</td>\n      <td>8.117941</td>\n      <td>4.300842</td>\n      <td>3.534361</td>\n      <td>3.465385</td>\n      <td>8.689804</td>\n      <td>3.730495</td>\n      <td>10.063663</td>\n      <td>...</td>\n      <td>3.527367</td>\n      <td>4.894637</td>\n      <td>3.717672</td>\n      <td>4.600157</td>\n      <td>3.986362</td>\n      <td>3.102421</td>\n      <td>4.577944</td>\n      <td>3.650426</td>\n      <td>3.155024</td>\n      <td>4.213095</td>\n    </tr>\n    <tr>\n      <th>5637</th>\n      <td>9.217000e-03</td>\n      <td>3.817624</td>\n      <td>3.769035</td>\n      <td>7.944338</td>\n      <td>4.000219</td>\n      <td>4.793569</td>\n      <td>4.246643</td>\n      <td>9.218668</td>\n      <td>3.775753</td>\n      <td>8.843498</td>\n      <td>...</td>\n      <td>3.502305</td>\n      <td>5.375774</td>\n      <td>3.438822</td>\n      <td>5.457984</td>\n      <td>5.054120</td>\n      <td>3.542372</td>\n      <td>4.057933</td>\n      <td>3.664296</td>\n      <td>3.268805</td>\n      <td>7.120733</td>\n    </tr>\n    <tr>\n      <th>647v</th>\n      <td>6.135000e-02</td>\n      <td>4.322558</td>\n      <td>3.730195</td>\n      <td>8.515086</td>\n      <td>4.421911</td>\n      <td>3.894124</td>\n      <td>3.649778</td>\n      <td>8.962272</td>\n      <td>3.469970</td>\n      <td>10.341420</td>\n      <td>...</td>\n      <td>3.402495</td>\n      <td>5.286006</td>\n      <td>3.415911</td>\n      <td>4.769920</td>\n      <td>4.744037</td>\n      <td>3.426386</td>\n      <td>4.216155</td>\n      <td>3.417696</td>\n      <td>3.374419</td>\n      <td>6.135024</td>\n    </tr>\n    <tr>\n      <th>769p</th>\n      <td>1.736000e-02</td>\n      <td>4.020103</td>\n      <td>3.846175</td>\n      <td>8.278318</td>\n      <td>4.400144</td>\n      <td>4.855821</td>\n      <td>3.731236</td>\n      <td>9.109365</td>\n      <td>3.576632</td>\n      <td>10.172053</td>\n      <td>...</td>\n      <td>3.720749</td>\n      <td>5.318118</td>\n      <td>3.583233</td>\n      <td>4.643916</td>\n      <td>4.882646</td>\n      <td>3.490162</td>\n      <td>4.041154</td>\n      <td>3.375546</td>\n      <td>3.291270</td>\n      <td>4.529068</td>\n    </tr>\n  </tbody>\n</table>\n<p>5 rows × 18524 columns</p>\n</div>"
     },
     "execution_count": 114,
     "metadata": {},
     "output_type": "execute_result"
    }
   ],
   "source": [
    "df = pd.read_csv('data/cclebeta.csv', index_col=0)\n",
    "df.head()"
   ],
   "metadata": {
    "collapsed": false,
    "pycharm": {
     "name": "#%%\n"
    }
   }
  },
  {
   "cell_type": "code",
   "execution_count": 115,
   "outputs": [
    {
     "data": {
      "text/plain": "               1         2          9        10        12        13        14  \\\n22rv1   4.423446  4.134148  10.505010  4.180319  3.828985  3.416169  8.924422   \n42mgba  6.856747  3.792826   8.117941  4.300842  3.534361  3.465385  8.689804   \n5637    3.817624  3.769035   7.944338  4.000219  4.793569  4.246643  9.218668   \n647v    4.322558  3.730195   8.515086  4.421911  3.894124  3.649778  8.962272   \n769p    4.020103  3.846175   8.278318  4.400144  4.855821  3.731236  9.109365   \n\n              15         16        18  ...  100630918  100631378  100642175  \\\n22rv1   3.547737  10.489760  5.448634  ...   5.662483   3.535540   5.441015   \n42mgba  3.730495  10.063663  7.104628  ...   4.894637   3.717672   4.600157   \n5637    3.775753   8.843498  3.573155  ...   5.375774   3.438822   5.457984   \n647v    3.469970  10.341420  6.962116  ...   5.286006   3.415911   4.769920   \n769p    3.576632  10.172053  4.266400  ...   5.318118   3.583233   4.643916   \n\n        100652770  100652791  100653022  100689073  100689074  100820829  \\\n22rv1    4.484159   3.272955   3.932815   3.518021   4.202408   4.675101   \n42mgba   3.986362   3.102421   4.577944   3.650426   3.155024   4.213095   \n5637     5.054120   3.542372   4.057933   3.664296   3.268805   7.120733   \n647v     4.744037   3.426386   4.216155   3.417696   3.374419   6.135024   \n769p     4.882646   3.490162   4.041154   3.375546   3.291270   4.529068   \n\n                Beta  \n22rv1   5.625000e-08  \n42mgba  2.409000e-02  \n5637    9.217000e-03  \n647v    6.135000e-02  \n769p    1.736000e-02  \n\n[5 rows x 18524 columns]",
      "text/html": "<div>\n<style scoped>\n    .dataframe tbody tr th:only-of-type {\n        vertical-align: middle;\n    }\n\n    .dataframe tbody tr th {\n        vertical-align: top;\n    }\n\n    .dataframe thead th {\n        text-align: right;\n    }\n</style>\n<table border=\"1\" class=\"dataframe\">\n  <thead>\n    <tr style=\"text-align: right;\">\n      <th></th>\n      <th>1</th>\n      <th>2</th>\n      <th>9</th>\n      <th>10</th>\n      <th>12</th>\n      <th>13</th>\n      <th>14</th>\n      <th>15</th>\n      <th>16</th>\n      <th>18</th>\n      <th>...</th>\n      <th>100630918</th>\n      <th>100631378</th>\n      <th>100642175</th>\n      <th>100652770</th>\n      <th>100652791</th>\n      <th>100653022</th>\n      <th>100689073</th>\n      <th>100689074</th>\n      <th>100820829</th>\n      <th>Beta</th>\n    </tr>\n  </thead>\n  <tbody>\n    <tr>\n      <th>22rv1</th>\n      <td>4.423446</td>\n      <td>4.134148</td>\n      <td>10.505010</td>\n      <td>4.180319</td>\n      <td>3.828985</td>\n      <td>3.416169</td>\n      <td>8.924422</td>\n      <td>3.547737</td>\n      <td>10.489760</td>\n      <td>5.448634</td>\n      <td>...</td>\n      <td>5.662483</td>\n      <td>3.535540</td>\n      <td>5.441015</td>\n      <td>4.484159</td>\n      <td>3.272955</td>\n      <td>3.932815</td>\n      <td>3.518021</td>\n      <td>4.202408</td>\n      <td>4.675101</td>\n      <td>5.625000e-08</td>\n    </tr>\n    <tr>\n      <th>42mgba</th>\n      <td>6.856747</td>\n      <td>3.792826</td>\n      <td>8.117941</td>\n      <td>4.300842</td>\n      <td>3.534361</td>\n      <td>3.465385</td>\n      <td>8.689804</td>\n      <td>3.730495</td>\n      <td>10.063663</td>\n      <td>7.104628</td>\n      <td>...</td>\n      <td>4.894637</td>\n      <td>3.717672</td>\n      <td>4.600157</td>\n      <td>3.986362</td>\n      <td>3.102421</td>\n      <td>4.577944</td>\n      <td>3.650426</td>\n      <td>3.155024</td>\n      <td>4.213095</td>\n      <td>2.409000e-02</td>\n    </tr>\n    <tr>\n      <th>5637</th>\n      <td>3.817624</td>\n      <td>3.769035</td>\n      <td>7.944338</td>\n      <td>4.000219</td>\n      <td>4.793569</td>\n      <td>4.246643</td>\n      <td>9.218668</td>\n      <td>3.775753</td>\n      <td>8.843498</td>\n      <td>3.573155</td>\n      <td>...</td>\n      <td>5.375774</td>\n      <td>3.438822</td>\n      <td>5.457984</td>\n      <td>5.054120</td>\n      <td>3.542372</td>\n      <td>4.057933</td>\n      <td>3.664296</td>\n      <td>3.268805</td>\n      <td>7.120733</td>\n      <td>9.217000e-03</td>\n    </tr>\n    <tr>\n      <th>647v</th>\n      <td>4.322558</td>\n      <td>3.730195</td>\n      <td>8.515086</td>\n      <td>4.421911</td>\n      <td>3.894124</td>\n      <td>3.649778</td>\n      <td>8.962272</td>\n      <td>3.469970</td>\n      <td>10.341420</td>\n      <td>6.962116</td>\n      <td>...</td>\n      <td>5.286006</td>\n      <td>3.415911</td>\n      <td>4.769920</td>\n      <td>4.744037</td>\n      <td>3.426386</td>\n      <td>4.216155</td>\n      <td>3.417696</td>\n      <td>3.374419</td>\n      <td>6.135024</td>\n      <td>6.135000e-02</td>\n    </tr>\n    <tr>\n      <th>769p</th>\n      <td>4.020103</td>\n      <td>3.846175</td>\n      <td>8.278318</td>\n      <td>4.400144</td>\n      <td>4.855821</td>\n      <td>3.731236</td>\n      <td>9.109365</td>\n      <td>3.576632</td>\n      <td>10.172053</td>\n      <td>4.266400</td>\n      <td>...</td>\n      <td>5.318118</td>\n      <td>3.583233</td>\n      <td>4.643916</td>\n      <td>4.882646</td>\n      <td>3.490162</td>\n      <td>4.041154</td>\n      <td>3.375546</td>\n      <td>3.291270</td>\n      <td>4.529068</td>\n      <td>1.736000e-02</td>\n    </tr>\n  </tbody>\n</table>\n<p>5 rows × 18524 columns</p>\n</div>"
     },
     "execution_count": 115,
     "metadata": {},
     "output_type": "execute_result"
    }
   ],
   "source": [
    "columns = df.columns.tolist()\n",
    "columns.insert(len(columns), columns.pop(0))\n",
    "data = df[columns]\n",
    "data.head()"
   ],
   "metadata": {
    "collapsed": false,
    "pycharm": {
     "name": "#%%\n"
    }
   }
  },
  {
   "cell_type": "code",
   "execution_count": 116,
   "outputs": [
    {
     "name": "stdout",
     "output_type": "stream",
     "text": [
      "494\n"
     ]
    }
   ],
   "source": [
    "# Create a copy for further processing\n",
    "dataset = data.copy()\n",
    "# Get some basic data about dataset\n",
    "print(len(dataset))"
   ],
   "metadata": {
    "collapsed": false,
    "pycharm": {
     "name": "#%%\n"
    }
   }
  },
  {
   "cell_type": "code",
   "execution_count": 117,
   "outputs": [
    {
     "data": {
      "text/plain": "             7128       2200      4606     23240       7045      2040  \\\n22rv1    4.402121   4.139853  3.424222  5.514512   4.622096  7.367240   \n42mgba   6.579177  11.068171  3.753007  6.635553  14.645582  6.252846   \n5637    10.911707   5.098852  3.895225  7.449919  13.147208  5.714223   \n647v     7.489423   4.761881  3.904380  7.758031  12.141894  4.702322   \n769p     8.528210   4.573545  3.754414  6.175589  12.395736  6.733405   \n\n            83877      6414      3134      8313  ...    402160     22997  \\\n22rv1    9.439951  8.568848  4.996617  4.692653  ...  3.627874  3.906378   \n42mgba  10.338984  4.318962  6.823931  4.694907  ...  4.015202  4.046891   \n5637    10.589864  3.406280  7.302050  4.645974  ...  3.950122  4.027531   \n647v    11.029194  4.330587  7.768741  4.614166  ...  4.270287  4.142130   \n769p    10.463308  3.791684  7.571176  4.396661  ...  3.876271  4.107423   \n\n          348013     11022      25873      3425     140609      23173  \\\n22rv1   3.498235  5.371301  12.968781  4.250298  11.140860  10.356822   \n42mgba  3.770497  4.366095  12.782077  4.113062  11.290641   9.395118   \n5637    3.974158  5.225357  12.757425  4.508946   9.709767  10.190603   \n647v    3.703377  5.814621  12.317219  4.675026  10.867293  10.081042   \n769p    3.826263  4.724475  12.920341  4.439072   9.767138  11.115793   \n\n           54619          Beta  \n22rv1   5.390891  5.625000e-08  \n42mgba  5.057323  2.409000e-02  \n5637    5.218091  9.217000e-03  \n647v    5.804863  6.135000e-02  \n769p    5.243291  1.736000e-02  \n\n[5 rows x 535 columns]",
      "text/html": "<div>\n<style scoped>\n    .dataframe tbody tr th:only-of-type {\n        vertical-align: middle;\n    }\n\n    .dataframe tbody tr th {\n        vertical-align: top;\n    }\n\n    .dataframe thead th {\n        text-align: right;\n    }\n</style>\n<table border=\"1\" class=\"dataframe\">\n  <thead>\n    <tr style=\"text-align: right;\">\n      <th></th>\n      <th>7128</th>\n      <th>2200</th>\n      <th>4606</th>\n      <th>23240</th>\n      <th>7045</th>\n      <th>2040</th>\n      <th>83877</th>\n      <th>6414</th>\n      <th>3134</th>\n      <th>8313</th>\n      <th>...</th>\n      <th>402160</th>\n      <th>22997</th>\n      <th>348013</th>\n      <th>11022</th>\n      <th>25873</th>\n      <th>3425</th>\n      <th>140609</th>\n      <th>23173</th>\n      <th>54619</th>\n      <th>Beta</th>\n    </tr>\n  </thead>\n  <tbody>\n    <tr>\n      <th>22rv1</th>\n      <td>4.402121</td>\n      <td>4.139853</td>\n      <td>3.424222</td>\n      <td>5.514512</td>\n      <td>4.622096</td>\n      <td>7.367240</td>\n      <td>9.439951</td>\n      <td>8.568848</td>\n      <td>4.996617</td>\n      <td>4.692653</td>\n      <td>...</td>\n      <td>3.627874</td>\n      <td>3.906378</td>\n      <td>3.498235</td>\n      <td>5.371301</td>\n      <td>12.968781</td>\n      <td>4.250298</td>\n      <td>11.140860</td>\n      <td>10.356822</td>\n      <td>5.390891</td>\n      <td>5.625000e-08</td>\n    </tr>\n    <tr>\n      <th>42mgba</th>\n      <td>6.579177</td>\n      <td>11.068171</td>\n      <td>3.753007</td>\n      <td>6.635553</td>\n      <td>14.645582</td>\n      <td>6.252846</td>\n      <td>10.338984</td>\n      <td>4.318962</td>\n      <td>6.823931</td>\n      <td>4.694907</td>\n      <td>...</td>\n      <td>4.015202</td>\n      <td>4.046891</td>\n      <td>3.770497</td>\n      <td>4.366095</td>\n      <td>12.782077</td>\n      <td>4.113062</td>\n      <td>11.290641</td>\n      <td>9.395118</td>\n      <td>5.057323</td>\n      <td>2.409000e-02</td>\n    </tr>\n    <tr>\n      <th>5637</th>\n      <td>10.911707</td>\n      <td>5.098852</td>\n      <td>3.895225</td>\n      <td>7.449919</td>\n      <td>13.147208</td>\n      <td>5.714223</td>\n      <td>10.589864</td>\n      <td>3.406280</td>\n      <td>7.302050</td>\n      <td>4.645974</td>\n      <td>...</td>\n      <td>3.950122</td>\n      <td>4.027531</td>\n      <td>3.974158</td>\n      <td>5.225357</td>\n      <td>12.757425</td>\n      <td>4.508946</td>\n      <td>9.709767</td>\n      <td>10.190603</td>\n      <td>5.218091</td>\n      <td>9.217000e-03</td>\n    </tr>\n    <tr>\n      <th>647v</th>\n      <td>7.489423</td>\n      <td>4.761881</td>\n      <td>3.904380</td>\n      <td>7.758031</td>\n      <td>12.141894</td>\n      <td>4.702322</td>\n      <td>11.029194</td>\n      <td>4.330587</td>\n      <td>7.768741</td>\n      <td>4.614166</td>\n      <td>...</td>\n      <td>4.270287</td>\n      <td>4.142130</td>\n      <td>3.703377</td>\n      <td>5.814621</td>\n      <td>12.317219</td>\n      <td>4.675026</td>\n      <td>10.867293</td>\n      <td>10.081042</td>\n      <td>5.804863</td>\n      <td>6.135000e-02</td>\n    </tr>\n    <tr>\n      <th>769p</th>\n      <td>8.528210</td>\n      <td>4.573545</td>\n      <td>3.754414</td>\n      <td>6.175589</td>\n      <td>12.395736</td>\n      <td>6.733405</td>\n      <td>10.463308</td>\n      <td>3.791684</td>\n      <td>7.571176</td>\n      <td>4.396661</td>\n      <td>...</td>\n      <td>3.876271</td>\n      <td>4.107423</td>\n      <td>3.826263</td>\n      <td>4.724475</td>\n      <td>12.920341</td>\n      <td>4.439072</td>\n      <td>9.767138</td>\n      <td>11.115793</td>\n      <td>5.243291</td>\n      <td>1.736000e-02</td>\n    </tr>\n  </tbody>\n</table>\n<p>5 rows × 535 columns</p>\n</div>"
     },
     "execution_count": 117,
     "metadata": {},
     "output_type": "execute_result"
    }
   ],
   "source": [
    "fs_df = dataset[['7128', '2200', '4606', '23240', '7045', '2040', '83877', '6414', '3134', '8313', '29126', '200916', '547', '221749', '5270', '7036', '51083', '8942', '3428', '6482', '4318', '5565', '2354', '6423', '3177', '2212', '3487', '4803', '134265', '8038', '175', '113189', '10265', '4811', '65108', '3958', '162968', '5352', '23225', '11145', '283248', '11120', '64850', '79191', '55970', '63893', '128553', '63901', '54103', '84527', '8764', '3758', '90187', '80380', '8613', '2806', '6907', '56961', '284459', '114907', '2161', '28971', '2550', '79366', '7376', '131566', '3000', '6678', '976', '8189', '4939', '26022', '3123', '135398', '1875', '1827', '55769', '11034', '932', '933', '314', '27042', '120379', '10219', '1145', '51754', '833', '1728', '114769', '201161', '57124', '84518', '23643', '1200', '27254', '9196', '80256', '55778', '58472', '54440', '6591', '64065', '4854', '7556', '53335', '834', '66035', '23149', '2990', '253650', '27000', '23127', '83982', '285521', '51141', '79979', '6988', '6583', '29121', '79705', '10054', '79778', '284161', '80346', '23198', '11140', '9578', '130612', '2637', '26157', '54677', '127018', '3107', '1535', '132160', '284359', '25825', '9445', '81786', '79630', '10897', '133957', '81555', '1104', '201725', '57099', '26960', '10101', '65010', '6843', '7277', '8887', '11200', '84461', '84868', '84817', '285440', '92912', '10611', '1019', '2323', '84079', '54959', '84513', '3732', '57666', '4992', '30846', '100507436', '1791', '19', '2335', '5654', '55506', '57332', '4914', '11311', '147945', '23475', '1152', '154141', '80765', '7130', '64759', '116372', '7099', '50805', '116842', '9052', '203054', '7776', '10384', '9564', '6484', '1012', '23363', '1846', '84057', '116447', '84504', '286343', '1837', '54811', '81608', '8904', '3631', '153657', '90850', '11138', '10457', '84678', '7975', '9755', '970', '309', '54981', '51128', '2027', '6721', '226', '4862', '2934', '9127', '84986', '84675', '116362', '3176', '4584', '125488', '347735', '6502', '9516', '8355', '26040', '339456', '9368', '162962', '56131', '65250', '27314', '79412', '79411', '25777', '8406', '389206', '81611', '23608', '8870', '51091', '79570', '89845', '57465', '65008', '64210', '3049', '84306', '11188', '64753', '770', '79744', '56139', '126789', '345462', '8857', '116442', '6890', '92092', '253639', '79132', '90525', '135228', '6297', '1607', '11180', '5054', '84808', '8970', '54514', '121551', '8971', '5360', '307', '1407', '57722', '54947', '55654', '10564', '59348', '4070', '79171', '2099', '1381', '51764', '400916', '27146', '10105', '79815', '79056', '3299', '8277', '199870', '79365', '56937', '57191', '928', '124220', '56107', '9290', '4200', '421', '5932', '1716', '43', '6663', '1307', '2123', '55787', '23541', '3767', '7678', '201895', '55228', '3073', '4913', '10011', '54756', '64747', '10211', '121642', '93474', '167359', '147920', '54813', '23632', '7536', '2950', '1280', '5507', '8490', '10397', '11151', '2588', '54961', '23025', '831', '3572', '9358', '91526', '221477', '134429', '84752', '120526', '4140', '5071', '283358', '3760', '84522', '83729', '6892', '1295', '84919', '6004', '220972', '5920', '8028', '84660', '7428', '5212', '5901', '57491', '3183', '26229', '23530', '51585', '94101', '55432', '84332', '124401', '79714', '92747', '115201', '768206', '5834', '79018', '85236', '6936', '2634', '3012', '7275', '4189', '23210', '3651', '1645', '54857', '89886', '483', '26999', '353324', '126393', '518', '11132', '273', '26354', '163071', '26261', '47', '29995', '283316', '54492', '10129', '57619', '6503', '11156', '56924', '140701', '10554', '137872', '1184', '10622', '65117', '6300', '83987', '127002', '127262', '3899', '80824', '11021', '126661', '9829', '400569', '57167', '57188', '1491', '93210', '57057', '5744', '8574', '25938', '100505741', '23659', '4651', '10981', '4000', '55720', '93432', '51575', '79850', '3320', '10256', '79187', '1852', '7087', '5378', '9976', '3135', '2289', '9654', '80150', '5918', '23029', '10447', '84133', '112840', '6597', '6875', '25803', '23316', '23545', '51279', '151126', '57571', '22849', '23371', '116412', '78992', '1877', '27154', '23404', '661', '285598', '1294', '10512', '84033', '54620', '8407', '392', '126129', '165055', '285613', '2995', '7554', '22883', '165530', '6881', '55076', '91746', '65249', '7324', '3117', '51368', '6285', '645', '199', '23550', '7327', '26121', '11236', '10016', '286410', '57169', '5291', '81502', '5796', '162394', '257019', '9942', '147746', '23450', '4123', '1627', '10910', '65993', '6584', '81542', '79927', '402160', '22997', '348013', '11022', '25873', '3425', '140609', '23173', '54619', 'Beta']]\n",
    "fs_df.head()"
   ],
   "metadata": {
    "collapsed": false,
    "pycharm": {
     "name": "#%%\n"
    }
   }
  },
  {
   "cell_type": "code",
   "execution_count": 118,
   "outputs": [],
   "source": [
    "# Split the Dataset and create train and test sets\n",
    "train_dataset = fs_df.sample(frac=0.8, random_state=0)\n",
    "test_dataset = fs_df.drop(train_dataset.index)\n",
    "########################################################\n",
    "# Separate labels and features\n",
    "train_features = train_dataset.drop([\"Beta\"], axis=1)\n",
    "test_features = test_dataset.drop([\"Beta\"], axis=1)\n",
    "train_labels = train_dataset[\"Beta\"].apply(lambda x:x*100)\n",
    "test_labels = test_dataset[\"Beta\"]"
   ],
   "metadata": {
    "collapsed": false,
    "pycharm": {
     "name": "#%%\n"
    }
   }
  },
  {
   "cell_type": "code",
   "execution_count": 119,
   "outputs": [],
   "source": [
    "# Let's check some basic data about dataset\n",
    "# train_dataset.describe().transpose()"
   ],
   "metadata": {
    "collapsed": false,
    "pycharm": {
     "name": "#%%\n"
    }
   }
  },
  {
   "cell_type": "code",
   "execution_count": 120,
   "outputs": [],
   "source": [
    "# But we can also apply normalization using sklearn.\n",
    "from sklearn.preprocessing import StandardScaler\n",
    "feature_scaler = StandardScaler()\n",
    "label_scaler = StandardScaler()\n",
    "########################################################\n",
    "# Fit on Training Data\n",
    "feature_scaler.fit(train_features.values)\n",
    "label_scaler.fit(train_labels.values.reshape(-1, 1))\n",
    "########################################################\n",
    "# Transform both training and testing data\n",
    "train_features = feature_scaler.transform(train_features.values)\n",
    "test_features = feature_scaler.transform(test_features.values)\n",
    "train_labels = label_scaler.transform(train_labels.values.reshape(-1, 1))\n",
    "test_labels = label_scaler.transform(test_labels.values.reshape(-1, 1))"
   ],
   "metadata": {
    "collapsed": false,
    "pycharm": {
     "name": "#%%\n"
    }
   }
  },
  {
   "cell_type": "code",
   "execution_count": 121,
   "outputs": [],
   "source": [
    "# Now let's create a Deep Neural Network to train a regression model on our data.\n",
    "model = Sequential([\n",
    "    layers.Dense(32, activation='relu'),\n",
    "    layers.Dense(64, activation='relu'),\n",
    "    layers.Dense(1)\n",
    "])"
   ],
   "metadata": {
    "collapsed": false,
    "pycharm": {
     "name": "#%%\n"
    }
   }
  },
  {
   "cell_type": "code",
   "execution_count": 122,
   "outputs": [],
   "source": [
    "# Compile the model\n",
    "model.compile(optimizer=\"Adam\",\n",
    "              loss=\"mean_absolute_error\")"
   ],
   "metadata": {
    "collapsed": false,
    "pycharm": {
     "name": "#%%\n"
    }
   }
  },
  {
   "cell_type": "code",
   "execution_count": 123,
   "outputs": [
    {
     "name": "stdout",
     "output_type": "stream",
     "text": [
      "Epoch 1/100\n",
      "13/13 [==============================] - 0s 8ms/step - loss: 0.8805 - val_loss: 0.3862\n",
      "Epoch 2/100\n",
      "13/13 [==============================] - 0s 4ms/step - loss: 0.6519 - val_loss: 0.5204\n",
      "Epoch 3/100\n",
      "13/13 [==============================] - 0s 4ms/step - loss: 0.5549 - val_loss: 0.4198\n",
      "Epoch 4/100\n",
      "13/13 [==============================] - 0s 3ms/step - loss: 0.4803 - val_loss: 0.5119\n",
      "Epoch 5/100\n",
      "13/13 [==============================] - 0s 4ms/step - loss: 0.4174 - val_loss: 0.4785\n",
      "Epoch 6/100\n",
      "13/13 [==============================] - 0s 3ms/step - loss: 0.3654 - val_loss: 0.4913\n",
      "Epoch 7/100\n",
      "13/13 [==============================] - 0s 4ms/step - loss: 0.3175 - val_loss: 0.5302\n",
      "Epoch 8/100\n",
      "13/13 [==============================] - 0s 3ms/step - loss: 0.2794 - val_loss: 0.5593\n",
      "Epoch 9/100\n",
      "13/13 [==============================] - 0s 3ms/step - loss: 0.2551 - val_loss: 0.5871\n",
      "Epoch 10/100\n",
      "13/13 [==============================] - 0s 3ms/step - loss: 0.2420 - val_loss: 0.5212\n",
      "Epoch 11/100\n",
      "13/13 [==============================] - 0s 3ms/step - loss: 0.2105 - val_loss: 0.5767\n",
      "Epoch 12/100\n",
      "13/13 [==============================] - 0s 3ms/step - loss: 0.1837 - val_loss: 0.5609\n",
      "Epoch 13/100\n",
      "13/13 [==============================] - 0s 3ms/step - loss: 0.1774 - val_loss: 0.5438\n",
      "Epoch 14/100\n",
      "13/13 [==============================] - 0s 3ms/step - loss: 0.1657 - val_loss: 0.5903\n",
      "Epoch 15/100\n",
      "13/13 [==============================] - 0s 3ms/step - loss: 0.1803 - val_loss: 0.5916\n",
      "Epoch 16/100\n",
      "13/13 [==============================] - 0s 3ms/step - loss: 0.1551 - val_loss: 0.6389\n",
      "Epoch 17/100\n",
      "13/13 [==============================] - 0s 3ms/step - loss: 0.1510 - val_loss: 0.6195\n",
      "Epoch 18/100\n",
      "13/13 [==============================] - 0s 3ms/step - loss: 0.1533 - val_loss: 0.6450\n",
      "Epoch 19/100\n",
      "13/13 [==============================] - 0s 3ms/step - loss: 0.1603 - val_loss: 0.6522\n",
      "Epoch 20/100\n",
      "13/13 [==============================] - 0s 3ms/step - loss: 0.1429 - val_loss: 0.6059\n",
      "Epoch 21/100\n",
      "13/13 [==============================] - 0s 3ms/step - loss: 0.1263 - val_loss: 0.5967\n",
      "Epoch 22/100\n",
      "13/13 [==============================] - 0s 3ms/step - loss: 0.1184 - val_loss: 0.5873\n",
      "Epoch 23/100\n",
      "13/13 [==============================] - 0s 3ms/step - loss: 0.1141 - val_loss: 0.5754\n",
      "Epoch 24/100\n",
      "13/13 [==============================] - 0s 3ms/step - loss: 0.1166 - val_loss: 0.6019\n",
      "Epoch 25/100\n",
      "13/13 [==============================] - 0s 3ms/step - loss: 0.1102 - val_loss: 0.6122\n",
      "Epoch 26/100\n",
      "13/13 [==============================] - 0s 3ms/step - loss: 0.1029 - val_loss: 0.6052\n",
      "Epoch 27/100\n",
      "13/13 [==============================] - 0s 3ms/step - loss: 0.1035 - val_loss: 0.5801\n",
      "Epoch 28/100\n",
      "13/13 [==============================] - 0s 3ms/step - loss: 0.1011 - val_loss: 0.6285\n",
      "Epoch 29/100\n",
      "13/13 [==============================] - 0s 3ms/step - loss: 0.0985 - val_loss: 0.5913\n",
      "Epoch 30/100\n",
      "13/13 [==============================] - 0s 3ms/step - loss: 0.0995 - val_loss: 0.6061\n",
      "Epoch 31/100\n",
      "13/13 [==============================] - 0s 3ms/step - loss: 0.0947 - val_loss: 0.6149\n",
      "Epoch 32/100\n",
      "13/13 [==============================] - 0s 3ms/step - loss: 0.1033 - val_loss: 0.5939\n",
      "Epoch 33/100\n",
      "13/13 [==============================] - 0s 3ms/step - loss: 0.1064 - val_loss: 0.6702\n",
      "Epoch 34/100\n",
      "13/13 [==============================] - 0s 3ms/step - loss: 0.1107 - val_loss: 0.6530\n",
      "Epoch 35/100\n",
      "13/13 [==============================] - 0s 3ms/step - loss: 0.1081 - val_loss: 0.5964\n",
      "Epoch 36/100\n",
      "13/13 [==============================] - 0s 3ms/step - loss: 0.0968 - val_loss: 0.6434\n",
      "Epoch 37/100\n",
      "13/13 [==============================] - 0s 3ms/step - loss: 0.0935 - val_loss: 0.6360\n",
      "Epoch 38/100\n",
      "13/13 [==============================] - 0s 3ms/step - loss: 0.0875 - val_loss: 0.6212\n",
      "Epoch 39/100\n",
      "13/13 [==============================] - 0s 3ms/step - loss: 0.0901 - val_loss: 0.5708\n",
      "Epoch 40/100\n",
      "13/13 [==============================] - 0s 3ms/step - loss: 0.0865 - val_loss: 0.6251\n",
      "Epoch 41/100\n",
      "13/13 [==============================] - 0s 3ms/step - loss: 0.0955 - val_loss: 0.6338\n",
      "Epoch 42/100\n",
      "13/13 [==============================] - 0s 3ms/step - loss: 0.0870 - val_loss: 0.6530\n",
      "Epoch 43/100\n",
      "13/13 [==============================] - 0s 3ms/step - loss: 0.0932 - val_loss: 0.6085\n",
      "Epoch 44/100\n",
      "13/13 [==============================] - 0s 3ms/step - loss: 0.0814 - val_loss: 0.6105\n",
      "Epoch 45/100\n",
      "13/13 [==============================] - 0s 3ms/step - loss: 0.0852 - val_loss: 0.6121\n",
      "Epoch 46/100\n",
      "13/13 [==============================] - 0s 3ms/step - loss: 0.0794 - val_loss: 0.6279\n",
      "Epoch 47/100\n",
      "13/13 [==============================] - 0s 3ms/step - loss: 0.0839 - val_loss: 0.6552\n",
      "Epoch 48/100\n",
      "13/13 [==============================] - 0s 3ms/step - loss: 0.0789 - val_loss: 0.6384\n",
      "Epoch 49/100\n",
      "13/13 [==============================] - 0s 3ms/step - loss: 0.0904 - val_loss: 0.6476\n",
      "Epoch 50/100\n",
      "13/13 [==============================] - 0s 3ms/step - loss: 0.0810 - val_loss: 0.6330\n",
      "Epoch 51/100\n",
      "13/13 [==============================] - 0s 3ms/step - loss: 0.0853 - val_loss: 0.6477\n",
      "Epoch 52/100\n",
      "13/13 [==============================] - 0s 3ms/step - loss: 0.0819 - val_loss: 0.6509\n",
      "Epoch 53/100\n",
      "13/13 [==============================] - 0s 3ms/step - loss: 0.0887 - val_loss: 0.6462\n",
      "Epoch 54/100\n",
      "13/13 [==============================] - 0s 3ms/step - loss: 0.0833 - val_loss: 0.6595\n",
      "Epoch 55/100\n",
      "13/13 [==============================] - 0s 3ms/step - loss: 0.0868 - val_loss: 0.6497\n",
      "Epoch 56/100\n",
      "13/13 [==============================] - 0s 3ms/step - loss: 0.0835 - val_loss: 0.6151\n",
      "Epoch 57/100\n",
      "13/13 [==============================] - 0s 3ms/step - loss: 0.0805 - val_loss: 0.5898\n",
      "Epoch 58/100\n",
      "13/13 [==============================] - 0s 3ms/step - loss: 0.0786 - val_loss: 0.6055\n",
      "Epoch 59/100\n",
      "13/13 [==============================] - 0s 3ms/step - loss: 0.0790 - val_loss: 0.6083\n",
      "Epoch 60/100\n",
      "13/13 [==============================] - 0s 3ms/step - loss: 0.0807 - val_loss: 0.6127\n",
      "Epoch 61/100\n",
      "13/13 [==============================] - 0s 3ms/step - loss: 0.0776 - val_loss: 0.6146\n",
      "Epoch 62/100\n",
      "13/13 [==============================] - 0s 3ms/step - loss: 0.0716 - val_loss: 0.6297\n",
      "Epoch 63/100\n",
      "13/13 [==============================] - 0s 3ms/step - loss: 0.0774 - val_loss: 0.5907\n",
      "Epoch 64/100\n",
      "13/13 [==============================] - 0s 3ms/step - loss: 0.0719 - val_loss: 0.6242\n",
      "Epoch 65/100\n",
      "13/13 [==============================] - 0s 3ms/step - loss: 0.0822 - val_loss: 0.5992\n",
      "Epoch 66/100\n",
      "13/13 [==============================] - 0s 3ms/step - loss: 0.0784 - val_loss: 0.6211\n",
      "Epoch 67/100\n",
      "13/13 [==============================] - 0s 3ms/step - loss: 0.0727 - val_loss: 0.5843\n",
      "Epoch 68/100\n",
      "13/13 [==============================] - 0s 3ms/step - loss: 0.0834 - val_loss: 0.5717\n",
      "Epoch 69/100\n",
      "13/13 [==============================] - 0s 3ms/step - loss: 0.0845 - val_loss: 0.5892\n",
      "Epoch 70/100\n",
      "13/13 [==============================] - 0s 3ms/step - loss: 0.0762 - val_loss: 0.6081\n",
      "Epoch 71/100\n",
      "13/13 [==============================] - 0s 3ms/step - loss: 0.0737 - val_loss: 0.6245\n",
      "Epoch 72/100\n",
      "13/13 [==============================] - 0s 3ms/step - loss: 0.0736 - val_loss: 0.5918\n",
      "Epoch 73/100\n",
      "13/13 [==============================] - 0s 3ms/step - loss: 0.0704 - val_loss: 0.5904\n",
      "Epoch 74/100\n",
      "13/13 [==============================] - 0s 3ms/step - loss: 0.0735 - val_loss: 0.5986\n",
      "Epoch 75/100\n",
      "13/13 [==============================] - 0s 3ms/step - loss: 0.0754 - val_loss: 0.5972\n",
      "Epoch 76/100\n",
      "13/13 [==============================] - 0s 3ms/step - loss: 0.0738 - val_loss: 0.6143\n",
      "Epoch 77/100\n",
      "13/13 [==============================] - 0s 3ms/step - loss: 0.0725 - val_loss: 0.6100\n",
      "Epoch 78/100\n",
      "13/13 [==============================] - 0s 3ms/step - loss: 0.0640 - val_loss: 0.5959\n",
      "Epoch 79/100\n",
      "13/13 [==============================] - 0s 3ms/step - loss: 0.0738 - val_loss: 0.6114\n",
      "Epoch 80/100\n",
      "13/13 [==============================] - 0s 3ms/step - loss: 0.0731 - val_loss: 0.6139\n",
      "Epoch 81/100\n",
      "13/13 [==============================] - 0s 3ms/step - loss: 0.0728 - val_loss: 0.6035\n",
      "Epoch 82/100\n",
      "13/13 [==============================] - 0s 3ms/step - loss: 0.0646 - val_loss: 0.5953\n",
      "Epoch 83/100\n",
      "13/13 [==============================] - 0s 3ms/step - loss: 0.0721 - val_loss: 0.6027\n",
      "Epoch 84/100\n",
      "13/13 [==============================] - 0s 3ms/step - loss: 0.0681 - val_loss: 0.6113\n",
      "Epoch 85/100\n",
      "13/13 [==============================] - 0s 3ms/step - loss: 0.0724 - val_loss: 0.6509\n",
      "Epoch 86/100\n",
      "13/13 [==============================] - 0s 3ms/step - loss: 0.0736 - val_loss: 0.6038\n",
      "Epoch 87/100\n",
      "13/13 [==============================] - 0s 3ms/step - loss: 0.0741 - val_loss: 0.6070\n",
      "Epoch 88/100\n",
      "13/13 [==============================] - 0s 3ms/step - loss: 0.0730 - val_loss: 0.6130\n",
      "Epoch 89/100\n",
      "13/13 [==============================] - 0s 3ms/step - loss: 0.0733 - val_loss: 0.6087\n",
      "Epoch 90/100\n",
      "13/13 [==============================] - 0s 3ms/step - loss: 0.0692 - val_loss: 0.5885\n",
      "Epoch 91/100\n",
      "13/13 [==============================] - 0s 3ms/step - loss: 0.0647 - val_loss: 0.6291\n",
      "Epoch 92/100\n",
      "13/13 [==============================] - 0s 3ms/step - loss: 0.0642 - val_loss: 0.5989\n",
      "Epoch 93/100\n",
      "13/13 [==============================] - 0s 3ms/step - loss: 0.0677 - val_loss: 0.6103\n",
      "Epoch 94/100\n",
      "13/13 [==============================] - 0s 3ms/step - loss: 0.0623 - val_loss: 0.5992\n",
      "Epoch 95/100\n",
      "13/13 [==============================] - 0s 3ms/step - loss: 0.0643 - val_loss: 0.6269\n",
      "Epoch 96/100\n",
      "13/13 [==============================] - 0s 3ms/step - loss: 0.0582 - val_loss: 0.6329\n",
      "Epoch 97/100\n",
      "13/13 [==============================] - 0s 3ms/step - loss: 0.0576 - val_loss: 0.6230\n",
      "Epoch 98/100\n",
      "13/13 [==============================] - 0s 3ms/step - loss: 0.0659 - val_loss: 0.6213\n",
      "Epoch 99/100\n",
      "13/13 [==============================] - 0s 3ms/step - loss: 0.0689 - val_loss: 0.6326\n",
      "Epoch 100/100\n",
      "13/13 [==============================] - 0s 3ms/step - loss: 0.0703 - val_loss: 0.6259\n"
     ]
    }
   ],
   "source": [
    "# Now let's train the model\n",
    "history = model.fit(epochs=100, x=train_features, y=train_labels,\n",
    "          validation_data=(test_features, test_labels), verbose=1)"
   ],
   "metadata": {
    "collapsed": false,
    "pycharm": {
     "name": "#%%\n"
    }
   }
  },
  {
   "cell_type": "code",
   "execution_count": 124,
   "outputs": [
    {
     "data": {
      "text/plain": "<Figure size 432x288 with 1 Axes>",
      "image/png": "[encoded data removed]"
     },
     "metadata": {
      "needs_background": "light"
     },
     "output_type": "display_data"
    }
   ],
   "source": [
    "# Function to plot loss\n",
    "def plot_loss(history):\n",
    "    plt.plot(history.history['loss'], label='loss')\n",
    "    plt.plot(history.history['val_loss'], label='val_loss')\n",
    "    plt.ylim([0,3])\n",
    "    plt.xlabel('Epoch')\n",
    "    plt.ylabel('Error (Loss)')\n",
    "    plt.legend()\n",
    "    plt.grid(True)\n",
    "########################################################\n",
    "plot_loss(history)"
   ],
   "metadata": {
    "collapsed": false,
    "pycharm": {
     "name": "#%%\n"
    }
   }
  },
  {
   "cell_type": "code",
   "execution_count": 125,
   "outputs": [
    {
     "name": "stdout",
     "output_type": "stream",
     "text": [
      "4/4 [==============================] - 0s 2ms/step - loss: 0.6259\n"
     ]
    },
    {
     "data": {
      "text/plain": "0.6259338855743408"
     },
     "execution_count": 125,
     "metadata": {},
     "output_type": "execute_result"
    }
   ],
   "source": [
    "# Model evaluation on testing dataset\n",
    "model.evaluate(test_features, test_labels)"
   ],
   "metadata": {
    "collapsed": false,
    "pycharm": {
     "name": "#%%\n"
    }
   }
  },
  {
   "cell_type": "code",
   "execution_count": 126,
   "outputs": [],
   "source": [
    "# Save model\n",
    "model.save(\"data/beta_model.h5\")"
   ],
   "metadata": {
    "collapsed": false,
    "pycharm": {
     "name": "#%%\n"
    }
   }
  },
  {
   "cell_type": "code",
   "execution_count": 127,
   "outputs": [
    {
     "name": "stdout",
     "output_type": "stream",
     "text": [
      "4/4 [==============================] - 0s 1ms/step\n"
     ]
    }
   ],
   "source": [
    "# Load and perform predictions\n",
    "saved_model = tf.keras.models.load_model('data/beta_model.h5')\n",
    "results = saved_model.predict(test_features)\n",
    "########################################################\n",
    "# We can decode using the scikit-learn object to get the result\n",
    "decoded_result = label_scaler.inverse_transform(results.reshape(-1,1))"
   ],
   "metadata": {
    "collapsed": false,
    "pycharm": {
     "name": "#%%\n"
    }
   }
  },
  {
   "cell_type": "code",
   "execution_count": 128,
   "outputs": [],
   "source": [
    "decoded_labels = label_scaler.inverse_transform(test_labels.reshape(-1,1))"
   ],
   "metadata": {
    "collapsed": false,
    "pycharm": {
     "name": "#%%\n"
    }
   }
  },
  {
   "cell_type": "code",
   "execution_count": 129,
   "outputs": [],
   "source": [
    "label_list = []\n",
    "pred_list = []\n",
    "for i in range(len(decoded_result)):\n",
    "    label_list.append(decoded_labels[i][0])\n",
    "    pred_list.append(decoded_result[i][0]/100)"
   ],
   "metadata": {
    "collapsed": false,
    "pycharm": {
     "name": "#%%\n"
    }
   }
  },
  {
   "cell_type": "code",
   "execution_count": 130,
   "outputs": [
    {
     "name": "stdout",
     "output_type": "stream",
     "text": [
      "Slope: 0.1815626172374256\n",
      "Intercept: 0.006385037731558281\n",
      "R-Squared: 0.12736745324307816\n",
      "P-Value: 0.00028779878404275506\n",
      "Standard Error: 0.0482533020676726\n"
     ]
    },
    {
     "data": {
      "text/plain": "<Figure size 432x288 with 1 Axes>",
      "image/png": "[encoded data removed]"
     },
     "metadata": {
      "needs_background": "light"
     },
     "output_type": "display_data"
    }
   ],
   "source": [
    "import scipy.stats as stats\n",
    "X_var = label_list\n",
    "y_var = pred_list\n",
    "plt.plot(X_var, y_var, 'o')\n",
    "slope, intercept, r_value, p_value, std_err = stats.linregress(X_var, y_var)\n",
    "print(\"Slope:\", slope)\n",
    "print(\"Intercept:\", intercept)\n",
    "print(\"R-Squared:\", r_value**2)\n",
    "print(\"P-Value:\", p_value)\n",
    "print(\"Standard Error:\", std_err)\n",
    "plt.xlabel('Test Labels')\n",
    "plt.ylabel('Predictions')\n",
    "plt.title('Test Labels vs. Predictions')\n",
    "plt.show()"
   ],
   "metadata": {
    "collapsed": false,
    "pycharm": {
     "name": "#%%\n"
    }
   }
  },
  {
   "cell_type": "code",
   "execution_count": 130,
   "outputs": [],
   "source": [],
   "metadata": {
    "collapsed": false,
    "pycharm": {
     "name": "#%%\n"
    }
   }
  }
 ],
 "metadata": {
  "kernelspec": {
   "display_name": "Python 3",
   "language": "python",
   "name": "python3"
  },
  "language_info": {
   "codemirror_mode": {
    "name": "ipython",
    "version": 2
   },
   "file_extension": ".py",
   "mimetype": "text/x-python",
   "name": "python",
   "nbconvert_exporter": "python",
   "pygments_lexer": "ipython2",
   "version": "2.7.6"
  }
 },
 "nbformat": 4,
 "nbformat_minor": 0
}