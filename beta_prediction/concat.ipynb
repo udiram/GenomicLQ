{
 "cells": [
  {
   "cell_type": "code",
   "execution_count": 1,
   "outputs": [],
   "source": [
    "import pandas as pd"
   ],
   "metadata": {
    "collapsed": false,
    "pycharm": {
     "name": "#%%\n"
    }
   }
  },
  {
   "cell_type": "code",
   "execution_count": 5,
   "outputs": [],
   "source": [
    "df_alpha = pd.read_csv('data/ccle2.csv', index_col=0)\n",
    "df_beta = pd.read_csv('data/cclebeta.csv', index_col=0)"
   ],
   "metadata": {
    "collapsed": false,
    "pycharm": {
     "name": "#%%\n"
    }
   }
  },
  {
   "cell_type": "code",
   "execution_count": 6,
   "outputs": [
    {
     "data": {
      "text/plain": "          Alpha         1         2          9        10        12        13  \\\n22rv1   0.28000  4.423446  4.134148  10.505010  4.180319  3.828985  3.416169   \n42mgba  0.15420  6.856747  3.792826   8.117941  4.300842  3.534361  3.465385   \n5637    0.32400  3.817624  3.769035   7.944338  4.000219  4.793569  4.246643   \n647v    0.06075  4.322558  3.730195   8.515086  4.421911  3.894124  3.649778   \n769p    0.16090  4.020103  3.846175   8.278318  4.400144  4.855821  3.731236   \n\n              14        15         16  ...  100628307  100630918  100631378  \\\n22rv1   8.924422  3.547737  10.489760  ...   3.641889   5.662483   3.535540   \n42mgba  8.689804  3.730495  10.063663  ...   3.527367   4.894637   3.717672   \n5637    9.218668  3.775753   8.843498  ...   3.502305   5.375774   3.438822   \n647v    8.962272  3.469970  10.341420  ...   3.402495   5.286006   3.415911   \n769p    9.109365  3.576632  10.172053  ...   3.720749   5.318118   3.583233   \n\n        100642175  100652770  100652791  100653022  100689073  100689074  \\\n22rv1    5.441015   4.484159   3.272955   3.932815   3.518021   4.202408   \n42mgba   4.600157   3.986362   3.102421   4.577944   3.650426   3.155024   \n5637     5.457984   5.054120   3.542372   4.057933   3.664296   3.268805   \n647v     4.769920   4.744037   3.426386   4.216155   3.417696   3.374419   \n769p     4.643916   4.882646   3.490162   4.041154   3.375546   3.291270   \n\n        100820829  \n22rv1    4.675101  \n42mgba   4.213095  \n5637     7.120733  \n647v     6.135024  \n769p     4.529068  \n\n[5 rows x 18524 columns]",
      "text/html": "<div>\n<style scoped>\n    .dataframe tbody tr th:only-of-type {\n        vertical-align: middle;\n    }\n\n    .dataframe tbody tr th {\n        vertical-align: top;\n    }\n\n    .dataframe thead th {\n        text-align: right;\n    }\n</style>\n<table border=\"1\" class=\"dataframe\">\n  <thead>\n    <tr style=\"text-align: right;\">\n      <th></th>\n      <th>Alpha</th>\n      <th>1</th>\n      <th>2</th>\n      <th>9</th>\n      <th>10</th>\n      <th>12</th>\n      <th>13</th>\n      <th>14</th>\n      <th>15</th>\n      <th>16</th>\n      <th>...</th>\n      <th>100628307</th>\n      <th>100630918</th>\n      <th>100631378</th>\n      <th>100642175</th>\n      <th>100652770</th>\n      <th>100652791</th>\n      <th>100653022</th>\n      <th>100689073</th>\n      <th>100689074</th>\n      <th>100820829</th>\n    </tr>\n  </thead>\n  <tbody>\n    <tr>\n      <th>22rv1</th>\n      <td>0.28000</td>\n      <td>4.423446</td>\n      <td>4.134148</td>\n      <td>10.505010</td>\n      <td>4.180319</td>\n      <td>3.828985</td>\n      <td>3.416169</td>\n      <td>8.924422</td>\n      <td>3.547737</td>\n      <td>10.489760</td>\n      <td>...</td>\n      <td>3.641889</td>\n      <td>5.662483</td>\n      <td>3.535540</td>\n      <td>5.441015</td>\n      <td>4.484159</td>\n      <td>3.272955</td>\n      <td>3.932815</td>\n      <td>3.518021</td>\n      <td>4.202408</td>\n      <td>4.675101</td>\n    </tr>\n    <tr>\n      <th>42mgba</th>\n      <td>0.15420</td>\n      <td>6.856747</td>\n      <td>3.792826</td>\n      <td>8.117941</td>\n      <td>4.300842</td>\n      <td>3.534361</td>\n      <td>3.465385</td>\n      <td>8.689804</td>\n      <td>3.730495</td>\n      <td>10.063663</td>\n      <td>...</td>\n      <td>3.527367</td>\n      <td>4.894637</td>\n      <td>3.717672</td>\n      <td>4.600157</td>\n      <td>3.986362</td>\n      <td>3.102421</td>\n      <td>4.577944</td>\n      <td>3.650426</td>\n      <td>3.155024</td>\n      <td>4.213095</td>\n    </tr>\n    <tr>\n      <th>5637</th>\n      <td>0.32400</td>\n      <td>3.817624</td>\n      <td>3.769035</td>\n      <td>7.944338</td>\n      <td>4.000219</td>\n      <td>4.793569</td>\n      <td>4.246643</td>\n      <td>9.218668</td>\n      <td>3.775753</td>\n      <td>8.843498</td>\n      <td>...</td>\n      <td>3.502305</td>\n      <td>5.375774</td>\n      <td>3.438822</td>\n      <td>5.457984</td>\n      <td>5.054120</td>\n      <td>3.542372</td>\n      <td>4.057933</td>\n      <td>3.664296</td>\n      <td>3.268805</td>\n      <td>7.120733</td>\n    </tr>\n    <tr>\n      <th>647v</th>\n      <td>0.06075</td>\n      <td>4.322558</td>\n      <td>3.730195</td>\n      <td>8.515086</td>\n      <td>4.421911</td>\n      <td>3.894124</td>\n      <td>3.649778</td>\n      <td>8.962272</td>\n      <td>3.469970</td>\n      <td>10.341420</td>\n      <td>...</td>\n      <td>3.402495</td>\n      <td>5.286006</td>\n      <td>3.415911</td>\n      <td>4.769920</td>\n      <td>4.744037</td>\n      <td>3.426386</td>\n      <td>4.216155</td>\n      <td>3.417696</td>\n      <td>3.374419</td>\n      <td>6.135024</td>\n    </tr>\n    <tr>\n      <th>769p</th>\n      <td>0.16090</td>\n      <td>4.020103</td>\n      <td>3.846175</td>\n      <td>8.278318</td>\n      <td>4.400144</td>\n      <td>4.855821</td>\n      <td>3.731236</td>\n      <td>9.109365</td>\n      <td>3.576632</td>\n      <td>10.172053</td>\n      <td>...</td>\n      <td>3.720749</td>\n      <td>5.318118</td>\n      <td>3.583233</td>\n      <td>4.643916</td>\n      <td>4.882646</td>\n      <td>3.490162</td>\n      <td>4.041154</td>\n      <td>3.375546</td>\n      <td>3.291270</td>\n      <td>4.529068</td>\n    </tr>\n  </tbody>\n</table>\n<p>5 rows × 18524 columns</p>\n</div>"
     },
     "execution_count": 6,
     "metadata": {},
     "output_type": "execute_result"
    }
   ],
   "source": [
    "df_alpha.head()"
   ],
   "metadata": {
    "collapsed": false,
    "pycharm": {
     "name": "#%%\n"
    }
   }
  },
  {
   "cell_type": "code",
   "execution_count": 7,
   "outputs": [
    {
     "data": {
      "text/plain": "                Beta         1         2          9        10        12  \\\n22rv1   5.625000e-08  4.423446  4.134148  10.505010  4.180319  3.828985   \n42mgba  2.409000e-02  6.856747  3.792826   8.117941  4.300842  3.534361   \n5637    9.217000e-03  3.817624  3.769035   7.944338  4.000219  4.793569   \n647v    6.135000e-02  4.322558  3.730195   8.515086  4.421911  3.894124   \n769p    1.736000e-02  4.020103  3.846175   8.278318  4.400144  4.855821   \n\n              13        14        15         16  ...  100628307  100630918  \\\n22rv1   3.416169  8.924422  3.547737  10.489760  ...   3.641889   5.662483   \n42mgba  3.465385  8.689804  3.730495  10.063663  ...   3.527367   4.894637   \n5637    4.246643  9.218668  3.775753   8.843498  ...   3.502305   5.375774   \n647v    3.649778  8.962272  3.469970  10.341420  ...   3.402495   5.286006   \n769p    3.731236  9.109365  3.576632  10.172053  ...   3.720749   5.318118   \n\n        100631378  100642175  100652770  100652791  100653022  100689073  \\\n22rv1    3.535540   5.441015   4.484159   3.272955   3.932815   3.518021   \n42mgba   3.717672   4.600157   3.986362   3.102421   4.577944   3.650426   \n5637     3.438822   5.457984   5.054120   3.542372   4.057933   3.664296   \n647v     3.415911   4.769920   4.744037   3.426386   4.216155   3.417696   \n769p     3.583233   4.643916   4.882646   3.490162   4.041154   3.375546   \n\n        100689074  100820829  \n22rv1    4.202408   4.675101  \n42mgba   3.155024   4.213095  \n5637     3.268805   7.120733  \n647v     3.374419   6.135024  \n769p     3.291270   4.529068  \n\n[5 rows x 18524 columns]",
      "text/html": "<div>\n<style scoped>\n    .dataframe tbody tr th:only-of-type {\n        vertical-align: middle;\n    }\n\n    .dataframe tbody tr th {\n        vertical-align: top;\n    }\n\n    .dataframe thead th {\n        text-align: right;\n    }\n</style>\n<table border=\"1\" class=\"dataframe\">\n  <thead>\n    <tr style=\"text-align: right;\">\n      <th></th>\n      <th>Beta</th>\n      <th>1</th>\n      <th>2</th>\n      <th>9</th>\n      <th>10</th>\n      <th>12</th>\n      <th>13</th>\n      <th>14</th>\n      <th>15</th>\n      <th>16</th>\n      <th>...</th>\n      <th>100628307</th>\n      <th>100630918</th>\n      <th>100631378</th>\n      <th>100642175</th>\n      <th>100652770</th>\n      <th>100652791</th>\n      <th>100653022</th>\n      <th>100689073</th>\n      <th>100689074</th>\n      <th>100820829</th>\n    </tr>\n  </thead>\n  <tbody>\n    <tr>\n      <th>22rv1</th>\n      <td>5.625000e-08</td>\n      <td>4.423446</td>\n      <td>4.134148</td>\n      <td>10.505010</td>\n      <td>4.180319</td>\n      <td>3.828985</td>\n      <td>3.416169</td>\n      <td>8.924422</td>\n      <td>3.547737</td>\n      <td>10.489760</td>\n      <td>...</td>\n      <td>3.641889</td>\n      <td>5.662483</td>\n      <td>3.535540</td>\n      <td>5.441015</td>\n      <td>4.484159</td>\n      <td>3.272955</td>\n      <td>3.932815</td>\n      <td>3.518021</td>\n      <td>4.202408</td>\n      <td>4.675101</td>\n    </tr>\n    <tr>\n      <th>42mgba</th>\n      <td>2.409000e-02</td>\n      <td>6.856747</td>\n      <td>3.792826</td>\n      <td>8.117941</td>\n      <td>4.300842</td>\n      <td>3.534361</td>\n      <td>3.465385</td>\n      <td>8.689804</td>\n      <td>3.730495</td>\n      <td>10.063663</td>\n      <td>...</td>\n      <td>3.527367</td>\n      <td>4.894637</td>\n      <td>3.717672</td>\n      <td>4.600157</td>\n      <td>3.986362</td>\n      <td>3.102421</td>\n      <td>4.577944</td>\n      <td>3.650426</td>\n      <td>3.155024</td>\n      <td>4.213095</td>\n    </tr>\n    <tr>\n      <th>5637</th>\n      <td>9.217000e-03</td>\n      <td>3.817624</td>\n      <td>3.769035</td>\n      <td>7.944338</td>\n      <td>4.000219</td>\n      <td>4.793569</td>\n      <td>4.246643</td>\n      <td>9.218668</td>\n      <td>3.775753</td>\n      <td>8.843498</td>\n      <td>...</td>\n      <td>3.502305</td>\n      <td>5.375774</td>\n      <td>3.438822</td>\n      <td>5.457984</td>\n      <td>5.054120</td>\n      <td>3.542372</td>\n      <td>4.057933</td>\n      <td>3.664296</td>\n      <td>3.268805</td>\n      <td>7.120733</td>\n    </tr>\n    <tr>\n      <th>647v</th>\n      <td>6.135000e-02</td>\n      <td>4.322558</td>\n      <td>3.730195</td>\n      <td>8.515086</td>\n      <td>4.421911</td>\n      <td>3.894124</td>\n      <td>3.649778</td>\n      <td>8.962272</td>\n      <td>3.469970</td>\n      <td>10.341420</td>\n      <td>...</td>\n      <td>3.402495</td>\n      <td>5.286006</td>\n      <td>3.415911</td>\n      <td>4.769920</td>\n      <td>4.744037</td>\n      <td>3.426386</td>\n      <td>4.216155</td>\n      <td>3.417696</td>\n      <td>3.374419</td>\n      <td>6.135024</td>\n    </tr>\n    <tr>\n      <th>769p</th>\n      <td>1.736000e-02</td>\n      <td>4.020103</td>\n      <td>3.846175</td>\n      <td>8.278318</td>\n      <td>4.400144</td>\n      <td>4.855821</td>\n      <td>3.731236</td>\n      <td>9.109365</td>\n      <td>3.576632</td>\n      <td>10.172053</td>\n      <td>...</td>\n      <td>3.720749</td>\n      <td>5.318118</td>\n      <td>3.583233</td>\n      <td>4.643916</td>\n      <td>4.882646</td>\n      <td>3.490162</td>\n      <td>4.041154</td>\n      <td>3.375546</td>\n      <td>3.291270</td>\n      <td>4.529068</td>\n    </tr>\n  </tbody>\n</table>\n<p>5 rows × 18524 columns</p>\n</div>"
     },
     "execution_count": 7,
     "metadata": {},
     "output_type": "execute_result"
    }
   ],
   "source": [
    "df_beta.head()"
   ],
   "metadata": {
    "collapsed": false,
    "pycharm": {
     "name": "#%%\n"
    }
   }
  },
  {
   "cell_type": "code",
   "execution_count": 10,
   "outputs": [
    {
     "data": {
      "text/plain": "22rv1     5.625000e-08\n42mgba    2.409000e-02\n5637      9.217000e-03\n647v      6.135000e-02\n769p      1.736000e-02\nName: Beta, dtype: float64"
     },
     "execution_count": 10,
     "metadata": {},
     "output_type": "execute_result"
    }
   ],
   "source": [
    "beta_col = df_beta['Beta']\n",
    "beta_col.head()"
   ],
   "metadata": {
    "collapsed": false,
    "pycharm": {
     "name": "#%%\n"
    }
   }
  },
  {
   "cell_type": "code",
   "execution_count": 12,
   "outputs": [
    {
     "data": {
      "text/plain": "          Alpha         1         2          9        10        12        13  \\\n22rv1   0.28000  4.423446  4.134148  10.505010  4.180319  3.828985  3.416169   \n42mgba  0.15420  6.856747  3.792826   8.117941  4.300842  3.534361  3.465385   \n5637    0.32400  3.817624  3.769035   7.944338  4.000219  4.793569  4.246643   \n647v    0.06075  4.322558  3.730195   8.515086  4.421911  3.894124  3.649778   \n769p    0.16090  4.020103  3.846175   8.278318  4.400144  4.855821  3.731236   \n\n              14        15         16  ...  100630918  100631378  100642175  \\\n22rv1   8.924422  3.547737  10.489760  ...   5.662483   3.535540   5.441015   \n42mgba  8.689804  3.730495  10.063663  ...   4.894637   3.717672   4.600157   \n5637    9.218668  3.775753   8.843498  ...   5.375774   3.438822   5.457984   \n647v    8.962272  3.469970  10.341420  ...   5.286006   3.415911   4.769920   \n769p    9.109365  3.576632  10.172053  ...   5.318118   3.583233   4.643916   \n\n        100652770  100652791  100653022  100689073  100689074  100820829  \\\n22rv1    4.484159   3.272955   3.932815   3.518021   4.202408   4.675101   \n42mgba   3.986362   3.102421   4.577944   3.650426   3.155024   4.213095   \n5637     5.054120   3.542372   4.057933   3.664296   3.268805   7.120733   \n647v     4.744037   3.426386   4.216155   3.417696   3.374419   6.135024   \n769p     4.882646   3.490162   4.041154   3.375546   3.291270   4.529068   \n\n                Beta  \n22rv1   5.625000e-08  \n42mgba  2.409000e-02  \n5637    9.217000e-03  \n647v    6.135000e-02  \n769p    1.736000e-02  \n\n[5 rows x 18525 columns]",
      "text/html": "<div>\n<style scoped>\n    .dataframe tbody tr th:only-of-type {\n        vertical-align: middle;\n    }\n\n    .dataframe tbody tr th {\n        vertical-align: top;\n    }\n\n    .dataframe thead th {\n        text-align: right;\n    }\n</style>\n<table border=\"1\" class=\"dataframe\">\n  <thead>\n    <tr style=\"text-align: right;\">\n      <th></th>\n      <th>Alpha</th>\n      <th>1</th>\n      <th>2</th>\n      <th>9</th>\n      <th>10</th>\n      <th>12</th>\n      <th>13</th>\n      <th>14</th>\n      <th>15</th>\n      <th>16</th>\n      <th>...</th>\n      <th>100630918</th>\n      <th>100631378</th>\n      <th>100642175</th>\n      <th>100652770</th>\n      <th>100652791</th>\n      <th>100653022</th>\n      <th>100689073</th>\n      <th>100689074</th>\n      <th>100820829</th>\n      <th>Beta</th>\n    </tr>\n  </thead>\n  <tbody>\n    <tr>\n      <th>22rv1</th>\n      <td>0.28000</td>\n      <td>4.423446</td>\n      <td>4.134148</td>\n      <td>10.505010</td>\n      <td>4.180319</td>\n      <td>3.828985</td>\n      <td>3.416169</td>\n      <td>8.924422</td>\n      <td>3.547737</td>\n      <td>10.489760</td>\n      <td>...</td>\n      <td>5.662483</td>\n      <td>3.535540</td>\n      <td>5.441015</td>\n      <td>4.484159</td>\n      <td>3.272955</td>\n      <td>3.932815</td>\n      <td>3.518021</td>\n      <td>4.202408</td>\n      <td>4.675101</td>\n      <td>5.625000e-08</td>\n    </tr>\n    <tr>\n      <th>42mgba</th>\n      <td>0.15420</td>\n      <td>6.856747</td>\n      <td>3.792826</td>\n      <td>8.117941</td>\n      <td>4.300842</td>\n      <td>3.534361</td>\n      <td>3.465385</td>\n      <td>8.689804</td>\n      <td>3.730495</td>\n      <td>10.063663</td>\n      <td>...</td>\n      <td>4.894637</td>\n      <td>3.717672</td>\n      <td>4.600157</td>\n      <td>3.986362</td>\n      <td>3.102421</td>\n      <td>4.577944</td>\n      <td>3.650426</td>\n      <td>3.155024</td>\n      <td>4.213095</td>\n      <td>2.409000e-02</td>\n    </tr>\n    <tr>\n      <th>5637</th>\n      <td>0.32400</td>\n      <td>3.817624</td>\n      <td>3.769035</td>\n      <td>7.944338</td>\n      <td>4.000219</td>\n      <td>4.793569</td>\n      <td>4.246643</td>\n      <td>9.218668</td>\n      <td>3.775753</td>\n      <td>8.843498</td>\n      <td>...</td>\n      <td>5.375774</td>\n      <td>3.438822</td>\n      <td>5.457984</td>\n      <td>5.054120</td>\n      <td>3.542372</td>\n      <td>4.057933</td>\n      <td>3.664296</td>\n      <td>3.268805</td>\n      <td>7.120733</td>\n      <td>9.217000e-03</td>\n    </tr>\n    <tr>\n      <th>647v</th>\n      <td>0.06075</td>\n      <td>4.322558</td>\n      <td>3.730195</td>\n      <td>8.515086</td>\n      <td>4.421911</td>\n      <td>3.894124</td>\n      <td>3.649778</td>\n      <td>8.962272</td>\n      <td>3.469970</td>\n      <td>10.341420</td>\n      <td>...</td>\n      <td>5.286006</td>\n      <td>3.415911</td>\n      <td>4.769920</td>\n      <td>4.744037</td>\n      <td>3.426386</td>\n      <td>4.216155</td>\n      <td>3.417696</td>\n      <td>3.374419</td>\n      <td>6.135024</td>\n      <td>6.135000e-02</td>\n    </tr>\n    <tr>\n      <th>769p</th>\n      <td>0.16090</td>\n      <td>4.020103</td>\n      <td>3.846175</td>\n      <td>8.278318</td>\n      <td>4.400144</td>\n      <td>4.855821</td>\n      <td>3.731236</td>\n      <td>9.109365</td>\n      <td>3.576632</td>\n      <td>10.172053</td>\n      <td>...</td>\n      <td>5.318118</td>\n      <td>3.583233</td>\n      <td>4.643916</td>\n      <td>4.882646</td>\n      <td>3.490162</td>\n      <td>4.041154</td>\n      <td>3.375546</td>\n      <td>3.291270</td>\n      <td>4.529068</td>\n      <td>1.736000e-02</td>\n    </tr>\n  </tbody>\n</table>\n<p>5 rows × 18525 columns</p>\n</div>"
     },
     "execution_count": 12,
     "metadata": {},
     "output_type": "execute_result"
    }
   ],
   "source": [
    "combined_df = pd.concat([df_alpha, beta_col], axis=1)\n",
    "combined_df.head()"
   ],
   "metadata": {
    "collapsed": false,
    "pycharm": {
     "name": "#%%\n"
    }
   }
  },
  {
   "cell_type": "code",
   "execution_count": 14,
   "outputs": [],
   "source": [
    "combined_df.to_csv('data/ccle_alpha_and_beta.csv')"
   ],
   "metadata": {
    "collapsed": false,
    "pycharm": {
     "name": "#%%\n"
    }
   }
  },
  {
   "cell_type": "code",
   "execution_count": null,
   "outputs": [],
   "source": [],
   "metadata": {
    "collapsed": false,
    "pycharm": {
     "name": "#%%\n"
    }
   }
  }
 ],
 "metadata": {
  "kernelspec": {
   "display_name": "Python 3",
   "language": "python",
   "name": "python3"
  },
  "language_info": {
   "codemirror_mode": {
    "name": "ipython",
    "version": 2
   },
   "file_extension": ".py",
   "mimetype": "text/x-python",
   "name": "python",
   "nbconvert_exporter": "python",
   "pygments_lexer": "ipython2",
   "version": "2.7.6"
  }
 },
 "nbformat": 4,
 "nbformat_minor": 0
}