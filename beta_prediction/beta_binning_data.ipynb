{
 "cells": [
  {
   "cell_type": "code",
   "execution_count": 91,
   "outputs": [],
   "source": [
    "import pandas as pd"
   ],
   "metadata": {
    "collapsed": false,
    "pycharm": {
     "name": "#%%\n"
    }
   }
  },
  {
   "cell_type": "code",
   "execution_count": 92,
   "outputs": [],
   "source": [
    "df = pd.read_csv('data/cclebeta.csv', index_col=0)"
   ],
   "metadata": {
    "collapsed": false,
    "pycharm": {
     "name": "#%%\n"
    }
   }
  },
  {
   "cell_type": "code",
   "execution_count": 93,
   "outputs": [
    {
     "data": {
      "text/plain": "                Beta         1         2          9        10        12  \\\n22rv1   5.625000e-08  4.423446  4.134148  10.505010  4.180319  3.828985   \n42mgba  2.409000e-02  6.856747  3.792826   8.117941  4.300842  3.534361   \n5637    9.217000e-03  3.817624  3.769035   7.944338  4.000219  4.793569   \n647v    6.135000e-02  4.322558  3.730195   8.515086  4.421911  3.894124   \n769p    1.736000e-02  4.020103  3.846175   8.278318  4.400144  4.855821   \n\n              13        14        15         16  ...  100628307  100630918  \\\n22rv1   3.416169  8.924422  3.547737  10.489760  ...   3.641889   5.662483   \n42mgba  3.465385  8.689804  3.730495  10.063663  ...   3.527367   4.894637   \n5637    4.246643  9.218668  3.775753   8.843498  ...   3.502305   5.375774   \n647v    3.649778  8.962272  3.469970  10.341420  ...   3.402495   5.286006   \n769p    3.731236  9.109365  3.576632  10.172053  ...   3.720749   5.318118   \n\n        100631378  100642175  100652770  100652791  100653022  100689073  \\\n22rv1    3.535540   5.441015   4.484159   3.272955   3.932815   3.518021   \n42mgba   3.717672   4.600157   3.986362   3.102421   4.577944   3.650426   \n5637     3.438822   5.457984   5.054120   3.542372   4.057933   3.664296   \n647v     3.415911   4.769920   4.744037   3.426386   4.216155   3.417696   \n769p     3.583233   4.643916   4.882646   3.490162   4.041154   3.375546   \n\n        100689074  100820829  \n22rv1    4.202408   4.675101  \n42mgba   3.155024   4.213095  \n5637     3.268805   7.120733  \n647v     3.374419   6.135024  \n769p     3.291270   4.529068  \n\n[5 rows x 18524 columns]",
      "text/html": "<div>\n<style scoped>\n    .dataframe tbody tr th:only-of-type {\n        vertical-align: middle;\n    }\n\n    .dataframe tbody tr th {\n        vertical-align: top;\n    }\n\n    .dataframe thead th {\n        text-align: right;\n    }\n</style>\n<table border=\"1\" class=\"dataframe\">\n  <thead>\n    <tr style=\"text-align: right;\">\n      <th></th>\n      <th>Beta</th>\n      <th>1</th>\n      <th>2</th>\n      <th>9</th>\n      <th>10</th>\n      <th>12</th>\n      <th>13</th>\n      <th>14</th>\n      <th>15</th>\n      <th>16</th>\n      <th>...</th>\n      <th>100628307</th>\n      <th>100630918</th>\n      <th>100631378</th>\n      <th>100642175</th>\n      <th>100652770</th>\n      <th>100652791</th>\n      <th>100653022</th>\n      <th>100689073</th>\n      <th>100689074</th>\n      <th>100820829</th>\n    </tr>\n  </thead>\n  <tbody>\n    <tr>\n      <th>22rv1</th>\n      <td>5.625000e-08</td>\n      <td>4.423446</td>\n      <td>4.134148</td>\n      <td>10.505010</td>\n      <td>4.180319</td>\n      <td>3.828985</td>\n      <td>3.416169</td>\n      <td>8.924422</td>\n      <td>3.547737</td>\n      <td>10.489760</td>\n      <td>...</td>\n      <td>3.641889</td>\n      <td>5.662483</td>\n      <td>3.535540</td>\n      <td>5.441015</td>\n      <td>4.484159</td>\n      <td>3.272955</td>\n      <td>3.932815</td>\n      <td>3.518021</td>\n      <td>4.202408</td>\n      <td>4.675101</td>\n    </tr>\n    <tr>\n      <th>42mgba</th>\n      <td>2.409000e-02</td>\n      <td>6.856747</td>\n      <td>3.792826</td>\n      <td>8.117941</td>\n      <td>4.300842</td>\n      <td>3.534361</td>\n      <td>3.465385</td>\n      <td>8.689804</td>\n      <td>3.730495</td>\n      <td>10.063663</td>\n      <td>...</td>\n      <td>3.527367</td>\n      <td>4.894637</td>\n      <td>3.717672</td>\n      <td>4.600157</td>\n      <td>3.986362</td>\n      <td>3.102421</td>\n      <td>4.577944</td>\n      <td>3.650426</td>\n      <td>3.155024</td>\n      <td>4.213095</td>\n    </tr>\n    <tr>\n      <th>5637</th>\n      <td>9.217000e-03</td>\n      <td>3.817624</td>\n      <td>3.769035</td>\n      <td>7.944338</td>\n      <td>4.000219</td>\n      <td>4.793569</td>\n      <td>4.246643</td>\n      <td>9.218668</td>\n      <td>3.775753</td>\n      <td>8.843498</td>\n      <td>...</td>\n      <td>3.502305</td>\n      <td>5.375774</td>\n      <td>3.438822</td>\n      <td>5.457984</td>\n      <td>5.054120</td>\n      <td>3.542372</td>\n      <td>4.057933</td>\n      <td>3.664296</td>\n      <td>3.268805</td>\n      <td>7.120733</td>\n    </tr>\n    <tr>\n      <th>647v</th>\n      <td>6.135000e-02</td>\n      <td>4.322558</td>\n      <td>3.730195</td>\n      <td>8.515086</td>\n      <td>4.421911</td>\n      <td>3.894124</td>\n      <td>3.649778</td>\n      <td>8.962272</td>\n      <td>3.469970</td>\n      <td>10.341420</td>\n      <td>...</td>\n      <td>3.402495</td>\n      <td>5.286006</td>\n      <td>3.415911</td>\n      <td>4.769920</td>\n      <td>4.744037</td>\n      <td>3.426386</td>\n      <td>4.216155</td>\n      <td>3.417696</td>\n      <td>3.374419</td>\n      <td>6.135024</td>\n    </tr>\n    <tr>\n      <th>769p</th>\n      <td>1.736000e-02</td>\n      <td>4.020103</td>\n      <td>3.846175</td>\n      <td>8.278318</td>\n      <td>4.400144</td>\n      <td>4.855821</td>\n      <td>3.731236</td>\n      <td>9.109365</td>\n      <td>3.576632</td>\n      <td>10.172053</td>\n      <td>...</td>\n      <td>3.720749</td>\n      <td>5.318118</td>\n      <td>3.583233</td>\n      <td>4.643916</td>\n      <td>4.882646</td>\n      <td>3.490162</td>\n      <td>4.041154</td>\n      <td>3.375546</td>\n      <td>3.291270</td>\n      <td>4.529068</td>\n    </tr>\n  </tbody>\n</table>\n<p>5 rows × 18524 columns</p>\n</div>"
     },
     "execution_count": 93,
     "metadata": {},
     "output_type": "execute_result"
    }
   ],
   "source": [
    "df.head()"
   ],
   "metadata": {
    "collapsed": false,
    "pycharm": {
     "name": "#%%\n"
    }
   }
  },
  {
   "cell_type": "code",
   "execution_count": 94,
   "outputs": [],
   "source": [
    "df_sorted = df.sort_values('Beta')"
   ],
   "metadata": {
    "collapsed": false,
    "pycharm": {
     "name": "#%%\n"
    }
   }
  },
  {
   "cell_type": "code",
   "execution_count": 95,
   "outputs": [
    {
     "data": {
      "text/plain": "                  Beta         1         2         9        10        12  \\\nncih1838  2.642000e-11  4.961071  3.630195  8.695267  4.283843  4.344439   \nsnu61     1.049000e-10  4.072509  3.910575  8.071437  6.137423  4.072130   \nmkn74     1.704000e-10  4.467035  3.862263  7.365520  4.232615  3.975874   \nsnu407    1.998000e-10  3.662729  3.735107  8.283153  4.166486  4.064937   \nhuh28     2.074000e-10  4.186921  4.086841  5.986209  5.096623  4.286439   \n\n                13        14        15         16  ...  100628307  100630918  \\\nncih1838  3.802376  8.827035  3.353719  10.185787  ...   3.745603   5.576789   \nsnu61     3.843228  9.497450  3.677560  10.470444  ...   3.643644   5.709993   \nmkn74     3.799610  8.890726  3.375059  11.094143  ...   3.650151   5.436915   \nsnu407    4.389859  9.254205  3.414116  10.613076  ...   3.316558   5.317613   \nhuh28     4.030164  8.245387  3.387594   9.888688  ...   3.596370   5.063555   \n\n          100631378  100642175  100652770  100652791  100653022  100689073  \\\nncih1838   3.625893   5.248171   4.487401   3.533984   3.927696   3.502210   \nsnu61      3.534072   6.157029   5.121757   3.357921   4.015496   3.458155   \nmkn74      4.640616   5.303914   4.397426   3.479735   4.914457   3.495649   \nsnu407     3.536928   5.062972   5.028080   3.514160   4.510738   3.536222   \nhuh28      3.541462   5.525603   4.187762   3.463820   5.342083   3.584642   \n\n          100689074  100820829  \nncih1838   3.324512   5.203998  \nsnu61      3.227455   5.869892  \nmkn74      8.236865   5.627709  \nsnu407     3.247987   5.695928  \nhuh28      3.448283   8.549362  \n\n[5 rows x 18524 columns]",
      "text/html": "<div>\n<style scoped>\n    .dataframe tbody tr th:only-of-type {\n        vertical-align: middle;\n    }\n\n    .dataframe tbody tr th {\n        vertical-align: top;\n    }\n\n    .dataframe thead th {\n        text-align: right;\n    }\n</style>\n<table border=\"1\" class=\"dataframe\">\n  <thead>\n    <tr style=\"text-align: right;\">\n      <th></th>\n      <th>Beta</th>\n      <th>1</th>\n      <th>2</th>\n      <th>9</th>\n      <th>10</th>\n      <th>12</th>\n      <th>13</th>\n      <th>14</th>\n      <th>15</th>\n      <th>16</th>\n      <th>...</th>\n      <th>100628307</th>\n      <th>100630918</th>\n      <th>100631378</th>\n      <th>100642175</th>\n      <th>100652770</th>\n      <th>100652791</th>\n      <th>100653022</th>\n      <th>100689073</th>\n      <th>100689074</th>\n      <th>100820829</th>\n    </tr>\n  </thead>\n  <tbody>\n    <tr>\n      <th>ncih1838</th>\n      <td>2.642000e-11</td>\n      <td>4.961071</td>\n      <td>3.630195</td>\n      <td>8.695267</td>\n      <td>4.283843</td>\n      <td>4.344439</td>\n      <td>3.802376</td>\n      <td>8.827035</td>\n      <td>3.353719</td>\n      <td>10.185787</td>\n      <td>...</td>\n      <td>3.745603</td>\n      <td>5.576789</td>\n      <td>3.625893</td>\n      <td>5.248171</td>\n      <td>4.487401</td>\n      <td>3.533984</td>\n      <td>3.927696</td>\n      <td>3.502210</td>\n      <td>3.324512</td>\n      <td>5.203998</td>\n    </tr>\n    <tr>\n      <th>snu61</th>\n      <td>1.049000e-10</td>\n      <td>4.072509</td>\n      <td>3.910575</td>\n      <td>8.071437</td>\n      <td>6.137423</td>\n      <td>4.072130</td>\n      <td>3.843228</td>\n      <td>9.497450</td>\n      <td>3.677560</td>\n      <td>10.470444</td>\n      <td>...</td>\n      <td>3.643644</td>\n      <td>5.709993</td>\n      <td>3.534072</td>\n      <td>6.157029</td>\n      <td>5.121757</td>\n      <td>3.357921</td>\n      <td>4.015496</td>\n      <td>3.458155</td>\n      <td>3.227455</td>\n      <td>5.869892</td>\n    </tr>\n    <tr>\n      <th>mkn74</th>\n      <td>1.704000e-10</td>\n      <td>4.467035</td>\n      <td>3.862263</td>\n      <td>7.365520</td>\n      <td>4.232615</td>\n      <td>3.975874</td>\n      <td>3.799610</td>\n      <td>8.890726</td>\n      <td>3.375059</td>\n      <td>11.094143</td>\n      <td>...</td>\n      <td>3.650151</td>\n      <td>5.436915</td>\n      <td>4.640616</td>\n      <td>5.303914</td>\n      <td>4.397426</td>\n      <td>3.479735</td>\n      <td>4.914457</td>\n      <td>3.495649</td>\n      <td>8.236865</td>\n      <td>5.627709</td>\n    </tr>\n    <tr>\n      <th>snu407</th>\n      <td>1.998000e-10</td>\n      <td>3.662729</td>\n      <td>3.735107</td>\n      <td>8.283153</td>\n      <td>4.166486</td>\n      <td>4.064937</td>\n      <td>4.389859</td>\n      <td>9.254205</td>\n      <td>3.414116</td>\n      <td>10.613076</td>\n      <td>...</td>\n      <td>3.316558</td>\n      <td>5.317613</td>\n      <td>3.536928</td>\n      <td>5.062972</td>\n      <td>5.028080</td>\n      <td>3.514160</td>\n      <td>4.510738</td>\n      <td>3.536222</td>\n      <td>3.247987</td>\n      <td>5.695928</td>\n    </tr>\n    <tr>\n      <th>huh28</th>\n      <td>2.074000e-10</td>\n      <td>4.186921</td>\n      <td>4.086841</td>\n      <td>5.986209</td>\n      <td>5.096623</td>\n      <td>4.286439</td>\n      <td>4.030164</td>\n      <td>8.245387</td>\n      <td>3.387594</td>\n      <td>9.888688</td>\n      <td>...</td>\n      <td>3.596370</td>\n      <td>5.063555</td>\n      <td>3.541462</td>\n      <td>5.525603</td>\n      <td>4.187762</td>\n      <td>3.463820</td>\n      <td>5.342083</td>\n      <td>3.584642</td>\n      <td>3.448283</td>\n      <td>8.549362</td>\n    </tr>\n  </tbody>\n</table>\n<p>5 rows × 18524 columns</p>\n</div>"
     },
     "execution_count": 95,
     "metadata": {},
     "output_type": "execute_result"
    }
   ],
   "source": [
    "df_sorted.head()"
   ],
   "metadata": {
    "collapsed": false,
    "pycharm": {
     "name": "#%%\n"
    }
   }
  },
  {
   "cell_type": "code",
   "execution_count": 96,
   "outputs": [
    {
     "data": {
      "text/plain": "             Beta         1         2         9        10        12        13  \\\numuc3     0.05109  4.817978  3.957343  6.814907  4.132702  4.159649  3.644714   \ntov112d   0.05113  5.447148  6.270724  7.920807  4.352501  4.253490  3.670306   \nkns60     0.05416  3.904971  3.666158  7.488124  4.148571  3.874734  3.499912   \nmiapaca2  0.05707  3.473243  3.710311  6.594881  3.996378  9.712867  3.878802   \n647v      0.06135  4.322558  3.730195  8.515086  4.421911  3.894124  3.649778   \n\n                14        15         16  ...  100628307  100630918  100631378  \\\numuc3     8.698966  3.470168  10.147199  ...   3.596167   6.562386   3.656961   \ntov112d   9.258877  3.621599  10.738287  ...   3.547298   6.263529   3.462054   \nkns60     8.459988  3.407595  10.176567  ...   3.465008   5.892115   3.729664   \nmiapaca2  9.253415  3.209107  10.246501  ...   3.488622   6.249669   3.501296   \n647v      8.962272  3.469970  10.341420  ...   3.402495   5.286006   3.415911   \n\n          100642175  100652770  100652791  100653022  100689073  100689074  \\\numuc3      6.790066   4.126141   3.322478   4.457152   3.719499   3.483610   \ntov112d    5.107243   3.879972   3.757405   4.730726   3.530734   3.267991   \nkns60      5.063084   3.950187   3.292951   4.126769   3.610831   5.917034   \nmiapaca2   9.780417   3.943924   3.130470   4.576455   3.513429   3.129162   \n647v       4.769920   4.744037   3.426386   4.216155   3.417696   3.374419   \n\n          100820829  \numuc3      4.304561  \ntov112d    4.925601  \nkns60      6.109810  \nmiapaca2   4.326204  \n647v       6.135024  \n\n[5 rows x 18524 columns]",
      "text/html": "<div>\n<style scoped>\n    .dataframe tbody tr th:only-of-type {\n        vertical-align: middle;\n    }\n\n    .dataframe tbody tr th {\n        vertical-align: top;\n    }\n\n    .dataframe thead th {\n        text-align: right;\n    }\n</style>\n<table border=\"1\" class=\"dataframe\">\n  <thead>\n    <tr style=\"text-align: right;\">\n      <th></th>\n      <th>Beta</th>\n      <th>1</th>\n      <th>2</th>\n      <th>9</th>\n      <th>10</th>\n      <th>12</th>\n      <th>13</th>\n      <th>14</th>\n      <th>15</th>\n      <th>16</th>\n      <th>...</th>\n      <th>100628307</th>\n      <th>100630918</th>\n      <th>100631378</th>\n      <th>100642175</th>\n      <th>100652770</th>\n      <th>100652791</th>\n      <th>100653022</th>\n      <th>100689073</th>\n      <th>100689074</th>\n      <th>100820829</th>\n    </tr>\n  </thead>\n  <tbody>\n    <tr>\n      <th>umuc3</th>\n      <td>0.05109</td>\n      <td>4.817978</td>\n      <td>3.957343</td>\n      <td>6.814907</td>\n      <td>4.132702</td>\n      <td>4.159649</td>\n      <td>3.644714</td>\n      <td>8.698966</td>\n      <td>3.470168</td>\n      <td>10.147199</td>\n      <td>...</td>\n      <td>3.596167</td>\n      <td>6.562386</td>\n      <td>3.656961</td>\n      <td>6.790066</td>\n      <td>4.126141</td>\n      <td>3.322478</td>\n      <td>4.457152</td>\n      <td>3.719499</td>\n      <td>3.483610</td>\n      <td>4.304561</td>\n    </tr>\n    <tr>\n      <th>tov112d</th>\n      <td>0.05113</td>\n      <td>5.447148</td>\n      <td>6.270724</td>\n      <td>7.920807</td>\n      <td>4.352501</td>\n      <td>4.253490</td>\n      <td>3.670306</td>\n      <td>9.258877</td>\n      <td>3.621599</td>\n      <td>10.738287</td>\n      <td>...</td>\n      <td>3.547298</td>\n      <td>6.263529</td>\n      <td>3.462054</td>\n      <td>5.107243</td>\n      <td>3.879972</td>\n      <td>3.757405</td>\n      <td>4.730726</td>\n      <td>3.530734</td>\n      <td>3.267991</td>\n      <td>4.925601</td>\n    </tr>\n    <tr>\n      <th>kns60</th>\n      <td>0.05416</td>\n      <td>3.904971</td>\n      <td>3.666158</td>\n      <td>7.488124</td>\n      <td>4.148571</td>\n      <td>3.874734</td>\n      <td>3.499912</td>\n      <td>8.459988</td>\n      <td>3.407595</td>\n      <td>10.176567</td>\n      <td>...</td>\n      <td>3.465008</td>\n      <td>5.892115</td>\n      <td>3.729664</td>\n      <td>5.063084</td>\n      <td>3.950187</td>\n      <td>3.292951</td>\n      <td>4.126769</td>\n      <td>3.610831</td>\n      <td>5.917034</td>\n      <td>6.109810</td>\n    </tr>\n    <tr>\n      <th>miapaca2</th>\n      <td>0.05707</td>\n      <td>3.473243</td>\n      <td>3.710311</td>\n      <td>6.594881</td>\n      <td>3.996378</td>\n      <td>9.712867</td>\n      <td>3.878802</td>\n      <td>9.253415</td>\n      <td>3.209107</td>\n      <td>10.246501</td>\n      <td>...</td>\n      <td>3.488622</td>\n      <td>6.249669</td>\n      <td>3.501296</td>\n      <td>9.780417</td>\n      <td>3.943924</td>\n      <td>3.130470</td>\n      <td>4.576455</td>\n      <td>3.513429</td>\n      <td>3.129162</td>\n      <td>4.326204</td>\n    </tr>\n    <tr>\n      <th>647v</th>\n      <td>0.06135</td>\n      <td>4.322558</td>\n      <td>3.730195</td>\n      <td>8.515086</td>\n      <td>4.421911</td>\n      <td>3.894124</td>\n      <td>3.649778</td>\n      <td>8.962272</td>\n      <td>3.469970</td>\n      <td>10.341420</td>\n      <td>...</td>\n      <td>3.402495</td>\n      <td>5.286006</td>\n      <td>3.415911</td>\n      <td>4.769920</td>\n      <td>4.744037</td>\n      <td>3.426386</td>\n      <td>4.216155</td>\n      <td>3.417696</td>\n      <td>3.374419</td>\n      <td>6.135024</td>\n    </tr>\n  </tbody>\n</table>\n<p>5 rows × 18524 columns</p>\n</div>"
     },
     "execution_count": 96,
     "metadata": {},
     "output_type": "execute_result"
    }
   ],
   "source": [
    "df_sorted.tail()"
   ],
   "metadata": {
    "collapsed": false,
    "pycharm": {
     "name": "#%%\n"
    }
   }
  },
  {
   "cell_type": "code",
   "execution_count": 97,
   "outputs": [
    {
     "name": "stdout",
     "output_type": "stream",
     "text": [
      "class_1_bin: ['ncih1838', 'snu61', 'mkn74', 'snu407', 'huh28', 'a253', 'ncih1666', 'achn', 'tov21g', 'snu1066', 'colo668', 'tccpan2', 'wm1799', 't84', 'ncih1915', 'hcc1171', 'snuc2a', 'hec151', 'efo27', 'sknsh', 'cl34', 'calu3', 'kns81', 'bc3c', 'cov434', 'a204', 'ncih2030', 'cal148', 'wm115', 'cw2', 'ncih446', 'a172', 'ags', 'hcc1937', 'ncih1793', 'mcf7', 'sngm', 'hec251', 'corl105', 'efo21', 'bicr22', 'dbtrg05mg', 'wm793', 'scc25', 'ml1', 'skco1', 'ke39', 'gos3', 'rl952', 'hs729', 'hec108', 'hcc38', 'eplc272h', 'skmel2', 'snu46', 'ialm', 'ncih727', 'colo783', 'jhuem2', 'nugc3', 'bicr6', 'kns42', 'snu869', 'snu601', 'te15', 'hlf', 'hcc4006', 'rt4', 'snu840', 'snu398', 'ncih1781', 'colo679', 'snu899', 'ncih2405', 'mdamb361', 'snu1041', 'hcc366', 'lu99', 'hs766t', 'snu119', 'bicr31', 'snu245', 'ncih1650', 'ls513', 'capan2', 'kle', 'lclc97tm1', 'hec1b', 'jhuem1', 'ncih1944', 'ht144', 'mdamb157', 'ls180', 'saos2', 'kmrc2', 'tm31', 'ovcar4', 'rvh421', 'lovo', 'wm88', 'ncih358', 'ncih1563', '22rv1', 'ncih522', 'ncih1395', 'vmrcrcw', 'oaw42', 'dms53', 'cfpac1', 'hs746t', 'rcc10rgb', 'hcc1428', 'colo829', 'skmel24', 'ncih2052', 'ncih1651', 'tuhr10tkb', 'snu719', 'nugc4', 'jhoc5', 'ncih23', 'bicr56', 'hmc18', 'snuc5', 'kmrc1', 'mkn7', 'gp2d', 'ncih2196', 'hec265', 'a673', 'ovmana', 'capan1', 'nb1', 'hcc78', 'ncih747', 'ncih2286', 'cov362', 'snuc4', 'ncih1573', 'kp2', 'snu283', 'skbr3', 'istmes1', 'im95', 'ncih1975', 'jhh5', 'hcc827', 'calu1', 'ovk18', 'heya8', 'snu1272', 'c32', 'ovtoko', 'mhhnb11', 'ncih810', 'ocum1', 'hcc1833', 'ncih1048', 'ncih1568', 'rh18', 'vcap', 'hupt4', 'snu1033', 'sw48', 'oe33', 'ncin87', 'hec59', 'kpnsi9s', 'wm983b', 'kym1', 'a2780', 'colo678', 'hs294t', 'hcc2935', 'ncih2291', 'g402', 'hcc2279', 'pc3', 'caov3', 't3m10', 'u2os', 'gi1', 'sf295', 'c2bbe1', 'qgp1', 'jl1', 'cal12t', 'chp212', 'hec50b', 'ht55', 'zr7530', 'ncih211', 'messa', 'hec1a', 'rerflcad2', 'cov644', 'kmrc3', 'cal54', 'ncih2342', 'rmugs', 'scc9', 'ncih2452', 'pk59', 'hec6', 'kals1', 'kmbc2', 'ovkate', 'snu466', 'cama1', 'sw403', 'bht101', 'ncih520', 'u87mg', 'ecgi10', 'dm3', 'psn1', 'hcc1569', 'ccfsttg1', 't47d', 'ncih1373', 'igrov1', 'rh41', 'ncih69', 'ncih2122', 'mdamb415', 'hcc1588', 'jhos2', 'zr751', 'snu1196', 'snu216', 'snu81', 'dms114', 'ncih1623', 'osrc2', 'gb1', 'ncih1869', 'vmrclcd', 'rerflcad1', 'imr32', 'bt474', 'te4', 'ncih508', 'jhh1', 'hcc202', 'hpafii', 'colo800', 'sw837', 'ov7', 'hupt3', 'sw1116', 'ncih1435', 'sw1417', 'hcc1419', 'hcc2108', 'hcc1954', 'ls123', 'mhhes1', 'hct15', 'aspc1', 'sw480', 'ovise', 'melho', 'ebc1', 'ncih650', 'tccsup', 'snu1214', 'sw1463', 'dkmg', 'snu503', 'an3ca', 'a498', 'colo680n', 'cal51', 'detroit562', 'kuramochi', 'mdamb468', 'scaber', 'snu685', 'sw1990', 'mfe296', 'jhuem3', 'ls1034', 'sjsa1', 'ht1376', 'chagok1', 'hcc15', '8505c', 'sw1573', 'ln229', 'skut1', 'sklms1', 'efm192a', 'cl11']\n",
      "class_1_len: 293\n",
      "class_2_bin: ['hsc3', 'colo320', 'ovsaho', 'mdamb453', 'mdamb231', 'ht1197', 'ov56', 'skhep1', 'igr39', 'snu668', 'caki2', 'ncih196', 'ncih1341', 'ludlu1', 'vmrcrcz', 'katoiii', 'au565', 'mg63', 'snu175', 'g401', 'ipc298', 'bt20', 'skmel30', 'caki1', 'huh1', 'wm2664', 'u118mg', 'sklu1', 'snu1105', 'oncodg1', 'bicr16', 'ncih2087', 'daoy']\n",
      "class_2_len: 33\n",
      "class_3_bin: ['hcc1195', 'rd', 'rcm1', 'pk45h', 'mfe319', 'patu8988s', 'ncih1755', 'snu387', 'fuov1', 'te1', 'te9', '5637', 'gct', 'bxpc3', 'oc314', 'snu886', 'snu423']\n",
      "class_3_len: 17\n",
      "class_4_bin: ['jhh6', 'skmel28', 'k029ax', 'tt2609c02', 'mpp89', 'kyse520', 'snu761', 'sw1710', '786o', 'shp77', 'j82', 'igr37', 'pc14', 'ftc133', 'sknfi', 'skmel3', 'ku1919', 'snu475', 'skmel5']\n",
      "class_4_len: 19\n",
      "class_5_bin: ['snu182', 't24', 'cal78', 'ov90', 'a101d', 'sw1271', 'm059k', 'kns62', 'ncih841', 'jhh2', 'ncih1299', 'te8', 'gms10', 'rerflcai', 'ncih2228', '769p', 'kyse140', 'sknas', 'efe184']\n",
      "class_5_len: 19\n",
      "class_6_bin: ['skov3', 'ncih1355', 'rerflcms', 'te10', 'ncih661', 'lounh91', 'pk1', 'kyse150', 'cjm', 'am38', 'kp3', 'accmeso1', 'snu308', 'jhom1', 'h4', 'snu1077', 'jhh4', 'mdamb435s', 'ncih2110', 'snu449', 'snu478', 'u251mg', 'ublc1', 'oe19', 'hepg2', 'ncih292']\n",
      "class_6_len: 26\n",
      "class_7_bin: ['lk2', 'ht115', 'bcpap', 'skes1', 'ncih322', 'ncih226', 'ncih1703', 'yd8', 'igr1', 'jmsu1', 'kyse70', 'du145', 'sw579', 'yd10b', 'patu8988t', 'rh30', 'kyse510', 'kyse410', 'rko', '42mgba', 'te14', 'hs683', 'ecc12', 'hcc44', 'ht29']\n",
      "class_7_len: 25\n",
      "class_8_bin: ['hcc56', 'bt549', 'mewo', 'gamg', 'umuc1', 'sh10tc', 'vmcub1', 'sw1088', 'mkn45', 'li7', 'lmsu', 'ncih1792', 'a2058', 'yh13', 'becker', 'cgthw1', 'ncih1339']\n",
      "class_8_len: 17\n",
      "class_9_bin: ['rt112', 'te6', 'hos', '8mgba', 'lclc103h', 'hara', 'ons76', 'kyse450', 'cov318', 'hsc4', 'patu8902', 'sf126', 'hsc2']\n",
      "class_9_len: 13\n",
      "class_10_bin: ['mcas', 'ls411n', 't98g', 'hcc95', 'ykg1', 'yd15', 'dang', 'ess1', 'ftc238']\n",
      "class_10_len: 9\n",
      "class_11_bin: ['fadu', 'ncih838', 'es2', 'yd38', 'hmcb', 'sw948', 'kyse180']\n",
      "class_11_len: 7\n",
      "class_12_bin: ['kyse30', 'tyknu', 'hcc1806', 'te11', 'd283med', 'bicr18', 'dld1', 'sknmc', 'ln18', 'ovcar8', 'hcc1438', 'umuc3', 'tov112d', 'kns60', 'miapaca2', '647v']\n",
      "class_12_len: 16\n"
     ]
    }
   ],
   "source": [
    "bins = [0, 0.00357143, 0.00714286, 0.01071429, 0.01428571, 0.01785714,\n",
    " 0.02142857, 0.025, 0.02857143, 0.03214286, 0.03571429, 0.03928571,\n",
    " 0.05]\n",
    "\n",
    "class_1_bin = []\n",
    "class_2_bin = []\n",
    "class_3_bin = []\n",
    "class_4_bin = []\n",
    "class_5_bin = []\n",
    "class_6_bin = []\n",
    "class_7_bin = []\n",
    "class_8_bin = []\n",
    "class_9_bin = []\n",
    "class_10_bin = []\n",
    "class_11_bin = []\n",
    "class_12_bin = []\n",
    "\n",
    "\n",
    "for rows in df_sorted.iterrows():\n",
    "    if bins[0] < rows[1][0] < bins[1]:\n",
    "        class_1_bin_avg = (bins[0] + bins[1]) / 2\n",
    "        class_1_bin.append(rows[0])\n",
    "        class_1_df = pd.DataFrame()\n",
    "        class_1_df['cell_line'] = class_1_bin\n",
    "        class_1_df['Beta'] = class_1_bin_avg\n",
    "        class_1_df.set_index('cell_line', inplace=True)\n",
    "        class_1_df.to_csv('data/class_1_bin.csv')\n",
    "        # print(len(class_1_bin))\n",
    "    elif bins[1] < rows[1][0] < bins[2]:\n",
    "        class_2_bin_avg = (bins[1] + bins[2]) / 2\n",
    "        class_2_bin.append(rows[0])\n",
    "        class_2_df = pd.DataFrame()\n",
    "        class_2_df['cell_line'] = class_2_bin\n",
    "        class_2_df['Beta'] = class_2_bin_avg\n",
    "        class_2_df.set_index('cell_line', inplace=True)\n",
    "        class_2_df.to_csv('class_data/class_2_bin.csv')\n",
    "        # print(len(class_2_bin))\n",
    "    elif bins[2] < rows[1][0] < bins[3]:\n",
    "        class_3_bin_avg = (bins[2] + bins[3]) / 2\n",
    "        class_3_bin.append(rows[0])\n",
    "        class_3_df = pd.DataFrame()\n",
    "        class_3_df['cell_line'] = class_3_bin\n",
    "        class_3_df['Beta'] = class_3_bin_avg\n",
    "        class_3_df.set_index('cell_line', inplace=True)\n",
    "        class_3_df.to_csv('class_data//class_3_bin.csv')\n",
    "        # print(len(class_3_bin))\n",
    "    elif bins[3] < rows[1][0] < bins[4]:\n",
    "        class_4_bin_avg = (bins[3] + bins[4]) / 2\n",
    "        class_4_bin.append(rows[0])\n",
    "        class_4_df = pd.DataFrame()\n",
    "        class_4_df['cell_line'] = class_4_bin\n",
    "        class_4_df['Beta'] = class_4_bin_avg\n",
    "        class_4_df.set_index('cell_line', inplace=True)\n",
    "        class_4_df.to_csv('class_data//class_4_bin.csv')\n",
    "        # print(len(class_4_bin))\n",
    "    elif bins[4] < rows[1][0] < bins[5]:\n",
    "        class_5_bin_avg = (bins[4] + bins[5]) / 2\n",
    "        class_5_bin.append(rows[0])\n",
    "        class_5_df = pd.DataFrame()\n",
    "        class_5_df['cell_line'] = class_5_bin\n",
    "        class_5_df['Beta'] = class_5_bin_avg\n",
    "        class_5_df.set_index('cell_line', inplace=True)\n",
    "        class_5_df.to_csv('class_data//class_5_bin.csv')\n",
    "        # print(len(class_5_bin))\n",
    "    elif bins[5] < rows[1][0] < bins[6]:\n",
    "        class_6_bin_avg = (bins[5] + bins[6]) / 2\n",
    "        class_6_bin.append(rows[0])\n",
    "        class_6_df = pd.DataFrame()\n",
    "        class_6_df['cell_line'] = class_6_bin\n",
    "        class_6_df['Beta'] = class_6_bin_avg\n",
    "        class_6_df.set_index('cell_line', inplace=True)\n",
    "        class_6_df.to_csv('class_data//class_6_bin.csv')\n",
    "        # print(len(class_6_bin))\n",
    "    elif bins[6] < rows[1][0] < bins[7]:\n",
    "        class_7_bin_avg = (bins[6] + bins[7]) / 2\n",
    "        class_7_bin.append(rows[0])\n",
    "        class_7_df = pd.DataFrame()\n",
    "        class_7_df['cell_line'] = class_7_bin\n",
    "        class_7_df['Beta'] = class_7_bin_avg\n",
    "        class_7_df.set_index('cell_line', inplace=True)\n",
    "        class_7_df.to_csv('class_data/class_7_bin.csv')\n",
    "        # print(len(class_7_bin))\n",
    "    elif bins[7] < rows[1][0] < bins[8]:\n",
    "        class_8_bin_avg = (bins[7] + bins[8]) / 2\n",
    "        class_8_bin.append(rows[0])\n",
    "        class_8_df = pd.DataFrame()\n",
    "        class_8_df['cell_line'] = class_8_bin\n",
    "        class_8_df['Beta'] = class_8_bin_avg\n",
    "        class_8_df.set_index('cell_line', inplace=True)\n",
    "        class_8_df.to_csv('class_data/class_8_bin.csv')\n",
    "        # print(len(class_8_bin))\n",
    "    elif bins[8] < rows[1][0] < bins[9]:\n",
    "        class_9_bin_avg = (bins[8] + bins[9]) / 2\n",
    "        class_9_bin.append(rows[0])\n",
    "        class_9_df = pd.DataFrame()\n",
    "        class_9_df['cell_line'] = class_9_bin\n",
    "        class_9_df['Beta'] = class_9_bin_avg\n",
    "        class_9_df.set_index('cell_line', inplace=True)\n",
    "        class_9_df.to_csv('class_data/class_9_bin.csv')\n",
    "        # print(len(class_9_bin))\n",
    "    elif bins[9] < rows[1][0] < bins[10]:\n",
    "        class_10_bin_avg = (bins[9] + bins[10]) / 2\n",
    "        class_10_bin.append(rows[0])\n",
    "        class_10_df = pd.DataFrame()\n",
    "        class_10_df['cell_line'] = class_10_bin\n",
    "        class_10_df['Beta'] = class_10_bin_avg\n",
    "        class_10_df.set_index('cell_line', inplace=True)\n",
    "        class_10_df.to_csv('class_data/class_10_bin.csv')\n",
    "        # print(len(class_10_bin))\n",
    "    elif bins[10] < rows[1][0] < bins[11]:\n",
    "        class_11_bin_avg = (bins[10] + bins[11]) / 2\n",
    "        class_11_bin.append(rows[0])\n",
    "        class_11_df = pd.DataFrame()\n",
    "        class_11_df['cell_line'] = class_11_bin\n",
    "        class_11_df['Beta'] = class_11_bin_avg\n",
    "        class_11_df.set_index('cell_line', inplace=True)\n",
    "        class_11_df.to_csv('class_data/class_11_bin.csv')\n",
    "        # print(len(class_11_bin))\n",
    "    elif bins[11] < rows[1][0]:\n",
    "        class_12_bin_avg = (bins[11] + bins[12]) / 2\n",
    "        class_12_bin.append(rows[0])\n",
    "        class_12_df = pd.DataFrame()\n",
    "        class_12_df['cell_line'] = class_12_bin\n",
    "        class_12_df['Beta'] = class_12_bin_avg\n",
    "        class_12_df.set_index('cell_line', inplace=True)\n",
    "        class_12_df.to_csv('class_data/class_12_bin.csv')\n",
    "        # print(len(class_12_bin))\n",
    "    else:\n",
    "        print(rows[0], rows[1][0])\n",
    "\n",
    "\n",
    "print('class_1_bin: {}'.format(class_1_bin))\n",
    "print('class_1_len: {}'.format(len(class_1_bin)))\n",
    "\n",
    "print('class_2_bin: {}'.format((class_2_bin)))\n",
    "print('class_2_len: {}'.format(len(class_2_bin)))\n",
    "\n",
    "print('class_3_bin: {}'.format((class_3_bin)))\n",
    "print('class_3_len: {}'.format(len(class_3_bin)))\n",
    "\n",
    "print('class_4_bin: {}'.format((class_4_bin)))\n",
    "print('class_4_len: {}'.format(len(class_4_bin)))\n",
    "\n",
    "print('class_5_bin: {}'.format((class_5_bin)))\n",
    "print('class_5_len: {}'.format(len(class_5_bin)))\n",
    "\n",
    "print('class_6_bin: {}'.format((class_6_bin)))\n",
    "print('class_6_len: {}'.format(len(class_6_bin)))\n",
    "\n",
    "print('class_7_bin: {}'.format((class_7_bin)))\n",
    "print('class_7_len: {}'.format(len(class_7_bin)))\n",
    "\n",
    "print('class_8_bin: {}'.format((class_8_bin)))\n",
    "print('class_8_len: {}'.format(len(class_8_bin)))\n",
    "\n",
    "print('class_9_bin: {}'.format((class_9_bin)))\n",
    "print('class_9_len: {}'.format(len(class_9_bin)))\n",
    "\n",
    "print('class_10_bin: {}'.format((class_10_bin)))\n",
    "print('class_10_len: {}'.format(len(class_10_bin)))\n",
    "\n",
    "print('class_11_bin: {}'.format((class_11_bin)))\n",
    "print('class_11_len: {}'.format(len(class_11_bin)))\n",
    "\n",
    "print('class_12_bin: {}'.format((class_12_bin)))\n",
    "print('class_12_len: {}'.format(len(class_12_bin)))\n",
    "\n",
    "\n",
    "    # print(rows[0]) # cell_line name\n",
    "    # print(rows[1][0]) # <-- beta values\n",
    "\n"
   ],
   "metadata": {
    "collapsed": false,
    "pycharm": {
     "name": "#%%\n"
    }
   }
  },
  {
   "cell_type": "code",
   "execution_count": 98,
   "outputs": [],
   "source": [
    "# for i in range(11):\n",
    "#     class_x_beta_vals = 'class_{}_beta_vals'.format(i+1)\n",
    "#     class_x_avg = 'class_{}_avg'.format(i+1)\n",
    "#     class_x_df = 'class_{}_df'.format(i+1)\n",
    "#     # print(class_x_avg)\n",
    "#     # print(class_x_beta_vals)\n",
    "#     class_x_beta_vals = []\n",
    "#     class_x_avg = (bins[i+1] + bins[i+2])/2\n",
    "#\n",
    "#     for j in range(len('class_{}_bin'.format(i+1))):\n",
    "#         class_x_beta_vals.append(class_x_avg)\n",
    "#         print('class_{}_bin'.format(i+1))\n",
    "#     class_x_beta_vals = pd.DataFrame(class_x_beta_vals, columns=['Beta'])\n",
    "#     class_x_df = pd.DataFrame()\n",
    "#     class_x_df['cell_line'] = 'class_{}_bin'.format(i+1)\n",
    "#     class_x_df['Beta'] = class_x_beta_vals\n",
    "#     class_x_df.set_index('cell_line', inplace=True)\n",
    "#     class_x_df.to_csv('class_data/class_{}_df.csv'.format(i+1))"
   ],
   "metadata": {
    "collapsed": false,
    "pycharm": {
     "name": "#%%\n"
    }
   }
  },
  {
   "cell_type": "code",
   "execution_count": 99,
   "outputs": [],
   "source": [
    "frames = [class_1_df,  class_2_df, class_3_df, class_4_df, class_5_df, class_6_df, class_7_df, class_8_df, class_9_df, class_10_df, class_11_df, class_12_df]\n",
    "result = pd.concat(frames)\n",
    "result.to_csv('class_data/all_combined.csv')"
   ],
   "metadata": {
    "collapsed": false,
    "pycharm": {
     "name": "#%%\n"
    }
   }
  }
 ],
 "metadata": {
  "kernelspec": {
   "display_name": "Python 3",
   "language": "python",
   "name": "python3"
  },
  "language_info": {
   "codemirror_mode": {
    "name": "ipython",
    "version": 2
   },
   "file_extension": ".py",
   "mimetype": "text/x-python",
   "name": "python",
   "nbconvert_exporter": "python",
   "pygments_lexer": "ipython2",
   "version": "2.7.6"
  }
 },
 "nbformat": 4,
 "nbformat_minor": 0
}