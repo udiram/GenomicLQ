{
 "cells": [
  {
   "cell_type": "code",
   "execution_count": 1,
   "outputs": [],
   "source": [
    "from tpot import TPOTRegressor\n",
    "from sklearn.datasets import make_regression\n",
    "from sklearn.model_selection import train_test_split\n",
    "from sklearn.metrics import r2_score\n",
    "import pandas as pd"
   ],
   "metadata": {
    "collapsed": false,
    "pycharm": {
     "name": "#%%\n"
    }
   }
  },
  {
   "cell_type": "code",
   "execution_count": 2,
   "outputs": [],
   "source": [
    "df_x = pd.read_csv('data/train_X_beta.csv', index_col=0)\n",
    "df_y = pd.read_csv('data/train_y_beta.csv', index_col=0)\n",
    "df_x_test = pd.read_csv('data/test_X_beta.csv', index_col=0)\n",
    "df_y_test = pd.read_csv('data/test_y_beta.csv', index_col=0)"
   ],
   "metadata": {
    "collapsed": false,
    "pycharm": {
     "name": "#%%\n"
    }
   }
  },
  {
   "cell_type": "code",
   "execution_count": 3,
   "outputs": [
    {
     "data": {
      "text/plain": "                1         2         9        10        12        13        14  \\\nhct15    3.500325  3.756189  7.506203  4.122036  4.173129  3.503203  9.268220   \njhh4     3.966084  3.634253  5.373000  4.021875  4.188665  3.537557  8.987120   \nsnu1105  5.987927  3.735161  6.718164  4.358988  4.054809  3.826454  8.876455   \nj82      4.717745  3.816445  8.329890  4.542543  4.443213  3.834258  8.612918   \ndang     4.099564  3.677475  7.171958  3.949591  3.837196  8.140680  8.946058   \n\n               15         16        18  ...  100628307  100630918  100631378  \\\nhct15    3.811040   9.685387  5.303841  ...   4.092048   5.094173   3.838323   \njhh4     3.523175   9.438923  3.700196  ...   4.178850   5.462230   3.554032   \nsnu1105  3.604815   9.886685  4.002146  ...   3.304983   4.850331   3.608216   \nj82      3.683737  10.086658  5.139002  ...   3.627550   5.375150   3.474723   \ndang     3.357206   9.466033  3.623898  ...   3.736106   5.234944   3.462128   \n\n         100642175  100652770  100652791  100653022  100689073  100689074  \\\nhct15     5.096992   4.676327   3.679293   4.231130   3.556815   3.419656   \njhh4      5.974853   4.540040   3.465602   4.179827   3.654634   6.282016   \nsnu1105   5.427099   4.660967   3.282270   4.358016   3.747160   3.373917   \nj82       4.517609   4.268056   3.476972   3.994838   3.683059   3.375735   \ndang      6.323425   4.947185   3.177413   3.775169   3.672165   3.733566   \n\n         100820829  \nhct15     5.074979  \njhh4      4.772049  \nsnu1105   5.400448  \nj82       5.427906  \ndang      7.274285  \n\n[5 rows x 18523 columns]",
      "text/html": "<div>\n<style scoped>\n    .dataframe tbody tr th:only-of-type {\n        vertical-align: middle;\n    }\n\n    .dataframe tbody tr th {\n        vertical-align: top;\n    }\n\n    .dataframe thead th {\n        text-align: right;\n    }\n</style>\n<table border=\"1\" class=\"dataframe\">\n  <thead>\n    <tr style=\"text-align: right;\">\n      <th></th>\n      <th>1</th>\n      <th>2</th>\n      <th>9</th>\n      <th>10</th>\n      <th>12</th>\n      <th>13</th>\n      <th>14</th>\n      <th>15</th>\n      <th>16</th>\n      <th>18</th>\n      <th>...</th>\n      <th>100628307</th>\n      <th>100630918</th>\n      <th>100631378</th>\n      <th>100642175</th>\n      <th>100652770</th>\n      <th>100652791</th>\n      <th>100653022</th>\n      <th>100689073</th>\n      <th>100689074</th>\n      <th>100820829</th>\n    </tr>\n  </thead>\n  <tbody>\n    <tr>\n      <th>hct15</th>\n      <td>3.500325</td>\n      <td>3.756189</td>\n      <td>7.506203</td>\n      <td>4.122036</td>\n      <td>4.173129</td>\n      <td>3.503203</td>\n      <td>9.268220</td>\n      <td>3.811040</td>\n      <td>9.685387</td>\n      <td>5.303841</td>\n      <td>...</td>\n      <td>4.092048</td>\n      <td>5.094173</td>\n      <td>3.838323</td>\n      <td>5.096992</td>\n      <td>4.676327</td>\n      <td>3.679293</td>\n      <td>4.231130</td>\n      <td>3.556815</td>\n      <td>3.419656</td>\n      <td>5.074979</td>\n    </tr>\n    <tr>\n      <th>jhh4</th>\n      <td>3.966084</td>\n      <td>3.634253</td>\n      <td>5.373000</td>\n      <td>4.021875</td>\n      <td>4.188665</td>\n      <td>3.537557</td>\n      <td>8.987120</td>\n      <td>3.523175</td>\n      <td>9.438923</td>\n      <td>3.700196</td>\n      <td>...</td>\n      <td>4.178850</td>\n      <td>5.462230</td>\n      <td>3.554032</td>\n      <td>5.974853</td>\n      <td>4.540040</td>\n      <td>3.465602</td>\n      <td>4.179827</td>\n      <td>3.654634</td>\n      <td>6.282016</td>\n      <td>4.772049</td>\n    </tr>\n    <tr>\n      <th>snu1105</th>\n      <td>5.987927</td>\n      <td>3.735161</td>\n      <td>6.718164</td>\n      <td>4.358988</td>\n      <td>4.054809</td>\n      <td>3.826454</td>\n      <td>8.876455</td>\n      <td>3.604815</td>\n      <td>9.886685</td>\n      <td>4.002146</td>\n      <td>...</td>\n      <td>3.304983</td>\n      <td>4.850331</td>\n      <td>3.608216</td>\n      <td>5.427099</td>\n      <td>4.660967</td>\n      <td>3.282270</td>\n      <td>4.358016</td>\n      <td>3.747160</td>\n      <td>3.373917</td>\n      <td>5.400448</td>\n    </tr>\n    <tr>\n      <th>j82</th>\n      <td>4.717745</td>\n      <td>3.816445</td>\n      <td>8.329890</td>\n      <td>4.542543</td>\n      <td>4.443213</td>\n      <td>3.834258</td>\n      <td>8.612918</td>\n      <td>3.683737</td>\n      <td>10.086658</td>\n      <td>5.139002</td>\n      <td>...</td>\n      <td>3.627550</td>\n      <td>5.375150</td>\n      <td>3.474723</td>\n      <td>4.517609</td>\n      <td>4.268056</td>\n      <td>3.476972</td>\n      <td>3.994838</td>\n      <td>3.683059</td>\n      <td>3.375735</td>\n      <td>5.427906</td>\n    </tr>\n    <tr>\n      <th>dang</th>\n      <td>4.099564</td>\n      <td>3.677475</td>\n      <td>7.171958</td>\n      <td>3.949591</td>\n      <td>3.837196</td>\n      <td>8.140680</td>\n      <td>8.946058</td>\n      <td>3.357206</td>\n      <td>9.466033</td>\n      <td>3.623898</td>\n      <td>...</td>\n      <td>3.736106</td>\n      <td>5.234944</td>\n      <td>3.462128</td>\n      <td>6.323425</td>\n      <td>4.947185</td>\n      <td>3.177413</td>\n      <td>3.775169</td>\n      <td>3.672165</td>\n      <td>3.733566</td>\n      <td>7.274285</td>\n    </tr>\n  </tbody>\n</table>\n<p>5 rows × 18523 columns</p>\n</div>"
     },
     "execution_count": 3,
     "metadata": {},
     "output_type": "execute_result"
    }
   ],
   "source": [
    "df_x.head()"
   ],
   "metadata": {
    "collapsed": false,
    "pycharm": {
     "name": "#%%\n"
    }
   }
  },
  {
   "cell_type": "code",
   "execution_count": 4,
   "outputs": [
    {
     "data": {
      "text/plain": "             Beta\nhct15    0.000259\njhh4     0.020200\nsnu1105  0.006825\nj82      0.013340\ndang     0.034240",
      "text/html": "<div>\n<style scoped>\n    .dataframe tbody tr th:only-of-type {\n        vertical-align: middle;\n    }\n\n    .dataframe tbody tr th {\n        vertical-align: top;\n    }\n\n    .dataframe thead th {\n        text-align: right;\n    }\n</style>\n<table border=\"1\" class=\"dataframe\">\n  <thead>\n    <tr style=\"text-align: right;\">\n      <th></th>\n      <th>Beta</th>\n    </tr>\n  </thead>\n  <tbody>\n    <tr>\n      <th>hct15</th>\n      <td>0.000259</td>\n    </tr>\n    <tr>\n      <th>jhh4</th>\n      <td>0.020200</td>\n    </tr>\n    <tr>\n      <th>snu1105</th>\n      <td>0.006825</td>\n    </tr>\n    <tr>\n      <th>j82</th>\n      <td>0.013340</td>\n    </tr>\n    <tr>\n      <th>dang</th>\n      <td>0.034240</td>\n    </tr>\n  </tbody>\n</table>\n</div>"
     },
     "execution_count": 4,
     "metadata": {},
     "output_type": "execute_result"
    }
   ],
   "source": [
    "df_y.head()"
   ],
   "metadata": {
    "collapsed": false,
    "pycharm": {
     "name": "#%%\n"
    }
   }
  },
  {
   "cell_type": "code",
   "execution_count": 5,
   "outputs": [
    {
     "data": {
      "text/plain": "            Beta\nhct15    0.02588\njhh4     2.02000\nsnu1105  0.68250\nj82      1.33400\ndang     3.42400",
      "text/html": "<div>\n<style scoped>\n    .dataframe tbody tr th:only-of-type {\n        vertical-align: middle;\n    }\n\n    .dataframe tbody tr th {\n        vertical-align: top;\n    }\n\n    .dataframe thead th {\n        text-align: right;\n    }\n</style>\n<table border=\"1\" class=\"dataframe\">\n  <thead>\n    <tr style=\"text-align: right;\">\n      <th></th>\n      <th>Beta</th>\n    </tr>\n  </thead>\n  <tbody>\n    <tr>\n      <th>hct15</th>\n      <td>0.02588</td>\n    </tr>\n    <tr>\n      <th>jhh4</th>\n      <td>2.02000</td>\n    </tr>\n    <tr>\n      <th>snu1105</th>\n      <td>0.68250</td>\n    </tr>\n    <tr>\n      <th>j82</th>\n      <td>1.33400</td>\n    </tr>\n    <tr>\n      <th>dang</th>\n      <td>3.42400</td>\n    </tr>\n  </tbody>\n</table>\n</div>"
     },
     "execution_count": 5,
     "metadata": {},
     "output_type": "execute_result"
    }
   ],
   "source": [
    "df_y['Beta'] = df_y['Beta'].apply(lambda x: x*100)\n",
    "df_y.head()"
   ],
   "metadata": {
    "collapsed": false,
    "pycharm": {
     "name": "#%%\n"
    }
   }
  },
  {
   "cell_type": "code",
   "execution_count": 6,
   "outputs": [
    {
     "data": {
      "text/plain": "Optimization Progress:   0%|          | 0/400 [00:00<?, ?pipeline/s]",
      "application/vnd.jupyter.widget-view+json": {
       "version_major": 2,
       "version_minor": 0,
       "model_id": "4fdfe817e24d48b2b40619e491976c43"
      }
     },
     "metadata": {},
     "output_type": "display_data"
    },
    {
     "name": "stdout",
     "output_type": "stream",
     "text": [
      "\n",
      "Generation 1 - Current best internal CV score: -1.29947159128464\n",
      "\n",
      "Generation 2 - Current best internal CV score: -1.286105279456808\n",
      "\n",
      "Generation 3 - Current best internal CV score: -1.285009615623126\n",
      "\n",
      "Best pipeline: ElasticNetCV(Normalizer(DecisionTreeRegressor(RobustScaler(input_matrix), max_depth=9, min_samples_leaf=14, min_samples_split=3), norm=l1), l1_ratio=0.2, tol=0.01)\n"
     ]
    },
    {
     "ename": "ValueError",
     "evalue": "could not convert string to float: 'snu466'",
     "output_type": "error",
     "traceback": [
      "\u001B[1;31m---------------------------------------------------------------------------\u001B[0m",
      "\u001B[1;31mValueError\u001B[0m                                Traceback (most recent call last)",
      "Input \u001B[1;32mIn [6]\u001B[0m, in \u001B[0;36m<cell line: 17>\u001B[1;34m()\u001B[0m\n\u001B[0;32m      6\u001B[0m tpot \u001B[38;5;241m=\u001B[39m TPOTRegressor(\n\u001B[0;32m      7\u001B[0m     generations\u001B[38;5;241m=\u001B[39mGENERATIONS,\n\u001B[0;32m      8\u001B[0m     population_size\u001B[38;5;241m=\u001B[39mPOP_SIZE,\n\u001B[1;32m   (...)\u001B[0m\n\u001B[0;32m     12\u001B[0m     verbosity\u001B[38;5;241m=\u001B[39m\u001B[38;5;241m2\u001B[39m,\n\u001B[0;32m     13\u001B[0m )\n\u001B[0;32m     15\u001B[0m tpot\u001B[38;5;241m.\u001B[39mfit(df_x, df_y[\u001B[38;5;124m'\u001B[39m\u001B[38;5;124mBeta\u001B[39m\u001B[38;5;124m'\u001B[39m])\n\u001B[1;32m---> 17\u001B[0m preds \u001B[38;5;241m=\u001B[39m \u001B[43mtpot\u001B[49m\u001B[38;5;241;43m.\u001B[39;49m\u001B[43mpredict\u001B[49m\u001B[43m(\u001B[49m\u001B[43mdf_x_test\u001B[49m\u001B[43m)\u001B[49m\u001B[38;5;241m/\u001B[39m\u001B[38;5;241m100\u001B[39m\n\u001B[0;32m     18\u001B[0m \u001B[38;5;28mprint\u001B[39m(r2_score(df_y_test, preds))\n",
      "File \u001B[1;32m~\\Documents\\GitHub\\RadiationProject\\venv\\lib\\site-packages\\tpot\\base.py:1041\u001B[0m, in \u001B[0;36mTPOTBase.predict\u001B[1;34m(self, features)\u001B[0m\n\u001B[0;32m   1035\u001B[0m     \u001B[38;5;28;01mraise\u001B[39;00m \u001B[38;5;167;01mRuntimeError\u001B[39;00m(\n\u001B[0;32m   1036\u001B[0m         \u001B[38;5;124m\"\u001B[39m\u001B[38;5;124mA pipeline has not yet been optimized. Please call fit() first.\u001B[39m\u001B[38;5;124m\"\u001B[39m\n\u001B[0;32m   1037\u001B[0m     )\n\u001B[0;32m   1039\u001B[0m features \u001B[38;5;241m=\u001B[39m \u001B[38;5;28mself\u001B[39m\u001B[38;5;241m.\u001B[39m_check_dataset(features, target\u001B[38;5;241m=\u001B[39m\u001B[38;5;28;01mNone\u001B[39;00m, sample_weight\u001B[38;5;241m=\u001B[39m\u001B[38;5;28;01mNone\u001B[39;00m)\n\u001B[1;32m-> 1041\u001B[0m \u001B[38;5;28;01mreturn\u001B[39;00m \u001B[38;5;28;43mself\u001B[39;49m\u001B[38;5;241;43m.\u001B[39;49m\u001B[43mfitted_pipeline_\u001B[49m\u001B[38;5;241;43m.\u001B[39;49m\u001B[43mpredict\u001B[49m\u001B[43m(\u001B[49m\u001B[43mfeatures\u001B[49m\u001B[43m)\u001B[49m\n",
      "File \u001B[1;32m~\\Documents\\GitHub\\RadiationProject\\venv\\lib\\site-packages\\sklearn\\utils\\metaestimators.py:120\u001B[0m, in \u001B[0;36m_IffHasAttrDescriptor.__get__.<locals>.<lambda>\u001B[1;34m(*args, **kwargs)\u001B[0m\n\u001B[0;32m    117\u001B[0m         attrgetter(\u001B[38;5;28mself\u001B[39m\u001B[38;5;241m.\u001B[39mdelegate_names[\u001B[38;5;241m-\u001B[39m\u001B[38;5;241m1\u001B[39m])(obj)\n\u001B[0;32m    119\u001B[0m \u001B[38;5;66;03m# lambda, but not partial, allows help() to work with update_wrapper\u001B[39;00m\n\u001B[1;32m--> 120\u001B[0m out \u001B[38;5;241m=\u001B[39m \u001B[38;5;28;01mlambda\u001B[39;00m \u001B[38;5;241m*\u001B[39margs, \u001B[38;5;241m*\u001B[39m\u001B[38;5;241m*\u001B[39mkwargs: \u001B[38;5;28;43mself\u001B[39;49m\u001B[38;5;241;43m.\u001B[39;49m\u001B[43mfn\u001B[49m\u001B[43m(\u001B[49m\u001B[43mobj\u001B[49m\u001B[43m,\u001B[49m\u001B[43m \u001B[49m\u001B[38;5;241;43m*\u001B[39;49m\u001B[43margs\u001B[49m\u001B[43m,\u001B[49m\u001B[43m \u001B[49m\u001B[38;5;241;43m*\u001B[39;49m\u001B[38;5;241;43m*\u001B[39;49m\u001B[43mkwargs\u001B[49m\u001B[43m)\u001B[49m\n\u001B[0;32m    121\u001B[0m \u001B[38;5;66;03m# update the docstring of the returned function\u001B[39;00m\n\u001B[0;32m    122\u001B[0m update_wrapper(out, \u001B[38;5;28mself\u001B[39m\u001B[38;5;241m.\u001B[39mfn)\n",
      "File \u001B[1;32m~\\Documents\\GitHub\\RadiationProject\\venv\\lib\\site-packages\\sklearn\\pipeline.py:418\u001B[0m, in \u001B[0;36mPipeline.predict\u001B[1;34m(self, X, **predict_params)\u001B[0m\n\u001B[0;32m    416\u001B[0m Xt \u001B[38;5;241m=\u001B[39m X\n\u001B[0;32m    417\u001B[0m \u001B[38;5;28;01mfor\u001B[39;00m _, name, transform \u001B[38;5;129;01min\u001B[39;00m \u001B[38;5;28mself\u001B[39m\u001B[38;5;241m.\u001B[39m_iter(with_final\u001B[38;5;241m=\u001B[39m\u001B[38;5;28;01mFalse\u001B[39;00m):\n\u001B[1;32m--> 418\u001B[0m     Xt \u001B[38;5;241m=\u001B[39m \u001B[43mtransform\u001B[49m\u001B[38;5;241;43m.\u001B[39;49m\u001B[43mtransform\u001B[49m\u001B[43m(\u001B[49m\u001B[43mXt\u001B[49m\u001B[43m)\u001B[49m\n\u001B[0;32m    419\u001B[0m \u001B[38;5;28;01mreturn\u001B[39;00m \u001B[38;5;28mself\u001B[39m\u001B[38;5;241m.\u001B[39msteps[\u001B[38;5;241m-\u001B[39m\u001B[38;5;241m1\u001B[39m][\u001B[38;5;241m-\u001B[39m\u001B[38;5;241m1\u001B[39m]\u001B[38;5;241m.\u001B[39mpredict(Xt, \u001B[38;5;241m*\u001B[39m\u001B[38;5;241m*\u001B[39mpredict_params)\n",
      "File \u001B[1;32m~\\Documents\\GitHub\\RadiationProject\\venv\\lib\\site-packages\\sklearn\\preprocessing\\_data.py:1406\u001B[0m, in \u001B[0;36mRobustScaler.transform\u001B[1;34m(self, X)\u001B[0m\n\u001B[0;32m   1393\u001B[0m \u001B[38;5;124;03m\"\"\"Center and scale the data.\u001B[39;00m\n\u001B[0;32m   1394\u001B[0m \n\u001B[0;32m   1395\u001B[0m \u001B[38;5;124;03mParameters\u001B[39;00m\n\u001B[1;32m   (...)\u001B[0m\n\u001B[0;32m   1403\u001B[0m \u001B[38;5;124;03m    Transformed array.\u001B[39;00m\n\u001B[0;32m   1404\u001B[0m \u001B[38;5;124;03m\"\"\"\u001B[39;00m\n\u001B[0;32m   1405\u001B[0m check_is_fitted(\u001B[38;5;28mself\u001B[39m)\n\u001B[1;32m-> 1406\u001B[0m X \u001B[38;5;241m=\u001B[39m \u001B[38;5;28;43mself\u001B[39;49m\u001B[38;5;241;43m.\u001B[39;49m\u001B[43m_validate_data\u001B[49m\u001B[43m(\u001B[49m\u001B[43mX\u001B[49m\u001B[43m,\u001B[49m\u001B[43m \u001B[49m\u001B[43maccept_sparse\u001B[49m\u001B[38;5;241;43m=\u001B[39;49m\u001B[43m(\u001B[49m\u001B[38;5;124;43m'\u001B[39;49m\u001B[38;5;124;43mcsr\u001B[39;49m\u001B[38;5;124;43m'\u001B[39;49m\u001B[43m,\u001B[49m\u001B[43m \u001B[49m\u001B[38;5;124;43m'\u001B[39;49m\u001B[38;5;124;43mcsc\u001B[39;49m\u001B[38;5;124;43m'\u001B[39;49m\u001B[43m)\u001B[49m\u001B[43m,\u001B[49m\n\u001B[0;32m   1407\u001B[0m \u001B[43m                        \u001B[49m\u001B[43mcopy\u001B[49m\u001B[38;5;241;43m=\u001B[39;49m\u001B[38;5;28;43mself\u001B[39;49m\u001B[38;5;241;43m.\u001B[39;49m\u001B[43mcopy\u001B[49m\u001B[43m,\u001B[49m\u001B[43m \u001B[49m\u001B[43mestimator\u001B[49m\u001B[38;5;241;43m=\u001B[39;49m\u001B[38;5;28;43mself\u001B[39;49m\u001B[43m,\u001B[49m\n\u001B[0;32m   1408\u001B[0m \u001B[43m                        \u001B[49m\u001B[43mdtype\u001B[49m\u001B[38;5;241;43m=\u001B[39;49m\u001B[43mFLOAT_DTYPES\u001B[49m\u001B[43m,\u001B[49m\u001B[43m \u001B[49m\u001B[43mreset\u001B[49m\u001B[38;5;241;43m=\u001B[39;49m\u001B[38;5;28;43;01mFalse\u001B[39;49;00m\u001B[43m,\u001B[49m\n\u001B[0;32m   1409\u001B[0m \u001B[43m                        \u001B[49m\u001B[43mforce_all_finite\u001B[49m\u001B[38;5;241;43m=\u001B[39;49m\u001B[38;5;124;43m'\u001B[39;49m\u001B[38;5;124;43mallow-nan\u001B[39;49m\u001B[38;5;124;43m'\u001B[39;49m\u001B[43m)\u001B[49m\n\u001B[0;32m   1411\u001B[0m \u001B[38;5;28;01mif\u001B[39;00m sparse\u001B[38;5;241m.\u001B[39missparse(X):\n\u001B[0;32m   1412\u001B[0m     \u001B[38;5;28;01mif\u001B[39;00m \u001B[38;5;28mself\u001B[39m\u001B[38;5;241m.\u001B[39mwith_scaling:\n",
      "File \u001B[1;32m~\\Documents\\GitHub\\RadiationProject\\venv\\lib\\site-packages\\sklearn\\base.py:421\u001B[0m, in \u001B[0;36mBaseEstimator._validate_data\u001B[1;34m(self, X, y, reset, validate_separately, **check_params)\u001B[0m\n\u001B[0;32m    419\u001B[0m     out \u001B[38;5;241m=\u001B[39m X\n\u001B[0;32m    420\u001B[0m \u001B[38;5;28;01melif\u001B[39;00m \u001B[38;5;28misinstance\u001B[39m(y, \u001B[38;5;28mstr\u001B[39m) \u001B[38;5;129;01mand\u001B[39;00m y \u001B[38;5;241m==\u001B[39m \u001B[38;5;124m'\u001B[39m\u001B[38;5;124mno_validation\u001B[39m\u001B[38;5;124m'\u001B[39m:\n\u001B[1;32m--> 421\u001B[0m     X \u001B[38;5;241m=\u001B[39m \u001B[43mcheck_array\u001B[49m\u001B[43m(\u001B[49m\u001B[43mX\u001B[49m\u001B[43m,\u001B[49m\u001B[43m \u001B[49m\u001B[38;5;241;43m*\u001B[39;49m\u001B[38;5;241;43m*\u001B[39;49m\u001B[43mcheck_params\u001B[49m\u001B[43m)\u001B[49m\n\u001B[0;32m    422\u001B[0m     out \u001B[38;5;241m=\u001B[39m X\n\u001B[0;32m    423\u001B[0m \u001B[38;5;28;01melse\u001B[39;00m:\n",
      "File \u001B[1;32m~\\Documents\\GitHub\\RadiationProject\\venv\\lib\\site-packages\\sklearn\\utils\\validation.py:63\u001B[0m, in \u001B[0;36m_deprecate_positional_args.<locals>._inner_deprecate_positional_args.<locals>.inner_f\u001B[1;34m(*args, **kwargs)\u001B[0m\n\u001B[0;32m     61\u001B[0m extra_args \u001B[38;5;241m=\u001B[39m \u001B[38;5;28mlen\u001B[39m(args) \u001B[38;5;241m-\u001B[39m \u001B[38;5;28mlen\u001B[39m(all_args)\n\u001B[0;32m     62\u001B[0m \u001B[38;5;28;01mif\u001B[39;00m extra_args \u001B[38;5;241m<\u001B[39m\u001B[38;5;241m=\u001B[39m \u001B[38;5;241m0\u001B[39m:\n\u001B[1;32m---> 63\u001B[0m     \u001B[38;5;28;01mreturn\u001B[39;00m \u001B[43mf\u001B[49m\u001B[43m(\u001B[49m\u001B[38;5;241;43m*\u001B[39;49m\u001B[43margs\u001B[49m\u001B[43m,\u001B[49m\u001B[43m \u001B[49m\u001B[38;5;241;43m*\u001B[39;49m\u001B[38;5;241;43m*\u001B[39;49m\u001B[43mkwargs\u001B[49m\u001B[43m)\u001B[49m\n\u001B[0;32m     65\u001B[0m \u001B[38;5;66;03m# extra_args > 0\u001B[39;00m\n\u001B[0;32m     66\u001B[0m args_msg \u001B[38;5;241m=\u001B[39m [\u001B[38;5;124m'\u001B[39m\u001B[38;5;132;01m{}\u001B[39;00m\u001B[38;5;124m=\u001B[39m\u001B[38;5;132;01m{}\u001B[39;00m\u001B[38;5;124m'\u001B[39m\u001B[38;5;241m.\u001B[39mformat(name, arg)\n\u001B[0;32m     67\u001B[0m             \u001B[38;5;28;01mfor\u001B[39;00m name, arg \u001B[38;5;129;01min\u001B[39;00m \u001B[38;5;28mzip\u001B[39m(kwonly_args[:extra_args],\n\u001B[0;32m     68\u001B[0m                                  args[\u001B[38;5;241m-\u001B[39mextra_args:])]\n",
      "File \u001B[1;32m~\\Documents\\GitHub\\RadiationProject\\venv\\lib\\site-packages\\sklearn\\utils\\validation.py:673\u001B[0m, in \u001B[0;36mcheck_array\u001B[1;34m(array, accept_sparse, accept_large_sparse, dtype, order, copy, force_all_finite, ensure_2d, allow_nd, ensure_min_samples, ensure_min_features, estimator)\u001B[0m\n\u001B[0;32m    671\u001B[0m         array \u001B[38;5;241m=\u001B[39m array\u001B[38;5;241m.\u001B[39mastype(dtype, casting\u001B[38;5;241m=\u001B[39m\u001B[38;5;124m\"\u001B[39m\u001B[38;5;124munsafe\u001B[39m\u001B[38;5;124m\"\u001B[39m, copy\u001B[38;5;241m=\u001B[39m\u001B[38;5;28;01mFalse\u001B[39;00m)\n\u001B[0;32m    672\u001B[0m     \u001B[38;5;28;01melse\u001B[39;00m:\n\u001B[1;32m--> 673\u001B[0m         array \u001B[38;5;241m=\u001B[39m \u001B[43mnp\u001B[49m\u001B[38;5;241;43m.\u001B[39;49m\u001B[43masarray\u001B[49m\u001B[43m(\u001B[49m\u001B[43marray\u001B[49m\u001B[43m,\u001B[49m\u001B[43m \u001B[49m\u001B[43morder\u001B[49m\u001B[38;5;241;43m=\u001B[39;49m\u001B[43morder\u001B[49m\u001B[43m,\u001B[49m\u001B[43m \u001B[49m\u001B[43mdtype\u001B[49m\u001B[38;5;241;43m=\u001B[39;49m\u001B[43mdtype\u001B[49m\u001B[43m)\u001B[49m\n\u001B[0;32m    674\u001B[0m \u001B[38;5;28;01mexcept\u001B[39;00m ComplexWarning \u001B[38;5;28;01mas\u001B[39;00m complex_warning:\n\u001B[0;32m    675\u001B[0m     \u001B[38;5;28;01mraise\u001B[39;00m \u001B[38;5;167;01mValueError\u001B[39;00m(\u001B[38;5;124m\"\u001B[39m\u001B[38;5;124mComplex data not supported\u001B[39m\u001B[38;5;130;01m\\n\u001B[39;00m\u001B[38;5;124m\"\u001B[39m\n\u001B[0;32m    676\u001B[0m                      \u001B[38;5;124m\"\u001B[39m\u001B[38;5;132;01m{}\u001B[39;00m\u001B[38;5;130;01m\\n\u001B[39;00m\u001B[38;5;124m\"\u001B[39m\u001B[38;5;241m.\u001B[39mformat(array)) \u001B[38;5;28;01mfrom\u001B[39;00m \u001B[38;5;21;01mcomplex_warning\u001B[39;00m\n",
      "File \u001B[1;32m~\\Documents\\GitHub\\RadiationProject\\venv\\lib\\site-packages\\pandas\\core\\generic.py:2064\u001B[0m, in \u001B[0;36mNDFrame.__array__\u001B[1;34m(self, dtype)\u001B[0m\n\u001B[0;32m   2063\u001B[0m \u001B[38;5;28;01mdef\u001B[39;00m \u001B[38;5;21m__array__\u001B[39m(\u001B[38;5;28mself\u001B[39m, dtype: npt\u001B[38;5;241m.\u001B[39mDTypeLike \u001B[38;5;241m|\u001B[39m \u001B[38;5;28;01mNone\u001B[39;00m \u001B[38;5;241m=\u001B[39m \u001B[38;5;28;01mNone\u001B[39;00m) \u001B[38;5;241m-\u001B[39m\u001B[38;5;241m>\u001B[39m np\u001B[38;5;241m.\u001B[39mndarray:\n\u001B[1;32m-> 2064\u001B[0m     \u001B[38;5;28;01mreturn\u001B[39;00m \u001B[43mnp\u001B[49m\u001B[38;5;241;43m.\u001B[39;49m\u001B[43masarray\u001B[49m\u001B[43m(\u001B[49m\u001B[38;5;28;43mself\u001B[39;49m\u001B[38;5;241;43m.\u001B[39;49m\u001B[43m_values\u001B[49m\u001B[43m,\u001B[49m\u001B[43m \u001B[49m\u001B[43mdtype\u001B[49m\u001B[38;5;241;43m=\u001B[39;49m\u001B[43mdtype\u001B[49m\u001B[43m)\u001B[49m\n",
      "\u001B[1;31mValueError\u001B[0m: could not convert string to float: 'snu466'"
     ]
    }
   ],
   "source": [
    "# TPOT setup\n",
    "GENERATIONS = 3\n",
    "POP_SIZE = 100\n",
    "CV = 3\n",
    "\n",
    "tpot = TPOTRegressor(\n",
    "    generations=GENERATIONS,\n",
    "    population_size=POP_SIZE,\n",
    "    random_state=123,\n",
    "    n_jobs=1, # cuML requires n_jobs=1\n",
    "    cv=CV,\n",
    "    verbosity=2,\n",
    ")\n",
    "\n",
    "tpot.fit(df_x, df_y['Beta'])\n",
    "\n",
    "preds = tpot.predict(df_x_test)/100\n",
    "print(r2_score(df_y_test, preds))\n",
    "\n",
    "# Generation 1 - Current best internal CV score: -1.29947159128464\n",
    "#\n",
    "# Generation 2 - Current best internal CV score: -1.286105279456808\n",
    "#\n",
    "# Generation 3 - Current best internal CV score: -1.285009615623126\n",
    "#\n",
    "# Best pipeline: ElasticNetCV(Normalizer(DecisionTreeRegressor(RobustScaler(input_matrix), max_depth=9, min_samples_leaf=14, min_samples_split=3), norm=l1), l1_ratio=0.2, tol=0.01)"
   ],
   "metadata": {
    "collapsed": false,
    "pycharm": {
     "name": "#%%\n"
    }
   }
  },
  {
   "cell_type": "code",
   "execution_count": 7,
   "outputs": [
    {
     "name": "stdout",
     "output_type": "stream",
     "text": [
      "import numpy as np\n",
      "import pandas as pd\n",
      "from sklearn.linear_model import ElasticNetCV\n",
      "from sklearn.model_selection import train_test_split\n",
      "from sklearn.pipeline import make_pipeline, make_union\n",
      "from sklearn.preprocessing import Normalizer, RobustScaler\n",
      "from sklearn.tree import DecisionTreeRegressor\n",
      "from tpot.builtins import StackingEstimator\n",
      "from tpot.export_utils import set_param_recursive\n",
      "\n",
      "# NOTE: Make sure that the outcome column is labeled 'target' in the data file\n",
      "tpot_data = pd.read_csv('PATH/TO/DATA/FILE', sep='COLUMN_SEPARATOR', dtype=np.float64)\n",
      "features = tpot_data.drop('target', axis=1)\n",
      "training_features, testing_features, training_target, testing_target = \\\n",
      "            train_test_split(features, tpot_data['target'], random_state=123)\n",
      "\n",
      "# Average CV score on the training set was: -1.285009615623126\n",
      "exported_pipeline = make_pipeline(\n",
      "    RobustScaler(),\n",
      "    StackingEstimator(estimator=DecisionTreeRegressor(max_depth=9, min_samples_leaf=14, min_samples_split=3)),\n",
      "    Normalizer(norm=\"l1\"),\n",
      "    ElasticNetCV(l1_ratio=0.2, tol=0.01)\n",
      ")\n",
      "# Fix random state for all the steps in exported pipeline\n",
      "set_param_recursive(exported_pipeline.steps, 'random_state', 123)\n",
      "\n",
      "exported_pipeline.fit(training_features, training_target)\n",
      "results = exported_pipeline.predict(testing_features)\n",
      "\n"
     ]
    }
   ],
   "source": [
    "tpot.export('tpot_regression_cuml_pipeline.py')\n",
    "print(tpot.export())"
   ],
   "metadata": {
    "collapsed": false,
    "pycharm": {
     "name": "#%%\n"
    }
   }
  }
 ],
 "metadata": {
  "kernelspec": {
   "display_name": "Python 3",
   "language": "python",
   "name": "python3"
  },
  "language_info": {
   "codemirror_mode": {
    "name": "ipython",
    "version": 2
   },
   "file_extension": ".py",
   "mimetype": "text/x-python",
   "name": "python",
   "nbconvert_exporter": "python",
   "pygments_lexer": "ipython2",
   "version": "2.7.6"
  }
 },
 "nbformat": 4,
 "nbformat_minor": 0
}