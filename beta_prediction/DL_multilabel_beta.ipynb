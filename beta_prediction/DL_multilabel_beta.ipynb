{
 "cells": [
  {
   "cell_type": "code",
   "execution_count": 32,
   "outputs": [],
   "source": [
    "import pandas as pd\n",
    "from sklearn.model_selection import train_test_split\n"
   ],
   "metadata": {
    "collapsed": false,
    "pycharm": {
     "name": "#%%\n"
    }
   }
  },
  {
   "cell_type": "code",
   "execution_count": 33,
   "outputs": [
    {
     "data": {
      "text/plain": "                Beta         1         2          9        10        12  \\\n22rv1   5.625000e-08  4.423446  4.134148  10.505010  4.180319  3.828985   \n42mgba  2.409000e-02  6.856747  3.792826   8.117941  4.300842  3.534361   \n5637    9.217000e-03  3.817624  3.769035   7.944338  4.000219  4.793569   \n647v    6.135000e-02  4.322558  3.730195   8.515086  4.421911  3.894124   \n769p    1.736000e-02  4.020103  3.846175   8.278318  4.400144  4.855821   \n\n              13        14        15         16  ...  100628307  100630918  \\\n22rv1   3.416169  8.924422  3.547737  10.489760  ...   3.641889   5.662483   \n42mgba  3.465385  8.689804  3.730495  10.063663  ...   3.527367   4.894637   \n5637    4.246643  9.218668  3.775753   8.843498  ...   3.502305   5.375774   \n647v    3.649778  8.962272  3.469970  10.341420  ...   3.402495   5.286006   \n769p    3.731236  9.109365  3.576632  10.172053  ...   3.720749   5.318118   \n\n        100631378  100642175  100652770  100652791  100653022  100689073  \\\n22rv1    3.535540   5.441015   4.484159   3.272955   3.932815   3.518021   \n42mgba   3.717672   4.600157   3.986362   3.102421   4.577944   3.650426   \n5637     3.438822   5.457984   5.054120   3.542372   4.057933   3.664296   \n647v     3.415911   4.769920   4.744037   3.426386   4.216155   3.417696   \n769p     3.583233   4.643916   4.882646   3.490162   4.041154   3.375546   \n\n        100689074  100820829  \n22rv1    4.202408   4.675101  \n42mgba   3.155024   4.213095  \n5637     3.268805   7.120733  \n647v     3.374419   6.135024  \n769p     3.291270   4.529068  \n\n[5 rows x 18524 columns]",
      "text/html": "<div>\n<style scoped>\n    .dataframe tbody tr th:only-of-type {\n        vertical-align: middle;\n    }\n\n    .dataframe tbody tr th {\n        vertical-align: top;\n    }\n\n    .dataframe thead th {\n        text-align: right;\n    }\n</style>\n<table border=\"1\" class=\"dataframe\">\n  <thead>\n    <tr style=\"text-align: right;\">\n      <th></th>\n      <th>Beta</th>\n      <th>1</th>\n      <th>2</th>\n      <th>9</th>\n      <th>10</th>\n      <th>12</th>\n      <th>13</th>\n      <th>14</th>\n      <th>15</th>\n      <th>16</th>\n      <th>...</th>\n      <th>100628307</th>\n      <th>100630918</th>\n      <th>100631378</th>\n      <th>100642175</th>\n      <th>100652770</th>\n      <th>100652791</th>\n      <th>100653022</th>\n      <th>100689073</th>\n      <th>100689074</th>\n      <th>100820829</th>\n    </tr>\n  </thead>\n  <tbody>\n    <tr>\n      <th>22rv1</th>\n      <td>5.625000e-08</td>\n      <td>4.423446</td>\n      <td>4.134148</td>\n      <td>10.505010</td>\n      <td>4.180319</td>\n      <td>3.828985</td>\n      <td>3.416169</td>\n      <td>8.924422</td>\n      <td>3.547737</td>\n      <td>10.489760</td>\n      <td>...</td>\n      <td>3.641889</td>\n      <td>5.662483</td>\n      <td>3.535540</td>\n      <td>5.441015</td>\n      <td>4.484159</td>\n      <td>3.272955</td>\n      <td>3.932815</td>\n      <td>3.518021</td>\n      <td>4.202408</td>\n      <td>4.675101</td>\n    </tr>\n    <tr>\n      <th>42mgba</th>\n      <td>2.409000e-02</td>\n      <td>6.856747</td>\n      <td>3.792826</td>\n      <td>8.117941</td>\n      <td>4.300842</td>\n      <td>3.534361</td>\n      <td>3.465385</td>\n      <td>8.689804</td>\n      <td>3.730495</td>\n      <td>10.063663</td>\n      <td>...</td>\n      <td>3.527367</td>\n      <td>4.894637</td>\n      <td>3.717672</td>\n      <td>4.600157</td>\n      <td>3.986362</td>\n      <td>3.102421</td>\n      <td>4.577944</td>\n      <td>3.650426</td>\n      <td>3.155024</td>\n      <td>4.213095</td>\n    </tr>\n    <tr>\n      <th>5637</th>\n      <td>9.217000e-03</td>\n      <td>3.817624</td>\n      <td>3.769035</td>\n      <td>7.944338</td>\n      <td>4.000219</td>\n      <td>4.793569</td>\n      <td>4.246643</td>\n      <td>9.218668</td>\n      <td>3.775753</td>\n      <td>8.843498</td>\n      <td>...</td>\n      <td>3.502305</td>\n      <td>5.375774</td>\n      <td>3.438822</td>\n      <td>5.457984</td>\n      <td>5.054120</td>\n      <td>3.542372</td>\n      <td>4.057933</td>\n      <td>3.664296</td>\n      <td>3.268805</td>\n      <td>7.120733</td>\n    </tr>\n    <tr>\n      <th>647v</th>\n      <td>6.135000e-02</td>\n      <td>4.322558</td>\n      <td>3.730195</td>\n      <td>8.515086</td>\n      <td>4.421911</td>\n      <td>3.894124</td>\n      <td>3.649778</td>\n      <td>8.962272</td>\n      <td>3.469970</td>\n      <td>10.341420</td>\n      <td>...</td>\n      <td>3.402495</td>\n      <td>5.286006</td>\n      <td>3.415911</td>\n      <td>4.769920</td>\n      <td>4.744037</td>\n      <td>3.426386</td>\n      <td>4.216155</td>\n      <td>3.417696</td>\n      <td>3.374419</td>\n      <td>6.135024</td>\n    </tr>\n    <tr>\n      <th>769p</th>\n      <td>1.736000e-02</td>\n      <td>4.020103</td>\n      <td>3.846175</td>\n      <td>8.278318</td>\n      <td>4.400144</td>\n      <td>4.855821</td>\n      <td>3.731236</td>\n      <td>9.109365</td>\n      <td>3.576632</td>\n      <td>10.172053</td>\n      <td>...</td>\n      <td>3.720749</td>\n      <td>5.318118</td>\n      <td>3.583233</td>\n      <td>4.643916</td>\n      <td>4.882646</td>\n      <td>3.490162</td>\n      <td>4.041154</td>\n      <td>3.375546</td>\n      <td>3.291270</td>\n      <td>4.529068</td>\n    </tr>\n  </tbody>\n</table>\n<p>5 rows × 18524 columns</p>\n</div>"
     },
     "metadata": {},
     "output_type": "display_data"
    },
    {
     "data": {
      "text/plain": "                  Beta         1         2         9        10        12  \\\nncih1838  2.642000e-11  4.961071  3.630195  8.695267  4.283843  4.344439   \nsnu61     1.049000e-10  4.072509  3.910575  8.071437  6.137423  4.072130   \nmkn74     1.704000e-10  4.467035  3.862263  7.365520  4.232615  3.975874   \nsnu407    1.998000e-10  3.662729  3.735107  8.283153  4.166486  4.064937   \nhuh28     2.074000e-10  4.186921  4.086841  5.986209  5.096623  4.286439   \n\n                13        14        15         16  ...  100628307  100630918  \\\nncih1838  3.802376  8.827035  3.353719  10.185787  ...   3.745603   5.576789   \nsnu61     3.843228  9.497450  3.677560  10.470444  ...   3.643644   5.709993   \nmkn74     3.799610  8.890726  3.375059  11.094143  ...   3.650151   5.436915   \nsnu407    4.389859  9.254205  3.414116  10.613076  ...   3.316558   5.317613   \nhuh28     4.030164  8.245387  3.387594   9.888688  ...   3.596370   5.063555   \n\n          100631378  100642175  100652770  100652791  100653022  100689073  \\\nncih1838   3.625893   5.248171   4.487401   3.533984   3.927696   3.502210   \nsnu61      3.534072   6.157029   5.121757   3.357921   4.015496   3.458155   \nmkn74      4.640616   5.303914   4.397426   3.479735   4.914457   3.495649   \nsnu407     3.536928   5.062972   5.028080   3.514160   4.510738   3.536222   \nhuh28      3.541462   5.525603   4.187762   3.463820   5.342083   3.584642   \n\n          100689074  100820829  \nncih1838   3.324512   5.203998  \nsnu61      3.227455   5.869892  \nmkn74      8.236865   5.627709  \nsnu407     3.247987   5.695928  \nhuh28      3.448283   8.549362  \n\n[5 rows x 18524 columns]",
      "text/html": "<div>\n<style scoped>\n    .dataframe tbody tr th:only-of-type {\n        vertical-align: middle;\n    }\n\n    .dataframe tbody tr th {\n        vertical-align: top;\n    }\n\n    .dataframe thead th {\n        text-align: right;\n    }\n</style>\n<table border=\"1\" class=\"dataframe\">\n  <thead>\n    <tr style=\"text-align: right;\">\n      <th></th>\n      <th>Beta</th>\n      <th>1</th>\n      <th>2</th>\n      <th>9</th>\n      <th>10</th>\n      <th>12</th>\n      <th>13</th>\n      <th>14</th>\n      <th>15</th>\n      <th>16</th>\n      <th>...</th>\n      <th>100628307</th>\n      <th>100630918</th>\n      <th>100631378</th>\n      <th>100642175</th>\n      <th>100652770</th>\n      <th>100652791</th>\n      <th>100653022</th>\n      <th>100689073</th>\n      <th>100689074</th>\n      <th>100820829</th>\n    </tr>\n  </thead>\n  <tbody>\n    <tr>\n      <th>ncih1838</th>\n      <td>2.642000e-11</td>\n      <td>4.961071</td>\n      <td>3.630195</td>\n      <td>8.695267</td>\n      <td>4.283843</td>\n      <td>4.344439</td>\n      <td>3.802376</td>\n      <td>8.827035</td>\n      <td>3.353719</td>\n      <td>10.185787</td>\n      <td>...</td>\n      <td>3.745603</td>\n      <td>5.576789</td>\n      <td>3.625893</td>\n      <td>5.248171</td>\n      <td>4.487401</td>\n      <td>3.533984</td>\n      <td>3.927696</td>\n      <td>3.502210</td>\n      <td>3.324512</td>\n      <td>5.203998</td>\n    </tr>\n    <tr>\n      <th>snu61</th>\n      <td>1.049000e-10</td>\n      <td>4.072509</td>\n      <td>3.910575</td>\n      <td>8.071437</td>\n      <td>6.137423</td>\n      <td>4.072130</td>\n      <td>3.843228</td>\n      <td>9.497450</td>\n      <td>3.677560</td>\n      <td>10.470444</td>\n      <td>...</td>\n      <td>3.643644</td>\n      <td>5.709993</td>\n      <td>3.534072</td>\n      <td>6.157029</td>\n      <td>5.121757</td>\n      <td>3.357921</td>\n      <td>4.015496</td>\n      <td>3.458155</td>\n      <td>3.227455</td>\n      <td>5.869892</td>\n    </tr>\n    <tr>\n      <th>mkn74</th>\n      <td>1.704000e-10</td>\n      <td>4.467035</td>\n      <td>3.862263</td>\n      <td>7.365520</td>\n      <td>4.232615</td>\n      <td>3.975874</td>\n      <td>3.799610</td>\n      <td>8.890726</td>\n      <td>3.375059</td>\n      <td>11.094143</td>\n      <td>...</td>\n      <td>3.650151</td>\n      <td>5.436915</td>\n      <td>4.640616</td>\n      <td>5.303914</td>\n      <td>4.397426</td>\n      <td>3.479735</td>\n      <td>4.914457</td>\n      <td>3.495649</td>\n      <td>8.236865</td>\n      <td>5.627709</td>\n    </tr>\n    <tr>\n      <th>snu407</th>\n      <td>1.998000e-10</td>\n      <td>3.662729</td>\n      <td>3.735107</td>\n      <td>8.283153</td>\n      <td>4.166486</td>\n      <td>4.064937</td>\n      <td>4.389859</td>\n      <td>9.254205</td>\n      <td>3.414116</td>\n      <td>10.613076</td>\n      <td>...</td>\n      <td>3.316558</td>\n      <td>5.317613</td>\n      <td>3.536928</td>\n      <td>5.062972</td>\n      <td>5.028080</td>\n      <td>3.514160</td>\n      <td>4.510738</td>\n      <td>3.536222</td>\n      <td>3.247987</td>\n      <td>5.695928</td>\n    </tr>\n    <tr>\n      <th>huh28</th>\n      <td>2.074000e-10</td>\n      <td>4.186921</td>\n      <td>4.086841</td>\n      <td>5.986209</td>\n      <td>5.096623</td>\n      <td>4.286439</td>\n      <td>4.030164</td>\n      <td>8.245387</td>\n      <td>3.387594</td>\n      <td>9.888688</td>\n      <td>...</td>\n      <td>3.596370</td>\n      <td>5.063555</td>\n      <td>3.541462</td>\n      <td>5.525603</td>\n      <td>4.187762</td>\n      <td>3.463820</td>\n      <td>5.342083</td>\n      <td>3.584642</td>\n      <td>3.448283</td>\n      <td>8.549362</td>\n    </tr>\n  </tbody>\n</table>\n<p>5 rows × 18524 columns</p>\n</div>"
     },
     "metadata": {},
     "output_type": "display_data"
    },
    {
     "data": {
      "text/plain": "                 1         2         9        10        12        13  \\\nncih1838  4.961071  3.630195  8.695267  4.283843  4.344439  3.802376   \nsnu61     4.072509  3.910575  8.071437  6.137423  4.072130  3.843228   \nmkn74     4.467035  3.862263  7.365520  4.232615  3.975874  3.799610   \nsnu407    3.662729  3.735107  8.283153  4.166486  4.064937  4.389859   \nhuh28     4.186921  4.086841  5.986209  5.096623  4.286439  4.030164   \n\n                14        15         16        18  ...  100628307  100630918  \\\nncih1838  8.827035  3.353719  10.185787  3.711137  ...   3.745603   5.576789   \nsnu61     9.497450  3.677560  10.470444  5.495986  ...   3.643644   5.709993   \nmkn74     8.890726  3.375059  11.094143  7.797575  ...   3.650151   5.436915   \nsnu407    9.254205  3.414116  10.613076  7.498797  ...   3.316558   5.317613   \nhuh28     8.245387  3.387594   9.888688  4.214274  ...   3.596370   5.063555   \n\n          100631378  100642175  100652770  100652791  100653022  100689073  \\\nncih1838   3.625893   5.248171   4.487401   3.533984   3.927696   3.502210   \nsnu61      3.534072   6.157029   5.121757   3.357921   4.015496   3.458155   \nmkn74      4.640616   5.303914   4.397426   3.479735   4.914457   3.495649   \nsnu407     3.536928   5.062972   5.028080   3.514160   4.510738   3.536222   \nhuh28      3.541462   5.525603   4.187762   3.463820   5.342083   3.584642   \n\n          100689074  100820829  \nncih1838   3.324512   5.203998  \nsnu61      3.227455   5.869892  \nmkn74      8.236865   5.627709  \nsnu407     3.247987   5.695928  \nhuh28      3.448283   8.549362  \n\n[5 rows x 18523 columns]",
      "text/html": "<div>\n<style scoped>\n    .dataframe tbody tr th:only-of-type {\n        vertical-align: middle;\n    }\n\n    .dataframe tbody tr th {\n        vertical-align: top;\n    }\n\n    .dataframe thead th {\n        text-align: right;\n    }\n</style>\n<table border=\"1\" class=\"dataframe\">\n  <thead>\n    <tr style=\"text-align: right;\">\n      <th></th>\n      <th>1</th>\n      <th>2</th>\n      <th>9</th>\n      <th>10</th>\n      <th>12</th>\n      <th>13</th>\n      <th>14</th>\n      <th>15</th>\n      <th>16</th>\n      <th>18</th>\n      <th>...</th>\n      <th>100628307</th>\n      <th>100630918</th>\n      <th>100631378</th>\n      <th>100642175</th>\n      <th>100652770</th>\n      <th>100652791</th>\n      <th>100653022</th>\n      <th>100689073</th>\n      <th>100689074</th>\n      <th>100820829</th>\n    </tr>\n  </thead>\n  <tbody>\n    <tr>\n      <th>ncih1838</th>\n      <td>4.961071</td>\n      <td>3.630195</td>\n      <td>8.695267</td>\n      <td>4.283843</td>\n      <td>4.344439</td>\n      <td>3.802376</td>\n      <td>8.827035</td>\n      <td>3.353719</td>\n      <td>10.185787</td>\n      <td>3.711137</td>\n      <td>...</td>\n      <td>3.745603</td>\n      <td>5.576789</td>\n      <td>3.625893</td>\n      <td>5.248171</td>\n      <td>4.487401</td>\n      <td>3.533984</td>\n      <td>3.927696</td>\n      <td>3.502210</td>\n      <td>3.324512</td>\n      <td>5.203998</td>\n    </tr>\n    <tr>\n      <th>snu61</th>\n      <td>4.072509</td>\n      <td>3.910575</td>\n      <td>8.071437</td>\n      <td>6.137423</td>\n      <td>4.072130</td>\n      <td>3.843228</td>\n      <td>9.497450</td>\n      <td>3.677560</td>\n      <td>10.470444</td>\n      <td>5.495986</td>\n      <td>...</td>\n      <td>3.643644</td>\n      <td>5.709993</td>\n      <td>3.534072</td>\n      <td>6.157029</td>\n      <td>5.121757</td>\n      <td>3.357921</td>\n      <td>4.015496</td>\n      <td>3.458155</td>\n      <td>3.227455</td>\n      <td>5.869892</td>\n    </tr>\n    <tr>\n      <th>mkn74</th>\n      <td>4.467035</td>\n      <td>3.862263</td>\n      <td>7.365520</td>\n      <td>4.232615</td>\n      <td>3.975874</td>\n      <td>3.799610</td>\n      <td>8.890726</td>\n      <td>3.375059</td>\n      <td>11.094143</td>\n      <td>7.797575</td>\n      <td>...</td>\n      <td>3.650151</td>\n      <td>5.436915</td>\n      <td>4.640616</td>\n      <td>5.303914</td>\n      <td>4.397426</td>\n      <td>3.479735</td>\n      <td>4.914457</td>\n      <td>3.495649</td>\n      <td>8.236865</td>\n      <td>5.627709</td>\n    </tr>\n    <tr>\n      <th>snu407</th>\n      <td>3.662729</td>\n      <td>3.735107</td>\n      <td>8.283153</td>\n      <td>4.166486</td>\n      <td>4.064937</td>\n      <td>4.389859</td>\n      <td>9.254205</td>\n      <td>3.414116</td>\n      <td>10.613076</td>\n      <td>7.498797</td>\n      <td>...</td>\n      <td>3.316558</td>\n      <td>5.317613</td>\n      <td>3.536928</td>\n      <td>5.062972</td>\n      <td>5.028080</td>\n      <td>3.514160</td>\n      <td>4.510738</td>\n      <td>3.536222</td>\n      <td>3.247987</td>\n      <td>5.695928</td>\n    </tr>\n    <tr>\n      <th>huh28</th>\n      <td>4.186921</td>\n      <td>4.086841</td>\n      <td>5.986209</td>\n      <td>5.096623</td>\n      <td>4.286439</td>\n      <td>4.030164</td>\n      <td>8.245387</td>\n      <td>3.387594</td>\n      <td>9.888688</td>\n      <td>4.214274</td>\n      <td>...</td>\n      <td>3.596370</td>\n      <td>5.063555</td>\n      <td>3.541462</td>\n      <td>5.525603</td>\n      <td>4.187762</td>\n      <td>3.463820</td>\n      <td>5.342083</td>\n      <td>3.584642</td>\n      <td>3.448283</td>\n      <td>8.549362</td>\n    </tr>\n  </tbody>\n</table>\n<p>5 rows × 18523 columns</p>\n</div>"
     },
     "metadata": {},
     "output_type": "display_data"
    }
   ],
   "source": [
    "df = pd.read_csv('data/cclebeta.csv', index_col=0)\n",
    "df_sorted = df.sort_values('Beta')\n",
    "df_X = df_sorted.drop(['Beta'], axis=1)\n",
    "display(df.head())\n",
    "display(df_sorted.head())\n",
    "display(df_X.head())\n",
    "df_X.shape\n",
    "df_X.to_csv('data/ccle_combined_sorted.csv')"
   ],
   "metadata": {
    "collapsed": false,
    "pycharm": {
     "name": "#%%\n"
    }
   }
  },
  {
   "cell_type": "code",
   "execution_count": 34,
   "outputs": [
    {
     "data": {
      "text/plain": "(494, 1)"
     },
     "execution_count": 34,
     "metadata": {},
     "output_type": "execute_result"
    }
   ],
   "source": [
    "df_y = pd.read_csv('class_data/all_combined.csv', index_col=0)\n",
    "df_y.shape"
   ],
   "metadata": {
    "collapsed": false,
    "pycharm": {
     "name": "#%%\n"
    }
   }
  },
  {
   "cell_type": "code",
   "execution_count": 37,
   "outputs": [],
   "source": [
    "x_train, x_test, y_train, y_test = train_test_split(df_X, df_y, test_size=0.1, random_state=7)\n",
    "x_train.to_csv('data/x_train_class.csv')\n",
    "x_test.to_csv('data/x_test_class.csv')\n",
    "y_train.to_csv('data/y_train_class.csv')\n",
    "y_test.to_csv('data/y_test_class.csv')"
   ],
   "metadata": {
    "collapsed": false,
    "pycharm": {
     "name": "#%%\n"
    }
   }
  }
 ],
 "metadata": {
  "kernelspec": {
   "display_name": "Python 3",
   "language": "python",
   "name": "python3"
  },
  "language_info": {
   "codemirror_mode": {
    "name": "ipython",
    "version": 2
   },
   "file_extension": ".py",
   "mimetype": "text/x-python",
   "name": "python",
   "nbconvert_exporter": "python",
   "pygments_lexer": "ipython2",
   "version": "2.7.6"
  }
 },
 "nbformat": 4,
 "nbformat_minor": 0
}