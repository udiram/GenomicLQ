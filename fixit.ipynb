{
 "cells": [
  {
   "cell_type": "code",
   "execution_count": 2,
   "outputs": [],
   "source": [
    "import pandas as pd"
   ],
   "metadata": {
    "collapsed": false,
    "pycharm": {
     "name": "#%%\n"
    }
   }
  },
  {
   "cell_type": "code",
   "execution_count": 25,
   "outputs": [],
   "source": [
    "df = pd.read_csv('FixIt.csv', index_col=0)"
   ],
   "metadata": {
    "collapsed": false,
    "pycharm": {
     "name": "#%%\n"
    }
   }
  },
  {
   "cell_type": "code",
   "execution_count": 26,
   "outputs": [
    {
     "data": {
      "text/plain": "                                          Label  \\\n@52070900777209100209406331451825.CEL  0.910223   \n@52070900777209100209406331451827.CEL  0.819914   \n@52070900777209100209406331451844.CEL  0.676532   \n@52070900777210100209406331451864.CEL  1.072747   \n@52070900777210100209406331451879.CEL  0.843531   \n\n                                                                 BARCODE  \n@52070900777209100209406331451825.CEL  @52070900777209100209406331451827  \n@52070900777209100209406331451827.CEL  @52070900777209100209406331451844  \n@52070900777209100209406331451844.CEL  @52070900777210100209406331451864  \n@52070900777210100209406331451864.CEL  @52070900777210100209406331451879  \n@52070900777210100209406331451879.CEL  @52070900777210100209406331451886  ",
      "text/html": "<div>\n<style scoped>\n    .dataframe tbody tr th:only-of-type {\n        vertical-align: middle;\n    }\n\n    .dataframe tbody tr th {\n        vertical-align: top;\n    }\n\n    .dataframe thead th {\n        text-align: right;\n    }\n</style>\n<table border=\"1\" class=\"dataframe\">\n  <thead>\n    <tr style=\"text-align: right;\">\n      <th></th>\n      <th>Label</th>\n      <th>BARCODE</th>\n    </tr>\n  </thead>\n  <tbody>\n    <tr>\n      <th>@52070900777209100209406331451825.CEL</th>\n      <td>0.910223</td>\n      <td>@52070900777209100209406331451827</td>\n    </tr>\n    <tr>\n      <th>@52070900777209100209406331451827.CEL</th>\n      <td>0.819914</td>\n      <td>@52070900777209100209406331451844</td>\n    </tr>\n    <tr>\n      <th>@52070900777209100209406331451844.CEL</th>\n      <td>0.676532</td>\n      <td>@52070900777210100209406331451864</td>\n    </tr>\n    <tr>\n      <th>@52070900777210100209406331451864.CEL</th>\n      <td>1.072747</td>\n      <td>@52070900777210100209406331451879</td>\n    </tr>\n    <tr>\n      <th>@52070900777210100209406331451879.CEL</th>\n      <td>0.843531</td>\n      <td>@52070900777210100209406331451886</td>\n    </tr>\n  </tbody>\n</table>\n</div>"
     },
     "execution_count": 26,
     "metadata": {},
     "output_type": "execute_result"
    }
   ],
   "source": [
    "df.head()"
   ],
   "metadata": {
    "collapsed": false,
    "pycharm": {
     "name": "#%%\n"
    }
   }
  },
  {
   "cell_type": "code",
   "execution_count": 32,
   "outputs": [],
   "source": [
    "#combine columns 2 and 3 into 1 column\n",
    "df['combined'] = df['Label'].astype(str) + '-' + df['BARCODE']"
   ],
   "metadata": {
    "collapsed": false,
    "pycharm": {
     "name": "#%%\n"
    }
   }
  },
  {
   "cell_type": "code",
   "execution_count": 33,
   "outputs": [
    {
     "data": {
      "text/plain": "                                          Label  \\\n@52070900777209100209406331451825.CEL  0.910223   \n@52070900777209100209406331451827.CEL  0.819914   \n@52070900777209100209406331451844.CEL  0.676532   \n@52070900777210100209406331451864.CEL  1.072747   \n@52070900777210100209406331451879.CEL  0.843531   \n\n                                                                 BARCODE  \\\n@52070900777209100209406331451825.CEL  @52070900777209100209406331451827   \n@52070900777209100209406331451827.CEL  @52070900777209100209406331451844   \n@52070900777209100209406331451844.CEL  @52070900777210100209406331451864   \n@52070900777210100209406331451864.CEL  @52070900777210100209406331451879   \n@52070900777210100209406331451879.CEL  @52070900777210100209406331451886   \n\n                                                                            combined  \n@52070900777209100209406331451825.CEL  0.910222595-@52070900777209100209406331451827  \n@52070900777209100209406331451827.CEL  0.819914463-@52070900777209100209406331451844  \n@52070900777209100209406331451844.CEL  0.676532443-@52070900777210100209406331451864  \n@52070900777210100209406331451864.CEL  1.072746734-@52070900777210100209406331451879  \n@52070900777210100209406331451879.CEL  0.843530916-@52070900777210100209406331451886  ",
      "text/html": "<div>\n<style scoped>\n    .dataframe tbody tr th:only-of-type {\n        vertical-align: middle;\n    }\n\n    .dataframe tbody tr th {\n        vertical-align: top;\n    }\n\n    .dataframe thead th {\n        text-align: right;\n    }\n</style>\n<table border=\"1\" class=\"dataframe\">\n  <thead>\n    <tr style=\"text-align: right;\">\n      <th></th>\n      <th>Label</th>\n      <th>BARCODE</th>\n      <th>combined</th>\n    </tr>\n  </thead>\n  <tbody>\n    <tr>\n      <th>@52070900777209100209406331451825.CEL</th>\n      <td>0.910223</td>\n      <td>@52070900777209100209406331451827</td>\n      <td>0.910222595-@52070900777209100209406331451827</td>\n    </tr>\n    <tr>\n      <th>@52070900777209100209406331451827.CEL</th>\n      <td>0.819914</td>\n      <td>@52070900777209100209406331451844</td>\n      <td>0.819914463-@52070900777209100209406331451844</td>\n    </tr>\n    <tr>\n      <th>@52070900777209100209406331451844.CEL</th>\n      <td>0.676532</td>\n      <td>@52070900777210100209406331451864</td>\n      <td>0.676532443-@52070900777210100209406331451864</td>\n    </tr>\n    <tr>\n      <th>@52070900777210100209406331451864.CEL</th>\n      <td>1.072747</td>\n      <td>@52070900777210100209406331451879</td>\n      <td>1.072746734-@52070900777210100209406331451879</td>\n    </tr>\n    <tr>\n      <th>@52070900777210100209406331451879.CEL</th>\n      <td>0.843531</td>\n      <td>@52070900777210100209406331451886</td>\n      <td>0.843530916-@52070900777210100209406331451886</td>\n    </tr>\n  </tbody>\n</table>\n</div>"
     },
     "execution_count": 33,
     "metadata": {},
     "output_type": "execute_result"
    }
   ],
   "source": [
    "df.head()"
   ],
   "metadata": {
    "collapsed": false,
    "pycharm": {
     "name": "#%%\n"
    }
   }
  },
  {
   "cell_type": "code",
   "execution_count": 34,
   "outputs": [],
   "source": [
    "new_df = df.drop(['Label', 'BARCODE'], axis=1)"
   ],
   "metadata": {
    "collapsed": false,
    "pycharm": {
     "name": "#%%\n"
    }
   }
  },
  {
   "cell_type": "code",
   "execution_count": 35,
   "outputs": [
    {
     "data": {
      "text/plain": "                                                                            combined\n@52070900777209100209406331451825.CEL  0.910222595-@52070900777209100209406331451827\n@52070900777209100209406331451827.CEL  0.819914463-@52070900777209100209406331451844\n@52070900777209100209406331451844.CEL  0.676532443-@52070900777210100209406331451864\n@52070900777210100209406331451864.CEL  1.072746734-@52070900777210100209406331451879\n@52070900777210100209406331451879.CEL  0.843530916-@52070900777210100209406331451886",
      "text/html": "<div>\n<style scoped>\n    .dataframe tbody tr th:only-of-type {\n        vertical-align: middle;\n    }\n\n    .dataframe tbody tr th {\n        vertical-align: top;\n    }\n\n    .dataframe thead th {\n        text-align: right;\n    }\n</style>\n<table border=\"1\" class=\"dataframe\">\n  <thead>\n    <tr style=\"text-align: right;\">\n      <th></th>\n      <th>combined</th>\n    </tr>\n  </thead>\n  <tbody>\n    <tr>\n      <th>@52070900777209100209406331451825.CEL</th>\n      <td>0.910222595-@52070900777209100209406331451827</td>\n    </tr>\n    <tr>\n      <th>@52070900777209100209406331451827.CEL</th>\n      <td>0.819914463-@52070900777209100209406331451844</td>\n    </tr>\n    <tr>\n      <th>@52070900777209100209406331451844.CEL</th>\n      <td>0.676532443-@52070900777210100209406331451864</td>\n    </tr>\n    <tr>\n      <th>@52070900777210100209406331451864.CEL</th>\n      <td>1.072746734-@52070900777210100209406331451879</td>\n    </tr>\n    <tr>\n      <th>@52070900777210100209406331451879.CEL</th>\n      <td>0.843530916-@52070900777210100209406331451886</td>\n    </tr>\n  </tbody>\n</table>\n</div>"
     },
     "execution_count": 35,
     "metadata": {},
     "output_type": "execute_result"
    }
   ],
   "source": [
    "new_df.head()"
   ],
   "metadata": {
    "collapsed": false,
    "pycharm": {
     "name": "#%%\n"
    }
   }
  },
  {
   "cell_type": "code",
   "execution_count": 44,
   "outputs": [],
   "source": [
    "first_row_id_list = []\n",
    "second_row_id_list = []\n",
    "for row in new_df.itertuples():\n",
    "    first_row_id = row[0].split('.')[0]\n",
    "    first_row_id_list.append(first_row_id)\n",
    "    if not pd.isna(row[1]):\n",
    "        second_row_id = row[1].split('-')[1]\n",
    "        second_row_id_list.append(second_row_id)\n",
    "\n"
   ],
   "metadata": {
    "collapsed": false,
    "pycharm": {
     "name": "#%%\n"
    }
   }
  },
  {
   "cell_type": "code",
   "execution_count": 48,
   "outputs": [
    {
     "name": "stdout",
     "output_type": "stream",
     "text": [
      "643\n",
      "335\n"
     ]
    }
   ],
   "source": [
    "print(len(first_row_id_list))\n",
    "print(len(second_row_id_list))"
   ],
   "metadata": {
    "collapsed": false,
    "pycharm": {
     "name": "#%%\n"
    }
   }
  },
  {
   "cell_type": "code",
   "execution_count": 49,
   "outputs": [
    {
     "name": "stdout",
     "output_type": "stream",
     "text": [
      "335\n"
     ]
    }
   ],
   "source": [
    "# find intersection between the two lists\n",
    "intersection = set(first_row_id_list).intersection(set(second_row_id_list))\n",
    "print(len(intersection))"
   ],
   "metadata": {
    "collapsed": false,
    "pycharm": {
     "name": "#%%\n"
    }
   }
  },
  {
   "cell_type": "code",
   "execution_count": null,
   "outputs": [],
   "source": [],
   "metadata": {
    "collapsed": false,
    "pycharm": {
     "name": "#%%\n"
    }
   }
  }
 ],
 "metadata": {
  "kernelspec": {
   "display_name": "Python 3",
   "language": "python",
   "name": "python3"
  },
  "language_info": {
   "codemirror_mode": {
    "name": "ipython",
    "version": 2
   },
   "file_extension": ".py",
   "mimetype": "text/x-python",
   "name": "python",
   "nbconvert_exporter": "python",
   "pygments_lexer": "ipython2",
   "version": "2.7.6"
  }
 },
 "nbformat": 4,
 "nbformat_minor": 0
}