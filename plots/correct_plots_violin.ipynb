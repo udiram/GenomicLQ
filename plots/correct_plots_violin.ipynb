{
 "cells": [
  {
   "cell_type": "code",
   "execution_count": 1,
   "outputs": [],
   "source": [
    "import pandas as pd\n",
    "import seaborn as sns"
   ],
   "metadata": {
    "collapsed": false,
    "pycharm": {
     "name": "#%%\n"
    }
   }
  },
  {
   "cell_type": "code",
   "execution_count": 2,
   "outputs": [],
   "source": [
    "corrected_df = pd.read_csv('corrected_df.csv')\n",
    "ccle_a_b = pd.read_csv('ccle_alpha_and_beta.csv', index_col=0)"
   ],
   "metadata": {
    "collapsed": false,
    "pycharm": {
     "name": "#%%\n"
    }
   }
  },
  {
   "cell_type": "code",
   "execution_count": 3,
   "outputs": [
    {
     "data": {
      "text/plain": "           Alpha         1         2          9        10        12        13  \\\n22rv1   0.280000  4.423446  4.134148  10.505010  4.180319  3.828985  3.416169   \n42mgba  0.154200  6.856747  3.792826   8.117941  4.300842  3.534361  3.465385   \n5637    0.324000  3.817624  3.769035   7.944338  4.000219  4.793569  4.246643   \n647v    0.060750  4.322558  3.730195   8.515086  4.421911  3.894124  3.649778   \n769p    0.160900  4.020103  3.846175   8.278318  4.400144  4.855821  3.731236   \n...          ...       ...       ...        ...       ...       ...       ...   \nyd8     0.000633  3.858637  3.858678   7.347359  4.099068  5.114670  3.918606   \nyh13    0.100500  6.118188  3.834543   7.883445  3.979507  3.576310  3.648044   \nykg1    0.369600  4.955635  3.776656   7.666882  4.298755  3.960633  3.684043   \nzr751   0.103900  6.585318  3.479286  11.734768  5.386722  6.099157  3.907933   \nzr7530  0.050450  5.876061  4.067515   9.073347  4.438271  4.475011  4.320396   \n\n              14        15         16  ...  100630918  100631378  100642175  \\\n22rv1   8.924422  3.547737  10.489760  ...   5.662483   3.535540   5.441015   \n42mgba  8.689804  3.730495  10.063663  ...   4.894637   3.717672   4.600157   \n5637    9.218668  3.775753   8.843498  ...   5.375774   3.438822   5.457984   \n647v    8.962272  3.469970  10.341420  ...   5.286006   3.415911   4.769920   \n769p    9.109365  3.576632  10.172053  ...   5.318118   3.583233   4.643916   \n...          ...       ...        ...  ...        ...        ...        ...   \nyd8     8.723074  3.468326  10.799664  ...   5.146267   3.551669   5.399372   \nyh13    8.369202  3.806485  10.210170  ...   5.155734   3.512249   6.136212   \nykg1    8.353579  3.426819   9.540819  ...   5.208967   3.475793   8.150543   \nzr751   8.611372  3.514237   9.894128  ...   5.219831   3.537109   4.765840   \nzr7530  8.479735  3.246002   9.281008  ...   5.391797   3.520791   8.523510   \n\n        100652770  100652791  100653022  100689073  100689074  100820829  \\\n22rv1    4.484159   3.272955   3.932815   3.518021   4.202408   4.675101   \n42mgba   3.986362   3.102421   4.577944   3.650426   3.155024   4.213095   \n5637     5.054120   3.542372   4.057933   3.664296   3.268805   7.120733   \n647v     4.744037   3.426386   4.216155   3.417696   3.374419   6.135024   \n769p     4.882646   3.490162   4.041154   3.375546   3.291270   4.529068   \n...           ...        ...        ...        ...        ...        ...   \nyd8      4.377245   3.429773   4.572200   3.741516   3.299514   6.621594   \nyh13     3.963990   3.636879   3.933309   3.410494   3.440530   4.448295   \nykg1     4.523089   3.332175   4.074033   3.667815   3.282889   4.914598   \nzr751    4.169777   3.311372   5.903892   3.343950   3.325747   4.913020   \nzr7530   3.999782   3.342569   5.015121   3.744391   3.373689   4.334110   \n\n                Beta  \n22rv1   5.625000e-08  \n42mgba  2.409000e-02  \n5637    9.217000e-03  \n647v    6.135000e-02  \n769p    1.736000e-02  \n...              ...  \nyd8     2.274000e-02  \nyh13    2.759000e-02  \nykg1    3.328000e-02  \nzr751   1.010000e-06  \nzr7530  2.480000e-07  \n\n[494 rows x 18525 columns]",
      "text/html": "<div>\n<style scoped>\n    .dataframe tbody tr th:only-of-type {\n        vertical-align: middle;\n    }\n\n    .dataframe tbody tr th {\n        vertical-align: top;\n    }\n\n    .dataframe thead th {\n        text-align: right;\n    }\n</style>\n<table border=\"1\" class=\"dataframe\">\n  <thead>\n    <tr style=\"text-align: right;\">\n      <th></th>\n      <th>Alpha</th>\n      <th>1</th>\n      <th>2</th>\n      <th>9</th>\n      <th>10</th>\n      <th>12</th>\n      <th>13</th>\n      <th>14</th>\n      <th>15</th>\n      <th>16</th>\n      <th>...</th>\n      <th>100630918</th>\n      <th>100631378</th>\n      <th>100642175</th>\n      <th>100652770</th>\n      <th>100652791</th>\n      <th>100653022</th>\n      <th>100689073</th>\n      <th>100689074</th>\n      <th>100820829</th>\n      <th>Beta</th>\n    </tr>\n  </thead>\n  <tbody>\n    <tr>\n      <th>22rv1</th>\n      <td>0.280000</td>\n      <td>4.423446</td>\n      <td>4.134148</td>\n      <td>10.505010</td>\n      <td>4.180319</td>\n      <td>3.828985</td>\n      <td>3.416169</td>\n      <td>8.924422</td>\n      <td>3.547737</td>\n      <td>10.489760</td>\n      <td>...</td>\n      <td>5.662483</td>\n      <td>3.535540</td>\n      <td>5.441015</td>\n      <td>4.484159</td>\n      <td>3.272955</td>\n      <td>3.932815</td>\n      <td>3.518021</td>\n      <td>4.202408</td>\n      <td>4.675101</td>\n      <td>5.625000e-08</td>\n    </tr>\n    <tr>\n      <th>42mgba</th>\n      <td>0.154200</td>\n      <td>6.856747</td>\n      <td>3.792826</td>\n      <td>8.117941</td>\n      <td>4.300842</td>\n      <td>3.534361</td>\n      <td>3.465385</td>\n      <td>8.689804</td>\n      <td>3.730495</td>\n      <td>10.063663</td>\n      <td>...</td>\n      <td>4.894637</td>\n      <td>3.717672</td>\n      <td>4.600157</td>\n      <td>3.986362</td>\n      <td>3.102421</td>\n      <td>4.577944</td>\n      <td>3.650426</td>\n      <td>3.155024</td>\n      <td>4.213095</td>\n      <td>2.409000e-02</td>\n    </tr>\n    <tr>\n      <th>5637</th>\n      <td>0.324000</td>\n      <td>3.817624</td>\n      <td>3.769035</td>\n      <td>7.944338</td>\n      <td>4.000219</td>\n      <td>4.793569</td>\n      <td>4.246643</td>\n      <td>9.218668</td>\n      <td>3.775753</td>\n      <td>8.843498</td>\n      <td>...</td>\n      <td>5.375774</td>\n      <td>3.438822</td>\n      <td>5.457984</td>\n      <td>5.054120</td>\n      <td>3.542372</td>\n      <td>4.057933</td>\n      <td>3.664296</td>\n      <td>3.268805</td>\n      <td>7.120733</td>\n      <td>9.217000e-03</td>\n    </tr>\n    <tr>\n      <th>647v</th>\n      <td>0.060750</td>\n      <td>4.322558</td>\n      <td>3.730195</td>\n      <td>8.515086</td>\n      <td>4.421911</td>\n      <td>3.894124</td>\n      <td>3.649778</td>\n      <td>8.962272</td>\n      <td>3.469970</td>\n      <td>10.341420</td>\n      <td>...</td>\n      <td>5.286006</td>\n      <td>3.415911</td>\n      <td>4.769920</td>\n      <td>4.744037</td>\n      <td>3.426386</td>\n      <td>4.216155</td>\n      <td>3.417696</td>\n      <td>3.374419</td>\n      <td>6.135024</td>\n      <td>6.135000e-02</td>\n    </tr>\n    <tr>\n      <th>769p</th>\n      <td>0.160900</td>\n      <td>4.020103</td>\n      <td>3.846175</td>\n      <td>8.278318</td>\n      <td>4.400144</td>\n      <td>4.855821</td>\n      <td>3.731236</td>\n      <td>9.109365</td>\n      <td>3.576632</td>\n      <td>10.172053</td>\n      <td>...</td>\n      <td>5.318118</td>\n      <td>3.583233</td>\n      <td>4.643916</td>\n      <td>4.882646</td>\n      <td>3.490162</td>\n      <td>4.041154</td>\n      <td>3.375546</td>\n      <td>3.291270</td>\n      <td>4.529068</td>\n      <td>1.736000e-02</td>\n    </tr>\n    <tr>\n      <th>...</th>\n      <td>...</td>\n      <td>...</td>\n      <td>...</td>\n      <td>...</td>\n      <td>...</td>\n      <td>...</td>\n      <td>...</td>\n      <td>...</td>\n      <td>...</td>\n      <td>...</td>\n      <td>...</td>\n      <td>...</td>\n      <td>...</td>\n      <td>...</td>\n      <td>...</td>\n      <td>...</td>\n      <td>...</td>\n      <td>...</td>\n      <td>...</td>\n      <td>...</td>\n      <td>...</td>\n    </tr>\n    <tr>\n      <th>yd8</th>\n      <td>0.000633</td>\n      <td>3.858637</td>\n      <td>3.858678</td>\n      <td>7.347359</td>\n      <td>4.099068</td>\n      <td>5.114670</td>\n      <td>3.918606</td>\n      <td>8.723074</td>\n      <td>3.468326</td>\n      <td>10.799664</td>\n      <td>...</td>\n      <td>5.146267</td>\n      <td>3.551669</td>\n      <td>5.399372</td>\n      <td>4.377245</td>\n      <td>3.429773</td>\n      <td>4.572200</td>\n      <td>3.741516</td>\n      <td>3.299514</td>\n      <td>6.621594</td>\n      <td>2.274000e-02</td>\n    </tr>\n    <tr>\n      <th>yh13</th>\n      <td>0.100500</td>\n      <td>6.118188</td>\n      <td>3.834543</td>\n      <td>7.883445</td>\n      <td>3.979507</td>\n      <td>3.576310</td>\n      <td>3.648044</td>\n      <td>8.369202</td>\n      <td>3.806485</td>\n      <td>10.210170</td>\n      <td>...</td>\n      <td>5.155734</td>\n      <td>3.512249</td>\n      <td>6.136212</td>\n      <td>3.963990</td>\n      <td>3.636879</td>\n      <td>3.933309</td>\n      <td>3.410494</td>\n      <td>3.440530</td>\n      <td>4.448295</td>\n      <td>2.759000e-02</td>\n    </tr>\n    <tr>\n      <th>ykg1</th>\n      <td>0.369600</td>\n      <td>4.955635</td>\n      <td>3.776656</td>\n      <td>7.666882</td>\n      <td>4.298755</td>\n      <td>3.960633</td>\n      <td>3.684043</td>\n      <td>8.353579</td>\n      <td>3.426819</td>\n      <td>9.540819</td>\n      <td>...</td>\n      <td>5.208967</td>\n      <td>3.475793</td>\n      <td>8.150543</td>\n      <td>4.523089</td>\n      <td>3.332175</td>\n      <td>4.074033</td>\n      <td>3.667815</td>\n      <td>3.282889</td>\n      <td>4.914598</td>\n      <td>3.328000e-02</td>\n    </tr>\n    <tr>\n      <th>zr751</th>\n      <td>0.103900</td>\n      <td>6.585318</td>\n      <td>3.479286</td>\n      <td>11.734768</td>\n      <td>5.386722</td>\n      <td>6.099157</td>\n      <td>3.907933</td>\n      <td>8.611372</td>\n      <td>3.514237</td>\n      <td>9.894128</td>\n      <td>...</td>\n      <td>5.219831</td>\n      <td>3.537109</td>\n      <td>4.765840</td>\n      <td>4.169777</td>\n      <td>3.311372</td>\n      <td>5.903892</td>\n      <td>3.343950</td>\n      <td>3.325747</td>\n      <td>4.913020</td>\n      <td>1.010000e-06</td>\n    </tr>\n    <tr>\n      <th>zr7530</th>\n      <td>0.050450</td>\n      <td>5.876061</td>\n      <td>4.067515</td>\n      <td>9.073347</td>\n      <td>4.438271</td>\n      <td>4.475011</td>\n      <td>4.320396</td>\n      <td>8.479735</td>\n      <td>3.246002</td>\n      <td>9.281008</td>\n      <td>...</td>\n      <td>5.391797</td>\n      <td>3.520791</td>\n      <td>8.523510</td>\n      <td>3.999782</td>\n      <td>3.342569</td>\n      <td>5.015121</td>\n      <td>3.744391</td>\n      <td>3.373689</td>\n      <td>4.334110</td>\n      <td>2.480000e-07</td>\n    </tr>\n  </tbody>\n</table>\n<p>494 rows × 18525 columns</p>\n</div>"
     },
     "metadata": {},
     "output_type": "display_data"
    }
   ],
   "source": [
    "display(ccle_a_b)"
   ],
   "metadata": {
    "collapsed": false,
    "pycharm": {
     "name": "#%%\n"
    }
   }
  },
  {
   "cell_type": "code",
   "execution_count": 4,
   "outputs": [
    {
     "name": "stdout",
     "output_type": "stream",
     "text": [
      "[0.28, 0.1542, 0.324, 0.06075, 0.1609, 0.1293, 0.2199, 0.2081, 0.08648, 0.2219, 0.3728, 0.1616, 0.5711, 0.871, 0.313, 0.5521, 0.1424, 0.6313, 0.371, 1.292e-06, 0.3454, 0.2721, 0.145, 0.1724, 0.1921, 0.1032, 0.5454, 0.1587, 4.452e-06, 0.5307, 0.1366, 0.2177, 0.3833, 0.1739, 0.0549399999999999, 0.1815, 0.3276, 0.1398, 0.08295, 0.1644, 0.09476, 0.345, 0.7049, 0.3468, 0.3587, 0.1443, 0.1602, 0.2999, 0.1221, 0.3229, 0.09938, 0.3645, 0.08901, 0.2338, 0.1947, 0.357, 0.5068, 0.1914, 0.3245, 0.216, 0.5365, 0.3659, 0.1665, 0.08301, 0.2399, 0.2742, 0.2556, 0.2267, 0.1872, 0.243, 0.1501, 0.3398, 0.07715, 0.2821, 0.5329, 6.5770000000000016e-06, 0.3615, 0.242, 0.3663, 0.2494, 0.2314, 0.4791, 0.272, 0.1565, 0.1641, 0.2772, 0.2737, 0.3469, 0.08838, 0.05357, 0.1964, 0.3697, 0.1702, 0.07299, 0.303, 0.05391, 0.2732, 5.2620000000000015e-06, 0.1671, 0.7125, 0.5615, 1.123e-06, 0.5258, 0.3567, 0.3461, 0.1162, 0.1136, 0.2728, 0.2454, 0.09716, 0.1808, 0.3916, 0.03441, 0.1293, 4.383e-06, 0.424, 0.1766, 0.3156, 0.02571, 0.1395, 0.04552, 0.3286, 0.09139, 0.3919, 0.2678, 0.07699, 0.2734, 0.2735, 0.2558, 1.498e-05, 0.1391, 0.4445, 0.2824, 5.244e-07, 0.6363, 0.1604, 0.5617, 0.306, 0.2084, 0.5311, 0.3954, 0.4653, 0.2951, 0.5062, 0.001619, 0.6287, 0.376, 0.6668, 0.01377, 0.2365, 0.206, 0.3246, 5.938e-07, 0.214, 0.07049, 0.05275, 9.549e-08, 0.4072, 0.03984, 0.2296, 0.1074, 0.06261, 0.2783, 2.234e-08, 0.2964, 0.1308, 0.1461, 0.2471, 0.2173, 0.1197, 0.08887, 0.01677, 0.1695, 0.4306, 0.2223, 1.047, 0.1794, 0.1801, 0.136, 0.1615, 0.04537, 0.2177, 0.3466, 0.1808, 0.4228, 0.0031969999999999, 0.2119, 0.4422, 0.3789, 0.1249, 0.07594, 0.2303, 0.1265, 0.1267, 0.2563, 0.1401, 0.192, 0.1279, 0.0938799999999999, 0.1103, 0.1756, 0.1415, 0.06389, 0.1536, 0.0829299999999999, 0.3973, 0.1398, 0.2769, 0.1227, 0.08876, 0.3992, 0.1842, 0.1524, 0.03236, 0.3481, 0.004873, 1.702e-06, 7.872e-07, 0.1759, 0.08055, 0.02793, 0.4657, 0.1874, 0.3182, 0.0924799999999999, 0.1653, 0.1971, 0.2061, 0.6386, 0.1629, 0.1689, 0.3455, 0.1171, 0.3203, 0.2889, 0.125, 0.107, 0.208, 0.1852, 0.2108, 0.3069, 0.09501, 0.1873, 0.09445, 0.08263, 0.1826, 0.2516, 0.5663, 0.2304, 0.4456, 0.2014, 0.4512, 0.5103, 1.112, 0.09809, 0.09645, 0.2289999999999999, 0.2415, 0.2353, 0.1775, 0.8141, 0.6562, 1.914e-07, 0.1119, 0.1966, 0.1234, 0.231, 0.05201, 0.1484, 0.1098, 0.2573, 0.1684, 0.1523, 0.4003, 0.4132, 0.08756, 0.2239999999999999, 0.1492, 0.569, 0.1606, 0.09215, 0.2195, 0.0425, 0.2165, 0.3148, 0.1469, 0.2312, 0.2557, 0.2922, 0.1985, 0.7572, 0.1313, 0.4951, 0.0757299999999999, 0.1712, 0.1189, 0.3462, 0.1608, 0.5703, 0.08537, 0.213, 0.3032, 0.01524, 0.0001199, 0.2954, 0.6054, 0.09429, 0.3957, 0.2825, 0.1395, 0.0223, 0.3859, 0.07868, 0.2252, 0.5771, 0.06032, 0.3195, 0.4589, 0.3944, 0.2875, 0.174, 0.5248, 0.1907, 0.1204, 0.4541, 0.2216, 0.1073, 0.1039, 0.3134, 0.2527, 0.1827, 0.4359, 0.1129, 0.1752, 0.5709, 0.7405, 0.157, 0.1511, 0.2069, 0.1785, 0.07364, 0.01799, 0.3552, 0.3816, 0.1139, 0.03585, 0.354, 0.5503, 0.2468, 0.03622, 0.1559, 0.3497, 0.1508, 0.1233, 0.2953, 0.13, 0.3879, 0.402, 0.7185, 0.1767, 0.5869, 0.1231, 0.1605, 0.23, 0.2015, 0.518, 0.5277, 0.4168, 0.35, 0.1057, 0.3171, 0.07466, 0.2108, 0.3173, 0.1817, 0.3195, 0.4169, 0.3533, 0.2949, 0.1724, 0.3811, 0.1193, 0.0002097, 0.05993, 0.1486, 0.08772, 0.1205, 0.1726, 0.2795, 0.3842, 0.09717, 0.4968, 0.476, 0.1103, 0.2489, 0.3765, 0.1701, 0.07779, 0.2337, 0.3577, 0.2796, 0.04704, 0.3935, 0.1537, 0.3807, 0.1295, 0.2355, 1.862e-07, 0.1836, 0.3058, 0.4155, 0.2121, 0.1255, 0.09281, 0.1124, 0.02411, 0.2541, 0.0601, 0.5421, 0.1944, 0.2847, 0.2334, 0.1254, 0.04249, 0.2634, 0.2747, 0.1393, 0.2247, 0.119, 0.3322, 0.357, 0.3802, 0.003329, 0.1678, 0.1729, 0.1344, 0.2844, 0.1109, 0.1743, 0.1918, 0.2915, 0.6341, 0.0967799999999999, 0.1785, 0.08681, 0.1142, 0.3063, 0.2211, 0.08784, 0.4143, 0.05434, 0.2899, 0.1917, 0.2978, 0.1736, 0.1533, 0.04626, 0.3019, 0.3268, 0.09247, 0.2003, 0.3471, 0.2469, 0.0079099999999999, 0.7544, 0.3032, 0.1034, 0.1131, 0.2241, 0.1111, 0.2055, 0.1772, 0.2135, 0.1384, 0.07936, 0.1011, 6.6620000000000025e-06, 0.4049, 0.4112, 0.2693, 0.1067, 0.2177, 0.1153, 0.3433, 0.1453, 0.2464, 3.547e-07, 0.0001341999999999, 0.0175, 0.0006334, 0.1005, 0.3696, 0.1039, 0.05045]\n"
     ]
    }
   ],
   "source": [
    "labels = corrected_df['LABELS']\n",
    "alpha = ccle_a_b['Alpha'].tolist()\n",
    "beta  = ccle_a_b['Beta'].tolist()\n",
    "print(alpha)"
   ],
   "metadata": {
    "collapsed": false,
    "pycharm": {
     "name": "#%%\n"
    }
   }
  },
  {
   "cell_type": "code",
   "execution_count": 5,
   "outputs": [
    {
     "data": {
      "text/plain": "      ALPHA      BETA    LABELS    alpha          beta\n0  0.313505  0.010881   URINARY  0.28000  5.625000e-08\n1  0.433756  0.000000  PROSTATE  0.15420  2.409000e-02\n2  0.079103  0.042124   CENTRAL  0.32400  9.217000e-03\n3  0.000000  0.072801   URINARY  0.06075  6.135000e-02\n4  0.224548  0.005366    KIDNEY  0.16090  1.736000e-02",
      "text/html": "<div>\n<style scoped>\n    .dataframe tbody tr th:only-of-type {\n        vertical-align: middle;\n    }\n\n    .dataframe tbody tr th {\n        vertical-align: top;\n    }\n\n    .dataframe thead th {\n        text-align: right;\n    }\n</style>\n<table border=\"1\" class=\"dataframe\">\n  <thead>\n    <tr style=\"text-align: right;\">\n      <th></th>\n      <th>ALPHA</th>\n      <th>BETA</th>\n      <th>LABELS</th>\n      <th>alpha</th>\n      <th>beta</th>\n    </tr>\n  </thead>\n  <tbody>\n    <tr>\n      <th>0</th>\n      <td>0.313505</td>\n      <td>0.010881</td>\n      <td>URINARY</td>\n      <td>0.28000</td>\n      <td>5.625000e-08</td>\n    </tr>\n    <tr>\n      <th>1</th>\n      <td>0.433756</td>\n      <td>0.000000</td>\n      <td>PROSTATE</td>\n      <td>0.15420</td>\n      <td>2.409000e-02</td>\n    </tr>\n    <tr>\n      <th>2</th>\n      <td>0.079103</td>\n      <td>0.042124</td>\n      <td>CENTRAL</td>\n      <td>0.32400</td>\n      <td>9.217000e-03</td>\n    </tr>\n    <tr>\n      <th>3</th>\n      <td>0.000000</td>\n      <td>0.072801</td>\n      <td>URINARY</td>\n      <td>0.06075</td>\n      <td>6.135000e-02</td>\n    </tr>\n    <tr>\n      <th>4</th>\n      <td>0.224548</td>\n      <td>0.005366</td>\n      <td>KIDNEY</td>\n      <td>0.16090</td>\n      <td>1.736000e-02</td>\n    </tr>\n  </tbody>\n</table>\n</div>"
     },
     "metadata": {},
     "output_type": "display_data"
    }
   ],
   "source": [
    "corrected_df['alpha'] = alpha\n",
    "corrected_df['beta'] = beta\n",
    "display(corrected_df.head())"
   ],
   "metadata": {
    "collapsed": false,
    "pycharm": {
     "name": "#%%\n"
    }
   }
  },
  {
   "cell_type": "code",
   "execution_count": 6,
   "outputs": [],
   "source": [
    "corrected_df.drop(['ALPHA', 'BETA'], axis=1, inplace=True)"
   ],
   "metadata": {
    "collapsed": false,
    "pycharm": {
     "name": "#%%\n"
    }
   }
  },
  {
   "cell_type": "code",
   "execution_count": 7,
   "outputs": [],
   "source": [
    "corrected_df.to_csv('correct_ab_labels.csv', index=False)"
   ],
   "metadata": {
    "collapsed": false,
    "pycharm": {
     "name": "#%%\n"
    }
   }
  },
  {
   "cell_type": "code",
   "execution_count": 8,
   "outputs": [],
   "source": [
    "corrected_df['LABELS'] = corrected_df['LABELS'].apply(lambda x: x.replace('PLEURA', 'LUNG'))\n",
    "corrected_df['LABELS'] = corrected_df['LABELS'].apply(lambda x: x.replace('CENTRAL', 'NERVOUS'))\n",
    "corrected_df['LABELS'] = corrected_df['LABELS'].apply(lambda x: x.replace('AUTONOMIC', 'NERVOUS'))\n",
    "corrected_df['beta'] = corrected_df['beta'].apply(lambda x: 0 if x < 0.001 else x)\n"
   ],
   "metadata": {
    "collapsed": false,
    "pycharm": {
     "name": "#%%\n"
    }
   }
  },
  {
   "cell_type": "code",
   "execution_count": 35,
   "outputs": [],
   "source": [
    "new_df_alpha = corrected_df.groupby(['LABELS'])['alpha'].agg('max')\n",
    "new_df_alpha"
   ],
   "metadata": {
    "collapsed": false,
    "pycharm": {
     "name": "#%%\n"
    }
   }
  },
  {
   "cell_type": "code",
   "execution_count": 38,
   "outputs": [
    {
     "name": "stdout",
     "output_type": "stream",
     "text": [
      "LABELS\n",
      "NERVOUS        1.1120\n",
      "OVARY          0.8710\n",
      "LUNG           0.8141\n",
      "OESOPHAGUS     0.7544\n",
      "PANCREAS       0.7185\n",
      "KIDNEY         0.7049\n",
      "SOFT           0.6668\n",
      "LARGE          0.6386\n",
      "ENDOMETRIUM    0.6363\n",
      "SKIN           0.6287\n",
      "SALIVARY       0.5711\n",
      "BONE           0.5521\n",
      "THYROID        0.5454\n",
      "LIVER          0.5421\n",
      "UPPER          0.5307\n",
      "STOMACH        0.5248\n",
      "PROSTATE       0.4791\n",
      "BREAST         0.4240\n",
      "URINARY        0.4169\n",
      "BILIARY        0.2121\n",
      "Name: alpha, dtype: float64\n",
      "['NERVOUS', 'OVARY', 'LUNG', 'OESOPHAGUS', 'PANCREAS', 'KIDNEY', 'SOFT', 'LARGE', 'ENDOMETRIUM', 'SKIN', 'SALIVARY', 'BONE', 'THYROID', 'LIVER', 'UPPER', 'STOMACH', 'PROSTATE', 'BREAST', 'URINARY', 'BILIARY']\n"
     ]
    }
   ],
   "source": [
    "ordered_df_alpha = new_df_alpha.sort_values(ascending=False)\n",
    "ordered_df_alpha.to_csv('ordered_df_alpha.csv')\n",
    "print(ordered_df_alpha)\n",
    "ordered_list_alpha = ordered_df_alpha.index.tolist()\n",
    "print(ordered_list_alpha)"
   ],
   "metadata": {
    "collapsed": false,
    "pycharm": {
     "name": "#%%\n"
    }
   }
  },
  {
   "cell_type": "code",
   "execution_count": 40,
   "outputs": [
    {
     "data": {
      "application/vnd.plotly.v1+json": {
       "data": [
        {
         "alignmentgroup": "True",
         "box": {
          "visible": false
         },
         "hovertemplate": "LABELS=%{x}<br>alpha=%{y}<extra></extra>",
         "legendgroup": "",
         "marker": {
          "color": "#636efa"
         },
         "name": "",
         "offsetgroup": "",
         "orientation": "v",
         "points": "all",
         "scalegroup": "True",
         "showlegend": false,
         "x": [
          "NERVOUS",
          "OVARY",
          "LUNG",
          "OESOPHAGUS",
          "PANCREAS",
          "KIDNEY",
          "SOFT",
          "LARGE",
          "ENDOMETRIUM",
          "SKIN",
          "SALIVARY",
          "BONE",
          "THYROID",
          "LIVER",
          "UPPER",
          "STOMACH",
          "PROSTATE",
          "BREAST",
          "URINARY",
          "BILIARY"
         ],
         "x0": " ",
         "xaxis": "x",
         "y": [
          1.112,
          0.871,
          0.8141,
          0.7544,
          0.7185,
          0.7049,
          0.6668,
          0.6386,
          0.6363,
          0.6287,
          0.5711,
          0.5521,
          0.5454,
          0.5421,
          0.5307,
          0.5248,
          0.4791,
          0.424,
          0.4169,
          0.2121
         ],
         "y0": " ",
         "yaxis": "y",
         "type": "violin"
        }
       ],
       "layout": {
        "template": {
         "data": {
          "histogram2dcontour": [
           {
            "type": "histogram2dcontour",
            "colorbar": {
             "outlinewidth": 0,
             "ticks": ""
            },
            "colorscale": [
             [
              0.0,
              "#0d0887"
             ],
             [
              0.1111111111111111,
              "#46039f"
             ],
             [
              0.2222222222222222,
              "#7201a8"
             ],
             [
              0.3333333333333333,
              "#9c179e"
             ],
             [
              0.4444444444444444,
              "#bd3786"
             ],
             [
              0.5555555555555556,
              "#d8576b"
             ],
             [
              0.6666666666666666,
              "#ed7953"
             ],
             [
              0.7777777777777778,
              "#fb9f3a"
             ],
             [
              0.8888888888888888,
              "#fdca26"
             ],
             [
              1.0,
              "#f0f921"
             ]
            ]
           }
          ],
          "choropleth": [
           {
            "type": "choropleth",
            "colorbar": {
             "outlinewidth": 0,
             "ticks": ""
            }
           }
          ],
          "histogram2d": [
           {
            "type": "histogram2d",
            "colorbar": {
             "outlinewidth": 0,
             "ticks": ""
            },
            "colorscale": [
             [
              0.0,
              "#0d0887"
             ],
             [
              0.1111111111111111,
              "#46039f"
             ],
             [
              0.2222222222222222,
              "#7201a8"
             ],
             [
              0.3333333333333333,
              "#9c179e"
             ],
             [
              0.4444444444444444,
              "#bd3786"
             ],
             [
              0.5555555555555556,
              "#d8576b"
             ],
             [
              0.6666666666666666,
              "#ed7953"
             ],
             [
              0.7777777777777778,
              "#fb9f3a"
             ],
             [
              0.8888888888888888,
              "#fdca26"
             ],
             [
              1.0,
              "#f0f921"
             ]
            ]
           }
          ],
          "heatmap": [
           {
            "type": "heatmap",
            "colorbar": {
             "outlinewidth": 0,
             "ticks": ""
            },
            "colorscale": [
             [
              0.0,
              "#0d0887"
             ],
             [
              0.1111111111111111,
              "#46039f"
             ],
             [
              0.2222222222222222,
              "#7201a8"
             ],
             [
              0.3333333333333333,
              "#9c179e"
             ],
             [
              0.4444444444444444,
              "#bd3786"
             ],
             [
              0.5555555555555556,
              "#d8576b"
             ],
             [
              0.6666666666666666,
              "#ed7953"
             ],
             [
              0.7777777777777778,
              "#fb9f3a"
             ],
             [
              0.8888888888888888,
              "#fdca26"
             ],
             [
              1.0,
              "#f0f921"
             ]
            ]
           }
          ],
          "heatmapgl": [
           {
            "type": "heatmapgl",
            "colorbar": {
             "outlinewidth": 0,
             "ticks": ""
            },
            "colorscale": [
             [
              0.0,
              "#0d0887"
             ],
             [
              0.1111111111111111,
              "#46039f"
             ],
             [
              0.2222222222222222,
              "#7201a8"
             ],
             [
              0.3333333333333333,
              "#9c179e"
             ],
             [
              0.4444444444444444,
              "#bd3786"
             ],
             [
              0.5555555555555556,
              "#d8576b"
             ],
             [
              0.6666666666666666,
              "#ed7953"
             ],
             [
              0.7777777777777778,
              "#fb9f3a"
             ],
             [
              0.8888888888888888,
              "#fdca26"
             ],
             [
              1.0,
              "#f0f921"
             ]
            ]
           }
          ],
          "contourcarpet": [
           {
            "type": "contourcarpet",
            "colorbar": {
             "outlinewidth": 0,
             "ticks": ""
            }
           }
          ],
          "contour": [
           {
            "type": "contour",
            "colorbar": {
             "outlinewidth": 0,
             "ticks": ""
            },
            "colorscale": [
             [
              0.0,
              "#0d0887"
             ],
             [
              0.1111111111111111,
              "#46039f"
             ],
             [
              0.2222222222222222,
              "#7201a8"
             ],
             [
              0.3333333333333333,
              "#9c179e"
             ],
             [
              0.4444444444444444,
              "#bd3786"
             ],
             [
              0.5555555555555556,
              "#d8576b"
             ],
             [
              0.6666666666666666,
              "#ed7953"
             ],
             [
              0.7777777777777778,
              "#fb9f3a"
             ],
             [
              0.8888888888888888,
              "#fdca26"
             ],
             [
              1.0,
              "#f0f921"
             ]
            ]
           }
          ],
          "surface": [
           {
            "type": "surface",
            "colorbar": {
             "outlinewidth": 0,
             "ticks": ""
            },
            "colorscale": [
             [
              0.0,
              "#0d0887"
             ],
             [
              0.1111111111111111,
              "#46039f"
             ],
             [
              0.2222222222222222,
              "#7201a8"
             ],
             [
              0.3333333333333333,
              "#9c179e"
             ],
             [
              0.4444444444444444,
              "#bd3786"
             ],
             [
              0.5555555555555556,
              "#d8576b"
             ],
             [
              0.6666666666666666,
              "#ed7953"
             ],
             [
              0.7777777777777778,
              "#fb9f3a"
             ],
             [
              0.8888888888888888,
              "#fdca26"
             ],
             [
              1.0,
              "#f0f921"
             ]
            ]
           }
          ],
          "mesh3d": [
           {
            "type": "mesh3d",
            "colorbar": {
             "outlinewidth": 0,
             "ticks": ""
            }
           }
          ],
          "scatter": [
           {
            "marker": {
             "line": {
              "color": "#283442"
             }
            },
            "type": "scatter"
           }
          ],
          "parcoords": [
           {
            "type": "parcoords",
            "line": {
             "colorbar": {
              "outlinewidth": 0,
              "ticks": ""
             }
            }
           }
          ],
          "scatterpolargl": [
           {
            "type": "scatterpolargl",
            "marker": {
             "colorbar": {
              "outlinewidth": 0,
              "ticks": ""
             }
            }
           }
          ],
          "bar": [
           {
            "error_x": {
             "color": "#f2f5fa"
            },
            "error_y": {
             "color": "#f2f5fa"
            },
            "marker": {
             "line": {
              "color": "rgb(17,17,17)",
              "width": 0.5
             },
             "pattern": {
              "fillmode": "overlay",
              "size": 10,
              "solidity": 0.2
             }
            },
            "type": "bar"
           }
          ],
          "scattergeo": [
           {
            "type": "scattergeo",
            "marker": {
             "colorbar": {
              "outlinewidth": 0,
              "ticks": ""
             }
            }
           }
          ],
          "scatterpolar": [
           {
            "type": "scatterpolar",
            "marker": {
             "colorbar": {
              "outlinewidth": 0,
              "ticks": ""
             }
            }
           }
          ],
          "histogram": [
           {
            "marker": {
             "pattern": {
              "fillmode": "overlay",
              "size": 10,
              "solidity": 0.2
             }
            },
            "type": "histogram"
           }
          ],
          "scattergl": [
           {
            "marker": {
             "line": {
              "color": "#283442"
             }
            },
            "type": "scattergl"
           }
          ],
          "scatter3d": [
           {
            "type": "scatter3d",
            "line": {
             "colorbar": {
              "outlinewidth": 0,
              "ticks": ""
             }
            },
            "marker": {
             "colorbar": {
              "outlinewidth": 0,
              "ticks": ""
             }
            }
           }
          ],
          "scattermapbox": [
           {
            "type": "scattermapbox",
            "marker": {
             "colorbar": {
              "outlinewidth": 0,
              "ticks": ""
             }
            }
           }
          ],
          "scatterternary": [
           {
            "type": "scatterternary",
            "marker": {
             "colorbar": {
              "outlinewidth": 0,
              "ticks": ""
             }
            }
           }
          ],
          "scattercarpet": [
           {
            "type": "scattercarpet",
            "marker": {
             "colorbar": {
              "outlinewidth": 0,
              "ticks": ""
             }
            }
           }
          ],
          "carpet": [
           {
            "aaxis": {
             "endlinecolor": "#A2B1C6",
             "gridcolor": "#506784",
             "linecolor": "#506784",
             "minorgridcolor": "#506784",
             "startlinecolor": "#A2B1C6"
            },
            "baxis": {
             "endlinecolor": "#A2B1C6",
             "gridcolor": "#506784",
             "linecolor": "#506784",
             "minorgridcolor": "#506784",
             "startlinecolor": "#A2B1C6"
            },
            "type": "carpet"
           }
          ],
          "table": [
           {
            "cells": {
             "fill": {
              "color": "#506784"
             },
             "line": {
              "color": "rgb(17,17,17)"
             }
            },
            "header": {
             "fill": {
              "color": "#2a3f5f"
             },
             "line": {
              "color": "rgb(17,17,17)"
             }
            },
            "type": "table"
           }
          ],
          "barpolar": [
           {
            "marker": {
             "line": {
              "color": "rgb(17,17,17)",
              "width": 0.5
             },
             "pattern": {
              "fillmode": "overlay",
              "size": 10,
              "solidity": 0.2
             }
            },
            "type": "barpolar"
           }
          ],
          "pie": [
           {
            "automargin": true,
            "type": "pie"
           }
          ]
         },
         "layout": {
          "autotypenumbers": "strict",
          "colorway": [
           "#636efa",
           "#EF553B",
           "#00cc96",
           "#ab63fa",
           "#FFA15A",
           "#19d3f3",
           "#FF6692",
           "#B6E880",
           "#FF97FF",
           "#FECB52"
          ],
          "font": {
           "color": "#f2f5fa"
          },
          "hovermode": "closest",
          "hoverlabel": {
           "align": "left"
          },
          "paper_bgcolor": "rgb(17,17,17)",
          "plot_bgcolor": "rgb(17,17,17)",
          "polar": {
           "bgcolor": "rgb(17,17,17)",
           "angularaxis": {
            "gridcolor": "#506784",
            "linecolor": "#506784",
            "ticks": ""
           },
           "radialaxis": {
            "gridcolor": "#506784",
            "linecolor": "#506784",
            "ticks": ""
           }
          },
          "ternary": {
           "bgcolor": "rgb(17,17,17)",
           "aaxis": {
            "gridcolor": "#506784",
            "linecolor": "#506784",
            "ticks": ""
           },
           "baxis": {
            "gridcolor": "#506784",
            "linecolor": "#506784",
            "ticks": ""
           },
           "caxis": {
            "gridcolor": "#506784",
            "linecolor": "#506784",
            "ticks": ""
           }
          },
          "coloraxis": {
           "colorbar": {
            "outlinewidth": 0,
            "ticks": ""
           }
          },
          "colorscale": {
           "sequential": [
            [
             0.0,
             "#0d0887"
            ],
            [
             0.1111111111111111,
             "#46039f"
            ],
            [
             0.2222222222222222,
             "#7201a8"
            ],
            [
             0.3333333333333333,
             "#9c179e"
            ],
            [
             0.4444444444444444,
             "#bd3786"
            ],
            [
             0.5555555555555556,
             "#d8576b"
            ],
            [
             0.6666666666666666,
             "#ed7953"
            ],
            [
             0.7777777777777778,
             "#fb9f3a"
            ],
            [
             0.8888888888888888,
             "#fdca26"
            ],
            [
             1.0,
             "#f0f921"
            ]
           ],
           "sequentialminus": [
            [
             0.0,
             "#0d0887"
            ],
            [
             0.1111111111111111,
             "#46039f"
            ],
            [
             0.2222222222222222,
             "#7201a8"
            ],
            [
             0.3333333333333333,
             "#9c179e"
            ],
            [
             0.4444444444444444,
             "#bd3786"
            ],
            [
             0.5555555555555556,
             "#d8576b"
            ],
            [
             0.6666666666666666,
             "#ed7953"
            ],
            [
             0.7777777777777778,
             "#fb9f3a"
            ],
            [
             0.8888888888888888,
             "#fdca26"
            ],
            [
             1.0,
             "#f0f921"
            ]
           ],
           "diverging": [
            [
             0,
             "#8e0152"
            ],
            [
             0.1,
             "#c51b7d"
            ],
            [
             0.2,
             "#de77ae"
            ],
            [
             0.3,
             "#f1b6da"
            ],
            [
             0.4,
             "#fde0ef"
            ],
            [
             0.5,
             "#f7f7f7"
            ],
            [
             0.6,
             "#e6f5d0"
            ],
            [
             0.7,
             "#b8e186"
            ],
            [
             0.8,
             "#7fbc41"
            ],
            [
             0.9,
             "#4d9221"
            ],
            [
             1,
             "#276419"
            ]
           ]
          },
          "xaxis": {
           "gridcolor": "#283442",
           "linecolor": "#506784",
           "ticks": "",
           "title": {
            "standoff": 15
           },
           "zerolinecolor": "#283442",
           "automargin": true,
           "zerolinewidth": 2
          },
          "yaxis": {
           "gridcolor": "#283442",
           "linecolor": "#506784",
           "ticks": "",
           "title": {
            "standoff": 15
           },
           "zerolinecolor": "#283442",
           "automargin": true,
           "zerolinewidth": 2
          },
          "scene": {
           "xaxis": {
            "backgroundcolor": "rgb(17,17,17)",
            "gridcolor": "#506784",
            "linecolor": "#506784",
            "showbackground": true,
            "ticks": "",
            "zerolinecolor": "#C8D4E3",
            "gridwidth": 2
           },
           "yaxis": {
            "backgroundcolor": "rgb(17,17,17)",
            "gridcolor": "#506784",
            "linecolor": "#506784",
            "showbackground": true,
            "ticks": "",
            "zerolinecolor": "#C8D4E3",
            "gridwidth": 2
           },
           "zaxis": {
            "backgroundcolor": "rgb(17,17,17)",
            "gridcolor": "#506784",
            "linecolor": "#506784",
            "showbackground": true,
            "ticks": "",
            "zerolinecolor": "#C8D4E3",
            "gridwidth": 2
           }
          },
          "shapedefaults": {
           "line": {
            "color": "#f2f5fa"
           }
          },
          "annotationdefaults": {
           "arrowcolor": "#f2f5fa",
           "arrowhead": 0,
           "arrowwidth": 1
          },
          "geo": {
           "bgcolor": "rgb(17,17,17)",
           "landcolor": "rgb(17,17,17)",
           "subunitcolor": "#506784",
           "showland": true,
           "showlakes": true,
           "lakecolor": "rgb(17,17,17)"
          },
          "title": {
           "x": 0.05
          },
          "updatemenudefaults": {
           "bgcolor": "#506784",
           "borderwidth": 0
          },
          "sliderdefaults": {
           "bgcolor": "#C8D4E3",
           "borderwidth": 1,
           "bordercolor": "rgb(17,17,17)",
           "tickwidth": 0
          },
          "mapbox": {
           "style": "dark"
          }
         }
        },
        "xaxis": {
         "anchor": "y",
         "domain": [
          0.0,
          1.0
         ],
         "title": {
          "text": "LABELS"
         }
        },
        "yaxis": {
         "anchor": "x",
         "domain": [
          0.0,
          1.0
         ],
         "title": {
          "text": "alpha"
         },
         "range": [
          0,
          1.5
         ]
        },
        "legend": {
         "tracegroupgap": 0
        },
        "margin": {
         "t": 60
        },
        "violinmode": "group"
       },
       "config": {
        "plotlyServerURL": "https://plot.ly"
       }
      },
      "text/html": "<div>                            <div id=\"586bf362-b767-4f9b-9924-c361d9d187ff\" class=\"plotly-graph-div\" style=\"height:525px; width:100%;\"></div>            <script type=\"text/javascript\">                require([\"plotly\"], function(Plotly) {                    window.PLOTLYENV=window.PLOTLYENV || {};                                    if (document.getElementById(\"586bf362-b767-4f9b-9924-c361d9d187ff\")) {                    Plotly.newPlot(                        \"586bf362-b767-4f9b-9924-c361d9d187ff\",                        [{\"alignmentgroup\":\"True\",\"box\":{\"visible\":false},\"hovertemplate\":\"LABELS=%{x}<br>alpha=%{y}<extra></extra>\",\"legendgroup\":\"\",\"marker\":{\"color\":\"#636efa\"},\"name\":\"\",\"offsetgroup\":\"\",\"orientation\":\"v\",\"points\":\"all\",\"scalegroup\":\"True\",\"showlegend\":false,\"x\":[\"NERVOUS\",\"OVARY\",\"LUNG\",\"OESOPHAGUS\",\"PANCREAS\",\"KIDNEY\",\"SOFT\",\"LARGE\",\"ENDOMETRIUM\",\"SKIN\",\"SALIVARY\",\"BONE\",\"THYROID\",\"LIVER\",\"UPPER\",\"STOMACH\",\"PROSTATE\",\"BREAST\",\"URINARY\",\"BILIARY\"],\"x0\":\" \",\"xaxis\":\"x\",\"y\":[1.112,0.871,0.8141,0.7544,0.7185,0.7049,0.6668,0.6386,0.6363,0.6287,0.5711,0.5521,0.5454,0.5421,0.5307,0.5248,0.4791,0.424,0.4169,0.2121],\"y0\":\" \",\"yaxis\":\"y\",\"type\":\"violin\"}],                        {\"template\":{\"data\":{\"histogram2dcontour\":[{\"type\":\"histogram2dcontour\",\"colorbar\":{\"outlinewidth\":0,\"ticks\":\"\"},\"colorscale\":[[0.0,\"#0d0887\"],[0.1111111111111111,\"#46039f\"],[0.2222222222222222,\"#7201a8\"],[0.3333333333333333,\"#9c179e\"],[0.4444444444444444,\"#bd3786\"],[0.5555555555555556,\"#d8576b\"],[0.6666666666666666,\"#ed7953\"],[0.7777777777777778,\"#fb9f3a\"],[0.8888888888888888,\"#fdca26\"],[1.0,\"#f0f921\"]]}],\"choropleth\":[{\"type\":\"choropleth\",\"colorbar\":{\"outlinewidth\":0,\"ticks\":\"\"}}],\"histogram2d\":[{\"type\":\"histogram2d\",\"colorbar\":{\"outlinewidth\":0,\"ticks\":\"\"},\"colorscale\":[[0.0,\"#0d0887\"],[0.1111111111111111,\"#46039f\"],[0.2222222222222222,\"#7201a8\"],[0.3333333333333333,\"#9c179e\"],[0.4444444444444444,\"#bd3786\"],[0.5555555555555556,\"#d8576b\"],[0.6666666666666666,\"#ed7953\"],[0.7777777777777778,\"#fb9f3a\"],[0.8888888888888888,\"#fdca26\"],[1.0,\"#f0f921\"]]}],\"heatmap\":[{\"type\":\"heatmap\",\"colorbar\":{\"outlinewidth\":0,\"ticks\":\"\"},\"colorscale\":[[0.0,\"#0d0887\"],[0.1111111111111111,\"#46039f\"],[0.2222222222222222,\"#7201a8\"],[0.3333333333333333,\"#9c179e\"],[0.4444444444444444,\"#bd3786\"],[0.5555555555555556,\"#d8576b\"],[0.6666666666666666,\"#ed7953\"],[0.7777777777777778,\"#fb9f3a\"],[0.8888888888888888,\"#fdca26\"],[1.0,\"#f0f921\"]]}],\"heatmapgl\":[{\"type\":\"heatmapgl\",\"colorbar\":{\"outlinewidth\":0,\"ticks\":\"\"},\"colorscale\":[[0.0,\"#0d0887\"],[0.1111111111111111,\"#46039f\"],[0.2222222222222222,\"#7201a8\"],[0.3333333333333333,\"#9c179e\"],[0.4444444444444444,\"#bd3786\"],[0.5555555555555556,\"#d8576b\"],[0.6666666666666666,\"#ed7953\"],[0.7777777777777778,\"#fb9f3a\"],[0.8888888888888888,\"#fdca26\"],[1.0,\"#f0f921\"]]}],\"contourcarpet\":[{\"type\":\"contourcarpet\",\"colorbar\":{\"outlinewidth\":0,\"ticks\":\"\"}}],\"contour\":[{\"type\":\"contour\",\"colorbar\":{\"outlinewidth\":0,\"ticks\":\"\"},\"colorscale\":[[0.0,\"#0d0887\"],[0.1111111111111111,\"#46039f\"],[0.2222222222222222,\"#7201a8\"],[0.3333333333333333,\"#9c179e\"],[0.4444444444444444,\"#bd3786\"],[0.5555555555555556,\"#d8576b\"],[0.6666666666666666,\"#ed7953\"],[0.7777777777777778,\"#fb9f3a\"],[0.8888888888888888,\"#fdca26\"],[1.0,\"#f0f921\"]]}],\"surface\":[{\"type\":\"surface\",\"colorbar\":{\"outlinewidth\":0,\"ticks\":\"\"},\"colorscale\":[[0.0,\"#0d0887\"],[0.1111111111111111,\"#46039f\"],[0.2222222222222222,\"#7201a8\"],[0.3333333333333333,\"#9c179e\"],[0.4444444444444444,\"#bd3786\"],[0.5555555555555556,\"#d8576b\"],[0.6666666666666666,\"#ed7953\"],[0.7777777777777778,\"#fb9f3a\"],[0.8888888888888888,\"#fdca26\"],[1.0,\"#f0f921\"]]}],\"mesh3d\":[{\"type\":\"mesh3d\",\"colorbar\":{\"outlinewidth\":0,\"ticks\":\"\"}}],\"scatter\":[{\"marker\":{\"line\":{\"color\":\"#283442\"}},\"type\":\"scatter\"}],\"parcoords\":[{\"type\":\"parcoords\",\"line\":{\"colorbar\":{\"outlinewidth\":0,\"ticks\":\"\"}}}],\"scatterpolargl\":[{\"type\":\"scatterpolargl\",\"marker\":{\"colorbar\":{\"outlinewidth\":0,\"ticks\":\"\"}}}],\"bar\":[{\"error_x\":{\"color\":\"#f2f5fa\"},\"error_y\":{\"color\":\"#f2f5fa\"},\"marker\":{\"line\":{\"color\":\"rgb(17,17,17)\",\"width\":0.5},\"pattern\":{\"fillmode\":\"overlay\",\"size\":10,\"solidity\":0.2}},\"type\":\"bar\"}],\"scattergeo\":[{\"type\":\"scattergeo\",\"marker\":{\"colorbar\":{\"outlinewidth\":0,\"ticks\":\"\"}}}],\"scatterpolar\":[{\"type\":\"scatterpolar\",\"marker\":{\"colorbar\":{\"outlinewidth\":0,\"ticks\":\"\"}}}],\"histogram\":[{\"marker\":{\"pattern\":{\"fillmode\":\"overlay\",\"size\":10,\"solidity\":0.2}},\"type\":\"histogram\"}],\"scattergl\":[{\"marker\":{\"line\":{\"color\":\"#283442\"}},\"type\":\"scattergl\"}],\"scatter3d\":[{\"type\":\"scatter3d\",\"line\":{\"colorbar\":{\"outlinewidth\":0,\"ticks\":\"\"}},\"marker\":{\"colorbar\":{\"outlinewidth\":0,\"ticks\":\"\"}}}],\"scattermapbox\":[{\"type\":\"scattermapbox\",\"marker\":{\"colorbar\":{\"outlinewidth\":0,\"ticks\":\"\"}}}],\"scatterternary\":[{\"type\":\"scatterternary\",\"marker\":{\"colorbar\":{\"outlinewidth\":0,\"ticks\":\"\"}}}],\"scattercarpet\":[{\"type\":\"scattercarpet\",\"marker\":{\"colorbar\":{\"outlinewidth\":0,\"ticks\":\"\"}}}],\"carpet\":[{\"aaxis\":{\"endlinecolor\":\"#A2B1C6\",\"gridcolor\":\"#506784\",\"linecolor\":\"#506784\",\"minorgridcolor\":\"#506784\",\"startlinecolor\":\"#A2B1C6\"},\"baxis\":{\"endlinecolor\":\"#A2B1C6\",\"gridcolor\":\"#506784\",\"linecolor\":\"#506784\",\"minorgridcolor\":\"#506784\",\"startlinecolor\":\"#A2B1C6\"},\"type\":\"carpet\"}],\"table\":[{\"cells\":{\"fill\":{\"color\":\"#506784\"},\"line\":{\"color\":\"rgb(17,17,17)\"}},\"header\":{\"fill\":{\"color\":\"#2a3f5f\"},\"line\":{\"color\":\"rgb(17,17,17)\"}},\"type\":\"table\"}],\"barpolar\":[{\"marker\":{\"line\":{\"color\":\"rgb(17,17,17)\",\"width\":0.5},\"pattern\":{\"fillmode\":\"overlay\",\"size\":10,\"solidity\":0.2}},\"type\":\"barpolar\"}],\"pie\":[{\"automargin\":true,\"type\":\"pie\"}]},\"layout\":{\"autotypenumbers\":\"strict\",\"colorway\":[\"#636efa\",\"#EF553B\",\"#00cc96\",\"#ab63fa\",\"#FFA15A\",\"#19d3f3\",\"#FF6692\",\"#B6E880\",\"#FF97FF\",\"#FECB52\"],\"font\":{\"color\":\"#f2f5fa\"},\"hovermode\":\"closest\",\"hoverlabel\":{\"align\":\"left\"},\"paper_bgcolor\":\"rgb(17,17,17)\",\"plot_bgcolor\":\"rgb(17,17,17)\",\"polar\":{\"bgcolor\":\"rgb(17,17,17)\",\"angularaxis\":{\"gridcolor\":\"#506784\",\"linecolor\":\"#506784\",\"ticks\":\"\"},\"radialaxis\":{\"gridcolor\":\"#506784\",\"linecolor\":\"#506784\",\"ticks\":\"\"}},\"ternary\":{\"bgcolor\":\"rgb(17,17,17)\",\"aaxis\":{\"gridcolor\":\"#506784\",\"linecolor\":\"#506784\",\"ticks\":\"\"},\"baxis\":{\"gridcolor\":\"#506784\",\"linecolor\":\"#506784\",\"ticks\":\"\"},\"caxis\":{\"gridcolor\":\"#506784\",\"linecolor\":\"#506784\",\"ticks\":\"\"}},\"coloraxis\":{\"colorbar\":{\"outlinewidth\":0,\"ticks\":\"\"}},\"colorscale\":{\"sequential\":[[0.0,\"#0d0887\"],[0.1111111111111111,\"#46039f\"],[0.2222222222222222,\"#7201a8\"],[0.3333333333333333,\"#9c179e\"],[0.4444444444444444,\"#bd3786\"],[0.5555555555555556,\"#d8576b\"],[0.6666666666666666,\"#ed7953\"],[0.7777777777777778,\"#fb9f3a\"],[0.8888888888888888,\"#fdca26\"],[1.0,\"#f0f921\"]],\"sequentialminus\":[[0.0,\"#0d0887\"],[0.1111111111111111,\"#46039f\"],[0.2222222222222222,\"#7201a8\"],[0.3333333333333333,\"#9c179e\"],[0.4444444444444444,\"#bd3786\"],[0.5555555555555556,\"#d8576b\"],[0.6666666666666666,\"#ed7953\"],[0.7777777777777778,\"#fb9f3a\"],[0.8888888888888888,\"#fdca26\"],[1.0,\"#f0f921\"]],\"diverging\":[[0,\"#8e0152\"],[0.1,\"#c51b7d\"],[0.2,\"#de77ae\"],[0.3,\"#f1b6da\"],[0.4,\"#fde0ef\"],[0.5,\"#f7f7f7\"],[0.6,\"#e6f5d0\"],[0.7,\"#b8e186\"],[0.8,\"#7fbc41\"],[0.9,\"#4d9221\"],[1,\"#276419\"]]},\"xaxis\":{\"gridcolor\":\"#283442\",\"linecolor\":\"#506784\",\"ticks\":\"\",\"title\":{\"standoff\":15},\"zerolinecolor\":\"#283442\",\"automargin\":true,\"zerolinewidth\":2},\"yaxis\":{\"gridcolor\":\"#283442\",\"linecolor\":\"#506784\",\"ticks\":\"\",\"title\":{\"standoff\":15},\"zerolinecolor\":\"#283442\",\"automargin\":true,\"zerolinewidth\":2},\"scene\":{\"xaxis\":{\"backgroundcolor\":\"rgb(17,17,17)\",\"gridcolor\":\"#506784\",\"linecolor\":\"#506784\",\"showbackground\":true,\"ticks\":\"\",\"zerolinecolor\":\"#C8D4E3\",\"gridwidth\":2},\"yaxis\":{\"backgroundcolor\":\"rgb(17,17,17)\",\"gridcolor\":\"#506784\",\"linecolor\":\"#506784\",\"showbackground\":true,\"ticks\":\"\",\"zerolinecolor\":\"#C8D4E3\",\"gridwidth\":2},\"zaxis\":{\"backgroundcolor\":\"rgb(17,17,17)\",\"gridcolor\":\"#506784\",\"linecolor\":\"#506784\",\"showbackground\":true,\"ticks\":\"\",\"zerolinecolor\":\"#C8D4E3\",\"gridwidth\":2}},\"shapedefaults\":{\"line\":{\"color\":\"#f2f5fa\"}},\"annotationdefaults\":{\"arrowcolor\":\"#f2f5fa\",\"arrowhead\":0,\"arrowwidth\":1},\"geo\":{\"bgcolor\":\"rgb(17,17,17)\",\"landcolor\":\"rgb(17,17,17)\",\"subunitcolor\":\"#506784\",\"showland\":true,\"showlakes\":true,\"lakecolor\":\"rgb(17,17,17)\"},\"title\":{\"x\":0.05},\"updatemenudefaults\":{\"bgcolor\":\"#506784\",\"borderwidth\":0},\"sliderdefaults\":{\"bgcolor\":\"#C8D4E3\",\"borderwidth\":1,\"bordercolor\":\"rgb(17,17,17)\",\"tickwidth\":0},\"mapbox\":{\"style\":\"dark\"}}},\"xaxis\":{\"anchor\":\"y\",\"domain\":[0.0,1.0],\"title\":{\"text\":\"LABELS\"}},\"yaxis\":{\"anchor\":\"x\",\"domain\":[0.0,1.0],\"title\":{\"text\":\"alpha\"},\"range\":[0,1.5]},\"legend\":{\"tracegroupgap\":0},\"margin\":{\"t\":60},\"violinmode\":\"group\"},                        {\"responsive\": true}                    ).then(function(){\n                            \nvar gd = document.getElementById('586bf362-b767-4f9b-9924-c361d9d187ff');\nvar x = new MutationObserver(function (mutations, observer) {{\n        var display = window.getComputedStyle(gd).display;\n        if (!display || display === 'none') {{\n            console.log([gd, 'removed!']);\n            Plotly.purge(gd);\n            observer.disconnect();\n        }}\n}});\n\n// Listen for the removal of the full notebook cells\nvar notebookContainer = gd.closest('#notebook-container');\nif (notebookContainer) {{\n    x.observe(notebookContainer, {childList: true});\n}}\n\n// Listen for the clearing of the current output cell\nvar outputEl = gd.closest('.output');\nif (outputEl) {{\n    x.observe(outputEl, {childList: true});\n}}\n\n                        })                };                });            </script>        </div>"
     },
     "metadata": {},
     "output_type": "display_data"
    }
   ],
   "source": [
    "import plotly.express as px\n",
    "\n",
    "px.violin(pd.read_csv('ordered_df_alpha.csv'),\n",
    "         x=\"LABELS\",\n",
    "         y=\"alpha\",\n",
    "          points='all',\n",
    "          range_y=[0, 1.5])"
   ],
   "metadata": {
    "collapsed": false,
    "pycharm": {
     "name": "#%%\n"
    }
   }
  },
  {
   "cell_type": "code",
   "execution_count": 33,
   "outputs": [
    {
     "data": {
      "application/vnd.plotly.v1+json": {
       "data": [
        {
         "line": {
          "color": "rgb(5.0, 200.0, 200.0)"
         },
         "x": [
          "NERVOUS",
          "OVARY",
          "LUNG",
          "OESOPHAGUS",
          "PANCREAS",
          "KIDNEY",
          "SOFT",
          "LARGE",
          "ENDOMETRIUM",
          "SKIN",
          "SALIVARY",
          "BONE",
          "THYROID",
          "LIVER",
          "UPPER",
          "STOMACH",
          "PROSTATE",
          "BREAST",
          "URINARY",
          "BILIARY"
         ],
         "type": "violin",
         "orientation": "h",
         "points": false,
         "side": "positive",
         "width": 10
        },
        {
         "line": {
          "color": "rgb(22.727272727272727, 182.72727272727272, 182.72727272727272)"
         },
         "x": [
          "NERVOUS",
          "OVARY",
          "LUNG",
          "OESOPHAGUS",
          "PANCREAS",
          "KIDNEY",
          "SOFT",
          "LARGE",
          "ENDOMETRIUM",
          "SKIN",
          "SALIVARY",
          "BONE",
          "THYROID",
          "LIVER",
          "UPPER",
          "STOMACH",
          "PROSTATE",
          "BREAST",
          "URINARY",
          "BILIARY"
         ],
         "type": "violin",
         "orientation": "h",
         "points": false,
         "side": "positive",
         "width": 10
        },
        {
         "line": {
          "color": "rgb(40.45454545454545, 165.45454545454544, 165.45454545454544)"
         },
         "x": [
          "NERVOUS",
          "OVARY",
          "LUNG",
          "OESOPHAGUS",
          "PANCREAS",
          "KIDNEY",
          "SOFT",
          "LARGE",
          "ENDOMETRIUM",
          "SKIN",
          "SALIVARY",
          "BONE",
          "THYROID",
          "LIVER",
          "UPPER",
          "STOMACH",
          "PROSTATE",
          "BREAST",
          "URINARY",
          "BILIARY"
         ],
         "type": "violin",
         "orientation": "h",
         "points": false,
         "side": "positive",
         "width": 10
        }
       ],
       "layout": {
        "template": {
         "data": {
          "histogram2dcontour": [
           {
            "type": "histogram2dcontour",
            "colorbar": {
             "outlinewidth": 0,
             "ticks": ""
            },
            "colorscale": [
             [
              0.0,
              "#0d0887"
             ],
             [
              0.1111111111111111,
              "#46039f"
             ],
             [
              0.2222222222222222,
              "#7201a8"
             ],
             [
              0.3333333333333333,
              "#9c179e"
             ],
             [
              0.4444444444444444,
              "#bd3786"
             ],
             [
              0.5555555555555556,
              "#d8576b"
             ],
             [
              0.6666666666666666,
              "#ed7953"
             ],
             [
              0.7777777777777778,
              "#fb9f3a"
             ],
             [
              0.8888888888888888,
              "#fdca26"
             ],
             [
              1.0,
              "#f0f921"
             ]
            ]
           }
          ],
          "choropleth": [
           {
            "type": "choropleth",
            "colorbar": {
             "outlinewidth": 0,
             "ticks": ""
            }
           }
          ],
          "histogram2d": [
           {
            "type": "histogram2d",
            "colorbar": {
             "outlinewidth": 0,
             "ticks": ""
            },
            "colorscale": [
             [
              0.0,
              "#0d0887"
             ],
             [
              0.1111111111111111,
              "#46039f"
             ],
             [
              0.2222222222222222,
              "#7201a8"
             ],
             [
              0.3333333333333333,
              "#9c179e"
             ],
             [
              0.4444444444444444,
              "#bd3786"
             ],
             [
              0.5555555555555556,
              "#d8576b"
             ],
             [
              0.6666666666666666,
              "#ed7953"
             ],
             [
              0.7777777777777778,
              "#fb9f3a"
             ],
             [
              0.8888888888888888,
              "#fdca26"
             ],
             [
              1.0,
              "#f0f921"
             ]
            ]
           }
          ],
          "heatmap": [
           {
            "type": "heatmap",
            "colorbar": {
             "outlinewidth": 0,
             "ticks": ""
            },
            "colorscale": [
             [
              0.0,
              "#0d0887"
             ],
             [
              0.1111111111111111,
              "#46039f"
             ],
             [
              0.2222222222222222,
              "#7201a8"
             ],
             [
              0.3333333333333333,
              "#9c179e"
             ],
             [
              0.4444444444444444,
              "#bd3786"
             ],
             [
              0.5555555555555556,
              "#d8576b"
             ],
             [
              0.6666666666666666,
              "#ed7953"
             ],
             [
              0.7777777777777778,
              "#fb9f3a"
             ],
             [
              0.8888888888888888,
              "#fdca26"
             ],
             [
              1.0,
              "#f0f921"
             ]
            ]
           }
          ],
          "heatmapgl": [
           {
            "type": "heatmapgl",
            "colorbar": {
             "outlinewidth": 0,
             "ticks": ""
            },
            "colorscale": [
             [
              0.0,
              "#0d0887"
             ],
             [
              0.1111111111111111,
              "#46039f"
             ],
             [
              0.2222222222222222,
              "#7201a8"
             ],
             [
              0.3333333333333333,
              "#9c179e"
             ],
             [
              0.4444444444444444,
              "#bd3786"
             ],
             [
              0.5555555555555556,
              "#d8576b"
             ],
             [
              0.6666666666666666,
              "#ed7953"
             ],
             [
              0.7777777777777778,
              "#fb9f3a"
             ],
             [
              0.8888888888888888,
              "#fdca26"
             ],
             [
              1.0,
              "#f0f921"
             ]
            ]
           }
          ],
          "contourcarpet": [
           {
            "type": "contourcarpet",
            "colorbar": {
             "outlinewidth": 0,
             "ticks": ""
            }
           }
          ],
          "contour": [
           {
            "type": "contour",
            "colorbar": {
             "outlinewidth": 0,
             "ticks": ""
            },
            "colorscale": [
             [
              0.0,
              "#0d0887"
             ],
             [
              0.1111111111111111,
              "#46039f"
             ],
             [
              0.2222222222222222,
              "#7201a8"
             ],
             [
              0.3333333333333333,
              "#9c179e"
             ],
             [
              0.4444444444444444,
              "#bd3786"
             ],
             [
              0.5555555555555556,
              "#d8576b"
             ],
             [
              0.6666666666666666,
              "#ed7953"
             ],
             [
              0.7777777777777778,
              "#fb9f3a"
             ],
             [
              0.8888888888888888,
              "#fdca26"
             ],
             [
              1.0,
              "#f0f921"
             ]
            ]
           }
          ],
          "surface": [
           {
            "type": "surface",
            "colorbar": {
             "outlinewidth": 0,
             "ticks": ""
            },
            "colorscale": [
             [
              0.0,
              "#0d0887"
             ],
             [
              0.1111111111111111,
              "#46039f"
             ],
             [
              0.2222222222222222,
              "#7201a8"
             ],
             [
              0.3333333333333333,
              "#9c179e"
             ],
             [
              0.4444444444444444,
              "#bd3786"
             ],
             [
              0.5555555555555556,
              "#d8576b"
             ],
             [
              0.6666666666666666,
              "#ed7953"
             ],
             [
              0.7777777777777778,
              "#fb9f3a"
             ],
             [
              0.8888888888888888,
              "#fdca26"
             ],
             [
              1.0,
              "#f0f921"
             ]
            ]
           }
          ],
          "mesh3d": [
           {
            "type": "mesh3d",
            "colorbar": {
             "outlinewidth": 0,
             "ticks": ""
            }
           }
          ],
          "scatter": [
           {
            "marker": {
             "line": {
              "color": "#283442"
             }
            },
            "type": "scatter"
           }
          ],
          "parcoords": [
           {
            "type": "parcoords",
            "line": {
             "colorbar": {
              "outlinewidth": 0,
              "ticks": ""
             }
            }
           }
          ],
          "scatterpolargl": [
           {
            "type": "scatterpolargl",
            "marker": {
             "colorbar": {
              "outlinewidth": 0,
              "ticks": ""
             }
            }
           }
          ],
          "bar": [
           {
            "error_x": {
             "color": "#f2f5fa"
            },
            "error_y": {
             "color": "#f2f5fa"
            },
            "marker": {
             "line": {
              "color": "rgb(17,17,17)",
              "width": 0.5
             },
             "pattern": {
              "fillmode": "overlay",
              "size": 10,
              "solidity": 0.2
             }
            },
            "type": "bar"
           }
          ],
          "scattergeo": [
           {
            "type": "scattergeo",
            "marker": {
             "colorbar": {
              "outlinewidth": 0,
              "ticks": ""
             }
            }
           }
          ],
          "scatterpolar": [
           {
            "type": "scatterpolar",
            "marker": {
             "colorbar": {
              "outlinewidth": 0,
              "ticks": ""
             }
            }
           }
          ],
          "histogram": [
           {
            "marker": {
             "pattern": {
              "fillmode": "overlay",
              "size": 10,
              "solidity": 0.2
             }
            },
            "type": "histogram"
           }
          ],
          "scattergl": [
           {
            "marker": {
             "line": {
              "color": "#283442"
             }
            },
            "type": "scattergl"
           }
          ],
          "scatter3d": [
           {
            "type": "scatter3d",
            "line": {
             "colorbar": {
              "outlinewidth": 0,
              "ticks": ""
             }
            },
            "marker": {
             "colorbar": {
              "outlinewidth": 0,
              "ticks": ""
             }
            }
           }
          ],
          "scattermapbox": [
           {
            "type": "scattermapbox",
            "marker": {
             "colorbar": {
              "outlinewidth": 0,
              "ticks": ""
             }
            }
           }
          ],
          "scatterternary": [
           {
            "type": "scatterternary",
            "marker": {
             "colorbar": {
              "outlinewidth": 0,
              "ticks": ""
             }
            }
           }
          ],
          "scattercarpet": [
           {
            "type": "scattercarpet",
            "marker": {
             "colorbar": {
              "outlinewidth": 0,
              "ticks": ""
             }
            }
           }
          ],
          "carpet": [
           {
            "aaxis": {
             "endlinecolor": "#A2B1C6",
             "gridcolor": "#506784",
             "linecolor": "#506784",
             "minorgridcolor": "#506784",
             "startlinecolor": "#A2B1C6"
            },
            "baxis": {
             "endlinecolor": "#A2B1C6",
             "gridcolor": "#506784",
             "linecolor": "#506784",
             "minorgridcolor": "#506784",
             "startlinecolor": "#A2B1C6"
            },
            "type": "carpet"
           }
          ],
          "table": [
           {
            "cells": {
             "fill": {
              "color": "#506784"
             },
             "line": {
              "color": "rgb(17,17,17)"
             }
            },
            "header": {
             "fill": {
              "color": "#2a3f5f"
             },
             "line": {
              "color": "rgb(17,17,17)"
             }
            },
            "type": "table"
           }
          ],
          "barpolar": [
           {
            "marker": {
             "line": {
              "color": "rgb(17,17,17)",
              "width": 0.5
             },
             "pattern": {
              "fillmode": "overlay",
              "size": 10,
              "solidity": 0.2
             }
            },
            "type": "barpolar"
           }
          ],
          "pie": [
           {
            "automargin": true,
            "type": "pie"
           }
          ]
         },
         "layout": {
          "autotypenumbers": "strict",
          "colorway": [
           "#636efa",
           "#EF553B",
           "#00cc96",
           "#ab63fa",
           "#FFA15A",
           "#19d3f3",
           "#FF6692",
           "#B6E880",
           "#FF97FF",
           "#FECB52"
          ],
          "font": {
           "color": "#f2f5fa"
          },
          "hovermode": "closest",
          "hoverlabel": {
           "align": "left"
          },
          "paper_bgcolor": "rgb(17,17,17)",
          "plot_bgcolor": "rgb(17,17,17)",
          "polar": {
           "bgcolor": "rgb(17,17,17)",
           "angularaxis": {
            "gridcolor": "#506784",
            "linecolor": "#506784",
            "ticks": ""
           },
           "radialaxis": {
            "gridcolor": "#506784",
            "linecolor": "#506784",
            "ticks": ""
           }
          },
          "ternary": {
           "bgcolor": "rgb(17,17,17)",
           "aaxis": {
            "gridcolor": "#506784",
            "linecolor": "#506784",
            "ticks": ""
           },
           "baxis": {
            "gridcolor": "#506784",
            "linecolor": "#506784",
            "ticks": ""
           },
           "caxis": {
            "gridcolor": "#506784",
            "linecolor": "#506784",
            "ticks": ""
           }
          },
          "coloraxis": {
           "colorbar": {
            "outlinewidth": 0,
            "ticks": ""
           }
          },
          "colorscale": {
           "sequential": [
            [
             0.0,
             "#0d0887"
            ],
            [
             0.1111111111111111,
             "#46039f"
            ],
            [
             0.2222222222222222,
             "#7201a8"
            ],
            [
             0.3333333333333333,
             "#9c179e"
            ],
            [
             0.4444444444444444,
             "#bd3786"
            ],
            [
             0.5555555555555556,
             "#d8576b"
            ],
            [
             0.6666666666666666,
             "#ed7953"
            ],
            [
             0.7777777777777778,
             "#fb9f3a"
            ],
            [
             0.8888888888888888,
             "#fdca26"
            ],
            [
             1.0,
             "#f0f921"
            ]
           ],
           "sequentialminus": [
            [
             0.0,
             "#0d0887"
            ],
            [
             0.1111111111111111,
             "#46039f"
            ],
            [
             0.2222222222222222,
             "#7201a8"
            ],
            [
             0.3333333333333333,
             "#9c179e"
            ],
            [
             0.4444444444444444,
             "#bd3786"
            ],
            [
             0.5555555555555556,
             "#d8576b"
            ],
            [
             0.6666666666666666,
             "#ed7953"
            ],
            [
             0.7777777777777778,
             "#fb9f3a"
            ],
            [
             0.8888888888888888,
             "#fdca26"
            ],
            [
             1.0,
             "#f0f921"
            ]
           ],
           "diverging": [
            [
             0,
             "#8e0152"
            ],
            [
             0.1,
             "#c51b7d"
            ],
            [
             0.2,
             "#de77ae"
            ],
            [
             0.3,
             "#f1b6da"
            ],
            [
             0.4,
             "#fde0ef"
            ],
            [
             0.5,
             "#f7f7f7"
            ],
            [
             0.6,
             "#e6f5d0"
            ],
            [
             0.7,
             "#b8e186"
            ],
            [
             0.8,
             "#7fbc41"
            ],
            [
             0.9,
             "#4d9221"
            ],
            [
             1,
             "#276419"
            ]
           ]
          },
          "xaxis": {
           "gridcolor": "#283442",
           "linecolor": "#506784",
           "ticks": "",
           "title": {
            "standoff": 15
           },
           "zerolinecolor": "#283442",
           "automargin": true,
           "zerolinewidth": 2
          },
          "yaxis": {
           "gridcolor": "#283442",
           "linecolor": "#506784",
           "ticks": "",
           "title": {
            "standoff": 15
           },
           "zerolinecolor": "#283442",
           "automargin": true,
           "zerolinewidth": 2
          },
          "scene": {
           "xaxis": {
            "backgroundcolor": "rgb(17,17,17)",
            "gridcolor": "#506784",
            "linecolor": "#506784",
            "showbackground": true,
            "ticks": "",
            "zerolinecolor": "#C8D4E3",
            "gridwidth": 2
           },
           "yaxis": {
            "backgroundcolor": "rgb(17,17,17)",
            "gridcolor": "#506784",
            "linecolor": "#506784",
            "showbackground": true,
            "ticks": "",
            "zerolinecolor": "#C8D4E3",
            "gridwidth": 2
           },
           "zaxis": {
            "backgroundcolor": "rgb(17,17,17)",
            "gridcolor": "#506784",
            "linecolor": "#506784",
            "showbackground": true,
            "ticks": "",
            "zerolinecolor": "#C8D4E3",
            "gridwidth": 2
           }
          },
          "shapedefaults": {
           "line": {
            "color": "#f2f5fa"
           }
          },
          "annotationdefaults": {
           "arrowcolor": "#f2f5fa",
           "arrowhead": 0,
           "arrowwidth": 1
          },
          "geo": {
           "bgcolor": "rgb(17,17,17)",
           "landcolor": "rgb(17,17,17)",
           "subunitcolor": "#506784",
           "showland": true,
           "showlakes": true,
           "lakecolor": "rgb(17,17,17)"
          },
          "title": {
           "x": 0.05
          },
          "updatemenudefaults": {
           "bgcolor": "#506784",
           "borderwidth": 0
          },
          "sliderdefaults": {
           "bgcolor": "#C8D4E3",
           "borderwidth": 1,
           "bordercolor": "rgb(17,17,17)",
           "tickwidth": 0
          },
          "mapbox": {
           "style": "dark"
          }
         }
        },
        "xaxis": {
         "showgrid": false,
         "zeroline": false
        }
       },
       "config": {
        "plotlyServerURL": "https://plot.ly"
       }
      },
      "text/html": "<div>                            <div id=\"20eab297-72a2-4cfb-821a-9ddad613509b\" class=\"plotly-graph-div\" style=\"height:525px; width:100%;\"></div>            <script type=\"text/javascript\">                require([\"plotly\"], function(Plotly) {                    window.PLOTLYENV=window.PLOTLYENV || {};                                    if (document.getElementById(\"20eab297-72a2-4cfb-821a-9ddad613509b\")) {                    Plotly.newPlot(                        \"20eab297-72a2-4cfb-821a-9ddad613509b\",                        [{\"line\":{\"color\":\"rgb(5.0, 200.0, 200.0)\"},\"x\":[\"NERVOUS\",\"OVARY\",\"LUNG\",\"OESOPHAGUS\",\"PANCREAS\",\"KIDNEY\",\"SOFT\",\"LARGE\",\"ENDOMETRIUM\",\"SKIN\",\"SALIVARY\",\"BONE\",\"THYROID\",\"LIVER\",\"UPPER\",\"STOMACH\",\"PROSTATE\",\"BREAST\",\"URINARY\",\"BILIARY\"],\"type\":\"violin\",\"orientation\":\"h\",\"points\":false,\"side\":\"positive\",\"width\":10},{\"line\":{\"color\":\"rgb(22.727272727272727, 182.72727272727272, 182.72727272727272)\"},\"x\":[\"NERVOUS\",\"OVARY\",\"LUNG\",\"OESOPHAGUS\",\"PANCREAS\",\"KIDNEY\",\"SOFT\",\"LARGE\",\"ENDOMETRIUM\",\"SKIN\",\"SALIVARY\",\"BONE\",\"THYROID\",\"LIVER\",\"UPPER\",\"STOMACH\",\"PROSTATE\",\"BREAST\",\"URINARY\",\"BILIARY\"],\"type\":\"violin\",\"orientation\":\"h\",\"points\":false,\"side\":\"positive\",\"width\":10},{\"line\":{\"color\":\"rgb(40.45454545454545, 165.45454545454544, 165.45454545454544)\"},\"x\":[\"NERVOUS\",\"OVARY\",\"LUNG\",\"OESOPHAGUS\",\"PANCREAS\",\"KIDNEY\",\"SOFT\",\"LARGE\",\"ENDOMETRIUM\",\"SKIN\",\"SALIVARY\",\"BONE\",\"THYROID\",\"LIVER\",\"UPPER\",\"STOMACH\",\"PROSTATE\",\"BREAST\",\"URINARY\",\"BILIARY\"],\"type\":\"violin\",\"orientation\":\"h\",\"points\":false,\"side\":\"positive\",\"width\":10}],                        {\"template\":{\"data\":{\"histogram2dcontour\":[{\"type\":\"histogram2dcontour\",\"colorbar\":{\"outlinewidth\":0,\"ticks\":\"\"},\"colorscale\":[[0.0,\"#0d0887\"],[0.1111111111111111,\"#46039f\"],[0.2222222222222222,\"#7201a8\"],[0.3333333333333333,\"#9c179e\"],[0.4444444444444444,\"#bd3786\"],[0.5555555555555556,\"#d8576b\"],[0.6666666666666666,\"#ed7953\"],[0.7777777777777778,\"#fb9f3a\"],[0.8888888888888888,\"#fdca26\"],[1.0,\"#f0f921\"]]}],\"choropleth\":[{\"type\":\"choropleth\",\"colorbar\":{\"outlinewidth\":0,\"ticks\":\"\"}}],\"histogram2d\":[{\"type\":\"histogram2d\",\"colorbar\":{\"outlinewidth\":0,\"ticks\":\"\"},\"colorscale\":[[0.0,\"#0d0887\"],[0.1111111111111111,\"#46039f\"],[0.2222222222222222,\"#7201a8\"],[0.3333333333333333,\"#9c179e\"],[0.4444444444444444,\"#bd3786\"],[0.5555555555555556,\"#d8576b\"],[0.6666666666666666,\"#ed7953\"],[0.7777777777777778,\"#fb9f3a\"],[0.8888888888888888,\"#fdca26\"],[1.0,\"#f0f921\"]]}],\"heatmap\":[{\"type\":\"heatmap\",\"colorbar\":{\"outlinewidth\":0,\"ticks\":\"\"},\"colorscale\":[[0.0,\"#0d0887\"],[0.1111111111111111,\"#46039f\"],[0.2222222222222222,\"#7201a8\"],[0.3333333333333333,\"#9c179e\"],[0.4444444444444444,\"#bd3786\"],[0.5555555555555556,\"#d8576b\"],[0.6666666666666666,\"#ed7953\"],[0.7777777777777778,\"#fb9f3a\"],[0.8888888888888888,\"#fdca26\"],[1.0,\"#f0f921\"]]}],\"heatmapgl\":[{\"type\":\"heatmapgl\",\"colorbar\":{\"outlinewidth\":0,\"ticks\":\"\"},\"colorscale\":[[0.0,\"#0d0887\"],[0.1111111111111111,\"#46039f\"],[0.2222222222222222,\"#7201a8\"],[0.3333333333333333,\"#9c179e\"],[0.4444444444444444,\"#bd3786\"],[0.5555555555555556,\"#d8576b\"],[0.6666666666666666,\"#ed7953\"],[0.7777777777777778,\"#fb9f3a\"],[0.8888888888888888,\"#fdca26\"],[1.0,\"#f0f921\"]]}],\"contourcarpet\":[{\"type\":\"contourcarpet\",\"colorbar\":{\"outlinewidth\":0,\"ticks\":\"\"}}],\"contour\":[{\"type\":\"contour\",\"colorbar\":{\"outlinewidth\":0,\"ticks\":\"\"},\"colorscale\":[[0.0,\"#0d0887\"],[0.1111111111111111,\"#46039f\"],[0.2222222222222222,\"#7201a8\"],[0.3333333333333333,\"#9c179e\"],[0.4444444444444444,\"#bd3786\"],[0.5555555555555556,\"#d8576b\"],[0.6666666666666666,\"#ed7953\"],[0.7777777777777778,\"#fb9f3a\"],[0.8888888888888888,\"#fdca26\"],[1.0,\"#f0f921\"]]}],\"surface\":[{\"type\":\"surface\",\"colorbar\":{\"outlinewidth\":0,\"ticks\":\"\"},\"colorscale\":[[0.0,\"#0d0887\"],[0.1111111111111111,\"#46039f\"],[0.2222222222222222,\"#7201a8\"],[0.3333333333333333,\"#9c179e\"],[0.4444444444444444,\"#bd3786\"],[0.5555555555555556,\"#d8576b\"],[0.6666666666666666,\"#ed7953\"],[0.7777777777777778,\"#fb9f3a\"],[0.8888888888888888,\"#fdca26\"],[1.0,\"#f0f921\"]]}],\"mesh3d\":[{\"type\":\"mesh3d\",\"colorbar\":{\"outlinewidth\":0,\"ticks\":\"\"}}],\"scatter\":[{\"marker\":{\"line\":{\"color\":\"#283442\"}},\"type\":\"scatter\"}],\"parcoords\":[{\"type\":\"parcoords\",\"line\":{\"colorbar\":{\"outlinewidth\":0,\"ticks\":\"\"}}}],\"scatterpolargl\":[{\"type\":\"scatterpolargl\",\"marker\":{\"colorbar\":{\"outlinewidth\":0,\"ticks\":\"\"}}}],\"bar\":[{\"error_x\":{\"color\":\"#f2f5fa\"},\"error_y\":{\"color\":\"#f2f5fa\"},\"marker\":{\"line\":{\"color\":\"rgb(17,17,17)\",\"width\":0.5},\"pattern\":{\"fillmode\":\"overlay\",\"size\":10,\"solidity\":0.2}},\"type\":\"bar\"}],\"scattergeo\":[{\"type\":\"scattergeo\",\"marker\":{\"colorbar\":{\"outlinewidth\":0,\"ticks\":\"\"}}}],\"scatterpolar\":[{\"type\":\"scatterpolar\",\"marker\":{\"colorbar\":{\"outlinewidth\":0,\"ticks\":\"\"}}}],\"histogram\":[{\"marker\":{\"pattern\":{\"fillmode\":\"overlay\",\"size\":10,\"solidity\":0.2}},\"type\":\"histogram\"}],\"scattergl\":[{\"marker\":{\"line\":{\"color\":\"#283442\"}},\"type\":\"scattergl\"}],\"scatter3d\":[{\"type\":\"scatter3d\",\"line\":{\"colorbar\":{\"outlinewidth\":0,\"ticks\":\"\"}},\"marker\":{\"colorbar\":{\"outlinewidth\":0,\"ticks\":\"\"}}}],\"scattermapbox\":[{\"type\":\"scattermapbox\",\"marker\":{\"colorbar\":{\"outlinewidth\":0,\"ticks\":\"\"}}}],\"scatterternary\":[{\"type\":\"scatterternary\",\"marker\":{\"colorbar\":{\"outlinewidth\":0,\"ticks\":\"\"}}}],\"scattercarpet\":[{\"type\":\"scattercarpet\",\"marker\":{\"colorbar\":{\"outlinewidth\":0,\"ticks\":\"\"}}}],\"carpet\":[{\"aaxis\":{\"endlinecolor\":\"#A2B1C6\",\"gridcolor\":\"#506784\",\"linecolor\":\"#506784\",\"minorgridcolor\":\"#506784\",\"startlinecolor\":\"#A2B1C6\"},\"baxis\":{\"endlinecolor\":\"#A2B1C6\",\"gridcolor\":\"#506784\",\"linecolor\":\"#506784\",\"minorgridcolor\":\"#506784\",\"startlinecolor\":\"#A2B1C6\"},\"type\":\"carpet\"}],\"table\":[{\"cells\":{\"fill\":{\"color\":\"#506784\"},\"line\":{\"color\":\"rgb(17,17,17)\"}},\"header\":{\"fill\":{\"color\":\"#2a3f5f\"},\"line\":{\"color\":\"rgb(17,17,17)\"}},\"type\":\"table\"}],\"barpolar\":[{\"marker\":{\"line\":{\"color\":\"rgb(17,17,17)\",\"width\":0.5},\"pattern\":{\"fillmode\":\"overlay\",\"size\":10,\"solidity\":0.2}},\"type\":\"barpolar\"}],\"pie\":[{\"automargin\":true,\"type\":\"pie\"}]},\"layout\":{\"autotypenumbers\":\"strict\",\"colorway\":[\"#636efa\",\"#EF553B\",\"#00cc96\",\"#ab63fa\",\"#FFA15A\",\"#19d3f3\",\"#FF6692\",\"#B6E880\",\"#FF97FF\",\"#FECB52\"],\"font\":{\"color\":\"#f2f5fa\"},\"hovermode\":\"closest\",\"hoverlabel\":{\"align\":\"left\"},\"paper_bgcolor\":\"rgb(17,17,17)\",\"plot_bgcolor\":\"rgb(17,17,17)\",\"polar\":{\"bgcolor\":\"rgb(17,17,17)\",\"angularaxis\":{\"gridcolor\":\"#506784\",\"linecolor\":\"#506784\",\"ticks\":\"\"},\"radialaxis\":{\"gridcolor\":\"#506784\",\"linecolor\":\"#506784\",\"ticks\":\"\"}},\"ternary\":{\"bgcolor\":\"rgb(17,17,17)\",\"aaxis\":{\"gridcolor\":\"#506784\",\"linecolor\":\"#506784\",\"ticks\":\"\"},\"baxis\":{\"gridcolor\":\"#506784\",\"linecolor\":\"#506784\",\"ticks\":\"\"},\"caxis\":{\"gridcolor\":\"#506784\",\"linecolor\":\"#506784\",\"ticks\":\"\"}},\"coloraxis\":{\"colorbar\":{\"outlinewidth\":0,\"ticks\":\"\"}},\"colorscale\":{\"sequential\":[[0.0,\"#0d0887\"],[0.1111111111111111,\"#46039f\"],[0.2222222222222222,\"#7201a8\"],[0.3333333333333333,\"#9c179e\"],[0.4444444444444444,\"#bd3786\"],[0.5555555555555556,\"#d8576b\"],[0.6666666666666666,\"#ed7953\"],[0.7777777777777778,\"#fb9f3a\"],[0.8888888888888888,\"#fdca26\"],[1.0,\"#f0f921\"]],\"sequentialminus\":[[0.0,\"#0d0887\"],[0.1111111111111111,\"#46039f\"],[0.2222222222222222,\"#7201a8\"],[0.3333333333333333,\"#9c179e\"],[0.4444444444444444,\"#bd3786\"],[0.5555555555555556,\"#d8576b\"],[0.6666666666666666,\"#ed7953\"],[0.7777777777777778,\"#fb9f3a\"],[0.8888888888888888,\"#fdca26\"],[1.0,\"#f0f921\"]],\"diverging\":[[0,\"#8e0152\"],[0.1,\"#c51b7d\"],[0.2,\"#de77ae\"],[0.3,\"#f1b6da\"],[0.4,\"#fde0ef\"],[0.5,\"#f7f7f7\"],[0.6,\"#e6f5d0\"],[0.7,\"#b8e186\"],[0.8,\"#7fbc41\"],[0.9,\"#4d9221\"],[1,\"#276419\"]]},\"xaxis\":{\"gridcolor\":\"#283442\",\"linecolor\":\"#506784\",\"ticks\":\"\",\"title\":{\"standoff\":15},\"zerolinecolor\":\"#283442\",\"automargin\":true,\"zerolinewidth\":2},\"yaxis\":{\"gridcolor\":\"#283442\",\"linecolor\":\"#506784\",\"ticks\":\"\",\"title\":{\"standoff\":15},\"zerolinecolor\":\"#283442\",\"automargin\":true,\"zerolinewidth\":2},\"scene\":{\"xaxis\":{\"backgroundcolor\":\"rgb(17,17,17)\",\"gridcolor\":\"#506784\",\"linecolor\":\"#506784\",\"showbackground\":true,\"ticks\":\"\",\"zerolinecolor\":\"#C8D4E3\",\"gridwidth\":2},\"yaxis\":{\"backgroundcolor\":\"rgb(17,17,17)\",\"gridcolor\":\"#506784\",\"linecolor\":\"#506784\",\"showbackground\":true,\"ticks\":\"\",\"zerolinecolor\":\"#C8D4E3\",\"gridwidth\":2},\"zaxis\":{\"backgroundcolor\":\"rgb(17,17,17)\",\"gridcolor\":\"#506784\",\"linecolor\":\"#506784\",\"showbackground\":true,\"ticks\":\"\",\"zerolinecolor\":\"#C8D4E3\",\"gridwidth\":2}},\"shapedefaults\":{\"line\":{\"color\":\"#f2f5fa\"}},\"annotationdefaults\":{\"arrowcolor\":\"#f2f5fa\",\"arrowhead\":0,\"arrowwidth\":1},\"geo\":{\"bgcolor\":\"rgb(17,17,17)\",\"landcolor\":\"rgb(17,17,17)\",\"subunitcolor\":\"#506784\",\"showland\":true,\"showlakes\":true,\"lakecolor\":\"rgb(17,17,17)\"},\"title\":{\"x\":0.05},\"updatemenudefaults\":{\"bgcolor\":\"#506784\",\"borderwidth\":0},\"sliderdefaults\":{\"bgcolor\":\"#C8D4E3\",\"borderwidth\":1,\"bordercolor\":\"rgb(17,17,17)\",\"tickwidth\":0},\"mapbox\":{\"style\":\"dark\"}}},\"xaxis\":{\"showgrid\":false,\"zeroline\":false}},                        {\"responsive\": true}                    ).then(function(){\n                            \nvar gd = document.getElementById('20eab297-72a2-4cfb-821a-9ddad613509b');\nvar x = new MutationObserver(function (mutations, observer) {{\n        var display = window.getComputedStyle(gd).display;\n        if (!display || display === 'none') {{\n            console.log([gd, 'removed!']);\n            Plotly.purge(gd);\n            observer.disconnect();\n        }}\n}});\n\n// Listen for the removal of the full notebook cells\nvar notebookContainer = gd.closest('#notebook-container');\nif (notebookContainer) {{\n    x.observe(notebookContainer, {childList: true});\n}}\n\n// Listen for the clearing of the current output cell\nvar outputEl = gd.closest('.output');\nif (outputEl) {{\n    x.observe(outputEl, {childList: true});\n}}\n\n                        })                };                });            </script>        </div>"
     },
     "metadata": {},
     "output_type": "display_data"
    }
   ],
   "source": [
    "import plotly.graph_objects as go\n",
    "from plotly.colors import n_colors\n",
    "\n",
    "colors = n_colors('rgb(5, 200, 200)', 'rgb(200, 10, 10)', 12, colortype='rgb')\n",
    "\n",
    "fig = go.Figure()\n",
    "for data_line, color in zip(corrected_df, colors):\n",
    "    fig.add_trace(go.Violin(x=ordered_list_alpha, line_color=color))\n",
    "\n",
    "fig.update_traces(orientation='h', side='positive', width=10, points=False)\n",
    "fig.update_layout(xaxis_showgrid=False, xaxis_zeroline=False)\n",
    "fig.show()"
   ],
   "metadata": {
    "collapsed": false,
    "pycharm": {
     "name": "#%%\n"
    }
   }
  },
  {
   "cell_type": "code",
   "execution_count": 12,
   "outputs": [
    {
     "data": {
      "text/plain": "LABELS\nBILIARY        0.006088\nBONE           0.004010\nBREAST         0.007527\nENDOMETRIUM    0.005326\nKIDNEY         0.009292\nLARGE          0.007845\nLIVER          0.006528\nLUNG           0.006492\nNERVOUS        0.011165\nOESOPHAGUS     0.015471\nOVARY          0.008732\nPANCREAS       0.009169\nPROSTATE       0.010472\nSALIVARY       0.000000\nSKIN           0.009356\nSOFT           0.009739\nSTOMACH        0.006012\nTHYROID        0.016264\nUPPER          0.009188\nURINARY        0.011161\nName: beta, dtype: float64"
     },
     "metadata": {},
     "output_type": "display_data"
    },
    {
     "name": "stdout",
     "output_type": "stream",
     "text": [
      "LABELS\n",
      "THYROID        0.016264\n",
      "OESOPHAGUS     0.015471\n",
      "NERVOUS        0.011165\n",
      "URINARY        0.011161\n",
      "PROSTATE       0.010472\n",
      "SOFT           0.009739\n",
      "SKIN           0.009356\n",
      "KIDNEY         0.009292\n",
      "UPPER          0.009188\n",
      "PANCREAS       0.009169\n",
      "OVARY          0.008732\n",
      "LARGE          0.007845\n",
      "BREAST         0.007527\n",
      "LIVER          0.006528\n",
      "LUNG           0.006492\n",
      "BILIARY        0.006088\n",
      "STOMACH        0.006012\n",
      "ENDOMETRIUM    0.005326\n",
      "BONE           0.004010\n",
      "SALIVARY       0.000000\n",
      "Name: beta, dtype: float64\n",
      "['THYROID', 'OESOPHAGUS', 'NERVOUS', 'URINARY', 'PROSTATE', 'SOFT', 'SKIN', 'KIDNEY', 'UPPER', 'PANCREAS', 'OVARY', 'LARGE', 'BREAST', 'LIVER', 'LUNG', 'BILIARY', 'STOMACH', 'ENDOMETRIUM', 'BONE', 'SALIVARY']\n"
     ]
    }
   ],
   "source": [
    "new_df_beta = corrected_df.groupby(['LABELS'])['beta'].agg('mean')\n",
    "display(new_df_beta)\n",
    "ordered_df_beta = new_df_beta.sort_values(ascending=False)\n",
    "print(ordered_df_beta)\n",
    "ordered_list_beta = ordered_df_beta.index.tolist()\n",
    "print(ordered_list_beta)"
   ],
   "metadata": {
    "collapsed": false,
    "pycharm": {
     "name": "#%%\n"
    }
   }
  },
  {
   "cell_type": "code",
   "execution_count": 13,
   "outputs": [
    {
     "data": {
      "application/vnd.plotly.v1+json": {
       "data": [
        {
         "alignmentgroup": "True",
         "box": {
          "visible": false
         },
         "hovertemplate": "LABELS=%{x}<br>beta=%{y}<extra></extra>",
         "legendgroup": "",
         "marker": {
          "color": "#636efa"
         },
         "name": "",
         "offsetgroup": "",
         "orientation": "v",
         "points": "all",
         "scalegroup": "True",
         "showlegend": false,
         "x": [
          "URINARY",
          "PROSTATE",
          "NERVOUS",
          "URINARY",
          "KIDNEY",
          "KIDNEY",
          "THYROID",
          "NERVOUS",
          "SKIN",
          "NERVOUS",
          "SOFT",
          "SKIN",
          "SALIVARY",
          "OVARY",
          "KIDNEY",
          "BONE",
          "LUNG",
          "KIDNEY",
          "STOMACH",
          "NERVOUS",
          "ENDOMETRIUM",
          "PANCREAS",
          "BREAST",
          "URINARY",
          "THYROID",
          "NERVOUS",
          "THYROID",
          "UPPER",
          "UPPER",
          "UPPER",
          "UPPER",
          "UPPER",
          "UPPER",
          "BREAST",
          "PANCREAS",
          "LARGE",
          "SKIN",
          "KIDNEY",
          "KIDNEY",
          "LUNG",
          "BREAST",
          "BREAST",
          "KIDNEY",
          "BONE",
          "LUNG",
          "LUNG",
          "BREAST",
          "OVARY",
          "PANCREAS",
          "PANCREAS",
          "NERVOUS",
          "PANCREAS",
          "THYROID",
          "LUNG",
          "NERVOUS",
          "SKIN",
          "LARGE",
          "LARGE",
          "LARGE",
          "LUNG",
          "LARGE",
          "SKIN",
          "OESOPHAGUS",
          "SKIN",
          "SKIN",
          "LUNG",
          "OVARY",
          "OVARY",
          "OVARY",
          "OVARY",
          "LARGE",
          "NERVOUS",
          "PANCREAS",
          "NERVOUS",
          "NERVOUS",
          "UPPER",
          "NERVOUS",
          "LARGE",
          "LUNG",
          "LUNG",
          "LUNG",
          "PROSTATE",
          "LUNG",
          "STOMACH",
          "OESOPHAGUS",
          "ENDOMETRIUM",
          "BREAST",
          "OVARY",
          "OVARY",
          "OVARY",
          "ENDOMETRIUM",
          "UPPER",
          "THYROID",
          "THYROID",
          "OVARY",
          "SOFT",
          "NERVOUS",
          "NERVOUS",
          "SOFT",
          "NERVOUS",
          "NERVOUS",
          "NERVOUS",
          "LARGE",
          "NERVOUS",
          "LUNG",
          "LUNG",
          "LUNG",
          "BREAST",
          "BREAST",
          "LUNG",
          "LUNG",
          "BREAST",
          "LUNG",
          "BREAST",
          "LUNG",
          "BREAST",
          "BREAST",
          "BREAST",
          "LUNG",
          "LUNG",
          "LUNG",
          "LUNG",
          "BREAST",
          "LUNG",
          "LUNG",
          "LARGE",
          "LUNG",
          "LUNG",
          "LUNG",
          "LARGE",
          "ENDOMETRIUM",
          "ENDOMETRIUM",
          "ENDOMETRIUM",
          "ENDOMETRIUM",
          "ENDOMETRIUM",
          "ENDOMETRIUM",
          "ENDOMETRIUM",
          "ENDOMETRIUM",
          "ENDOMETRIUM",
          "LIVER",
          "OVARY",
          "LIVER",
          "BREAST",
          "SKIN",
          "PANCREAS",
          "SKIN",
          "NERVOUS",
          "SOFT",
          "STOMACH",
          "PANCREAS",
          "BONE",
          "SKIN",
          "BONE",
          "SKIN",
          "SKIN",
          "SKIN",
          "UPPER",
          "UPPER",
          "UPPER",
          "LARGE",
          "URINARY",
          "URINARY",
          "SKIN",
          "LARGE",
          "LARGE",
          "LIVER",
          "BILIARY",
          "PANCREAS",
          "PANCREAS",
          "LUNG",
          "SKIN",
          "SKIN",
          "SKIN",
          "OVARY",
          "STOMACH",
          "NERVOUS",
          "SKIN",
          "URINARY",
          "LIVER",
          "LIVER",
          "LIVER",
          "LIVER",
          "OVARY",
          "OVARY",
          "OVARY",
          "ENDOMETRIUM",
          "ENDOMETRIUM",
          "ENDOMETRIUM",
          "LUNG",
          "URINARY",
          "SKIN",
          "NERVOUS",
          "STOMACH",
          "STOMACH",
          "ENDOMETRIUM",
          "URINARY",
          "KIDNEY",
          "KIDNEY",
          "KIDNEY",
          "NERVOUS",
          "NERVOUS",
          "LUNG",
          "NERVOUS",
          "PANCREAS",
          "PANCREAS",
          "NERVOUS",
          "URINARY",
          "OVARY",
          "SOFT",
          "OESOPHAGUS",
          "OESOPHAGUS",
          "OESOPHAGUS",
          "OESOPHAGUS",
          "OESOPHAGUS",
          "OESOPHAGUS",
          "OESOPHAGUS",
          "OESOPHAGUS",
          "OESOPHAGUS",
          "PANCREAS",
          "LUNG",
          "LIVER",
          "LUNG",
          "LUNG",
          "STOMACH",
          "NERVOUS",
          "NERVOUS",
          "LUNG",
          "LARGE",
          "LARGE",
          "LARGE",
          "LARGE",
          "LARGE",
          "LARGE",
          "LUNG",
          "LUNG",
          "NERVOUS",
          "OVARY",
          "BREAST",
          "BREAST",
          "BREAST",
          "BREAST",
          "BREAST",
          "SKIN",
          "BREAST",
          "BREAST",
          "BREAST",
          "SKIN",
          "SOFT",
          "SKIN",
          "ENDOMETRIUM",
          "ENDOMETRIUM",
          "BONE",
          "BONE",
          "NERVOUS",
          "PANCREAS",
          "STOMACH",
          "STOMACH",
          "STOMACH",
          "THYROID",
          "LUNG",
          "LUNG",
          "NERVOUS",
          "LUNG",
          "LUNG",
          "LUNG",
          "LUNG",
          "LUNG",
          "LUNG",
          "LUNG",
          "LUNG",
          "LUNG",
          "LUNG",
          "LUNG",
          "LUNG",
          "LUNG",
          "LUNG",
          "LUNG",
          "LUNG",
          "LUNG",
          "LUNG",
          "LUNG",
          "LUNG",
          "LUNG",
          "LUNG",
          "LUNG",
          "LUNG",
          "LUNG",
          "LUNG",
          "LUNG",
          "LUNG",
          "LUNG",
          "LUNG",
          "LUNG",
          "LUNG",
          "LUNG",
          "LUNG",
          "LUNG",
          "LUNG",
          "LUNG",
          "LUNG",
          "LUNG",
          "LUNG",
          "LUNG",
          "LUNG",
          "LUNG",
          "LUNG",
          "LUNG",
          "LARGE",
          "LUNG",
          "LUNG",
          "LUNG",
          "LUNG",
          "LUNG",
          "LUNG",
          "LARGE",
          "LUNG",
          "LUNG",
          "LUNG",
          "STOMACH",
          "OVARY",
          "STOMACH",
          "STOMACH",
          "OVARY",
          "OVARY",
          "STOMACH",
          "OESOPHAGUS",
          "OESOPHAGUS",
          "OESOPHAGUS",
          "OVARY",
          "NERVOUS",
          "KIDNEY",
          "OVARY",
          "OVARY",
          "OVARY",
          "OVARY",
          "OVARY",
          "OVARY",
          "OVARY",
          "OVARY",
          "OVARY",
          "OVARY",
          "PANCREAS",
          "PANCREAS",
          "PANCREAS",
          "PANCREAS",
          "PANCREAS",
          "PANCREAS",
          "PANCREAS",
          "PANCREAS",
          "PANCREAS",
          "LUNG",
          "PROSTATE",
          "UPPER",
          "PANCREAS",
          "PANCREAS",
          "PANCREAS",
          "LIVER",
          "PANCREAS",
          "PANCREAS",
          "KIDNEY",
          "LARGE",
          "SOFT",
          "LUNG",
          "LUNG",
          "LUNG",
          "LUNG",
          "SOFT",
          "SOFT",
          "SOFT",
          "LARGE",
          "ENDOMETRIUM",
          "OVARY",
          "URINARY",
          "URINARY",
          "SKIN",
          "BONE",
          "URINARY",
          "UPPER",
          "UPPER",
          "NERVOUS",
          "LUNG",
          "BONE",
          "BREAST",
          "LARGE",
          "BONE",
          "LIVER",
          "SOFT",
          "LUNG",
          "SKIN",
          "SKIN",
          "SKIN",
          "SKIN",
          "SKIN",
          "SKIN",
          "NERVOUS",
          "BONE",
          "NERVOUS",
          "OVARY",
          "SOFT",
          "LARGE",
          "UPPER",
          "UPPER",
          "ENDOMETRIUM",
          "NERVOUS",
          "OVARY",
          "BILIARY",
          "UPPER",
          "KIDNEY",
          "LARGE",
          "LIVER",
          "STOMACH",
          "BILIARY",
          "LARGE",
          "BILIARY",
          "LIVER",
          "LIVER",
          "LARGE",
          "LIVER",
          "LIVER",
          "UPPER",
          "NERVOUS",
          "LIVER",
          "BILIARY",
          "LARGE",
          "STOMACH",
          "LARGE",
          "STOMACH",
          "ENDOMETRIUM",
          "STOMACH",
          "LIVER",
          "LARGE",
          "OVARY",
          "BILIARY",
          "LIVER",
          "UPPER",
          "LARGE",
          "LARGE",
          "LARGE",
          "PANCREAS",
          "NERVOUS",
          "LARGE",
          "LUNG",
          "LARGE",
          "LARGE",
          "LUNG",
          "URINARY",
          "PANCREAS",
          "LARGE",
          "LARGE",
          "LARGE",
          "THYROID",
          "LARGE",
          "LARGE",
          "URINARY",
          "LUNG",
          "BREAST",
          "LARGE",
          "NERVOUS",
          "PANCREAS",
          "URINARY",
          "OESOPHAGUS",
          "OESOPHAGUS",
          "OESOPHAGUS",
          "SOFT",
          "OESOPHAGUS",
          "OESOPHAGUS",
          "OESOPHAGUS",
          "OESOPHAGUS",
          "SOFT",
          "OESOPHAGUS",
          "OESOPHAGUS",
          "NERVOUS",
          "OVARY",
          "OVARY",
          "THYROID",
          "KIDNEY",
          "OVARY",
          "NERVOUS",
          "NERVOUS",
          "BONE",
          "NERVOUS",
          "URINARY",
          "URINARY",
          "URINARY",
          "URINARY",
          "LUNG",
          "KIDNEY",
          "KIDNEY",
          "SKIN",
          "SKIN",
          "SKIN",
          "SKIN",
          "SKIN",
          "SALIVARY"
         ],
         "x0": " ",
         "xaxis": "x",
         "y": [
          0.0,
          0.02409,
          0.009217,
          0.06135,
          0.01736,
          0.01292,
          0.0032329999999999,
          0.02918,
          0.0150599999999999,
          0.0,
          0.0,
          0.027,
          0.0,
          0.0,
          0.002007,
          0.0,
          0.0196,
          0.0,
          0.0,
          0.01931,
          0.001773,
          0.0,
          0.005742,
          0.0,
          0.02174,
          0.0278899999999999,
          0.0,
          0.006885,
          0.04324,
          0.0,
          0.0,
          0.0,
          0.0,
          0.006197,
          0.0,
          0.0252599999999999,
          0.009423,
          0.0,
          0.0,
          0.006372,
          0.004664,
          0.0,
          0.0,
          0.002132,
          0.0,
          0.01489,
          0.0,
          0.0,
          0.0,
          0.0,
          0.0,
          0.0,
          0.0,
          0.0,
          0.02814,
          0.003035,
          0.0,
          0.01909,
          0.003524,
          0.0,
          0.003749,
          0.0,
          0.0,
          0.0,
          0.002014,
          0.0,
          0.0,
          0.0,
          0.0,
          0.03077,
          0.0,
          0.0,
          0.0,
          0.0,
          0.04283,
          0.03424,
          0.006963,
          0.0,
          0.002248,
          0.001723,
          0.04344,
          0.0,
          0.0,
          0.0,
          0.02338,
          0.0,
          0.0245,
          0.0,
          0.01755,
          0.003382,
          0.0,
          0.0,
          0.0,
          0.03786,
          0.03438,
          0.03611,
          0.01351,
          0.03458,
          0.008604,
          0.0059759999999999,
          0.0,
          0.02534,
          0.0,
          0.009405,
          0.0,
          0.01648,
          0.0,
          0.0,
          0.02013,
          0.02931,
          0.0,
          0.007265,
          0.0,
          0.0,
          0.04781,
          0.003124,
          0.0,
          0.0,
          0.04148,
          0.0,
          0.0,
          0.0,
          0.0,
          0.0,
          0.0,
          0.0,
          0.0,
          0.0,
          0.0,
          0.02461,
          0.02524,
          0.0,
          0.0,
          0.03261,
          0.0,
          0.0,
          0.0,
          0.0,
          0.0,
          0.0,
          0.0,
          0.0,
          0.0,
          0.0,
          0.02084,
          0.0,
          0.0,
          0.0,
          0.03857,
          0.02905,
          0.0,
          0.0,
          0.02443,
          0.0,
          0.0,
          0.0,
          0.03172,
          0.003652,
          0.03081,
          0.02162,
          0.004117,
          0.002993,
          0.0,
          0.02475,
          0.0,
          0.006445,
          0.0,
          0.0,
          0.0,
          0.0,
          0.02288,
          0.0134,
          0.004444,
          0.0,
          0.0,
          0.0,
          0.006123,
          0.0,
          0.01334,
          0.0,
          0.01545,
          0.0202,
          0.0,
          0.01073,
          0.0,
          0.02011,
          0.0,
          0.0,
          0.0,
          0.002898,
          0.0,
          0.0229599999999999,
          0.01182,
          0.0,
          0.005532,
          0.0,
          0.0,
          0.0,
          0.0,
          0.0,
          0.0,
          0.0,
          0.05416,
          0.01529,
          0.0,
          0.0,
          0.01958,
          0.0,
          0.0141,
          0.002335,
          0.0,
          0.0174199999999999,
          0.01904,
          0.0389399999999999,
          0.04082,
          0.02396,
          0.03077,
          0.02387,
          0.01244,
          0.02327,
          0.02926,
          0.0,
          0.0263699999999999,
          0.02147,
          0.02669,
          0.04729,
          0.003317,
          0.01879,
          0.0,
          0.002915,
          0.0,
          0.0,
          0.03229,
          0.0,
          0.0,
          0.005495,
          0.01522,
          0.03225,
          0.0,
          0.0,
          0.003834,
          0.0,
          0.0,
          0.02026,
          0.003829,
          0.002408,
          0.0,
          0.0,
          0.02534,
          0.002868,
          0.007669,
          0.0058049999999999,
          0.0,
          0.0,
          0.05707,
          0.0263,
          0.0,
          0.0,
          0.0,
          0.01239,
          0.0,
          0.0,
          0.0156199999999999,
          0.0284199999999999,
          0.005222,
          0.01824,
          0.0,
          0.0,
          0.0,
          0.0,
          0.0,
          0.0,
          0.0,
          0.0,
          0.0,
          0.0,
          0.02256,
          0.00848,
          0.0,
          0.0267399999999999,
          0.0,
          0.0,
          0.0,
          0.0,
          0.0,
          0.005219,
          0.0,
          0.0,
          0.0,
          0.006953,
          0.0,
          0.02028,
          0.0,
          0.0,
          0.01663,
          0.02249,
          0.0,
          0.0,
          0.0,
          0.0,
          0.0,
          0.0,
          0.02102,
          0.02228,
          0.0,
          0.0,
          0.0,
          0.0,
          0.0,
          0.001044,
          0.01867,
          0.0,
          0.0,
          0.0,
          0.0,
          0.03612,
          0.0153099999999999,
          0.0,
          0.0,
          0.0,
          0.0,
          0.01006,
          0.0,
          0.02073,
          0.0,
          0.006881,
          0.0301,
          0.0,
          0.004236,
          0.0,
          0.0149,
          0.0,
          0.04771,
          0.0,
          0.0,
          0.0,
          0.0,
          0.003789,
          0.0,
          0.03082,
          0.008179,
          0.02375,
          0.01341,
          0.0,
          0.01881,
          0.007534,
          0.0,
          0.0,
          0.0,
          0.0,
          0.007502,
          0.0073269999999999,
          0.0,
          0.0,
          0.01653,
          0.0182699999999999,
          0.0,
          0.02376,
          0.0,
          0.02396,
          0.0,
          0.0,
          0.0288,
          0.0,
          0.0,
          0.0,
          0.002434,
          0.0,
          0.0,
          0.03141,
          0.0,
          0.02567,
          0.01309,
          0.002948,
          0.0,
          0.0,
          0.02222,
          0.004302,
          0.003377,
          0.006783,
          0.0,
          0.0,
          0.01171,
          0.01398,
          0.006226,
          0.01424,
          0.0175099999999999,
          0.0139199999999999,
          0.04636,
          0.0,
          0.01792,
          0.003327,
          0.0,
          0.0,
          0.0,
          0.0,
          0.02018,
          0.006825,
          0.0,
          0.0,
          0.001153,
          0.0,
          0.005895,
          0.0146,
          0.0,
          0.0,
          0.0,
          0.01965,
          0.008589,
          0.0,
          0.0,
          0.0107099999999999,
          0.02038,
          0.0,
          0.0,
          0.01414,
          0.02041,
          0.001757,
          0.0,
          0.0,
          0.004532,
          0.002667,
          0.0,
          0.0127,
          0.0,
          0.0,
          0.0,
          0.01014,
          0.0,
          0.0,
          0.0,
          0.0,
          0.02582,
          0.0,
          0.01519,
          0.0,
          0.001219,
          0.003295,
          0.01287,
          0.002721,
          0.0,
          0.0,
          0.0,
          0.02339,
          0.0,
          0.0387,
          0.01462,
          0.0,
          0.0,
          0.0,
          0.03245,
          0.0,
          0.001068,
          0.008762,
          0.01847,
          0.04226,
          0.02429,
          0.0,
          0.0,
          0.0289399999999999,
          0.01563,
          0.009017,
          0.0,
          0.05113,
          0.0,
          0.01212,
          0.0,
          0.04113,
          0.006461,
          0.02041,
          0.0,
          0.0,
          0.02069,
          0.02539,
          0.0510899999999999,
          0.0,
          0.02575,
          0.0,
          0.0,
          0.005514,
          0.0,
          0.0,
          0.006454,
          0.0,
          0.0,
          0.0,
          0.02369,
          0.03419,
          0.0381699999999999,
          0.02274,
          0.0275899999999999,
          0.03328,
          0.0,
          0.0
         ],
         "y0": " ",
         "yaxis": "y",
         "type": "violin"
        }
       ],
       "layout": {
        "template": {
         "data": {
          "histogram2dcontour": [
           {
            "type": "histogram2dcontour",
            "colorbar": {
             "outlinewidth": 0,
             "ticks": ""
            },
            "colorscale": [
             [
              0.0,
              "#0d0887"
             ],
             [
              0.1111111111111111,
              "#46039f"
             ],
             [
              0.2222222222222222,
              "#7201a8"
             ],
             [
              0.3333333333333333,
              "#9c179e"
             ],
             [
              0.4444444444444444,
              "#bd3786"
             ],
             [
              0.5555555555555556,
              "#d8576b"
             ],
             [
              0.6666666666666666,
              "#ed7953"
             ],
             [
              0.7777777777777778,
              "#fb9f3a"
             ],
             [
              0.8888888888888888,
              "#fdca26"
             ],
             [
              1.0,
              "#f0f921"
             ]
            ]
           }
          ],
          "choropleth": [
           {
            "type": "choropleth",
            "colorbar": {
             "outlinewidth": 0,
             "ticks": ""
            }
           }
          ],
          "histogram2d": [
           {
            "type": "histogram2d",
            "colorbar": {
             "outlinewidth": 0,
             "ticks": ""
            },
            "colorscale": [
             [
              0.0,
              "#0d0887"
             ],
             [
              0.1111111111111111,
              "#46039f"
             ],
             [
              0.2222222222222222,
              "#7201a8"
             ],
             [
              0.3333333333333333,
              "#9c179e"
             ],
             [
              0.4444444444444444,
              "#bd3786"
             ],
             [
              0.5555555555555556,
              "#d8576b"
             ],
             [
              0.6666666666666666,
              "#ed7953"
             ],
             [
              0.7777777777777778,
              "#fb9f3a"
             ],
             [
              0.8888888888888888,
              "#fdca26"
             ],
             [
              1.0,
              "#f0f921"
             ]
            ]
           }
          ],
          "heatmap": [
           {
            "type": "heatmap",
            "colorbar": {
             "outlinewidth": 0,
             "ticks": ""
            },
            "colorscale": [
             [
              0.0,
              "#0d0887"
             ],
             [
              0.1111111111111111,
              "#46039f"
             ],
             [
              0.2222222222222222,
              "#7201a8"
             ],
             [
              0.3333333333333333,
              "#9c179e"
             ],
             [
              0.4444444444444444,
              "#bd3786"
             ],
             [
              0.5555555555555556,
              "#d8576b"
             ],
             [
              0.6666666666666666,
              "#ed7953"
             ],
             [
              0.7777777777777778,
              "#fb9f3a"
             ],
             [
              0.8888888888888888,
              "#fdca26"
             ],
             [
              1.0,
              "#f0f921"
             ]
            ]
           }
          ],
          "heatmapgl": [
           {
            "type": "heatmapgl",
            "colorbar": {
             "outlinewidth": 0,
             "ticks": ""
            },
            "colorscale": [
             [
              0.0,
              "#0d0887"
             ],
             [
              0.1111111111111111,
              "#46039f"
             ],
             [
              0.2222222222222222,
              "#7201a8"
             ],
             [
              0.3333333333333333,
              "#9c179e"
             ],
             [
              0.4444444444444444,
              "#bd3786"
             ],
             [
              0.5555555555555556,
              "#d8576b"
             ],
             [
              0.6666666666666666,
              "#ed7953"
             ],
             [
              0.7777777777777778,
              "#fb9f3a"
             ],
             [
              0.8888888888888888,
              "#fdca26"
             ],
             [
              1.0,
              "#f0f921"
             ]
            ]
           }
          ],
          "contourcarpet": [
           {
            "type": "contourcarpet",
            "colorbar": {
             "outlinewidth": 0,
             "ticks": ""
            }
           }
          ],
          "contour": [
           {
            "type": "contour",
            "colorbar": {
             "outlinewidth": 0,
             "ticks": ""
            },
            "colorscale": [
             [
              0.0,
              "#0d0887"
             ],
             [
              0.1111111111111111,
              "#46039f"
             ],
             [
              0.2222222222222222,
              "#7201a8"
             ],
             [
              0.3333333333333333,
              "#9c179e"
             ],
             [
              0.4444444444444444,
              "#bd3786"
             ],
             [
              0.5555555555555556,
              "#d8576b"
             ],
             [
              0.6666666666666666,
              "#ed7953"
             ],
             [
              0.7777777777777778,
              "#fb9f3a"
             ],
             [
              0.8888888888888888,
              "#fdca26"
             ],
             [
              1.0,
              "#f0f921"
             ]
            ]
           }
          ],
          "surface": [
           {
            "type": "surface",
            "colorbar": {
             "outlinewidth": 0,
             "ticks": ""
            },
            "colorscale": [
             [
              0.0,
              "#0d0887"
             ],
             [
              0.1111111111111111,
              "#46039f"
             ],
             [
              0.2222222222222222,
              "#7201a8"
             ],
             [
              0.3333333333333333,
              "#9c179e"
             ],
             [
              0.4444444444444444,
              "#bd3786"
             ],
             [
              0.5555555555555556,
              "#d8576b"
             ],
             [
              0.6666666666666666,
              "#ed7953"
             ],
             [
              0.7777777777777778,
              "#fb9f3a"
             ],
             [
              0.8888888888888888,
              "#fdca26"
             ],
             [
              1.0,
              "#f0f921"
             ]
            ]
           }
          ],
          "mesh3d": [
           {
            "type": "mesh3d",
            "colorbar": {
             "outlinewidth": 0,
             "ticks": ""
            }
           }
          ],
          "scatter": [
           {
            "marker": {
             "line": {
              "color": "#283442"
             }
            },
            "type": "scatter"
           }
          ],
          "parcoords": [
           {
            "type": "parcoords",
            "line": {
             "colorbar": {
              "outlinewidth": 0,
              "ticks": ""
             }
            }
           }
          ],
          "scatterpolargl": [
           {
            "type": "scatterpolargl",
            "marker": {
             "colorbar": {
              "outlinewidth": 0,
              "ticks": ""
             }
            }
           }
          ],
          "bar": [
           {
            "error_x": {
             "color": "#f2f5fa"
            },
            "error_y": {
             "color": "#f2f5fa"
            },
            "marker": {
             "line": {
              "color": "rgb(17,17,17)",
              "width": 0.5
             },
             "pattern": {
              "fillmode": "overlay",
              "size": 10,
              "solidity": 0.2
             }
            },
            "type": "bar"
           }
          ],
          "scattergeo": [
           {
            "type": "scattergeo",
            "marker": {
             "colorbar": {
              "outlinewidth": 0,
              "ticks": ""
             }
            }
           }
          ],
          "scatterpolar": [
           {
            "type": "scatterpolar",
            "marker": {
             "colorbar": {
              "outlinewidth": 0,
              "ticks": ""
             }
            }
           }
          ],
          "histogram": [
           {
            "marker": {
             "pattern": {
              "fillmode": "overlay",
              "size": 10,
              "solidity": 0.2
             }
            },
            "type": "histogram"
           }
          ],
          "scattergl": [
           {
            "marker": {
             "line": {
              "color": "#283442"
             }
            },
            "type": "scattergl"
           }
          ],
          "scatter3d": [
           {
            "type": "scatter3d",
            "line": {
             "colorbar": {
              "outlinewidth": 0,
              "ticks": ""
             }
            },
            "marker": {
             "colorbar": {
              "outlinewidth": 0,
              "ticks": ""
             }
            }
           }
          ],
          "scattermapbox": [
           {
            "type": "scattermapbox",
            "marker": {
             "colorbar": {
              "outlinewidth": 0,
              "ticks": ""
             }
            }
           }
          ],
          "scatterternary": [
           {
            "type": "scatterternary",
            "marker": {
             "colorbar": {
              "outlinewidth": 0,
              "ticks": ""
             }
            }
           }
          ],
          "scattercarpet": [
           {
            "type": "scattercarpet",
            "marker": {
             "colorbar": {
              "outlinewidth": 0,
              "ticks": ""
             }
            }
           }
          ],
          "carpet": [
           {
            "aaxis": {
             "endlinecolor": "#A2B1C6",
             "gridcolor": "#506784",
             "linecolor": "#506784",
             "minorgridcolor": "#506784",
             "startlinecolor": "#A2B1C6"
            },
            "baxis": {
             "endlinecolor": "#A2B1C6",
             "gridcolor": "#506784",
             "linecolor": "#506784",
             "minorgridcolor": "#506784",
             "startlinecolor": "#A2B1C6"
            },
            "type": "carpet"
           }
          ],
          "table": [
           {
            "cells": {
             "fill": {
              "color": "#506784"
             },
             "line": {
              "color": "rgb(17,17,17)"
             }
            },
            "header": {
             "fill": {
              "color": "#2a3f5f"
             },
             "line": {
              "color": "rgb(17,17,17)"
             }
            },
            "type": "table"
           }
          ],
          "barpolar": [
           {
            "marker": {
             "line": {
              "color": "rgb(17,17,17)",
              "width": 0.5
             },
             "pattern": {
              "fillmode": "overlay",
              "size": 10,
              "solidity": 0.2
             }
            },
            "type": "barpolar"
           }
          ],
          "pie": [
           {
            "automargin": true,
            "type": "pie"
           }
          ]
         },
         "layout": {
          "autotypenumbers": "strict",
          "colorway": [
           "#636efa",
           "#EF553B",
           "#00cc96",
           "#ab63fa",
           "#FFA15A",
           "#19d3f3",
           "#FF6692",
           "#B6E880",
           "#FF97FF",
           "#FECB52"
          ],
          "font": {
           "color": "#f2f5fa"
          },
          "hovermode": "closest",
          "hoverlabel": {
           "align": "left"
          },
          "paper_bgcolor": "rgb(17,17,17)",
          "plot_bgcolor": "rgb(17,17,17)",
          "polar": {
           "bgcolor": "rgb(17,17,17)",
           "angularaxis": {
            "gridcolor": "#506784",
            "linecolor": "#506784",
            "ticks": ""
           },
           "radialaxis": {
            "gridcolor": "#506784",
            "linecolor": "#506784",
            "ticks": ""
           }
          },
          "ternary": {
           "bgcolor": "rgb(17,17,17)",
           "aaxis": {
            "gridcolor": "#506784",
            "linecolor": "#506784",
            "ticks": ""
           },
           "baxis": {
            "gridcolor": "#506784",
            "linecolor": "#506784",
            "ticks": ""
           },
           "caxis": {
            "gridcolor": "#506784",
            "linecolor": "#506784",
            "ticks": ""
           }
          },
          "coloraxis": {
           "colorbar": {
            "outlinewidth": 0,
            "ticks": ""
           }
          },
          "colorscale": {
           "sequential": [
            [
             0.0,
             "#0d0887"
            ],
            [
             0.1111111111111111,
             "#46039f"
            ],
            [
             0.2222222222222222,
             "#7201a8"
            ],
            [
             0.3333333333333333,
             "#9c179e"
            ],
            [
             0.4444444444444444,
             "#bd3786"
            ],
            [
             0.5555555555555556,
             "#d8576b"
            ],
            [
             0.6666666666666666,
             "#ed7953"
            ],
            [
             0.7777777777777778,
             "#fb9f3a"
            ],
            [
             0.8888888888888888,
             "#fdca26"
            ],
            [
             1.0,
             "#f0f921"
            ]
           ],
           "sequentialminus": [
            [
             0.0,
             "#0d0887"
            ],
            [
             0.1111111111111111,
             "#46039f"
            ],
            [
             0.2222222222222222,
             "#7201a8"
            ],
            [
             0.3333333333333333,
             "#9c179e"
            ],
            [
             0.4444444444444444,
             "#bd3786"
            ],
            [
             0.5555555555555556,
             "#d8576b"
            ],
            [
             0.6666666666666666,
             "#ed7953"
            ],
            [
             0.7777777777777778,
             "#fb9f3a"
            ],
            [
             0.8888888888888888,
             "#fdca26"
            ],
            [
             1.0,
             "#f0f921"
            ]
           ],
           "diverging": [
            [
             0,
             "#8e0152"
            ],
            [
             0.1,
             "#c51b7d"
            ],
            [
             0.2,
             "#de77ae"
            ],
            [
             0.3,
             "#f1b6da"
            ],
            [
             0.4,
             "#fde0ef"
            ],
            [
             0.5,
             "#f7f7f7"
            ],
            [
             0.6,
             "#e6f5d0"
            ],
            [
             0.7,
             "#b8e186"
            ],
            [
             0.8,
             "#7fbc41"
            ],
            [
             0.9,
             "#4d9221"
            ],
            [
             1,
             "#276419"
            ]
           ]
          },
          "xaxis": {
           "gridcolor": "#283442",
           "linecolor": "#506784",
           "ticks": "",
           "title": {
            "standoff": 15
           },
           "zerolinecolor": "#283442",
           "automargin": true,
           "zerolinewidth": 2
          },
          "yaxis": {
           "gridcolor": "#283442",
           "linecolor": "#506784",
           "ticks": "",
           "title": {
            "standoff": 15
           },
           "zerolinecolor": "#283442",
           "automargin": true,
           "zerolinewidth": 2
          },
          "scene": {
           "xaxis": {
            "backgroundcolor": "rgb(17,17,17)",
            "gridcolor": "#506784",
            "linecolor": "#506784",
            "showbackground": true,
            "ticks": "",
            "zerolinecolor": "#C8D4E3",
            "gridwidth": 2
           },
           "yaxis": {
            "backgroundcolor": "rgb(17,17,17)",
            "gridcolor": "#506784",
            "linecolor": "#506784",
            "showbackground": true,
            "ticks": "",
            "zerolinecolor": "#C8D4E3",
            "gridwidth": 2
           },
           "zaxis": {
            "backgroundcolor": "rgb(17,17,17)",
            "gridcolor": "#506784",
            "linecolor": "#506784",
            "showbackground": true,
            "ticks": "",
            "zerolinecolor": "#C8D4E3",
            "gridwidth": 2
           }
          },
          "shapedefaults": {
           "line": {
            "color": "#f2f5fa"
           }
          },
          "annotationdefaults": {
           "arrowcolor": "#f2f5fa",
           "arrowhead": 0,
           "arrowwidth": 1
          },
          "geo": {
           "bgcolor": "rgb(17,17,17)",
           "landcolor": "rgb(17,17,17)",
           "subunitcolor": "#506784",
           "showland": true,
           "showlakes": true,
           "lakecolor": "rgb(17,17,17)"
          },
          "title": {
           "x": 0.05
          },
          "updatemenudefaults": {
           "bgcolor": "#506784",
           "borderwidth": 0
          },
          "sliderdefaults": {
           "bgcolor": "#C8D4E3",
           "borderwidth": 1,
           "bordercolor": "rgb(17,17,17)",
           "tickwidth": 0
          },
          "mapbox": {
           "style": "dark"
          }
         }
        },
        "xaxis": {
         "anchor": "y",
         "domain": [
          0.0,
          1.0
         ],
         "title": {
          "text": "LABELS"
         }
        },
        "yaxis": {
         "anchor": "x",
         "domain": [
          0.0,
          1.0
         ],
         "title": {
          "text": "beta"
         }
        },
        "legend": {
         "tracegroupgap": 0
        },
        "margin": {
         "t": 60
        },
        "violinmode": "group"
       },
       "config": {
        "plotlyServerURL": "https://plot.ly"
       }
      },
      "text/html": "<div>                            <div id=\"d0436fe4-1246-4113-982a-03f08e7bb61e\" class=\"plotly-graph-div\" style=\"height:525px; width:100%;\"></div>            <script type=\"text/javascript\">                require([\"plotly\"], function(Plotly) {                    window.PLOTLYENV=window.PLOTLYENV || {};                                    if (document.getElementById(\"d0436fe4-1246-4113-982a-03f08e7bb61e\")) {                    Plotly.newPlot(                        \"d0436fe4-1246-4113-982a-03f08e7bb61e\",                        [{\"alignmentgroup\":\"True\",\"box\":{\"visible\":false},\"hovertemplate\":\"LABELS=%{x}<br>beta=%{y}<extra></extra>\",\"legendgroup\":\"\",\"marker\":{\"color\":\"#636efa\"},\"name\":\"\",\"offsetgroup\":\"\",\"orientation\":\"v\",\"points\":\"all\",\"scalegroup\":\"True\",\"showlegend\":false,\"x\":[\"URINARY\",\"PROSTATE\",\"NERVOUS\",\"URINARY\",\"KIDNEY\",\"KIDNEY\",\"THYROID\",\"NERVOUS\",\"SKIN\",\"NERVOUS\",\"SOFT\",\"SKIN\",\"SALIVARY\",\"OVARY\",\"KIDNEY\",\"BONE\",\"LUNG\",\"KIDNEY\",\"STOMACH\",\"NERVOUS\",\"ENDOMETRIUM\",\"PANCREAS\",\"BREAST\",\"URINARY\",\"THYROID\",\"NERVOUS\",\"THYROID\",\"UPPER\",\"UPPER\",\"UPPER\",\"UPPER\",\"UPPER\",\"UPPER\",\"BREAST\",\"PANCREAS\",\"LARGE\",\"SKIN\",\"KIDNEY\",\"KIDNEY\",\"LUNG\",\"BREAST\",\"BREAST\",\"KIDNEY\",\"BONE\",\"LUNG\",\"LUNG\",\"BREAST\",\"OVARY\",\"PANCREAS\",\"PANCREAS\",\"NERVOUS\",\"PANCREAS\",\"THYROID\",\"LUNG\",\"NERVOUS\",\"SKIN\",\"LARGE\",\"LARGE\",\"LARGE\",\"LUNG\",\"LARGE\",\"SKIN\",\"OESOPHAGUS\",\"SKIN\",\"SKIN\",\"LUNG\",\"OVARY\",\"OVARY\",\"OVARY\",\"OVARY\",\"LARGE\",\"NERVOUS\",\"PANCREAS\",\"NERVOUS\",\"NERVOUS\",\"UPPER\",\"NERVOUS\",\"LARGE\",\"LUNG\",\"LUNG\",\"LUNG\",\"PROSTATE\",\"LUNG\",\"STOMACH\",\"OESOPHAGUS\",\"ENDOMETRIUM\",\"BREAST\",\"OVARY\",\"OVARY\",\"OVARY\",\"ENDOMETRIUM\",\"UPPER\",\"THYROID\",\"THYROID\",\"OVARY\",\"SOFT\",\"NERVOUS\",\"NERVOUS\",\"SOFT\",\"NERVOUS\",\"NERVOUS\",\"NERVOUS\",\"LARGE\",\"NERVOUS\",\"LUNG\",\"LUNG\",\"LUNG\",\"BREAST\",\"BREAST\",\"LUNG\",\"LUNG\",\"BREAST\",\"LUNG\",\"BREAST\",\"LUNG\",\"BREAST\",\"BREAST\",\"BREAST\",\"LUNG\",\"LUNG\",\"LUNG\",\"LUNG\",\"BREAST\",\"LUNG\",\"LUNG\",\"LARGE\",\"LUNG\",\"LUNG\",\"LUNG\",\"LARGE\",\"ENDOMETRIUM\",\"ENDOMETRIUM\",\"ENDOMETRIUM\",\"ENDOMETRIUM\",\"ENDOMETRIUM\",\"ENDOMETRIUM\",\"ENDOMETRIUM\",\"ENDOMETRIUM\",\"ENDOMETRIUM\",\"LIVER\",\"OVARY\",\"LIVER\",\"BREAST\",\"SKIN\",\"PANCREAS\",\"SKIN\",\"NERVOUS\",\"SOFT\",\"STOMACH\",\"PANCREAS\",\"BONE\",\"SKIN\",\"BONE\",\"SKIN\",\"SKIN\",\"SKIN\",\"UPPER\",\"UPPER\",\"UPPER\",\"LARGE\",\"URINARY\",\"URINARY\",\"SKIN\",\"LARGE\",\"LARGE\",\"LIVER\",\"BILIARY\",\"PANCREAS\",\"PANCREAS\",\"LUNG\",\"SKIN\",\"SKIN\",\"SKIN\",\"OVARY\",\"STOMACH\",\"NERVOUS\",\"SKIN\",\"URINARY\",\"LIVER\",\"LIVER\",\"LIVER\",\"LIVER\",\"OVARY\",\"OVARY\",\"OVARY\",\"ENDOMETRIUM\",\"ENDOMETRIUM\",\"ENDOMETRIUM\",\"LUNG\",\"URINARY\",\"SKIN\",\"NERVOUS\",\"STOMACH\",\"STOMACH\",\"ENDOMETRIUM\",\"URINARY\",\"KIDNEY\",\"KIDNEY\",\"KIDNEY\",\"NERVOUS\",\"NERVOUS\",\"LUNG\",\"NERVOUS\",\"PANCREAS\",\"PANCREAS\",\"NERVOUS\",\"URINARY\",\"OVARY\",\"SOFT\",\"OESOPHAGUS\",\"OESOPHAGUS\",\"OESOPHAGUS\",\"OESOPHAGUS\",\"OESOPHAGUS\",\"OESOPHAGUS\",\"OESOPHAGUS\",\"OESOPHAGUS\",\"OESOPHAGUS\",\"PANCREAS\",\"LUNG\",\"LIVER\",\"LUNG\",\"LUNG\",\"STOMACH\",\"NERVOUS\",\"NERVOUS\",\"LUNG\",\"LARGE\",\"LARGE\",\"LARGE\",\"LARGE\",\"LARGE\",\"LARGE\",\"LUNG\",\"LUNG\",\"NERVOUS\",\"OVARY\",\"BREAST\",\"BREAST\",\"BREAST\",\"BREAST\",\"BREAST\",\"SKIN\",\"BREAST\",\"BREAST\",\"BREAST\",\"SKIN\",\"SOFT\",\"SKIN\",\"ENDOMETRIUM\",\"ENDOMETRIUM\",\"BONE\",\"BONE\",\"NERVOUS\",\"PANCREAS\",\"STOMACH\",\"STOMACH\",\"STOMACH\",\"THYROID\",\"LUNG\",\"LUNG\",\"NERVOUS\",\"LUNG\",\"LUNG\",\"LUNG\",\"LUNG\",\"LUNG\",\"LUNG\",\"LUNG\",\"LUNG\",\"LUNG\",\"LUNG\",\"LUNG\",\"LUNG\",\"LUNG\",\"LUNG\",\"LUNG\",\"LUNG\",\"LUNG\",\"LUNG\",\"LUNG\",\"LUNG\",\"LUNG\",\"LUNG\",\"LUNG\",\"LUNG\",\"LUNG\",\"LUNG\",\"LUNG\",\"LUNG\",\"LUNG\",\"LUNG\",\"LUNG\",\"LUNG\",\"LUNG\",\"LUNG\",\"LUNG\",\"LUNG\",\"LUNG\",\"LUNG\",\"LUNG\",\"LUNG\",\"LUNG\",\"LUNG\",\"LUNG\",\"LUNG\",\"LUNG\",\"LARGE\",\"LUNG\",\"LUNG\",\"LUNG\",\"LUNG\",\"LUNG\",\"LUNG\",\"LARGE\",\"LUNG\",\"LUNG\",\"LUNG\",\"STOMACH\",\"OVARY\",\"STOMACH\",\"STOMACH\",\"OVARY\",\"OVARY\",\"STOMACH\",\"OESOPHAGUS\",\"OESOPHAGUS\",\"OESOPHAGUS\",\"OVARY\",\"NERVOUS\",\"KIDNEY\",\"OVARY\",\"OVARY\",\"OVARY\",\"OVARY\",\"OVARY\",\"OVARY\",\"OVARY\",\"OVARY\",\"OVARY\",\"OVARY\",\"PANCREAS\",\"PANCREAS\",\"PANCREAS\",\"PANCREAS\",\"PANCREAS\",\"PANCREAS\",\"PANCREAS\",\"PANCREAS\",\"PANCREAS\",\"LUNG\",\"PROSTATE\",\"UPPER\",\"PANCREAS\",\"PANCREAS\",\"PANCREAS\",\"LIVER\",\"PANCREAS\",\"PANCREAS\",\"KIDNEY\",\"LARGE\",\"SOFT\",\"LUNG\",\"LUNG\",\"LUNG\",\"LUNG\",\"SOFT\",\"SOFT\",\"SOFT\",\"LARGE\",\"ENDOMETRIUM\",\"OVARY\",\"URINARY\",\"URINARY\",\"SKIN\",\"BONE\",\"URINARY\",\"UPPER\",\"UPPER\",\"NERVOUS\",\"LUNG\",\"BONE\",\"BREAST\",\"LARGE\",\"BONE\",\"LIVER\",\"SOFT\",\"LUNG\",\"SKIN\",\"SKIN\",\"SKIN\",\"SKIN\",\"SKIN\",\"SKIN\",\"NERVOUS\",\"BONE\",\"NERVOUS\",\"OVARY\",\"SOFT\",\"LARGE\",\"UPPER\",\"UPPER\",\"ENDOMETRIUM\",\"NERVOUS\",\"OVARY\",\"BILIARY\",\"UPPER\",\"KIDNEY\",\"LARGE\",\"LIVER\",\"STOMACH\",\"BILIARY\",\"LARGE\",\"BILIARY\",\"LIVER\",\"LIVER\",\"LARGE\",\"LIVER\",\"LIVER\",\"UPPER\",\"NERVOUS\",\"LIVER\",\"BILIARY\",\"LARGE\",\"STOMACH\",\"LARGE\",\"STOMACH\",\"ENDOMETRIUM\",\"STOMACH\",\"LIVER\",\"LARGE\",\"OVARY\",\"BILIARY\",\"LIVER\",\"UPPER\",\"LARGE\",\"LARGE\",\"LARGE\",\"PANCREAS\",\"NERVOUS\",\"LARGE\",\"LUNG\",\"LARGE\",\"LARGE\",\"LUNG\",\"URINARY\",\"PANCREAS\",\"LARGE\",\"LARGE\",\"LARGE\",\"THYROID\",\"LARGE\",\"LARGE\",\"URINARY\",\"LUNG\",\"BREAST\",\"LARGE\",\"NERVOUS\",\"PANCREAS\",\"URINARY\",\"OESOPHAGUS\",\"OESOPHAGUS\",\"OESOPHAGUS\",\"SOFT\",\"OESOPHAGUS\",\"OESOPHAGUS\",\"OESOPHAGUS\",\"OESOPHAGUS\",\"SOFT\",\"OESOPHAGUS\",\"OESOPHAGUS\",\"NERVOUS\",\"OVARY\",\"OVARY\",\"THYROID\",\"KIDNEY\",\"OVARY\",\"NERVOUS\",\"NERVOUS\",\"BONE\",\"NERVOUS\",\"URINARY\",\"URINARY\",\"URINARY\",\"URINARY\",\"LUNG\",\"KIDNEY\",\"KIDNEY\",\"SKIN\",\"SKIN\",\"SKIN\",\"SKIN\",\"SKIN\",\"SALIVARY\"],\"x0\":\" \",\"xaxis\":\"x\",\"y\":[0.0,0.02409,0.009217,0.06135,0.01736,0.01292,0.0032329999999999,0.02918,0.0150599999999999,0.0,0.0,0.027,0.0,0.0,0.002007,0.0,0.0196,0.0,0.0,0.01931,0.001773,0.0,0.005742,0.0,0.02174,0.0278899999999999,0.0,0.006885,0.04324,0.0,0.0,0.0,0.0,0.006197,0.0,0.0252599999999999,0.009423,0.0,0.0,0.006372,0.004664,0.0,0.0,0.002132,0.0,0.01489,0.0,0.0,0.0,0.0,0.0,0.0,0.0,0.0,0.02814,0.003035,0.0,0.01909,0.003524,0.0,0.003749,0.0,0.0,0.0,0.002014,0.0,0.0,0.0,0.0,0.03077,0.0,0.0,0.0,0.0,0.04283,0.03424,0.006963,0.0,0.002248,0.001723,0.04344,0.0,0.0,0.0,0.02338,0.0,0.0245,0.0,0.01755,0.003382,0.0,0.0,0.0,0.03786,0.03438,0.03611,0.01351,0.03458,0.008604,0.0059759999999999,0.0,0.02534,0.0,0.009405,0.0,0.01648,0.0,0.0,0.02013,0.02931,0.0,0.007265,0.0,0.0,0.04781,0.003124,0.0,0.0,0.04148,0.0,0.0,0.0,0.0,0.0,0.0,0.0,0.0,0.0,0.0,0.02461,0.02524,0.0,0.0,0.03261,0.0,0.0,0.0,0.0,0.0,0.0,0.0,0.0,0.0,0.0,0.02084,0.0,0.0,0.0,0.03857,0.02905,0.0,0.0,0.02443,0.0,0.0,0.0,0.03172,0.003652,0.03081,0.02162,0.004117,0.002993,0.0,0.02475,0.0,0.006445,0.0,0.0,0.0,0.0,0.02288,0.0134,0.004444,0.0,0.0,0.0,0.006123,0.0,0.01334,0.0,0.01545,0.0202,0.0,0.01073,0.0,0.02011,0.0,0.0,0.0,0.002898,0.0,0.0229599999999999,0.01182,0.0,0.005532,0.0,0.0,0.0,0.0,0.0,0.0,0.0,0.05416,0.01529,0.0,0.0,0.01958,0.0,0.0141,0.002335,0.0,0.0174199999999999,0.01904,0.0389399999999999,0.04082,0.02396,0.03077,0.02387,0.01244,0.02327,0.02926,0.0,0.0263699999999999,0.02147,0.02669,0.04729,0.003317,0.01879,0.0,0.002915,0.0,0.0,0.03229,0.0,0.0,0.005495,0.01522,0.03225,0.0,0.0,0.003834,0.0,0.0,0.02026,0.003829,0.002408,0.0,0.0,0.02534,0.002868,0.007669,0.0058049999999999,0.0,0.0,0.05707,0.0263,0.0,0.0,0.0,0.01239,0.0,0.0,0.0156199999999999,0.0284199999999999,0.005222,0.01824,0.0,0.0,0.0,0.0,0.0,0.0,0.0,0.0,0.0,0.0,0.02256,0.00848,0.0,0.0267399999999999,0.0,0.0,0.0,0.0,0.0,0.005219,0.0,0.0,0.0,0.006953,0.0,0.02028,0.0,0.0,0.01663,0.02249,0.0,0.0,0.0,0.0,0.0,0.0,0.02102,0.02228,0.0,0.0,0.0,0.0,0.0,0.001044,0.01867,0.0,0.0,0.0,0.0,0.03612,0.0153099999999999,0.0,0.0,0.0,0.0,0.01006,0.0,0.02073,0.0,0.006881,0.0301,0.0,0.004236,0.0,0.0149,0.0,0.04771,0.0,0.0,0.0,0.0,0.003789,0.0,0.03082,0.008179,0.02375,0.01341,0.0,0.01881,0.007534,0.0,0.0,0.0,0.0,0.007502,0.0073269999999999,0.0,0.0,0.01653,0.0182699999999999,0.0,0.02376,0.0,0.02396,0.0,0.0,0.0288,0.0,0.0,0.0,0.002434,0.0,0.0,0.03141,0.0,0.02567,0.01309,0.002948,0.0,0.0,0.02222,0.004302,0.003377,0.006783,0.0,0.0,0.01171,0.01398,0.006226,0.01424,0.0175099999999999,0.0139199999999999,0.04636,0.0,0.01792,0.003327,0.0,0.0,0.0,0.0,0.02018,0.006825,0.0,0.0,0.001153,0.0,0.005895,0.0146,0.0,0.0,0.0,0.01965,0.008589,0.0,0.0,0.0107099999999999,0.02038,0.0,0.0,0.01414,0.02041,0.001757,0.0,0.0,0.004532,0.002667,0.0,0.0127,0.0,0.0,0.0,0.01014,0.0,0.0,0.0,0.0,0.02582,0.0,0.01519,0.0,0.001219,0.003295,0.01287,0.002721,0.0,0.0,0.0,0.02339,0.0,0.0387,0.01462,0.0,0.0,0.0,0.03245,0.0,0.001068,0.008762,0.01847,0.04226,0.02429,0.0,0.0,0.0289399999999999,0.01563,0.009017,0.0,0.05113,0.0,0.01212,0.0,0.04113,0.006461,0.02041,0.0,0.0,0.02069,0.02539,0.0510899999999999,0.0,0.02575,0.0,0.0,0.005514,0.0,0.0,0.006454,0.0,0.0,0.0,0.02369,0.03419,0.0381699999999999,0.02274,0.0275899999999999,0.03328,0.0,0.0],\"y0\":\" \",\"yaxis\":\"y\",\"type\":\"violin\"}],                        {\"template\":{\"data\":{\"histogram2dcontour\":[{\"type\":\"histogram2dcontour\",\"colorbar\":{\"outlinewidth\":0,\"ticks\":\"\"},\"colorscale\":[[0.0,\"#0d0887\"],[0.1111111111111111,\"#46039f\"],[0.2222222222222222,\"#7201a8\"],[0.3333333333333333,\"#9c179e\"],[0.4444444444444444,\"#bd3786\"],[0.5555555555555556,\"#d8576b\"],[0.6666666666666666,\"#ed7953\"],[0.7777777777777778,\"#fb9f3a\"],[0.8888888888888888,\"#fdca26\"],[1.0,\"#f0f921\"]]}],\"choropleth\":[{\"type\":\"choropleth\",\"colorbar\":{\"outlinewidth\":0,\"ticks\":\"\"}}],\"histogram2d\":[{\"type\":\"histogram2d\",\"colorbar\":{\"outlinewidth\":0,\"ticks\":\"\"},\"colorscale\":[[0.0,\"#0d0887\"],[0.1111111111111111,\"#46039f\"],[0.2222222222222222,\"#7201a8\"],[0.3333333333333333,\"#9c179e\"],[0.4444444444444444,\"#bd3786\"],[0.5555555555555556,\"#d8576b\"],[0.6666666666666666,\"#ed7953\"],[0.7777777777777778,\"#fb9f3a\"],[0.8888888888888888,\"#fdca26\"],[1.0,\"#f0f921\"]]}],\"heatmap\":[{\"type\":\"heatmap\",\"colorbar\":{\"outlinewidth\":0,\"ticks\":\"\"},\"colorscale\":[[0.0,\"#0d0887\"],[0.1111111111111111,\"#46039f\"],[0.2222222222222222,\"#7201a8\"],[0.3333333333333333,\"#9c179e\"],[0.4444444444444444,\"#bd3786\"],[0.5555555555555556,\"#d8576b\"],[0.6666666666666666,\"#ed7953\"],[0.7777777777777778,\"#fb9f3a\"],[0.8888888888888888,\"#fdca26\"],[1.0,\"#f0f921\"]]}],\"heatmapgl\":[{\"type\":\"heatmapgl\",\"colorbar\":{\"outlinewidth\":0,\"ticks\":\"\"},\"colorscale\":[[0.0,\"#0d0887\"],[0.1111111111111111,\"#46039f\"],[0.2222222222222222,\"#7201a8\"],[0.3333333333333333,\"#9c179e\"],[0.4444444444444444,\"#bd3786\"],[0.5555555555555556,\"#d8576b\"],[0.6666666666666666,\"#ed7953\"],[0.7777777777777778,\"#fb9f3a\"],[0.8888888888888888,\"#fdca26\"],[1.0,\"#f0f921\"]]}],\"contourcarpet\":[{\"type\":\"contourcarpet\",\"colorbar\":{\"outlinewidth\":0,\"ticks\":\"\"}}],\"contour\":[{\"type\":\"contour\",\"colorbar\":{\"outlinewidth\":0,\"ticks\":\"\"},\"colorscale\":[[0.0,\"#0d0887\"],[0.1111111111111111,\"#46039f\"],[0.2222222222222222,\"#7201a8\"],[0.3333333333333333,\"#9c179e\"],[0.4444444444444444,\"#bd3786\"],[0.5555555555555556,\"#d8576b\"],[0.6666666666666666,\"#ed7953\"],[0.7777777777777778,\"#fb9f3a\"],[0.8888888888888888,\"#fdca26\"],[1.0,\"#f0f921\"]]}],\"surface\":[{\"type\":\"surface\",\"colorbar\":{\"outlinewidth\":0,\"ticks\":\"\"},\"colorscale\":[[0.0,\"#0d0887\"],[0.1111111111111111,\"#46039f\"],[0.2222222222222222,\"#7201a8\"],[0.3333333333333333,\"#9c179e\"],[0.4444444444444444,\"#bd3786\"],[0.5555555555555556,\"#d8576b\"],[0.6666666666666666,\"#ed7953\"],[0.7777777777777778,\"#fb9f3a\"],[0.8888888888888888,\"#fdca26\"],[1.0,\"#f0f921\"]]}],\"mesh3d\":[{\"type\":\"mesh3d\",\"colorbar\":{\"outlinewidth\":0,\"ticks\":\"\"}}],\"scatter\":[{\"marker\":{\"line\":{\"color\":\"#283442\"}},\"type\":\"scatter\"}],\"parcoords\":[{\"type\":\"parcoords\",\"line\":{\"colorbar\":{\"outlinewidth\":0,\"ticks\":\"\"}}}],\"scatterpolargl\":[{\"type\":\"scatterpolargl\",\"marker\":{\"colorbar\":{\"outlinewidth\":0,\"ticks\":\"\"}}}],\"bar\":[{\"error_x\":{\"color\":\"#f2f5fa\"},\"error_y\":{\"color\":\"#f2f5fa\"},\"marker\":{\"line\":{\"color\":\"rgb(17,17,17)\",\"width\":0.5},\"pattern\":{\"fillmode\":\"overlay\",\"size\":10,\"solidity\":0.2}},\"type\":\"bar\"}],\"scattergeo\":[{\"type\":\"scattergeo\",\"marker\":{\"colorbar\":{\"outlinewidth\":0,\"ticks\":\"\"}}}],\"scatterpolar\":[{\"type\":\"scatterpolar\",\"marker\":{\"colorbar\":{\"outlinewidth\":0,\"ticks\":\"\"}}}],\"histogram\":[{\"marker\":{\"pattern\":{\"fillmode\":\"overlay\",\"size\":10,\"solidity\":0.2}},\"type\":\"histogram\"}],\"scattergl\":[{\"marker\":{\"line\":{\"color\":\"#283442\"}},\"type\":\"scattergl\"}],\"scatter3d\":[{\"type\":\"scatter3d\",\"line\":{\"colorbar\":{\"outlinewidth\":0,\"ticks\":\"\"}},\"marker\":{\"colorbar\":{\"outlinewidth\":0,\"ticks\":\"\"}}}],\"scattermapbox\":[{\"type\":\"scattermapbox\",\"marker\":{\"colorbar\":{\"outlinewidth\":0,\"ticks\":\"\"}}}],\"scatterternary\":[{\"type\":\"scatterternary\",\"marker\":{\"colorbar\":{\"outlinewidth\":0,\"ticks\":\"\"}}}],\"scattercarpet\":[{\"type\":\"scattercarpet\",\"marker\":{\"colorbar\":{\"outlinewidth\":0,\"ticks\":\"\"}}}],\"carpet\":[{\"aaxis\":{\"endlinecolor\":\"#A2B1C6\",\"gridcolor\":\"#506784\",\"linecolor\":\"#506784\",\"minorgridcolor\":\"#506784\",\"startlinecolor\":\"#A2B1C6\"},\"baxis\":{\"endlinecolor\":\"#A2B1C6\",\"gridcolor\":\"#506784\",\"linecolor\":\"#506784\",\"minorgridcolor\":\"#506784\",\"startlinecolor\":\"#A2B1C6\"},\"type\":\"carpet\"}],\"table\":[{\"cells\":{\"fill\":{\"color\":\"#506784\"},\"line\":{\"color\":\"rgb(17,17,17)\"}},\"header\":{\"fill\":{\"color\":\"#2a3f5f\"},\"line\":{\"color\":\"rgb(17,17,17)\"}},\"type\":\"table\"}],\"barpolar\":[{\"marker\":{\"line\":{\"color\":\"rgb(17,17,17)\",\"width\":0.5},\"pattern\":{\"fillmode\":\"overlay\",\"size\":10,\"solidity\":0.2}},\"type\":\"barpolar\"}],\"pie\":[{\"automargin\":true,\"type\":\"pie\"}]},\"layout\":{\"autotypenumbers\":\"strict\",\"colorway\":[\"#636efa\",\"#EF553B\",\"#00cc96\",\"#ab63fa\",\"#FFA15A\",\"#19d3f3\",\"#FF6692\",\"#B6E880\",\"#FF97FF\",\"#FECB52\"],\"font\":{\"color\":\"#f2f5fa\"},\"hovermode\":\"closest\",\"hoverlabel\":{\"align\":\"left\"},\"paper_bgcolor\":\"rgb(17,17,17)\",\"plot_bgcolor\":\"rgb(17,17,17)\",\"polar\":{\"bgcolor\":\"rgb(17,17,17)\",\"angularaxis\":{\"gridcolor\":\"#506784\",\"linecolor\":\"#506784\",\"ticks\":\"\"},\"radialaxis\":{\"gridcolor\":\"#506784\",\"linecolor\":\"#506784\",\"ticks\":\"\"}},\"ternary\":{\"bgcolor\":\"rgb(17,17,17)\",\"aaxis\":{\"gridcolor\":\"#506784\",\"linecolor\":\"#506784\",\"ticks\":\"\"},\"baxis\":{\"gridcolor\":\"#506784\",\"linecolor\":\"#506784\",\"ticks\":\"\"},\"caxis\":{\"gridcolor\":\"#506784\",\"linecolor\":\"#506784\",\"ticks\":\"\"}},\"coloraxis\":{\"colorbar\":{\"outlinewidth\":0,\"ticks\":\"\"}},\"colorscale\":{\"sequential\":[[0.0,\"#0d0887\"],[0.1111111111111111,\"#46039f\"],[0.2222222222222222,\"#7201a8\"],[0.3333333333333333,\"#9c179e\"],[0.4444444444444444,\"#bd3786\"],[0.5555555555555556,\"#d8576b\"],[0.6666666666666666,\"#ed7953\"],[0.7777777777777778,\"#fb9f3a\"],[0.8888888888888888,\"#fdca26\"],[1.0,\"#f0f921\"]],\"sequentialminus\":[[0.0,\"#0d0887\"],[0.1111111111111111,\"#46039f\"],[0.2222222222222222,\"#7201a8\"],[0.3333333333333333,\"#9c179e\"],[0.4444444444444444,\"#bd3786\"],[0.5555555555555556,\"#d8576b\"],[0.6666666666666666,\"#ed7953\"],[0.7777777777777778,\"#fb9f3a\"],[0.8888888888888888,\"#fdca26\"],[1.0,\"#f0f921\"]],\"diverging\":[[0,\"#8e0152\"],[0.1,\"#c51b7d\"],[0.2,\"#de77ae\"],[0.3,\"#f1b6da\"],[0.4,\"#fde0ef\"],[0.5,\"#f7f7f7\"],[0.6,\"#e6f5d0\"],[0.7,\"#b8e186\"],[0.8,\"#7fbc41\"],[0.9,\"#4d9221\"],[1,\"#276419\"]]},\"xaxis\":{\"gridcolor\":\"#283442\",\"linecolor\":\"#506784\",\"ticks\":\"\",\"title\":{\"standoff\":15},\"zerolinecolor\":\"#283442\",\"automargin\":true,\"zerolinewidth\":2},\"yaxis\":{\"gridcolor\":\"#283442\",\"linecolor\":\"#506784\",\"ticks\":\"\",\"title\":{\"standoff\":15},\"zerolinecolor\":\"#283442\",\"automargin\":true,\"zerolinewidth\":2},\"scene\":{\"xaxis\":{\"backgroundcolor\":\"rgb(17,17,17)\",\"gridcolor\":\"#506784\",\"linecolor\":\"#506784\",\"showbackground\":true,\"ticks\":\"\",\"zerolinecolor\":\"#C8D4E3\",\"gridwidth\":2},\"yaxis\":{\"backgroundcolor\":\"rgb(17,17,17)\",\"gridcolor\":\"#506784\",\"linecolor\":\"#506784\",\"showbackground\":true,\"ticks\":\"\",\"zerolinecolor\":\"#C8D4E3\",\"gridwidth\":2},\"zaxis\":{\"backgroundcolor\":\"rgb(17,17,17)\",\"gridcolor\":\"#506784\",\"linecolor\":\"#506784\",\"showbackground\":true,\"ticks\":\"\",\"zerolinecolor\":\"#C8D4E3\",\"gridwidth\":2}},\"shapedefaults\":{\"line\":{\"color\":\"#f2f5fa\"}},\"annotationdefaults\":{\"arrowcolor\":\"#f2f5fa\",\"arrowhead\":0,\"arrowwidth\":1},\"geo\":{\"bgcolor\":\"rgb(17,17,17)\",\"landcolor\":\"rgb(17,17,17)\",\"subunitcolor\":\"#506784\",\"showland\":true,\"showlakes\":true,\"lakecolor\":\"rgb(17,17,17)\"},\"title\":{\"x\":0.05},\"updatemenudefaults\":{\"bgcolor\":\"#506784\",\"borderwidth\":0},\"sliderdefaults\":{\"bgcolor\":\"#C8D4E3\",\"borderwidth\":1,\"bordercolor\":\"rgb(17,17,17)\",\"tickwidth\":0},\"mapbox\":{\"style\":\"dark\"}}},\"xaxis\":{\"anchor\":\"y\",\"domain\":[0.0,1.0],\"title\":{\"text\":\"LABELS\"}},\"yaxis\":{\"anchor\":\"x\",\"domain\":[0.0,1.0],\"title\":{\"text\":\"beta\"}},\"legend\":{\"tracegroupgap\":0},\"margin\":{\"t\":60},\"violinmode\":\"group\"},                        {\"responsive\": true}                    ).then(function(){\n                            \nvar gd = document.getElementById('d0436fe4-1246-4113-982a-03f08e7bb61e');\nvar x = new MutationObserver(function (mutations, observer) {{\n        var display = window.getComputedStyle(gd).display;\n        if (!display || display === 'none') {{\n            console.log([gd, 'removed!']);\n            Plotly.purge(gd);\n            observer.disconnect();\n        }}\n}});\n\n// Listen for the removal of the full notebook cells\nvar notebookContainer = gd.closest('#notebook-container');\nif (notebookContainer) {{\n    x.observe(notebookContainer, {childList: true});\n}}\n\n// Listen for the clearing of the current output cell\nvar outputEl = gd.closest('.output');\nif (outputEl) {{\n    x.observe(outputEl, {childList: true});\n}}\n\n                        })                };                });            </script>        </div>"
     },
     "metadata": {},
     "output_type": "display_data"
    }
   ],
   "source": [
    "import plotly.express as px\n",
    "\n",
    "px.violin(corrected_df,\n",
    "         x=\"LABELS\",\n",
    "         y=\"beta\",\n",
    "          points='all',\n",
    "         category_orders={\"labels\": ordered_list_alpha})"
   ],
   "metadata": {
    "collapsed": false,
    "pycharm": {
     "name": "#%%\n"
    }
   }
  },
  {
   "cell_type": "code",
   "execution_count": 14,
   "outputs": [
    {
     "data": {
      "text/plain": "<Figure size 2160x1152 with 1 Axes>",
      "image/png": "[encoded data removed]"
     },
     "metadata": {},
     "output_type": "display_data"
    }
   ],
   "source": [
    "from matplotlib import rcParams, pyplot as plt\n",
    "\n",
    "rcParams['figure.figsize'] = 30,16\n",
    "ax = sns.violinplot(x=\"LABELS\", y=\"beta\", data=corrected_df, order=ordered_list_beta)\n",
    "ax.tick_params(axis='x', rotation=90)"
   ],
   "metadata": {
    "collapsed": false,
    "pycharm": {
     "name": "#%%\n"
    }
   }
  }
 ],
 "metadata": {
  "kernelspec": {
   "display_name": "Python 3",
   "language": "python",
   "name": "python3"
  },
  "language_info": {
   "codemirror_mode": {
    "name": "ipython",
    "version": 2
   },
   "file_extension": ".py",
   "mimetype": "text/x-python",
   "name": "python",
   "nbconvert_exporter": "python",
   "pygments_lexer": "ipython2",
   "version": "2.7.6"
  }
 },
 "nbformat": 4,
 "nbformat_minor": 0
}