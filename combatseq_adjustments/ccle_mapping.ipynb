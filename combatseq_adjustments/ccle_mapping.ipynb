{
 "cells": [
  {
   "cell_type": "code",
   "execution_count": 1,
   "outputs": [],
   "source": [
    "import pandas as pd"
   ],
   "metadata": {
    "collapsed": false,
    "pycharm": {
     "name": "#%%\n"
    }
   }
  },
  {
   "cell_type": "code",
   "execution_count": 2,
   "outputs": [],
   "source": [
    "df = pd.read_csv('CCLE_expression_proteincoding_genes_expected_count.csv')"
   ],
   "metadata": {
    "collapsed": false,
    "pycharm": {
     "name": "#%%\n"
    }
   }
  },
  {
   "cell_type": "code",
   "execution_count": 4,
   "outputs": [
    {
     "data": {
      "text/plain": "                     0           1           2           3           4     \\\nUnnamed: 0     ACH-001113  ACH-001289  ACH-001339  ACH-001538  ACH-000242   \nTSPAN6 (7105)      2383.0      2529.0      1552.0      5657.0     22806.0   \nTNMD (64102)          0.0        13.0         0.0         0.0         0.0   \nDPM1 (8813)        5332.8      3978.0      8303.0      6309.2      5090.6   \nSCYL3 (57147)      961.53      555.83      849.46      1056.5      1109.1   \n\n                     5           6           7           8           9     \\\nUnnamed: 0     ACH-000708  ACH-000327  ACH-000233  ACH-000461  ACH-000705   \nTSPAN6 (7105)      3390.0      2265.0         8.0      3318.0      3164.0   \nTNMD (64102)          5.0         0.0         0.0         0.0         0.0   \nDPM1 (8813)        6578.5      3972.5      3274.0      5409.0      3541.5   \nSCYL3 (57147)      1087.4      703.07      2574.5      859.23      798.81   \n\n               ...        1396        1397        1398        1399  \\\nUnnamed: 0     ...  ACH-001578  ACH-000036  ACH-000973  ACH-001128   \nTSPAN6 (7105)  ...     18976.0      2382.0      3223.0      5978.0   \nTNMD (64102)   ...       271.0         0.0         0.0         0.0   \nDPM1 (8813)    ...      8622.2      4363.0      6057.5      1865.0   \nSCYL3 (57147)  ...      1309.5      691.45      510.89      437.67   \n\n                     1400        1401        1402        1403        1404  \\\nUnnamed: 0     ACH-000750  ACH-000285  ACH-002669  ACH-001858  ACH-001997   \nTSPAN6 (7105)      1959.0         9.0      1485.0      4790.0     41694.0   \nTNMD (64102)          0.0         0.0         0.0         0.0         0.0   \nDPM1 (8813)        4472.0      5703.7      6347.0      7969.0     68557.0   \nSCYL3 (57147)      554.01      2220.7      415.14      825.67      7315.7   \n\n                     1405  \nUnnamed: 0     ACH-000052  \nTSPAN6 (7105)      3188.0  \nTNMD (64102)          0.0  \nDPM1 (8813)        3680.0  \nSCYL3 (57147)      930.41  \n\n[5 rows x 1406 columns]",
      "text/html": "<div>\n<style scoped>\n    .dataframe tbody tr th:only-of-type {\n        vertical-align: middle;\n    }\n\n    .dataframe tbody tr th {\n        vertical-align: top;\n    }\n\n    .dataframe thead th {\n        text-align: right;\n    }\n</style>\n<table border=\"1\" class=\"dataframe\">\n  <thead>\n    <tr style=\"text-align: right;\">\n      <th></th>\n      <th>0</th>\n      <th>1</th>\n      <th>2</th>\n      <th>3</th>\n      <th>4</th>\n      <th>5</th>\n      <th>6</th>\n      <th>7</th>\n      <th>8</th>\n      <th>9</th>\n      <th>...</th>\n      <th>1396</th>\n      <th>1397</th>\n      <th>1398</th>\n      <th>1399</th>\n      <th>1400</th>\n      <th>1401</th>\n      <th>1402</th>\n      <th>1403</th>\n      <th>1404</th>\n      <th>1405</th>\n    </tr>\n  </thead>\n  <tbody>\n    <tr>\n      <th>Unnamed: 0</th>\n      <td>ACH-001113</td>\n      <td>ACH-001289</td>\n      <td>ACH-001339</td>\n      <td>ACH-001538</td>\n      <td>ACH-000242</td>\n      <td>ACH-000708</td>\n      <td>ACH-000327</td>\n      <td>ACH-000233</td>\n      <td>ACH-000461</td>\n      <td>ACH-000705</td>\n      <td>...</td>\n      <td>ACH-001578</td>\n      <td>ACH-000036</td>\n      <td>ACH-000973</td>\n      <td>ACH-001128</td>\n      <td>ACH-000750</td>\n      <td>ACH-000285</td>\n      <td>ACH-002669</td>\n      <td>ACH-001858</td>\n      <td>ACH-001997</td>\n      <td>ACH-000052</td>\n    </tr>\n    <tr>\n      <th>TSPAN6 (7105)</th>\n      <td>2383.0</td>\n      <td>2529.0</td>\n      <td>1552.0</td>\n      <td>5657.0</td>\n      <td>22806.0</td>\n      <td>3390.0</td>\n      <td>2265.0</td>\n      <td>8.0</td>\n      <td>3318.0</td>\n      <td>3164.0</td>\n      <td>...</td>\n      <td>18976.0</td>\n      <td>2382.0</td>\n      <td>3223.0</td>\n      <td>5978.0</td>\n      <td>1959.0</td>\n      <td>9.0</td>\n      <td>1485.0</td>\n      <td>4790.0</td>\n      <td>41694.0</td>\n      <td>3188.0</td>\n    </tr>\n    <tr>\n      <th>TNMD (64102)</th>\n      <td>0.0</td>\n      <td>13.0</td>\n      <td>0.0</td>\n      <td>0.0</td>\n      <td>0.0</td>\n      <td>5.0</td>\n      <td>0.0</td>\n      <td>0.0</td>\n      <td>0.0</td>\n      <td>0.0</td>\n      <td>...</td>\n      <td>271.0</td>\n      <td>0.0</td>\n      <td>0.0</td>\n      <td>0.0</td>\n      <td>0.0</td>\n      <td>0.0</td>\n      <td>0.0</td>\n      <td>0.0</td>\n      <td>0.0</td>\n      <td>0.0</td>\n    </tr>\n    <tr>\n      <th>DPM1 (8813)</th>\n      <td>5332.8</td>\n      <td>3978.0</td>\n      <td>8303.0</td>\n      <td>6309.2</td>\n      <td>5090.6</td>\n      <td>6578.5</td>\n      <td>3972.5</td>\n      <td>3274.0</td>\n      <td>5409.0</td>\n      <td>3541.5</td>\n      <td>...</td>\n      <td>8622.2</td>\n      <td>4363.0</td>\n      <td>6057.5</td>\n      <td>1865.0</td>\n      <td>4472.0</td>\n      <td>5703.7</td>\n      <td>6347.0</td>\n      <td>7969.0</td>\n      <td>68557.0</td>\n      <td>3680.0</td>\n    </tr>\n    <tr>\n      <th>SCYL3 (57147)</th>\n      <td>961.53</td>\n      <td>555.83</td>\n      <td>849.46</td>\n      <td>1056.5</td>\n      <td>1109.1</td>\n      <td>1087.4</td>\n      <td>703.07</td>\n      <td>2574.5</td>\n      <td>859.23</td>\n      <td>798.81</td>\n      <td>...</td>\n      <td>1309.5</td>\n      <td>691.45</td>\n      <td>510.89</td>\n      <td>437.67</td>\n      <td>554.01</td>\n      <td>2220.7</td>\n      <td>415.14</td>\n      <td>825.67</td>\n      <td>7315.7</td>\n      <td>930.41</td>\n    </tr>\n  </tbody>\n</table>\n<p>5 rows × 1406 columns</p>\n</div>"
     },
     "execution_count": 4,
     "metadata": {},
     "output_type": "execute_result"
    }
   ],
   "source": [
    "df.head()\n",
    "df.transpose().head()"
   ],
   "metadata": {
    "collapsed": false,
    "pycharm": {
     "name": "#%%\n"
    }
   }
  },
  {
   "cell_type": "code",
   "execution_count": 4,
   "outputs": [
    {
     "data": {
      "text/plain": "       TSPAN6 (7105)  TNMD (64102)  DPM1 (8813)  SCYL3 (57147)  \\\ncount    1406.000000   1406.000000   1406.00000    1406.000000   \nmean     2959.075391      5.412518   5012.83702    1019.789993   \nstd      3980.974103     49.606284   4077.77934     772.137137   \nmin         0.000000      0.000000    762.00000     226.780000   \n25%       904.500000      0.000000   3020.62500     603.887500   \n50%      2121.000000      0.000000   4114.10000     843.995000   \n75%      3707.750000      0.000000   5717.75000    1184.175000   \nmax     57012.000000   1365.000000  68557.00000   10544.000000   \n\n       C1orf112 (55732)    FGR (2268)     CFH (3075)   FUCA2 (2519)  \\\ncount       1406.000000   1406.000000    1406.000000    1406.000000   \nmean        1578.527838    391.404694    2975.894275    6878.525484   \nstd         1068.132839   2182.014592    9268.084055    7564.465514   \nmin           13.760000      0.000000       0.000000       0.000000   \n25%          928.855000      1.000000      14.000000    2920.550000   \n50%         1354.400000      3.000000     191.655000    5768.550000   \n75%         1948.025000     10.000000    2243.925000    9227.825000   \nmax        11024.000000  28542.000000  198030.000000  138340.000000   \n\n        GCLC (2729)   NFYA (4800)  ...  H3C2 (8358)  H3C3 (8352)  \\\ncount   1406.000000   1406.000000  ...  1406.000000  1406.000000   \nmean    5216.074253   4130.303677  ...    22.886202    14.802987   \nstd     7305.091699   2806.343614  ...    33.752667    25.302644   \nmin      181.000000    415.000000  ...     0.000000     0.000000   \n25%     1863.500000   2503.150000  ...     7.000000     1.000000   \n50%     3128.250000   3426.500000  ...    13.000000     7.000000   \n75%     5660.000000   4900.675000  ...    27.000000    18.000000   \nmax    93539.000000  36278.000000  ...   476.000000   301.000000   \n\n       AC098582.1 (8916)  DUS4L-BCAP29 (115253422)  C8orf44-SGK3 (100533105)  \\\ncount        1406.000000               1406.000000               1406.000000   \nmean          120.084872               1275.750967                 14.407297   \nstd           147.354811                992.340118                 19.185633   \nmin             0.000000                 95.180000                  0.000000   \n25%            41.362500                682.540000                  2.747500   \n50%            83.830000               1010.850000                  8.390000   \n75%           151.170000               1568.125000                 18.825000   \nmax          2710.600000              13550.000000                198.000000   \n\n       ELOA3B (728929)  NPBWR1 (2831)  ELOA3D (100506888)  ELOA3 (162699)  \\\ncount      1406.000000    1406.000000         1406.000000     1406.000000   \nmean          1.123314      94.418919            1.189772        1.551358   \nstd           3.608452     335.340068            4.245000        4.952565   \nmin           0.000000       0.000000            0.000000        0.000000   \n25%           0.000000       0.000000            0.000000        0.000000   \n50%           0.000000       2.500000            0.000000        0.000000   \n75%           0.670000      35.000000            0.330000        0.942500   \nmax          51.670000    3946.000000           82.210000       75.830000   \n\n       CDR1 (1038)  \ncount  1406.000000  \nmean      1.362902  \nstd       4.183553  \nmin       0.000000  \n25%       0.000000  \n50%       0.000000  \n75%       0.015000  \nmax      45.860000  \n\n[8 rows x 19221 columns]",
      "text/html": "<div>\n<style scoped>\n    .dataframe tbody tr th:only-of-type {\n        vertical-align: middle;\n    }\n\n    .dataframe tbody tr th {\n        vertical-align: top;\n    }\n\n    .dataframe thead th {\n        text-align: right;\n    }\n</style>\n<table border=\"1\" class=\"dataframe\">\n  <thead>\n    <tr style=\"text-align: right;\">\n      <th></th>\n      <th>TSPAN6 (7105)</th>\n      <th>TNMD (64102)</th>\n      <th>DPM1 (8813)</th>\n      <th>SCYL3 (57147)</th>\n      <th>C1orf112 (55732)</th>\n      <th>FGR (2268)</th>\n      <th>CFH (3075)</th>\n      <th>FUCA2 (2519)</th>\n      <th>GCLC (2729)</th>\n      <th>NFYA (4800)</th>\n      <th>...</th>\n      <th>H3C2 (8358)</th>\n      <th>H3C3 (8352)</th>\n      <th>AC098582.1 (8916)</th>\n      <th>DUS4L-BCAP29 (115253422)</th>\n      <th>C8orf44-SGK3 (100533105)</th>\n      <th>ELOA3B (728929)</th>\n      <th>NPBWR1 (2831)</th>\n      <th>ELOA3D (100506888)</th>\n      <th>ELOA3 (162699)</th>\n      <th>CDR1 (1038)</th>\n    </tr>\n  </thead>\n  <tbody>\n    <tr>\n      <th>count</th>\n      <td>1406.000000</td>\n      <td>1406.000000</td>\n      <td>1406.00000</td>\n      <td>1406.000000</td>\n      <td>1406.000000</td>\n      <td>1406.000000</td>\n      <td>1406.000000</td>\n      <td>1406.000000</td>\n      <td>1406.000000</td>\n      <td>1406.000000</td>\n      <td>...</td>\n      <td>1406.000000</td>\n      <td>1406.000000</td>\n      <td>1406.000000</td>\n      <td>1406.000000</td>\n      <td>1406.000000</td>\n      <td>1406.000000</td>\n      <td>1406.000000</td>\n      <td>1406.000000</td>\n      <td>1406.000000</td>\n      <td>1406.000000</td>\n    </tr>\n    <tr>\n      <th>mean</th>\n      <td>2959.075391</td>\n      <td>5.412518</td>\n      <td>5012.83702</td>\n      <td>1019.789993</td>\n      <td>1578.527838</td>\n      <td>391.404694</td>\n      <td>2975.894275</td>\n      <td>6878.525484</td>\n      <td>5216.074253</td>\n      <td>4130.303677</td>\n      <td>...</td>\n      <td>22.886202</td>\n      <td>14.802987</td>\n      <td>120.084872</td>\n      <td>1275.750967</td>\n      <td>14.407297</td>\n      <td>1.123314</td>\n      <td>94.418919</td>\n      <td>1.189772</td>\n      <td>1.551358</td>\n      <td>1.362902</td>\n    </tr>\n    <tr>\n      <th>std</th>\n      <td>3980.974103</td>\n      <td>49.606284</td>\n      <td>4077.77934</td>\n      <td>772.137137</td>\n      <td>1068.132839</td>\n      <td>2182.014592</td>\n      <td>9268.084055</td>\n      <td>7564.465514</td>\n      <td>7305.091699</td>\n      <td>2806.343614</td>\n      <td>...</td>\n      <td>33.752667</td>\n      <td>25.302644</td>\n      <td>147.354811</td>\n      <td>992.340118</td>\n      <td>19.185633</td>\n      <td>3.608452</td>\n      <td>335.340068</td>\n      <td>4.245000</td>\n      <td>4.952565</td>\n      <td>4.183553</td>\n    </tr>\n    <tr>\n      <th>min</th>\n      <td>0.000000</td>\n      <td>0.000000</td>\n      <td>762.00000</td>\n      <td>226.780000</td>\n      <td>13.760000</td>\n      <td>0.000000</td>\n      <td>0.000000</td>\n      <td>0.000000</td>\n      <td>181.000000</td>\n      <td>415.000000</td>\n      <td>...</td>\n      <td>0.000000</td>\n      <td>0.000000</td>\n      <td>0.000000</td>\n      <td>95.180000</td>\n      <td>0.000000</td>\n      <td>0.000000</td>\n      <td>0.000000</td>\n      <td>0.000000</td>\n      <td>0.000000</td>\n      <td>0.000000</td>\n    </tr>\n    <tr>\n      <th>25%</th>\n      <td>904.500000</td>\n      <td>0.000000</td>\n      <td>3020.62500</td>\n      <td>603.887500</td>\n      <td>928.855000</td>\n      <td>1.000000</td>\n      <td>14.000000</td>\n      <td>2920.550000</td>\n      <td>1863.500000</td>\n      <td>2503.150000</td>\n      <td>...</td>\n      <td>7.000000</td>\n      <td>1.000000</td>\n      <td>41.362500</td>\n      <td>682.540000</td>\n      <td>2.747500</td>\n      <td>0.000000</td>\n      <td>0.000000</td>\n      <td>0.000000</td>\n      <td>0.000000</td>\n      <td>0.000000</td>\n    </tr>\n    <tr>\n      <th>50%</th>\n      <td>2121.000000</td>\n      <td>0.000000</td>\n      <td>4114.10000</td>\n      <td>843.995000</td>\n      <td>1354.400000</td>\n      <td>3.000000</td>\n      <td>191.655000</td>\n      <td>5768.550000</td>\n      <td>3128.250000</td>\n      <td>3426.500000</td>\n      <td>...</td>\n      <td>13.000000</td>\n      <td>7.000000</td>\n      <td>83.830000</td>\n      <td>1010.850000</td>\n      <td>8.390000</td>\n      <td>0.000000</td>\n      <td>2.500000</td>\n      <td>0.000000</td>\n      <td>0.000000</td>\n      <td>0.000000</td>\n    </tr>\n    <tr>\n      <th>75%</th>\n      <td>3707.750000</td>\n      <td>0.000000</td>\n      <td>5717.75000</td>\n      <td>1184.175000</td>\n      <td>1948.025000</td>\n      <td>10.000000</td>\n      <td>2243.925000</td>\n      <td>9227.825000</td>\n      <td>5660.000000</td>\n      <td>4900.675000</td>\n      <td>...</td>\n      <td>27.000000</td>\n      <td>18.000000</td>\n      <td>151.170000</td>\n      <td>1568.125000</td>\n      <td>18.825000</td>\n      <td>0.670000</td>\n      <td>35.000000</td>\n      <td>0.330000</td>\n      <td>0.942500</td>\n      <td>0.015000</td>\n    </tr>\n    <tr>\n      <th>max</th>\n      <td>57012.000000</td>\n      <td>1365.000000</td>\n      <td>68557.00000</td>\n      <td>10544.000000</td>\n      <td>11024.000000</td>\n      <td>28542.000000</td>\n      <td>198030.000000</td>\n      <td>138340.000000</td>\n      <td>93539.000000</td>\n      <td>36278.000000</td>\n      <td>...</td>\n      <td>476.000000</td>\n      <td>301.000000</td>\n      <td>2710.600000</td>\n      <td>13550.000000</td>\n      <td>198.000000</td>\n      <td>51.670000</td>\n      <td>3946.000000</td>\n      <td>82.210000</td>\n      <td>75.830000</td>\n      <td>45.860000</td>\n    </tr>\n  </tbody>\n</table>\n<p>8 rows × 19221 columns</p>\n</div>"
     },
     "execution_count": 4,
     "metadata": {},
     "output_type": "execute_result"
    }
   ],
   "source": [
    "df.describe()"
   ],
   "metadata": {
    "collapsed": false,
    "pycharm": {
     "name": "#%%\n"
    }
   }
  },
  {
   "cell_type": "code",
   "execution_count": null,
   "outputs": [],
   "source": [
    "merge new df (make sure its aligned) to the above transposed df\n",
    "get a list of which columns are with which df"
   ],
   "metadata": {
    "collapsed": false,
    "pycharm": {
     "name": "#%%\n"
    }
   }
  }
 ],
 "metadata": {
  "kernelspec": {
   "display_name": "Python 3",
   "language": "python",
   "name": "python3"
  },
  "language_info": {
   "codemirror_mode": {
    "name": "ipython",
    "version": 2
   },
   "file_extension": ".py",
   "mimetype": "text/x-python",
   "name": "python",
   "nbconvert_exporter": "python",
   "pygments_lexer": "ipython2",
   "version": "2.7.6"
  }
 },
 "nbformat": 4,
 "nbformat_minor": 0
}